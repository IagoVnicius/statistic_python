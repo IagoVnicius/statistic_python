{
  "cells": [
    {
      "cell_type": "markdown",
      "metadata": {
        "id": "view-in-github",
        "colab_type": "text"
      },
      "source": [
        "<a href=\"https://colab.research.google.com/github/IagoVnicius/statistic_python/blob/main/Curso_de_Estat%C3%ADstica_Parte_1.ipynb\" target=\"_parent\"><img src=\"https://colab.research.google.com/assets/colab-badge.svg\" alt=\"Open In Colab\"/></a>"
      ]
    },
    {
      "cell_type": "markdown",
      "metadata": {
        "id": "WvMflodMjQKe"
      },
      "source": [
        "***\n",
        "# <font color=green size=10>CURSO DE ESTATÍSTICA - PARTE 1</font>\n",
        "***"
      ]
    },
    {
      "cell_type": "markdown",
      "metadata": {
        "id": "cVgsZ_E3jQKg"
      },
      "source": [
        "# <font color=green>1 CONHECENDO OS DADOS</font>\n",
        "***"
      ]
    },
    {
      "cell_type": "markdown",
      "metadata": {
        "id": "TDjqYYNojQKh"
      },
      "source": [
        "## <font color=green>1.1 Dataset do projeto</font>\n",
        "***"
      ]
    },
    {
      "cell_type": "markdown",
      "metadata": {
        "id": "iN1gIbaKjQKh"
      },
      "source": [
        "### Pesquisa Nacional por Amostra de Domicílios - 2015\n",
        "\n",
        "A <b>Pesquisa Nacional por Amostra de Domicílios - PNAD</b> investiga anualmente, de forma permanente, características gerais da população, de educação, trabalho, rendimento e habitação e outras, com periodicidade variável, de acordo com as necessidades de informação para o país, como as características sobre migração, fecundidade, nupcialidade, saúde, segurança alimentar, entre outros temas. O levantamento dessas estatísticas constitui, ao longo dos 49 anos de realização da pesquisa, um importante instrumento para formulação, validação e avaliação de políticas orientadas para o desenvolvimento socioeconômico e a melhoria das condições de vida no Brasil."
      ]
    },
    {
      "cell_type": "markdown",
      "metadata": {
        "id": "U6V7br1RjQKi"
      },
      "source": [
        "### Fonte dos Dados\n",
        "\n",
        "https://ww2.ibge.gov.br/home/estatistica/populacao/trabalhoerendimento/pnad2015/microdados.shtm"
      ]
    },
    {
      "cell_type": "markdown",
      "metadata": {
        "id": "r0Fe_qnzjQKj"
      },
      "source": [
        "### Variáveis utilizadas\n",
        "\n",
        "> ### Renda\n",
        "> ***\n",
        "\n",
        "Rendimento mensal do trabalho principal para pessoas de 10 anos ou mais de idade.\n",
        "\n",
        "> ### Idade\n",
        "> ***\n",
        "\n",
        "Idade do morador na data de referência em anos.\n",
        "\n",
        "> ### Altura (elaboração própria)\n",
        "> ***\n",
        "\n",
        "Altura do morador em metros.\n",
        "\n",
        "> ### UF\n",
        "> ***\n",
        "\n",
        "|Código|Descrição|\n",
        "|---|---|\n",
        "|11|Rondônia|\n",
        "|12|Acre|\n",
        "|13|Amazonas|\n",
        "|14|Roraima|\n",
        "|15|Pará|\n",
        "|16|Amapá|\n",
        "|17|Tocantins|\n",
        "|21|Maranhão|\n",
        "|22|Piauí|\n",
        "|23|Ceará|\n",
        "|24|Rio Grande do Norte|\n",
        "|25|Paraíba|\n",
        "|26|Pernambuco|\n",
        "|27|Alagoas|\n",
        "|28|Sergipe|\n",
        "|29|Bahia|\n",
        "|31|Minas Gerais|\n",
        "|32|Espírito Santo|\n",
        "|33|Rio de Janeiro|\n",
        "|35|São Paulo|\n",
        "|41|Paraná|\n",
        "|42|Santa Catarina|\n",
        "|43|Rio Grande do Sul|\n",
        "|50|Mato Grosso do Sul|\n",
        "|51|Mato Grosso|\n",
        "|52|Goiás|\n",
        "|53|Distrito Federal|\n",
        "\n",
        "> ### Sexo\t\n",
        "> ***\n",
        "\n",
        "|Código|Descrição|\n",
        "|---|---|\n",
        "|0|Masculino|\n",
        "|1|Feminino|\n",
        "\n",
        "> ### Anos de Estudo\n",
        "> ***\n",
        "\n",
        "|Código|Descrição|\n",
        "|---|---|\n",
        "|1|Sem instrução e menos de 1 ano|\n",
        "|2|1 ano|\n",
        "|3|2 anos|\n",
        "|4|3 anos|\n",
        "|5|4 anos|\n",
        "|6|5 anos|\n",
        "|7|6 anos|\n",
        "|8|7 anos|\n",
        "|9|8 anos|\n",
        "|10|9 anos|\n",
        "|11|10 anos|\n",
        "|12|11 anos|\n",
        "|13|12 anos|\n",
        "|14|13 anos|\n",
        "|15|14 anos|\n",
        "|16|15 anos ou mais|\n",
        "|17|Não determinados| \n",
        "||Não aplicável|\n",
        "\n",
        "> ### Cor\n",
        "> ***\n",
        "\n",
        "|Código|Descrição|\n",
        "|---|---|\n",
        "|0|Indígena|\n",
        "|2|Branca|\n",
        "|4|Preta|\n",
        "|6|Amarela|\n",
        "|8|Parda|\n",
        "|9|Sem declaração|"
      ]
    },
    {
      "cell_type": "markdown",
      "metadata": {
        "id": "OK1IQH5cX7Gb"
      },
      "source": [
        "#### <font color='red'>Observação</font>\n",
        "***\n",
        "> Os seguintes tratamentos foram realizados nos dados originais:\n",
        "> 1. Foram eliminados os registros onde a <b>Renda</b> era inválida (999 999 999 999);\n",
        "> 2. Foram eliminados os registros onde a <b>Renda</b> era missing;\n",
        "> 3. Foram considerados somente os registros das <b>Pessoas de Referência</b> de cada domicílio (responsável pelo domicílio)."
      ]
    },
    {
      "cell_type": "markdown",
      "metadata": {
        "id": "8Rw70V6ojQKk"
      },
      "source": [
        "### Importando pandas e lendo o dataset do projeto\n",
        "\n",
        "https://pandas.pydata.org/"
      ]
    },
    {
      "cell_type": "code",
      "execution_count": null,
      "metadata": {
        "id": "8QgOpE-wjQKl"
      },
      "outputs": [],
      "source": [
        "import pandas as pd"
      ]
    },
    {
      "cell_type": "code",
      "execution_count": null,
      "metadata": {
        "id": "ufRZ7TLwjQKo"
      },
      "outputs": [],
      "source": [
        "dados = pd.read_csv('dados.csv')"
      ]
    },
    {
      "cell_type": "code",
      "execution_count": null,
      "metadata": {
        "colab": {
          "base_uri": "https://localhost:8080/",
          "height": 424
        },
        "id": "GsC_WhLFjQKq",
        "outputId": "bda7e845-d9b4-4e36-cc65-d09afe3aad58",
        "scrolled": true
      },
      "outputs": [
        {
          "output_type": "execute_result",
          "data": {
            "text/plain": [
              "       UF  Sexo  Idade  Cor  Anos de Estudo  Renda    Altura\n",
              "0      11     0     23    8              12    800  1.603808\n",
              "1      11     1     23    2              12   1150  1.739790\n",
              "2      11     1     35    8              15    880  1.760444\n",
              "3      11     0     46    2               6   3500  1.783158\n",
              "4      11     1     47    8               9    150  1.690631\n",
              "...    ..   ...    ...  ...             ...    ...       ...\n",
              "76835  53     1     46    2              11    812  1.687030\n",
              "76836  53     0     30    4               7   1500  1.792934\n",
              "76837  53     0     32    8              12   1300  1.830587\n",
              "76838  53     0     57    8               4   1500  1.726344\n",
              "76839  53     0     38    8               4    900  1.658305\n",
              "\n",
              "[76840 rows x 7 columns]"
            ],
            "text/html": [
              "\n",
              "  <div id=\"df-a2d73b2f-89ca-4a35-8596-cbd5105fdaf5\">\n",
              "    <div class=\"colab-df-container\">\n",
              "      <div>\n",
              "<style scoped>\n",
              "    .dataframe tbody tr th:only-of-type {\n",
              "        vertical-align: middle;\n",
              "    }\n",
              "\n",
              "    .dataframe tbody tr th {\n",
              "        vertical-align: top;\n",
              "    }\n",
              "\n",
              "    .dataframe thead th {\n",
              "        text-align: right;\n",
              "    }\n",
              "</style>\n",
              "<table border=\"1\" class=\"dataframe\">\n",
              "  <thead>\n",
              "    <tr style=\"text-align: right;\">\n",
              "      <th></th>\n",
              "      <th>UF</th>\n",
              "      <th>Sexo</th>\n",
              "      <th>Idade</th>\n",
              "      <th>Cor</th>\n",
              "      <th>Anos de Estudo</th>\n",
              "      <th>Renda</th>\n",
              "      <th>Altura</th>\n",
              "    </tr>\n",
              "  </thead>\n",
              "  <tbody>\n",
              "    <tr>\n",
              "      <th>0</th>\n",
              "      <td>11</td>\n",
              "      <td>0</td>\n",
              "      <td>23</td>\n",
              "      <td>8</td>\n",
              "      <td>12</td>\n",
              "      <td>800</td>\n",
              "      <td>1.603808</td>\n",
              "    </tr>\n",
              "    <tr>\n",
              "      <th>1</th>\n",
              "      <td>11</td>\n",
              "      <td>1</td>\n",
              "      <td>23</td>\n",
              "      <td>2</td>\n",
              "      <td>12</td>\n",
              "      <td>1150</td>\n",
              "      <td>1.739790</td>\n",
              "    </tr>\n",
              "    <tr>\n",
              "      <th>2</th>\n",
              "      <td>11</td>\n",
              "      <td>1</td>\n",
              "      <td>35</td>\n",
              "      <td>8</td>\n",
              "      <td>15</td>\n",
              "      <td>880</td>\n",
              "      <td>1.760444</td>\n",
              "    </tr>\n",
              "    <tr>\n",
              "      <th>3</th>\n",
              "      <td>11</td>\n",
              "      <td>0</td>\n",
              "      <td>46</td>\n",
              "      <td>2</td>\n",
              "      <td>6</td>\n",
              "      <td>3500</td>\n",
              "      <td>1.783158</td>\n",
              "    </tr>\n",
              "    <tr>\n",
              "      <th>4</th>\n",
              "      <td>11</td>\n",
              "      <td>1</td>\n",
              "      <td>47</td>\n",
              "      <td>8</td>\n",
              "      <td>9</td>\n",
              "      <td>150</td>\n",
              "      <td>1.690631</td>\n",
              "    </tr>\n",
              "    <tr>\n",
              "      <th>...</th>\n",
              "      <td>...</td>\n",
              "      <td>...</td>\n",
              "      <td>...</td>\n",
              "      <td>...</td>\n",
              "      <td>...</td>\n",
              "      <td>...</td>\n",
              "      <td>...</td>\n",
              "    </tr>\n",
              "    <tr>\n",
              "      <th>76835</th>\n",
              "      <td>53</td>\n",
              "      <td>1</td>\n",
              "      <td>46</td>\n",
              "      <td>2</td>\n",
              "      <td>11</td>\n",
              "      <td>812</td>\n",
              "      <td>1.687030</td>\n",
              "    </tr>\n",
              "    <tr>\n",
              "      <th>76836</th>\n",
              "      <td>53</td>\n",
              "      <td>0</td>\n",
              "      <td>30</td>\n",
              "      <td>4</td>\n",
              "      <td>7</td>\n",
              "      <td>1500</td>\n",
              "      <td>1.792934</td>\n",
              "    </tr>\n",
              "    <tr>\n",
              "      <th>76837</th>\n",
              "      <td>53</td>\n",
              "      <td>0</td>\n",
              "      <td>32</td>\n",
              "      <td>8</td>\n",
              "      <td>12</td>\n",
              "      <td>1300</td>\n",
              "      <td>1.830587</td>\n",
              "    </tr>\n",
              "    <tr>\n",
              "      <th>76838</th>\n",
              "      <td>53</td>\n",
              "      <td>0</td>\n",
              "      <td>57</td>\n",
              "      <td>8</td>\n",
              "      <td>4</td>\n",
              "      <td>1500</td>\n",
              "      <td>1.726344</td>\n",
              "    </tr>\n",
              "    <tr>\n",
              "      <th>76839</th>\n",
              "      <td>53</td>\n",
              "      <td>0</td>\n",
              "      <td>38</td>\n",
              "      <td>8</td>\n",
              "      <td>4</td>\n",
              "      <td>900</td>\n",
              "      <td>1.658305</td>\n",
              "    </tr>\n",
              "  </tbody>\n",
              "</table>\n",
              "<p>76840 rows × 7 columns</p>\n",
              "</div>\n",
              "      <button class=\"colab-df-convert\" onclick=\"convertToInteractive('df-a2d73b2f-89ca-4a35-8596-cbd5105fdaf5')\"\n",
              "              title=\"Convert this dataframe to an interactive table.\"\n",
              "              style=\"display:none;\">\n",
              "        \n",
              "  <svg xmlns=\"http://www.w3.org/2000/svg\" height=\"24px\"viewBox=\"0 0 24 24\"\n",
              "       width=\"24px\">\n",
              "    <path d=\"M0 0h24v24H0V0z\" fill=\"none\"/>\n",
              "    <path d=\"M18.56 5.44l.94 2.06.94-2.06 2.06-.94-2.06-.94-.94-2.06-.94 2.06-2.06.94zm-11 1L8.5 8.5l.94-2.06 2.06-.94-2.06-.94L8.5 2.5l-.94 2.06-2.06.94zm10 10l.94 2.06.94-2.06 2.06-.94-2.06-.94-.94-2.06-.94 2.06-2.06.94z\"/><path d=\"M17.41 7.96l-1.37-1.37c-.4-.4-.92-.59-1.43-.59-.52 0-1.04.2-1.43.59L10.3 9.45l-7.72 7.72c-.78.78-.78 2.05 0 2.83L4 21.41c.39.39.9.59 1.41.59.51 0 1.02-.2 1.41-.59l7.78-7.78 2.81-2.81c.8-.78.8-2.07 0-2.86zM5.41 20L4 18.59l7.72-7.72 1.47 1.35L5.41 20z\"/>\n",
              "  </svg>\n",
              "      </button>\n",
              "      \n",
              "  <style>\n",
              "    .colab-df-container {\n",
              "      display:flex;\n",
              "      flex-wrap:wrap;\n",
              "      gap: 12px;\n",
              "    }\n",
              "\n",
              "    .colab-df-convert {\n",
              "      background-color: #E8F0FE;\n",
              "      border: none;\n",
              "      border-radius: 50%;\n",
              "      cursor: pointer;\n",
              "      display: none;\n",
              "      fill: #1967D2;\n",
              "      height: 32px;\n",
              "      padding: 0 0 0 0;\n",
              "      width: 32px;\n",
              "    }\n",
              "\n",
              "    .colab-df-convert:hover {\n",
              "      background-color: #E2EBFA;\n",
              "      box-shadow: 0px 1px 2px rgba(60, 64, 67, 0.3), 0px 1px 3px 1px rgba(60, 64, 67, 0.15);\n",
              "      fill: #174EA6;\n",
              "    }\n",
              "\n",
              "    [theme=dark] .colab-df-convert {\n",
              "      background-color: #3B4455;\n",
              "      fill: #D2E3FC;\n",
              "    }\n",
              "\n",
              "    [theme=dark] .colab-df-convert:hover {\n",
              "      background-color: #434B5C;\n",
              "      box-shadow: 0px 1px 3px 1px rgba(0, 0, 0, 0.15);\n",
              "      filter: drop-shadow(0px 1px 2px rgba(0, 0, 0, 0.3));\n",
              "      fill: #FFFFFF;\n",
              "    }\n",
              "  </style>\n",
              "\n",
              "      <script>\n",
              "        const buttonEl =\n",
              "          document.querySelector('#df-a2d73b2f-89ca-4a35-8596-cbd5105fdaf5 button.colab-df-convert');\n",
              "        buttonEl.style.display =\n",
              "          google.colab.kernel.accessAllowed ? 'block' : 'none';\n",
              "\n",
              "        async function convertToInteractive(key) {\n",
              "          const element = document.querySelector('#df-a2d73b2f-89ca-4a35-8596-cbd5105fdaf5');\n",
              "          const dataTable =\n",
              "            await google.colab.kernel.invokeFunction('convertToInteractive',\n",
              "                                                     [key], {});\n",
              "          if (!dataTable) return;\n",
              "\n",
              "          const docLinkHtml = 'Like what you see? Visit the ' +\n",
              "            '<a target=\"_blank\" href=https://colab.research.google.com/notebooks/data_table.ipynb>data table notebook</a>'\n",
              "            + ' to learn more about interactive tables.';\n",
              "          element.innerHTML = '';\n",
              "          dataTable['output_type'] = 'display_data';\n",
              "          await google.colab.output.renderOutput(dataTable, element);\n",
              "          const docLink = document.createElement('div');\n",
              "          docLink.innerHTML = docLinkHtml;\n",
              "          element.appendChild(docLink);\n",
              "        }\n",
              "      </script>\n",
              "    </div>\n",
              "  </div>\n",
              "  "
            ]
          },
          "metadata": {},
          "execution_count": 3
        }
      ],
      "source": [
        "dados"
      ]
    },
    {
      "cell_type": "markdown",
      "metadata": {
        "id": "E3Mx0tVqjQKs"
      },
      "source": [
        "## <font color=green>1.2 Tipos de dados</font>\n",
        "***"
      ]
    },
    {
      "cell_type": "markdown",
      "metadata": {
        "id": "oB4TCBFojQKt"
      },
      "source": [
        "### Variáveis qualitativas ordinais\n",
        "\n",
        "► Variáveis que podem ser ordenadas ou hierarquizardas"
      ]
    },
    {
      "cell_type": "markdown",
      "source": [
        "Com o método head() do Pandas, visualizaremos somente os cinco primeiros registros de dados."
      ],
      "metadata": {
        "id": "SiyvuZhZdahH"
      }
    },
    {
      "cell_type": "code",
      "execution_count": null,
      "metadata": {
        "colab": {
          "base_uri": "https://localhost:8080/",
          "height": 206
        },
        "id": "NtQZNGNbjQKt",
        "outputId": "aa012093-0be3-46c2-d9e8-6976633622bf"
      },
      "outputs": [
        {
          "output_type": "execute_result",
          "data": {
            "text/plain": [
              "   UF  Sexo  Idade  Cor  Anos de Estudo  Renda    Altura\n",
              "0  11     0     23    8              12    800  1.603808\n",
              "1  11     1     23    2              12   1150  1.739790\n",
              "2  11     1     35    8              15    880  1.760444\n",
              "3  11     0     46    2               6   3500  1.783158\n",
              "4  11     1     47    8               9    150  1.690631"
            ],
            "text/html": [
              "\n",
              "  <div id=\"df-e3931202-ecf9-429b-9dda-84a65abcedb3\">\n",
              "    <div class=\"colab-df-container\">\n",
              "      <div>\n",
              "<style scoped>\n",
              "    .dataframe tbody tr th:only-of-type {\n",
              "        vertical-align: middle;\n",
              "    }\n",
              "\n",
              "    .dataframe tbody tr th {\n",
              "        vertical-align: top;\n",
              "    }\n",
              "\n",
              "    .dataframe thead th {\n",
              "        text-align: right;\n",
              "    }\n",
              "</style>\n",
              "<table border=\"1\" class=\"dataframe\">\n",
              "  <thead>\n",
              "    <tr style=\"text-align: right;\">\n",
              "      <th></th>\n",
              "      <th>UF</th>\n",
              "      <th>Sexo</th>\n",
              "      <th>Idade</th>\n",
              "      <th>Cor</th>\n",
              "      <th>Anos de Estudo</th>\n",
              "      <th>Renda</th>\n",
              "      <th>Altura</th>\n",
              "    </tr>\n",
              "  </thead>\n",
              "  <tbody>\n",
              "    <tr>\n",
              "      <th>0</th>\n",
              "      <td>11</td>\n",
              "      <td>0</td>\n",
              "      <td>23</td>\n",
              "      <td>8</td>\n",
              "      <td>12</td>\n",
              "      <td>800</td>\n",
              "      <td>1.603808</td>\n",
              "    </tr>\n",
              "    <tr>\n",
              "      <th>1</th>\n",
              "      <td>11</td>\n",
              "      <td>1</td>\n",
              "      <td>23</td>\n",
              "      <td>2</td>\n",
              "      <td>12</td>\n",
              "      <td>1150</td>\n",
              "      <td>1.739790</td>\n",
              "    </tr>\n",
              "    <tr>\n",
              "      <th>2</th>\n",
              "      <td>11</td>\n",
              "      <td>1</td>\n",
              "      <td>35</td>\n",
              "      <td>8</td>\n",
              "      <td>15</td>\n",
              "      <td>880</td>\n",
              "      <td>1.760444</td>\n",
              "    </tr>\n",
              "    <tr>\n",
              "      <th>3</th>\n",
              "      <td>11</td>\n",
              "      <td>0</td>\n",
              "      <td>46</td>\n",
              "      <td>2</td>\n",
              "      <td>6</td>\n",
              "      <td>3500</td>\n",
              "      <td>1.783158</td>\n",
              "    </tr>\n",
              "    <tr>\n",
              "      <th>4</th>\n",
              "      <td>11</td>\n",
              "      <td>1</td>\n",
              "      <td>47</td>\n",
              "      <td>8</td>\n",
              "      <td>9</td>\n",
              "      <td>150</td>\n",
              "      <td>1.690631</td>\n",
              "    </tr>\n",
              "  </tbody>\n",
              "</table>\n",
              "</div>\n",
              "      <button class=\"colab-df-convert\" onclick=\"convertToInteractive('df-e3931202-ecf9-429b-9dda-84a65abcedb3')\"\n",
              "              title=\"Convert this dataframe to an interactive table.\"\n",
              "              style=\"display:none;\">\n",
              "        \n",
              "  <svg xmlns=\"http://www.w3.org/2000/svg\" height=\"24px\"viewBox=\"0 0 24 24\"\n",
              "       width=\"24px\">\n",
              "    <path d=\"M0 0h24v24H0V0z\" fill=\"none\"/>\n",
              "    <path d=\"M18.56 5.44l.94 2.06.94-2.06 2.06-.94-2.06-.94-.94-2.06-.94 2.06-2.06.94zm-11 1L8.5 8.5l.94-2.06 2.06-.94-2.06-.94L8.5 2.5l-.94 2.06-2.06.94zm10 10l.94 2.06.94-2.06 2.06-.94-2.06-.94-.94-2.06-.94 2.06-2.06.94z\"/><path d=\"M17.41 7.96l-1.37-1.37c-.4-.4-.92-.59-1.43-.59-.52 0-1.04.2-1.43.59L10.3 9.45l-7.72 7.72c-.78.78-.78 2.05 0 2.83L4 21.41c.39.39.9.59 1.41.59.51 0 1.02-.2 1.41-.59l7.78-7.78 2.81-2.81c.8-.78.8-2.07 0-2.86zM5.41 20L4 18.59l7.72-7.72 1.47 1.35L5.41 20z\"/>\n",
              "  </svg>\n",
              "      </button>\n",
              "      \n",
              "  <style>\n",
              "    .colab-df-container {\n",
              "      display:flex;\n",
              "      flex-wrap:wrap;\n",
              "      gap: 12px;\n",
              "    }\n",
              "\n",
              "    .colab-df-convert {\n",
              "      background-color: #E8F0FE;\n",
              "      border: none;\n",
              "      border-radius: 50%;\n",
              "      cursor: pointer;\n",
              "      display: none;\n",
              "      fill: #1967D2;\n",
              "      height: 32px;\n",
              "      padding: 0 0 0 0;\n",
              "      width: 32px;\n",
              "    }\n",
              "\n",
              "    .colab-df-convert:hover {\n",
              "      background-color: #E2EBFA;\n",
              "      box-shadow: 0px 1px 2px rgba(60, 64, 67, 0.3), 0px 1px 3px 1px rgba(60, 64, 67, 0.15);\n",
              "      fill: #174EA6;\n",
              "    }\n",
              "\n",
              "    [theme=dark] .colab-df-convert {\n",
              "      background-color: #3B4455;\n",
              "      fill: #D2E3FC;\n",
              "    }\n",
              "\n",
              "    [theme=dark] .colab-df-convert:hover {\n",
              "      background-color: #434B5C;\n",
              "      box-shadow: 0px 1px 3px 1px rgba(0, 0, 0, 0.15);\n",
              "      filter: drop-shadow(0px 1px 2px rgba(0, 0, 0, 0.3));\n",
              "      fill: #FFFFFF;\n",
              "    }\n",
              "  </style>\n",
              "\n",
              "      <script>\n",
              "        const buttonEl =\n",
              "          document.querySelector('#df-e3931202-ecf9-429b-9dda-84a65abcedb3 button.colab-df-convert');\n",
              "        buttonEl.style.display =\n",
              "          google.colab.kernel.accessAllowed ? 'block' : 'none';\n",
              "\n",
              "        async function convertToInteractive(key) {\n",
              "          const element = document.querySelector('#df-e3931202-ecf9-429b-9dda-84a65abcedb3');\n",
              "          const dataTable =\n",
              "            await google.colab.kernel.invokeFunction('convertToInteractive',\n",
              "                                                     [key], {});\n",
              "          if (!dataTable) return;\n",
              "\n",
              "          const docLinkHtml = 'Like what you see? Visit the ' +\n",
              "            '<a target=\"_blank\" href=https://colab.research.google.com/notebooks/data_table.ipynb>data table notebook</a>'\n",
              "            + ' to learn more about interactive tables.';\n",
              "          element.innerHTML = '';\n",
              "          dataTable['output_type'] = 'display_data';\n",
              "          await google.colab.output.renderOutput(dataTable, element);\n",
              "          const docLink = document.createElement('div');\n",
              "          docLink.innerHTML = docLinkHtml;\n",
              "          element.appendChild(docLink);\n",
              "        }\n",
              "      </script>\n",
              "    </div>\n",
              "  </div>\n",
              "  "
            ]
          },
          "metadata": {},
          "execution_count": 4
        }
      ],
      "source": [
        "dados.head()"
      ]
    },
    {
      "cell_type": "markdown",
      "metadata": {
        "id": "i2mCIMyojQKv"
      },
      "source": [
        "### Variáveis qualitativas nominais\n",
        "\n",
        "► Variáveis que não podem ser ordenadas ou hierarquizardas"
      ]
    },
    {
      "cell_type": "markdown",
      "source": [
        "Os tipos de dados devem ser bem entendidos, pois cada um deles possui um tipo de estatística e tratamento da informação, então é importante os identificarmos corretamente.\n",
        "\n",
        "Classificaremos os dados entre basicamente dois tipos: qualitativos e quantitativos. O primeiro expressa uma qualidade ou atributo dos dados, enquanto o segundo faz contagens e mensurações.\n",
        "\n",
        "Entenderemos a partir do nosso DataFrame; UF é bastante simples de classificarmos como qualitativo, pois não é uma contagem, e o mesmo vale para Sexo e Cor. Enquanto a Idade, Renda e Altura são quantitativos.\n",
        "\n",
        "Já Anos de Estudo é uma variável de dados qualitativos também, afinal cada código numérico representa uma classe. Veremos isso no caso de 16 ser relativo a 15 anos ou mais, e 0 como Sem instrução e menos de 1 ano por exemplo.\n",
        "\n",
        "Cada classificação pode ser dividida em duas categorias. No caso dos qualitativos, teremos os ordinais e nominais.\n",
        "\n",
        "Já os quantitativos se dividem em discretos e contínuos. Veremos exemplos de cada um mais adiante com o uso do Python e Pandas.\n",
        "\n",
        "Começando pelas variáveis qualitativas ordinais, não identificaremos as Sexo, Cor e UF como tais, pois não podemos hierarquizá-los neste caso, afinal cada código foi atribuído a cada classe sem uma ordem lógica.\n",
        "\n",
        "Já no caso de Anos de Estudo, conseguiremos fazer uma ordenação, então poderemos classificá-la desta forma. Caso queiramos visualizar o tipo deste dado por exemplo, bastará escrevermos dados[] contendo a variável entre aspas simples na parte de \"1.2 Variáveis qualitativas ordinais\" no notebook."
      ],
      "metadata": {
        "id": "8_0Dab38dkEg"
      }
    },
    {
      "cell_type": "code",
      "source": [
        "dados['Anos de Estudo']"
      ],
      "metadata": {
        "colab": {
          "base_uri": "https://localhost:8080/"
        },
        "id": "2zh9oW35eFWI",
        "outputId": "217c14fd-898c-4661-a058-a50bc459f938"
      },
      "execution_count": null,
      "outputs": [
        {
          "output_type": "execute_result",
          "data": {
            "text/plain": [
              "0        12\n",
              "1        12\n",
              "2        15\n",
              "3         6\n",
              "4         9\n",
              "         ..\n",
              "76835    11\n",
              "76836     7\n",
              "76837    12\n",
              "76838     4\n",
              "76839     4\n",
              "Name: Anos de Estudo, Length: 76840, dtype: int64"
            ]
          },
          "metadata": {},
          "execution_count": 5
        }
      ]
    },
    {
      "cell_type": "markdown",
      "source": [
        "Para vermos apenas os valores únicos, aplicaremos .unique() ao comando da célula."
      ],
      "metadata": {
        "id": "S_xVfJVeeZ-N"
      }
    },
    {
      "cell_type": "code",
      "source": [
        "dados['Anos de Estudo'].unique()"
      ],
      "metadata": {
        "colab": {
          "base_uri": "https://localhost:8080/"
        },
        "id": "upzHqVNselnW",
        "outputId": "c9e4cb36-fd2b-47ae-8269-6a294ac16e21"
      },
      "execution_count": null,
      "outputs": [
        {
          "output_type": "execute_result",
          "data": {
            "text/plain": [
              "array([12, 15,  6,  9, 14, 16, 10,  1,  5,  7,  3,  2,  4,  8, 11, 17, 13])"
            ]
          },
          "metadata": {},
          "execution_count": 6
        }
      ]
    },
    {
      "cell_type": "markdown",
      "source": [
        "O resultado será um array() fora de ordenação. Para ordenarmos os dados, adicionaremos a building function do Python chamada sorted() que receberá todo o conteúdo desta célula."
      ],
      "metadata": {
        "id": "5Pi-YGcdeq0A"
      }
    },
    {
      "cell_type": "code",
      "execution_count": null,
      "metadata": {
        "colab": {
          "base_uri": "https://localhost:8080/"
        },
        "id": "NODtY5IxjQKw",
        "outputId": "718d650e-260d-4b1a-fb8d-09bf09b7a80b",
        "scrolled": true
      },
      "outputs": [
        {
          "output_type": "execute_result",
          "data": {
            "text/plain": [
              "[1, 2, 3, 4, 5, 6, 7, 8, 9, 10, 11, 12, 13, 14, 15, 16, 17]"
            ]
          },
          "metadata": {},
          "execution_count": 7
        }
      ],
      "source": [
        "sorted(dados['Anos de Estudo'].unique())"
      ]
    },
    {
      "cell_type": "markdown",
      "source": [
        "Com isso, visualizaremos a lista de valores do dicionário de Anos de Estudo. Logo, comprovaremos que se trata de uma variável qualitativa ordinal.\n",
        "\n",
        "Abordando as qualitativas nominais, teremos Sexo, Cor e UF. As imprimiremos na célula desta parte do notebook. Usaremos o mesmo comando executado anteriormente, alterando apenas o conteúdo de dados[] com as variáveis corretas."
      ],
      "metadata": {
        "id": "jp9iI5R5ecE_"
      }
    },
    {
      "cell_type": "code",
      "execution_count": null,
      "metadata": {
        "colab": {
          "base_uri": "https://localhost:8080/"
        },
        "id": "NURfft2QjQKy",
        "outputId": "65de111b-0c8b-454f-a750-e01053804f5e"
      },
      "outputs": [
        {
          "output_type": "execute_result",
          "data": {
            "text/plain": [
              "[11,\n",
              " 12,\n",
              " 13,\n",
              " 14,\n",
              " 15,\n",
              " 16,\n",
              " 17,\n",
              " 21,\n",
              " 22,\n",
              " 23,\n",
              " 24,\n",
              " 25,\n",
              " 26,\n",
              " 27,\n",
              " 28,\n",
              " 29,\n",
              " 31,\n",
              " 32,\n",
              " 33,\n",
              " 35,\n",
              " 41,\n",
              " 42,\n",
              " 43,\n",
              " 50,\n",
              " 51,\n",
              " 52,\n",
              " 53]"
            ]
          },
          "metadata": {},
          "execution_count": 8
        }
      ],
      "source": [
        "sorted(dados['UF'].unique())"
      ]
    },
    {
      "cell_type": "code",
      "execution_count": null,
      "metadata": {
        "colab": {
          "base_uri": "https://localhost:8080/"
        },
        "id": "6VwGyqxMjQK1",
        "outputId": "e5ec9036-0386-4bda-e193-85cfc4bd4d1e"
      },
      "outputs": [
        {
          "output_type": "execute_result",
          "data": {
            "text/plain": [
              "[0, 1]"
            ]
          },
          "metadata": {},
          "execution_count": 9
        }
      ],
      "source": [
        "sorted(dados['Sexo'].unique())"
      ]
    },
    {
      "cell_type": "code",
      "source": [
        "sorted(dados['Cor'].unique())"
      ],
      "metadata": {
        "colab": {
          "base_uri": "https://localhost:8080/"
        },
        "id": "ePg3CaKEbze1",
        "outputId": "2a76cef3-e2f1-4c6e-fbec-473c46dc0783"
      },
      "execution_count": null,
      "outputs": [
        {
          "output_type": "execute_result",
          "data": {
            "text/plain": [
              "[0, 2, 4, 6, 8]"
            ]
          },
          "metadata": {},
          "execution_count": 10
        }
      ]
    },
    {
      "cell_type": "markdown",
      "source": [
        "Desta forma, veremos a numeração do código atribuída pelos profissionais do IBGE.\n",
        "\n",
        "Estes valores não podem ser hierarquizados para serem ordenados, o qua as classificam como qualitativas nominais."
      ],
      "metadata": {
        "id": "yL6e44gPfkl3"
      }
    },
    {
      "cell_type": "markdown",
      "metadata": {
        "id": "FQhi81LsjQK5"
      },
      "source": [
        "### Variáveis quantitativas discretas\n",
        "\n",
        "► Variáveis que representam uma contagem onde os valores possíveis formam um conjunto finito ou enumerável."
      ]
    },
    {
      "cell_type": "markdown",
      "source": [
        "Mais adiante, abordaremos as variáveis quantitativas discretas. Poderemos classificar a Idade de diversas formas, dependendo de como é representada no dataset; em nosso caso, esta representa uma contagem composta por números inteiros.\n",
        "\n",
        "Quando a pesquisa é feita pelo IBGE, os entrevistadores perguntam quantos anos completos a pessoa tem, sem contar meses e dias.\n",
        "\n",
        "Na parte homônima do nosso notebook, escreveremos dados com Idade que pode ser aplicada em diversas operações, como min() por exemplo."
      ],
      "metadata": {
        "id": "wpYKGZkNfmyX"
      }
    },
    {
      "cell_type": "code",
      "execution_count": null,
      "metadata": {
        "colab": {
          "base_uri": "https://localhost:8080/"
        },
        "id": "sr4JXeZkjQK5",
        "outputId": "a7066e27-9264-48a4-8408-48b07a353315"
      },
      "outputs": [
        {
          "output_type": "execute_result",
          "data": {
            "text/plain": [
              "13"
            ]
          },
          "metadata": {},
          "execution_count": 11
        }
      ],
      "source": [
        "dados.Idade.min()"
      ]
    },
    {
      "cell_type": "markdown",
      "source": [
        "Com isso, veremos a idade mínima presente em nosso dataset. Também poderemos exibir a idade máxima com max().\n",
        "\n",
        "Faremos uma impressão com print() recebendo 'De %s até %s anos', seguido de % () contendo os dois últimos comandos anteriores."
      ],
      "metadata": {
        "id": "-Sd-_ArSfo-H"
      }
    },
    {
      "cell_type": "code",
      "source": [
        "dados.Idade.max()"
      ],
      "metadata": {
        "colab": {
          "base_uri": "https://localhost:8080/"
        },
        "id": "w-QHrGmfdHMe",
        "outputId": "cb221262-cf74-46be-88ba-975d5e35cbf2"
      },
      "execution_count": null,
      "outputs": [
        {
          "output_type": "execute_result",
          "data": {
            "text/plain": [
              "99"
            ]
          },
          "metadata": {},
          "execution_count": 12
        }
      ]
    },
    {
      "cell_type": "code",
      "source": [
        "print('De {} até {} anos'.format(dados.Idade.min(), dados.Idade.max()))"
      ],
      "metadata": {
        "colab": {
          "base_uri": "https://localhost:8080/"
        },
        "id": "vXtbRFc5dKvF",
        "outputId": "85f73786-5497-4697-e5d7-c059abefb140"
      },
      "execution_count": null,
      "outputs": [
        {
          "output_type": "stream",
          "name": "stdout",
          "text": [
            "De 13 até 99 anos\n"
          ]
        }
      ]
    },
    {
      "cell_type": "markdown",
      "source": [
        "Podemos também escrever:"
      ],
      "metadata": {
        "id": "4I5xsZRrd4FF"
      }
    },
    {
      "cell_type": "code",
      "source": [
        "print('De %s até %s anos' %(dados.Idade.min(), dados.Idade.max()))"
      ],
      "metadata": {
        "colab": {
          "base_uri": "https://localhost:8080/"
        },
        "id": "7B5afObed6Lt",
        "outputId": "4908ecd5-1930-4a78-a79c-6c51edc818f6"
      },
      "execution_count": null,
      "outputs": [
        {
          "output_type": "stream",
          "name": "stdout",
          "text": [
            "De 13 até 99 anos\n"
          ]
        }
      ]
    },
    {
      "cell_type": "markdown",
      "source": [
        "Rodando este código na célula desta parte do notebook, veremos a impressão de De 13 até 99 anos. Portanto, esta variável pode ser contada e ordenada, além de ser de fato uma quantitativa discreta com os anos completos.\n",
        "\n",
        "Também poderia ser quantitativa contínua, pois é possível representarmos idades exatas que computem os meses e dias além dos anos, gerando números fracionados e reais.\n",
        "\n",
        "A variável Idade seria qualitativa ordinal se fosse inserida em intervalos, como em casos onde faixas etárias são relevantes e podem ser ordenadas por exemplo."
      ],
      "metadata": {
        "id": "QAshZEaDf28g"
      }
    },
    {
      "cell_type": "markdown",
      "metadata": {
        "id": "7mMXLTukjQK-"
      },
      "source": [
        "#### <font color='red'>Observação</font>\n",
        "***\n",
        "> A variável idade pode ser classificada de três formas distintas:\n",
        "> 1. <b>QUANTITATIVA DISCRETA</b> - quando representa anos completos (números inteiros);\n",
        "> 2. <b>QUANTITATIVA CONTÍNUA</b> - quando representa a idade exata, sendo representado por frações de anos; e\n",
        "> 3. <b>QUALITATIVA ORDINAL</b> - quando representa faixas de idade."
      ]
    },
    {
      "cell_type": "markdown",
      "metadata": {
        "id": "J0L2OkaQjQK7"
      },
      "source": [
        "### Variáveis quantitativas contínuas\n",
        "\n",
        "► Variáveis que representam uma contagem ou mensuração que assumem valores em uma escala contínua (números reais)."
      ]
    },
    {
      "cell_type": "markdown",
      "source": [
        "Passando para a abordagem das variáveis quantitativas contínuas, já citamos que a Idade poderia ser deste tipo em algumas situações.\n",
        "\n",
        "Como a Renda veio da fonte do IBGE sem a contagem de centavos, criamos a variável Altura justamente para vermos um exemplo com casas decimais.\n",
        "\n",
        "Logo, esta última é classificada como quantitativa contínua. Aplicaremos o mesmo comando anterior na célula desta parte, alterando somente o nome da variável para Altura e a unidade de medida para metros dentro de print."
      ],
      "metadata": {
        "id": "VsQKEdL5f7IT"
      }
    },
    {
      "cell_type": "code",
      "execution_count": null,
      "metadata": {
        "colab": {
          "base_uri": "https://localhost:8080/"
        },
        "id": "jOW-bGyRjQK8",
        "outputId": "6ce7a9ac-5192-4ee7-da67-3c1b4bb54d25"
      },
      "outputs": [
        {
          "output_type": "stream",
          "name": "stdout",
          "text": [
            "De 1.339244614 até 2.028496765 metros\n"
          ]
        }
      ],
      "source": [
        "print('De %s até %s metros' %(dados.Altura.min(), dados.Altura.max()))"
      ]
    },
    {
      "cell_type": "markdown",
      "source": [
        "Esta outra maneira de escrever é útil para os casos em que uma variável possui mais de uma palavra separada por espaço, como temos em Anos de Estudo. Logo, se quiséssemos fazer a operação com esta, escreveríamos ['Anos de Estudo'] na operação como já fizemos anteriormente.\n",
        "\n",
        "Mais adiante em nosso notebook, encontraremos um esquema gráfico que traduz de forma simples em um diagrama todos os tipos de variáveis vistos até agora, contendo as classificações e suas subdivisões citadas nesta etapa.\n",
        "\n",
        "Em resumo, teremos a variável qualitativa ordinal Anos de Estudo e as qualitativas nominais Sexo, Cor e UF, bem como a quantitativa discreta Idade e a quantitativa contínua Altura.\n",
        "\n",
        "Com isso, avançaremos para o estudo da Distribuição de Frequências; a seguir, usando a biblioteca Pandas, aprenderemos como calculá-la para determinados tipos de variáveis, pois há maneiras diversas de lidarmos com cada um."
      ],
      "metadata": {
        "id": "pValFPBUgPXf"
      }
    },
    {
      "cell_type": "markdown",
      "metadata": {
        "id": "d_LW5gMIjQK_"
      },
      "source": [
        "### Classificação de uma variável\n",
        "<img src='https://caelum-online-public.s3.amazonaws.com/1177-estatistica-parte1/01/img001.png' width='70%'>"
      ]
    },
    {
      "cell_type": "markdown",
      "metadata": {
        "id": "PNIg_4VEjQK_"
      },
      "source": [
        "# <font color=green>2 DISTRIBUIÇÃO DE FREQUÊNCIAS</font>\n",
        "***\n",
        "\n",
        "O primeiro passo em um trabalho de análise é o conhecimento do comportamento das variáveis envolvidas no estudo. Utilizando técnicas estatísticas como as análises das <b>DISTRIBUIÇÕES DE FREQUÊNCIAS</b> e <b>HISTOGRAMAS</b> podemos avaliar melhor a forma como os fenômenos em estudo se distribuem."
      ]
    },
    {
      "cell_type": "markdown",
      "metadata": {
        "id": "JhpyjkEFjQLA"
      },
      "source": [
        "## <font color=green>2.1 Distribuição de frequências para variáveis qualitativas</font>\n",
        "***"
      ]
    },
    {
      "cell_type": "markdown",
      "metadata": {
        "id": "SsN3ikjqjQLB"
      },
      "source": [
        "### Método 1"
      ]
    },
    {
      "cell_type": "markdown",
      "metadata": {
        "id": "dj_v0M44X7G3"
      },
      "source": [
        "https://pandas.pydata.org/pandas-docs/version/0.22/generated/pandas.Series.value_counts.html"
      ]
    },
    {
      "cell_type": "markdown",
      "source": [
        "![image.png](data:image/png;base64,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)"
      ],
      "metadata": {
        "id": "GaSUfQYkm9d0"
      }
    },
    {
      "cell_type": "code",
      "execution_count": null,
      "metadata": {
        "id": "cA4gUboZjQLB",
        "colab": {
          "base_uri": "https://localhost:8080/"
        },
        "outputId": "1480ba80-39dc-4e8a-eea5-0a9d556cba8a"
      },
      "outputs": [
        {
          "output_type": "execute_result",
          "data": {
            "text/plain": [
              "0    53250\n",
              "1    23590\n",
              "Name: Sexo, dtype: int64"
            ]
          },
          "metadata": {},
          "execution_count": 16
        }
      ],
      "source": [
        "dados['Sexo'].value_counts()"
      ]
    },
    {
      "cell_type": "code",
      "execution_count": null,
      "metadata": {
        "id": "iy4-ijknjQLD",
        "colab": {
          "base_uri": "https://localhost:8080/"
        },
        "outputId": "4030c10c-dc91-40cb-fb1f-279acc65e357"
      },
      "outputs": [
        {
          "output_type": "execute_result",
          "data": {
            "text/plain": [
              "0    69.299844\n",
              "1    30.700156\n",
              "Name: Sexo, dtype: float64"
            ]
          },
          "metadata": {},
          "execution_count": 17
        }
      ],
      "source": [
        "dados['Sexo'].value_counts(normalize = True)*100"
      ]
    },
    {
      "cell_type": "code",
      "execution_count": null,
      "metadata": {
        "id": "qfkiLcFijQLG"
      },
      "outputs": [],
      "source": [
        "frequencia = dados['Sexo'].value_counts()"
      ]
    },
    {
      "cell_type": "code",
      "execution_count": null,
      "metadata": {
        "id": "t4uFMt6fjQLI"
      },
      "outputs": [],
      "source": [
        "percentual = dados['Sexo'].value_counts(normalize = True) * 100"
      ]
    },
    {
      "cell_type": "code",
      "execution_count": null,
      "metadata": {
        "id": "zUGfju86jQLM"
      },
      "outputs": [],
      "source": [
        "dist_freq_qualitativas = pd.DataFrame({'Frequência':frequencia, 'Porcentagem(%)':percentual})"
      ]
    },
    {
      "cell_type": "code",
      "execution_count": null,
      "metadata": {
        "id": "kPOYfijijQLO",
        "colab": {
          "base_uri": "https://localhost:8080/",
          "height": 112
        },
        "outputId": "ad6003dd-30a4-489d-b1dd-1bf1d3dc3c6d"
      },
      "outputs": [
        {
          "output_type": "execute_result",
          "data": {
            "text/plain": [
              "   Frequência  Porcentagem(%)\n",
              "0       53250       69.299844\n",
              "1       23590       30.700156"
            ],
            "text/html": [
              "\n",
              "  <div id=\"df-5afeb4d4-89da-4bd7-af45-5f01100ba1a1\">\n",
              "    <div class=\"colab-df-container\">\n",
              "      <div>\n",
              "<style scoped>\n",
              "    .dataframe tbody tr th:only-of-type {\n",
              "        vertical-align: middle;\n",
              "    }\n",
              "\n",
              "    .dataframe tbody tr th {\n",
              "        vertical-align: top;\n",
              "    }\n",
              "\n",
              "    .dataframe thead th {\n",
              "        text-align: right;\n",
              "    }\n",
              "</style>\n",
              "<table border=\"1\" class=\"dataframe\">\n",
              "  <thead>\n",
              "    <tr style=\"text-align: right;\">\n",
              "      <th></th>\n",
              "      <th>Frequência</th>\n",
              "      <th>Porcentagem(%)</th>\n",
              "    </tr>\n",
              "  </thead>\n",
              "  <tbody>\n",
              "    <tr>\n",
              "      <th>0</th>\n",
              "      <td>53250</td>\n",
              "      <td>69.299844</td>\n",
              "    </tr>\n",
              "    <tr>\n",
              "      <th>1</th>\n",
              "      <td>23590</td>\n",
              "      <td>30.700156</td>\n",
              "    </tr>\n",
              "  </tbody>\n",
              "</table>\n",
              "</div>\n",
              "      <button class=\"colab-df-convert\" onclick=\"convertToInteractive('df-5afeb4d4-89da-4bd7-af45-5f01100ba1a1')\"\n",
              "              title=\"Convert this dataframe to an interactive table.\"\n",
              "              style=\"display:none;\">\n",
              "        \n",
              "  <svg xmlns=\"http://www.w3.org/2000/svg\" height=\"24px\"viewBox=\"0 0 24 24\"\n",
              "       width=\"24px\">\n",
              "    <path d=\"M0 0h24v24H0V0z\" fill=\"none\"/>\n",
              "    <path d=\"M18.56 5.44l.94 2.06.94-2.06 2.06-.94-2.06-.94-.94-2.06-.94 2.06-2.06.94zm-11 1L8.5 8.5l.94-2.06 2.06-.94-2.06-.94L8.5 2.5l-.94 2.06-2.06.94zm10 10l.94 2.06.94-2.06 2.06-.94-2.06-.94-.94-2.06-.94 2.06-2.06.94z\"/><path d=\"M17.41 7.96l-1.37-1.37c-.4-.4-.92-.59-1.43-.59-.52 0-1.04.2-1.43.59L10.3 9.45l-7.72 7.72c-.78.78-.78 2.05 0 2.83L4 21.41c.39.39.9.59 1.41.59.51 0 1.02-.2 1.41-.59l7.78-7.78 2.81-2.81c.8-.78.8-2.07 0-2.86zM5.41 20L4 18.59l7.72-7.72 1.47 1.35L5.41 20z\"/>\n",
              "  </svg>\n",
              "      </button>\n",
              "      \n",
              "  <style>\n",
              "    .colab-df-container {\n",
              "      display:flex;\n",
              "      flex-wrap:wrap;\n",
              "      gap: 12px;\n",
              "    }\n",
              "\n",
              "    .colab-df-convert {\n",
              "      background-color: #E8F0FE;\n",
              "      border: none;\n",
              "      border-radius: 50%;\n",
              "      cursor: pointer;\n",
              "      display: none;\n",
              "      fill: #1967D2;\n",
              "      height: 32px;\n",
              "      padding: 0 0 0 0;\n",
              "      width: 32px;\n",
              "    }\n",
              "\n",
              "    .colab-df-convert:hover {\n",
              "      background-color: #E2EBFA;\n",
              "      box-shadow: 0px 1px 2px rgba(60, 64, 67, 0.3), 0px 1px 3px 1px rgba(60, 64, 67, 0.15);\n",
              "      fill: #174EA6;\n",
              "    }\n",
              "\n",
              "    [theme=dark] .colab-df-convert {\n",
              "      background-color: #3B4455;\n",
              "      fill: #D2E3FC;\n",
              "    }\n",
              "\n",
              "    [theme=dark] .colab-df-convert:hover {\n",
              "      background-color: #434B5C;\n",
              "      box-shadow: 0px 1px 3px 1px rgba(0, 0, 0, 0.15);\n",
              "      filter: drop-shadow(0px 1px 2px rgba(0, 0, 0, 0.3));\n",
              "      fill: #FFFFFF;\n",
              "    }\n",
              "  </style>\n",
              "\n",
              "      <script>\n",
              "        const buttonEl =\n",
              "          document.querySelector('#df-5afeb4d4-89da-4bd7-af45-5f01100ba1a1 button.colab-df-convert');\n",
              "        buttonEl.style.display =\n",
              "          google.colab.kernel.accessAllowed ? 'block' : 'none';\n",
              "\n",
              "        async function convertToInteractive(key) {\n",
              "          const element = document.querySelector('#df-5afeb4d4-89da-4bd7-af45-5f01100ba1a1');\n",
              "          const dataTable =\n",
              "            await google.colab.kernel.invokeFunction('convertToInteractive',\n",
              "                                                     [key], {});\n",
              "          if (!dataTable) return;\n",
              "\n",
              "          const docLinkHtml = 'Like what you see? Visit the ' +\n",
              "            '<a target=\"_blank\" href=https://colab.research.google.com/notebooks/data_table.ipynb>data table notebook</a>'\n",
              "            + ' to learn more about interactive tables.';\n",
              "          element.innerHTML = '';\n",
              "          dataTable['output_type'] = 'display_data';\n",
              "          await google.colab.output.renderOutput(dataTable, element);\n",
              "          const docLink = document.createElement('div');\n",
              "          docLink.innerHTML = docLinkHtml;\n",
              "          element.appendChild(docLink);\n",
              "        }\n",
              "      </script>\n",
              "    </div>\n",
              "  </div>\n",
              "  "
            ]
          },
          "metadata": {},
          "execution_count": 21
        }
      ],
      "source": [
        "dist_freq_qualitativas"
      ]
    },
    {
      "cell_type": "markdown",
      "source": [
        "Para substituir os indices 0 e 1 por Masculino e Feminino:"
      ],
      "metadata": {
        "id": "WrofzAQBP9-Z"
      }
    },
    {
      "cell_type": "code",
      "execution_count": null,
      "metadata": {
        "id": "tMS-VSk3jQLQ"
      },
      "outputs": [],
      "source": [
        "dist_freq_qualitativas.rename(index = {0: 'Masculino', 1: 'Feminino'}, inplace = True) "
      ]
    },
    {
      "cell_type": "code",
      "source": [
        "dist_freq_qualitativas"
      ],
      "metadata": {
        "colab": {
          "base_uri": "https://localhost:8080/",
          "height": 112
        },
        "id": "M4lwFYQ7OiHc",
        "outputId": "1b6e71a3-3a90-405b-ac20-c8875435e8c8"
      },
      "execution_count": null,
      "outputs": [
        {
          "output_type": "execute_result",
          "data": {
            "text/plain": [
              "           Frequência  Porcentagem(%)\n",
              "Masculino       53250       69.299844\n",
              "Feminino        23590       30.700156"
            ],
            "text/html": [
              "\n",
              "  <div id=\"df-3faa60a5-92aa-4963-9e20-5fb350945936\">\n",
              "    <div class=\"colab-df-container\">\n",
              "      <div>\n",
              "<style scoped>\n",
              "    .dataframe tbody tr th:only-of-type {\n",
              "        vertical-align: middle;\n",
              "    }\n",
              "\n",
              "    .dataframe tbody tr th {\n",
              "        vertical-align: top;\n",
              "    }\n",
              "\n",
              "    .dataframe thead th {\n",
              "        text-align: right;\n",
              "    }\n",
              "</style>\n",
              "<table border=\"1\" class=\"dataframe\">\n",
              "  <thead>\n",
              "    <tr style=\"text-align: right;\">\n",
              "      <th></th>\n",
              "      <th>Frequência</th>\n",
              "      <th>Porcentagem(%)</th>\n",
              "    </tr>\n",
              "  </thead>\n",
              "  <tbody>\n",
              "    <tr>\n",
              "      <th>Masculino</th>\n",
              "      <td>53250</td>\n",
              "      <td>69.299844</td>\n",
              "    </tr>\n",
              "    <tr>\n",
              "      <th>Feminino</th>\n",
              "      <td>23590</td>\n",
              "      <td>30.700156</td>\n",
              "    </tr>\n",
              "  </tbody>\n",
              "</table>\n",
              "</div>\n",
              "      <button class=\"colab-df-convert\" onclick=\"convertToInteractive('df-3faa60a5-92aa-4963-9e20-5fb350945936')\"\n",
              "              title=\"Convert this dataframe to an interactive table.\"\n",
              "              style=\"display:none;\">\n",
              "        \n",
              "  <svg xmlns=\"http://www.w3.org/2000/svg\" height=\"24px\"viewBox=\"0 0 24 24\"\n",
              "       width=\"24px\">\n",
              "    <path d=\"M0 0h24v24H0V0z\" fill=\"none\"/>\n",
              "    <path d=\"M18.56 5.44l.94 2.06.94-2.06 2.06-.94-2.06-.94-.94-2.06-.94 2.06-2.06.94zm-11 1L8.5 8.5l.94-2.06 2.06-.94-2.06-.94L8.5 2.5l-.94 2.06-2.06.94zm10 10l.94 2.06.94-2.06 2.06-.94-2.06-.94-.94-2.06-.94 2.06-2.06.94z\"/><path d=\"M17.41 7.96l-1.37-1.37c-.4-.4-.92-.59-1.43-.59-.52 0-1.04.2-1.43.59L10.3 9.45l-7.72 7.72c-.78.78-.78 2.05 0 2.83L4 21.41c.39.39.9.59 1.41.59.51 0 1.02-.2 1.41-.59l7.78-7.78 2.81-2.81c.8-.78.8-2.07 0-2.86zM5.41 20L4 18.59l7.72-7.72 1.47 1.35L5.41 20z\"/>\n",
              "  </svg>\n",
              "      </button>\n",
              "      \n",
              "  <style>\n",
              "    .colab-df-container {\n",
              "      display:flex;\n",
              "      flex-wrap:wrap;\n",
              "      gap: 12px;\n",
              "    }\n",
              "\n",
              "    .colab-df-convert {\n",
              "      background-color: #E8F0FE;\n",
              "      border: none;\n",
              "      border-radius: 50%;\n",
              "      cursor: pointer;\n",
              "      display: none;\n",
              "      fill: #1967D2;\n",
              "      height: 32px;\n",
              "      padding: 0 0 0 0;\n",
              "      width: 32px;\n",
              "    }\n",
              "\n",
              "    .colab-df-convert:hover {\n",
              "      background-color: #E2EBFA;\n",
              "      box-shadow: 0px 1px 2px rgba(60, 64, 67, 0.3), 0px 1px 3px 1px rgba(60, 64, 67, 0.15);\n",
              "      fill: #174EA6;\n",
              "    }\n",
              "\n",
              "    [theme=dark] .colab-df-convert {\n",
              "      background-color: #3B4455;\n",
              "      fill: #D2E3FC;\n",
              "    }\n",
              "\n",
              "    [theme=dark] .colab-df-convert:hover {\n",
              "      background-color: #434B5C;\n",
              "      box-shadow: 0px 1px 3px 1px rgba(0, 0, 0, 0.15);\n",
              "      filter: drop-shadow(0px 1px 2px rgba(0, 0, 0, 0.3));\n",
              "      fill: #FFFFFF;\n",
              "    }\n",
              "  </style>\n",
              "\n",
              "      <script>\n",
              "        const buttonEl =\n",
              "          document.querySelector('#df-3faa60a5-92aa-4963-9e20-5fb350945936 button.colab-df-convert');\n",
              "        buttonEl.style.display =\n",
              "          google.colab.kernel.accessAllowed ? 'block' : 'none';\n",
              "\n",
              "        async function convertToInteractive(key) {\n",
              "          const element = document.querySelector('#df-3faa60a5-92aa-4963-9e20-5fb350945936');\n",
              "          const dataTable =\n",
              "            await google.colab.kernel.invokeFunction('convertToInteractive',\n",
              "                                                     [key], {});\n",
              "          if (!dataTable) return;\n",
              "\n",
              "          const docLinkHtml = 'Like what you see? Visit the ' +\n",
              "            '<a target=\"_blank\" href=https://colab.research.google.com/notebooks/data_table.ipynb>data table notebook</a>'\n",
              "            + ' to learn more about interactive tables.';\n",
              "          element.innerHTML = '';\n",
              "          dataTable['output_type'] = 'display_data';\n",
              "          await google.colab.output.renderOutput(dataTable, element);\n",
              "          const docLink = document.createElement('div');\n",
              "          docLink.innerHTML = docLinkHtml;\n",
              "          element.appendChild(docLink);\n",
              "        }\n",
              "      </script>\n",
              "    </div>\n",
              "  </div>\n",
              "  "
            ]
          },
          "metadata": {},
          "execution_count": 23
        }
      ]
    },
    {
      "cell_type": "markdown",
      "source": [
        "Para colocar a palavra 'Sexo' no cabeçalho da primeira coluna:"
      ],
      "metadata": {
        "id": "FEulS1-wQH2r"
      }
    },
    {
      "cell_type": "code",
      "execution_count": null,
      "metadata": {
        "id": "B9zkYdcCyHe6"
      },
      "outputs": [],
      "source": [
        "dist_freq_qualitativas.rename_axis('Sexo', axis = 'columns', inplace = True)"
      ]
    },
    {
      "cell_type": "code",
      "source": [
        "dist_freq_qualitativas"
      ],
      "metadata": {
        "colab": {
          "base_uri": "https://localhost:8080/",
          "height": 112
        },
        "id": "RI82FI_AOrqj",
        "outputId": "a288502b-7e57-470e-f4a0-ca8aee97168e"
      },
      "execution_count": null,
      "outputs": [
        {
          "output_type": "execute_result",
          "data": {
            "text/plain": [
              "Sexo       Frequência  Porcentagem(%)\n",
              "Masculino       53250       69.299844\n",
              "Feminino        23590       30.700156"
            ],
            "text/html": [
              "\n",
              "  <div id=\"df-7c00e131-b88c-4c03-b253-28e3a5a80620\">\n",
              "    <div class=\"colab-df-container\">\n",
              "      <div>\n",
              "<style scoped>\n",
              "    .dataframe tbody tr th:only-of-type {\n",
              "        vertical-align: middle;\n",
              "    }\n",
              "\n",
              "    .dataframe tbody tr th {\n",
              "        vertical-align: top;\n",
              "    }\n",
              "\n",
              "    .dataframe thead th {\n",
              "        text-align: right;\n",
              "    }\n",
              "</style>\n",
              "<table border=\"1\" class=\"dataframe\">\n",
              "  <thead>\n",
              "    <tr style=\"text-align: right;\">\n",
              "      <th>Sexo</th>\n",
              "      <th>Frequência</th>\n",
              "      <th>Porcentagem(%)</th>\n",
              "    </tr>\n",
              "  </thead>\n",
              "  <tbody>\n",
              "    <tr>\n",
              "      <th>Masculino</th>\n",
              "      <td>53250</td>\n",
              "      <td>69.299844</td>\n",
              "    </tr>\n",
              "    <tr>\n",
              "      <th>Feminino</th>\n",
              "      <td>23590</td>\n",
              "      <td>30.700156</td>\n",
              "    </tr>\n",
              "  </tbody>\n",
              "</table>\n",
              "</div>\n",
              "      <button class=\"colab-df-convert\" onclick=\"convertToInteractive('df-7c00e131-b88c-4c03-b253-28e3a5a80620')\"\n",
              "              title=\"Convert this dataframe to an interactive table.\"\n",
              "              style=\"display:none;\">\n",
              "        \n",
              "  <svg xmlns=\"http://www.w3.org/2000/svg\" height=\"24px\"viewBox=\"0 0 24 24\"\n",
              "       width=\"24px\">\n",
              "    <path d=\"M0 0h24v24H0V0z\" fill=\"none\"/>\n",
              "    <path d=\"M18.56 5.44l.94 2.06.94-2.06 2.06-.94-2.06-.94-.94-2.06-.94 2.06-2.06.94zm-11 1L8.5 8.5l.94-2.06 2.06-.94-2.06-.94L8.5 2.5l-.94 2.06-2.06.94zm10 10l.94 2.06.94-2.06 2.06-.94-2.06-.94-.94-2.06-.94 2.06-2.06.94z\"/><path d=\"M17.41 7.96l-1.37-1.37c-.4-.4-.92-.59-1.43-.59-.52 0-1.04.2-1.43.59L10.3 9.45l-7.72 7.72c-.78.78-.78 2.05 0 2.83L4 21.41c.39.39.9.59 1.41.59.51 0 1.02-.2 1.41-.59l7.78-7.78 2.81-2.81c.8-.78.8-2.07 0-2.86zM5.41 20L4 18.59l7.72-7.72 1.47 1.35L5.41 20z\"/>\n",
              "  </svg>\n",
              "      </button>\n",
              "      \n",
              "  <style>\n",
              "    .colab-df-container {\n",
              "      display:flex;\n",
              "      flex-wrap:wrap;\n",
              "      gap: 12px;\n",
              "    }\n",
              "\n",
              "    .colab-df-convert {\n",
              "      background-color: #E8F0FE;\n",
              "      border: none;\n",
              "      border-radius: 50%;\n",
              "      cursor: pointer;\n",
              "      display: none;\n",
              "      fill: #1967D2;\n",
              "      height: 32px;\n",
              "      padding: 0 0 0 0;\n",
              "      width: 32px;\n",
              "    }\n",
              "\n",
              "    .colab-df-convert:hover {\n",
              "      background-color: #E2EBFA;\n",
              "      box-shadow: 0px 1px 2px rgba(60, 64, 67, 0.3), 0px 1px 3px 1px rgba(60, 64, 67, 0.15);\n",
              "      fill: #174EA6;\n",
              "    }\n",
              "\n",
              "    [theme=dark] .colab-df-convert {\n",
              "      background-color: #3B4455;\n",
              "      fill: #D2E3FC;\n",
              "    }\n",
              "\n",
              "    [theme=dark] .colab-df-convert:hover {\n",
              "      background-color: #434B5C;\n",
              "      box-shadow: 0px 1px 3px 1px rgba(0, 0, 0, 0.15);\n",
              "      filter: drop-shadow(0px 1px 2px rgba(0, 0, 0, 0.3));\n",
              "      fill: #FFFFFF;\n",
              "    }\n",
              "  </style>\n",
              "\n",
              "      <script>\n",
              "        const buttonEl =\n",
              "          document.querySelector('#df-7c00e131-b88c-4c03-b253-28e3a5a80620 button.colab-df-convert');\n",
              "        buttonEl.style.display =\n",
              "          google.colab.kernel.accessAllowed ? 'block' : 'none';\n",
              "\n",
              "        async function convertToInteractive(key) {\n",
              "          const element = document.querySelector('#df-7c00e131-b88c-4c03-b253-28e3a5a80620');\n",
              "          const dataTable =\n",
              "            await google.colab.kernel.invokeFunction('convertToInteractive',\n",
              "                                                     [key], {});\n",
              "          if (!dataTable) return;\n",
              "\n",
              "          const docLinkHtml = 'Like what you see? Visit the ' +\n",
              "            '<a target=\"_blank\" href=https://colab.research.google.com/notebooks/data_table.ipynb>data table notebook</a>'\n",
              "            + ' to learn more about interactive tables.';\n",
              "          element.innerHTML = '';\n",
              "          dataTable['output_type'] = 'display_data';\n",
              "          await google.colab.output.renderOutput(dataTable, element);\n",
              "          const docLink = document.createElement('div');\n",
              "          docLink.innerHTML = docLinkHtml;\n",
              "          element.appendChild(docLink);\n",
              "        }\n",
              "      </script>\n",
              "    </div>\n",
              "  </div>\n",
              "  "
            ]
          },
          "metadata": {},
          "execution_count": 25
        }
      ]
    },
    {
      "cell_type": "markdown",
      "metadata": {
        "id": "D82ocp_djQLR"
      },
      "source": [
        "### Método 2"
      ]
    },
    {
      "cell_type": "markdown",
      "metadata": {
        "id": "rLbfeA_UX7HF"
      },
      "source": [
        "https://pandas.pydata.org/pandas-docs/version/0.22/generated/pandas.crosstab.html"
      ]
    },
    {
      "cell_type": "markdown",
      "source": [
        "![image.png](data:image/png;base64,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)"
      ],
      "metadata": {
        "id": "fDD-kAqRnIZt"
      }
    },
    {
      "cell_type": "code",
      "execution_count": null,
      "metadata": {
        "id": "d8XMZiEfjQLS"
      },
      "outputs": [],
      "source": [
        "sexo = {0: 'Masculino',\n",
        "        1: 'Feminino'}\n",
        "\n",
        "cor = {0: 'Indígena',\n",
        "        2: 'Branca',\n",
        "        4: 'Preta',\n",
        "        6: 'Amarela',\n",
        "        8: 'Parda',\n",
        "        9: 'Sem declaração'}"
      ]
    },
    {
      "cell_type": "code",
      "execution_count": null,
      "metadata": {
        "id": "YLCyOKYcjQLU",
        "colab": {
          "base_uri": "https://localhost:8080/",
          "height": 143
        },
        "outputId": "7af1abad-6034-46bc-d6a9-bf25ef80295a"
      },
      "outputs": [
        {
          "output_type": "execute_result",
          "data": {
            "text/plain": [
              "Cor        Indígena  Branca  Preta  Amarela  Parda\n",
              "Sexo                                              \n",
              "Masculino       256   22194   5502      235  25063\n",
              "Feminino        101    9621   2889      117  10862"
            ],
            "text/html": [
              "\n",
              "  <div id=\"df-58f956fa-6f4f-4c44-b6a6-45ba90127ac5\">\n",
              "    <div class=\"colab-df-container\">\n",
              "      <div>\n",
              "<style scoped>\n",
              "    .dataframe tbody tr th:only-of-type {\n",
              "        vertical-align: middle;\n",
              "    }\n",
              "\n",
              "    .dataframe tbody tr th {\n",
              "        vertical-align: top;\n",
              "    }\n",
              "\n",
              "    .dataframe thead th {\n",
              "        text-align: right;\n",
              "    }\n",
              "</style>\n",
              "<table border=\"1\" class=\"dataframe\">\n",
              "  <thead>\n",
              "    <tr style=\"text-align: right;\">\n",
              "      <th>Cor</th>\n",
              "      <th>Indígena</th>\n",
              "      <th>Branca</th>\n",
              "      <th>Preta</th>\n",
              "      <th>Amarela</th>\n",
              "      <th>Parda</th>\n",
              "    </tr>\n",
              "    <tr>\n",
              "      <th>Sexo</th>\n",
              "      <th></th>\n",
              "      <th></th>\n",
              "      <th></th>\n",
              "      <th></th>\n",
              "      <th></th>\n",
              "    </tr>\n",
              "  </thead>\n",
              "  <tbody>\n",
              "    <tr>\n",
              "      <th>Masculino</th>\n",
              "      <td>256</td>\n",
              "      <td>22194</td>\n",
              "      <td>5502</td>\n",
              "      <td>235</td>\n",
              "      <td>25063</td>\n",
              "    </tr>\n",
              "    <tr>\n",
              "      <th>Feminino</th>\n",
              "      <td>101</td>\n",
              "      <td>9621</td>\n",
              "      <td>2889</td>\n",
              "      <td>117</td>\n",
              "      <td>10862</td>\n",
              "    </tr>\n",
              "  </tbody>\n",
              "</table>\n",
              "</div>\n",
              "      <button class=\"colab-df-convert\" onclick=\"convertToInteractive('df-58f956fa-6f4f-4c44-b6a6-45ba90127ac5')\"\n",
              "              title=\"Convert this dataframe to an interactive table.\"\n",
              "              style=\"display:none;\">\n",
              "        \n",
              "  <svg xmlns=\"http://www.w3.org/2000/svg\" height=\"24px\"viewBox=\"0 0 24 24\"\n",
              "       width=\"24px\">\n",
              "    <path d=\"M0 0h24v24H0V0z\" fill=\"none\"/>\n",
              "    <path d=\"M18.56 5.44l.94 2.06.94-2.06 2.06-.94-2.06-.94-.94-2.06-.94 2.06-2.06.94zm-11 1L8.5 8.5l.94-2.06 2.06-.94-2.06-.94L8.5 2.5l-.94 2.06-2.06.94zm10 10l.94 2.06.94-2.06 2.06-.94-2.06-.94-.94-2.06-.94 2.06-2.06.94z\"/><path d=\"M17.41 7.96l-1.37-1.37c-.4-.4-.92-.59-1.43-.59-.52 0-1.04.2-1.43.59L10.3 9.45l-7.72 7.72c-.78.78-.78 2.05 0 2.83L4 21.41c.39.39.9.59 1.41.59.51 0 1.02-.2 1.41-.59l7.78-7.78 2.81-2.81c.8-.78.8-2.07 0-2.86zM5.41 20L4 18.59l7.72-7.72 1.47 1.35L5.41 20z\"/>\n",
              "  </svg>\n",
              "      </button>\n",
              "      \n",
              "  <style>\n",
              "    .colab-df-container {\n",
              "      display:flex;\n",
              "      flex-wrap:wrap;\n",
              "      gap: 12px;\n",
              "    }\n",
              "\n",
              "    .colab-df-convert {\n",
              "      background-color: #E8F0FE;\n",
              "      border: none;\n",
              "      border-radius: 50%;\n",
              "      cursor: pointer;\n",
              "      display: none;\n",
              "      fill: #1967D2;\n",
              "      height: 32px;\n",
              "      padding: 0 0 0 0;\n",
              "      width: 32px;\n",
              "    }\n",
              "\n",
              "    .colab-df-convert:hover {\n",
              "      background-color: #E2EBFA;\n",
              "      box-shadow: 0px 1px 2px rgba(60, 64, 67, 0.3), 0px 1px 3px 1px rgba(60, 64, 67, 0.15);\n",
              "      fill: #174EA6;\n",
              "    }\n",
              "\n",
              "    [theme=dark] .colab-df-convert {\n",
              "      background-color: #3B4455;\n",
              "      fill: #D2E3FC;\n",
              "    }\n",
              "\n",
              "    [theme=dark] .colab-df-convert:hover {\n",
              "      background-color: #434B5C;\n",
              "      box-shadow: 0px 1px 3px 1px rgba(0, 0, 0, 0.15);\n",
              "      filter: drop-shadow(0px 1px 2px rgba(0, 0, 0, 0.3));\n",
              "      fill: #FFFFFF;\n",
              "    }\n",
              "  </style>\n",
              "\n",
              "      <script>\n",
              "        const buttonEl =\n",
              "          document.querySelector('#df-58f956fa-6f4f-4c44-b6a6-45ba90127ac5 button.colab-df-convert');\n",
              "        buttonEl.style.display =\n",
              "          google.colab.kernel.accessAllowed ? 'block' : 'none';\n",
              "\n",
              "        async function convertToInteractive(key) {\n",
              "          const element = document.querySelector('#df-58f956fa-6f4f-4c44-b6a6-45ba90127ac5');\n",
              "          const dataTable =\n",
              "            await google.colab.kernel.invokeFunction('convertToInteractive',\n",
              "                                                     [key], {});\n",
              "          if (!dataTable) return;\n",
              "\n",
              "          const docLinkHtml = 'Like what you see? Visit the ' +\n",
              "            '<a target=\"_blank\" href=https://colab.research.google.com/notebooks/data_table.ipynb>data table notebook</a>'\n",
              "            + ' to learn more about interactive tables.';\n",
              "          element.innerHTML = '';\n",
              "          dataTable['output_type'] = 'display_data';\n",
              "          await google.colab.output.renderOutput(dataTable, element);\n",
              "          const docLink = document.createElement('div');\n",
              "          docLink.innerHTML = docLinkHtml;\n",
              "          element.appendChild(docLink);\n",
              "        }\n",
              "      </script>\n",
              "    </div>\n",
              "  </div>\n",
              "  "
            ]
          },
          "metadata": {},
          "execution_count": 27
        }
      ],
      "source": [
        "frequencia = pd.crosstab(dados.Sexo,\n",
        "                         dados.Cor)\n",
        "frequencia.rename(index = sexo, inplace = True)\n",
        "frequencia.rename(columns = cor, inplace = True)\n",
        "frequencia"
      ]
    },
    {
      "cell_type": "code",
      "execution_count": null,
      "metadata": {
        "id": "nrDtcf5gjQLV",
        "colab": {
          "base_uri": "https://localhost:8080/",
          "height": 143
        },
        "outputId": "5cafb038-882d-4748-99ea-4049c54ec2e1"
      },
      "outputs": [
        {
          "output_type": "execute_result",
          "data": {
            "text/plain": [
              "Cor        Indígena     Branca     Preta   Amarela      Parda\n",
              "Sexo                                                         \n",
              "Masculino  0.333160  28.883394  7.160333  0.305830  32.617126\n",
              "Feminino   0.131442  12.520822  3.759761  0.152264  14.135867"
            ],
            "text/html": [
              "\n",
              "  <div id=\"df-68da30ca-e3e3-4f39-8fbc-06d8ec8f6738\">\n",
              "    <div class=\"colab-df-container\">\n",
              "      <div>\n",
              "<style scoped>\n",
              "    .dataframe tbody tr th:only-of-type {\n",
              "        vertical-align: middle;\n",
              "    }\n",
              "\n",
              "    .dataframe tbody tr th {\n",
              "        vertical-align: top;\n",
              "    }\n",
              "\n",
              "    .dataframe thead th {\n",
              "        text-align: right;\n",
              "    }\n",
              "</style>\n",
              "<table border=\"1\" class=\"dataframe\">\n",
              "  <thead>\n",
              "    <tr style=\"text-align: right;\">\n",
              "      <th>Cor</th>\n",
              "      <th>Indígena</th>\n",
              "      <th>Branca</th>\n",
              "      <th>Preta</th>\n",
              "      <th>Amarela</th>\n",
              "      <th>Parda</th>\n",
              "    </tr>\n",
              "    <tr>\n",
              "      <th>Sexo</th>\n",
              "      <th></th>\n",
              "      <th></th>\n",
              "      <th></th>\n",
              "      <th></th>\n",
              "      <th></th>\n",
              "    </tr>\n",
              "  </thead>\n",
              "  <tbody>\n",
              "    <tr>\n",
              "      <th>Masculino</th>\n",
              "      <td>0.333160</td>\n",
              "      <td>28.883394</td>\n",
              "      <td>7.160333</td>\n",
              "      <td>0.305830</td>\n",
              "      <td>32.617126</td>\n",
              "    </tr>\n",
              "    <tr>\n",
              "      <th>Feminino</th>\n",
              "      <td>0.131442</td>\n",
              "      <td>12.520822</td>\n",
              "      <td>3.759761</td>\n",
              "      <td>0.152264</td>\n",
              "      <td>14.135867</td>\n",
              "    </tr>\n",
              "  </tbody>\n",
              "</table>\n",
              "</div>\n",
              "      <button class=\"colab-df-convert\" onclick=\"convertToInteractive('df-68da30ca-e3e3-4f39-8fbc-06d8ec8f6738')\"\n",
              "              title=\"Convert this dataframe to an interactive table.\"\n",
              "              style=\"display:none;\">\n",
              "        \n",
              "  <svg xmlns=\"http://www.w3.org/2000/svg\" height=\"24px\"viewBox=\"0 0 24 24\"\n",
              "       width=\"24px\">\n",
              "    <path d=\"M0 0h24v24H0V0z\" fill=\"none\"/>\n",
              "    <path d=\"M18.56 5.44l.94 2.06.94-2.06 2.06-.94-2.06-.94-.94-2.06-.94 2.06-2.06.94zm-11 1L8.5 8.5l.94-2.06 2.06-.94-2.06-.94L8.5 2.5l-.94 2.06-2.06.94zm10 10l.94 2.06.94-2.06 2.06-.94-2.06-.94-.94-2.06-.94 2.06-2.06.94z\"/><path d=\"M17.41 7.96l-1.37-1.37c-.4-.4-.92-.59-1.43-.59-.52 0-1.04.2-1.43.59L10.3 9.45l-7.72 7.72c-.78.78-.78 2.05 0 2.83L4 21.41c.39.39.9.59 1.41.59.51 0 1.02-.2 1.41-.59l7.78-7.78 2.81-2.81c.8-.78.8-2.07 0-2.86zM5.41 20L4 18.59l7.72-7.72 1.47 1.35L5.41 20z\"/>\n",
              "  </svg>\n",
              "      </button>\n",
              "      \n",
              "  <style>\n",
              "    .colab-df-container {\n",
              "      display:flex;\n",
              "      flex-wrap:wrap;\n",
              "      gap: 12px;\n",
              "    }\n",
              "\n",
              "    .colab-df-convert {\n",
              "      background-color: #E8F0FE;\n",
              "      border: none;\n",
              "      border-radius: 50%;\n",
              "      cursor: pointer;\n",
              "      display: none;\n",
              "      fill: #1967D2;\n",
              "      height: 32px;\n",
              "      padding: 0 0 0 0;\n",
              "      width: 32px;\n",
              "    }\n",
              "\n",
              "    .colab-df-convert:hover {\n",
              "      background-color: #E2EBFA;\n",
              "      box-shadow: 0px 1px 2px rgba(60, 64, 67, 0.3), 0px 1px 3px 1px rgba(60, 64, 67, 0.15);\n",
              "      fill: #174EA6;\n",
              "    }\n",
              "\n",
              "    [theme=dark] .colab-df-convert {\n",
              "      background-color: #3B4455;\n",
              "      fill: #D2E3FC;\n",
              "    }\n",
              "\n",
              "    [theme=dark] .colab-df-convert:hover {\n",
              "      background-color: #434B5C;\n",
              "      box-shadow: 0px 1px 3px 1px rgba(0, 0, 0, 0.15);\n",
              "      filter: drop-shadow(0px 1px 2px rgba(0, 0, 0, 0.3));\n",
              "      fill: #FFFFFF;\n",
              "    }\n",
              "  </style>\n",
              "\n",
              "      <script>\n",
              "        const buttonEl =\n",
              "          document.querySelector('#df-68da30ca-e3e3-4f39-8fbc-06d8ec8f6738 button.colab-df-convert');\n",
              "        buttonEl.style.display =\n",
              "          google.colab.kernel.accessAllowed ? 'block' : 'none';\n",
              "\n",
              "        async function convertToInteractive(key) {\n",
              "          const element = document.querySelector('#df-68da30ca-e3e3-4f39-8fbc-06d8ec8f6738');\n",
              "          const dataTable =\n",
              "            await google.colab.kernel.invokeFunction('convertToInteractive',\n",
              "                                                     [key], {});\n",
              "          if (!dataTable) return;\n",
              "\n",
              "          const docLinkHtml = 'Like what you see? Visit the ' +\n",
              "            '<a target=\"_blank\" href=https://colab.research.google.com/notebooks/data_table.ipynb>data table notebook</a>'\n",
              "            + ' to learn more about interactive tables.';\n",
              "          element.innerHTML = '';\n",
              "          dataTable['output_type'] = 'display_data';\n",
              "          await google.colab.output.renderOutput(dataTable, element);\n",
              "          const docLink = document.createElement('div');\n",
              "          docLink.innerHTML = docLinkHtml;\n",
              "          element.appendChild(docLink);\n",
              "        }\n",
              "      </script>\n",
              "    </div>\n",
              "  </div>\n",
              "  "
            ]
          },
          "metadata": {},
          "execution_count": 28
        }
      ],
      "source": [
        "frequencia = pd.crosstab(dados.Sexo,\n",
        "                         dados.Cor,\n",
        "                         normalize = True) * 100\n",
        "frequencia.rename(index = sexo, inplace = True)\n",
        "frequencia.rename(columns = cor, inplace = True)\n",
        "frequencia"
      ]
    },
    {
      "cell_type": "code",
      "execution_count": null,
      "metadata": {
        "id": "_MHwBGcdp6dl",
        "colab": {
          "base_uri": "https://localhost:8080/",
          "height": 143
        },
        "outputId": "f079fb64-7287-4415-b829-09e3e319431a"
      },
      "outputs": [
        {
          "output_type": "execute_result",
          "data": {
            "text/plain": [
              "Cor           Indígena       Branca        Preta      Amarela        Parda\n",
              "Sexo                                                                      \n",
              "Masculino  1081.710938  2925.744435  1603.861687  4758.251064  1659.577425\n",
              "Feminino   2464.386139  2109.866750  1134.596400  3027.341880  1176.758516"
            ],
            "text/html": [
              "\n",
              "  <div id=\"df-e98fe9a5-28f8-4305-8a71-5e63ab2560e8\">\n",
              "    <div class=\"colab-df-container\">\n",
              "      <div>\n",
              "<style scoped>\n",
              "    .dataframe tbody tr th:only-of-type {\n",
              "        vertical-align: middle;\n",
              "    }\n",
              "\n",
              "    .dataframe tbody tr th {\n",
              "        vertical-align: top;\n",
              "    }\n",
              "\n",
              "    .dataframe thead th {\n",
              "        text-align: right;\n",
              "    }\n",
              "</style>\n",
              "<table border=\"1\" class=\"dataframe\">\n",
              "  <thead>\n",
              "    <tr style=\"text-align: right;\">\n",
              "      <th>Cor</th>\n",
              "      <th>Indígena</th>\n",
              "      <th>Branca</th>\n",
              "      <th>Preta</th>\n",
              "      <th>Amarela</th>\n",
              "      <th>Parda</th>\n",
              "    </tr>\n",
              "    <tr>\n",
              "      <th>Sexo</th>\n",
              "      <th></th>\n",
              "      <th></th>\n",
              "      <th></th>\n",
              "      <th></th>\n",
              "      <th></th>\n",
              "    </tr>\n",
              "  </thead>\n",
              "  <tbody>\n",
              "    <tr>\n",
              "      <th>Masculino</th>\n",
              "      <td>1081.710938</td>\n",
              "      <td>2925.744435</td>\n",
              "      <td>1603.861687</td>\n",
              "      <td>4758.251064</td>\n",
              "      <td>1659.577425</td>\n",
              "    </tr>\n",
              "    <tr>\n",
              "      <th>Feminino</th>\n",
              "      <td>2464.386139</td>\n",
              "      <td>2109.866750</td>\n",
              "      <td>1134.596400</td>\n",
              "      <td>3027.341880</td>\n",
              "      <td>1176.758516</td>\n",
              "    </tr>\n",
              "  </tbody>\n",
              "</table>\n",
              "</div>\n",
              "      <button class=\"colab-df-convert\" onclick=\"convertToInteractive('df-e98fe9a5-28f8-4305-8a71-5e63ab2560e8')\"\n",
              "              title=\"Convert this dataframe to an interactive table.\"\n",
              "              style=\"display:none;\">\n",
              "        \n",
              "  <svg xmlns=\"http://www.w3.org/2000/svg\" height=\"24px\"viewBox=\"0 0 24 24\"\n",
              "       width=\"24px\">\n",
              "    <path d=\"M0 0h24v24H0V0z\" fill=\"none\"/>\n",
              "    <path d=\"M18.56 5.44l.94 2.06.94-2.06 2.06-.94-2.06-.94-.94-2.06-.94 2.06-2.06.94zm-11 1L8.5 8.5l.94-2.06 2.06-.94-2.06-.94L8.5 2.5l-.94 2.06-2.06.94zm10 10l.94 2.06.94-2.06 2.06-.94-2.06-.94-.94-2.06-.94 2.06-2.06.94z\"/><path d=\"M17.41 7.96l-1.37-1.37c-.4-.4-.92-.59-1.43-.59-.52 0-1.04.2-1.43.59L10.3 9.45l-7.72 7.72c-.78.78-.78 2.05 0 2.83L4 21.41c.39.39.9.59 1.41.59.51 0 1.02-.2 1.41-.59l7.78-7.78 2.81-2.81c.8-.78.8-2.07 0-2.86zM5.41 20L4 18.59l7.72-7.72 1.47 1.35L5.41 20z\"/>\n",
              "  </svg>\n",
              "      </button>\n",
              "      \n",
              "  <style>\n",
              "    .colab-df-container {\n",
              "      display:flex;\n",
              "      flex-wrap:wrap;\n",
              "      gap: 12px;\n",
              "    }\n",
              "\n",
              "    .colab-df-convert {\n",
              "      background-color: #E8F0FE;\n",
              "      border: none;\n",
              "      border-radius: 50%;\n",
              "      cursor: pointer;\n",
              "      display: none;\n",
              "      fill: #1967D2;\n",
              "      height: 32px;\n",
              "      padding: 0 0 0 0;\n",
              "      width: 32px;\n",
              "    }\n",
              "\n",
              "    .colab-df-convert:hover {\n",
              "      background-color: #E2EBFA;\n",
              "      box-shadow: 0px 1px 2px rgba(60, 64, 67, 0.3), 0px 1px 3px 1px rgba(60, 64, 67, 0.15);\n",
              "      fill: #174EA6;\n",
              "    }\n",
              "\n",
              "    [theme=dark] .colab-df-convert {\n",
              "      background-color: #3B4455;\n",
              "      fill: #D2E3FC;\n",
              "    }\n",
              "\n",
              "    [theme=dark] .colab-df-convert:hover {\n",
              "      background-color: #434B5C;\n",
              "      box-shadow: 0px 1px 3px 1px rgba(0, 0, 0, 0.15);\n",
              "      filter: drop-shadow(0px 1px 2px rgba(0, 0, 0, 0.3));\n",
              "      fill: #FFFFFF;\n",
              "    }\n",
              "  </style>\n",
              "\n",
              "      <script>\n",
              "        const buttonEl =\n",
              "          document.querySelector('#df-e98fe9a5-28f8-4305-8a71-5e63ab2560e8 button.colab-df-convert');\n",
              "        buttonEl.style.display =\n",
              "          google.colab.kernel.accessAllowed ? 'block' : 'none';\n",
              "\n",
              "        async function convertToInteractive(key) {\n",
              "          const element = document.querySelector('#df-e98fe9a5-28f8-4305-8a71-5e63ab2560e8');\n",
              "          const dataTable =\n",
              "            await google.colab.kernel.invokeFunction('convertToInteractive',\n",
              "                                                     [key], {});\n",
              "          if (!dataTable) return;\n",
              "\n",
              "          const docLinkHtml = 'Like what you see? Visit the ' +\n",
              "            '<a target=\"_blank\" href=https://colab.research.google.com/notebooks/data_table.ipynb>data table notebook</a>'\n",
              "            + ' to learn more about interactive tables.';\n",
              "          element.innerHTML = '';\n",
              "          dataTable['output_type'] = 'display_data';\n",
              "          await google.colab.output.renderOutput(dataTable, element);\n",
              "          const docLink = document.createElement('div');\n",
              "          docLink.innerHTML = docLinkHtml;\n",
              "          element.appendChild(docLink);\n",
              "        }\n",
              "      </script>\n",
              "    </div>\n",
              "  </div>\n",
              "  "
            ]
          },
          "metadata": {},
          "execution_count": 29
        }
      ],
      "source": [
        "frequencia = pd.crosstab(dados.Sexo,\n",
        "                         dados.Cor,\n",
        "                         aggfunc = 'mean',\n",
        "                         values = dados.Renda)\n",
        "frequencia.rename(index = sexo, inplace = True)\n",
        "frequencia.rename(columns = cor, inplace = True)\n",
        "frequencia"
      ]
    },
    {
      "cell_type": "markdown",
      "metadata": {
        "id": "eaXQUxnXjQLa"
      },
      "source": [
        "## <font color=green>2.2 Distribuição de frequências para variáveis quantitativas (classes personalizadas)</font>\n",
        "***"
      ]
    },
    {
      "cell_type": "markdown",
      "metadata": {
        "id": "wxsSD-VVjQLb"
      },
      "source": [
        "### Passo 1 - Especificar os limites de cada classe\n",
        "\n",
        "Utilizar a seguinte classificação:\n",
        "\n",
        "<b>A</b> ► Acima de 20 SM\n",
        "\n",
        "<b>B</b> ► De 10 a 20 SM\n",
        "\n",
        "<b>C</b> ► De 4 a 10 SM\n",
        "\n",
        "<b>D</b> ► De 2 a 4 SM\n",
        "\n",
        "<b>E</b> ► Até 2 SM\n",
        "\n",
        "onde <b>SM</b> é o valor do salário mínimo na época. Em nosso caso <b>R$ 788,00</b> (2015):\n",
        "\n",
        "<b>A</b> ► Acima de 15.760\n",
        "\n",
        "<b>B</b> ► De 7.880 a 15.760\n",
        "\n",
        "<b>C</b> ► De 3.152 a 7.880\n",
        "\n",
        "<b>D</b> ► De 1.576 a 3.152\n",
        "\n",
        "<b>E</b> ► Até 1.576\n"
      ]
    },
    {
      "cell_type": "code",
      "execution_count": null,
      "metadata": {
        "id": "Z08790GUjQLc",
        "colab": {
          "base_uri": "https://localhost:8080/"
        },
        "outputId": "f3890633-a082-4679-8b58-7a8185046112"
      },
      "outputs": [
        {
          "output_type": "execute_result",
          "data": {
            "text/plain": [
              "0"
            ]
          },
          "metadata": {},
          "execution_count": 30
        }
      ],
      "source": [
        "dados.Renda.min()"
      ]
    },
    {
      "cell_type": "code",
      "execution_count": null,
      "metadata": {
        "id": "5q2V5-0FjQLe",
        "colab": {
          "base_uri": "https://localhost:8080/"
        },
        "outputId": "d1605fc4-5030-4a9e-e2d9-696053d6763c"
      },
      "outputs": [
        {
          "output_type": "execute_result",
          "data": {
            "text/plain": [
              "200000"
            ]
          },
          "metadata": {},
          "execution_count": 31
        }
      ],
      "source": [
        "dados.Renda.max()"
      ]
    },
    {
      "cell_type": "code",
      "execution_count": null,
      "metadata": {
        "id": "Qt5F5w2UjQLg"
      },
      "outputs": [],
      "source": [
        "classes = [0, 1576, 3152, 7880, 15760, 200000]"
      ]
    },
    {
      "cell_type": "code",
      "execution_count": null,
      "metadata": {
        "id": "DKPIGOLLjQLi"
      },
      "outputs": [],
      "source": [
        "labels = ['E', 'D', 'C', 'B', 'A']"
      ]
    },
    {
      "cell_type": "markdown",
      "metadata": {
        "id": "IQhlvrQUjQLk"
      },
      "source": [
        "### Passo 2 - Criar a tabela de frequências"
      ]
    },
    {
      "cell_type": "markdown",
      "metadata": {
        "id": "Uy3fH4IxX7Hc"
      },
      "source": [
        "https://pandas.pydata.org/pandas-docs/version/0.22/generated/pandas.cut.html"
      ]
    },
    {
      "cell_type": "markdown",
      "source": [
        "![image.png](data:image/png;base64,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)"
      ],
      "metadata": {
        "id": "B0ScgHx0nRqz"
      }
    },
    {
      "cell_type": "code",
      "source": [
        "dados.head()"
      ],
      "metadata": {
        "colab": {
          "base_uri": "https://localhost:8080/",
          "height": 206
        },
        "id": "s6pXBxIgqG3u",
        "outputId": "9b4322f8-7ed8-43a4-ec80-4c4491c4ef41"
      },
      "execution_count": null,
      "outputs": [
        {
          "output_type": "execute_result",
          "data": {
            "text/plain": [
              "   UF  Sexo  Idade  Cor  Anos de Estudo  Renda    Altura\n",
              "0  11     0     23    8              12    800  1.603808\n",
              "1  11     1     23    2              12   1150  1.739790\n",
              "2  11     1     35    8              15    880  1.760444\n",
              "3  11     0     46    2               6   3500  1.783158\n",
              "4  11     1     47    8               9    150  1.690631"
            ],
            "text/html": [
              "\n",
              "  <div id=\"df-0410d831-3a48-4142-9952-74ac54fc2448\">\n",
              "    <div class=\"colab-df-container\">\n",
              "      <div>\n",
              "<style scoped>\n",
              "    .dataframe tbody tr th:only-of-type {\n",
              "        vertical-align: middle;\n",
              "    }\n",
              "\n",
              "    .dataframe tbody tr th {\n",
              "        vertical-align: top;\n",
              "    }\n",
              "\n",
              "    .dataframe thead th {\n",
              "        text-align: right;\n",
              "    }\n",
              "</style>\n",
              "<table border=\"1\" class=\"dataframe\">\n",
              "  <thead>\n",
              "    <tr style=\"text-align: right;\">\n",
              "      <th></th>\n",
              "      <th>UF</th>\n",
              "      <th>Sexo</th>\n",
              "      <th>Idade</th>\n",
              "      <th>Cor</th>\n",
              "      <th>Anos de Estudo</th>\n",
              "      <th>Renda</th>\n",
              "      <th>Altura</th>\n",
              "    </tr>\n",
              "  </thead>\n",
              "  <tbody>\n",
              "    <tr>\n",
              "      <th>0</th>\n",
              "      <td>11</td>\n",
              "      <td>0</td>\n",
              "      <td>23</td>\n",
              "      <td>8</td>\n",
              "      <td>12</td>\n",
              "      <td>800</td>\n",
              "      <td>1.603808</td>\n",
              "    </tr>\n",
              "    <tr>\n",
              "      <th>1</th>\n",
              "      <td>11</td>\n",
              "      <td>1</td>\n",
              "      <td>23</td>\n",
              "      <td>2</td>\n",
              "      <td>12</td>\n",
              "      <td>1150</td>\n",
              "      <td>1.739790</td>\n",
              "    </tr>\n",
              "    <tr>\n",
              "      <th>2</th>\n",
              "      <td>11</td>\n",
              "      <td>1</td>\n",
              "      <td>35</td>\n",
              "      <td>8</td>\n",
              "      <td>15</td>\n",
              "      <td>880</td>\n",
              "      <td>1.760444</td>\n",
              "    </tr>\n",
              "    <tr>\n",
              "      <th>3</th>\n",
              "      <td>11</td>\n",
              "      <td>0</td>\n",
              "      <td>46</td>\n",
              "      <td>2</td>\n",
              "      <td>6</td>\n",
              "      <td>3500</td>\n",
              "      <td>1.783158</td>\n",
              "    </tr>\n",
              "    <tr>\n",
              "      <th>4</th>\n",
              "      <td>11</td>\n",
              "      <td>1</td>\n",
              "      <td>47</td>\n",
              "      <td>8</td>\n",
              "      <td>9</td>\n",
              "      <td>150</td>\n",
              "      <td>1.690631</td>\n",
              "    </tr>\n",
              "  </tbody>\n",
              "</table>\n",
              "</div>\n",
              "      <button class=\"colab-df-convert\" onclick=\"convertToInteractive('df-0410d831-3a48-4142-9952-74ac54fc2448')\"\n",
              "              title=\"Convert this dataframe to an interactive table.\"\n",
              "              style=\"display:none;\">\n",
              "        \n",
              "  <svg xmlns=\"http://www.w3.org/2000/svg\" height=\"24px\"viewBox=\"0 0 24 24\"\n",
              "       width=\"24px\">\n",
              "    <path d=\"M0 0h24v24H0V0z\" fill=\"none\"/>\n",
              "    <path d=\"M18.56 5.44l.94 2.06.94-2.06 2.06-.94-2.06-.94-.94-2.06-.94 2.06-2.06.94zm-11 1L8.5 8.5l.94-2.06 2.06-.94-2.06-.94L8.5 2.5l-.94 2.06-2.06.94zm10 10l.94 2.06.94-2.06 2.06-.94-2.06-.94-.94-2.06-.94 2.06-2.06.94z\"/><path d=\"M17.41 7.96l-1.37-1.37c-.4-.4-.92-.59-1.43-.59-.52 0-1.04.2-1.43.59L10.3 9.45l-7.72 7.72c-.78.78-.78 2.05 0 2.83L4 21.41c.39.39.9.59 1.41.59.51 0 1.02-.2 1.41-.59l7.78-7.78 2.81-2.81c.8-.78.8-2.07 0-2.86zM5.41 20L4 18.59l7.72-7.72 1.47 1.35L5.41 20z\"/>\n",
              "  </svg>\n",
              "      </button>\n",
              "      \n",
              "  <style>\n",
              "    .colab-df-container {\n",
              "      display:flex;\n",
              "      flex-wrap:wrap;\n",
              "      gap: 12px;\n",
              "    }\n",
              "\n",
              "    .colab-df-convert {\n",
              "      background-color: #E8F0FE;\n",
              "      border: none;\n",
              "      border-radius: 50%;\n",
              "      cursor: pointer;\n",
              "      display: none;\n",
              "      fill: #1967D2;\n",
              "      height: 32px;\n",
              "      padding: 0 0 0 0;\n",
              "      width: 32px;\n",
              "    }\n",
              "\n",
              "    .colab-df-convert:hover {\n",
              "      background-color: #E2EBFA;\n",
              "      box-shadow: 0px 1px 2px rgba(60, 64, 67, 0.3), 0px 1px 3px 1px rgba(60, 64, 67, 0.15);\n",
              "      fill: #174EA6;\n",
              "    }\n",
              "\n",
              "    [theme=dark] .colab-df-convert {\n",
              "      background-color: #3B4455;\n",
              "      fill: #D2E3FC;\n",
              "    }\n",
              "\n",
              "    [theme=dark] .colab-df-convert:hover {\n",
              "      background-color: #434B5C;\n",
              "      box-shadow: 0px 1px 3px 1px rgba(0, 0, 0, 0.15);\n",
              "      filter: drop-shadow(0px 1px 2px rgba(0, 0, 0, 0.3));\n",
              "      fill: #FFFFFF;\n",
              "    }\n",
              "  </style>\n",
              "\n",
              "      <script>\n",
              "        const buttonEl =\n",
              "          document.querySelector('#df-0410d831-3a48-4142-9952-74ac54fc2448 button.colab-df-convert');\n",
              "        buttonEl.style.display =\n",
              "          google.colab.kernel.accessAllowed ? 'block' : 'none';\n",
              "\n",
              "        async function convertToInteractive(key) {\n",
              "          const element = document.querySelector('#df-0410d831-3a48-4142-9952-74ac54fc2448');\n",
              "          const dataTable =\n",
              "            await google.colab.kernel.invokeFunction('convertToInteractive',\n",
              "                                                     [key], {});\n",
              "          if (!dataTable) return;\n",
              "\n",
              "          const docLinkHtml = 'Like what you see? Visit the ' +\n",
              "            '<a target=\"_blank\" href=https://colab.research.google.com/notebooks/data_table.ipynb>data table notebook</a>'\n",
              "            + ' to learn more about interactive tables.';\n",
              "          element.innerHTML = '';\n",
              "          dataTable['output_type'] = 'display_data';\n",
              "          await google.colab.output.renderOutput(dataTable, element);\n",
              "          const docLink = document.createElement('div');\n",
              "          docLink.innerHTML = docLinkHtml;\n",
              "          element.appendChild(docLink);\n",
              "        }\n",
              "      </script>\n",
              "    </div>\n",
              "  </div>\n",
              "  "
            ]
          },
          "metadata": {},
          "execution_count": 34
        }
      ]
    },
    {
      "cell_type": "code",
      "source": [
        "pd.cut(x = dados.Renda,\n",
        "       bins = classes,\n",
        "       labels = labels,\n",
        "       include_lowest = True)"
      ],
      "metadata": {
        "colab": {
          "base_uri": "https://localhost:8080/"
        },
        "id": "NbmqzHNQpWKi",
        "outputId": "834ef474-3ea9-49ee-d824-f50521731b81"
      },
      "execution_count": null,
      "outputs": [
        {
          "output_type": "execute_result",
          "data": {
            "text/plain": [
              "0        E\n",
              "1        E\n",
              "2        E\n",
              "3        C\n",
              "4        E\n",
              "        ..\n",
              "76835    E\n",
              "76836    E\n",
              "76837    E\n",
              "76838    E\n",
              "76839    E\n",
              "Name: Renda, Length: 76840, dtype: category\n",
              "Categories (5, object): ['E' < 'D' < 'C' < 'B' < 'A']"
            ]
          },
          "metadata": {},
          "execution_count": 35
        }
      ]
    },
    {
      "cell_type": "code",
      "execution_count": null,
      "metadata": {
        "id": "N-wZ_2UajQLm",
        "colab": {
          "base_uri": "https://localhost:8080/"
        },
        "outputId": "19be569b-3b2a-43df-cd9c-7de9568eebbb"
      },
      "outputs": [
        {
          "output_type": "execute_result",
          "data": {
            "text/plain": [
              "E    49755\n",
              "D    16700\n",
              "C     7599\n",
              "B     2178\n",
              "A      608\n",
              "Name: Renda, dtype: int64"
            ]
          },
          "metadata": {},
          "execution_count": 36
        }
      ],
      "source": [
        "frequencia = pd.value_counts(\n",
        "    pd.cut(x = dados.Renda,\n",
        "       bins = classes,\n",
        "       labels = labels,\n",
        "       include_lowest = True),\n",
        "    )\n",
        "frequencia"
      ]
    },
    {
      "cell_type": "code",
      "execution_count": null,
      "metadata": {
        "id": "WrZ2m2GajQLo",
        "colab": {
          "base_uri": "https://localhost:8080/"
        },
        "outputId": "7ff9dfd0-c584-40fd-e275-55027310cd80"
      },
      "outputs": [
        {
          "output_type": "execute_result",
          "data": {
            "text/plain": [
              "E    64.751432\n",
              "D    21.733472\n",
              "C     9.889381\n",
              "B     2.834461\n",
              "A     0.791255\n",
              "Name: Renda, dtype: float64"
            ]
          },
          "metadata": {},
          "execution_count": 37
        }
      ],
      "source": [
        "percentual = pd.value_counts(\n",
        "    pd.cut(x = dados.Renda,\n",
        "       bins = classes,\n",
        "       labels = labels,\n",
        "       include_lowest = True),\n",
        "       normalize = True\n",
        "    ) * 100\n",
        "percentual"
      ]
    },
    {
      "cell_type": "code",
      "source": [
        "dist_freq_quantitativas_personalizadas = pd.DataFrame(\n",
        "    {'Frequência':frequencia, 'Porcentagem(%)':percentual}\n",
        ")\n",
        "dist_freq_quantitativas_personalizadas"
      ],
      "metadata": {
        "colab": {
          "base_uri": "https://localhost:8080/",
          "height": 206
        },
        "id": "shftp-yOqP8G",
        "outputId": "44dd30d9-8c9d-47ff-a908-2319991ec52c"
      },
      "execution_count": null,
      "outputs": [
        {
          "output_type": "execute_result",
          "data": {
            "text/plain": [
              "   Frequência  Porcentagem(%)\n",
              "E       49755       64.751432\n",
              "D       16700       21.733472\n",
              "C        7599        9.889381\n",
              "B        2178        2.834461\n",
              "A         608        0.791255"
            ],
            "text/html": [
              "\n",
              "  <div id=\"df-c4ee6b22-7bad-4c2f-a9c2-6b083544c09a\">\n",
              "    <div class=\"colab-df-container\">\n",
              "      <div>\n",
              "<style scoped>\n",
              "    .dataframe tbody tr th:only-of-type {\n",
              "        vertical-align: middle;\n",
              "    }\n",
              "\n",
              "    .dataframe tbody tr th {\n",
              "        vertical-align: top;\n",
              "    }\n",
              "\n",
              "    .dataframe thead th {\n",
              "        text-align: right;\n",
              "    }\n",
              "</style>\n",
              "<table border=\"1\" class=\"dataframe\">\n",
              "  <thead>\n",
              "    <tr style=\"text-align: right;\">\n",
              "      <th></th>\n",
              "      <th>Frequência</th>\n",
              "      <th>Porcentagem(%)</th>\n",
              "    </tr>\n",
              "  </thead>\n",
              "  <tbody>\n",
              "    <tr>\n",
              "      <th>E</th>\n",
              "      <td>49755</td>\n",
              "      <td>64.751432</td>\n",
              "    </tr>\n",
              "    <tr>\n",
              "      <th>D</th>\n",
              "      <td>16700</td>\n",
              "      <td>21.733472</td>\n",
              "    </tr>\n",
              "    <tr>\n",
              "      <th>C</th>\n",
              "      <td>7599</td>\n",
              "      <td>9.889381</td>\n",
              "    </tr>\n",
              "    <tr>\n",
              "      <th>B</th>\n",
              "      <td>2178</td>\n",
              "      <td>2.834461</td>\n",
              "    </tr>\n",
              "    <tr>\n",
              "      <th>A</th>\n",
              "      <td>608</td>\n",
              "      <td>0.791255</td>\n",
              "    </tr>\n",
              "  </tbody>\n",
              "</table>\n",
              "</div>\n",
              "      <button class=\"colab-df-convert\" onclick=\"convertToInteractive('df-c4ee6b22-7bad-4c2f-a9c2-6b083544c09a')\"\n",
              "              title=\"Convert this dataframe to an interactive table.\"\n",
              "              style=\"display:none;\">\n",
              "        \n",
              "  <svg xmlns=\"http://www.w3.org/2000/svg\" height=\"24px\"viewBox=\"0 0 24 24\"\n",
              "       width=\"24px\">\n",
              "    <path d=\"M0 0h24v24H0V0z\" fill=\"none\"/>\n",
              "    <path d=\"M18.56 5.44l.94 2.06.94-2.06 2.06-.94-2.06-.94-.94-2.06-.94 2.06-2.06.94zm-11 1L8.5 8.5l.94-2.06 2.06-.94-2.06-.94L8.5 2.5l-.94 2.06-2.06.94zm10 10l.94 2.06.94-2.06 2.06-.94-2.06-.94-.94-2.06-.94 2.06-2.06.94z\"/><path d=\"M17.41 7.96l-1.37-1.37c-.4-.4-.92-.59-1.43-.59-.52 0-1.04.2-1.43.59L10.3 9.45l-7.72 7.72c-.78.78-.78 2.05 0 2.83L4 21.41c.39.39.9.59 1.41.59.51 0 1.02-.2 1.41-.59l7.78-7.78 2.81-2.81c.8-.78.8-2.07 0-2.86zM5.41 20L4 18.59l7.72-7.72 1.47 1.35L5.41 20z\"/>\n",
              "  </svg>\n",
              "      </button>\n",
              "      \n",
              "  <style>\n",
              "    .colab-df-container {\n",
              "      display:flex;\n",
              "      flex-wrap:wrap;\n",
              "      gap: 12px;\n",
              "    }\n",
              "\n",
              "    .colab-df-convert {\n",
              "      background-color: #E8F0FE;\n",
              "      border: none;\n",
              "      border-radius: 50%;\n",
              "      cursor: pointer;\n",
              "      display: none;\n",
              "      fill: #1967D2;\n",
              "      height: 32px;\n",
              "      padding: 0 0 0 0;\n",
              "      width: 32px;\n",
              "    }\n",
              "\n",
              "    .colab-df-convert:hover {\n",
              "      background-color: #E2EBFA;\n",
              "      box-shadow: 0px 1px 2px rgba(60, 64, 67, 0.3), 0px 1px 3px 1px rgba(60, 64, 67, 0.15);\n",
              "      fill: #174EA6;\n",
              "    }\n",
              "\n",
              "    [theme=dark] .colab-df-convert {\n",
              "      background-color: #3B4455;\n",
              "      fill: #D2E3FC;\n",
              "    }\n",
              "\n",
              "    [theme=dark] .colab-df-convert:hover {\n",
              "      background-color: #434B5C;\n",
              "      box-shadow: 0px 1px 3px 1px rgba(0, 0, 0, 0.15);\n",
              "      filter: drop-shadow(0px 1px 2px rgba(0, 0, 0, 0.3));\n",
              "      fill: #FFFFFF;\n",
              "    }\n",
              "  </style>\n",
              "\n",
              "      <script>\n",
              "        const buttonEl =\n",
              "          document.querySelector('#df-c4ee6b22-7bad-4c2f-a9c2-6b083544c09a button.colab-df-convert');\n",
              "        buttonEl.style.display =\n",
              "          google.colab.kernel.accessAllowed ? 'block' : 'none';\n",
              "\n",
              "        async function convertToInteractive(key) {\n",
              "          const element = document.querySelector('#df-c4ee6b22-7bad-4c2f-a9c2-6b083544c09a');\n",
              "          const dataTable =\n",
              "            await google.colab.kernel.invokeFunction('convertToInteractive',\n",
              "                                                     [key], {});\n",
              "          if (!dataTable) return;\n",
              "\n",
              "          const docLinkHtml = 'Like what you see? Visit the ' +\n",
              "            '<a target=\"_blank\" href=https://colab.research.google.com/notebooks/data_table.ipynb>data table notebook</a>'\n",
              "            + ' to learn more about interactive tables.';\n",
              "          element.innerHTML = '';\n",
              "          dataTable['output_type'] = 'display_data';\n",
              "          await google.colab.output.renderOutput(dataTable, element);\n",
              "          const docLink = document.createElement('div');\n",
              "          docLink.innerHTML = docLinkHtml;\n",
              "          element.appendChild(docLink);\n",
              "        }\n",
              "      </script>\n",
              "    </div>\n",
              "  </div>\n",
              "  "
            ]
          },
          "metadata": {},
          "execution_count": 38
        }
      ]
    },
    {
      "cell_type": "code",
      "execution_count": null,
      "metadata": {
        "id": "btKoxJDujQLp",
        "colab": {
          "base_uri": "https://localhost:8080/",
          "height": 206
        },
        "outputId": "c3c5522b-ae1b-4aae-9034-8afdb4b53a84"
      },
      "outputs": [
        {
          "output_type": "execute_result",
          "data": {
            "text/plain": [
              "   Frequência  Porcentagem(%)\n",
              "A         608        0.791255\n",
              "B        2178        2.834461\n",
              "C        7599        9.889381\n",
              "D       16700       21.733472\n",
              "E       49755       64.751432"
            ],
            "text/html": [
              "\n",
              "  <div id=\"df-544afc75-20ab-4d64-a53d-5cca596379e8\">\n",
              "    <div class=\"colab-df-container\">\n",
              "      <div>\n",
              "<style scoped>\n",
              "    .dataframe tbody tr th:only-of-type {\n",
              "        vertical-align: middle;\n",
              "    }\n",
              "\n",
              "    .dataframe tbody tr th {\n",
              "        vertical-align: top;\n",
              "    }\n",
              "\n",
              "    .dataframe thead th {\n",
              "        text-align: right;\n",
              "    }\n",
              "</style>\n",
              "<table border=\"1\" class=\"dataframe\">\n",
              "  <thead>\n",
              "    <tr style=\"text-align: right;\">\n",
              "      <th></th>\n",
              "      <th>Frequência</th>\n",
              "      <th>Porcentagem(%)</th>\n",
              "    </tr>\n",
              "  </thead>\n",
              "  <tbody>\n",
              "    <tr>\n",
              "      <th>A</th>\n",
              "      <td>608</td>\n",
              "      <td>0.791255</td>\n",
              "    </tr>\n",
              "    <tr>\n",
              "      <th>B</th>\n",
              "      <td>2178</td>\n",
              "      <td>2.834461</td>\n",
              "    </tr>\n",
              "    <tr>\n",
              "      <th>C</th>\n",
              "      <td>7599</td>\n",
              "      <td>9.889381</td>\n",
              "    </tr>\n",
              "    <tr>\n",
              "      <th>D</th>\n",
              "      <td>16700</td>\n",
              "      <td>21.733472</td>\n",
              "    </tr>\n",
              "    <tr>\n",
              "      <th>E</th>\n",
              "      <td>49755</td>\n",
              "      <td>64.751432</td>\n",
              "    </tr>\n",
              "  </tbody>\n",
              "</table>\n",
              "</div>\n",
              "      <button class=\"colab-df-convert\" onclick=\"convertToInteractive('df-544afc75-20ab-4d64-a53d-5cca596379e8')\"\n",
              "              title=\"Convert this dataframe to an interactive table.\"\n",
              "              style=\"display:none;\">\n",
              "        \n",
              "  <svg xmlns=\"http://www.w3.org/2000/svg\" height=\"24px\"viewBox=\"0 0 24 24\"\n",
              "       width=\"24px\">\n",
              "    <path d=\"M0 0h24v24H0V0z\" fill=\"none\"/>\n",
              "    <path d=\"M18.56 5.44l.94 2.06.94-2.06 2.06-.94-2.06-.94-.94-2.06-.94 2.06-2.06.94zm-11 1L8.5 8.5l.94-2.06 2.06-.94-2.06-.94L8.5 2.5l-.94 2.06-2.06.94zm10 10l.94 2.06.94-2.06 2.06-.94-2.06-.94-.94-2.06-.94 2.06-2.06.94z\"/><path d=\"M17.41 7.96l-1.37-1.37c-.4-.4-.92-.59-1.43-.59-.52 0-1.04.2-1.43.59L10.3 9.45l-7.72 7.72c-.78.78-.78 2.05 0 2.83L4 21.41c.39.39.9.59 1.41.59.51 0 1.02-.2 1.41-.59l7.78-7.78 2.81-2.81c.8-.78.8-2.07 0-2.86zM5.41 20L4 18.59l7.72-7.72 1.47 1.35L5.41 20z\"/>\n",
              "  </svg>\n",
              "      </button>\n",
              "      \n",
              "  <style>\n",
              "    .colab-df-container {\n",
              "      display:flex;\n",
              "      flex-wrap:wrap;\n",
              "      gap: 12px;\n",
              "    }\n",
              "\n",
              "    .colab-df-convert {\n",
              "      background-color: #E8F0FE;\n",
              "      border: none;\n",
              "      border-radius: 50%;\n",
              "      cursor: pointer;\n",
              "      display: none;\n",
              "      fill: #1967D2;\n",
              "      height: 32px;\n",
              "      padding: 0 0 0 0;\n",
              "      width: 32px;\n",
              "    }\n",
              "\n",
              "    .colab-df-convert:hover {\n",
              "      background-color: #E2EBFA;\n",
              "      box-shadow: 0px 1px 2px rgba(60, 64, 67, 0.3), 0px 1px 3px 1px rgba(60, 64, 67, 0.15);\n",
              "      fill: #174EA6;\n",
              "    }\n",
              "\n",
              "    [theme=dark] .colab-df-convert {\n",
              "      background-color: #3B4455;\n",
              "      fill: #D2E3FC;\n",
              "    }\n",
              "\n",
              "    [theme=dark] .colab-df-convert:hover {\n",
              "      background-color: #434B5C;\n",
              "      box-shadow: 0px 1px 3px 1px rgba(0, 0, 0, 0.15);\n",
              "      filter: drop-shadow(0px 1px 2px rgba(0, 0, 0, 0.3));\n",
              "      fill: #FFFFFF;\n",
              "    }\n",
              "  </style>\n",
              "\n",
              "      <script>\n",
              "        const buttonEl =\n",
              "          document.querySelector('#df-544afc75-20ab-4d64-a53d-5cca596379e8 button.colab-df-convert');\n",
              "        buttonEl.style.display =\n",
              "          google.colab.kernel.accessAllowed ? 'block' : 'none';\n",
              "\n",
              "        async function convertToInteractive(key) {\n",
              "          const element = document.querySelector('#df-544afc75-20ab-4d64-a53d-5cca596379e8');\n",
              "          const dataTable =\n",
              "            await google.colab.kernel.invokeFunction('convertToInteractive',\n",
              "                                                     [key], {});\n",
              "          if (!dataTable) return;\n",
              "\n",
              "          const docLinkHtml = 'Like what you see? Visit the ' +\n",
              "            '<a target=\"_blank\" href=https://colab.research.google.com/notebooks/data_table.ipynb>data table notebook</a>'\n",
              "            + ' to learn more about interactive tables.';\n",
              "          element.innerHTML = '';\n",
              "          dataTable['output_type'] = 'display_data';\n",
              "          await google.colab.output.renderOutput(dataTable, element);\n",
              "          const docLink = document.createElement('div');\n",
              "          docLink.innerHTML = docLinkHtml;\n",
              "          element.appendChild(docLink);\n",
              "        }\n",
              "      </script>\n",
              "    </div>\n",
              "  </div>\n",
              "  "
            ]
          },
          "metadata": {},
          "execution_count": 39
        }
      ],
      "source": [
        "dist_freq_quantitativas_personalizadas.sort_index(ascending = False)"
      ]
    },
    {
      "cell_type": "markdown",
      "metadata": {
        "id": "ViJYvvjujQLu"
      },
      "source": [
        "## <font color=green>2.3 Distribuição de frequências para variáveis quantitativas (classes de amplitude fixa)</font>\n",
        "***"
      ]
    },
    {
      "cell_type": "markdown",
      "source": [
        "Veremos uma última maneira de construirmos as tabelas da Distribuição de Frequências quando não temos classes previamente organizadas, como era o caso no passo anterior com a classificação em \"A\", \"B\", \"C\" e etc.\n",
        "\n",
        "Agora, aprenderemos a Regra de Sturges que otimiza a escolha da quantidade de classes que teremos nas tabelas de distribuições, considerando somente o número de observações que temos na variável."
      ],
      "metadata": {
        "id": "5aWLNAe4EN7A"
      }
    },
    {
      "cell_type": "markdown",
      "metadata": {
        "id": "02ve2BVojQLv"
      },
      "source": [
        "### Importando bibliotecas\n",
        "\n",
        "http://www.numpy.org/"
      ]
    },
    {
      "cell_type": "code",
      "execution_count": null,
      "metadata": {
        "id": "hSIsHKuJjQLw"
      },
      "outputs": [],
      "source": [
        "import numpy as np"
      ]
    },
    {
      "cell_type": "markdown",
      "metadata": {
        "id": "s9UGNaMzjQLy"
      },
      "source": [
        "### Passo 1 - Difinindo o número de classes"
      ]
    },
    {
      "cell_type": "markdown",
      "metadata": {
        "id": "p268tvNHjQLy"
      },
      "source": [
        "#### Regra de Sturges\n",
        "\n",
        "# $$k = 1 + \\frac {10}{3}\\log_{10}n$$"
      ]
    },
    {
      "cell_type": "code",
      "execution_count": null,
      "metadata": {
        "id": "wgLH6gGqjQLz",
        "colab": {
          "base_uri": "https://localhost:8080/"
        },
        "outputId": "ab22184c-410e-49b5-adbe-024b13b1f87b"
      },
      "outputs": [
        {
          "output_type": "execute_result",
          "data": {
            "text/plain": [
              "76840"
            ]
          },
          "metadata": {},
          "execution_count": 41
        }
      ],
      "source": [
        "n = dados.shape[0]\n",
        "n"
      ]
    },
    {
      "cell_type": "code",
      "execution_count": null,
      "metadata": {
        "id": "uTuVep-8jQL0"
      },
      "outputs": [],
      "source": [
        "k = 1 + (10 / 3) * np.log10(n)"
      ]
    },
    {
      "cell_type": "code",
      "execution_count": null,
      "metadata": {
        "id": "988IDFNOjQL2",
        "colab": {
          "base_uri": "https://localhost:8080/"
        },
        "outputId": "46375a29-6a06-4d29-ff62-edda002a6a60"
      },
      "outputs": [
        {
          "output_type": "execute_result",
          "data": {
            "text/plain": [
              "17.285291187298853"
            ]
          },
          "metadata": {},
          "execution_count": 43
        }
      ],
      "source": [
        "k"
      ]
    },
    {
      "cell_type": "code",
      "execution_count": null,
      "metadata": {
        "id": "B_Y66_KFjQL4",
        "colab": {
          "base_uri": "https://localhost:8080/"
        },
        "outputId": "0338b3d1-beaa-455d-8ea3-258ad017423f"
      },
      "outputs": [
        {
          "output_type": "execute_result",
          "data": {
            "text/plain": [
              "17"
            ]
          },
          "metadata": {},
          "execution_count": 44
        }
      ],
      "source": [
        "k = int(k.round(0))\n",
        "k"
      ]
    },
    {
      "cell_type": "markdown",
      "metadata": {
        "id": "5eO-RhaljQL6"
      },
      "source": [
        "### Passo 2 - Criar a tabela de frequências"
      ]
    },
    {
      "cell_type": "code",
      "execution_count": null,
      "metadata": {
        "id": "sVVA-jvDjQL7",
        "colab": {
          "base_uri": "https://localhost:8080/"
        },
        "outputId": "52ea4d2e-6500-46d1-815b-2daf5db39ead"
      },
      "outputs": [
        {
          "output_type": "execute_result",
          "data": {
            "text/plain": [
              "(-200.001, 11764.706]       75594\n",
              "(11764.706, 23529.412]       1022\n",
              "(23529.412, 35294.118]        169\n",
              "(35294.118, 47058.824]         19\n",
              "(47058.824, 58823.529]         16\n",
              "(58823.529, 70588.235]          5\n",
              "(70588.235, 82352.941]          4\n",
              "(82352.941, 94117.647]          1\n",
              "(94117.647, 105882.353]         6\n",
              "(105882.353, 117647.059]        0\n",
              "(117647.059, 129411.765]        1\n",
              "(129411.765, 141176.471]        0\n",
              "(141176.471, 152941.176]        0\n",
              "(152941.176, 164705.882]        0\n",
              "(164705.882, 176470.588]        0\n",
              "(176470.588, 188235.294]        0\n",
              "(188235.294, 200000.0]          3\n",
              "Name: Renda, dtype: int64"
            ]
          },
          "metadata": {},
          "execution_count": 45
        }
      ],
      "source": [
        "frequencia = pd.value_counts(\n",
        "    pd.cut(\n",
        "        x = dados.Renda,\n",
        "        bins = 17,\n",
        "        include_lowest = True\n",
        "    ),\n",
        "    sort = False\n",
        ")\n",
        "frequencia"
      ]
    },
    {
      "cell_type": "code",
      "execution_count": null,
      "metadata": {
        "id": "-ylxSip1jQL9",
        "colab": {
          "base_uri": "https://localhost:8080/"
        },
        "outputId": "78e1ec2b-a717-45f7-f145-05f987f49f66"
      },
      "outputs": [
        {
          "output_type": "execute_result",
          "data": {
            "text/plain": [
              "(-200.001, 11764.706]       0.983784\n",
              "(11764.706, 23529.412]      0.013300\n",
              "(23529.412, 35294.118]      0.002199\n",
              "(35294.118, 47058.824]      0.000247\n",
              "(47058.824, 58823.529]      0.000208\n",
              "(58823.529, 70588.235]      0.000065\n",
              "(70588.235, 82352.941]      0.000052\n",
              "(82352.941, 94117.647]      0.000013\n",
              "(94117.647, 105882.353]     0.000078\n",
              "(105882.353, 117647.059]    0.000000\n",
              "(117647.059, 129411.765]    0.000013\n",
              "(129411.765, 141176.471]    0.000000\n",
              "(141176.471, 152941.176]    0.000000\n",
              "(152941.176, 164705.882]    0.000000\n",
              "(164705.882, 176470.588]    0.000000\n",
              "(176470.588, 188235.294]    0.000000\n",
              "(188235.294, 200000.0]      0.000039\n",
              "Name: Renda, dtype: float64"
            ]
          },
          "metadata": {},
          "execution_count": 46
        }
      ],
      "source": [
        "percentual = pd.value_counts(\n",
        "    pd.cut(\n",
        "        x = dados.Renda,\n",
        "        bins = 17,\n",
        "        include_lowest = True\n",
        "    ),\n",
        "    sort = False,\n",
        "    normalize = True\n",
        ")\n",
        "percentual"
      ]
    },
    {
      "cell_type": "code",
      "execution_count": null,
      "metadata": {
        "id": "n9kkJ0WTjQL_",
        "colab": {
          "base_uri": "https://localhost:8080/",
          "height": 582
        },
        "outputId": "eb9c139d-342d-49e6-af4a-2536ef4d185b"
      },
      "outputs": [
        {
          "output_type": "execute_result",
          "data": {
            "text/plain": [
              "                          Frequência  Porcentagem(%)\n",
              "(-200.001, 11764.706]          75594        0.983784\n",
              "(11764.706, 23529.412]          1022        0.013300\n",
              "(23529.412, 35294.118]           169        0.002199\n",
              "(35294.118, 47058.824]            19        0.000247\n",
              "(47058.824, 58823.529]            16        0.000208\n",
              "(58823.529, 70588.235]             5        0.000065\n",
              "(70588.235, 82352.941]             4        0.000052\n",
              "(82352.941, 94117.647]             1        0.000013\n",
              "(94117.647, 105882.353]            6        0.000078\n",
              "(105882.353, 117647.059]           0        0.000000\n",
              "(117647.059, 129411.765]           1        0.000013\n",
              "(129411.765, 141176.471]           0        0.000000\n",
              "(141176.471, 152941.176]           0        0.000000\n",
              "(152941.176, 164705.882]           0        0.000000\n",
              "(164705.882, 176470.588]           0        0.000000\n",
              "(176470.588, 188235.294]           0        0.000000\n",
              "(188235.294, 200000.0]             3        0.000039"
            ],
            "text/html": [
              "\n",
              "  <div id=\"df-b253b8b0-3cbf-48f5-a981-be47d81f9ed8\">\n",
              "    <div class=\"colab-df-container\">\n",
              "      <div>\n",
              "<style scoped>\n",
              "    .dataframe tbody tr th:only-of-type {\n",
              "        vertical-align: middle;\n",
              "    }\n",
              "\n",
              "    .dataframe tbody tr th {\n",
              "        vertical-align: top;\n",
              "    }\n",
              "\n",
              "    .dataframe thead th {\n",
              "        text-align: right;\n",
              "    }\n",
              "</style>\n",
              "<table border=\"1\" class=\"dataframe\">\n",
              "  <thead>\n",
              "    <tr style=\"text-align: right;\">\n",
              "      <th></th>\n",
              "      <th>Frequência</th>\n",
              "      <th>Porcentagem(%)</th>\n",
              "    </tr>\n",
              "  </thead>\n",
              "  <tbody>\n",
              "    <tr>\n",
              "      <th>(-200.001, 11764.706]</th>\n",
              "      <td>75594</td>\n",
              "      <td>0.983784</td>\n",
              "    </tr>\n",
              "    <tr>\n",
              "      <th>(11764.706, 23529.412]</th>\n",
              "      <td>1022</td>\n",
              "      <td>0.013300</td>\n",
              "    </tr>\n",
              "    <tr>\n",
              "      <th>(23529.412, 35294.118]</th>\n",
              "      <td>169</td>\n",
              "      <td>0.002199</td>\n",
              "    </tr>\n",
              "    <tr>\n",
              "      <th>(35294.118, 47058.824]</th>\n",
              "      <td>19</td>\n",
              "      <td>0.000247</td>\n",
              "    </tr>\n",
              "    <tr>\n",
              "      <th>(47058.824, 58823.529]</th>\n",
              "      <td>16</td>\n",
              "      <td>0.000208</td>\n",
              "    </tr>\n",
              "    <tr>\n",
              "      <th>(58823.529, 70588.235]</th>\n",
              "      <td>5</td>\n",
              "      <td>0.000065</td>\n",
              "    </tr>\n",
              "    <tr>\n",
              "      <th>(70588.235, 82352.941]</th>\n",
              "      <td>4</td>\n",
              "      <td>0.000052</td>\n",
              "    </tr>\n",
              "    <tr>\n",
              "      <th>(82352.941, 94117.647]</th>\n",
              "      <td>1</td>\n",
              "      <td>0.000013</td>\n",
              "    </tr>\n",
              "    <tr>\n",
              "      <th>(94117.647, 105882.353]</th>\n",
              "      <td>6</td>\n",
              "      <td>0.000078</td>\n",
              "    </tr>\n",
              "    <tr>\n",
              "      <th>(105882.353, 117647.059]</th>\n",
              "      <td>0</td>\n",
              "      <td>0.000000</td>\n",
              "    </tr>\n",
              "    <tr>\n",
              "      <th>(117647.059, 129411.765]</th>\n",
              "      <td>1</td>\n",
              "      <td>0.000013</td>\n",
              "    </tr>\n",
              "    <tr>\n",
              "      <th>(129411.765, 141176.471]</th>\n",
              "      <td>0</td>\n",
              "      <td>0.000000</td>\n",
              "    </tr>\n",
              "    <tr>\n",
              "      <th>(141176.471, 152941.176]</th>\n",
              "      <td>0</td>\n",
              "      <td>0.000000</td>\n",
              "    </tr>\n",
              "    <tr>\n",
              "      <th>(152941.176, 164705.882]</th>\n",
              "      <td>0</td>\n",
              "      <td>0.000000</td>\n",
              "    </tr>\n",
              "    <tr>\n",
              "      <th>(164705.882, 176470.588]</th>\n",
              "      <td>0</td>\n",
              "      <td>0.000000</td>\n",
              "    </tr>\n",
              "    <tr>\n",
              "      <th>(176470.588, 188235.294]</th>\n",
              "      <td>0</td>\n",
              "      <td>0.000000</td>\n",
              "    </tr>\n",
              "    <tr>\n",
              "      <th>(188235.294, 200000.0]</th>\n",
              "      <td>3</td>\n",
              "      <td>0.000039</td>\n",
              "    </tr>\n",
              "  </tbody>\n",
              "</table>\n",
              "</div>\n",
              "      <button class=\"colab-df-convert\" onclick=\"convertToInteractive('df-b253b8b0-3cbf-48f5-a981-be47d81f9ed8')\"\n",
              "              title=\"Convert this dataframe to an interactive table.\"\n",
              "              style=\"display:none;\">\n",
              "        \n",
              "  <svg xmlns=\"http://www.w3.org/2000/svg\" height=\"24px\"viewBox=\"0 0 24 24\"\n",
              "       width=\"24px\">\n",
              "    <path d=\"M0 0h24v24H0V0z\" fill=\"none\"/>\n",
              "    <path d=\"M18.56 5.44l.94 2.06.94-2.06 2.06-.94-2.06-.94-.94-2.06-.94 2.06-2.06.94zm-11 1L8.5 8.5l.94-2.06 2.06-.94-2.06-.94L8.5 2.5l-.94 2.06-2.06.94zm10 10l.94 2.06.94-2.06 2.06-.94-2.06-.94-.94-2.06-.94 2.06-2.06.94z\"/><path d=\"M17.41 7.96l-1.37-1.37c-.4-.4-.92-.59-1.43-.59-.52 0-1.04.2-1.43.59L10.3 9.45l-7.72 7.72c-.78.78-.78 2.05 0 2.83L4 21.41c.39.39.9.59 1.41.59.51 0 1.02-.2 1.41-.59l7.78-7.78 2.81-2.81c.8-.78.8-2.07 0-2.86zM5.41 20L4 18.59l7.72-7.72 1.47 1.35L5.41 20z\"/>\n",
              "  </svg>\n",
              "      </button>\n",
              "      \n",
              "  <style>\n",
              "    .colab-df-container {\n",
              "      display:flex;\n",
              "      flex-wrap:wrap;\n",
              "      gap: 12px;\n",
              "    }\n",
              "\n",
              "    .colab-df-convert {\n",
              "      background-color: #E8F0FE;\n",
              "      border: none;\n",
              "      border-radius: 50%;\n",
              "      cursor: pointer;\n",
              "      display: none;\n",
              "      fill: #1967D2;\n",
              "      height: 32px;\n",
              "      padding: 0 0 0 0;\n",
              "      width: 32px;\n",
              "    }\n",
              "\n",
              "    .colab-df-convert:hover {\n",
              "      background-color: #E2EBFA;\n",
              "      box-shadow: 0px 1px 2px rgba(60, 64, 67, 0.3), 0px 1px 3px 1px rgba(60, 64, 67, 0.15);\n",
              "      fill: #174EA6;\n",
              "    }\n",
              "\n",
              "    [theme=dark] .colab-df-convert {\n",
              "      background-color: #3B4455;\n",
              "      fill: #D2E3FC;\n",
              "    }\n",
              "\n",
              "    [theme=dark] .colab-df-convert:hover {\n",
              "      background-color: #434B5C;\n",
              "      box-shadow: 0px 1px 3px 1px rgba(0, 0, 0, 0.15);\n",
              "      filter: drop-shadow(0px 1px 2px rgba(0, 0, 0, 0.3));\n",
              "      fill: #FFFFFF;\n",
              "    }\n",
              "  </style>\n",
              "\n",
              "      <script>\n",
              "        const buttonEl =\n",
              "          document.querySelector('#df-b253b8b0-3cbf-48f5-a981-be47d81f9ed8 button.colab-df-convert');\n",
              "        buttonEl.style.display =\n",
              "          google.colab.kernel.accessAllowed ? 'block' : 'none';\n",
              "\n",
              "        async function convertToInteractive(key) {\n",
              "          const element = document.querySelector('#df-b253b8b0-3cbf-48f5-a981-be47d81f9ed8');\n",
              "          const dataTable =\n",
              "            await google.colab.kernel.invokeFunction('convertToInteractive',\n",
              "                                                     [key], {});\n",
              "          if (!dataTable) return;\n",
              "\n",
              "          const docLinkHtml = 'Like what you see? Visit the ' +\n",
              "            '<a target=\"_blank\" href=https://colab.research.google.com/notebooks/data_table.ipynb>data table notebook</a>'\n",
              "            + ' to learn more about interactive tables.';\n",
              "          element.innerHTML = '';\n",
              "          dataTable['output_type'] = 'display_data';\n",
              "          await google.colab.output.renderOutput(dataTable, element);\n",
              "          const docLink = document.createElement('div');\n",
              "          docLink.innerHTML = docLinkHtml;\n",
              "          element.appendChild(docLink);\n",
              "        }\n",
              "      </script>\n",
              "    </div>\n",
              "  </div>\n",
              "  "
            ]
          },
          "metadata": {},
          "execution_count": 47
        }
      ],
      "source": [
        "dist_freq_quantitativas_amplitute_fixa = pd.DataFrame(\n",
        "    {'Frequência':frequencia, 'Porcentagem(%)':percentual}\n",
        ")\n",
        "dist_freq_quantitativas_amplitute_fixa"
      ]
    },
    {
      "cell_type": "markdown",
      "metadata": {
        "id": "Js9iLwNkjQME"
      },
      "source": [
        "## <font color=green>2.4 Histograma</font>\n",
        "***\n",
        "\n",
        "O <b>HISTOGRAMA</b> é a representação gráfica de uma distribuição de frequências. É uma gráfico formado por um conjunto de retângulos colocados lado a lado, onde a área de cada retângulo é proporcional à frequência da classe que ele representa."
      ]
    },
    {
      "cell_type": "markdown",
      "metadata": {
        "id": "VzZEXDKX3PUH"
      },
      "source": [
        "### Importando a biblioteca\n",
        "\n",
        "https://seaborn.pydata.org/"
      ]
    },
    {
      "cell_type": "code",
      "execution_count": null,
      "metadata": {
        "id": "PYRaBCnxjQME"
      },
      "outputs": [],
      "source": [
        "import seaborn as sns"
      ]
    },
    {
      "cell_type": "code",
      "execution_count": null,
      "metadata": {
        "id": "GAX3aCa6jQMG",
        "colab": {
          "base_uri": "https://localhost:8080/",
          "height": 485
        },
        "outputId": "f79c9be8-3218-4de1-dc2f-03594c07242b"
      },
      "outputs": [
        {
          "output_type": "stream",
          "name": "stderr",
          "text": [
            "/usr/local/lib/python3.7/dist-packages/seaborn/distributions.py:2619: FutureWarning: `distplot` is a deprecated function and will be removed in a future version. Please adapt your code to use either `displot` (a figure-level function with similar flexibility) or `histplot` (an axes-level function for histograms).\n",
            "  warnings.warn(msg, FutureWarning)\n"
          ]
        },
        {
          "output_type": "execute_result",
          "data": {
            "text/plain": [
              "<matplotlib.axes._subplots.AxesSubplot at 0x7f06701cecd0>"
            ]
          },
          "metadata": {},
          "execution_count": 49
        },
        {
          "output_type": "display_data",
          "data": {
            "text/plain": [
              "<Figure size 864x432 with 1 Axes>"
            ],
            "image/png": "[encoded data removed]"
          },
          "metadata": {
            "needs_background": "light"
          }
        }
      ],
      "source": [
        "ax = sns.distplot(dados.Altura, kde = False)\n",
        "\n",
        "ax.figure.set_size_inches(12, 6)\n",
        "ax.set_title('Distribuição de Frequências - Altura', fontsize=18)\n",
        "ax.set_xlabel('Metros', fontsize=14)\n",
        "ax"
      ]
    },
    {
      "cell_type": "markdown",
      "source": [
        "Na célula seguinte, faremos os mesmos comandos com o título principal diferente, sendo 'Distribuição de Frequências - Altura - KDE', e do set_xlabel() como 'Metros mesmo.\n",
        "\n",
        "Como o padrão de kde é igual a True, retiraremos este parâmetro para vermos a função de densidade no Histograma."
      ],
      "metadata": {
        "id": "Q61pszLjKXdW"
      }
    },
    {
      "cell_type": "code",
      "execution_count": null,
      "metadata": {
        "id": "wiQPnuMojQMJ",
        "colab": {
          "base_uri": "https://localhost:8080/",
          "height": 430
        },
        "outputId": "79381366-9ce7-475a-d2da-5bed5851fdf3"
      },
      "outputs": [
        {
          "output_type": "execute_result",
          "data": {
            "text/plain": [
              "<matplotlib.axes._subplots.AxesSubplot at 0x7f06700ba790>"
            ]
          },
          "metadata": {},
          "execution_count": 50
        },
        {
          "output_type": "display_data",
          "data": {
            "text/plain": [
              "<Figure size 864x432 with 1 Axes>"
            ],
            "image/png": "[encoded data removed]"
          },
          "metadata": {
            "needs_background": "light"
          }
        }
      ],
      "source": [
        "ax = sns.distplot(dados.Altura)\n",
        "\n",
        "ax.figure.set_size_inches(12, 6)\n",
        "ax.set_title('Distribuição de Frequências - Altura - KDE', fontsize=18)\n",
        "ax.set_xlabel('Metros', fontsize=14)\n",
        "ax"
      ]
    },
    {
      "cell_type": "code",
      "execution_count": null,
      "metadata": {
        "id": "3fySBW7qjQMK",
        "colab": {
          "base_uri": "https://localhost:8080/",
          "height": 282
        },
        "outputId": "7d43412b-97cc-4b92-84c7-ecb9e727a0b2"
      },
      "outputs": [
        {
          "output_type": "execute_result",
          "data": {
            "text/plain": [
              "<matplotlib.axes._subplots.AxesSubplot at 0x7f066d2f58d0>"
            ]
          },
          "metadata": {},
          "execution_count": 51
        },
        {
          "output_type": "display_data",
          "data": {
            "text/plain": [
              "<Figure size 432x288 with 1 Axes>"
            ],
            "image/png": "[encoded data removed]"
          },
          "metadata": {
            "needs_background": "light"
          }
        }
      ],
      "source": [
        "dados.Altura.hist(bins = 50)"
      ]
    },
    {
      "cell_type": "code",
      "execution_count": null,
      "metadata": {
        "id": "0HcLhLYtjQMM",
        "colab": {
          "base_uri": "https://localhost:8080/",
          "height": 206
        },
        "outputId": "f426b369-8cf9-46d0-86f7-5f18fdf56e66"
      },
      "outputs": [
        {
          "output_type": "execute_result",
          "data": {
            "text/plain": [
              "   Frequência  Porcentagem(%)\n",
              "E       49755       64.751432\n",
              "D       16700       21.733472\n",
              "C        7599        9.889381\n",
              "B        2178        2.834461\n",
              "A         608        0.791255"
            ],
            "text/html": [
              "\n",
              "  <div id=\"df-21fff6a4-ae95-40ff-8310-7ca235dbc276\">\n",
              "    <div class=\"colab-df-container\">\n",
              "      <div>\n",
              "<style scoped>\n",
              "    .dataframe tbody tr th:only-of-type {\n",
              "        vertical-align: middle;\n",
              "    }\n",
              "\n",
              "    .dataframe tbody tr th {\n",
              "        vertical-align: top;\n",
              "    }\n",
              "\n",
              "    .dataframe thead th {\n",
              "        text-align: right;\n",
              "    }\n",
              "</style>\n",
              "<table border=\"1\" class=\"dataframe\">\n",
              "  <thead>\n",
              "    <tr style=\"text-align: right;\">\n",
              "      <th></th>\n",
              "      <th>Frequência</th>\n",
              "      <th>Porcentagem(%)</th>\n",
              "    </tr>\n",
              "  </thead>\n",
              "  <tbody>\n",
              "    <tr>\n",
              "      <th>E</th>\n",
              "      <td>49755</td>\n",
              "      <td>64.751432</td>\n",
              "    </tr>\n",
              "    <tr>\n",
              "      <th>D</th>\n",
              "      <td>16700</td>\n",
              "      <td>21.733472</td>\n",
              "    </tr>\n",
              "    <tr>\n",
              "      <th>C</th>\n",
              "      <td>7599</td>\n",
              "      <td>9.889381</td>\n",
              "    </tr>\n",
              "    <tr>\n",
              "      <th>B</th>\n",
              "      <td>2178</td>\n",
              "      <td>2.834461</td>\n",
              "    </tr>\n",
              "    <tr>\n",
              "      <th>A</th>\n",
              "      <td>608</td>\n",
              "      <td>0.791255</td>\n",
              "    </tr>\n",
              "  </tbody>\n",
              "</table>\n",
              "</div>\n",
              "      <button class=\"colab-df-convert\" onclick=\"convertToInteractive('df-21fff6a4-ae95-40ff-8310-7ca235dbc276')\"\n",
              "              title=\"Convert this dataframe to an interactive table.\"\n",
              "              style=\"display:none;\">\n",
              "        \n",
              "  <svg xmlns=\"http://www.w3.org/2000/svg\" height=\"24px\"viewBox=\"0 0 24 24\"\n",
              "       width=\"24px\">\n",
              "    <path d=\"M0 0h24v24H0V0z\" fill=\"none\"/>\n",
              "    <path d=\"M18.56 5.44l.94 2.06.94-2.06 2.06-.94-2.06-.94-.94-2.06-.94 2.06-2.06.94zm-11 1L8.5 8.5l.94-2.06 2.06-.94-2.06-.94L8.5 2.5l-.94 2.06-2.06.94zm10 10l.94 2.06.94-2.06 2.06-.94-2.06-.94-.94-2.06-.94 2.06-2.06.94z\"/><path d=\"M17.41 7.96l-1.37-1.37c-.4-.4-.92-.59-1.43-.59-.52 0-1.04.2-1.43.59L10.3 9.45l-7.72 7.72c-.78.78-.78 2.05 0 2.83L4 21.41c.39.39.9.59 1.41.59.51 0 1.02-.2 1.41-.59l7.78-7.78 2.81-2.81c.8-.78.8-2.07 0-2.86zM5.41 20L4 18.59l7.72-7.72 1.47 1.35L5.41 20z\"/>\n",
              "  </svg>\n",
              "      </button>\n",
              "      \n",
              "  <style>\n",
              "    .colab-df-container {\n",
              "      display:flex;\n",
              "      flex-wrap:wrap;\n",
              "      gap: 12px;\n",
              "    }\n",
              "\n",
              "    .colab-df-convert {\n",
              "      background-color: #E8F0FE;\n",
              "      border: none;\n",
              "      border-radius: 50%;\n",
              "      cursor: pointer;\n",
              "      display: none;\n",
              "      fill: #1967D2;\n",
              "      height: 32px;\n",
              "      padding: 0 0 0 0;\n",
              "      width: 32px;\n",
              "    }\n",
              "\n",
              "    .colab-df-convert:hover {\n",
              "      background-color: #E2EBFA;\n",
              "      box-shadow: 0px 1px 2px rgba(60, 64, 67, 0.3), 0px 1px 3px 1px rgba(60, 64, 67, 0.15);\n",
              "      fill: #174EA6;\n",
              "    }\n",
              "\n",
              "    [theme=dark] .colab-df-convert {\n",
              "      background-color: #3B4455;\n",
              "      fill: #D2E3FC;\n",
              "    }\n",
              "\n",
              "    [theme=dark] .colab-df-convert:hover {\n",
              "      background-color: #434B5C;\n",
              "      box-shadow: 0px 1px 3px 1px rgba(0, 0, 0, 0.15);\n",
              "      filter: drop-shadow(0px 1px 2px rgba(0, 0, 0, 0.3));\n",
              "      fill: #FFFFFF;\n",
              "    }\n",
              "  </style>\n",
              "\n",
              "      <script>\n",
              "        const buttonEl =\n",
              "          document.querySelector('#df-21fff6a4-ae95-40ff-8310-7ca235dbc276 button.colab-df-convert');\n",
              "        buttonEl.style.display =\n",
              "          google.colab.kernel.accessAllowed ? 'block' : 'none';\n",
              "\n",
              "        async function convertToInteractive(key) {\n",
              "          const element = document.querySelector('#df-21fff6a4-ae95-40ff-8310-7ca235dbc276');\n",
              "          const dataTable =\n",
              "            await google.colab.kernel.invokeFunction('convertToInteractive',\n",
              "                                                     [key], {});\n",
              "          if (!dataTable) return;\n",
              "\n",
              "          const docLinkHtml = 'Like what you see? Visit the ' +\n",
              "            '<a target=\"_blank\" href=https://colab.research.google.com/notebooks/data_table.ipynb>data table notebook</a>'\n",
              "            + ' to learn more about interactive tables.';\n",
              "          element.innerHTML = '';\n",
              "          dataTable['output_type'] = 'display_data';\n",
              "          await google.colab.output.renderOutput(dataTable, element);\n",
              "          const docLink = document.createElement('div');\n",
              "          docLink.innerHTML = docLinkHtml;\n",
              "          element.appendChild(docLink);\n",
              "        }\n",
              "      </script>\n",
              "    </div>\n",
              "  </div>\n",
              "  "
            ]
          },
          "metadata": {},
          "execution_count": 52
        }
      ],
      "source": [
        "dist_freq_quantitativas_personalizadas"
      ]
    },
    {
      "cell_type": "code",
      "execution_count": null,
      "metadata": {
        "id": "IQYnbxoS-kjQ",
        "colab": {
          "base_uri": "https://localhost:8080/",
          "height": 389
        },
        "outputId": "d71a0854-3cbe-4e17-b58c-851bc8aa70ca"
      },
      "outputs": [
        {
          "output_type": "execute_result",
          "data": {
            "text/plain": [
              "<matplotlib.axes._subplots.AxesSubplot at 0x7f066d1c7b90>"
            ]
          },
          "metadata": {},
          "execution_count": 53
        },
        {
          "output_type": "display_data",
          "data": {
            "text/plain": [
              "<Figure size 864x432 with 1 Axes>"
            ],
            "image/png": "[encoded data removed]"
          },
          "metadata": {
            "needs_background": "light"
          }
        }
      ],
      "source": [
        "dist_freq_quantitativas_personalizadas['Frequência'].plot.bar(width= 1, color = 'blue', alpha = 0.2, figsize=(12,6))"
      ]
    },
    {
      "cell_type": "markdown",
      "metadata": {
        "id": "uIb17Es3jQMP"
      },
      "source": [
        "# <font color=green>3 MEDIDAS DE TENDÊNCIA CENTRAL</font>\n",
        "***"
      ]
    },
    {
      "cell_type": "markdown",
      "metadata": {
        "id": "Wrya4suEX7H-"
      },
      "source": [
        "## DataFrame de exemplo"
      ]
    },
    {
      "cell_type": "code",
      "execution_count": null,
      "metadata": {
        "id": "jj7a21flX7H_",
        "colab": {
          "base_uri": "https://localhost:8080/",
          "height": 269
        },
        "outputId": "fddb724a-c02d-4d85-90bd-639f83deb81d"
      },
      "outputs": [
        {
          "output_type": "execute_result",
          "data": {
            "text/plain": [
              "Matérias    Fulano  Beltrano  Sicrano\n",
              "Matemática       8      10.0      7.5\n",
              "Português       10       2.0      8.0\n",
              "Inglês           4       0.5      7.0\n",
              "Geografia        8       1.0      8.0\n",
              "História         6       3.0      8.0\n",
              "Física          10       9.5      8.5\n",
              "Química          8      10.0      7.0"
            ],
            "text/html": [
              "\n",
              "  <div id=\"df-70579b49-2b89-49d4-946d-8cf7c39b54d3\">\n",
              "    <div class=\"colab-df-container\">\n",
              "      <div>\n",
              "<style scoped>\n",
              "    .dataframe tbody tr th:only-of-type {\n",
              "        vertical-align: middle;\n",
              "    }\n",
              "\n",
              "    .dataframe tbody tr th {\n",
              "        vertical-align: top;\n",
              "    }\n",
              "\n",
              "    .dataframe thead th {\n",
              "        text-align: right;\n",
              "    }\n",
              "</style>\n",
              "<table border=\"1\" class=\"dataframe\">\n",
              "  <thead>\n",
              "    <tr style=\"text-align: right;\">\n",
              "      <th>Matérias</th>\n",
              "      <th>Fulano</th>\n",
              "      <th>Beltrano</th>\n",
              "      <th>Sicrano</th>\n",
              "    </tr>\n",
              "  </thead>\n",
              "  <tbody>\n",
              "    <tr>\n",
              "      <th>Matemática</th>\n",
              "      <td>8</td>\n",
              "      <td>10.0</td>\n",
              "      <td>7.5</td>\n",
              "    </tr>\n",
              "    <tr>\n",
              "      <th>Português</th>\n",
              "      <td>10</td>\n",
              "      <td>2.0</td>\n",
              "      <td>8.0</td>\n",
              "    </tr>\n",
              "    <tr>\n",
              "      <th>Inglês</th>\n",
              "      <td>4</td>\n",
              "      <td>0.5</td>\n",
              "      <td>7.0</td>\n",
              "    </tr>\n",
              "    <tr>\n",
              "      <th>Geografia</th>\n",
              "      <td>8</td>\n",
              "      <td>1.0</td>\n",
              "      <td>8.0</td>\n",
              "    </tr>\n",
              "    <tr>\n",
              "      <th>História</th>\n",
              "      <td>6</td>\n",
              "      <td>3.0</td>\n",
              "      <td>8.0</td>\n",
              "    </tr>\n",
              "    <tr>\n",
              "      <th>Física</th>\n",
              "      <td>10</td>\n",
              "      <td>9.5</td>\n",
              "      <td>8.5</td>\n",
              "    </tr>\n",
              "    <tr>\n",
              "      <th>Química</th>\n",
              "      <td>8</td>\n",
              "      <td>10.0</td>\n",
              "      <td>7.0</td>\n",
              "    </tr>\n",
              "  </tbody>\n",
              "</table>\n",
              "</div>\n",
              "      <button class=\"colab-df-convert\" onclick=\"convertToInteractive('df-70579b49-2b89-49d4-946d-8cf7c39b54d3')\"\n",
              "              title=\"Convert this dataframe to an interactive table.\"\n",
              "              style=\"display:none;\">\n",
              "        \n",
              "  <svg xmlns=\"http://www.w3.org/2000/svg\" height=\"24px\"viewBox=\"0 0 24 24\"\n",
              "       width=\"24px\">\n",
              "    <path d=\"M0 0h24v24H0V0z\" fill=\"none\"/>\n",
              "    <path d=\"M18.56 5.44l.94 2.06.94-2.06 2.06-.94-2.06-.94-.94-2.06-.94 2.06-2.06.94zm-11 1L8.5 8.5l.94-2.06 2.06-.94-2.06-.94L8.5 2.5l-.94 2.06-2.06.94zm10 10l.94 2.06.94-2.06 2.06-.94-2.06-.94-.94-2.06-.94 2.06-2.06.94z\"/><path d=\"M17.41 7.96l-1.37-1.37c-.4-.4-.92-.59-1.43-.59-.52 0-1.04.2-1.43.59L10.3 9.45l-7.72 7.72c-.78.78-.78 2.05 0 2.83L4 21.41c.39.39.9.59 1.41.59.51 0 1.02-.2 1.41-.59l7.78-7.78 2.81-2.81c.8-.78.8-2.07 0-2.86zM5.41 20L4 18.59l7.72-7.72 1.47 1.35L5.41 20z\"/>\n",
              "  </svg>\n",
              "      </button>\n",
              "      \n",
              "  <style>\n",
              "    .colab-df-container {\n",
              "      display:flex;\n",
              "      flex-wrap:wrap;\n",
              "      gap: 12px;\n",
              "    }\n",
              "\n",
              "    .colab-df-convert {\n",
              "      background-color: #E8F0FE;\n",
              "      border: none;\n",
              "      border-radius: 50%;\n",
              "      cursor: pointer;\n",
              "      display: none;\n",
              "      fill: #1967D2;\n",
              "      height: 32px;\n",
              "      padding: 0 0 0 0;\n",
              "      width: 32px;\n",
              "    }\n",
              "\n",
              "    .colab-df-convert:hover {\n",
              "      background-color: #E2EBFA;\n",
              "      box-shadow: 0px 1px 2px rgba(60, 64, 67, 0.3), 0px 1px 3px 1px rgba(60, 64, 67, 0.15);\n",
              "      fill: #174EA6;\n",
              "    }\n",
              "\n",
              "    [theme=dark] .colab-df-convert {\n",
              "      background-color: #3B4455;\n",
              "      fill: #D2E3FC;\n",
              "    }\n",
              "\n",
              "    [theme=dark] .colab-df-convert:hover {\n",
              "      background-color: #434B5C;\n",
              "      box-shadow: 0px 1px 3px 1px rgba(0, 0, 0, 0.15);\n",
              "      filter: drop-shadow(0px 1px 2px rgba(0, 0, 0, 0.3));\n",
              "      fill: #FFFFFF;\n",
              "    }\n",
              "  </style>\n",
              "\n",
              "      <script>\n",
              "        const buttonEl =\n",
              "          document.querySelector('#df-70579b49-2b89-49d4-946d-8cf7c39b54d3 button.colab-df-convert');\n",
              "        buttonEl.style.display =\n",
              "          google.colab.kernel.accessAllowed ? 'block' : 'none';\n",
              "\n",
              "        async function convertToInteractive(key) {\n",
              "          const element = document.querySelector('#df-70579b49-2b89-49d4-946d-8cf7c39b54d3');\n",
              "          const dataTable =\n",
              "            await google.colab.kernel.invokeFunction('convertToInteractive',\n",
              "                                                     [key], {});\n",
              "          if (!dataTable) return;\n",
              "\n",
              "          const docLinkHtml = 'Like what you see? Visit the ' +\n",
              "            '<a target=\"_blank\" href=https://colab.research.google.com/notebooks/data_table.ipynb>data table notebook</a>'\n",
              "            + ' to learn more about interactive tables.';\n",
              "          element.innerHTML = '';\n",
              "          dataTable['output_type'] = 'display_data';\n",
              "          await google.colab.output.renderOutput(dataTable, element);\n",
              "          const docLink = document.createElement('div');\n",
              "          docLink.innerHTML = docLinkHtml;\n",
              "          element.appendChild(docLink);\n",
              "        }\n",
              "      </script>\n",
              "    </div>\n",
              "  </div>\n",
              "  "
            ]
          },
          "metadata": {},
          "execution_count": 54
        }
      ],
      "source": [
        "df = pd.DataFrame(data = {'Fulano': [8, 10, 4, 8, 6, 10, 8],\n",
        "                          'Beltrano': [10, 2, 0.5, 1, 3, 9.5, 10],\n",
        "                          'Sicrano': [7.5, 8, 7, 8, 8, 8.5, 7]},\n",
        "                 index = ['Matemática',\n",
        "                          'Português',\n",
        "                          'Inglês',\n",
        "                          'Geografia',\n",
        "                          'História',\n",
        "                          'Física',\n",
        "                          'Química'])\n",
        "df.rename_axis('Matérias', axis = 'columns', inplace = True)\n",
        "df"
      ]
    },
    {
      "cell_type": "markdown",
      "metadata": {
        "id": "kcHJFW-YjQMP"
      },
      "source": [
        "## <font color=green>3.1 Média aritmética</font>\n",
        "***\n",
        "\n",
        "É representada por $\\mu$ quando se refere à população e por $\\bar{X}$ quando se refere à amostra\n",
        "\n",
        "# $$\\mu = \\frac 1n\\sum_{i=1}^{n}X_i$$\n",
        "\n",
        "onde \n",
        "\n",
        "$n$ = número de observações (registros)\n",
        "\n",
        "$X_i$ = valor da i-ésima observação (registro)"
      ]
    },
    {
      "cell_type": "code",
      "execution_count": null,
      "metadata": {
        "id": "QW4JPcBmX7IA",
        "colab": {
          "base_uri": "https://localhost:8080/"
        },
        "outputId": "0fdfae05-715d-460e-af26-d7f86cb3b55c"
      },
      "outputs": [
        {
          "output_type": "execute_result",
          "data": {
            "text/plain": [
              "7.714285714285714"
            ]
          },
          "metadata": {},
          "execution_count": 55
        }
      ],
      "source": [
        "(8 + 10 + 4 + 8 + 6 + 10 + 8) / 7"
      ]
    },
    {
      "cell_type": "code",
      "execution_count": null,
      "metadata": {
        "id": "LuT8WNy5X7IB",
        "colab": {
          "base_uri": "https://localhost:8080/"
        },
        "outputId": "fa971fb8-32b1-40d7-905c-be8304e1a2b2"
      },
      "outputs": [
        {
          "output_type": "execute_result",
          "data": {
            "text/plain": [
              "7.714285714285714"
            ]
          },
          "metadata": {},
          "execution_count": 56
        }
      ],
      "source": [
        "df['Fulano'].mean()"
      ]
    },
    {
      "cell_type": "code",
      "execution_count": null,
      "metadata": {
        "id": "BRMZcmMEjQMQ",
        "colab": {
          "base_uri": "https://localhost:8080/"
        },
        "outputId": "ab404880-244a-462a-8b6f-cb68591f1ad0"
      },
      "outputs": [
        {
          "output_type": "execute_result",
          "data": {
            "text/plain": [
              "2000.3831988547631"
            ]
          },
          "metadata": {},
          "execution_count": 57
        }
      ],
      "source": [
        "dados.Renda.mean()"
      ]
    },
    {
      "cell_type": "code",
      "execution_count": null,
      "metadata": {
        "id": "CGgJbsK0HBQc",
        "colab": {
          "base_uri": "https://localhost:8080/"
        },
        "outputId": "f29f4b42-3b7a-4b2d-f0a5-0beb3e1929ef"
      },
      "outputs": [
        {
          "output_type": "execute_result",
          "data": {
            "text/plain": [
              "Sexo\n",
              "0    2192.441596\n",
              "1    1566.847393\n",
              "Name: Renda, dtype: float64"
            ]
          },
          "metadata": {},
          "execution_count": 58
        }
      ],
      "source": [
        "dados.groupby(['Sexo'])['Renda'].mean()"
      ]
    },
    {
      "cell_type": "markdown",
      "source": [
        "**Exercício: Calculando a média de uma variável**\n",
        "\n",
        "dataset = pd.DataFrame({\n",
        "    'Sexo': ['H', 'M', 'M', 'M', 'M', 'H', 'H', 'H', 'M', 'M'],\n",
        "    'Idade': [53, 72, 54, 27, 30, 40, 58, 32, 44, 51]\n",
        "})\n",
        "\n",
        "Obtenha a média aritmética do data frame.\n",
        "\n",
        "Observação: Na variável Sexo, 'H' representa os homens e 'M' as mulheres.\n"
      ],
      "metadata": {
        "id": "dIuevtt6mWjD"
      }
    },
    {
      "cell_type": "code",
      "source": [
        "dataset = pd.DataFrame({\n",
        "    'Sexo': ['H', 'M', 'M', 'M', 'M', 'H', 'H', 'H', 'M', 'M'],\n",
        "    'Idade': [53, 72, 54, 27, 30, 40, 58, 32, 44, 51]\n",
        "})\n",
        "\n",
        "dataset"
      ],
      "metadata": {
        "colab": {
          "base_uri": "https://localhost:8080/",
          "height": 363
        },
        "id": "lBPKgREtnBhb",
        "outputId": "21353e4b-40d0-4378-8f12-9bae818fab74"
      },
      "execution_count": null,
      "outputs": [
        {
          "output_type": "execute_result",
          "data": {
            "text/plain": [
              "  Sexo  Idade\n",
              "0    H     53\n",
              "1    M     72\n",
              "2    M     54\n",
              "3    M     27\n",
              "4    M     30\n",
              "5    H     40\n",
              "6    H     58\n",
              "7    H     32\n",
              "8    M     44\n",
              "9    M     51"
            ],
            "text/html": [
              "\n",
              "  <div id=\"df-8c097519-478c-46cc-b270-325220a8f254\">\n",
              "    <div class=\"colab-df-container\">\n",
              "      <div>\n",
              "<style scoped>\n",
              "    .dataframe tbody tr th:only-of-type {\n",
              "        vertical-align: middle;\n",
              "    }\n",
              "\n",
              "    .dataframe tbody tr th {\n",
              "        vertical-align: top;\n",
              "    }\n",
              "\n",
              "    .dataframe thead th {\n",
              "        text-align: right;\n",
              "    }\n",
              "</style>\n",
              "<table border=\"1\" class=\"dataframe\">\n",
              "  <thead>\n",
              "    <tr style=\"text-align: right;\">\n",
              "      <th></th>\n",
              "      <th>Sexo</th>\n",
              "      <th>Idade</th>\n",
              "    </tr>\n",
              "  </thead>\n",
              "  <tbody>\n",
              "    <tr>\n",
              "      <th>0</th>\n",
              "      <td>H</td>\n",
              "      <td>53</td>\n",
              "    </tr>\n",
              "    <tr>\n",
              "      <th>1</th>\n",
              "      <td>M</td>\n",
              "      <td>72</td>\n",
              "    </tr>\n",
              "    <tr>\n",
              "      <th>2</th>\n",
              "      <td>M</td>\n",
              "      <td>54</td>\n",
              "    </tr>\n",
              "    <tr>\n",
              "      <th>3</th>\n",
              "      <td>M</td>\n",
              "      <td>27</td>\n",
              "    </tr>\n",
              "    <tr>\n",
              "      <th>4</th>\n",
              "      <td>M</td>\n",
              "      <td>30</td>\n",
              "    </tr>\n",
              "    <tr>\n",
              "      <th>5</th>\n",
              "      <td>H</td>\n",
              "      <td>40</td>\n",
              "    </tr>\n",
              "    <tr>\n",
              "      <th>6</th>\n",
              "      <td>H</td>\n",
              "      <td>58</td>\n",
              "    </tr>\n",
              "    <tr>\n",
              "      <th>7</th>\n",
              "      <td>H</td>\n",
              "      <td>32</td>\n",
              "    </tr>\n",
              "    <tr>\n",
              "      <th>8</th>\n",
              "      <td>M</td>\n",
              "      <td>44</td>\n",
              "    </tr>\n",
              "    <tr>\n",
              "      <th>9</th>\n",
              "      <td>M</td>\n",
              "      <td>51</td>\n",
              "    </tr>\n",
              "  </tbody>\n",
              "</table>\n",
              "</div>\n",
              "      <button class=\"colab-df-convert\" onclick=\"convertToInteractive('df-8c097519-478c-46cc-b270-325220a8f254')\"\n",
              "              title=\"Convert this dataframe to an interactive table.\"\n",
              "              style=\"display:none;\">\n",
              "        \n",
              "  <svg xmlns=\"http://www.w3.org/2000/svg\" height=\"24px\"viewBox=\"0 0 24 24\"\n",
              "       width=\"24px\">\n",
              "    <path d=\"M0 0h24v24H0V0z\" fill=\"none\"/>\n",
              "    <path d=\"M18.56 5.44l.94 2.06.94-2.06 2.06-.94-2.06-.94-.94-2.06-.94 2.06-2.06.94zm-11 1L8.5 8.5l.94-2.06 2.06-.94-2.06-.94L8.5 2.5l-.94 2.06-2.06.94zm10 10l.94 2.06.94-2.06 2.06-.94-2.06-.94-.94-2.06-.94 2.06-2.06.94z\"/><path d=\"M17.41 7.96l-1.37-1.37c-.4-.4-.92-.59-1.43-.59-.52 0-1.04.2-1.43.59L10.3 9.45l-7.72 7.72c-.78.78-.78 2.05 0 2.83L4 21.41c.39.39.9.59 1.41.59.51 0 1.02-.2 1.41-.59l7.78-7.78 2.81-2.81c.8-.78.8-2.07 0-2.86zM5.41 20L4 18.59l7.72-7.72 1.47 1.35L5.41 20z\"/>\n",
              "  </svg>\n",
              "      </button>\n",
              "      \n",
              "  <style>\n",
              "    .colab-df-container {\n",
              "      display:flex;\n",
              "      flex-wrap:wrap;\n",
              "      gap: 12px;\n",
              "    }\n",
              "\n",
              "    .colab-df-convert {\n",
              "      background-color: #E8F0FE;\n",
              "      border: none;\n",
              "      border-radius: 50%;\n",
              "      cursor: pointer;\n",
              "      display: none;\n",
              "      fill: #1967D2;\n",
              "      height: 32px;\n",
              "      padding: 0 0 0 0;\n",
              "      width: 32px;\n",
              "    }\n",
              "\n",
              "    .colab-df-convert:hover {\n",
              "      background-color: #E2EBFA;\n",
              "      box-shadow: 0px 1px 2px rgba(60, 64, 67, 0.3), 0px 1px 3px 1px rgba(60, 64, 67, 0.15);\n",
              "      fill: #174EA6;\n",
              "    }\n",
              "\n",
              "    [theme=dark] .colab-df-convert {\n",
              "      background-color: #3B4455;\n",
              "      fill: #D2E3FC;\n",
              "    }\n",
              "\n",
              "    [theme=dark] .colab-df-convert:hover {\n",
              "      background-color: #434B5C;\n",
              "      box-shadow: 0px 1px 3px 1px rgba(0, 0, 0, 0.15);\n",
              "      filter: drop-shadow(0px 1px 2px rgba(0, 0, 0, 0.3));\n",
              "      fill: #FFFFFF;\n",
              "    }\n",
              "  </style>\n",
              "\n",
              "      <script>\n",
              "        const buttonEl =\n",
              "          document.querySelector('#df-8c097519-478c-46cc-b270-325220a8f254 button.colab-df-convert');\n",
              "        buttonEl.style.display =\n",
              "          google.colab.kernel.accessAllowed ? 'block' : 'none';\n",
              "\n",
              "        async function convertToInteractive(key) {\n",
              "          const element = document.querySelector('#df-8c097519-478c-46cc-b270-325220a8f254');\n",
              "          const dataTable =\n",
              "            await google.colab.kernel.invokeFunction('convertToInteractive',\n",
              "                                                     [key], {});\n",
              "          if (!dataTable) return;\n",
              "\n",
              "          const docLinkHtml = 'Like what you see? Visit the ' +\n",
              "            '<a target=\"_blank\" href=https://colab.research.google.com/notebooks/data_table.ipynb>data table notebook</a>'\n",
              "            + ' to learn more about interactive tables.';\n",
              "          element.innerHTML = '';\n",
              "          dataTable['output_type'] = 'display_data';\n",
              "          await google.colab.output.renderOutput(dataTable, element);\n",
              "          const docLink = document.createElement('div');\n",
              "          docLink.innerHTML = docLinkHtml;\n",
              "          element.appendChild(docLink);\n",
              "        }\n",
              "      </script>\n",
              "    </div>\n",
              "  </div>\n",
              "  "
            ]
          },
          "metadata": {},
          "execution_count": 59
        }
      ]
    },
    {
      "cell_type": "code",
      "source": [
        "dataset.Idade.mean()"
      ],
      "metadata": {
        "colab": {
          "base_uri": "https://localhost:8080/"
        },
        "id": "KXcnk-9nnCz7",
        "outputId": "2822db9c-804d-4545-9de2-b9098485999d"
      },
      "execution_count": null,
      "outputs": [
        {
          "output_type": "execute_result",
          "data": {
            "text/plain": [
              "46.1"
            ]
          },
          "metadata": {},
          "execution_count": 60
        }
      ]
    },
    {
      "cell_type": "markdown",
      "source": [
        "Considerando o mesmo dataset do exercício anterior:\n",
        "\n",
        "Obtenha a idade média dos homens.\n",
        "\n",
        "Observação: Na variável Sexo, 'H' representa os homens e 'M' as mulheres."
      ],
      "metadata": {
        "id": "2Am1sZ9YnTIq"
      }
    },
    {
      "cell_type": "code",
      "source": [
        "dataset.groupby(['Sexo'])['Idade'].mean()"
      ],
      "metadata": {
        "colab": {
          "base_uri": "https://localhost:8080/"
        },
        "id": "HTJrmRJWnWMC",
        "outputId": "3873c65a-af33-499a-e76b-b25949f2bdaf"
      },
      "execution_count": null,
      "outputs": [
        {
          "output_type": "execute_result",
          "data": {
            "text/plain": [
              "Sexo\n",
              "H    45.750000\n",
              "M    46.333333\n",
              "Name: Idade, dtype: float64"
            ]
          },
          "metadata": {},
          "execution_count": 61
        }
      ]
    },
    {
      "cell_type": "markdown",
      "metadata": {
        "id": "9geu3UcKjQMS"
      },
      "source": [
        "## <font color=green>3.2 Mediana</font>\n",
        "***\n",
        "\n",
        "Para obtermos a mediana de uma conjunto de dados devemos proceder da seguinte maneira:\n",
        "1. Ordenar o conjunto de dados;\n",
        "2. Identificar o número de observações (registros) do conjunto de dados ($n$);\n",
        "3. Identicar o elemento mediano:\n",
        "\n",
        "> Quando $n$ for ímpar, a posição do elemento mediano será obtida da seguinte forma:\n",
        "\n",
        "\n",
        "# $$Elemento_{Md} = \\frac{n+1}2$$\n",
        "\n",
        "> Quando $n$ for par, a posição do elemento mediano será obtida da seguinte forma:\n",
        "\n",
        "\n",
        "# $$Elemento_{Md} = \\frac{n}2$$\n",
        "\n",
        "4. Obter a mediana:\n",
        "\n",
        "> Quando $n$ for ímpar:\n",
        "\n",
        "\n",
        "# $$Md = X_{Elemento_{Md}}$$\n",
        "\n",
        "> Quando $n$ for par:\n",
        "\n",
        "\n",
        "# $$Md = \\frac{X_{Elemento_{Md}} + X_{Elemento_{Md}+1}}2$$\n",
        "***"
      ]
    },
    {
      "cell_type": "markdown",
      "metadata": {
        "id": "e0IuYdJFjQMT"
      },
      "source": [
        "### Exemplo 1 - n ímpar\n",
        "\n",
        "<img src='https://caelum-online-public.s3.amazonaws.com/1177-estatistica-parte1/01/img002.png' width='40%' style=\"float:left\">"
      ]
    },
    {
      "cell_type": "code",
      "execution_count": null,
      "metadata": {
        "id": "3dXjdRFlX7IH",
        "colab": {
          "base_uri": "https://localhost:8080/"
        },
        "outputId": "c67c8e43-adf8-4821-ea45-11339c21b71d"
      },
      "outputs": [
        {
          "output_type": "execute_result",
          "data": {
            "text/plain": [
              "Matemática     8\n",
              "Português     10\n",
              "Inglês         4\n",
              "Geografia      8\n",
              "História       6\n",
              "Física        10\n",
              "Química        8\n",
              "Name: Fulano, dtype: int64"
            ]
          },
          "metadata": {},
          "execution_count": 62
        }
      ],
      "source": [
        "notas_fulano = df.Fulano\n",
        "notas_fulano"
      ]
    },
    {
      "cell_type": "code",
      "execution_count": null,
      "metadata": {
        "id": "cU91DJ-yjQMV",
        "colab": {
          "base_uri": "https://localhost:8080/"
        },
        "outputId": "6d9afcc7-873c-4d44-a388-e3566c362d4a"
      },
      "outputs": [
        {
          "output_type": "execute_result",
          "data": {
            "text/plain": [
              "Inglês         4\n",
              "História       6\n",
              "Matemática     8\n",
              "Geografia      8\n",
              "Química        8\n",
              "Português     10\n",
              "Física        10\n",
              "Name: Fulano, dtype: int64"
            ]
          },
          "metadata": {},
          "execution_count": 63
        }
      ],
      "source": [
        "notas_fulano = notas_fulano.sort_values()\n",
        "notas_fulano"
      ]
    },
    {
      "cell_type": "code",
      "execution_count": null,
      "metadata": {
        "id": "z9bOnYKf1NOd",
        "colab": {
          "base_uri": "https://localhost:8080/",
          "height": 269
        },
        "outputId": "72905d7e-4d7e-40f6-cbfe-f77aad0b954c"
      },
      "outputs": [
        {
          "output_type": "execute_result",
          "data": {
            "text/plain": [
              "        index  Fulano\n",
              "0      Inglês       4\n",
              "1    História       6\n",
              "2  Matemática       8\n",
              "3   Geografia       8\n",
              "4     Química       8\n",
              "5   Português      10\n",
              "6      Física      10"
            ],
            "text/html": [
              "\n",
              "  <div id=\"df-f161cf40-0a4a-47f3-a93d-5355de0dd166\">\n",
              "    <div class=\"colab-df-container\">\n",
              "      <div>\n",
              "<style scoped>\n",
              "    .dataframe tbody tr th:only-of-type {\n",
              "        vertical-align: middle;\n",
              "    }\n",
              "\n",
              "    .dataframe tbody tr th {\n",
              "        vertical-align: top;\n",
              "    }\n",
              "\n",
              "    .dataframe thead th {\n",
              "        text-align: right;\n",
              "    }\n",
              "</style>\n",
              "<table border=\"1\" class=\"dataframe\">\n",
              "  <thead>\n",
              "    <tr style=\"text-align: right;\">\n",
              "      <th></th>\n",
              "      <th>index</th>\n",
              "      <th>Fulano</th>\n",
              "    </tr>\n",
              "  </thead>\n",
              "  <tbody>\n",
              "    <tr>\n",
              "      <th>0</th>\n",
              "      <td>Inglês</td>\n",
              "      <td>4</td>\n",
              "    </tr>\n",
              "    <tr>\n",
              "      <th>1</th>\n",
              "      <td>História</td>\n",
              "      <td>6</td>\n",
              "    </tr>\n",
              "    <tr>\n",
              "      <th>2</th>\n",
              "      <td>Matemática</td>\n",
              "      <td>8</td>\n",
              "    </tr>\n",
              "    <tr>\n",
              "      <th>3</th>\n",
              "      <td>Geografia</td>\n",
              "      <td>8</td>\n",
              "    </tr>\n",
              "    <tr>\n",
              "      <th>4</th>\n",
              "      <td>Química</td>\n",
              "      <td>8</td>\n",
              "    </tr>\n",
              "    <tr>\n",
              "      <th>5</th>\n",
              "      <td>Português</td>\n",
              "      <td>10</td>\n",
              "    </tr>\n",
              "    <tr>\n",
              "      <th>6</th>\n",
              "      <td>Física</td>\n",
              "      <td>10</td>\n",
              "    </tr>\n",
              "  </tbody>\n",
              "</table>\n",
              "</div>\n",
              "      <button class=\"colab-df-convert\" onclick=\"convertToInteractive('df-f161cf40-0a4a-47f3-a93d-5355de0dd166')\"\n",
              "              title=\"Convert this dataframe to an interactive table.\"\n",
              "              style=\"display:none;\">\n",
              "        \n",
              "  <svg xmlns=\"http://www.w3.org/2000/svg\" height=\"24px\"viewBox=\"0 0 24 24\"\n",
              "       width=\"24px\">\n",
              "    <path d=\"M0 0h24v24H0V0z\" fill=\"none\"/>\n",
              "    <path d=\"M18.56 5.44l.94 2.06.94-2.06 2.06-.94-2.06-.94-.94-2.06-.94 2.06-2.06.94zm-11 1L8.5 8.5l.94-2.06 2.06-.94-2.06-.94L8.5 2.5l-.94 2.06-2.06.94zm10 10l.94 2.06.94-2.06 2.06-.94-2.06-.94-.94-2.06-.94 2.06-2.06.94z\"/><path d=\"M17.41 7.96l-1.37-1.37c-.4-.4-.92-.59-1.43-.59-.52 0-1.04.2-1.43.59L10.3 9.45l-7.72 7.72c-.78.78-.78 2.05 0 2.83L4 21.41c.39.39.9.59 1.41.59.51 0 1.02-.2 1.41-.59l7.78-7.78 2.81-2.81c.8-.78.8-2.07 0-2.86zM5.41 20L4 18.59l7.72-7.72 1.47 1.35L5.41 20z\"/>\n",
              "  </svg>\n",
              "      </button>\n",
              "      \n",
              "  <style>\n",
              "    .colab-df-container {\n",
              "      display:flex;\n",
              "      flex-wrap:wrap;\n",
              "      gap: 12px;\n",
              "    }\n",
              "\n",
              "    .colab-df-convert {\n",
              "      background-color: #E8F0FE;\n",
              "      border: none;\n",
              "      border-radius: 50%;\n",
              "      cursor: pointer;\n",
              "      display: none;\n",
              "      fill: #1967D2;\n",
              "      height: 32px;\n",
              "      padding: 0 0 0 0;\n",
              "      width: 32px;\n",
              "    }\n",
              "\n",
              "    .colab-df-convert:hover {\n",
              "      background-color: #E2EBFA;\n",
              "      box-shadow: 0px 1px 2px rgba(60, 64, 67, 0.3), 0px 1px 3px 1px rgba(60, 64, 67, 0.15);\n",
              "      fill: #174EA6;\n",
              "    }\n",
              "\n",
              "    [theme=dark] .colab-df-convert {\n",
              "      background-color: #3B4455;\n",
              "      fill: #D2E3FC;\n",
              "    }\n",
              "\n",
              "    [theme=dark] .colab-df-convert:hover {\n",
              "      background-color: #434B5C;\n",
              "      box-shadow: 0px 1px 3px 1px rgba(0, 0, 0, 0.15);\n",
              "      filter: drop-shadow(0px 1px 2px rgba(0, 0, 0, 0.3));\n",
              "      fill: #FFFFFF;\n",
              "    }\n",
              "  </style>\n",
              "\n",
              "      <script>\n",
              "        const buttonEl =\n",
              "          document.querySelector('#df-f161cf40-0a4a-47f3-a93d-5355de0dd166 button.colab-df-convert');\n",
              "        buttonEl.style.display =\n",
              "          google.colab.kernel.accessAllowed ? 'block' : 'none';\n",
              "\n",
              "        async function convertToInteractive(key) {\n",
              "          const element = document.querySelector('#df-f161cf40-0a4a-47f3-a93d-5355de0dd166');\n",
              "          const dataTable =\n",
              "            await google.colab.kernel.invokeFunction('convertToInteractive',\n",
              "                                                     [key], {});\n",
              "          if (!dataTable) return;\n",
              "\n",
              "          const docLinkHtml = 'Like what you see? Visit the ' +\n",
              "            '<a target=\"_blank\" href=https://colab.research.google.com/notebooks/data_table.ipynb>data table notebook</a>'\n",
              "            + ' to learn more about interactive tables.';\n",
              "          element.innerHTML = '';\n",
              "          dataTable['output_type'] = 'display_data';\n",
              "          await google.colab.output.renderOutput(dataTable, element);\n",
              "          const docLink = document.createElement('div');\n",
              "          docLink.innerHTML = docLinkHtml;\n",
              "          element.appendChild(docLink);\n",
              "        }\n",
              "      </script>\n",
              "    </div>\n",
              "  </div>\n",
              "  "
            ]
          },
          "metadata": {},
          "execution_count": 64
        }
      ],
      "source": [
        "notas_fulano = notas_fulano.reset_index()\n",
        "notas_fulano"
      ]
    },
    {
      "cell_type": "code",
      "execution_count": null,
      "metadata": {
        "id": "u3nfPEFjjQMW",
        "colab": {
          "base_uri": "https://localhost:8080/"
        },
        "outputId": "5add966a-a42f-46cd-a78f-f2dd9048685c"
      },
      "outputs": [
        {
          "output_type": "execute_result",
          "data": {
            "text/plain": [
              "7"
            ]
          },
          "metadata": {},
          "execution_count": 65
        }
      ],
      "source": [
        "n = notas_fulano.shape[0]\n",
        "n"
      ]
    },
    {
      "cell_type": "code",
      "execution_count": null,
      "metadata": {
        "id": "trC12MHxjQMY",
        "colab": {
          "base_uri": "https://localhost:8080/"
        },
        "outputId": "76456d68-e139-4680-b77c-f69a68f1fb2d"
      },
      "outputs": [
        {
          "output_type": "execute_result",
          "data": {
            "text/plain": [
              "4.0"
            ]
          },
          "metadata": {},
          "execution_count": 66
        }
      ],
      "source": [
        "elemento_md = (n + 1)/ 2\n",
        "elemento_md"
      ]
    },
    {
      "cell_type": "code",
      "execution_count": null,
      "metadata": {
        "id": "NKccffcLjQMZ",
        "colab": {
          "base_uri": "https://localhost:8080/"
        },
        "outputId": "e5b6af5c-62a8-4fe0-e62d-7d224badd669"
      },
      "outputs": [
        {
          "output_type": "execute_result",
          "data": {
            "text/plain": [
              "index     Geografia\n",
              "Fulano            8\n",
              "Name: 3, dtype: object"
            ]
          },
          "metadata": {},
          "execution_count": 67
        }
      ],
      "source": [
        "notas_fulano.loc[elemento_md - 1]"
      ]
    },
    {
      "cell_type": "code",
      "execution_count": null,
      "metadata": {
        "id": "ody5mfXLjQMb",
        "colab": {
          "base_uri": "https://localhost:8080/"
        },
        "outputId": "725f09f0-9792-4e79-c3f8-77614665f723"
      },
      "outputs": [
        {
          "output_type": "stream",
          "name": "stderr",
          "text": [
            "/usr/local/lib/python3.7/dist-packages/ipykernel_launcher.py:1: FutureWarning: Dropping of nuisance columns in DataFrame reductions (with 'numeric_only=None') is deprecated; in a future version this will raise TypeError.  Select only valid columns before calling the reduction.\n",
            "  \"\"\"Entry point for launching an IPython kernel.\n"
          ]
        },
        {
          "output_type": "execute_result",
          "data": {
            "text/plain": [
              "Fulano    8.0\n",
              "dtype: float64"
            ]
          },
          "metadata": {},
          "execution_count": 68
        }
      ],
      "source": [
        "notas_fulano.median()"
      ]
    },
    {
      "cell_type": "markdown",
      "metadata": {
        "id": "hQHyjfLkjQMe"
      },
      "source": [
        "### Exemplo 2 - n par\n",
        "\n",
        "<img src='https://caelum-online-public.s3.amazonaws.com/1177-estatistica-parte1/01/img003.png' width='50%' style=\"float:left\">"
      ]
    },
    {
      "cell_type": "code",
      "execution_count": null,
      "metadata": {
        "id": "Jkx1WZenjQMe",
        "colab": {
          "base_uri": "https://localhost:8080/"
        },
        "outputId": "3bf0da3c-d4a4-4015-8066-fab1c7574780"
      },
      "outputs": [
        {
          "output_type": "execute_result",
          "data": {
            "text/plain": [
              "Matemática    10.0\n",
              "Inglês         0.5\n",
              "Física         9.5\n",
              "História       3.0\n",
              "Química       10.0\n",
              "Português      2.0\n",
              "Name: Beltrano, dtype: float64"
            ]
          },
          "metadata": {},
          "execution_count": 69
        }
      ],
      "source": [
        "notas_beltrano = df.Beltrano.sample(6, random_state = 101)\n",
        "notas_beltrano"
      ]
    },
    {
      "cell_type": "code",
      "execution_count": null,
      "metadata": {
        "id": "D1LUpvZkYsHq",
        "colab": {
          "base_uri": "https://localhost:8080/"
        },
        "outputId": "d840c9da-8a69-41e0-a93b-ac6bb70e20e3"
      },
      "outputs": [
        {
          "output_type": "execute_result",
          "data": {
            "text/plain": [
              "6.25"
            ]
          },
          "metadata": {},
          "execution_count": 70
        }
      ],
      "source": [
        "notas_beltrano.median()"
      ]
    },
    {
      "cell_type": "markdown",
      "metadata": {
        "id": "nK27TxrkjQMl"
      },
      "source": [
        "### Obtendo a mediana em nosso dataset"
      ]
    },
    {
      "cell_type": "code",
      "execution_count": null,
      "metadata": {
        "id": "dJznpnjUjQMl",
        "colab": {
          "base_uri": "https://localhost:8080/"
        },
        "outputId": "1e2c7097-2355-4a6c-8065-bd53486dbc3e"
      },
      "outputs": [
        {
          "output_type": "execute_result",
          "data": {
            "text/plain": [
              "1200.0"
            ]
          },
          "metadata": {},
          "execution_count": 71
        }
      ],
      "source": [
        "dados.Renda.median()"
      ]
    },
    {
      "cell_type": "code",
      "execution_count": null,
      "metadata": {
        "id": "W4a5PVYdjQMm",
        "colab": {
          "base_uri": "https://localhost:8080/"
        },
        "outputId": "1d3c1b95-e7d5-4edb-c1be-cb5d36098bbe"
      },
      "outputs": [
        {
          "output_type": "execute_result",
          "data": {
            "text/plain": [
              "1200.0"
            ]
          },
          "metadata": {},
          "execution_count": 72
        }
      ],
      "source": [
        "dados.Renda.quantile()"
      ]
    },
    {
      "cell_type": "markdown",
      "metadata": {
        "id": "CmCu6BXQjQMo"
      },
      "source": [
        "## <font color=green>3.3 Moda</font>\n",
        "***\n",
        "\n",
        "Pode-se definir a moda como sendo o valor mais frequente de um conjunto de dados. A moda é bastante utilizada para dados qualitativos."
      ]
    },
    {
      "cell_type": "code",
      "execution_count": null,
      "metadata": {
        "id": "BHibMzw8X7Id",
        "colab": {
          "base_uri": "https://localhost:8080/",
          "height": 269
        },
        "outputId": "6fe6534f-2f5e-4b2e-f2a6-6618cf5ca92d"
      },
      "outputs": [
        {
          "output_type": "execute_result",
          "data": {
            "text/plain": [
              "Matérias    Fulano  Beltrano  Sicrano\n",
              "Matemática       8      10.0      7.5\n",
              "Português       10       2.0      8.0\n",
              "Inglês           4       0.5      7.0\n",
              "Geografia        8       1.0      8.0\n",
              "História         6       3.0      8.0\n",
              "Física          10       9.5      8.5\n",
              "Química          8      10.0      7.0"
            ],
            "text/html": [
              "\n",
              "  <div id=\"df-18dabe28-8c38-419d-ae11-afaafe7fe445\">\n",
              "    <div class=\"colab-df-container\">\n",
              "      <div>\n",
              "<style scoped>\n",
              "    .dataframe tbody tr th:only-of-type {\n",
              "        vertical-align: middle;\n",
              "    }\n",
              "\n",
              "    .dataframe tbody tr th {\n",
              "        vertical-align: top;\n",
              "    }\n",
              "\n",
              "    .dataframe thead th {\n",
              "        text-align: right;\n",
              "    }\n",
              "</style>\n",
              "<table border=\"1\" class=\"dataframe\">\n",
              "  <thead>\n",
              "    <tr style=\"text-align: right;\">\n",
              "      <th>Matérias</th>\n",
              "      <th>Fulano</th>\n",
              "      <th>Beltrano</th>\n",
              "      <th>Sicrano</th>\n",
              "    </tr>\n",
              "  </thead>\n",
              "  <tbody>\n",
              "    <tr>\n",
              "      <th>Matemática</th>\n",
              "      <td>8</td>\n",
              "      <td>10.0</td>\n",
              "      <td>7.5</td>\n",
              "    </tr>\n",
              "    <tr>\n",
              "      <th>Português</th>\n",
              "      <td>10</td>\n",
              "      <td>2.0</td>\n",
              "      <td>8.0</td>\n",
              "    </tr>\n",
              "    <tr>\n",
              "      <th>Inglês</th>\n",
              "      <td>4</td>\n",
              "      <td>0.5</td>\n",
              "      <td>7.0</td>\n",
              "    </tr>\n",
              "    <tr>\n",
              "      <th>Geografia</th>\n",
              "      <td>8</td>\n",
              "      <td>1.0</td>\n",
              "      <td>8.0</td>\n",
              "    </tr>\n",
              "    <tr>\n",
              "      <th>História</th>\n",
              "      <td>6</td>\n",
              "      <td>3.0</td>\n",
              "      <td>8.0</td>\n",
              "    </tr>\n",
              "    <tr>\n",
              "      <th>Física</th>\n",
              "      <td>10</td>\n",
              "      <td>9.5</td>\n",
              "      <td>8.5</td>\n",
              "    </tr>\n",
              "    <tr>\n",
              "      <th>Química</th>\n",
              "      <td>8</td>\n",
              "      <td>10.0</td>\n",
              "      <td>7.0</td>\n",
              "    </tr>\n",
              "  </tbody>\n",
              "</table>\n",
              "</div>\n",
              "      <button class=\"colab-df-convert\" onclick=\"convertToInteractive('df-18dabe28-8c38-419d-ae11-afaafe7fe445')\"\n",
              "              title=\"Convert this dataframe to an interactive table.\"\n",
              "              style=\"display:none;\">\n",
              "        \n",
              "  <svg xmlns=\"http://www.w3.org/2000/svg\" height=\"24px\"viewBox=\"0 0 24 24\"\n",
              "       width=\"24px\">\n",
              "    <path d=\"M0 0h24v24H0V0z\" fill=\"none\"/>\n",
              "    <path d=\"M18.56 5.44l.94 2.06.94-2.06 2.06-.94-2.06-.94-.94-2.06-.94 2.06-2.06.94zm-11 1L8.5 8.5l.94-2.06 2.06-.94-2.06-.94L8.5 2.5l-.94 2.06-2.06.94zm10 10l.94 2.06.94-2.06 2.06-.94-2.06-.94-.94-2.06-.94 2.06-2.06.94z\"/><path d=\"M17.41 7.96l-1.37-1.37c-.4-.4-.92-.59-1.43-.59-.52 0-1.04.2-1.43.59L10.3 9.45l-7.72 7.72c-.78.78-.78 2.05 0 2.83L4 21.41c.39.39.9.59 1.41.59.51 0 1.02-.2 1.41-.59l7.78-7.78 2.81-2.81c.8-.78.8-2.07 0-2.86zM5.41 20L4 18.59l7.72-7.72 1.47 1.35L5.41 20z\"/>\n",
              "  </svg>\n",
              "      </button>\n",
              "      \n",
              "  <style>\n",
              "    .colab-df-container {\n",
              "      display:flex;\n",
              "      flex-wrap:wrap;\n",
              "      gap: 12px;\n",
              "    }\n",
              "\n",
              "    .colab-df-convert {\n",
              "      background-color: #E8F0FE;\n",
              "      border: none;\n",
              "      border-radius: 50%;\n",
              "      cursor: pointer;\n",
              "      display: none;\n",
              "      fill: #1967D2;\n",
              "      height: 32px;\n",
              "      padding: 0 0 0 0;\n",
              "      width: 32px;\n",
              "    }\n",
              "\n",
              "    .colab-df-convert:hover {\n",
              "      background-color: #E2EBFA;\n",
              "      box-shadow: 0px 1px 2px rgba(60, 64, 67, 0.3), 0px 1px 3px 1px rgba(60, 64, 67, 0.15);\n",
              "      fill: #174EA6;\n",
              "    }\n",
              "\n",
              "    [theme=dark] .colab-df-convert {\n",
              "      background-color: #3B4455;\n",
              "      fill: #D2E3FC;\n",
              "    }\n",
              "\n",
              "    [theme=dark] .colab-df-convert:hover {\n",
              "      background-color: #434B5C;\n",
              "      box-shadow: 0px 1px 3px 1px rgba(0, 0, 0, 0.15);\n",
              "      filter: drop-shadow(0px 1px 2px rgba(0, 0, 0, 0.3));\n",
              "      fill: #FFFFFF;\n",
              "    }\n",
              "  </style>\n",
              "\n",
              "      <script>\n",
              "        const buttonEl =\n",
              "          document.querySelector('#df-18dabe28-8c38-419d-ae11-afaafe7fe445 button.colab-df-convert');\n",
              "        buttonEl.style.display =\n",
              "          google.colab.kernel.accessAllowed ? 'block' : 'none';\n",
              "\n",
              "        async function convertToInteractive(key) {\n",
              "          const element = document.querySelector('#df-18dabe28-8c38-419d-ae11-afaafe7fe445');\n",
              "          const dataTable =\n",
              "            await google.colab.kernel.invokeFunction('convertToInteractive',\n",
              "                                                     [key], {});\n",
              "          if (!dataTable) return;\n",
              "\n",
              "          const docLinkHtml = 'Like what you see? Visit the ' +\n",
              "            '<a target=\"_blank\" href=https://colab.research.google.com/notebooks/data_table.ipynb>data table notebook</a>'\n",
              "            + ' to learn more about interactive tables.';\n",
              "          element.innerHTML = '';\n",
              "          dataTable['output_type'] = 'display_data';\n",
              "          await google.colab.output.renderOutput(dataTable, element);\n",
              "          const docLink = document.createElement('div');\n",
              "          docLink.innerHTML = docLinkHtml;\n",
              "          element.appendChild(docLink);\n",
              "        }\n",
              "      </script>\n",
              "    </div>\n",
              "  </div>\n",
              "  "
            ]
          },
          "metadata": {},
          "execution_count": 73
        }
      ],
      "source": [
        "df"
      ]
    },
    {
      "cell_type": "code",
      "execution_count": null,
      "metadata": {
        "id": "xICDpQguX7Ik",
        "colab": {
          "base_uri": "https://localhost:8080/",
          "height": 81
        },
        "outputId": "506e8571-4b12-4588-fda6-d51077d3b391"
      },
      "outputs": [
        {
          "output_type": "execute_result",
          "data": {
            "text/plain": [
              "Matérias  Fulano  Beltrano  Sicrano\n",
              "0              8      10.0      8.0"
            ],
            "text/html": [
              "\n",
              "  <div id=\"df-12cc4fee-3211-4d1f-9c24-f5ebce00eca8\">\n",
              "    <div class=\"colab-df-container\">\n",
              "      <div>\n",
              "<style scoped>\n",
              "    .dataframe tbody tr th:only-of-type {\n",
              "        vertical-align: middle;\n",
              "    }\n",
              "\n",
              "    .dataframe tbody tr th {\n",
              "        vertical-align: top;\n",
              "    }\n",
              "\n",
              "    .dataframe thead th {\n",
              "        text-align: right;\n",
              "    }\n",
              "</style>\n",
              "<table border=\"1\" class=\"dataframe\">\n",
              "  <thead>\n",
              "    <tr style=\"text-align: right;\">\n",
              "      <th>Matérias</th>\n",
              "      <th>Fulano</th>\n",
              "      <th>Beltrano</th>\n",
              "      <th>Sicrano</th>\n",
              "    </tr>\n",
              "  </thead>\n",
              "  <tbody>\n",
              "    <tr>\n",
              "      <th>0</th>\n",
              "      <td>8</td>\n",
              "      <td>10.0</td>\n",
              "      <td>8.0</td>\n",
              "    </tr>\n",
              "  </tbody>\n",
              "</table>\n",
              "</div>\n",
              "      <button class=\"colab-df-convert\" onclick=\"convertToInteractive('df-12cc4fee-3211-4d1f-9c24-f5ebce00eca8')\"\n",
              "              title=\"Convert this dataframe to an interactive table.\"\n",
              "              style=\"display:none;\">\n",
              "        \n",
              "  <svg xmlns=\"http://www.w3.org/2000/svg\" height=\"24px\"viewBox=\"0 0 24 24\"\n",
              "       width=\"24px\">\n",
              "    <path d=\"M0 0h24v24H0V0z\" fill=\"none\"/>\n",
              "    <path d=\"M18.56 5.44l.94 2.06.94-2.06 2.06-.94-2.06-.94-.94-2.06-.94 2.06-2.06.94zm-11 1L8.5 8.5l.94-2.06 2.06-.94-2.06-.94L8.5 2.5l-.94 2.06-2.06.94zm10 10l.94 2.06.94-2.06 2.06-.94-2.06-.94-.94-2.06-.94 2.06-2.06.94z\"/><path d=\"M17.41 7.96l-1.37-1.37c-.4-.4-.92-.59-1.43-.59-.52 0-1.04.2-1.43.59L10.3 9.45l-7.72 7.72c-.78.78-.78 2.05 0 2.83L4 21.41c.39.39.9.59 1.41.59.51 0 1.02-.2 1.41-.59l7.78-7.78 2.81-2.81c.8-.78.8-2.07 0-2.86zM5.41 20L4 18.59l7.72-7.72 1.47 1.35L5.41 20z\"/>\n",
              "  </svg>\n",
              "      </button>\n",
              "      \n",
              "  <style>\n",
              "    .colab-df-container {\n",
              "      display:flex;\n",
              "      flex-wrap:wrap;\n",
              "      gap: 12px;\n",
              "    }\n",
              "\n",
              "    .colab-df-convert {\n",
              "      background-color: #E8F0FE;\n",
              "      border: none;\n",
              "      border-radius: 50%;\n",
              "      cursor: pointer;\n",
              "      display: none;\n",
              "      fill: #1967D2;\n",
              "      height: 32px;\n",
              "      padding: 0 0 0 0;\n",
              "      width: 32px;\n",
              "    }\n",
              "\n",
              "    .colab-df-convert:hover {\n",
              "      background-color: #E2EBFA;\n",
              "      box-shadow: 0px 1px 2px rgba(60, 64, 67, 0.3), 0px 1px 3px 1px rgba(60, 64, 67, 0.15);\n",
              "      fill: #174EA6;\n",
              "    }\n",
              "\n",
              "    [theme=dark] .colab-df-convert {\n",
              "      background-color: #3B4455;\n",
              "      fill: #D2E3FC;\n",
              "    }\n",
              "\n",
              "    [theme=dark] .colab-df-convert:hover {\n",
              "      background-color: #434B5C;\n",
              "      box-shadow: 0px 1px 3px 1px rgba(0, 0, 0, 0.15);\n",
              "      filter: drop-shadow(0px 1px 2px rgba(0, 0, 0, 0.3));\n",
              "      fill: #FFFFFF;\n",
              "    }\n",
              "  </style>\n",
              "\n",
              "      <script>\n",
              "        const buttonEl =\n",
              "          document.querySelector('#df-12cc4fee-3211-4d1f-9c24-f5ebce00eca8 button.colab-df-convert');\n",
              "        buttonEl.style.display =\n",
              "          google.colab.kernel.accessAllowed ? 'block' : 'none';\n",
              "\n",
              "        async function convertToInteractive(key) {\n",
              "          const element = document.querySelector('#df-12cc4fee-3211-4d1f-9c24-f5ebce00eca8');\n",
              "          const dataTable =\n",
              "            await google.colab.kernel.invokeFunction('convertToInteractive',\n",
              "                                                     [key], {});\n",
              "          if (!dataTable) return;\n",
              "\n",
              "          const docLinkHtml = 'Like what you see? Visit the ' +\n",
              "            '<a target=\"_blank\" href=https://colab.research.google.com/notebooks/data_table.ipynb>data table notebook</a>'\n",
              "            + ' to learn more about interactive tables.';\n",
              "          element.innerHTML = '';\n",
              "          dataTable['output_type'] = 'display_data';\n",
              "          await google.colab.output.renderOutput(dataTable, element);\n",
              "          const docLink = document.createElement('div');\n",
              "          docLink.innerHTML = docLinkHtml;\n",
              "          element.appendChild(docLink);\n",
              "        }\n",
              "      </script>\n",
              "    </div>\n",
              "  </div>\n",
              "  "
            ]
          },
          "metadata": {},
          "execution_count": 74
        }
      ],
      "source": [
        "df.mode()"
      ]
    },
    {
      "cell_type": "code",
      "execution_count": null,
      "metadata": {
        "id": "x9lIRFESX7Il",
        "colab": {
          "base_uri": "https://localhost:8080/"
        },
        "outputId": "e1ccf95c-a13c-45a5-bb3a-904a196bc000"
      },
      "outputs": [
        {
          "output_type": "execute_result",
          "data": {
            "text/plain": [
              "0    1\n",
              "1    2\n",
              "2    2\n",
              "3    3\n",
              "4    4\n",
              "5    4\n",
              "6    5\n",
              "7    6\n",
              "8    6\n",
              "dtype: int64"
            ]
          },
          "metadata": {},
          "execution_count": 75
        }
      ],
      "source": [
        "exemplo = pd.Series([1, 2, 2, 3, 4, 4, 5, 6, 6])\n",
        "exemplo"
      ]
    },
    {
      "cell_type": "code",
      "execution_count": null,
      "metadata": {
        "id": "yUP6QFuiX7Io",
        "colab": {
          "base_uri": "https://localhost:8080/"
        },
        "outputId": "8ba4c1aa-ba47-4f41-d49f-da46c6efd142"
      },
      "outputs": [
        {
          "output_type": "execute_result",
          "data": {
            "text/plain": [
              "0    2\n",
              "1    4\n",
              "2    6\n",
              "dtype: int64"
            ]
          },
          "metadata": {},
          "execution_count": 76
        }
      ],
      "source": [
        "exemplo.mode()"
      ]
    },
    {
      "cell_type": "markdown",
      "metadata": {
        "id": "YwhBwz-JjQMr"
      },
      "source": [
        "### Obtendo a moda em nosso dataset"
      ]
    },
    {
      "cell_type": "code",
      "execution_count": null,
      "metadata": {
        "id": "mC8vvYk-jQMr",
        "colab": {
          "base_uri": "https://localhost:8080/"
        },
        "outputId": "bca6c992-9dcd-4259-ecc8-61566c16a37e"
      },
      "outputs": [
        {
          "output_type": "execute_result",
          "data": {
            "text/plain": [
              "0    788\n",
              "dtype: int64"
            ]
          },
          "metadata": {},
          "execution_count": 77
        }
      ],
      "source": [
        "dados.Renda.mode()"
      ]
    },
    {
      "cell_type": "code",
      "execution_count": null,
      "metadata": {
        "id": "Sdosy_vSX7Iw",
        "colab": {
          "base_uri": "https://localhost:8080/"
        },
        "outputId": "dac80273-67b9-4ea3-df61-ff2d9b3a692f"
      },
      "outputs": [
        {
          "output_type": "execute_result",
          "data": {
            "text/plain": [
              "0    1.568128\n",
              "1    1.671225\n",
              "2    1.681659\n",
              "3    1.692977\n",
              "4    1.708163\n",
              "5    1.708370\n",
              "6    1.753842\n",
              "7    1.779073\n",
              "8    1.796462\n",
              "dtype: float64"
            ]
          },
          "metadata": {},
          "execution_count": 78
        }
      ],
      "source": [
        "dados.Altura.mode()"
      ]
    },
    {
      "cell_type": "markdown",
      "metadata": {
        "id": "_-0gjQWFjQMu"
      },
      "source": [
        "## <font color=green>3.4 Relação entre média, mediana e moda</font>\n",
        "***"
      ]
    },
    {
      "cell_type": "markdown",
      "metadata": {
        "id": "0S7pa_jLjQMu"
      },
      "source": [
        "<img src='https://caelum-online-public.s3.amazonaws.com/1177-estatistica-parte1/01/img004.png' width='80%'>"
      ]
    },
    {
      "cell_type": "markdown",
      "metadata": {
        "id": "b7ZchyFsjQMu"
      },
      "source": [
        "### Avaliando a variável RENDA"
      ]
    },
    {
      "cell_type": "code",
      "execution_count": null,
      "metadata": {
        "id": "d8WQQ0PdjQMv",
        "colab": {
          "base_uri": "https://localhost:8080/",
          "height": 460
        },
        "outputId": "d8e0b1f1-2c3a-46c9-e16d-6f5cf05ec6b7"
      },
      "outputs": [
        {
          "output_type": "stream",
          "name": "stderr",
          "text": [
            "/usr/local/lib/python3.7/dist-packages/seaborn/distributions.py:2619: FutureWarning: `distplot` is a deprecated function and will be removed in a future version. Please adapt your code to use either `displot` (a figure-level function with similar flexibility) or `histplot` (an axes-level function for histograms).\n",
            "  warnings.warn(msg, FutureWarning)\n"
          ]
        },
        {
          "output_type": "execute_result",
          "data": {
            "text/plain": [
              "<matplotlib.axes._subplots.AxesSubplot at 0x7f066d122790>"
            ]
          },
          "metadata": {},
          "execution_count": 79
        },
        {
          "output_type": "display_data",
          "data": {
            "text/plain": [
              "<Figure size 864x432 with 1 Axes>"
            ],
            "image/png": "[encoded data removed]"
          },
          "metadata": {
            "needs_background": "light"
          }
        }
      ],
      "source": [
        "ax = sns.distplot(dados.query('Renda < 20000').Renda)\n",
        "ax.figure.set_size_inches(12, 6)\n",
        "ax"
      ]
    },
    {
      "cell_type": "code",
      "source": [
        "Moda = dados.Renda.mode()[0]\n",
        "Moda"
      ],
      "metadata": {
        "colab": {
          "base_uri": "https://localhost:8080/"
        },
        "id": "qGFB7SYv3pfZ",
        "outputId": "a4b88d43-b1f6-4e93-b7d2-865d01fb001d"
      },
      "execution_count": null,
      "outputs": [
        {
          "output_type": "execute_result",
          "data": {
            "text/plain": [
              "788"
            ]
          },
          "metadata": {},
          "execution_count": 80
        }
      ]
    },
    {
      "cell_type": "code",
      "execution_count": null,
      "metadata": {
        "id": "krws6f_SjQMw",
        "colab": {
          "base_uri": "https://localhost:8080/"
        },
        "outputId": "c9534db3-22b1-497b-9985-3ab7acf82679"
      },
      "outputs": [
        {
          "output_type": "execute_result",
          "data": {
            "text/plain": [
              "1200.0"
            ]
          },
          "metadata": {},
          "execution_count": 81
        }
      ],
      "source": [
        "Mediana = dados.Renda.median()\n",
        "Mediana"
      ]
    },
    {
      "cell_type": "code",
      "execution_count": null,
      "metadata": {
        "id": "_Y7KpB25jQMx",
        "colab": {
          "base_uri": "https://localhost:8080/"
        },
        "outputId": "1f36b806-cb79-4f5c-9fb9-5f9ff377703c"
      },
      "outputs": [
        {
          "output_type": "execute_result",
          "data": {
            "text/plain": [
              "2000.3831988547631"
            ]
          },
          "metadata": {},
          "execution_count": 82
        }
      ],
      "source": [
        "Media = dados.Renda.mean()\n",
        "Media"
      ]
    },
    {
      "cell_type": "code",
      "execution_count": null,
      "metadata": {
        "id": "gQ0e56VajQMy",
        "colab": {
          "base_uri": "https://localhost:8080/"
        },
        "outputId": "d9d717e1-eb8d-4436-ee39-86d5426444e6"
      },
      "outputs": [
        {
          "output_type": "execute_result",
          "data": {
            "text/plain": [
              "True"
            ]
          },
          "metadata": {},
          "execution_count": 83
        }
      ],
      "source": [
        "Moda < Mediana < Media"
      ]
    },
    {
      "cell_type": "markdown",
      "metadata": {
        "id": "FnLQAxSijQM1"
      },
      "source": [
        "***"
      ]
    },
    {
      "cell_type": "markdown",
      "metadata": {
        "id": "WazchssNjQM1"
      },
      "source": [
        "### Avaliando a variável ALTURA"
      ]
    },
    {
      "cell_type": "code",
      "execution_count": null,
      "metadata": {
        "id": "41uJsCk9jQM2",
        "colab": {
          "base_uri": "https://localhost:8080/",
          "height": 460
        },
        "outputId": "5ca7df46-5b98-40c3-dce7-30e06c3f7d8a"
      },
      "outputs": [
        {
          "output_type": "stream",
          "name": "stderr",
          "text": [
            "/usr/local/lib/python3.7/dist-packages/seaborn/distributions.py:2619: FutureWarning: `distplot` is a deprecated function and will be removed in a future version. Please adapt your code to use either `displot` (a figure-level function with similar flexibility) or `histplot` (an axes-level function for histograms).\n",
            "  warnings.warn(msg, FutureWarning)\n"
          ]
        },
        {
          "output_type": "execute_result",
          "data": {
            "text/plain": [
              "<matplotlib.axes._subplots.AxesSubplot at 0x7f066cf816d0>"
            ]
          },
          "metadata": {},
          "execution_count": 84
        },
        {
          "output_type": "display_data",
          "data": {
            "text/plain": [
              "<Figure size 864x432 with 1 Axes>"
            ],
            "image/png": "[encoded data removed]"
          },
          "metadata": {
            "needs_background": "light"
          }
        }
      ],
      "source": [
        "ax = sns.distplot(dados.Altura)\n",
        "ax.figure.set_size_inches(12, 6)\n",
        "ax"
      ]
    },
    {
      "cell_type": "code",
      "execution_count": null,
      "metadata": {
        "id": "EkgerGuXjQM3",
        "colab": {
          "base_uri": "https://localhost:8080/"
        },
        "outputId": "b4cad211-efef-441b-ab37-b005769e552b"
      },
      "outputs": [
        {
          "output_type": "execute_result",
          "data": {
            "text/plain": [
              "0    1.568128\n",
              "1    1.671225\n",
              "2    1.681659\n",
              "3    1.692977\n",
              "4    1.708163\n",
              "5    1.708370\n",
              "6    1.753842\n",
              "7    1.779073\n",
              "8    1.796462\n",
              "dtype: float64"
            ]
          },
          "metadata": {},
          "execution_count": 85
        }
      ],
      "source": [
        "Moda = dados.Altura.mode()\n",
        "Moda"
      ]
    },
    {
      "cell_type": "code",
      "execution_count": null,
      "metadata": {
        "id": "Jj6MFUXbjQM4",
        "colab": {
          "base_uri": "https://localhost:8080/"
        },
        "outputId": "02965e8a-4191-4b88-a9cc-7d8cdb0bc82c"
      },
      "outputs": [
        {
          "output_type": "execute_result",
          "data": {
            "text/plain": [
              "1.6993247325"
            ]
          },
          "metadata": {},
          "execution_count": 86
        }
      ],
      "source": [
        "Mediana = dados.Altura.median()\n",
        "Mediana"
      ]
    },
    {
      "cell_type": "code",
      "execution_count": null,
      "metadata": {
        "id": "84X-3AzvjQM5",
        "colab": {
          "base_uri": "https://localhost:8080/"
        },
        "outputId": "5395bd58-1900-459a-f15c-ba4c5d247932"
      },
      "outputs": [
        {
          "output_type": "execute_result",
          "data": {
            "text/plain": [
              "1.6995124540575741"
            ]
          },
          "metadata": {},
          "execution_count": 87
        }
      ],
      "source": [
        "Media = dados.Altura.mean()\n",
        "Media"
      ]
    },
    {
      "cell_type": "markdown",
      "metadata": {
        "id": "PJIMB8i8jQM6"
      },
      "source": [
        "***"
      ]
    },
    {
      "cell_type": "markdown",
      "metadata": {
        "id": "eS4I2H7jjQM7"
      },
      "source": [
        "### Avaliando a variável ANOS DE ESTUDO"
      ]
    },
    {
      "cell_type": "code",
      "execution_count": null,
      "metadata": {
        "id": "NPCcjXqPjQM8",
        "colab": {
          "base_uri": "https://localhost:8080/",
          "height": 461
        },
        "outputId": "df03d99e-c579-48be-9669-0fbaffe0e95b"
      },
      "outputs": [
        {
          "output_type": "stream",
          "name": "stderr",
          "text": [
            "/usr/local/lib/python3.7/dist-packages/seaborn/distributions.py:2619: FutureWarning: `distplot` is a deprecated function and will be removed in a future version. Please adapt your code to use either `displot` (a figure-level function with similar flexibility) or `histplot` (an axes-level function for histograms).\n",
            "  warnings.warn(msg, FutureWarning)\n"
          ]
        },
        {
          "output_type": "execute_result",
          "data": {
            "text/plain": [
              "<matplotlib.axes._subplots.AxesSubplot at 0x7f066cec4510>"
            ]
          },
          "metadata": {},
          "execution_count": 88
        },
        {
          "output_type": "display_data",
          "data": {
            "text/plain": [
              "<Figure size 864x432 with 1 Axes>"
            ],
            "image/png": "[encoded data removed]"
          },
          "metadata": {
            "needs_background": "light"
          }
        }
      ],
      "source": [
        "ax = sns.distplot(dados['Anos de Estudo'], bins = 17)\n",
        "ax.figure.set_size_inches(12, 6)\n",
        "ax"
      ]
    },
    {
      "cell_type": "code",
      "execution_count": null,
      "metadata": {
        "id": "PjfvPYUajQM9",
        "colab": {
          "base_uri": "https://localhost:8080/"
        },
        "outputId": "c257254a-5f52-4ed7-e0bb-9c69dea48820"
      },
      "outputs": [
        {
          "output_type": "execute_result",
          "data": {
            "text/plain": [
              "12"
            ]
          },
          "metadata": {},
          "execution_count": 89
        }
      ],
      "source": [
        "Moda = dados['Anos de Estudo'].mode()[0]\n",
        "Moda"
      ]
    },
    {
      "cell_type": "code",
      "execution_count": null,
      "metadata": {
        "id": "VF_Bj8x2jQM-",
        "colab": {
          "base_uri": "https://localhost:8080/"
        },
        "outputId": "81dacc2c-a118-40af-8219-77e07a94fca9"
      },
      "outputs": [
        {
          "output_type": "execute_result",
          "data": {
            "text/plain": [
              "11.0"
            ]
          },
          "metadata": {},
          "execution_count": 90
        }
      ],
      "source": [
        "Mediana = dados['Anos de Estudo'].median()\n",
        "Mediana"
      ]
    },
    {
      "cell_type": "code",
      "execution_count": null,
      "metadata": {
        "id": "ohqUZ5RsjQNA",
        "colab": {
          "base_uri": "https://localhost:8080/"
        },
        "outputId": "85af7bdf-2cf8-4dde-e961-e1133df79f9a"
      },
      "outputs": [
        {
          "output_type": "execute_result",
          "data": {
            "text/plain": [
              "9.469664237376367"
            ]
          },
          "metadata": {},
          "execution_count": 91
        }
      ],
      "source": [
        "Media = dados['Anos de Estudo'].mean()\n",
        "Media"
      ]
    },
    {
      "cell_type": "code",
      "execution_count": null,
      "metadata": {
        "id": "AwM8UvApjQNC",
        "colab": {
          "base_uri": "https://localhost:8080/"
        },
        "outputId": "dc08dc58-9d02-4892-e101-2984d5ad05a5"
      },
      "outputs": [
        {
          "output_type": "execute_result",
          "data": {
            "text/plain": [
              "True"
            ]
          },
          "metadata": {},
          "execution_count": 92
        }
      ],
      "source": [
        "Moda > Mediana > Media"
      ]
    },
    {
      "cell_type": "markdown",
      "metadata": {
        "id": "vcaIo45UjQND"
      },
      "source": [
        "# <font color=green>4 MEDIDAS SEPARATRIZES</font>\n",
        "***"
      ]
    },
    {
      "cell_type": "markdown",
      "metadata": {
        "id": "f4XrApNxjQNE"
      },
      "source": [
        "## <font color=green>4.1 Quartis, decis e percentis</font>\n",
        "***\n",
        "\n",
        "Há uma série de medidas de posição semelhantes na sua concepção à mediana, embora não sejam medidas de tendência central. Como se sabe, a mediana divide a distribuição em duas partes iguais quanto ao número de elementos de cada parte. Já os quartis permitem dividir a distribuição em quatro partes iguais quanto ao número de elementos de cada uma; os decis em dez partes e os centis em cem partes iguais."
      ]
    },
    {
      "cell_type": "code",
      "execution_count": null,
      "metadata": {
        "id": "VmbdUO-ujQNE",
        "colab": {
          "base_uri": "https://localhost:8080/"
        },
        "outputId": "7c6d1c11-c6f4-44be-d016-204a2924b288"
      },
      "outputs": [
        {
          "output_type": "execute_result",
          "data": {
            "text/plain": [
              "0.25     788.0\n",
              "0.50    1200.0\n",
              "0.75    2000.0\n",
              "Name: Renda, dtype: float64"
            ]
          },
          "metadata": {},
          "execution_count": 93
        }
      ],
      "source": [
        "dados.Renda.quantile([0.25, 0.5, 0.75])"
      ]
    },
    {
      "cell_type": "code",
      "execution_count": null,
      "metadata": {
        "id": "gyiJDAMbjQNF",
        "colab": {
          "base_uri": "https://localhost:8080/"
        },
        "outputId": "d19e898d-2e74-4a6b-a9b7-9477ff7b67a0"
      },
      "outputs": [
        {
          "output_type": "execute_result",
          "data": {
            "text/plain": [
              "[0.1, 0.2, 0.3, 0.4, 0.5, 0.6, 0.7, 0.8, 0.9]"
            ]
          },
          "metadata": {},
          "execution_count": 94
        }
      ],
      "source": [
        "[i/10 for i in range(1, 10)]"
      ]
    },
    {
      "cell_type": "code",
      "execution_count": null,
      "metadata": {
        "id": "EpRKboV5jQNG",
        "colab": {
          "base_uri": "https://localhost:8080/"
        },
        "outputId": "b3067fae-e47b-4752-8e80-92e2a4782191"
      },
      "outputs": [
        {
          "output_type": "execute_result",
          "data": {
            "text/plain": [
              "0.1     350.0\n",
              "0.2     788.0\n",
              "0.3     800.0\n",
              "0.4    1000.0\n",
              "0.5    1200.0\n",
              "0.6    1500.0\n",
              "0.7    1900.0\n",
              "0.8    2500.0\n",
              "0.9    4000.0\n",
              "Name: Renda, dtype: float64"
            ]
          },
          "metadata": {},
          "execution_count": 95
        }
      ],
      "source": [
        "dados.Renda.quantile([i/10 for i in range(1, 10)])"
      ]
    },
    {
      "cell_type": "code",
      "execution_count": null,
      "metadata": {
        "id": "LQW--GapjQNI",
        "scrolled": true,
        "colab": {
          "base_uri": "https://localhost:8080/"
        },
        "outputId": "89b4560e-b263-41be-977a-6eb5fb24911d"
      },
      "outputs": [
        {
          "output_type": "execute_result",
          "data": {
            "text/plain": [
              "0.01        0.0\n",
              "0.02        0.0\n",
              "0.03        0.0\n",
              "0.04       50.0\n",
              "0.05      100.0\n",
              "         ...   \n",
              "0.95     6000.0\n",
              "0.96     7000.0\n",
              "0.97     8000.0\n",
              "0.98    10000.0\n",
              "0.99    15000.0\n",
              "Name: Renda, Length: 99, dtype: float64"
            ]
          },
          "metadata": {},
          "execution_count": 96
        }
      ],
      "source": [
        "dados.Renda.quantile([i/100 for i in range(1, 100)])"
      ]
    },
    {
      "cell_type": "code",
      "execution_count": null,
      "metadata": {
        "id": "pO2HCo1WUE5F",
        "colab": {
          "base_uri": "https://localhost:8080/",
          "height": 485
        },
        "outputId": "f6eeb5ff-fec1-4bd2-b216-c9acb9b4b971"
      },
      "outputs": [
        {
          "output_type": "stream",
          "name": "stderr",
          "text": [
            "/usr/local/lib/python3.7/dist-packages/seaborn/distributions.py:2619: FutureWarning: `distplot` is a deprecated function and will be removed in a future version. Please adapt your code to use either `displot` (a figure-level function with similar flexibility) or `histplot` (an axes-level function for histograms).\n",
            "  warnings.warn(msg, FutureWarning)\n"
          ]
        },
        {
          "output_type": "execute_result",
          "data": {
            "text/plain": [
              "<matplotlib.axes._subplots.AxesSubplot at 0x7f066cfd93d0>"
            ]
          },
          "metadata": {},
          "execution_count": 97
        },
        {
          "output_type": "display_data",
          "data": {
            "text/plain": [
              "<Figure size 864x432 with 1 Axes>"
            ],
            "image/png": "[encoded data removed]"
          },
          "metadata": {
            "needs_background": "light"
          }
        }
      ],
      "source": [
        "ax = sns.distplot(dados.Idade, \n",
        "                  hist_kws = {'cumulative': True},\n",
        "                  kde_kws = {'cumulative': True},\n",
        "                  bins = 10)\n",
        "ax.figure.set_size_inches(12, 6)\n",
        "ax.set_title('Distribuição de Frequências Acumulada', fontsize=18)\n",
        "ax.set_ylabel('Acumulado', fontsize=14)\n",
        "ax.set_xlabel('Anos', fontsize=14)\n",
        "ax"
      ]
    },
    {
      "cell_type": "code",
      "execution_count": null,
      "metadata": {
        "id": "GGHVrQA7jQNI",
        "colab": {
          "base_uri": "https://localhost:8080/"
        },
        "outputId": "e4a02585-7df9-49f0-c6d4-e59efd512dd5"
      },
      "outputs": [
        {
          "output_type": "execute_result",
          "data": {
            "text/plain": [
              "0.1    28.0\n",
              "0.2    33.0\n",
              "0.3    36.0\n",
              "0.4    40.0\n",
              "0.5    43.0\n",
              "0.6    47.0\n",
              "0.7    51.0\n",
              "0.8    55.0\n",
              "0.9    61.0\n",
              "Name: Idade, dtype: float64"
            ]
          },
          "metadata": {},
          "execution_count": 98
        }
      ],
      "source": [
        "dados.Idade.quantile([i/10 for i in range(1, 10)])"
      ]
    },
    {
      "cell_type": "markdown",
      "metadata": {
        "id": "6gIeZO_CjQNJ"
      },
      "source": [
        "## <font color=green>4.2 Box-plot</font>\n",
        "***\n",
        "\n",
        "O box plot dá uma idéia da posição, dispersão, assimetria, caudas e dados discrepantes (outliers). A posição central é dada pela mediana e a dispersão por $IIQ$. As posições relativas de $Q1$, $Mediana$ e $Q3$ dão uma noção da simetria da distribuição. Os comprimentos das cauda são dados pelas linhas que vão do retângulo aos valores remotos e pelos valores atípicos."
      ]
    },
    {
      "cell_type": "markdown",
      "metadata": {
        "id": "VeiTE_gvjQNK"
      },
      "source": [
        "<img src='https://caelum-online-public.s3.amazonaws.com/1177-estatistica-parte1/01/img005.png' width='65%'>"
      ]
    },
    {
      "cell_type": "code",
      "execution_count": null,
      "metadata": {
        "id": "pBY2EWkzjQNK",
        "colab": {
          "base_uri": "https://localhost:8080/",
          "height": 320
        },
        "outputId": "5dd29d19-5f6e-4bda-eecd-b497fce0c447"
      },
      "outputs": [
        {
          "output_type": "execute_result",
          "data": {
            "text/plain": [
              "<matplotlib.axes._subplots.AxesSubplot at 0x7f066cd81650>"
            ]
          },
          "metadata": {},
          "execution_count": 99
        },
        {
          "output_type": "display_data",
          "data": {
            "text/plain": [
              "<Figure size 864x288 with 1 Axes>"
            ],
            "image/png": "[encoded data removed]"
          },
          "metadata": {
            "needs_background": "light"
          }
        }
      ],
      "source": [
        "ax = sns.boxplot( x = 'Altura', data = dados, orient = 'h')\n",
        "ax.figure.set_size_inches(12, 4)\n",
        "ax.set_title('Altura', fontsize=18)\n",
        "ax.set_xlabel('Metros', fontsize=14)\n",
        "ax"
      ]
    },
    {
      "cell_type": "code",
      "execution_count": null,
      "metadata": {
        "id": "AEhX7-ggsuiY",
        "colab": {
          "base_uri": "https://localhost:8080/",
          "height": 320
        },
        "outputId": "691c2130-ac10-4d5f-b553-adf4f15b4f2e"
      },
      "outputs": [
        {
          "output_type": "execute_result",
          "data": {
            "text/plain": [
              "<matplotlib.axes._subplots.AxesSubplot at 0x7f066cd16f90>"
            ]
          },
          "metadata": {},
          "execution_count": 100
        },
        {
          "output_type": "display_data",
          "data": {
            "text/plain": [
              "<Figure size 864x288 with 1 Axes>"
            ],
            "image/png": "[encoded data removed]"
          },
          "metadata": {
            "needs_background": "light"
          }
        }
      ],
      "source": [
        "ax = sns.boxplot( x = 'Altura', y = 'Sexo', data = dados, orient = 'h')\n",
        "ax.figure.set_size_inches(12, 4)\n",
        "ax.set_title('Altura', fontsize=18)\n",
        "ax.set_xlabel('Metros', fontsize=14)\n",
        "ax"
      ]
    },
    {
      "cell_type": "code",
      "execution_count": null,
      "metadata": {
        "id": "2ZPrRov1suSF",
        "colab": {
          "base_uri": "https://localhost:8080/",
          "height": 320
        },
        "outputId": "99401938-e75d-4947-c606-cd097ff57aa8"
      },
      "outputs": [
        {
          "output_type": "execute_result",
          "data": {
            "text/plain": [
              "<matplotlib.axes._subplots.AxesSubplot at 0x7f066cca86d0>"
            ]
          },
          "metadata": {},
          "execution_count": 101
        },
        {
          "output_type": "display_data",
          "data": {
            "text/plain": [
              "<Figure size 864x288 with 1 Axes>"
            ],
            "image/png": "[encoded data removed]"
          },
          "metadata": {
            "needs_background": "light"
          }
        }
      ],
      "source": [
        "ax = sns.boxplot( x = 'Renda', data = dados.query('Renda < 10000'), orient = 'h')\n",
        "ax.figure.set_size_inches(12, 4)\n",
        "ax.set_title('Altura', fontsize=18)\n",
        "ax.set_xlabel('Metros', fontsize=14)\n",
        "ax"
      ]
    },
    {
      "cell_type": "code",
      "execution_count": null,
      "metadata": {
        "id": "CSwlKUrrsuFi",
        "colab": {
          "base_uri": "https://localhost:8080/",
          "height": 320
        },
        "outputId": "66d3848c-e6a3-4f1d-fff3-5625e6821933"
      },
      "outputs": [
        {
          "output_type": "execute_result",
          "data": {
            "text/plain": [
              "<matplotlib.axes._subplots.AxesSubplot at 0x7f066cc202d0>"
            ]
          },
          "metadata": {},
          "execution_count": 102
        },
        {
          "output_type": "display_data",
          "data": {
            "text/plain": [
              "<Figure size 864x288 with 1 Axes>"
            ],
            "image/png": "[encoded data removed]"
          },
          "metadata": {
            "needs_background": "light"
          }
        }
      ],
      "source": [
        "ax = sns.boxplot( x = 'Renda', y = 'Sexo', data = dados.query('Renda < 10000'), orient = 'h')\n",
        "ax.figure.set_size_inches(12, 4)\n",
        "ax.set_title('Altura', fontsize=18)\n",
        "ax.set_xlabel('Metros', fontsize=14)\n",
        "ax"
      ]
    },
    {
      "cell_type": "code",
      "execution_count": null,
      "metadata": {
        "id": "IDrzBcJ_jQNL",
        "colab": {
          "base_uri": "https://localhost:8080/",
          "height": 320
        },
        "outputId": "5d01d8ab-9e23-4782-b7d8-6d302f3bb4bf"
      },
      "outputs": [
        {
          "output_type": "execute_result",
          "data": {
            "text/plain": [
              "<matplotlib.axes._subplots.AxesSubplot at 0x7f066cc11c50>"
            ]
          },
          "metadata": {},
          "execution_count": 103
        },
        {
          "output_type": "display_data",
          "data": {
            "text/plain": [
              "<Figure size 864x288 with 1 Axes>"
            ],
            "image/png": "[encoded data removed]"
          },
          "metadata": {
            "needs_background": "light"
          }
        }
      ],
      "source": [
        "ax = sns.boxplot( x = 'Anos de Estudo', y = 'Sexo', data = dados, orient = 'h')\n",
        "ax.figure.set_size_inches(12, 4)\n",
        "ax.set_title('Anos de Estudo', fontsize=18)\n",
        "ax.set_xlabel('Anos', fontsize=14)\n",
        "ax"
      ]
    },
    {
      "cell_type": "markdown",
      "metadata": {
        "id": "amloMZwVjQNN"
      },
      "source": [
        "<img src='https://caelum-online-public.s3.amazonaws.com/1177-estatistica-parte1/01/img006.png' width='80%'>"
      ]
    },
    {
      "cell_type": "markdown",
      "metadata": {
        "id": "aJ6v_NI9jQNN"
      },
      "source": [
        "# <font color=green>5 MEDIDAS DE DISPERSÃO</font>\n",
        "***\n",
        "\n",
        "Embora as medidas de posição forneçam uma sumarização bastante importante dos dados, elas podem não ser suficientes para caracterizar conjuntos distintos, especialmente quando as observações de determinada distribuição apresentarem dados muito dispersos."
      ]
    },
    {
      "cell_type": "markdown",
      "metadata": {
        "id": "D6xVxAQ7jQNO"
      },
      "source": [
        "## <font color=green>5.1 Desvio médio absoluto</font>\n",
        "***\n",
        "\n",
        "\n",
        "# $$DM = \\frac 1n\\sum_{i=1}^{n}|X_i-\\bar{X}|$$\n"
      ]
    },
    {
      "cell_type": "code",
      "source": [
        "df"
      ],
      "metadata": {
        "colab": {
          "base_uri": "https://localhost:8080/",
          "height": 269
        },
        "id": "y4xSoUmJr-8K",
        "outputId": "08fdef3b-736f-4b88-b549-98f2e93ca7fb"
      },
      "execution_count": null,
      "outputs": [
        {
          "output_type": "execute_result",
          "data": {
            "text/plain": [
              "Matérias    Fulano  Beltrano  Sicrano\n",
              "Matemática       8      10.0      7.5\n",
              "Português       10       2.0      8.0\n",
              "Inglês           4       0.5      7.0\n",
              "Geografia        8       1.0      8.0\n",
              "História         6       3.0      8.0\n",
              "Física          10       9.5      8.5\n",
              "Química          8      10.0      7.0"
            ],
            "text/html": [
              "\n",
              "  <div id=\"df-cd5a259e-c5ab-4d90-b3bc-5898059d4a85\">\n",
              "    <div class=\"colab-df-container\">\n",
              "      <div>\n",
              "<style scoped>\n",
              "    .dataframe tbody tr th:only-of-type {\n",
              "        vertical-align: middle;\n",
              "    }\n",
              "\n",
              "    .dataframe tbody tr th {\n",
              "        vertical-align: top;\n",
              "    }\n",
              "\n",
              "    .dataframe thead th {\n",
              "        text-align: right;\n",
              "    }\n",
              "</style>\n",
              "<table border=\"1\" class=\"dataframe\">\n",
              "  <thead>\n",
              "    <tr style=\"text-align: right;\">\n",
              "      <th>Matérias</th>\n",
              "      <th>Fulano</th>\n",
              "      <th>Beltrano</th>\n",
              "      <th>Sicrano</th>\n",
              "    </tr>\n",
              "  </thead>\n",
              "  <tbody>\n",
              "    <tr>\n",
              "      <th>Matemática</th>\n",
              "      <td>8</td>\n",
              "      <td>10.0</td>\n",
              "      <td>7.5</td>\n",
              "    </tr>\n",
              "    <tr>\n",
              "      <th>Português</th>\n",
              "      <td>10</td>\n",
              "      <td>2.0</td>\n",
              "      <td>8.0</td>\n",
              "    </tr>\n",
              "    <tr>\n",
              "      <th>Inglês</th>\n",
              "      <td>4</td>\n",
              "      <td>0.5</td>\n",
              "      <td>7.0</td>\n",
              "    </tr>\n",
              "    <tr>\n",
              "      <th>Geografia</th>\n",
              "      <td>8</td>\n",
              "      <td>1.0</td>\n",
              "      <td>8.0</td>\n",
              "    </tr>\n",
              "    <tr>\n",
              "      <th>História</th>\n",
              "      <td>6</td>\n",
              "      <td>3.0</td>\n",
              "      <td>8.0</td>\n",
              "    </tr>\n",
              "    <tr>\n",
              "      <th>Física</th>\n",
              "      <td>10</td>\n",
              "      <td>9.5</td>\n",
              "      <td>8.5</td>\n",
              "    </tr>\n",
              "    <tr>\n",
              "      <th>Química</th>\n",
              "      <td>8</td>\n",
              "      <td>10.0</td>\n",
              "      <td>7.0</td>\n",
              "    </tr>\n",
              "  </tbody>\n",
              "</table>\n",
              "</div>\n",
              "      <button class=\"colab-df-convert\" onclick=\"convertToInteractive('df-cd5a259e-c5ab-4d90-b3bc-5898059d4a85')\"\n",
              "              title=\"Convert this dataframe to an interactive table.\"\n",
              "              style=\"display:none;\">\n",
              "        \n",
              "  <svg xmlns=\"http://www.w3.org/2000/svg\" height=\"24px\"viewBox=\"0 0 24 24\"\n",
              "       width=\"24px\">\n",
              "    <path d=\"M0 0h24v24H0V0z\" fill=\"none\"/>\n",
              "    <path d=\"M18.56 5.44l.94 2.06.94-2.06 2.06-.94-2.06-.94-.94-2.06-.94 2.06-2.06.94zm-11 1L8.5 8.5l.94-2.06 2.06-.94-2.06-.94L8.5 2.5l-.94 2.06-2.06.94zm10 10l.94 2.06.94-2.06 2.06-.94-2.06-.94-.94-2.06-.94 2.06-2.06.94z\"/><path d=\"M17.41 7.96l-1.37-1.37c-.4-.4-.92-.59-1.43-.59-.52 0-1.04.2-1.43.59L10.3 9.45l-7.72 7.72c-.78.78-.78 2.05 0 2.83L4 21.41c.39.39.9.59 1.41.59.51 0 1.02-.2 1.41-.59l7.78-7.78 2.81-2.81c.8-.78.8-2.07 0-2.86zM5.41 20L4 18.59l7.72-7.72 1.47 1.35L5.41 20z\"/>\n",
              "  </svg>\n",
              "      </button>\n",
              "      \n",
              "  <style>\n",
              "    .colab-df-container {\n",
              "      display:flex;\n",
              "      flex-wrap:wrap;\n",
              "      gap: 12px;\n",
              "    }\n",
              "\n",
              "    .colab-df-convert {\n",
              "      background-color: #E8F0FE;\n",
              "      border: none;\n",
              "      border-radius: 50%;\n",
              "      cursor: pointer;\n",
              "      display: none;\n",
              "      fill: #1967D2;\n",
              "      height: 32px;\n",
              "      padding: 0 0 0 0;\n",
              "      width: 32px;\n",
              "    }\n",
              "\n",
              "    .colab-df-convert:hover {\n",
              "      background-color: #E2EBFA;\n",
              "      box-shadow: 0px 1px 2px rgba(60, 64, 67, 0.3), 0px 1px 3px 1px rgba(60, 64, 67, 0.15);\n",
              "      fill: #174EA6;\n",
              "    }\n",
              "\n",
              "    [theme=dark] .colab-df-convert {\n",
              "      background-color: #3B4455;\n",
              "      fill: #D2E3FC;\n",
              "    }\n",
              "\n",
              "    [theme=dark] .colab-df-convert:hover {\n",
              "      background-color: #434B5C;\n",
              "      box-shadow: 0px 1px 3px 1px rgba(0, 0, 0, 0.15);\n",
              "      filter: drop-shadow(0px 1px 2px rgba(0, 0, 0, 0.3));\n",
              "      fill: #FFFFFF;\n",
              "    }\n",
              "  </style>\n",
              "\n",
              "      <script>\n",
              "        const buttonEl =\n",
              "          document.querySelector('#df-cd5a259e-c5ab-4d90-b3bc-5898059d4a85 button.colab-df-convert');\n",
              "        buttonEl.style.display =\n",
              "          google.colab.kernel.accessAllowed ? 'block' : 'none';\n",
              "\n",
              "        async function convertToInteractive(key) {\n",
              "          const element = document.querySelector('#df-cd5a259e-c5ab-4d90-b3bc-5898059d4a85');\n",
              "          const dataTable =\n",
              "            await google.colab.kernel.invokeFunction('convertToInteractive',\n",
              "                                                     [key], {});\n",
              "          if (!dataTable) return;\n",
              "\n",
              "          const docLinkHtml = 'Like what you see? Visit the ' +\n",
              "            '<a target=\"_blank\" href=https://colab.research.google.com/notebooks/data_table.ipynb>data table notebook</a>'\n",
              "            + ' to learn more about interactive tables.';\n",
              "          element.innerHTML = '';\n",
              "          dataTable['output_type'] = 'display_data';\n",
              "          await google.colab.output.renderOutput(dataTable, element);\n",
              "          const docLink = document.createElement('div');\n",
              "          docLink.innerHTML = docLinkHtml;\n",
              "          element.appendChild(docLink);\n",
              "        }\n",
              "      </script>\n",
              "    </div>\n",
              "  </div>\n",
              "  "
            ]
          },
          "metadata": {},
          "execution_count": 104
        }
      ]
    },
    {
      "cell_type": "code",
      "execution_count": null,
      "metadata": {
        "id": "0sL31blV7nz3",
        "colab": {
          "base_uri": "https://localhost:8080/",
          "height": 269
        },
        "outputId": "da26a9ee-5f09-4713-a653-148ac259b6a4"
      },
      "outputs": [
        {
          "output_type": "execute_result",
          "data": {
            "text/plain": [
              "Matérias    Fulano\n",
              "Matemática       8\n",
              "Português       10\n",
              "Inglês           4\n",
              "Geografia        8\n",
              "História         6\n",
              "Física          10\n",
              "Química          8"
            ],
            "text/html": [
              "\n",
              "  <div id=\"df-6af203ee-87a5-4b86-9763-79e08f5f5726\">\n",
              "    <div class=\"colab-df-container\">\n",
              "      <div>\n",
              "<style scoped>\n",
              "    .dataframe tbody tr th:only-of-type {\n",
              "        vertical-align: middle;\n",
              "    }\n",
              "\n",
              "    .dataframe tbody tr th {\n",
              "        vertical-align: top;\n",
              "    }\n",
              "\n",
              "    .dataframe thead th {\n",
              "        text-align: right;\n",
              "    }\n",
              "</style>\n",
              "<table border=\"1\" class=\"dataframe\">\n",
              "  <thead>\n",
              "    <tr style=\"text-align: right;\">\n",
              "      <th>Matérias</th>\n",
              "      <th>Fulano</th>\n",
              "    </tr>\n",
              "  </thead>\n",
              "  <tbody>\n",
              "    <tr>\n",
              "      <th>Matemática</th>\n",
              "      <td>8</td>\n",
              "    </tr>\n",
              "    <tr>\n",
              "      <th>Português</th>\n",
              "      <td>10</td>\n",
              "    </tr>\n",
              "    <tr>\n",
              "      <th>Inglês</th>\n",
              "      <td>4</td>\n",
              "    </tr>\n",
              "    <tr>\n",
              "      <th>Geografia</th>\n",
              "      <td>8</td>\n",
              "    </tr>\n",
              "    <tr>\n",
              "      <th>História</th>\n",
              "      <td>6</td>\n",
              "    </tr>\n",
              "    <tr>\n",
              "      <th>Física</th>\n",
              "      <td>10</td>\n",
              "    </tr>\n",
              "    <tr>\n",
              "      <th>Química</th>\n",
              "      <td>8</td>\n",
              "    </tr>\n",
              "  </tbody>\n",
              "</table>\n",
              "</div>\n",
              "      <button class=\"colab-df-convert\" onclick=\"convertToInteractive('df-6af203ee-87a5-4b86-9763-79e08f5f5726')\"\n",
              "              title=\"Convert this dataframe to an interactive table.\"\n",
              "              style=\"display:none;\">\n",
              "        \n",
              "  <svg xmlns=\"http://www.w3.org/2000/svg\" height=\"24px\"viewBox=\"0 0 24 24\"\n",
              "       width=\"24px\">\n",
              "    <path d=\"M0 0h24v24H0V0z\" fill=\"none\"/>\n",
              "    <path d=\"M18.56 5.44l.94 2.06.94-2.06 2.06-.94-2.06-.94-.94-2.06-.94 2.06-2.06.94zm-11 1L8.5 8.5l.94-2.06 2.06-.94-2.06-.94L8.5 2.5l-.94 2.06-2.06.94zm10 10l.94 2.06.94-2.06 2.06-.94-2.06-.94-.94-2.06-.94 2.06-2.06.94z\"/><path d=\"M17.41 7.96l-1.37-1.37c-.4-.4-.92-.59-1.43-.59-.52 0-1.04.2-1.43.59L10.3 9.45l-7.72 7.72c-.78.78-.78 2.05 0 2.83L4 21.41c.39.39.9.59 1.41.59.51 0 1.02-.2 1.41-.59l7.78-7.78 2.81-2.81c.8-.78.8-2.07 0-2.86zM5.41 20L4 18.59l7.72-7.72 1.47 1.35L5.41 20z\"/>\n",
              "  </svg>\n",
              "      </button>\n",
              "      \n",
              "  <style>\n",
              "    .colab-df-container {\n",
              "      display:flex;\n",
              "      flex-wrap:wrap;\n",
              "      gap: 12px;\n",
              "    }\n",
              "\n",
              "    .colab-df-convert {\n",
              "      background-color: #E8F0FE;\n",
              "      border: none;\n",
              "      border-radius: 50%;\n",
              "      cursor: pointer;\n",
              "      display: none;\n",
              "      fill: #1967D2;\n",
              "      height: 32px;\n",
              "      padding: 0 0 0 0;\n",
              "      width: 32px;\n",
              "    }\n",
              "\n",
              "    .colab-df-convert:hover {\n",
              "      background-color: #E2EBFA;\n",
              "      box-shadow: 0px 1px 2px rgba(60, 64, 67, 0.3), 0px 1px 3px 1px rgba(60, 64, 67, 0.15);\n",
              "      fill: #174EA6;\n",
              "    }\n",
              "\n",
              "    [theme=dark] .colab-df-convert {\n",
              "      background-color: #3B4455;\n",
              "      fill: #D2E3FC;\n",
              "    }\n",
              "\n",
              "    [theme=dark] .colab-df-convert:hover {\n",
              "      background-color: #434B5C;\n",
              "      box-shadow: 0px 1px 3px 1px rgba(0, 0, 0, 0.15);\n",
              "      filter: drop-shadow(0px 1px 2px rgba(0, 0, 0, 0.3));\n",
              "      fill: #FFFFFF;\n",
              "    }\n",
              "  </style>\n",
              "\n",
              "      <script>\n",
              "        const buttonEl =\n",
              "          document.querySelector('#df-6af203ee-87a5-4b86-9763-79e08f5f5726 button.colab-df-convert');\n",
              "        buttonEl.style.display =\n",
              "          google.colab.kernel.accessAllowed ? 'block' : 'none';\n",
              "\n",
              "        async function convertToInteractive(key) {\n",
              "          const element = document.querySelector('#df-6af203ee-87a5-4b86-9763-79e08f5f5726');\n",
              "          const dataTable =\n",
              "            await google.colab.kernel.invokeFunction('convertToInteractive',\n",
              "                                                     [key], {});\n",
              "          if (!dataTable) return;\n",
              "\n",
              "          const docLinkHtml = 'Like what you see? Visit the ' +\n",
              "            '<a target=\"_blank\" href=https://colab.research.google.com/notebooks/data_table.ipynb>data table notebook</a>'\n",
              "            + ' to learn more about interactive tables.';\n",
              "          element.innerHTML = '';\n",
              "          dataTable['output_type'] = 'display_data';\n",
              "          await google.colab.output.renderOutput(dataTable, element);\n",
              "          const docLink = document.createElement('div');\n",
              "          docLink.innerHTML = docLinkHtml;\n",
              "          element.appendChild(docLink);\n",
              "        }\n",
              "      </script>\n",
              "    </div>\n",
              "  </div>\n",
              "  "
            ]
          },
          "metadata": {},
          "execution_count": 105
        }
      ],
      "source": [
        "notas_fulano = df[['Fulano']]\n",
        "notas_fulano"
      ]
    },
    {
      "cell_type": "code",
      "execution_count": null,
      "metadata": {
        "id": "f3pAri4G7nc4",
        "colab": {
          "base_uri": "https://localhost:8080/"
        },
        "outputId": "666bee22-3af0-4328-ffbd-327f29ebf0e0"
      },
      "outputs": [
        {
          "output_type": "execute_result",
          "data": {
            "text/plain": [
              "7.714285714285714"
            ]
          },
          "metadata": {},
          "execution_count": 106
        }
      ],
      "source": [
        "nota_media_fulano = notas_fulano.mean()[0]\n",
        "nota_media_fulano"
      ]
    },
    {
      "cell_type": "code",
      "execution_count": null,
      "metadata": {
        "id": "8_Q2tOTmjQNO",
        "colab": {
          "base_uri": "https://localhost:8080/",
          "height": 373
        },
        "outputId": "734d884b-d71c-4161-ab39-ce2d4720640a"
      },
      "outputs": [
        {
          "output_type": "stream",
          "name": "stderr",
          "text": [
            "/usr/local/lib/python3.7/dist-packages/ipykernel_launcher.py:1: SettingWithCopyWarning: \n",
            "A value is trying to be set on a copy of a slice from a DataFrame.\n",
            "Try using .loc[row_indexer,col_indexer] = value instead\n",
            "\n",
            "See the caveats in the documentation: https://pandas.pydata.org/pandas-docs/stable/user_guide/indexing.html#returning-a-view-versus-a-copy\n",
            "  \"\"\"Entry point for launching an IPython kernel.\n"
          ]
        },
        {
          "output_type": "execute_result",
          "data": {
            "text/plain": [
              "Matérias    Fulano    Desvio\n",
              "Matemática       8  0.285714\n",
              "Português       10  2.285714\n",
              "Inglês           4 -3.714286\n",
              "Geografia        8  0.285714\n",
              "História         6 -1.714286\n",
              "Física          10  2.285714\n",
              "Química          8  0.285714"
            ],
            "text/html": [
              "\n",
              "  <div id=\"df-5a104587-c5b7-49bc-89d1-8e9dc55d27c0\">\n",
              "    <div class=\"colab-df-container\">\n",
              "      <div>\n",
              "<style scoped>\n",
              "    .dataframe tbody tr th:only-of-type {\n",
              "        vertical-align: middle;\n",
              "    }\n",
              "\n",
              "    .dataframe tbody tr th {\n",
              "        vertical-align: top;\n",
              "    }\n",
              "\n",
              "    .dataframe thead th {\n",
              "        text-align: right;\n",
              "    }\n",
              "</style>\n",
              "<table border=\"1\" class=\"dataframe\">\n",
              "  <thead>\n",
              "    <tr style=\"text-align: right;\">\n",
              "      <th>Matérias</th>\n",
              "      <th>Fulano</th>\n",
              "      <th>Desvio</th>\n",
              "    </tr>\n",
              "  </thead>\n",
              "  <tbody>\n",
              "    <tr>\n",
              "      <th>Matemática</th>\n",
              "      <td>8</td>\n",
              "      <td>0.285714</td>\n",
              "    </tr>\n",
              "    <tr>\n",
              "      <th>Português</th>\n",
              "      <td>10</td>\n",
              "      <td>2.285714</td>\n",
              "    </tr>\n",
              "    <tr>\n",
              "      <th>Inglês</th>\n",
              "      <td>4</td>\n",
              "      <td>-3.714286</td>\n",
              "    </tr>\n",
              "    <tr>\n",
              "      <th>Geografia</th>\n",
              "      <td>8</td>\n",
              "      <td>0.285714</td>\n",
              "    </tr>\n",
              "    <tr>\n",
              "      <th>História</th>\n",
              "      <td>6</td>\n",
              "      <td>-1.714286</td>\n",
              "    </tr>\n",
              "    <tr>\n",
              "      <th>Física</th>\n",
              "      <td>10</td>\n",
              "      <td>2.285714</td>\n",
              "    </tr>\n",
              "    <tr>\n",
              "      <th>Química</th>\n",
              "      <td>8</td>\n",
              "      <td>0.285714</td>\n",
              "    </tr>\n",
              "  </tbody>\n",
              "</table>\n",
              "</div>\n",
              "      <button class=\"colab-df-convert\" onclick=\"convertToInteractive('df-5a104587-c5b7-49bc-89d1-8e9dc55d27c0')\"\n",
              "              title=\"Convert this dataframe to an interactive table.\"\n",
              "              style=\"display:none;\">\n",
              "        \n",
              "  <svg xmlns=\"http://www.w3.org/2000/svg\" height=\"24px\"viewBox=\"0 0 24 24\"\n",
              "       width=\"24px\">\n",
              "    <path d=\"M0 0h24v24H0V0z\" fill=\"none\"/>\n",
              "    <path d=\"M18.56 5.44l.94 2.06.94-2.06 2.06-.94-2.06-.94-.94-2.06-.94 2.06-2.06.94zm-11 1L8.5 8.5l.94-2.06 2.06-.94-2.06-.94L8.5 2.5l-.94 2.06-2.06.94zm10 10l.94 2.06.94-2.06 2.06-.94-2.06-.94-.94-2.06-.94 2.06-2.06.94z\"/><path d=\"M17.41 7.96l-1.37-1.37c-.4-.4-.92-.59-1.43-.59-.52 0-1.04.2-1.43.59L10.3 9.45l-7.72 7.72c-.78.78-.78 2.05 0 2.83L4 21.41c.39.39.9.59 1.41.59.51 0 1.02-.2 1.41-.59l7.78-7.78 2.81-2.81c.8-.78.8-2.07 0-2.86zM5.41 20L4 18.59l7.72-7.72 1.47 1.35L5.41 20z\"/>\n",
              "  </svg>\n",
              "      </button>\n",
              "      \n",
              "  <style>\n",
              "    .colab-df-container {\n",
              "      display:flex;\n",
              "      flex-wrap:wrap;\n",
              "      gap: 12px;\n",
              "    }\n",
              "\n",
              "    .colab-df-convert {\n",
              "      background-color: #E8F0FE;\n",
              "      border: none;\n",
              "      border-radius: 50%;\n",
              "      cursor: pointer;\n",
              "      display: none;\n",
              "      fill: #1967D2;\n",
              "      height: 32px;\n",
              "      padding: 0 0 0 0;\n",
              "      width: 32px;\n",
              "    }\n",
              "\n",
              "    .colab-df-convert:hover {\n",
              "      background-color: #E2EBFA;\n",
              "      box-shadow: 0px 1px 2px rgba(60, 64, 67, 0.3), 0px 1px 3px 1px rgba(60, 64, 67, 0.15);\n",
              "      fill: #174EA6;\n",
              "    }\n",
              "\n",
              "    [theme=dark] .colab-df-convert {\n",
              "      background-color: #3B4455;\n",
              "      fill: #D2E3FC;\n",
              "    }\n",
              "\n",
              "    [theme=dark] .colab-df-convert:hover {\n",
              "      background-color: #434B5C;\n",
              "      box-shadow: 0px 1px 3px 1px rgba(0, 0, 0, 0.15);\n",
              "      filter: drop-shadow(0px 1px 2px rgba(0, 0, 0, 0.3));\n",
              "      fill: #FFFFFF;\n",
              "    }\n",
              "  </style>\n",
              "\n",
              "      <script>\n",
              "        const buttonEl =\n",
              "          document.querySelector('#df-5a104587-c5b7-49bc-89d1-8e9dc55d27c0 button.colab-df-convert');\n",
              "        buttonEl.style.display =\n",
              "          google.colab.kernel.accessAllowed ? 'block' : 'none';\n",
              "\n",
              "        async function convertToInteractive(key) {\n",
              "          const element = document.querySelector('#df-5a104587-c5b7-49bc-89d1-8e9dc55d27c0');\n",
              "          const dataTable =\n",
              "            await google.colab.kernel.invokeFunction('convertToInteractive',\n",
              "                                                     [key], {});\n",
              "          if (!dataTable) return;\n",
              "\n",
              "          const docLinkHtml = 'Like what you see? Visit the ' +\n",
              "            '<a target=\"_blank\" href=https://colab.research.google.com/notebooks/data_table.ipynb>data table notebook</a>'\n",
              "            + ' to learn more about interactive tables.';\n",
              "          element.innerHTML = '';\n",
              "          dataTable['output_type'] = 'display_data';\n",
              "          await google.colab.output.renderOutput(dataTable, element);\n",
              "          const docLink = document.createElement('div');\n",
              "          docLink.innerHTML = docLinkHtml;\n",
              "          element.appendChild(docLink);\n",
              "        }\n",
              "      </script>\n",
              "    </div>\n",
              "  </div>\n",
              "  "
            ]
          },
          "metadata": {},
          "execution_count": 107
        }
      ],
      "source": [
        "notas_fulano['Desvio'] = notas_fulano['Fulano'] - nota_media_fulano\n",
        "notas_fulano"
      ]
    },
    {
      "cell_type": "code",
      "execution_count": null,
      "metadata": {
        "id": "RWo0AhBEjQNP",
        "colab": {
          "base_uri": "https://localhost:8080/"
        },
        "outputId": "89a8596e-3e47-4868-aed4-dce4ddca552a"
      },
      "outputs": [
        {
          "output_type": "execute_result",
          "data": {
            "text/plain": [
              "-8.881784197001252e-16"
            ]
          },
          "metadata": {},
          "execution_count": 108
        }
      ],
      "source": [
        "notas_fulano['Desvio'].sum()"
      ]
    },
    {
      "cell_type": "code",
      "execution_count": null,
      "metadata": {
        "id": "OiWDTw0ljQNQ",
        "colab": {
          "base_uri": "https://localhost:8080/",
          "height": 269
        },
        "outputId": "e3c60f25-f913-472e-f25c-eb2921760ba6"
      },
      "outputs": [
        {
          "output_type": "execute_result",
          "data": {
            "text/plain": [
              "Matérias    Fulano    Desvio  |Desvio|\n",
              "Matemática       8  0.285714  0.285714\n",
              "Português       10  2.285714  2.285714\n",
              "Inglês           4 -3.714286  3.714286\n",
              "Geografia        8  0.285714  0.285714\n",
              "História         6 -1.714286  1.714286\n",
              "Física          10  2.285714  2.285714\n",
              "Química          8  0.285714  0.285714"
            ],
            "text/html": [
              "\n",
              "  <div id=\"df-9c20b160-785e-42b2-b4fc-e79d08a0e665\">\n",
              "    <div class=\"colab-df-container\">\n",
              "      <div>\n",
              "<style scoped>\n",
              "    .dataframe tbody tr th:only-of-type {\n",
              "        vertical-align: middle;\n",
              "    }\n",
              "\n",
              "    .dataframe tbody tr th {\n",
              "        vertical-align: top;\n",
              "    }\n",
              "\n",
              "    .dataframe thead th {\n",
              "        text-align: right;\n",
              "    }\n",
              "</style>\n",
              "<table border=\"1\" class=\"dataframe\">\n",
              "  <thead>\n",
              "    <tr style=\"text-align: right;\">\n",
              "      <th>Matérias</th>\n",
              "      <th>Fulano</th>\n",
              "      <th>Desvio</th>\n",
              "      <th>|Desvio|</th>\n",
              "    </tr>\n",
              "  </thead>\n",
              "  <tbody>\n",
              "    <tr>\n",
              "      <th>Matemática</th>\n",
              "      <td>8</td>\n",
              "      <td>0.285714</td>\n",
              "      <td>0.285714</td>\n",
              "    </tr>\n",
              "    <tr>\n",
              "      <th>Português</th>\n",
              "      <td>10</td>\n",
              "      <td>2.285714</td>\n",
              "      <td>2.285714</td>\n",
              "    </tr>\n",
              "    <tr>\n",
              "      <th>Inglês</th>\n",
              "      <td>4</td>\n",
              "      <td>-3.714286</td>\n",
              "      <td>3.714286</td>\n",
              "    </tr>\n",
              "    <tr>\n",
              "      <th>Geografia</th>\n",
              "      <td>8</td>\n",
              "      <td>0.285714</td>\n",
              "      <td>0.285714</td>\n",
              "    </tr>\n",
              "    <tr>\n",
              "      <th>História</th>\n",
              "      <td>6</td>\n",
              "      <td>-1.714286</td>\n",
              "      <td>1.714286</td>\n",
              "    </tr>\n",
              "    <tr>\n",
              "      <th>Física</th>\n",
              "      <td>10</td>\n",
              "      <td>2.285714</td>\n",
              "      <td>2.285714</td>\n",
              "    </tr>\n",
              "    <tr>\n",
              "      <th>Química</th>\n",
              "      <td>8</td>\n",
              "      <td>0.285714</td>\n",
              "      <td>0.285714</td>\n",
              "    </tr>\n",
              "  </tbody>\n",
              "</table>\n",
              "</div>\n",
              "      <button class=\"colab-df-convert\" onclick=\"convertToInteractive('df-9c20b160-785e-42b2-b4fc-e79d08a0e665')\"\n",
              "              title=\"Convert this dataframe to an interactive table.\"\n",
              "              style=\"display:none;\">\n",
              "        \n",
              "  <svg xmlns=\"http://www.w3.org/2000/svg\" height=\"24px\"viewBox=\"0 0 24 24\"\n",
              "       width=\"24px\">\n",
              "    <path d=\"M0 0h24v24H0V0z\" fill=\"none\"/>\n",
              "    <path d=\"M18.56 5.44l.94 2.06.94-2.06 2.06-.94-2.06-.94-.94-2.06-.94 2.06-2.06.94zm-11 1L8.5 8.5l.94-2.06 2.06-.94-2.06-.94L8.5 2.5l-.94 2.06-2.06.94zm10 10l.94 2.06.94-2.06 2.06-.94-2.06-.94-.94-2.06-.94 2.06-2.06.94z\"/><path d=\"M17.41 7.96l-1.37-1.37c-.4-.4-.92-.59-1.43-.59-.52 0-1.04.2-1.43.59L10.3 9.45l-7.72 7.72c-.78.78-.78 2.05 0 2.83L4 21.41c.39.39.9.59 1.41.59.51 0 1.02-.2 1.41-.59l7.78-7.78 2.81-2.81c.8-.78.8-2.07 0-2.86zM5.41 20L4 18.59l7.72-7.72 1.47 1.35L5.41 20z\"/>\n",
              "  </svg>\n",
              "      </button>\n",
              "      \n",
              "  <style>\n",
              "    .colab-df-container {\n",
              "      display:flex;\n",
              "      flex-wrap:wrap;\n",
              "      gap: 12px;\n",
              "    }\n",
              "\n",
              "    .colab-df-convert {\n",
              "      background-color: #E8F0FE;\n",
              "      border: none;\n",
              "      border-radius: 50%;\n",
              "      cursor: pointer;\n",
              "      display: none;\n",
              "      fill: #1967D2;\n",
              "      height: 32px;\n",
              "      padding: 0 0 0 0;\n",
              "      width: 32px;\n",
              "    }\n",
              "\n",
              "    .colab-df-convert:hover {\n",
              "      background-color: #E2EBFA;\n",
              "      box-shadow: 0px 1px 2px rgba(60, 64, 67, 0.3), 0px 1px 3px 1px rgba(60, 64, 67, 0.15);\n",
              "      fill: #174EA6;\n",
              "    }\n",
              "\n",
              "    [theme=dark] .colab-df-convert {\n",
              "      background-color: #3B4455;\n",
              "      fill: #D2E3FC;\n",
              "    }\n",
              "\n",
              "    [theme=dark] .colab-df-convert:hover {\n",
              "      background-color: #434B5C;\n",
              "      box-shadow: 0px 1px 3px 1px rgba(0, 0, 0, 0.15);\n",
              "      filter: drop-shadow(0px 1px 2px rgba(0, 0, 0, 0.3));\n",
              "      fill: #FFFFFF;\n",
              "    }\n",
              "  </style>\n",
              "\n",
              "      <script>\n",
              "        const buttonEl =\n",
              "          document.querySelector('#df-9c20b160-785e-42b2-b4fc-e79d08a0e665 button.colab-df-convert');\n",
              "        buttonEl.style.display =\n",
              "          google.colab.kernel.accessAllowed ? 'block' : 'none';\n",
              "\n",
              "        async function convertToInteractive(key) {\n",
              "          const element = document.querySelector('#df-9c20b160-785e-42b2-b4fc-e79d08a0e665');\n",
              "          const dataTable =\n",
              "            await google.colab.kernel.invokeFunction('convertToInteractive',\n",
              "                                                     [key], {});\n",
              "          if (!dataTable) return;\n",
              "\n",
              "          const docLinkHtml = 'Like what you see? Visit the ' +\n",
              "            '<a target=\"_blank\" href=https://colab.research.google.com/notebooks/data_table.ipynb>data table notebook</a>'\n",
              "            + ' to learn more about interactive tables.';\n",
              "          element.innerHTML = '';\n",
              "          dataTable['output_type'] = 'display_data';\n",
              "          await google.colab.output.renderOutput(dataTable, element);\n",
              "          const docLink = document.createElement('div');\n",
              "          docLink.innerHTML = docLinkHtml;\n",
              "          element.appendChild(docLink);\n",
              "        }\n",
              "      </script>\n",
              "    </div>\n",
              "  </div>\n",
              "  "
            ]
          },
          "metadata": {},
          "execution_count": 109
        }
      ],
      "source": [
        "notas_fulano['|Desvio|'] = notas_fulano['Desvio'].abs()\n",
        "notas_fulano"
      ]
    },
    {
      "cell_type": "code",
      "execution_count": null,
      "metadata": {
        "id": "qQbjktz5jQNR",
        "colab": {
          "base_uri": "https://localhost:8080/",
          "height": 392
        },
        "outputId": "51f654b0-9fe6-465d-c76c-d44baf14a457"
      },
      "outputs": [
        {
          "output_type": "execute_result",
          "data": {
            "text/plain": [
              "<matplotlib.axes._subplots.AxesSubplot at 0x7f066cb35e50>"
            ]
          },
          "metadata": {},
          "execution_count": 110
        },
        {
          "output_type": "display_data",
          "data": {
            "text/plain": [
              "<Figure size 1008x432 with 1 Axes>"
            ],
            "image/png": "[encoded data removed]"
          },
          "metadata": {
            "needs_background": "light"
          }
        }
      ],
      "source": [
        "ax = notas_fulano['Fulano'].plot(style = 'o')\n",
        "ax.figure.set_size_inches(14, 6)\n",
        "ax.hlines(y = nota_media_fulano, xmin = 0, xmax = notas_fulano.shape[0] - 1, colors = 'red')\n",
        "for i in range(notas_fulano.shape[0]):\n",
        "    ax.vlines(x = i, ymin = nota_media_fulano, ymax = notas_fulano['Fulano'][i], linestyle='dashed')\n",
        "ax"
      ]
    },
    {
      "cell_type": "code",
      "execution_count": null,
      "metadata": {
        "id": "dtIDTt6djQNV",
        "colab": {
          "base_uri": "https://localhost:8080/"
        },
        "outputId": "793a9e90-5cf0-4f4a-e564-0277222deff4"
      },
      "outputs": [
        {
          "output_type": "execute_result",
          "data": {
            "text/plain": [
              "1.5510204081632648"
            ]
          },
          "metadata": {},
          "execution_count": 111
        }
      ],
      "source": [
        "notas_fulano['|Desvio|'].mean()"
      ]
    },
    {
      "cell_type": "code",
      "execution_count": null,
      "metadata": {
        "id": "m4buiQWF01xt",
        "colab": {
          "base_uri": "https://localhost:8080/"
        },
        "outputId": "8794dfe1-d3b5-41a0-f47b-916cba9d2dd3"
      },
      "outputs": [
        {
          "output_type": "execute_result",
          "data": {
            "text/plain": [
              "1.5510204081632648"
            ]
          },
          "metadata": {},
          "execution_count": 112
        }
      ],
      "source": [
        "desvio_medio_absoluto = notas_fulano['Fulano'].mad()\n",
        "desvio_medio_absoluto"
      ]
    },
    {
      "cell_type": "markdown",
      "source": [
        "# **Comparando variáveis com mesma média e mediana**\n",
        "Utilizando o DataFrame de exemplo que trabalhamos em nossas aulas:\n",
        "\n",
        "```\n",
        "df = pd.DataFrame(data = {'Fulano': [8, 10, 4, 8, 6, 10, 8],\n",
        "                          'Sicrano': [7.5, 8, 7, 8, 8, 8.5, 7]}, \n",
        "                  index = ['Matemática', \n",
        "                           'Português', \n",
        "                           'Inglês', \n",
        "                           'Geografia', \n",
        "                           'História', \n",
        "                           'Física', \n",
        "                           'Química'])\n",
        "df.rename_axis('Matérias', axis = 'columns', inplace = True)\n",
        "df\n",
        "\n",
        "\n",
        "\n",
        "```\n",
        "\n",
        "\n",
        "\n",
        "\n",
        "\n",
        "\n",
        "\n",
        "O DataFrame acima só considera as notas de Fulano e Sicrano que apresentaram medidas de tendência central idênticas.\n",
        "\n",
        "Indique a opção que mostra o aluno que possui a **maior dispersão** em suas notas e o **valor do desvio médio absoluto** deste aluno, respectivamente."
      ],
      "metadata": {
        "id": "ol2wvb_rxo18"
      }
    },
    {
      "cell_type": "markdown",
      "source": [
        "Resposta:"
      ],
      "metadata": {
        "id": "eqkBWDHpx74U"
      }
    },
    {
      "cell_type": "code",
      "source": [
        "df = pd.DataFrame(data = {'Fulano': [8, 10, 4, 8, 6, 10, 8],\n",
        "                          'Sicrano': [7.5, 8, 7, 8, 8, 8.5, 7]}, \n",
        "                  index = ['Matemática', \n",
        "                           'Português', \n",
        "                           'Inglês', \n",
        "                           'Geografia', \n",
        "                           'História', \n",
        "                           'Física', \n",
        "                           'Química'])\n",
        "df.rename_axis('Matérias', axis = 'columns', inplace = True)\n",
        "df"
      ],
      "metadata": {
        "colab": {
          "base_uri": "https://localhost:8080/",
          "height": 269
        },
        "id": "5VzCa208x1A6",
        "outputId": "d3a4006c-c737-405e-e2a9-e3e334ba4c3c"
      },
      "execution_count": null,
      "outputs": [
        {
          "output_type": "execute_result",
          "data": {
            "text/plain": [
              "Matérias    Fulano  Sicrano\n",
              "Matemática       8      7.5\n",
              "Português       10      8.0\n",
              "Inglês           4      7.0\n",
              "Geografia        8      8.0\n",
              "História         6      8.0\n",
              "Física          10      8.5\n",
              "Química          8      7.0"
            ],
            "text/html": [
              "\n",
              "  <div id=\"df-d4cec93d-c07d-43a3-969e-544c611dc23b\">\n",
              "    <div class=\"colab-df-container\">\n",
              "      <div>\n",
              "<style scoped>\n",
              "    .dataframe tbody tr th:only-of-type {\n",
              "        vertical-align: middle;\n",
              "    }\n",
              "\n",
              "    .dataframe tbody tr th {\n",
              "        vertical-align: top;\n",
              "    }\n",
              "\n",
              "    .dataframe thead th {\n",
              "        text-align: right;\n",
              "    }\n",
              "</style>\n",
              "<table border=\"1\" class=\"dataframe\">\n",
              "  <thead>\n",
              "    <tr style=\"text-align: right;\">\n",
              "      <th>Matérias</th>\n",
              "      <th>Fulano</th>\n",
              "      <th>Sicrano</th>\n",
              "    </tr>\n",
              "  </thead>\n",
              "  <tbody>\n",
              "    <tr>\n",
              "      <th>Matemática</th>\n",
              "      <td>8</td>\n",
              "      <td>7.5</td>\n",
              "    </tr>\n",
              "    <tr>\n",
              "      <th>Português</th>\n",
              "      <td>10</td>\n",
              "      <td>8.0</td>\n",
              "    </tr>\n",
              "    <tr>\n",
              "      <th>Inglês</th>\n",
              "      <td>4</td>\n",
              "      <td>7.0</td>\n",
              "    </tr>\n",
              "    <tr>\n",
              "      <th>Geografia</th>\n",
              "      <td>8</td>\n",
              "      <td>8.0</td>\n",
              "    </tr>\n",
              "    <tr>\n",
              "      <th>História</th>\n",
              "      <td>6</td>\n",
              "      <td>8.0</td>\n",
              "    </tr>\n",
              "    <tr>\n",
              "      <th>Física</th>\n",
              "      <td>10</td>\n",
              "      <td>8.5</td>\n",
              "    </tr>\n",
              "    <tr>\n",
              "      <th>Química</th>\n",
              "      <td>8</td>\n",
              "      <td>7.0</td>\n",
              "    </tr>\n",
              "  </tbody>\n",
              "</table>\n",
              "</div>\n",
              "      <button class=\"colab-df-convert\" onclick=\"convertToInteractive('df-d4cec93d-c07d-43a3-969e-544c611dc23b')\"\n",
              "              title=\"Convert this dataframe to an interactive table.\"\n",
              "              style=\"display:none;\">\n",
              "        \n",
              "  <svg xmlns=\"http://www.w3.org/2000/svg\" height=\"24px\"viewBox=\"0 0 24 24\"\n",
              "       width=\"24px\">\n",
              "    <path d=\"M0 0h24v24H0V0z\" fill=\"none\"/>\n",
              "    <path d=\"M18.56 5.44l.94 2.06.94-2.06 2.06-.94-2.06-.94-.94-2.06-.94 2.06-2.06.94zm-11 1L8.5 8.5l.94-2.06 2.06-.94-2.06-.94L8.5 2.5l-.94 2.06-2.06.94zm10 10l.94 2.06.94-2.06 2.06-.94-2.06-.94-.94-2.06-.94 2.06-2.06.94z\"/><path d=\"M17.41 7.96l-1.37-1.37c-.4-.4-.92-.59-1.43-.59-.52 0-1.04.2-1.43.59L10.3 9.45l-7.72 7.72c-.78.78-.78 2.05 0 2.83L4 21.41c.39.39.9.59 1.41.59.51 0 1.02-.2 1.41-.59l7.78-7.78 2.81-2.81c.8-.78.8-2.07 0-2.86zM5.41 20L4 18.59l7.72-7.72 1.47 1.35L5.41 20z\"/>\n",
              "  </svg>\n",
              "      </button>\n",
              "      \n",
              "  <style>\n",
              "    .colab-df-container {\n",
              "      display:flex;\n",
              "      flex-wrap:wrap;\n",
              "      gap: 12px;\n",
              "    }\n",
              "\n",
              "    .colab-df-convert {\n",
              "      background-color: #E8F0FE;\n",
              "      border: none;\n",
              "      border-radius: 50%;\n",
              "      cursor: pointer;\n",
              "      display: none;\n",
              "      fill: #1967D2;\n",
              "      height: 32px;\n",
              "      padding: 0 0 0 0;\n",
              "      width: 32px;\n",
              "    }\n",
              "\n",
              "    .colab-df-convert:hover {\n",
              "      background-color: #E2EBFA;\n",
              "      box-shadow: 0px 1px 2px rgba(60, 64, 67, 0.3), 0px 1px 3px 1px rgba(60, 64, 67, 0.15);\n",
              "      fill: #174EA6;\n",
              "    }\n",
              "\n",
              "    [theme=dark] .colab-df-convert {\n",
              "      background-color: #3B4455;\n",
              "      fill: #D2E3FC;\n",
              "    }\n",
              "\n",
              "    [theme=dark] .colab-df-convert:hover {\n",
              "      background-color: #434B5C;\n",
              "      box-shadow: 0px 1px 3px 1px rgba(0, 0, 0, 0.15);\n",
              "      filter: drop-shadow(0px 1px 2px rgba(0, 0, 0, 0.3));\n",
              "      fill: #FFFFFF;\n",
              "    }\n",
              "  </style>\n",
              "\n",
              "      <script>\n",
              "        const buttonEl =\n",
              "          document.querySelector('#df-d4cec93d-c07d-43a3-969e-544c611dc23b button.colab-df-convert');\n",
              "        buttonEl.style.display =\n",
              "          google.colab.kernel.accessAllowed ? 'block' : 'none';\n",
              "\n",
              "        async function convertToInteractive(key) {\n",
              "          const element = document.querySelector('#df-d4cec93d-c07d-43a3-969e-544c611dc23b');\n",
              "          const dataTable =\n",
              "            await google.colab.kernel.invokeFunction('convertToInteractive',\n",
              "                                                     [key], {});\n",
              "          if (!dataTable) return;\n",
              "\n",
              "          const docLinkHtml = 'Like what you see? Visit the ' +\n",
              "            '<a target=\"_blank\" href=https://colab.research.google.com/notebooks/data_table.ipynb>data table notebook</a>'\n",
              "            + ' to learn more about interactive tables.';\n",
              "          element.innerHTML = '';\n",
              "          dataTable['output_type'] = 'display_data';\n",
              "          await google.colab.output.renderOutput(dataTable, element);\n",
              "          const docLink = document.createElement('div');\n",
              "          docLink.innerHTML = docLinkHtml;\n",
              "          element.appendChild(docLink);\n",
              "        }\n",
              "      </script>\n",
              "    </div>\n",
              "  </div>\n",
              "  "
            ]
          },
          "metadata": {},
          "execution_count": 113
        }
      ]
    },
    {
      "cell_type": "markdown",
      "source": [
        "calculando as notas de Fulano:"
      ],
      "metadata": {
        "id": "GLdcandQxqeo"
      }
    },
    {
      "cell_type": "code",
      "source": [
        "notas_fulano = df[['Fulano']]\n",
        "notas_fulano"
      ],
      "metadata": {
        "colab": {
          "base_uri": "https://localhost:8080/",
          "height": 269
        },
        "id": "MKabGKN6x5lE",
        "outputId": "ae7942a3-b06a-48c0-e575-3b26c7b588af"
      },
      "execution_count": null,
      "outputs": [
        {
          "output_type": "execute_result",
          "data": {
            "text/plain": [
              "Matérias    Fulano\n",
              "Matemática       8\n",
              "Português       10\n",
              "Inglês           4\n",
              "Geografia        8\n",
              "História         6\n",
              "Física          10\n",
              "Química          8"
            ],
            "text/html": [
              "\n",
              "  <div id=\"df-ea434726-d531-430f-9af5-d40eff164e57\">\n",
              "    <div class=\"colab-df-container\">\n",
              "      <div>\n",
              "<style scoped>\n",
              "    .dataframe tbody tr th:only-of-type {\n",
              "        vertical-align: middle;\n",
              "    }\n",
              "\n",
              "    .dataframe tbody tr th {\n",
              "        vertical-align: top;\n",
              "    }\n",
              "\n",
              "    .dataframe thead th {\n",
              "        text-align: right;\n",
              "    }\n",
              "</style>\n",
              "<table border=\"1\" class=\"dataframe\">\n",
              "  <thead>\n",
              "    <tr style=\"text-align: right;\">\n",
              "      <th>Matérias</th>\n",
              "      <th>Fulano</th>\n",
              "    </tr>\n",
              "  </thead>\n",
              "  <tbody>\n",
              "    <tr>\n",
              "      <th>Matemática</th>\n",
              "      <td>8</td>\n",
              "    </tr>\n",
              "    <tr>\n",
              "      <th>Português</th>\n",
              "      <td>10</td>\n",
              "    </tr>\n",
              "    <tr>\n",
              "      <th>Inglês</th>\n",
              "      <td>4</td>\n",
              "    </tr>\n",
              "    <tr>\n",
              "      <th>Geografia</th>\n",
              "      <td>8</td>\n",
              "    </tr>\n",
              "    <tr>\n",
              "      <th>História</th>\n",
              "      <td>6</td>\n",
              "    </tr>\n",
              "    <tr>\n",
              "      <th>Física</th>\n",
              "      <td>10</td>\n",
              "    </tr>\n",
              "    <tr>\n",
              "      <th>Química</th>\n",
              "      <td>8</td>\n",
              "    </tr>\n",
              "  </tbody>\n",
              "</table>\n",
              "</div>\n",
              "      <button class=\"colab-df-convert\" onclick=\"convertToInteractive('df-ea434726-d531-430f-9af5-d40eff164e57')\"\n",
              "              title=\"Convert this dataframe to an interactive table.\"\n",
              "              style=\"display:none;\">\n",
              "        \n",
              "  <svg xmlns=\"http://www.w3.org/2000/svg\" height=\"24px\"viewBox=\"0 0 24 24\"\n",
              "       width=\"24px\">\n",
              "    <path d=\"M0 0h24v24H0V0z\" fill=\"none\"/>\n",
              "    <path d=\"M18.56 5.44l.94 2.06.94-2.06 2.06-.94-2.06-.94-.94-2.06-.94 2.06-2.06.94zm-11 1L8.5 8.5l.94-2.06 2.06-.94-2.06-.94L8.5 2.5l-.94 2.06-2.06.94zm10 10l.94 2.06.94-2.06 2.06-.94-2.06-.94-.94-2.06-.94 2.06-2.06.94z\"/><path d=\"M17.41 7.96l-1.37-1.37c-.4-.4-.92-.59-1.43-.59-.52 0-1.04.2-1.43.59L10.3 9.45l-7.72 7.72c-.78.78-.78 2.05 0 2.83L4 21.41c.39.39.9.59 1.41.59.51 0 1.02-.2 1.41-.59l7.78-7.78 2.81-2.81c.8-.78.8-2.07 0-2.86zM5.41 20L4 18.59l7.72-7.72 1.47 1.35L5.41 20z\"/>\n",
              "  </svg>\n",
              "      </button>\n",
              "      \n",
              "  <style>\n",
              "    .colab-df-container {\n",
              "      display:flex;\n",
              "      flex-wrap:wrap;\n",
              "      gap: 12px;\n",
              "    }\n",
              "\n",
              "    .colab-df-convert {\n",
              "      background-color: #E8F0FE;\n",
              "      border: none;\n",
              "      border-radius: 50%;\n",
              "      cursor: pointer;\n",
              "      display: none;\n",
              "      fill: #1967D2;\n",
              "      height: 32px;\n",
              "      padding: 0 0 0 0;\n",
              "      width: 32px;\n",
              "    }\n",
              "\n",
              "    .colab-df-convert:hover {\n",
              "      background-color: #E2EBFA;\n",
              "      box-shadow: 0px 1px 2px rgba(60, 64, 67, 0.3), 0px 1px 3px 1px rgba(60, 64, 67, 0.15);\n",
              "      fill: #174EA6;\n",
              "    }\n",
              "\n",
              "    [theme=dark] .colab-df-convert {\n",
              "      background-color: #3B4455;\n",
              "      fill: #D2E3FC;\n",
              "    }\n",
              "\n",
              "    [theme=dark] .colab-df-convert:hover {\n",
              "      background-color: #434B5C;\n",
              "      box-shadow: 0px 1px 3px 1px rgba(0, 0, 0, 0.15);\n",
              "      filter: drop-shadow(0px 1px 2px rgba(0, 0, 0, 0.3));\n",
              "      fill: #FFFFFF;\n",
              "    }\n",
              "  </style>\n",
              "\n",
              "      <script>\n",
              "        const buttonEl =\n",
              "          document.querySelector('#df-ea434726-d531-430f-9af5-d40eff164e57 button.colab-df-convert');\n",
              "        buttonEl.style.display =\n",
              "          google.colab.kernel.accessAllowed ? 'block' : 'none';\n",
              "\n",
              "        async function convertToInteractive(key) {\n",
              "          const element = document.querySelector('#df-ea434726-d531-430f-9af5-d40eff164e57');\n",
              "          const dataTable =\n",
              "            await google.colab.kernel.invokeFunction('convertToInteractive',\n",
              "                                                     [key], {});\n",
              "          if (!dataTable) return;\n",
              "\n",
              "          const docLinkHtml = 'Like what you see? Visit the ' +\n",
              "            '<a target=\"_blank\" href=https://colab.research.google.com/notebooks/data_table.ipynb>data table notebook</a>'\n",
              "            + ' to learn more about interactive tables.';\n",
              "          element.innerHTML = '';\n",
              "          dataTable['output_type'] = 'display_data';\n",
              "          await google.colab.output.renderOutput(dataTable, element);\n",
              "          const docLink = document.createElement('div');\n",
              "          docLink.innerHTML = docLinkHtml;\n",
              "          element.appendChild(docLink);\n",
              "        }\n",
              "      </script>\n",
              "    </div>\n",
              "  </div>\n",
              "  "
            ]
          },
          "metadata": {},
          "execution_count": 114
        }
      ]
    },
    {
      "cell_type": "code",
      "source": [
        "nota_media_fulano = notas_fulano.mean()[0]\n",
        "nota_media_fulano"
      ],
      "metadata": {
        "colab": {
          "base_uri": "https://localhost:8080/"
        },
        "id": "VPSaGmaC4Ru2",
        "outputId": "91b25437-cf12-4e09-faa4-23e96d12c121"
      },
      "execution_count": null,
      "outputs": [
        {
          "output_type": "execute_result",
          "data": {
            "text/plain": [
              "7.714285714285714"
            ]
          },
          "metadata": {},
          "execution_count": 115
        }
      ]
    },
    {
      "cell_type": "code",
      "source": [
        "notas_fulano['Desvio'] = notas_fulano['Fulano'] - nota_media_fulano\n",
        "notas_fulano"
      ],
      "metadata": {
        "colab": {
          "base_uri": "https://localhost:8080/",
          "height": 269
        },
        "id": "r0ELnKED5D4O",
        "outputId": "75cf8b97-02c2-487c-fb3f-10c0e3478e7c"
      },
      "execution_count": null,
      "outputs": [
        {
          "output_type": "execute_result",
          "data": {
            "text/plain": [
              "Matérias    Fulano    Desvio\n",
              "Matemática       8  0.285714\n",
              "Português       10  2.285714\n",
              "Inglês           4 -3.714286\n",
              "Geografia        8  0.285714\n",
              "História         6 -1.714286\n",
              "Física          10  2.285714\n",
              "Química          8  0.285714"
            ],
            "text/html": [
              "\n",
              "  <div id=\"df-39c21865-9204-4c7b-a3ba-e8b00ac4d38a\">\n",
              "    <div class=\"colab-df-container\">\n",
              "      <div>\n",
              "<style scoped>\n",
              "    .dataframe tbody tr th:only-of-type {\n",
              "        vertical-align: middle;\n",
              "    }\n",
              "\n",
              "    .dataframe tbody tr th {\n",
              "        vertical-align: top;\n",
              "    }\n",
              "\n",
              "    .dataframe thead th {\n",
              "        text-align: right;\n",
              "    }\n",
              "</style>\n",
              "<table border=\"1\" class=\"dataframe\">\n",
              "  <thead>\n",
              "    <tr style=\"text-align: right;\">\n",
              "      <th>Matérias</th>\n",
              "      <th>Fulano</th>\n",
              "      <th>Desvio</th>\n",
              "    </tr>\n",
              "  </thead>\n",
              "  <tbody>\n",
              "    <tr>\n",
              "      <th>Matemática</th>\n",
              "      <td>8</td>\n",
              "      <td>0.285714</td>\n",
              "    </tr>\n",
              "    <tr>\n",
              "      <th>Português</th>\n",
              "      <td>10</td>\n",
              "      <td>2.285714</td>\n",
              "    </tr>\n",
              "    <tr>\n",
              "      <th>Inglês</th>\n",
              "      <td>4</td>\n",
              "      <td>-3.714286</td>\n",
              "    </tr>\n",
              "    <tr>\n",
              "      <th>Geografia</th>\n",
              "      <td>8</td>\n",
              "      <td>0.285714</td>\n",
              "    </tr>\n",
              "    <tr>\n",
              "      <th>História</th>\n",
              "      <td>6</td>\n",
              "      <td>-1.714286</td>\n",
              "    </tr>\n",
              "    <tr>\n",
              "      <th>Física</th>\n",
              "      <td>10</td>\n",
              "      <td>2.285714</td>\n",
              "    </tr>\n",
              "    <tr>\n",
              "      <th>Química</th>\n",
              "      <td>8</td>\n",
              "      <td>0.285714</td>\n",
              "    </tr>\n",
              "  </tbody>\n",
              "</table>\n",
              "</div>\n",
              "      <button class=\"colab-df-convert\" onclick=\"convertToInteractive('df-39c21865-9204-4c7b-a3ba-e8b00ac4d38a')\"\n",
              "              title=\"Convert this dataframe to an interactive table.\"\n",
              "              style=\"display:none;\">\n",
              "        \n",
              "  <svg xmlns=\"http://www.w3.org/2000/svg\" height=\"24px\"viewBox=\"0 0 24 24\"\n",
              "       width=\"24px\">\n",
              "    <path d=\"M0 0h24v24H0V0z\" fill=\"none\"/>\n",
              "    <path d=\"M18.56 5.44l.94 2.06.94-2.06 2.06-.94-2.06-.94-.94-2.06-.94 2.06-2.06.94zm-11 1L8.5 8.5l.94-2.06 2.06-.94-2.06-.94L8.5 2.5l-.94 2.06-2.06.94zm10 10l.94 2.06.94-2.06 2.06-.94-2.06-.94-.94-2.06-.94 2.06-2.06.94z\"/><path d=\"M17.41 7.96l-1.37-1.37c-.4-.4-.92-.59-1.43-.59-.52 0-1.04.2-1.43.59L10.3 9.45l-7.72 7.72c-.78.78-.78 2.05 0 2.83L4 21.41c.39.39.9.59 1.41.59.51 0 1.02-.2 1.41-.59l7.78-7.78 2.81-2.81c.8-.78.8-2.07 0-2.86zM5.41 20L4 18.59l7.72-7.72 1.47 1.35L5.41 20z\"/>\n",
              "  </svg>\n",
              "      </button>\n",
              "      \n",
              "  <style>\n",
              "    .colab-df-container {\n",
              "      display:flex;\n",
              "      flex-wrap:wrap;\n",
              "      gap: 12px;\n",
              "    }\n",
              "\n",
              "    .colab-df-convert {\n",
              "      background-color: #E8F0FE;\n",
              "      border: none;\n",
              "      border-radius: 50%;\n",
              "      cursor: pointer;\n",
              "      display: none;\n",
              "      fill: #1967D2;\n",
              "      height: 32px;\n",
              "      padding: 0 0 0 0;\n",
              "      width: 32px;\n",
              "    }\n",
              "\n",
              "    .colab-df-convert:hover {\n",
              "      background-color: #E2EBFA;\n",
              "      box-shadow: 0px 1px 2px rgba(60, 64, 67, 0.3), 0px 1px 3px 1px rgba(60, 64, 67, 0.15);\n",
              "      fill: #174EA6;\n",
              "    }\n",
              "\n",
              "    [theme=dark] .colab-df-convert {\n",
              "      background-color: #3B4455;\n",
              "      fill: #D2E3FC;\n",
              "    }\n",
              "\n",
              "    [theme=dark] .colab-df-convert:hover {\n",
              "      background-color: #434B5C;\n",
              "      box-shadow: 0px 1px 3px 1px rgba(0, 0, 0, 0.15);\n",
              "      filter: drop-shadow(0px 1px 2px rgba(0, 0, 0, 0.3));\n",
              "      fill: #FFFFFF;\n",
              "    }\n",
              "  </style>\n",
              "\n",
              "      <script>\n",
              "        const buttonEl =\n",
              "          document.querySelector('#df-39c21865-9204-4c7b-a3ba-e8b00ac4d38a button.colab-df-convert');\n",
              "        buttonEl.style.display =\n",
              "          google.colab.kernel.accessAllowed ? 'block' : 'none';\n",
              "\n",
              "        async function convertToInteractive(key) {\n",
              "          const element = document.querySelector('#df-39c21865-9204-4c7b-a3ba-e8b00ac4d38a');\n",
              "          const dataTable =\n",
              "            await google.colab.kernel.invokeFunction('convertToInteractive',\n",
              "                                                     [key], {});\n",
              "          if (!dataTable) return;\n",
              "\n",
              "          const docLinkHtml = 'Like what you see? Visit the ' +\n",
              "            '<a target=\"_blank\" href=https://colab.research.google.com/notebooks/data_table.ipynb>data table notebook</a>'\n",
              "            + ' to learn more about interactive tables.';\n",
              "          element.innerHTML = '';\n",
              "          dataTable['output_type'] = 'display_data';\n",
              "          await google.colab.output.renderOutput(dataTable, element);\n",
              "          const docLink = document.createElement('div');\n",
              "          docLink.innerHTML = docLinkHtml;\n",
              "          element.appendChild(docLink);\n",
              "        }\n",
              "      </script>\n",
              "    </div>\n",
              "  </div>\n",
              "  "
            ]
          },
          "metadata": {},
          "execution_count": 116
        }
      ]
    },
    {
      "cell_type": "code",
      "source": [
        "notas_fulano['|Desvio|'] = notas_fulano['Desvio'].abs()\n",
        "notas_fulano"
      ],
      "metadata": {
        "colab": {
          "base_uri": "https://localhost:8080/",
          "height": 269
        },
        "id": "9OkUv31u5NPO",
        "outputId": "66c6ff80-2ac2-4fd5-87ef-21dd8014fc5e"
      },
      "execution_count": null,
      "outputs": [
        {
          "output_type": "execute_result",
          "data": {
            "text/plain": [
              "Matérias    Fulano    Desvio  |Desvio|\n",
              "Matemática       8  0.285714  0.285714\n",
              "Português       10  2.285714  2.285714\n",
              "Inglês           4 -3.714286  3.714286\n",
              "Geografia        8  0.285714  0.285714\n",
              "História         6 -1.714286  1.714286\n",
              "Física          10  2.285714  2.285714\n",
              "Química          8  0.285714  0.285714"
            ],
            "text/html": [
              "\n",
              "  <div id=\"df-e7a2bd65-cdeb-4159-b74c-5cc62e90dad8\">\n",
              "    <div class=\"colab-df-container\">\n",
              "      <div>\n",
              "<style scoped>\n",
              "    .dataframe tbody tr th:only-of-type {\n",
              "        vertical-align: middle;\n",
              "    }\n",
              "\n",
              "    .dataframe tbody tr th {\n",
              "        vertical-align: top;\n",
              "    }\n",
              "\n",
              "    .dataframe thead th {\n",
              "        text-align: right;\n",
              "    }\n",
              "</style>\n",
              "<table border=\"1\" class=\"dataframe\">\n",
              "  <thead>\n",
              "    <tr style=\"text-align: right;\">\n",
              "      <th>Matérias</th>\n",
              "      <th>Fulano</th>\n",
              "      <th>Desvio</th>\n",
              "      <th>|Desvio|</th>\n",
              "    </tr>\n",
              "  </thead>\n",
              "  <tbody>\n",
              "    <tr>\n",
              "      <th>Matemática</th>\n",
              "      <td>8</td>\n",
              "      <td>0.285714</td>\n",
              "      <td>0.285714</td>\n",
              "    </tr>\n",
              "    <tr>\n",
              "      <th>Português</th>\n",
              "      <td>10</td>\n",
              "      <td>2.285714</td>\n",
              "      <td>2.285714</td>\n",
              "    </tr>\n",
              "    <tr>\n",
              "      <th>Inglês</th>\n",
              "      <td>4</td>\n",
              "      <td>-3.714286</td>\n",
              "      <td>3.714286</td>\n",
              "    </tr>\n",
              "    <tr>\n",
              "      <th>Geografia</th>\n",
              "      <td>8</td>\n",
              "      <td>0.285714</td>\n",
              "      <td>0.285714</td>\n",
              "    </tr>\n",
              "    <tr>\n",
              "      <th>História</th>\n",
              "      <td>6</td>\n",
              "      <td>-1.714286</td>\n",
              "      <td>1.714286</td>\n",
              "    </tr>\n",
              "    <tr>\n",
              "      <th>Física</th>\n",
              "      <td>10</td>\n",
              "      <td>2.285714</td>\n",
              "      <td>2.285714</td>\n",
              "    </tr>\n",
              "    <tr>\n",
              "      <th>Química</th>\n",
              "      <td>8</td>\n",
              "      <td>0.285714</td>\n",
              "      <td>0.285714</td>\n",
              "    </tr>\n",
              "  </tbody>\n",
              "</table>\n",
              "</div>\n",
              "      <button class=\"colab-df-convert\" onclick=\"convertToInteractive('df-e7a2bd65-cdeb-4159-b74c-5cc62e90dad8')\"\n",
              "              title=\"Convert this dataframe to an interactive table.\"\n",
              "              style=\"display:none;\">\n",
              "        \n",
              "  <svg xmlns=\"http://www.w3.org/2000/svg\" height=\"24px\"viewBox=\"0 0 24 24\"\n",
              "       width=\"24px\">\n",
              "    <path d=\"M0 0h24v24H0V0z\" fill=\"none\"/>\n",
              "    <path d=\"M18.56 5.44l.94 2.06.94-2.06 2.06-.94-2.06-.94-.94-2.06-.94 2.06-2.06.94zm-11 1L8.5 8.5l.94-2.06 2.06-.94-2.06-.94L8.5 2.5l-.94 2.06-2.06.94zm10 10l.94 2.06.94-2.06 2.06-.94-2.06-.94-.94-2.06-.94 2.06-2.06.94z\"/><path d=\"M17.41 7.96l-1.37-1.37c-.4-.4-.92-.59-1.43-.59-.52 0-1.04.2-1.43.59L10.3 9.45l-7.72 7.72c-.78.78-.78 2.05 0 2.83L4 21.41c.39.39.9.59 1.41.59.51 0 1.02-.2 1.41-.59l7.78-7.78 2.81-2.81c.8-.78.8-2.07 0-2.86zM5.41 20L4 18.59l7.72-7.72 1.47 1.35L5.41 20z\"/>\n",
              "  </svg>\n",
              "      </button>\n",
              "      \n",
              "  <style>\n",
              "    .colab-df-container {\n",
              "      display:flex;\n",
              "      flex-wrap:wrap;\n",
              "      gap: 12px;\n",
              "    }\n",
              "\n",
              "    .colab-df-convert {\n",
              "      background-color: #E8F0FE;\n",
              "      border: none;\n",
              "      border-radius: 50%;\n",
              "      cursor: pointer;\n",
              "      display: none;\n",
              "      fill: #1967D2;\n",
              "      height: 32px;\n",
              "      padding: 0 0 0 0;\n",
              "      width: 32px;\n",
              "    }\n",
              "\n",
              "    .colab-df-convert:hover {\n",
              "      background-color: #E2EBFA;\n",
              "      box-shadow: 0px 1px 2px rgba(60, 64, 67, 0.3), 0px 1px 3px 1px rgba(60, 64, 67, 0.15);\n",
              "      fill: #174EA6;\n",
              "    }\n",
              "\n",
              "    [theme=dark] .colab-df-convert {\n",
              "      background-color: #3B4455;\n",
              "      fill: #D2E3FC;\n",
              "    }\n",
              "\n",
              "    [theme=dark] .colab-df-convert:hover {\n",
              "      background-color: #434B5C;\n",
              "      box-shadow: 0px 1px 3px 1px rgba(0, 0, 0, 0.15);\n",
              "      filter: drop-shadow(0px 1px 2px rgba(0, 0, 0, 0.3));\n",
              "      fill: #FFFFFF;\n",
              "    }\n",
              "  </style>\n",
              "\n",
              "      <script>\n",
              "        const buttonEl =\n",
              "          document.querySelector('#df-e7a2bd65-cdeb-4159-b74c-5cc62e90dad8 button.colab-df-convert');\n",
              "        buttonEl.style.display =\n",
              "          google.colab.kernel.accessAllowed ? 'block' : 'none';\n",
              "\n",
              "        async function convertToInteractive(key) {\n",
              "          const element = document.querySelector('#df-e7a2bd65-cdeb-4159-b74c-5cc62e90dad8');\n",
              "          const dataTable =\n",
              "            await google.colab.kernel.invokeFunction('convertToInteractive',\n",
              "                                                     [key], {});\n",
              "          if (!dataTable) return;\n",
              "\n",
              "          const docLinkHtml = 'Like what you see? Visit the ' +\n",
              "            '<a target=\"_blank\" href=https://colab.research.google.com/notebooks/data_table.ipynb>data table notebook</a>'\n",
              "            + ' to learn more about interactive tables.';\n",
              "          element.innerHTML = '';\n",
              "          dataTable['output_type'] = 'display_data';\n",
              "          await google.colab.output.renderOutput(dataTable, element);\n",
              "          const docLink = document.createElement('div');\n",
              "          docLink.innerHTML = docLinkHtml;\n",
              "          element.appendChild(docLink);\n",
              "        }\n",
              "      </script>\n",
              "    </div>\n",
              "  </div>\n",
              "  "
            ]
          },
          "metadata": {},
          "execution_count": 117
        }
      ]
    },
    {
      "cell_type": "code",
      "source": [
        "notas_fulano['|Desvio|'].max()"
      ],
      "metadata": {
        "colab": {
          "base_uri": "https://localhost:8080/"
        },
        "id": "w9-g_mZK5RGG",
        "outputId": "9c231be0-ce14-4059-d10a-09a20e3c936f"
      },
      "execution_count": null,
      "outputs": [
        {
          "output_type": "execute_result",
          "data": {
            "text/plain": [
              "3.7142857142857144"
            ]
          },
          "metadata": {},
          "execution_count": 118
        }
      ]
    },
    {
      "cell_type": "code",
      "source": [
        "notas_fulano['|Desvio|'].min()"
      ],
      "metadata": {
        "colab": {
          "base_uri": "https://localhost:8080/"
        },
        "id": "urEQAh9w6i9X",
        "outputId": "3393fb60-ae2e-4ad3-8931-9c7b29d41bc9"
      },
      "execution_count": null,
      "outputs": [
        {
          "output_type": "execute_result",
          "data": {
            "text/plain": [
              "0.2857142857142856"
            ]
          },
          "metadata": {},
          "execution_count": 119
        }
      ]
    },
    {
      "cell_type": "code",
      "source": [
        "notas_fulano['Fulano'].mad()"
      ],
      "metadata": {
        "colab": {
          "base_uri": "https://localhost:8080/"
        },
        "id": "vcDEYxxH5pL-",
        "outputId": "25f2b3d7-d14d-4917-9af1-62fa59d7cfae"
      },
      "execution_count": null,
      "outputs": [
        {
          "output_type": "execute_result",
          "data": {
            "text/plain": [
              "1.5510204081632648"
            ]
          },
          "metadata": {},
          "execution_count": 120
        }
      ]
    },
    {
      "cell_type": "markdown",
      "source": [
        "calculando a nota de Sicrano:"
      ],
      "metadata": {
        "id": "6O3BXXaZxuLv"
      }
    },
    {
      "cell_type": "code",
      "source": [
        "notas_sicrano = df[['Sicrano']]\n",
        "notas_sicrano"
      ],
      "metadata": {
        "colab": {
          "base_uri": "https://localhost:8080/",
          "height": 269
        },
        "id": "KhAB4EKsxwSu",
        "outputId": "772ed8c5-e912-4779-d753-d372f2c03017"
      },
      "execution_count": null,
      "outputs": [
        {
          "output_type": "execute_result",
          "data": {
            "text/plain": [
              "Matérias    Sicrano\n",
              "Matemática      7.5\n",
              "Português       8.0\n",
              "Inglês          7.0\n",
              "Geografia       8.0\n",
              "História        8.0\n",
              "Física          8.5\n",
              "Química         7.0"
            ],
            "text/html": [
              "\n",
              "  <div id=\"df-e557083f-905b-4e29-9e35-e8dea196d62b\">\n",
              "    <div class=\"colab-df-container\">\n",
              "      <div>\n",
              "<style scoped>\n",
              "    .dataframe tbody tr th:only-of-type {\n",
              "        vertical-align: middle;\n",
              "    }\n",
              "\n",
              "    .dataframe tbody tr th {\n",
              "        vertical-align: top;\n",
              "    }\n",
              "\n",
              "    .dataframe thead th {\n",
              "        text-align: right;\n",
              "    }\n",
              "</style>\n",
              "<table border=\"1\" class=\"dataframe\">\n",
              "  <thead>\n",
              "    <tr style=\"text-align: right;\">\n",
              "      <th>Matérias</th>\n",
              "      <th>Sicrano</th>\n",
              "    </tr>\n",
              "  </thead>\n",
              "  <tbody>\n",
              "    <tr>\n",
              "      <th>Matemática</th>\n",
              "      <td>7.5</td>\n",
              "    </tr>\n",
              "    <tr>\n",
              "      <th>Português</th>\n",
              "      <td>8.0</td>\n",
              "    </tr>\n",
              "    <tr>\n",
              "      <th>Inglês</th>\n",
              "      <td>7.0</td>\n",
              "    </tr>\n",
              "    <tr>\n",
              "      <th>Geografia</th>\n",
              "      <td>8.0</td>\n",
              "    </tr>\n",
              "    <tr>\n",
              "      <th>História</th>\n",
              "      <td>8.0</td>\n",
              "    </tr>\n",
              "    <tr>\n",
              "      <th>Física</th>\n",
              "      <td>8.5</td>\n",
              "    </tr>\n",
              "    <tr>\n",
              "      <th>Química</th>\n",
              "      <td>7.0</td>\n",
              "    </tr>\n",
              "  </tbody>\n",
              "</table>\n",
              "</div>\n",
              "      <button class=\"colab-df-convert\" onclick=\"convertToInteractive('df-e557083f-905b-4e29-9e35-e8dea196d62b')\"\n",
              "              title=\"Convert this dataframe to an interactive table.\"\n",
              "              style=\"display:none;\">\n",
              "        \n",
              "  <svg xmlns=\"http://www.w3.org/2000/svg\" height=\"24px\"viewBox=\"0 0 24 24\"\n",
              "       width=\"24px\">\n",
              "    <path d=\"M0 0h24v24H0V0z\" fill=\"none\"/>\n",
              "    <path d=\"M18.56 5.44l.94 2.06.94-2.06 2.06-.94-2.06-.94-.94-2.06-.94 2.06-2.06.94zm-11 1L8.5 8.5l.94-2.06 2.06-.94-2.06-.94L8.5 2.5l-.94 2.06-2.06.94zm10 10l.94 2.06.94-2.06 2.06-.94-2.06-.94-.94-2.06-.94 2.06-2.06.94z\"/><path d=\"M17.41 7.96l-1.37-1.37c-.4-.4-.92-.59-1.43-.59-.52 0-1.04.2-1.43.59L10.3 9.45l-7.72 7.72c-.78.78-.78 2.05 0 2.83L4 21.41c.39.39.9.59 1.41.59.51 0 1.02-.2 1.41-.59l7.78-7.78 2.81-2.81c.8-.78.8-2.07 0-2.86zM5.41 20L4 18.59l7.72-7.72 1.47 1.35L5.41 20z\"/>\n",
              "  </svg>\n",
              "      </button>\n",
              "      \n",
              "  <style>\n",
              "    .colab-df-container {\n",
              "      display:flex;\n",
              "      flex-wrap:wrap;\n",
              "      gap: 12px;\n",
              "    }\n",
              "\n",
              "    .colab-df-convert {\n",
              "      background-color: #E8F0FE;\n",
              "      border: none;\n",
              "      border-radius: 50%;\n",
              "      cursor: pointer;\n",
              "      display: none;\n",
              "      fill: #1967D2;\n",
              "      height: 32px;\n",
              "      padding: 0 0 0 0;\n",
              "      width: 32px;\n",
              "    }\n",
              "\n",
              "    .colab-df-convert:hover {\n",
              "      background-color: #E2EBFA;\n",
              "      box-shadow: 0px 1px 2px rgba(60, 64, 67, 0.3), 0px 1px 3px 1px rgba(60, 64, 67, 0.15);\n",
              "      fill: #174EA6;\n",
              "    }\n",
              "\n",
              "    [theme=dark] .colab-df-convert {\n",
              "      background-color: #3B4455;\n",
              "      fill: #D2E3FC;\n",
              "    }\n",
              "\n",
              "    [theme=dark] .colab-df-convert:hover {\n",
              "      background-color: #434B5C;\n",
              "      box-shadow: 0px 1px 3px 1px rgba(0, 0, 0, 0.15);\n",
              "      filter: drop-shadow(0px 1px 2px rgba(0, 0, 0, 0.3));\n",
              "      fill: #FFFFFF;\n",
              "    }\n",
              "  </style>\n",
              "\n",
              "      <script>\n",
              "        const buttonEl =\n",
              "          document.querySelector('#df-e557083f-905b-4e29-9e35-e8dea196d62b button.colab-df-convert');\n",
              "        buttonEl.style.display =\n",
              "          google.colab.kernel.accessAllowed ? 'block' : 'none';\n",
              "\n",
              "        async function convertToInteractive(key) {\n",
              "          const element = document.querySelector('#df-e557083f-905b-4e29-9e35-e8dea196d62b');\n",
              "          const dataTable =\n",
              "            await google.colab.kernel.invokeFunction('convertToInteractive',\n",
              "                                                     [key], {});\n",
              "          if (!dataTable) return;\n",
              "\n",
              "          const docLinkHtml = 'Like what you see? Visit the ' +\n",
              "            '<a target=\"_blank\" href=https://colab.research.google.com/notebooks/data_table.ipynb>data table notebook</a>'\n",
              "            + ' to learn more about interactive tables.';\n",
              "          element.innerHTML = '';\n",
              "          dataTable['output_type'] = 'display_data';\n",
              "          await google.colab.output.renderOutput(dataTable, element);\n",
              "          const docLink = document.createElement('div');\n",
              "          docLink.innerHTML = docLinkHtml;\n",
              "          element.appendChild(docLink);\n",
              "        }\n",
              "      </script>\n",
              "    </div>\n",
              "  </div>\n",
              "  "
            ]
          },
          "metadata": {},
          "execution_count": 121
        }
      ]
    },
    {
      "cell_type": "code",
      "source": [
        "nota_media_sicrano = notas_sicrano.mean()[0]\n",
        "nota_media_sicrano"
      ],
      "metadata": {
        "colab": {
          "base_uri": "https://localhost:8080/"
        },
        "id": "Sm7s9PmoM218",
        "outputId": "bf6d1c6f-0b1f-48d5-b330-ef8aa163064c"
      },
      "execution_count": null,
      "outputs": [
        {
          "output_type": "execute_result",
          "data": {
            "text/plain": [
              "7.714285714285714"
            ]
          },
          "metadata": {},
          "execution_count": 122
        }
      ]
    },
    {
      "cell_type": "code",
      "source": [
        "notas_sicrano['Desvio'] = notas_sicrano['Sicrano'] - nota_media_sicrano\n",
        "notas_sicrano['|Desvio|'] = notas_sicrano['Desvio'].abs()\n",
        "notas_sicrano"
      ],
      "metadata": {
        "colab": {
          "base_uri": "https://localhost:8080/",
          "height": 269
        },
        "id": "_-BeqYY8yg1B",
        "outputId": "7f0e4a26-8805-4f90-852d-3f18bf4137a0"
      },
      "execution_count": null,
      "outputs": [
        {
          "output_type": "execute_result",
          "data": {
            "text/plain": [
              "Matérias    Sicrano    Desvio  |Desvio|\n",
              "Matemática      7.5 -0.214286  0.214286\n",
              "Português       8.0  0.285714  0.285714\n",
              "Inglês          7.0 -0.714286  0.714286\n",
              "Geografia       8.0  0.285714  0.285714\n",
              "História        8.0  0.285714  0.285714\n",
              "Física          8.5  0.785714  0.785714\n",
              "Química         7.0 -0.714286  0.714286"
            ],
            "text/html": [
              "\n",
              "  <div id=\"df-2969b9c9-a550-4c5d-8099-ce9a61aa4b68\">\n",
              "    <div class=\"colab-df-container\">\n",
              "      <div>\n",
              "<style scoped>\n",
              "    .dataframe tbody tr th:only-of-type {\n",
              "        vertical-align: middle;\n",
              "    }\n",
              "\n",
              "    .dataframe tbody tr th {\n",
              "        vertical-align: top;\n",
              "    }\n",
              "\n",
              "    .dataframe thead th {\n",
              "        text-align: right;\n",
              "    }\n",
              "</style>\n",
              "<table border=\"1\" class=\"dataframe\">\n",
              "  <thead>\n",
              "    <tr style=\"text-align: right;\">\n",
              "      <th>Matérias</th>\n",
              "      <th>Sicrano</th>\n",
              "      <th>Desvio</th>\n",
              "      <th>|Desvio|</th>\n",
              "    </tr>\n",
              "  </thead>\n",
              "  <tbody>\n",
              "    <tr>\n",
              "      <th>Matemática</th>\n",
              "      <td>7.5</td>\n",
              "      <td>-0.214286</td>\n",
              "      <td>0.214286</td>\n",
              "    </tr>\n",
              "    <tr>\n",
              "      <th>Português</th>\n",
              "      <td>8.0</td>\n",
              "      <td>0.285714</td>\n",
              "      <td>0.285714</td>\n",
              "    </tr>\n",
              "    <tr>\n",
              "      <th>Inglês</th>\n",
              "      <td>7.0</td>\n",
              "      <td>-0.714286</td>\n",
              "      <td>0.714286</td>\n",
              "    </tr>\n",
              "    <tr>\n",
              "      <th>Geografia</th>\n",
              "      <td>8.0</td>\n",
              "      <td>0.285714</td>\n",
              "      <td>0.285714</td>\n",
              "    </tr>\n",
              "    <tr>\n",
              "      <th>História</th>\n",
              "      <td>8.0</td>\n",
              "      <td>0.285714</td>\n",
              "      <td>0.285714</td>\n",
              "    </tr>\n",
              "    <tr>\n",
              "      <th>Física</th>\n",
              "      <td>8.5</td>\n",
              "      <td>0.785714</td>\n",
              "      <td>0.785714</td>\n",
              "    </tr>\n",
              "    <tr>\n",
              "      <th>Química</th>\n",
              "      <td>7.0</td>\n",
              "      <td>-0.714286</td>\n",
              "      <td>0.714286</td>\n",
              "    </tr>\n",
              "  </tbody>\n",
              "</table>\n",
              "</div>\n",
              "      <button class=\"colab-df-convert\" onclick=\"convertToInteractive('df-2969b9c9-a550-4c5d-8099-ce9a61aa4b68')\"\n",
              "              title=\"Convert this dataframe to an interactive table.\"\n",
              "              style=\"display:none;\">\n",
              "        \n",
              "  <svg xmlns=\"http://www.w3.org/2000/svg\" height=\"24px\"viewBox=\"0 0 24 24\"\n",
              "       width=\"24px\">\n",
              "    <path d=\"M0 0h24v24H0V0z\" fill=\"none\"/>\n",
              "    <path d=\"M18.56 5.44l.94 2.06.94-2.06 2.06-.94-2.06-.94-.94-2.06-.94 2.06-2.06.94zm-11 1L8.5 8.5l.94-2.06 2.06-.94-2.06-.94L8.5 2.5l-.94 2.06-2.06.94zm10 10l.94 2.06.94-2.06 2.06-.94-2.06-.94-.94-2.06-.94 2.06-2.06.94z\"/><path d=\"M17.41 7.96l-1.37-1.37c-.4-.4-.92-.59-1.43-.59-.52 0-1.04.2-1.43.59L10.3 9.45l-7.72 7.72c-.78.78-.78 2.05 0 2.83L4 21.41c.39.39.9.59 1.41.59.51 0 1.02-.2 1.41-.59l7.78-7.78 2.81-2.81c.8-.78.8-2.07 0-2.86zM5.41 20L4 18.59l7.72-7.72 1.47 1.35L5.41 20z\"/>\n",
              "  </svg>\n",
              "      </button>\n",
              "      \n",
              "  <style>\n",
              "    .colab-df-container {\n",
              "      display:flex;\n",
              "      flex-wrap:wrap;\n",
              "      gap: 12px;\n",
              "    }\n",
              "\n",
              "    .colab-df-convert {\n",
              "      background-color: #E8F0FE;\n",
              "      border: none;\n",
              "      border-radius: 50%;\n",
              "      cursor: pointer;\n",
              "      display: none;\n",
              "      fill: #1967D2;\n",
              "      height: 32px;\n",
              "      padding: 0 0 0 0;\n",
              "      width: 32px;\n",
              "    }\n",
              "\n",
              "    .colab-df-convert:hover {\n",
              "      background-color: #E2EBFA;\n",
              "      box-shadow: 0px 1px 2px rgba(60, 64, 67, 0.3), 0px 1px 3px 1px rgba(60, 64, 67, 0.15);\n",
              "      fill: #174EA6;\n",
              "    }\n",
              "\n",
              "    [theme=dark] .colab-df-convert {\n",
              "      background-color: #3B4455;\n",
              "      fill: #D2E3FC;\n",
              "    }\n",
              "\n",
              "    [theme=dark] .colab-df-convert:hover {\n",
              "      background-color: #434B5C;\n",
              "      box-shadow: 0px 1px 3px 1px rgba(0, 0, 0, 0.15);\n",
              "      filter: drop-shadow(0px 1px 2px rgba(0, 0, 0, 0.3));\n",
              "      fill: #FFFFFF;\n",
              "    }\n",
              "  </style>\n",
              "\n",
              "      <script>\n",
              "        const buttonEl =\n",
              "          document.querySelector('#df-2969b9c9-a550-4c5d-8099-ce9a61aa4b68 button.colab-df-convert');\n",
              "        buttonEl.style.display =\n",
              "          google.colab.kernel.accessAllowed ? 'block' : 'none';\n",
              "\n",
              "        async function convertToInteractive(key) {\n",
              "          const element = document.querySelector('#df-2969b9c9-a550-4c5d-8099-ce9a61aa4b68');\n",
              "          const dataTable =\n",
              "            await google.colab.kernel.invokeFunction('convertToInteractive',\n",
              "                                                     [key], {});\n",
              "          if (!dataTable) return;\n",
              "\n",
              "          const docLinkHtml = 'Like what you see? Visit the ' +\n",
              "            '<a target=\"_blank\" href=https://colab.research.google.com/notebooks/data_table.ipynb>data table notebook</a>'\n",
              "            + ' to learn more about interactive tables.';\n",
              "          element.innerHTML = '';\n",
              "          dataTable['output_type'] = 'display_data';\n",
              "          await google.colab.output.renderOutput(dataTable, element);\n",
              "          const docLink = document.createElement('div');\n",
              "          docLink.innerHTML = docLinkHtml;\n",
              "          element.appendChild(docLink);\n",
              "        }\n",
              "      </script>\n",
              "    </div>\n",
              "  </div>\n",
              "  "
            ]
          },
          "metadata": {},
          "execution_count": 123
        }
      ]
    },
    {
      "cell_type": "code",
      "source": [
        "notas_sicrano['|Desvio|'].max()"
      ],
      "metadata": {
        "colab": {
          "base_uri": "https://localhost:8080/"
        },
        "id": "DogDxhgEygy8",
        "outputId": "fbdf389f-1746-4be5-fe09-0b12a6a6ffd8"
      },
      "execution_count": null,
      "outputs": [
        {
          "output_type": "execute_result",
          "data": {
            "text/plain": [
              "0.7857142857142856"
            ]
          },
          "metadata": {},
          "execution_count": 124
        }
      ]
    },
    {
      "cell_type": "code",
      "source": [
        "notas_sicrano['|Desvio|'].min()"
      ],
      "metadata": {
        "colab": {
          "base_uri": "https://localhost:8080/"
        },
        "id": "d9S7ydqBygwn",
        "outputId": "1af3f505-3431-4cae-f570-644952e10343"
      },
      "execution_count": null,
      "outputs": [
        {
          "output_type": "execute_result",
          "data": {
            "text/plain": [
              "0.2142857142857144"
            ]
          },
          "metadata": {},
          "execution_count": 125
        }
      ]
    },
    {
      "cell_type": "code",
      "source": [
        "notas_sicrano['|Desvio|']"
      ],
      "metadata": {
        "colab": {
          "base_uri": "https://localhost:8080/"
        },
        "id": "8jT-hIoANx6q",
        "outputId": "57931d1a-3927-4bc9-a8d7-41236b5730ba"
      },
      "execution_count": null,
      "outputs": [
        {
          "output_type": "execute_result",
          "data": {
            "text/plain": [
              "Matemática    0.214286\n",
              "Português     0.285714\n",
              "Inglês        0.714286\n",
              "Geografia     0.285714\n",
              "História      0.285714\n",
              "Física        0.785714\n",
              "Química       0.714286\n",
              "Name: |Desvio|, dtype: float64"
            ]
          },
          "metadata": {},
          "execution_count": 126
        }
      ]
    },
    {
      "cell_type": "code",
      "source": [
        "notas_sicrano['Sicrano'].mad()"
      ],
      "metadata": {
        "colab": {
          "base_uri": "https://localhost:8080/"
        },
        "id": "PcHjW4O4ygm_",
        "outputId": "5d210f8f-11a0-4054-d093-20c07ca39f15"
      },
      "execution_count": null,
      "outputs": [
        {
          "output_type": "execute_result",
          "data": {
            "text/plain": [
              "0.4693877551020408"
            ]
          },
          "metadata": {},
          "execution_count": 127
        }
      ]
    },
    {
      "cell_type": "markdown",
      "metadata": {
        "id": "jSKfnKwEjQNW"
      },
      "source": [
        "## <font color=green>5.2 Variância</font>\n",
        "***"
      ]
    },
    {
      "cell_type": "markdown",
      "metadata": {
        "id": "tHD3yNqzjQNW"
      },
      "source": [
        "### Variância\n",
        "\n",
        "A variância é construída a partir das diferenças entre cada observação e a média dos dados, ou seja, o desvio em torno da média. No cálculo da variância, os desvios em torno da média são elevados ao quadrado."
      ]
    },
    {
      "cell_type": "markdown",
      "metadata": {
        "id": "WrCn9hw0jQNX"
      },
      "source": [
        "### Variância populacional\n",
        "\n",
        "# $$\\sigma^2 = \\frac 1n\\sum_{i=1}^{n}(X_i-\\mu)^2$$"
      ]
    },
    {
      "cell_type": "markdown",
      "metadata": {
        "id": "jV5mQT_djQNX"
      },
      "source": [
        "### Variância amostral\n",
        "\n",
        "# $$S^2 = \\frac 1{n-1}\\sum_{i=1}^{n}(X_i-\\bar{X})^2$$"
      ]
    },
    {
      "cell_type": "code",
      "execution_count": null,
      "metadata": {
        "id": "4tlbCQeujQNZ",
        "colab": {
          "base_uri": "https://localhost:8080/",
          "height": 269
        },
        "outputId": "88e5b314-bc82-4653-eb9f-34e287047f41"
      },
      "outputs": [
        {
          "output_type": "execute_result",
          "data": {
            "text/plain": [
              "Matérias    Fulano    Desvio  |Desvio|  (Desvio)^2\n",
              "Matemática       8  0.285714  0.285714    0.081633\n",
              "Português       10  2.285714  2.285714    5.224490\n",
              "Inglês           4 -3.714286  3.714286   13.795918\n",
              "Geografia        8  0.285714  0.285714    0.081633\n",
              "História         6 -1.714286  1.714286    2.938776\n",
              "Física          10  2.285714  2.285714    5.224490\n",
              "Química          8  0.285714  0.285714    0.081633"
            ],
            "text/html": [
              "\n",
              "  <div id=\"df-d0127ec8-2347-4eb4-b24c-6cf678f67ced\">\n",
              "    <div class=\"colab-df-container\">\n",
              "      <div>\n",
              "<style scoped>\n",
              "    .dataframe tbody tr th:only-of-type {\n",
              "        vertical-align: middle;\n",
              "    }\n",
              "\n",
              "    .dataframe tbody tr th {\n",
              "        vertical-align: top;\n",
              "    }\n",
              "\n",
              "    .dataframe thead th {\n",
              "        text-align: right;\n",
              "    }\n",
              "</style>\n",
              "<table border=\"1\" class=\"dataframe\">\n",
              "  <thead>\n",
              "    <tr style=\"text-align: right;\">\n",
              "      <th>Matérias</th>\n",
              "      <th>Fulano</th>\n",
              "      <th>Desvio</th>\n",
              "      <th>|Desvio|</th>\n",
              "      <th>(Desvio)^2</th>\n",
              "    </tr>\n",
              "  </thead>\n",
              "  <tbody>\n",
              "    <tr>\n",
              "      <th>Matemática</th>\n",
              "      <td>8</td>\n",
              "      <td>0.285714</td>\n",
              "      <td>0.285714</td>\n",
              "      <td>0.081633</td>\n",
              "    </tr>\n",
              "    <tr>\n",
              "      <th>Português</th>\n",
              "      <td>10</td>\n",
              "      <td>2.285714</td>\n",
              "      <td>2.285714</td>\n",
              "      <td>5.224490</td>\n",
              "    </tr>\n",
              "    <tr>\n",
              "      <th>Inglês</th>\n",
              "      <td>4</td>\n",
              "      <td>-3.714286</td>\n",
              "      <td>3.714286</td>\n",
              "      <td>13.795918</td>\n",
              "    </tr>\n",
              "    <tr>\n",
              "      <th>Geografia</th>\n",
              "      <td>8</td>\n",
              "      <td>0.285714</td>\n",
              "      <td>0.285714</td>\n",
              "      <td>0.081633</td>\n",
              "    </tr>\n",
              "    <tr>\n",
              "      <th>História</th>\n",
              "      <td>6</td>\n",
              "      <td>-1.714286</td>\n",
              "      <td>1.714286</td>\n",
              "      <td>2.938776</td>\n",
              "    </tr>\n",
              "    <tr>\n",
              "      <th>Física</th>\n",
              "      <td>10</td>\n",
              "      <td>2.285714</td>\n",
              "      <td>2.285714</td>\n",
              "      <td>5.224490</td>\n",
              "    </tr>\n",
              "    <tr>\n",
              "      <th>Química</th>\n",
              "      <td>8</td>\n",
              "      <td>0.285714</td>\n",
              "      <td>0.285714</td>\n",
              "      <td>0.081633</td>\n",
              "    </tr>\n",
              "  </tbody>\n",
              "</table>\n",
              "</div>\n",
              "      <button class=\"colab-df-convert\" onclick=\"convertToInteractive('df-d0127ec8-2347-4eb4-b24c-6cf678f67ced')\"\n",
              "              title=\"Convert this dataframe to an interactive table.\"\n",
              "              style=\"display:none;\">\n",
              "        \n",
              "  <svg xmlns=\"http://www.w3.org/2000/svg\" height=\"24px\"viewBox=\"0 0 24 24\"\n",
              "       width=\"24px\">\n",
              "    <path d=\"M0 0h24v24H0V0z\" fill=\"none\"/>\n",
              "    <path d=\"M18.56 5.44l.94 2.06.94-2.06 2.06-.94-2.06-.94-.94-2.06-.94 2.06-2.06.94zm-11 1L8.5 8.5l.94-2.06 2.06-.94-2.06-.94L8.5 2.5l-.94 2.06-2.06.94zm10 10l.94 2.06.94-2.06 2.06-.94-2.06-.94-.94-2.06-.94 2.06-2.06.94z\"/><path d=\"M17.41 7.96l-1.37-1.37c-.4-.4-.92-.59-1.43-.59-.52 0-1.04.2-1.43.59L10.3 9.45l-7.72 7.72c-.78.78-.78 2.05 0 2.83L4 21.41c.39.39.9.59 1.41.59.51 0 1.02-.2 1.41-.59l7.78-7.78 2.81-2.81c.8-.78.8-2.07 0-2.86zM5.41 20L4 18.59l7.72-7.72 1.47 1.35L5.41 20z\"/>\n",
              "  </svg>\n",
              "      </button>\n",
              "      \n",
              "  <style>\n",
              "    .colab-df-container {\n",
              "      display:flex;\n",
              "      flex-wrap:wrap;\n",
              "      gap: 12px;\n",
              "    }\n",
              "\n",
              "    .colab-df-convert {\n",
              "      background-color: #E8F0FE;\n",
              "      border: none;\n",
              "      border-radius: 50%;\n",
              "      cursor: pointer;\n",
              "      display: none;\n",
              "      fill: #1967D2;\n",
              "      height: 32px;\n",
              "      padding: 0 0 0 0;\n",
              "      width: 32px;\n",
              "    }\n",
              "\n",
              "    .colab-df-convert:hover {\n",
              "      background-color: #E2EBFA;\n",
              "      box-shadow: 0px 1px 2px rgba(60, 64, 67, 0.3), 0px 1px 3px 1px rgba(60, 64, 67, 0.15);\n",
              "      fill: #174EA6;\n",
              "    }\n",
              "\n",
              "    [theme=dark] .colab-df-convert {\n",
              "      background-color: #3B4455;\n",
              "      fill: #D2E3FC;\n",
              "    }\n",
              "\n",
              "    [theme=dark] .colab-df-convert:hover {\n",
              "      background-color: #434B5C;\n",
              "      box-shadow: 0px 1px 3px 1px rgba(0, 0, 0, 0.15);\n",
              "      filter: drop-shadow(0px 1px 2px rgba(0, 0, 0, 0.3));\n",
              "      fill: #FFFFFF;\n",
              "    }\n",
              "  </style>\n",
              "\n",
              "      <script>\n",
              "        const buttonEl =\n",
              "          document.querySelector('#df-d0127ec8-2347-4eb4-b24c-6cf678f67ced button.colab-df-convert');\n",
              "        buttonEl.style.display =\n",
              "          google.colab.kernel.accessAllowed ? 'block' : 'none';\n",
              "\n",
              "        async function convertToInteractive(key) {\n",
              "          const element = document.querySelector('#df-d0127ec8-2347-4eb4-b24c-6cf678f67ced');\n",
              "          const dataTable =\n",
              "            await google.colab.kernel.invokeFunction('convertToInteractive',\n",
              "                                                     [key], {});\n",
              "          if (!dataTable) return;\n",
              "\n",
              "          const docLinkHtml = 'Like what you see? Visit the ' +\n",
              "            '<a target=\"_blank\" href=https://colab.research.google.com/notebooks/data_table.ipynb>data table notebook</a>'\n",
              "            + ' to learn more about interactive tables.';\n",
              "          element.innerHTML = '';\n",
              "          dataTable['output_type'] = 'display_data';\n",
              "          await google.colab.output.renderOutput(dataTable, element);\n",
              "          const docLink = document.createElement('div');\n",
              "          docLink.innerHTML = docLinkHtml;\n",
              "          element.appendChild(docLink);\n",
              "        }\n",
              "      </script>\n",
              "    </div>\n",
              "  </div>\n",
              "  "
            ]
          },
          "metadata": {},
          "execution_count": 128
        }
      ],
      "source": [
        "notas_fulano['(Desvio)^2'] = notas_fulano['Desvio'].pow(2)\n",
        "notas_fulano"
      ]
    },
    {
      "cell_type": "code",
      "execution_count": null,
      "metadata": {
        "id": "oCcAfoIOjQNa",
        "colab": {
          "base_uri": "https://localhost:8080/"
        },
        "outputId": "00ab84f1-e74b-43ed-acca-72c4025b964f"
      },
      "outputs": [
        {
          "output_type": "execute_result",
          "data": {
            "text/plain": [
              "4.57142857142857"
            ]
          },
          "metadata": {},
          "execution_count": 129
        }
      ],
      "source": [
        "notas_fulano['(Desvio)^2'].sum() / (len(notas_fulano) - 1)"
      ]
    },
    {
      "cell_type": "code",
      "source": [
        "variancia = notas_fulano['Fulano'].var()\n",
        "variancia"
      ],
      "metadata": {
        "colab": {
          "base_uri": "https://localhost:8080/"
        },
        "id": "CQmvhaVa6VTQ",
        "outputId": "664fc2c7-9570-4b1f-86de-c0b76d95bae8"
      },
      "execution_count": null,
      "outputs": [
        {
          "output_type": "execute_result",
          "data": {
            "text/plain": [
              "4.57142857142857"
            ]
          },
          "metadata": {},
          "execution_count": 130
        }
      ]
    },
    {
      "cell_type": "markdown",
      "metadata": {
        "id": "wQl_CsytjQNg"
      },
      "source": [
        "## <font color=green>5.3 Desvio padrão</font>\n",
        "***\n",
        "\n",
        "Uma das restrições da variância é o fato de fornecer medidas em quadrados das unidades originais - a variância de medidas de comprimento, por exemplo, é em unidades de área. Logo, o fato de as unidades serem diferentes dificulta a comparação da dispersão com as variáveis que a definem. Um modo de eliminar essa dificuldade é considerar sua raiz quadrada."
      ]
    },
    {
      "cell_type": "markdown",
      "metadata": {
        "id": "X9w1Iqt3jQNg"
      },
      "source": [
        "### Desvio padrão populacional\n",
        "\n",
        "# $$\\sigma = \\sqrt{\\frac 1n\\sum_{i=1}^{n}(X_i-\\mu)^2} \\Longrightarrow \\sigma = \\sqrt{\\sigma^2}$$"
      ]
    },
    {
      "cell_type": "markdown",
      "metadata": {
        "id": "D3J4MvMpjQNg"
      },
      "source": [
        "### Desvio padrão amostral\n",
        "\n",
        "# $$S = \\sqrt{\\frac 1{n-1}\\sum_{i=1}^{n}(X_i-\\bar{X})^2} \\Longrightarrow S = \\sqrt{S^2}$$"
      ]
    },
    {
      "cell_type": "code",
      "execution_count": null,
      "metadata": {
        "id": "2di6iLFaSPda",
        "colab": {
          "base_uri": "https://localhost:8080/"
        },
        "outputId": "29ee1175-c9fd-4b97-eef6-d272c4389d2c"
      },
      "outputs": [
        {
          "output_type": "execute_result",
          "data": {
            "text/plain": [
              "2.1380899352993947"
            ]
          },
          "metadata": {},
          "execution_count": 131
        }
      ],
      "source": [
        "np.sqrt(variancia)"
      ]
    },
    {
      "cell_type": "code",
      "execution_count": null,
      "metadata": {
        "id": "BMTx9yKHSPON",
        "colab": {
          "base_uri": "https://localhost:8080/"
        },
        "outputId": "bc28c075-ea61-4d5c-db2c-b5a5b4d1871c"
      },
      "outputs": [
        {
          "output_type": "execute_result",
          "data": {
            "text/plain": [
              "2.1380899352993947"
            ]
          },
          "metadata": {},
          "execution_count": 132
        }
      ],
      "source": [
        "desvio_padrao = notas_fulano['Fulano'].std()\n",
        "desvio_padrao"
      ]
    },
    {
      "cell_type": "code",
      "execution_count": null,
      "metadata": {
        "id": "_PeQtqbdjQNh",
        "colab": {
          "base_uri": "https://localhost:8080/",
          "height": 269
        },
        "outputId": "d04a312c-376d-46c2-c890-67abf0e502a7"
      },
      "outputs": [
        {
          "output_type": "execute_result",
          "data": {
            "text/plain": [
              "Matérias    Fulano  Sicrano\n",
              "Matemática       8      7.5\n",
              "Português       10      8.0\n",
              "Inglês           4      7.0\n",
              "Geografia        8      8.0\n",
              "História         6      8.0\n",
              "Física          10      8.5\n",
              "Química          8      7.0"
            ],
            "text/html": [
              "\n",
              "  <div id=\"df-c86d9314-41b7-4357-a358-ae9c958d79df\">\n",
              "    <div class=\"colab-df-container\">\n",
              "      <div>\n",
              "<style scoped>\n",
              "    .dataframe tbody tr th:only-of-type {\n",
              "        vertical-align: middle;\n",
              "    }\n",
              "\n",
              "    .dataframe tbody tr th {\n",
              "        vertical-align: top;\n",
              "    }\n",
              "\n",
              "    .dataframe thead th {\n",
              "        text-align: right;\n",
              "    }\n",
              "</style>\n",
              "<table border=\"1\" class=\"dataframe\">\n",
              "  <thead>\n",
              "    <tr style=\"text-align: right;\">\n",
              "      <th>Matérias</th>\n",
              "      <th>Fulano</th>\n",
              "      <th>Sicrano</th>\n",
              "    </tr>\n",
              "  </thead>\n",
              "  <tbody>\n",
              "    <tr>\n",
              "      <th>Matemática</th>\n",
              "      <td>8</td>\n",
              "      <td>7.5</td>\n",
              "    </tr>\n",
              "    <tr>\n",
              "      <th>Português</th>\n",
              "      <td>10</td>\n",
              "      <td>8.0</td>\n",
              "    </tr>\n",
              "    <tr>\n",
              "      <th>Inglês</th>\n",
              "      <td>4</td>\n",
              "      <td>7.0</td>\n",
              "    </tr>\n",
              "    <tr>\n",
              "      <th>Geografia</th>\n",
              "      <td>8</td>\n",
              "      <td>8.0</td>\n",
              "    </tr>\n",
              "    <tr>\n",
              "      <th>História</th>\n",
              "      <td>6</td>\n",
              "      <td>8.0</td>\n",
              "    </tr>\n",
              "    <tr>\n",
              "      <th>Física</th>\n",
              "      <td>10</td>\n",
              "      <td>8.5</td>\n",
              "    </tr>\n",
              "    <tr>\n",
              "      <th>Química</th>\n",
              "      <td>8</td>\n",
              "      <td>7.0</td>\n",
              "    </tr>\n",
              "  </tbody>\n",
              "</table>\n",
              "</div>\n",
              "      <button class=\"colab-df-convert\" onclick=\"convertToInteractive('df-c86d9314-41b7-4357-a358-ae9c958d79df')\"\n",
              "              title=\"Convert this dataframe to an interactive table.\"\n",
              "              style=\"display:none;\">\n",
              "        \n",
              "  <svg xmlns=\"http://www.w3.org/2000/svg\" height=\"24px\"viewBox=\"0 0 24 24\"\n",
              "       width=\"24px\">\n",
              "    <path d=\"M0 0h24v24H0V0z\" fill=\"none\"/>\n",
              "    <path d=\"M18.56 5.44l.94 2.06.94-2.06 2.06-.94-2.06-.94-.94-2.06-.94 2.06-2.06.94zm-11 1L8.5 8.5l.94-2.06 2.06-.94-2.06-.94L8.5 2.5l-.94 2.06-2.06.94zm10 10l.94 2.06.94-2.06 2.06-.94-2.06-.94-.94-2.06-.94 2.06-2.06.94z\"/><path d=\"M17.41 7.96l-1.37-1.37c-.4-.4-.92-.59-1.43-.59-.52 0-1.04.2-1.43.59L10.3 9.45l-7.72 7.72c-.78.78-.78 2.05 0 2.83L4 21.41c.39.39.9.59 1.41.59.51 0 1.02-.2 1.41-.59l7.78-7.78 2.81-2.81c.8-.78.8-2.07 0-2.86zM5.41 20L4 18.59l7.72-7.72 1.47 1.35L5.41 20z\"/>\n",
              "  </svg>\n",
              "      </button>\n",
              "      \n",
              "  <style>\n",
              "    .colab-df-container {\n",
              "      display:flex;\n",
              "      flex-wrap:wrap;\n",
              "      gap: 12px;\n",
              "    }\n",
              "\n",
              "    .colab-df-convert {\n",
              "      background-color: #E8F0FE;\n",
              "      border: none;\n",
              "      border-radius: 50%;\n",
              "      cursor: pointer;\n",
              "      display: none;\n",
              "      fill: #1967D2;\n",
              "      height: 32px;\n",
              "      padding: 0 0 0 0;\n",
              "      width: 32px;\n",
              "    }\n",
              "\n",
              "    .colab-df-convert:hover {\n",
              "      background-color: #E2EBFA;\n",
              "      box-shadow: 0px 1px 2px rgba(60, 64, 67, 0.3), 0px 1px 3px 1px rgba(60, 64, 67, 0.15);\n",
              "      fill: #174EA6;\n",
              "    }\n",
              "\n",
              "    [theme=dark] .colab-df-convert {\n",
              "      background-color: #3B4455;\n",
              "      fill: #D2E3FC;\n",
              "    }\n",
              "\n",
              "    [theme=dark] .colab-df-convert:hover {\n",
              "      background-color: #434B5C;\n",
              "      box-shadow: 0px 1px 3px 1px rgba(0, 0, 0, 0.15);\n",
              "      filter: drop-shadow(0px 1px 2px rgba(0, 0, 0, 0.3));\n",
              "      fill: #FFFFFF;\n",
              "    }\n",
              "  </style>\n",
              "\n",
              "      <script>\n",
              "        const buttonEl =\n",
              "          document.querySelector('#df-c86d9314-41b7-4357-a358-ae9c958d79df button.colab-df-convert');\n",
              "        buttonEl.style.display =\n",
              "          google.colab.kernel.accessAllowed ? 'block' : 'none';\n",
              "\n",
              "        async function convertToInteractive(key) {\n",
              "          const element = document.querySelector('#df-c86d9314-41b7-4357-a358-ae9c958d79df');\n",
              "          const dataTable =\n",
              "            await google.colab.kernel.invokeFunction('convertToInteractive',\n",
              "                                                     [key], {});\n",
              "          if (!dataTable) return;\n",
              "\n",
              "          const docLinkHtml = 'Like what you see? Visit the ' +\n",
              "            '<a target=\"_blank\" href=https://colab.research.google.com/notebooks/data_table.ipynb>data table notebook</a>'\n",
              "            + ' to learn more about interactive tables.';\n",
              "          element.innerHTML = '';\n",
              "          dataTable['output_type'] = 'display_data';\n",
              "          await google.colab.output.renderOutput(dataTable, element);\n",
              "          const docLink = document.createElement('div');\n",
              "          docLink.innerHTML = docLinkHtml;\n",
              "          element.appendChild(docLink);\n",
              "        }\n",
              "      </script>\n",
              "    </div>\n",
              "  </div>\n",
              "  "
            ]
          },
          "metadata": {},
          "execution_count": 133
        }
      ],
      "source": [
        "df"
      ]
    },
    {
      "cell_type": "code",
      "execution_count": null,
      "metadata": {
        "id": "5LYOKy25jQNi",
        "colab": {
          "base_uri": "https://localhost:8080/"
        },
        "outputId": "8449f285-6b48-4b28-9d15-d6c0e6bdf73a"
      },
      "outputs": [
        {
          "output_type": "execute_result",
          "data": {
            "text/plain": [
              "Matérias\n",
              "Fulano     7.714286\n",
              "Sicrano    7.714286\n",
              "dtype: float64"
            ]
          },
          "metadata": {},
          "execution_count": 134
        }
      ],
      "source": [
        "df.mean()"
      ]
    },
    {
      "cell_type": "code",
      "execution_count": null,
      "metadata": {
        "id": "FfcyfSkFjQNj",
        "colab": {
          "base_uri": "https://localhost:8080/"
        },
        "outputId": "f5a4112b-e39d-4adc-f5f7-59f509ce77d8"
      },
      "outputs": [
        {
          "output_type": "execute_result",
          "data": {
            "text/plain": [
              "Matérias\n",
              "Fulano     8.0\n",
              "Sicrano    8.0\n",
              "dtype: float64"
            ]
          },
          "metadata": {},
          "execution_count": 135
        }
      ],
      "source": [
        "df.median()"
      ]
    },
    {
      "cell_type": "code",
      "execution_count": null,
      "metadata": {
        "id": "G8vorygCjQNk",
        "colab": {
          "base_uri": "https://localhost:8080/",
          "height": 81
        },
        "outputId": "de5b5e8d-6050-4071-8dda-cbbeb051546c"
      },
      "outputs": [
        {
          "output_type": "execute_result",
          "data": {
            "text/plain": [
              "Matérias  Fulano  Sicrano\n",
              "0              8      8.0"
            ],
            "text/html": [
              "\n",
              "  <div id=\"df-4bac5678-3b8b-4197-986a-3106224784c3\">\n",
              "    <div class=\"colab-df-container\">\n",
              "      <div>\n",
              "<style scoped>\n",
              "    .dataframe tbody tr th:only-of-type {\n",
              "        vertical-align: middle;\n",
              "    }\n",
              "\n",
              "    .dataframe tbody tr th {\n",
              "        vertical-align: top;\n",
              "    }\n",
              "\n",
              "    .dataframe thead th {\n",
              "        text-align: right;\n",
              "    }\n",
              "</style>\n",
              "<table border=\"1\" class=\"dataframe\">\n",
              "  <thead>\n",
              "    <tr style=\"text-align: right;\">\n",
              "      <th>Matérias</th>\n",
              "      <th>Fulano</th>\n",
              "      <th>Sicrano</th>\n",
              "    </tr>\n",
              "  </thead>\n",
              "  <tbody>\n",
              "    <tr>\n",
              "      <th>0</th>\n",
              "      <td>8</td>\n",
              "      <td>8.0</td>\n",
              "    </tr>\n",
              "  </tbody>\n",
              "</table>\n",
              "</div>\n",
              "      <button class=\"colab-df-convert\" onclick=\"convertToInteractive('df-4bac5678-3b8b-4197-986a-3106224784c3')\"\n",
              "              title=\"Convert this dataframe to an interactive table.\"\n",
              "              style=\"display:none;\">\n",
              "        \n",
              "  <svg xmlns=\"http://www.w3.org/2000/svg\" height=\"24px\"viewBox=\"0 0 24 24\"\n",
              "       width=\"24px\">\n",
              "    <path d=\"M0 0h24v24H0V0z\" fill=\"none\"/>\n",
              "    <path d=\"M18.56 5.44l.94 2.06.94-2.06 2.06-.94-2.06-.94-.94-2.06-.94 2.06-2.06.94zm-11 1L8.5 8.5l.94-2.06 2.06-.94-2.06-.94L8.5 2.5l-.94 2.06-2.06.94zm10 10l.94 2.06.94-2.06 2.06-.94-2.06-.94-.94-2.06-.94 2.06-2.06.94z\"/><path d=\"M17.41 7.96l-1.37-1.37c-.4-.4-.92-.59-1.43-.59-.52 0-1.04.2-1.43.59L10.3 9.45l-7.72 7.72c-.78.78-.78 2.05 0 2.83L4 21.41c.39.39.9.59 1.41.59.51 0 1.02-.2 1.41-.59l7.78-7.78 2.81-2.81c.8-.78.8-2.07 0-2.86zM5.41 20L4 18.59l7.72-7.72 1.47 1.35L5.41 20z\"/>\n",
              "  </svg>\n",
              "      </button>\n",
              "      \n",
              "  <style>\n",
              "    .colab-df-container {\n",
              "      display:flex;\n",
              "      flex-wrap:wrap;\n",
              "      gap: 12px;\n",
              "    }\n",
              "\n",
              "    .colab-df-convert {\n",
              "      background-color: #E8F0FE;\n",
              "      border: none;\n",
              "      border-radius: 50%;\n",
              "      cursor: pointer;\n",
              "      display: none;\n",
              "      fill: #1967D2;\n",
              "      height: 32px;\n",
              "      padding: 0 0 0 0;\n",
              "      width: 32px;\n",
              "    }\n",
              "\n",
              "    .colab-df-convert:hover {\n",
              "      background-color: #E2EBFA;\n",
              "      box-shadow: 0px 1px 2px rgba(60, 64, 67, 0.3), 0px 1px 3px 1px rgba(60, 64, 67, 0.15);\n",
              "      fill: #174EA6;\n",
              "    }\n",
              "\n",
              "    [theme=dark] .colab-df-convert {\n",
              "      background-color: #3B4455;\n",
              "      fill: #D2E3FC;\n",
              "    }\n",
              "\n",
              "    [theme=dark] .colab-df-convert:hover {\n",
              "      background-color: #434B5C;\n",
              "      box-shadow: 0px 1px 3px 1px rgba(0, 0, 0, 0.15);\n",
              "      filter: drop-shadow(0px 1px 2px rgba(0, 0, 0, 0.3));\n",
              "      fill: #FFFFFF;\n",
              "    }\n",
              "  </style>\n",
              "\n",
              "      <script>\n",
              "        const buttonEl =\n",
              "          document.querySelector('#df-4bac5678-3b8b-4197-986a-3106224784c3 button.colab-df-convert');\n",
              "        buttonEl.style.display =\n",
              "          google.colab.kernel.accessAllowed ? 'block' : 'none';\n",
              "\n",
              "        async function convertToInteractive(key) {\n",
              "          const element = document.querySelector('#df-4bac5678-3b8b-4197-986a-3106224784c3');\n",
              "          const dataTable =\n",
              "            await google.colab.kernel.invokeFunction('convertToInteractive',\n",
              "                                                     [key], {});\n",
              "          if (!dataTable) return;\n",
              "\n",
              "          const docLinkHtml = 'Like what you see? Visit the ' +\n",
              "            '<a target=\"_blank\" href=https://colab.research.google.com/notebooks/data_table.ipynb>data table notebook</a>'\n",
              "            + ' to learn more about interactive tables.';\n",
              "          element.innerHTML = '';\n",
              "          dataTable['output_type'] = 'display_data';\n",
              "          await google.colab.output.renderOutput(dataTable, element);\n",
              "          const docLink = document.createElement('div');\n",
              "          docLink.innerHTML = docLinkHtml;\n",
              "          element.appendChild(docLink);\n",
              "        }\n",
              "      </script>\n",
              "    </div>\n",
              "  </div>\n",
              "  "
            ]
          },
          "metadata": {},
          "execution_count": 136
        }
      ],
      "source": [
        "df.mode()"
      ]
    },
    {
      "cell_type": "code",
      "execution_count": null,
      "metadata": {
        "id": "01op3BEvjQNl",
        "colab": {
          "base_uri": "https://localhost:8080/"
        },
        "outputId": "8bbae640-c530-4188-c5d4-4fb6edf9b478"
      },
      "outputs": [
        {
          "output_type": "execute_result",
          "data": {
            "text/plain": [
              "Matérias\n",
              "Fulano     2.138090\n",
              "Sicrano    0.566947\n",
              "dtype: float64"
            ]
          },
          "metadata": {},
          "execution_count": 137
        }
      ],
      "source": [
        "df.std()"
      ]
    },
    {
      "cell_type": "code",
      "source": [
        "df.mad()"
      ],
      "metadata": {
        "colab": {
          "base_uri": "https://localhost:8080/"
        },
        "id": "CPI8DLP1kIwh",
        "outputId": "c720b6b7-219f-40b2-ae95-1b4a8073f943"
      },
      "execution_count": null,
      "outputs": [
        {
          "output_type": "execute_result",
          "data": {
            "text/plain": [
              "Matérias\n",
              "Fulano     1.551020\n",
              "Sicrano    0.469388\n",
              "dtype: float64"
            ]
          },
          "metadata": {},
          "execution_count": 145
        }
      ]
    },
    {
      "cell_type": "markdown",
      "source": [
        "# **Exercicio**\n",
        "\n",
        "Considere o dataset abaixo:\n",
        "\n",
        "```\n",
        "dataset = pd.DataFrame({\n",
        "    'Sexo': ['H', 'M', 'M', 'M', 'M', 'H', 'H', 'H', 'M', 'M'],\n",
        "    'Idade': [53, 72, 54, 27, 30, 40, 58, 32, 44, 51]\n",
        "})\n",
        "```"
      ],
      "metadata": {
        "id": "tWV7gQHW_ybp"
      }
    },
    {
      "cell_type": "markdown",
      "source": [
        "Observação: Na variável Sexo, 'H' representa os homens e 'M' as mulheres.\n",
        "\n",
        "Assinale a alternativa que apresenta o valor do desvio padrão da variável Idade."
      ],
      "metadata": {
        "id": "LvhYFOBo_9mZ"
      }
    },
    {
      "cell_type": "markdown",
      "source": [
        "Resposta:"
      ],
      "metadata": {
        "id": "Kp6m8DZjAeH5"
      }
    },
    {
      "cell_type": "code",
      "source": [
        "dataset = pd.DataFrame({\n",
        "    'Sexo': ['H', 'M', 'M', 'M', 'M', 'H', 'H', 'H', 'M', 'M'],\n",
        "    'Idade': [53, 72, 54, 27, 30, 40, 58, 32, 44, 51]\n",
        "})\n",
        "dataset"
      ],
      "metadata": {
        "colab": {
          "base_uri": "https://localhost:8080/",
          "height": 363
        },
        "id": "S5UZ0L_v__p_",
        "outputId": "ce467218-0656-438e-9d68-df09621d5f53"
      },
      "execution_count": null,
      "outputs": [
        {
          "output_type": "execute_result",
          "data": {
            "text/plain": [
              "  Sexo  Idade\n",
              "0    H     53\n",
              "1    M     72\n",
              "2    M     54\n",
              "3    M     27\n",
              "4    M     30\n",
              "5    H     40\n",
              "6    H     58\n",
              "7    H     32\n",
              "8    M     44\n",
              "9    M     51"
            ],
            "text/html": [
              "\n",
              "  <div id=\"df-9d2fa6e1-e01e-4c12-bd84-6c723ec454bf\">\n",
              "    <div class=\"colab-df-container\">\n",
              "      <div>\n",
              "<style scoped>\n",
              "    .dataframe tbody tr th:only-of-type {\n",
              "        vertical-align: middle;\n",
              "    }\n",
              "\n",
              "    .dataframe tbody tr th {\n",
              "        vertical-align: top;\n",
              "    }\n",
              "\n",
              "    .dataframe thead th {\n",
              "        text-align: right;\n",
              "    }\n",
              "</style>\n",
              "<table border=\"1\" class=\"dataframe\">\n",
              "  <thead>\n",
              "    <tr style=\"text-align: right;\">\n",
              "      <th></th>\n",
              "      <th>Sexo</th>\n",
              "      <th>Idade</th>\n",
              "    </tr>\n",
              "  </thead>\n",
              "  <tbody>\n",
              "    <tr>\n",
              "      <th>0</th>\n",
              "      <td>H</td>\n",
              "      <td>53</td>\n",
              "    </tr>\n",
              "    <tr>\n",
              "      <th>1</th>\n",
              "      <td>M</td>\n",
              "      <td>72</td>\n",
              "    </tr>\n",
              "    <tr>\n",
              "      <th>2</th>\n",
              "      <td>M</td>\n",
              "      <td>54</td>\n",
              "    </tr>\n",
              "    <tr>\n",
              "      <th>3</th>\n",
              "      <td>M</td>\n",
              "      <td>27</td>\n",
              "    </tr>\n",
              "    <tr>\n",
              "      <th>4</th>\n",
              "      <td>M</td>\n",
              "      <td>30</td>\n",
              "    </tr>\n",
              "    <tr>\n",
              "      <th>5</th>\n",
              "      <td>H</td>\n",
              "      <td>40</td>\n",
              "    </tr>\n",
              "    <tr>\n",
              "      <th>6</th>\n",
              "      <td>H</td>\n",
              "      <td>58</td>\n",
              "    </tr>\n",
              "    <tr>\n",
              "      <th>7</th>\n",
              "      <td>H</td>\n",
              "      <td>32</td>\n",
              "    </tr>\n",
              "    <tr>\n",
              "      <th>8</th>\n",
              "      <td>M</td>\n",
              "      <td>44</td>\n",
              "    </tr>\n",
              "    <tr>\n",
              "      <th>9</th>\n",
              "      <td>M</td>\n",
              "      <td>51</td>\n",
              "    </tr>\n",
              "  </tbody>\n",
              "</table>\n",
              "</div>\n",
              "      <button class=\"colab-df-convert\" onclick=\"convertToInteractive('df-9d2fa6e1-e01e-4c12-bd84-6c723ec454bf')\"\n",
              "              title=\"Convert this dataframe to an interactive table.\"\n",
              "              style=\"display:none;\">\n",
              "        \n",
              "  <svg xmlns=\"http://www.w3.org/2000/svg\" height=\"24px\"viewBox=\"0 0 24 24\"\n",
              "       width=\"24px\">\n",
              "    <path d=\"M0 0h24v24H0V0z\" fill=\"none\"/>\n",
              "    <path d=\"M18.56 5.44l.94 2.06.94-2.06 2.06-.94-2.06-.94-.94-2.06-.94 2.06-2.06.94zm-11 1L8.5 8.5l.94-2.06 2.06-.94-2.06-.94L8.5 2.5l-.94 2.06-2.06.94zm10 10l.94 2.06.94-2.06 2.06-.94-2.06-.94-.94-2.06-.94 2.06-2.06.94z\"/><path d=\"M17.41 7.96l-1.37-1.37c-.4-.4-.92-.59-1.43-.59-.52 0-1.04.2-1.43.59L10.3 9.45l-7.72 7.72c-.78.78-.78 2.05 0 2.83L4 21.41c.39.39.9.59 1.41.59.51 0 1.02-.2 1.41-.59l7.78-7.78 2.81-2.81c.8-.78.8-2.07 0-2.86zM5.41 20L4 18.59l7.72-7.72 1.47 1.35L5.41 20z\"/>\n",
              "  </svg>\n",
              "      </button>\n",
              "      \n",
              "  <style>\n",
              "    .colab-df-container {\n",
              "      display:flex;\n",
              "      flex-wrap:wrap;\n",
              "      gap: 12px;\n",
              "    }\n",
              "\n",
              "    .colab-df-convert {\n",
              "      background-color: #E8F0FE;\n",
              "      border: none;\n",
              "      border-radius: 50%;\n",
              "      cursor: pointer;\n",
              "      display: none;\n",
              "      fill: #1967D2;\n",
              "      height: 32px;\n",
              "      padding: 0 0 0 0;\n",
              "      width: 32px;\n",
              "    }\n",
              "\n",
              "    .colab-df-convert:hover {\n",
              "      background-color: #E2EBFA;\n",
              "      box-shadow: 0px 1px 2px rgba(60, 64, 67, 0.3), 0px 1px 3px 1px rgba(60, 64, 67, 0.15);\n",
              "      fill: #174EA6;\n",
              "    }\n",
              "\n",
              "    [theme=dark] .colab-df-convert {\n",
              "      background-color: #3B4455;\n",
              "      fill: #D2E3FC;\n",
              "    }\n",
              "\n",
              "    [theme=dark] .colab-df-convert:hover {\n",
              "      background-color: #434B5C;\n",
              "      box-shadow: 0px 1px 3px 1px rgba(0, 0, 0, 0.15);\n",
              "      filter: drop-shadow(0px 1px 2px rgba(0, 0, 0, 0.3));\n",
              "      fill: #FFFFFF;\n",
              "    }\n",
              "  </style>\n",
              "\n",
              "      <script>\n",
              "        const buttonEl =\n",
              "          document.querySelector('#df-9d2fa6e1-e01e-4c12-bd84-6c723ec454bf button.colab-df-convert');\n",
              "        buttonEl.style.display =\n",
              "          google.colab.kernel.accessAllowed ? 'block' : 'none';\n",
              "\n",
              "        async function convertToInteractive(key) {\n",
              "          const element = document.querySelector('#df-9d2fa6e1-e01e-4c12-bd84-6c723ec454bf');\n",
              "          const dataTable =\n",
              "            await google.colab.kernel.invokeFunction('convertToInteractive',\n",
              "                                                     [key], {});\n",
              "          if (!dataTable) return;\n",
              "\n",
              "          const docLinkHtml = 'Like what you see? Visit the ' +\n",
              "            '<a target=\"_blank\" href=https://colab.research.google.com/notebooks/data_table.ipynb>data table notebook</a>'\n",
              "            + ' to learn more about interactive tables.';\n",
              "          element.innerHTML = '';\n",
              "          dataTable['output_type'] = 'display_data';\n",
              "          await google.colab.output.renderOutput(dataTable, element);\n",
              "          const docLink = document.createElement('div');\n",
              "          docLink.innerHTML = docLinkHtml;\n",
              "          element.appendChild(docLink);\n",
              "        }\n",
              "      </script>\n",
              "    </div>\n",
              "  </div>\n",
              "  "
            ]
          },
          "metadata": {},
          "execution_count": 138
        }
      ]
    },
    {
      "cell_type": "code",
      "source": [
        "dataset['Idade'].std()"
      ],
      "metadata": {
        "colab": {
          "base_uri": "https://localhost:8080/"
        },
        "id": "TUtPt4E8AAzB",
        "outputId": "dfb2573e-ece3-40e2-c90b-354a29b096bf"
      },
      "execution_count": null,
      "outputs": [
        {
          "output_type": "execute_result",
          "data": {
            "text/plain": [
              "14.184890239656813"
            ]
          },
          "metadata": {},
          "execution_count": 139
        }
      ]
    },
    {
      "cell_type": "markdown",
      "source": [
        "# **Exercicio 2:**\n",
        "\n",
        "Considere o mesmo dataset do problema anterior:\n",
        "\n",
        "Assinale a alternativa que apresenta o valor do desvio padrão da variável Idade somente para as mulheres."
      ],
      "metadata": {
        "id": "P_FlIGrdAfxL"
      }
    },
    {
      "cell_type": "code",
      "source": [
        "dataset"
      ],
      "metadata": {
        "colab": {
          "base_uri": "https://localhost:8080/",
          "height": 363
        },
        "id": "gyMqCPlQAuoq",
        "outputId": "8391e229-640e-468a-e7a5-9e2a253e560e"
      },
      "execution_count": null,
      "outputs": [
        {
          "output_type": "execute_result",
          "data": {
            "text/plain": [
              "  Sexo  Idade\n",
              "0    H     53\n",
              "1    M     72\n",
              "2    M     54\n",
              "3    M     27\n",
              "4    M     30\n",
              "5    H     40\n",
              "6    H     58\n",
              "7    H     32\n",
              "8    M     44\n",
              "9    M     51"
            ],
            "text/html": [
              "\n",
              "  <div id=\"df-26855267-68cf-4dd6-adf8-b6511f4825fe\">\n",
              "    <div class=\"colab-df-container\">\n",
              "      <div>\n",
              "<style scoped>\n",
              "    .dataframe tbody tr th:only-of-type {\n",
              "        vertical-align: middle;\n",
              "    }\n",
              "\n",
              "    .dataframe tbody tr th {\n",
              "        vertical-align: top;\n",
              "    }\n",
              "\n",
              "    .dataframe thead th {\n",
              "        text-align: right;\n",
              "    }\n",
              "</style>\n",
              "<table border=\"1\" class=\"dataframe\">\n",
              "  <thead>\n",
              "    <tr style=\"text-align: right;\">\n",
              "      <th></th>\n",
              "      <th>Sexo</th>\n",
              "      <th>Idade</th>\n",
              "    </tr>\n",
              "  </thead>\n",
              "  <tbody>\n",
              "    <tr>\n",
              "      <th>0</th>\n",
              "      <td>H</td>\n",
              "      <td>53</td>\n",
              "    </tr>\n",
              "    <tr>\n",
              "      <th>1</th>\n",
              "      <td>M</td>\n",
              "      <td>72</td>\n",
              "    </tr>\n",
              "    <tr>\n",
              "      <th>2</th>\n",
              "      <td>M</td>\n",
              "      <td>54</td>\n",
              "    </tr>\n",
              "    <tr>\n",
              "      <th>3</th>\n",
              "      <td>M</td>\n",
              "      <td>27</td>\n",
              "    </tr>\n",
              "    <tr>\n",
              "      <th>4</th>\n",
              "      <td>M</td>\n",
              "      <td>30</td>\n",
              "    </tr>\n",
              "    <tr>\n",
              "      <th>5</th>\n",
              "      <td>H</td>\n",
              "      <td>40</td>\n",
              "    </tr>\n",
              "    <tr>\n",
              "      <th>6</th>\n",
              "      <td>H</td>\n",
              "      <td>58</td>\n",
              "    </tr>\n",
              "    <tr>\n",
              "      <th>7</th>\n",
              "      <td>H</td>\n",
              "      <td>32</td>\n",
              "    </tr>\n",
              "    <tr>\n",
              "      <th>8</th>\n",
              "      <td>M</td>\n",
              "      <td>44</td>\n",
              "    </tr>\n",
              "    <tr>\n",
              "      <th>9</th>\n",
              "      <td>M</td>\n",
              "      <td>51</td>\n",
              "    </tr>\n",
              "  </tbody>\n",
              "</table>\n",
              "</div>\n",
              "      <button class=\"colab-df-convert\" onclick=\"convertToInteractive('df-26855267-68cf-4dd6-adf8-b6511f4825fe')\"\n",
              "              title=\"Convert this dataframe to an interactive table.\"\n",
              "              style=\"display:none;\">\n",
              "        \n",
              "  <svg xmlns=\"http://www.w3.org/2000/svg\" height=\"24px\"viewBox=\"0 0 24 24\"\n",
              "       width=\"24px\">\n",
              "    <path d=\"M0 0h24v24H0V0z\" fill=\"none\"/>\n",
              "    <path d=\"M18.56 5.44l.94 2.06.94-2.06 2.06-.94-2.06-.94-.94-2.06-.94 2.06-2.06.94zm-11 1L8.5 8.5l.94-2.06 2.06-.94-2.06-.94L8.5 2.5l-.94 2.06-2.06.94zm10 10l.94 2.06.94-2.06 2.06-.94-2.06-.94-.94-2.06-.94 2.06-2.06.94z\"/><path d=\"M17.41 7.96l-1.37-1.37c-.4-.4-.92-.59-1.43-.59-.52 0-1.04.2-1.43.59L10.3 9.45l-7.72 7.72c-.78.78-.78 2.05 0 2.83L4 21.41c.39.39.9.59 1.41.59.51 0 1.02-.2 1.41-.59l7.78-7.78 2.81-2.81c.8-.78.8-2.07 0-2.86zM5.41 20L4 18.59l7.72-7.72 1.47 1.35L5.41 20z\"/>\n",
              "  </svg>\n",
              "      </button>\n",
              "      \n",
              "  <style>\n",
              "    .colab-df-container {\n",
              "      display:flex;\n",
              "      flex-wrap:wrap;\n",
              "      gap: 12px;\n",
              "    }\n",
              "\n",
              "    .colab-df-convert {\n",
              "      background-color: #E8F0FE;\n",
              "      border: none;\n",
              "      border-radius: 50%;\n",
              "      cursor: pointer;\n",
              "      display: none;\n",
              "      fill: #1967D2;\n",
              "      height: 32px;\n",
              "      padding: 0 0 0 0;\n",
              "      width: 32px;\n",
              "    }\n",
              "\n",
              "    .colab-df-convert:hover {\n",
              "      background-color: #E2EBFA;\n",
              "      box-shadow: 0px 1px 2px rgba(60, 64, 67, 0.3), 0px 1px 3px 1px rgba(60, 64, 67, 0.15);\n",
              "      fill: #174EA6;\n",
              "    }\n",
              "\n",
              "    [theme=dark] .colab-df-convert {\n",
              "      background-color: #3B4455;\n",
              "      fill: #D2E3FC;\n",
              "    }\n",
              "\n",
              "    [theme=dark] .colab-df-convert:hover {\n",
              "      background-color: #434B5C;\n",
              "      box-shadow: 0px 1px 3px 1px rgba(0, 0, 0, 0.15);\n",
              "      filter: drop-shadow(0px 1px 2px rgba(0, 0, 0, 0.3));\n",
              "      fill: #FFFFFF;\n",
              "    }\n",
              "  </style>\n",
              "\n",
              "      <script>\n",
              "        const buttonEl =\n",
              "          document.querySelector('#df-26855267-68cf-4dd6-adf8-b6511f4825fe button.colab-df-convert');\n",
              "        buttonEl.style.display =\n",
              "          google.colab.kernel.accessAllowed ? 'block' : 'none';\n",
              "\n",
              "        async function convertToInteractive(key) {\n",
              "          const element = document.querySelector('#df-26855267-68cf-4dd6-adf8-b6511f4825fe');\n",
              "          const dataTable =\n",
              "            await google.colab.kernel.invokeFunction('convertToInteractive',\n",
              "                                                     [key], {});\n",
              "          if (!dataTable) return;\n",
              "\n",
              "          const docLinkHtml = 'Like what you see? Visit the ' +\n",
              "            '<a target=\"_blank\" href=https://colab.research.google.com/notebooks/data_table.ipynb>data table notebook</a>'\n",
              "            + ' to learn more about interactive tables.';\n",
              "          element.innerHTML = '';\n",
              "          dataTable['output_type'] = 'display_data';\n",
              "          await google.colab.output.renderOutput(dataTable, element);\n",
              "          const docLink = document.createElement('div');\n",
              "          docLink.innerHTML = docLinkHtml;\n",
              "          element.appendChild(docLink);\n",
              "        }\n",
              "      </script>\n",
              "    </div>\n",
              "  </div>\n",
              "  "
            ]
          },
          "metadata": {},
          "execution_count": 140
        }
      ]
    },
    {
      "cell_type": "code",
      "source": [
        "desvio_feminino = dataset.query(\"Sexo == 'M'\").std()\n",
        "desvio_feminino"
      ],
      "metadata": {
        "colab": {
          "base_uri": "https://localhost:8080/"
        },
        "id": "DI2F1er-AzS3",
        "outputId": "c4ef0872-824d-4e41-f166-67f9df7594fd"
      },
      "execution_count": null,
      "outputs": [
        {
          "output_type": "stream",
          "name": "stderr",
          "text": [
            "/usr/local/lib/python3.7/dist-packages/ipykernel_launcher.py:1: FutureWarning: Dropping of nuisance columns in DataFrame reductions (with 'numeric_only=None') is deprecated; in a future version this will raise TypeError.  Select only valid columns before calling the reduction.\n",
            "  \"\"\"Entry point for launching an IPython kernel.\n"
          ]
        },
        {
          "output_type": "execute_result",
          "data": {
            "text/plain": [
              "Idade    16.64532\n",
              "dtype: float64"
            ]
          },
          "metadata": {},
          "execution_count": 141
        }
      ]
    },
    {
      "cell_type": "markdown",
      "source": [
        "Outras maneiras:"
      ],
      "metadata": {
        "id": "drON363yB1Oh"
      }
    },
    {
      "cell_type": "code",
      "source": [
        "desvio_feminino = dataset.groupby('Sexo').std()\n",
        "desvio_feminino"
      ],
      "metadata": {
        "colab": {
          "base_uri": "https://localhost:8080/",
          "height": 143
        },
        "id": "j6YSGsPgBmM3",
        "outputId": "4a871c8c-31d0-4691-e7cd-38dda7d4fadb"
      },
      "execution_count": null,
      "outputs": [
        {
          "output_type": "execute_result",
          "data": {
            "text/plain": [
              "          Idade\n",
              "Sexo           \n",
              "H     11.898879\n",
              "M     16.645320"
            ],
            "text/html": [
              "\n",
              "  <div id=\"df-ae344a2d-55ef-403b-b4fe-1f29811485b5\">\n",
              "    <div class=\"colab-df-container\">\n",
              "      <div>\n",
              "<style scoped>\n",
              "    .dataframe tbody tr th:only-of-type {\n",
              "        vertical-align: middle;\n",
              "    }\n",
              "\n",
              "    .dataframe tbody tr th {\n",
              "        vertical-align: top;\n",
              "    }\n",
              "\n",
              "    .dataframe thead th {\n",
              "        text-align: right;\n",
              "    }\n",
              "</style>\n",
              "<table border=\"1\" class=\"dataframe\">\n",
              "  <thead>\n",
              "    <tr style=\"text-align: right;\">\n",
              "      <th></th>\n",
              "      <th>Idade</th>\n",
              "    </tr>\n",
              "    <tr>\n",
              "      <th>Sexo</th>\n",
              "      <th></th>\n",
              "    </tr>\n",
              "  </thead>\n",
              "  <tbody>\n",
              "    <tr>\n",
              "      <th>H</th>\n",
              "      <td>11.898879</td>\n",
              "    </tr>\n",
              "    <tr>\n",
              "      <th>M</th>\n",
              "      <td>16.645320</td>\n",
              "    </tr>\n",
              "  </tbody>\n",
              "</table>\n",
              "</div>\n",
              "      <button class=\"colab-df-convert\" onclick=\"convertToInteractive('df-ae344a2d-55ef-403b-b4fe-1f29811485b5')\"\n",
              "              title=\"Convert this dataframe to an interactive table.\"\n",
              "              style=\"display:none;\">\n",
              "        \n",
              "  <svg xmlns=\"http://www.w3.org/2000/svg\" height=\"24px\"viewBox=\"0 0 24 24\"\n",
              "       width=\"24px\">\n",
              "    <path d=\"M0 0h24v24H0V0z\" fill=\"none\"/>\n",
              "    <path d=\"M18.56 5.44l.94 2.06.94-2.06 2.06-.94-2.06-.94-.94-2.06-.94 2.06-2.06.94zm-11 1L8.5 8.5l.94-2.06 2.06-.94-2.06-.94L8.5 2.5l-.94 2.06-2.06.94zm10 10l.94 2.06.94-2.06 2.06-.94-2.06-.94-.94-2.06-.94 2.06-2.06.94z\"/><path d=\"M17.41 7.96l-1.37-1.37c-.4-.4-.92-.59-1.43-.59-.52 0-1.04.2-1.43.59L10.3 9.45l-7.72 7.72c-.78.78-.78 2.05 0 2.83L4 21.41c.39.39.9.59 1.41.59.51 0 1.02-.2 1.41-.59l7.78-7.78 2.81-2.81c.8-.78.8-2.07 0-2.86zM5.41 20L4 18.59l7.72-7.72 1.47 1.35L5.41 20z\"/>\n",
              "  </svg>\n",
              "      </button>\n",
              "      \n",
              "  <style>\n",
              "    .colab-df-container {\n",
              "      display:flex;\n",
              "      flex-wrap:wrap;\n",
              "      gap: 12px;\n",
              "    }\n",
              "\n",
              "    .colab-df-convert {\n",
              "      background-color: #E8F0FE;\n",
              "      border: none;\n",
              "      border-radius: 50%;\n",
              "      cursor: pointer;\n",
              "      display: none;\n",
              "      fill: #1967D2;\n",
              "      height: 32px;\n",
              "      padding: 0 0 0 0;\n",
              "      width: 32px;\n",
              "    }\n",
              "\n",
              "    .colab-df-convert:hover {\n",
              "      background-color: #E2EBFA;\n",
              "      box-shadow: 0px 1px 2px rgba(60, 64, 67, 0.3), 0px 1px 3px 1px rgba(60, 64, 67, 0.15);\n",
              "      fill: #174EA6;\n",
              "    }\n",
              "\n",
              "    [theme=dark] .colab-df-convert {\n",
              "      background-color: #3B4455;\n",
              "      fill: #D2E3FC;\n",
              "    }\n",
              "\n",
              "    [theme=dark] .colab-df-convert:hover {\n",
              "      background-color: #434B5C;\n",
              "      box-shadow: 0px 1px 3px 1px rgba(0, 0, 0, 0.15);\n",
              "      filter: drop-shadow(0px 1px 2px rgba(0, 0, 0, 0.3));\n",
              "      fill: #FFFFFF;\n",
              "    }\n",
              "  </style>\n",
              "\n",
              "      <script>\n",
              "        const buttonEl =\n",
              "          document.querySelector('#df-ae344a2d-55ef-403b-b4fe-1f29811485b5 button.colab-df-convert');\n",
              "        buttonEl.style.display =\n",
              "          google.colab.kernel.accessAllowed ? 'block' : 'none';\n",
              "\n",
              "        async function convertToInteractive(key) {\n",
              "          const element = document.querySelector('#df-ae344a2d-55ef-403b-b4fe-1f29811485b5');\n",
              "          const dataTable =\n",
              "            await google.colab.kernel.invokeFunction('convertToInteractive',\n",
              "                                                     [key], {});\n",
              "          if (!dataTable) return;\n",
              "\n",
              "          const docLinkHtml = 'Like what you see? Visit the ' +\n",
              "            '<a target=\"_blank\" href=https://colab.research.google.com/notebooks/data_table.ipynb>data table notebook</a>'\n",
              "            + ' to learn more about interactive tables.';\n",
              "          element.innerHTML = '';\n",
              "          dataTable['output_type'] = 'display_data';\n",
              "          await google.colab.output.renderOutput(dataTable, element);\n",
              "          const docLink = document.createElement('div');\n",
              "          docLink.innerHTML = docLinkHtml;\n",
              "          element.appendChild(docLink);\n",
              "        }\n",
              "      </script>\n",
              "    </div>\n",
              "  </div>\n",
              "  "
            ]
          },
          "metadata": {},
          "execution_count": 142
        }
      ]
    },
    {
      "cell_type": "code",
      "source": [
        "desvio_feminino = dataset['Idade'].groupby(dataset['Sexo'] =='M').std()\n",
        "desvio_feminino"
      ],
      "metadata": {
        "colab": {
          "base_uri": "https://localhost:8080/"
        },
        "id": "6aX5u2ryCEGH",
        "outputId": "1970cbc2-6c15-4990-c102-38844e4180dd"
      },
      "execution_count": null,
      "outputs": [
        {
          "output_type": "execute_result",
          "data": {
            "text/plain": [
              "Sexo\n",
              "False    11.898879\n",
              "True     16.645320\n",
              "Name: Idade, dtype: float64"
            ]
          },
          "metadata": {},
          "execution_count": 143
        }
      ]
    },
    {
      "cell_type": "markdown",
      "source": [
        "Resposta oficial:\n",
        "\n"
      ],
      "metadata": {
        "id": "d8Qdtm3sCnHS"
      }
    },
    {
      "cell_type": "code",
      "source": [
        "dataset.groupby(['Sexo']).std().loc['M']"
      ],
      "metadata": {
        "colab": {
          "base_uri": "https://localhost:8080/"
        },
        "id": "-SlER7IsCR4N",
        "outputId": "68e77a1d-b753-4e8f-f002-3f749fbcdb0d"
      },
      "execution_count": null,
      "outputs": [
        {
          "output_type": "execute_result",
          "data": {
            "text/plain": [
              "Idade    16.64532\n",
              "Name: M, dtype: float64"
            ]
          },
          "metadata": {},
          "execution_count": 144
        }
      ]
    }
  ],
  "metadata": {
    "colab": {
      "provenance": [],
      "include_colab_link": true
    },
    "kernelspec": {
      "display_name": "Python 3",
      "language": "python",
      "name": "python3"
    },
    "language_info": {
      "codemirror_mode": {
        "name": "ipython",
        "version": 3
      },
      "file_extension": ".py",
      "mimetype": "text/x-python",
      "name": "python",
      "nbconvert_exporter": "python",
      "pygments_lexer": "ipython3",
      "version": "3.6.5"
    }
  },
  "nbformat": 4,
  "nbformat_minor": 0
}