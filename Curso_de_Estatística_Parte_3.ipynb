{
  "cells": [
    {
      "cell_type": "markdown",
      "metadata": {
        "id": "view-in-github",
        "colab_type": "text"
      },
      "source": [
        "<a href=\"https://colab.research.google.com/github/IagoVnicius/statistic_python/blob/main/Curso_de_Estat%C3%ADstica_Parte_3.ipynb\" target=\"_parent\"><img src=\"https://colab.research.google.com/assets/colab-badge.svg\" alt=\"Open In Colab\"/></a>"
      ]
    },
    {
      "cell_type": "markdown",
      "metadata": {
        "id": "WvMflodMjQKe"
      },
      "source": [
        "# <font color=green size=10>CURSO DE ESTATÍSTICA - PARTE 3</font>\n",
        "\n",
        "***"
      ]
    },
    {
      "cell_type": "markdown",
      "metadata": {
        "id": "cVgsZ_E3jQKg"
      },
      "source": [
        "# <font color=green>1 CONHECENDO OS DADOS</font>\n",
        "***"
      ]
    },
    {
      "cell_type": "markdown",
      "metadata": {
        "id": "TDjqYYNojQKh"
      },
      "source": [
        "## <font color=green>1.1 Dataset do projeto</font>\n",
        "***"
      ]
    },
    {
      "cell_type": "markdown",
      "metadata": {
        "id": "iN1gIbaKjQKh"
      },
      "source": [
        "### Pesquisa Nacional por Amostra de Domicílios - 2015\n",
        "\n",
        "A <b>Pesquisa Nacional por Amostra de Domicílios - PNAD</b> investiga anualmente, de forma permanente, características gerais da população, de educação, trabalho, rendimento e habitação e outras, com periodicidade variável, de acordo com as necessidades de informação para o país, como as características sobre migração, fecundidade, nupcialidade, saúde, segurança alimentar, entre outros temas. O levantamento dessas estatísticas constitui, ao longo dos 49 anos de realização da pesquisa, um importante instrumento para formulação, validação e avaliação de políticas orientadas para o desenvolvimento socioeconômico e a melhoria das condições de vida no Brasil."
      ]
    },
    {
      "cell_type": "markdown",
      "metadata": {
        "id": "U6V7br1RjQKi"
      },
      "source": [
        "### Fonte dos Dados\n",
        "\n",
        "https://ww2.ibge.gov.br/home/estatistica/populacao/trabalhoerendimento/pnad2015/microdados.shtm"
      ]
    },
    {
      "cell_type": "markdown",
      "metadata": {
        "id": "r0Fe_qnzjQKj"
      },
      "source": [
        "### Variáveis utilizadas\n",
        "\n",
        "> ### Renda\n",
        "> ***\n",
        "\n",
        "Rendimento mensal do trabalho principal para pessoas de 10 anos ou mais de idade.\n",
        "\n",
        "> ### Idade\n",
        "> ***\n",
        "\n",
        "Idade do morador na data de referência em anos.\n",
        "\n",
        "> ### Altura (elaboração própria)\n",
        "> ***\n",
        "\n",
        "Altura do morador em metros.\n",
        "\n",
        "> ### UF\n",
        "> ***\n",
        "\n",
        "|Código|Descrição|\n",
        "|---|---|\n",
        "|11|Rondônia|\n",
        "|12|Acre|\n",
        "|13|Amazonas|\n",
        "|14|Roraima|\n",
        "|15|Pará|\n",
        "|16|Amapá|\n",
        "|17|Tocantins|\n",
        "|21|Maranhão|\n",
        "|22|Piauí|\n",
        "|23|Ceará|\n",
        "|24|Rio Grande do Norte|\n",
        "|25|Paraíba|\n",
        "|26|Pernambuco|\n",
        "|27|Alagoas|\n",
        "|28|Sergipe|\n",
        "|29|Bahia|\n",
        "|31|Minas Gerais|\n",
        "|32|Espírito Santo|\n",
        "|33|Rio de Janeiro|\n",
        "|35|São Paulo|\n",
        "|41|Paraná|\n",
        "|42|Santa Catarina|\n",
        "|43|Rio Grande do Sul|\n",
        "|50|Mato Grosso do Sul|\n",
        "|51|Mato Grosso|\n",
        "|52|Goiás|\n",
        "|53|Distrito Federal|\n",
        "\n",
        "> ### Sexo\t\n",
        "> ***\n",
        "\n",
        "|Código|Descrição|\n",
        "|---|---|\n",
        "|0|Masculino|\n",
        "|1|Feminino|\n",
        "\n",
        "> ### Anos de Estudo\n",
        "> ***\n",
        "\n",
        "|Código|Descrição|\n",
        "|---|---|\n",
        "|1|Sem instrução e menos de 1 ano|\n",
        "|2|1 ano|\n",
        "|3|2 anos|\n",
        "|4|3 anos|\n",
        "|5|4 anos|\n",
        "|6|5 anos|\n",
        "|7|6 anos|\n",
        "|8|7 anos|\n",
        "|9|8 anos|\n",
        "|10|9 anos|\n",
        "|11|10 anos|\n",
        "|12|11 anos|\n",
        "|13|12 anos|\n",
        "|14|13 anos|\n",
        "|15|14 anos|\n",
        "|16|15 anos ou mais|\n",
        "|17|Não determinados| \n",
        "||Não aplicável|\n",
        "\n",
        "> ### Cor\n",
        "> ***\n",
        "\n",
        "|Código|Descrição|\n",
        "|---|---|\n",
        "|0|Indígena|\n",
        "|2|Branca|\n",
        "|4|Preta|\n",
        "|6|Amarela|\n",
        "|8|Parda|\n",
        "|9|Sem declaração|"
      ]
    },
    {
      "cell_type": "markdown",
      "metadata": {
        "id": "OK1IQH5cX7Gb"
      },
      "source": [
        "#### <font color='red'>Observação</font>\n",
        "***\n",
        "> Os seguintes tratamentos foram realizados nos dados originais:\n",
        "> 1. Foram eliminados os registros onde a <b>Renda</b> era inválida (999 999 999 999);\n",
        "> 2. Foram eliminados os registros onde a <b>Renda</b> era missing;\n",
        "> 3. Foram considerados somente os registros das <b>Pessoas de Referência</b> de cada domicílio (responsável pelo domicílio)."
      ]
    },
    {
      "cell_type": "markdown",
      "metadata": {
        "id": "8Rw70V6ojQKk"
      },
      "source": [
        "### Importando pandas e lendo o dataset do projeto\n",
        "\n",
        "https://pandas.pydata.org/"
      ]
    },
    {
      "cell_type": "code",
      "execution_count": null,
      "metadata": {
        "id": "8QgOpE-wjQKl"
      },
      "outputs": [],
      "source": [
        "import pandas as pd\n",
        "import numpy as np"
      ]
    },
    {
      "cell_type": "code",
      "execution_count": null,
      "metadata": {
        "id": "ufRZ7TLwjQKo"
      },
      "outputs": [],
      "source": [
        "dados = pd.read_csv('dados.csv')"
      ]
    },
    {
      "cell_type": "code",
      "execution_count": null,
      "metadata": {
        "colab": {
          "base_uri": "https://localhost:8080/",
          "height": 206
        },
        "id": "GsC_WhLFjQKq",
        "outputId": "6f7a4524-0089-4754-af7d-c8a9bf0dc15b",
        "scrolled": true
      },
      "outputs": [
        {
          "output_type": "execute_result",
          "data": {
            "text/plain": [
              "   UF  Sexo  Idade  Cor  Anos de Estudo  Renda    Altura\n",
              "0  11     0     23    8              12    800  1.603808\n",
              "1  11     1     23    2              12   1150  1.739790\n",
              "2  11     1     35    8              15    880  1.760444\n",
              "3  11     0     46    2               6   3500  1.783158\n",
              "4  11     1     47    8               9    150  1.690631"
            ],
            "text/html": [
              "\n",
              "  <div id=\"df-3719b2c3-29f4-4789-b7f2-560781c6842d\">\n",
              "    <div class=\"colab-df-container\">\n",
              "      <div>\n",
              "<style scoped>\n",
              "    .dataframe tbody tr th:only-of-type {\n",
              "        vertical-align: middle;\n",
              "    }\n",
              "\n",
              "    .dataframe tbody tr th {\n",
              "        vertical-align: top;\n",
              "    }\n",
              "\n",
              "    .dataframe thead th {\n",
              "        text-align: right;\n",
              "    }\n",
              "</style>\n",
              "<table border=\"1\" class=\"dataframe\">\n",
              "  <thead>\n",
              "    <tr style=\"text-align: right;\">\n",
              "      <th></th>\n",
              "      <th>UF</th>\n",
              "      <th>Sexo</th>\n",
              "      <th>Idade</th>\n",
              "      <th>Cor</th>\n",
              "      <th>Anos de Estudo</th>\n",
              "      <th>Renda</th>\n",
              "      <th>Altura</th>\n",
              "    </tr>\n",
              "  </thead>\n",
              "  <tbody>\n",
              "    <tr>\n",
              "      <th>0</th>\n",
              "      <td>11</td>\n",
              "      <td>0</td>\n",
              "      <td>23</td>\n",
              "      <td>8</td>\n",
              "      <td>12</td>\n",
              "      <td>800</td>\n",
              "      <td>1.603808</td>\n",
              "    </tr>\n",
              "    <tr>\n",
              "      <th>1</th>\n",
              "      <td>11</td>\n",
              "      <td>1</td>\n",
              "      <td>23</td>\n",
              "      <td>2</td>\n",
              "      <td>12</td>\n",
              "      <td>1150</td>\n",
              "      <td>1.739790</td>\n",
              "    </tr>\n",
              "    <tr>\n",
              "      <th>2</th>\n",
              "      <td>11</td>\n",
              "      <td>1</td>\n",
              "      <td>35</td>\n",
              "      <td>8</td>\n",
              "      <td>15</td>\n",
              "      <td>880</td>\n",
              "      <td>1.760444</td>\n",
              "    </tr>\n",
              "    <tr>\n",
              "      <th>3</th>\n",
              "      <td>11</td>\n",
              "      <td>0</td>\n",
              "      <td>46</td>\n",
              "      <td>2</td>\n",
              "      <td>6</td>\n",
              "      <td>3500</td>\n",
              "      <td>1.783158</td>\n",
              "    </tr>\n",
              "    <tr>\n",
              "      <th>4</th>\n",
              "      <td>11</td>\n",
              "      <td>1</td>\n",
              "      <td>47</td>\n",
              "      <td>8</td>\n",
              "      <td>9</td>\n",
              "      <td>150</td>\n",
              "      <td>1.690631</td>\n",
              "    </tr>\n",
              "  </tbody>\n",
              "</table>\n",
              "</div>\n",
              "      <button class=\"colab-df-convert\" onclick=\"convertToInteractive('df-3719b2c3-29f4-4789-b7f2-560781c6842d')\"\n",
              "              title=\"Convert this dataframe to an interactive table.\"\n",
              "              style=\"display:none;\">\n",
              "        \n",
              "  <svg xmlns=\"http://www.w3.org/2000/svg\" height=\"24px\"viewBox=\"0 0 24 24\"\n",
              "       width=\"24px\">\n",
              "    <path d=\"M0 0h24v24H0V0z\" fill=\"none\"/>\n",
              "    <path d=\"M18.56 5.44l.94 2.06.94-2.06 2.06-.94-2.06-.94-.94-2.06-.94 2.06-2.06.94zm-11 1L8.5 8.5l.94-2.06 2.06-.94-2.06-.94L8.5 2.5l-.94 2.06-2.06.94zm10 10l.94 2.06.94-2.06 2.06-.94-2.06-.94-.94-2.06-.94 2.06-2.06.94z\"/><path d=\"M17.41 7.96l-1.37-1.37c-.4-.4-.92-.59-1.43-.59-.52 0-1.04.2-1.43.59L10.3 9.45l-7.72 7.72c-.78.78-.78 2.05 0 2.83L4 21.41c.39.39.9.59 1.41.59.51 0 1.02-.2 1.41-.59l7.78-7.78 2.81-2.81c.8-.78.8-2.07 0-2.86zM5.41 20L4 18.59l7.72-7.72 1.47 1.35L5.41 20z\"/>\n",
              "  </svg>\n",
              "      </button>\n",
              "      \n",
              "  <style>\n",
              "    .colab-df-container {\n",
              "      display:flex;\n",
              "      flex-wrap:wrap;\n",
              "      gap: 12px;\n",
              "    }\n",
              "\n",
              "    .colab-df-convert {\n",
              "      background-color: #E8F0FE;\n",
              "      border: none;\n",
              "      border-radius: 50%;\n",
              "      cursor: pointer;\n",
              "      display: none;\n",
              "      fill: #1967D2;\n",
              "      height: 32px;\n",
              "      padding: 0 0 0 0;\n",
              "      width: 32px;\n",
              "    }\n",
              "\n",
              "    .colab-df-convert:hover {\n",
              "      background-color: #E2EBFA;\n",
              "      box-shadow: 0px 1px 2px rgba(60, 64, 67, 0.3), 0px 1px 3px 1px rgba(60, 64, 67, 0.15);\n",
              "      fill: #174EA6;\n",
              "    }\n",
              "\n",
              "    [theme=dark] .colab-df-convert {\n",
              "      background-color: #3B4455;\n",
              "      fill: #D2E3FC;\n",
              "    }\n",
              "\n",
              "    [theme=dark] .colab-df-convert:hover {\n",
              "      background-color: #434B5C;\n",
              "      box-shadow: 0px 1px 3px 1px rgba(0, 0, 0, 0.15);\n",
              "      filter: drop-shadow(0px 1px 2px rgba(0, 0, 0, 0.3));\n",
              "      fill: #FFFFFF;\n",
              "    }\n",
              "  </style>\n",
              "\n",
              "      <script>\n",
              "        const buttonEl =\n",
              "          document.querySelector('#df-3719b2c3-29f4-4789-b7f2-560781c6842d button.colab-df-convert');\n",
              "        buttonEl.style.display =\n",
              "          google.colab.kernel.accessAllowed ? 'block' : 'none';\n",
              "\n",
              "        async function convertToInteractive(key) {\n",
              "          const element = document.querySelector('#df-3719b2c3-29f4-4789-b7f2-560781c6842d');\n",
              "          const dataTable =\n",
              "            await google.colab.kernel.invokeFunction('convertToInteractive',\n",
              "                                                     [key], {});\n",
              "          if (!dataTable) return;\n",
              "\n",
              "          const docLinkHtml = 'Like what you see? Visit the ' +\n",
              "            '<a target=\"_blank\" href=https://colab.research.google.com/notebooks/data_table.ipynb>data table notebook</a>'\n",
              "            + ' to learn more about interactive tables.';\n",
              "          element.innerHTML = '';\n",
              "          dataTable['output_type'] = 'display_data';\n",
              "          await google.colab.output.renderOutput(dataTable, element);\n",
              "          const docLink = document.createElement('div');\n",
              "          docLink.innerHTML = docLinkHtml;\n",
              "          element.appendChild(docLink);\n",
              "        }\n",
              "      </script>\n",
              "    </div>\n",
              "  </div>\n",
              "  "
            ]
          },
          "metadata": {},
          "execution_count": 191
        }
      ],
      "source": [
        "dados.head()"
      ]
    },
    {
      "cell_type": "markdown",
      "metadata": {
        "id": "nk65O0lepz57"
      },
      "source": [
        "# <font color=green>2 TESTES DE HIPÓTESES</font>\n",
        "***"
      ]
    },
    {
      "cell_type": "markdown",
      "metadata": {
        "id": "OjHpQHFHpsi3"
      },
      "source": [
        "Testes estatísticos são regras de decisão que permitem avaliar a razoabilidade das hipóteses feitas sobre os parâmetros populacionais e aceitá-las ou rejeitá-las como provavelmente verdadeiras ou falsas tendo como base uma amostra."
      ]
    },
    {
      "cell_type": "markdown",
      "metadata": {
        "id": "qjqWccNspsi4"
      },
      "source": [
        "## <font color=green>2.1 Teste de normalidade</font>\n",
        "***"
      ]
    },
    {
      "cell_type": "markdown",
      "metadata": {
        "id": "O79kHHwYpsi5"
      },
      "source": [
        "### Importando bibliotecas\n",
        "https://docs.scipy.org/doc/scipy/reference/generated/scipy.stats.normaltest.html"
      ]
    },
    {
      "cell_type": "markdown",
      "source": [
        "![image.png](data:image/png;base64,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)"
      ],
      "metadata": {
        "id": "7lnhxcLeH6Ij"
      }
    },
    {
      "cell_type": "code",
      "execution_count": null,
      "metadata": {
        "id": "3LwfaqpFpsi5"
      },
      "outputs": [],
      "source": [
        "from scipy.stats import normaltest"
      ]
    },
    {
      "cell_type": "markdown",
      "metadata": {
        "id": "abDn-nKLpsi7"
      },
      "source": [
        "A função *normaltest* testa a hipótese nula $H_0$ de que a amostra é proveniente de uma distribuição normal."
      ]
    },
    {
      "cell_type": "markdown",
      "metadata": {
        "id": "gRDJ86zTpsi8"
      },
      "source": [
        "### Definindo a significância do teste ($\\alpha$)"
      ]
    },
    {
      "cell_type": "code",
      "execution_count": null,
      "metadata": {
        "id": "3s6ZAdCOpsi9"
      },
      "outputs": [],
      "source": [
        "significancia = 0.05"
      ]
    },
    {
      "cell_type": "markdown",
      "metadata": {
        "id": "sppYIE51psi_"
      },
      "source": [
        "### Testando a variável Renda"
      ]
    },
    {
      "cell_type": "code",
      "execution_count": null,
      "metadata": {
        "colab": {
          "base_uri": "https://localhost:8080/",
          "height": 282
        },
        "id": "IZpa91lHpsi_",
        "outputId": "93e5d651-64c2-4d99-f75e-4a05f6a90f9e"
      },
      "outputs": [
        {
          "output_type": "execute_result",
          "data": {
            "text/plain": [
              "<matplotlib.axes._subplots.AxesSubplot at 0x7f6ada39e5e0>"
            ]
          },
          "metadata": {},
          "execution_count": 194
        },
        {
          "output_type": "display_data",
          "data": {
            "text/plain": [
              "<Figure size 432x288 with 1 Axes>"
            ],
            "image/png": "[encoded data removed]"
          },
          "metadata": {
            "needs_background": "light"
          }
        }
      ],
      "source": [
        "dados.Renda.hist(bins = 50)"
      ]
    },
    {
      "cell_type": "markdown",
      "metadata": {
        "id": "qKeNZ0PUpsjC"
      },
      "source": [
        "### <font color='red'>Critério do valor $p$</font>\n",
        "\n",
        "> ### Rejeitar $H_0$ se o valor $p\\leq 0,05$"
      ]
    },
    {
      "cell_type": "code",
      "execution_count": null,
      "metadata": {
        "colab": {
          "base_uri": "https://localhost:8080/"
        },
        "id": "060ahVrrpsjD",
        "outputId": "abf9db8f-372c-46de-aa69-3252a62658c3"
      },
      "outputs": [
        {
          "output_type": "stream",
          "name": "stdout",
          "text": [
            "152380.75803960307\n",
            "0.0\n"
          ]
        }
      ],
      "source": [
        "stat_test, p_valor = normaltest(dados.Renda)\n",
        "print(stat_test)\n",
        "print(p_valor)"
      ]
    },
    {
      "cell_type": "code",
      "execution_count": null,
      "metadata": {
        "colab": {
          "base_uri": "https://localhost:8080/"
        },
        "id": "Q4eJFGsCpsjG",
        "outputId": "80c7da3f-b143-4554-d9b7-bef6679f5dd4"
      },
      "outputs": [
        {
          "output_type": "execute_result",
          "data": {
            "text/plain": [
              "True"
            ]
          },
          "metadata": {},
          "execution_count": 196
        }
      ],
      "source": [
        "p_valor <= significancia"
      ]
    },
    {
      "cell_type": "markdown",
      "metadata": {
        "id": "JkAxa9PqpsjM"
      },
      "source": [
        "### Testando a variável Altura"
      ]
    },
    {
      "cell_type": "code",
      "execution_count": null,
      "metadata": {
        "colab": {
          "base_uri": "https://localhost:8080/",
          "height": 282
        },
        "id": "n9r88dMKpsjN",
        "outputId": "61a6076a-f934-4a4e-99aa-5f50a2ac2ded"
      },
      "outputs": [
        {
          "output_type": "execute_result",
          "data": {
            "text/plain": [
              "<matplotlib.axes._subplots.AxesSubplot at 0x7f6ada280340>"
            ]
          },
          "metadata": {},
          "execution_count": 197
        },
        {
          "output_type": "display_data",
          "data": {
            "text/plain": [
              "<Figure size 432x288 with 1 Axes>"
            ],
            "image/png": "[encoded data removed]"
          },
          "metadata": {
            "needs_background": "light"
          }
        }
      ],
      "source": [
        "dados.Altura.hist(bins = 50)"
      ]
    },
    {
      "cell_type": "markdown",
      "metadata": {
        "id": "1ADrwGb5psjQ"
      },
      "source": [
        "### <font color='red'>Critério do valor $p$</font>\n",
        "\n",
        "> ### Rejeitar $H_0$ se o valor $p\\leq 0,05$"
      ]
    },
    {
      "cell_type": "code",
      "execution_count": null,
      "metadata": {
        "colab": {
          "base_uri": "https://localhost:8080/"
        },
        "id": "aV9fx6w5psjb",
        "outputId": "bfccfe0b-560b-43b3-92b1-8eaab5dff6cf"
      },
      "outputs": [
        {
          "output_type": "stream",
          "name": "stdout",
          "text": [
            "0.19973093957002253\n",
            "0.9049591541967501\n"
          ]
        }
      ],
      "source": [
        "stat_test, p_valor = normaltest(dados.Altura)\n",
        "print(stat_test)\n",
        "print(p_valor)"
      ]
    },
    {
      "cell_type": "code",
      "execution_count": null,
      "metadata": {
        "colab": {
          "base_uri": "https://localhost:8080/"
        },
        "id": "pP-NZCthpsje",
        "outputId": "c06ebb71-16c8-4871-aa0e-bb0fab93bb04"
      },
      "outputs": [
        {
          "output_type": "execute_result",
          "data": {
            "text/plain": [
              "False"
            ]
          },
          "metadata": {},
          "execution_count": 199
        }
      ],
      "source": [
        "p_valor <= significancia"
      ]
    },
    {
      "cell_type": "markdown",
      "metadata": {
        "id": "rWh-HSd-psji"
      },
      "source": [
        "## <font color=green>2.2 Etapas Básicas de um Teste</font>\n",
        "***"
      ]
    },
    {
      "cell_type": "markdown",
      "metadata": {
        "id": "DQF30K2Cpsjj"
      },
      "source": [
        "### **Passo 1** - formulação das hipóteses $H_0$ e $H_1$;\n",
        "\n",
        "> ### <font color='red'>Pontos importantes</font>\n",
        "> - De maneira geral, o alvo do estudo deve ser formulado como a hipótese alternativa $H_1$.\n",
        "> - A hipótese nula sempre afirma uma igualdade ou propriedade populacional, e $H_1$ a desigualdade que nega $H_0$.\n",
        "> - No caso da hipótese nula $H_0$ a igualdade pode ser representada por uma igualdade simples \"$=$\" ou por \"$\\geq$\" e \"$\\leq$\". Sempre complementar ao estabelecido pela hipótese alternativa.\n",
        "> - A hipótese alternativa $H_1$ deve definir uma desigualdade que pode ser uma diferença simples \"$\\neq$\" ou dos tipos \"$>$\" e \"$<$\".\n",
        "\n",
        "\n",
        "### **Passo 2** - escolha da distribuição amostral adequada;\n",
        "\n",
        "> ### <font color='red'>Pontos importantes</font>\n",
        "> - Quando o tamanho da amostra tiver 30 elementos ou mais, deve-se utilizar a distribuição normal, como estabelecido pelo **teorema do limite central**.\n",
        "> - Para um tamanho de amostra menor que 30 elementos, e se pudermos afirmar que a população se distribui aproximadamente como uma normal e o desvio padrão populacional for conhecido, deve-se utilizar a distribuição normal.\n",
        "> - Para um tamanho de amostra menor que 30 elementos, e se pudermos afirmar que a população se distribui aproximadamente como uma normal e o desvio padrão populacional for desconhecido, deve-se utilizar a distribuição t de Student.\n",
        "\n",
        "<img src='https://caelum-online-public.s3.amazonaws.com/1229-estatistica-parte3/01/img003.png' width=70%>\n",
        "\n",
        "### **Passo 3** - fixação da significância do teste ($\\alpha$), que define as regiões de aceitação e rejeição das hipóteses (os valores mais freqüentes são 10%, 5% e 1%);\n",
        "\n",
        "> ### <font color='red'>Pontos importantes</font>\n",
        "> - O **nível de confiança** ($1 - \\alpha$) representa a probabilidade de acerto da estimativa. De forma complementar o **nível de significância** ($\\alpha$) expressa a probabilidade de erro da estimativa.\n",
        ">\n",
        "> ![Níveis de Confiança e significância](https://caelum-online-public.s3.amazonaws.com/1229-estatistica-parte3/01/img001.png)\n",
        ">\n",
        "> - O **nível de confiança** representa o grau de confiabilidade do resultado da estimativa estar dentro de determinado intervalo. Quando fixamos em uma pesquisa um **nível de confiança** de 95%, por exemplo, estamos assumindo que existe uma probabilidade de 95% dos resultados da pesquisa representarem bem a realidade, ou seja, estarem corretos.\n",
        ">\n",
        "> ![Áreas de Aceitação e Rejeição](https://caelum-online-public.s3.amazonaws.com/1229-estatistica-parte3/01/img002.png)\n",
        "\n",
        "### **Passo 4** - cálculo da estatística-teste e verificação desse valor com as áreas de aceitação e rejeição do teste;\n",
        "\n",
        "> ### <font color='red'>Pontos importantes</font>\n",
        "> - Nos testes paramétricos, distância relativa entre a estatística amostral e o valor alegado como provável.\n",
        "> - Neste passo são obtidas as estatísticas amostrais necessárias à execução do teste (média, desvio-padrão, graus de liberdade etc.)\n",
        "\n",
        "\n",
        "### **Passo 5** - Aceitação ou rejeição da hipótese nula.\n",
        "\n",
        "> ### <font color='red'>Pontos importantes</font>\n",
        "> - No caso de o intervalo de aceitação conter a estatística-teste, aceita-se $H_0$ como estatisticamente válido e rejeita-se $H_1$ como tal.\n",
        "> - No caso de o intervalo de aceitação não conter a estatística-teste, rejeita-se $H_0$ e aceita-se $H_1$ como provavelmente verdadeira. \n",
        "> - A aceitação também se verifica com a probabilidade de cauda (p-valor): se maior que $\\alpha$, aceita-se $H_0$."
      ]
    },
    {
      "cell_type": "markdown",
      "metadata": {
        "id": "TXdMM0dOpsjm"
      },
      "source": [
        "---"
      ]
    },
    {
      "cell_type": "markdown",
      "metadata": {
        "id": "miGOADKYpsjn"
      },
      "source": [
        "# <font color=green>3 TESTES PARAMÉTRICOS</font>\n",
        "***"
      ]
    },
    {
      "cell_type": "markdown",
      "metadata": {
        "id": "pIHY_4Sspsjn"
      },
      "source": [
        "Quando um teste assume determinadas premissas sobre como os parâmetros de uma população se distribuem, estamos trabalhando com **Testes Paramétricos**."
      ]
    },
    {
      "cell_type": "markdown",
      "metadata": {
        "id": "rUKgxZ7_psjp"
      },
      "source": [
        "## <font color=green>3.1 Teste Bicaudal</font>\n",
        "***"
      ]
    },
    {
      "cell_type": "markdown",
      "metadata": {
        "id": "i1PMIB5cpsjp"
      },
      "source": [
        "## <font color='red'>Problema</font>"
      ]
    },
    {
      "cell_type": "markdown",
      "metadata": {
        "id": "vellTWzJpsjq"
      },
      "source": [
        "A empresa **Suco Bom** produz **sucos de frutas em embalagens de 500 ml**. Seu processo de produção é quase todo automatizado e as embalagens de sucos são preenchidas por uma máquina que às vezes apresenta um certo desajuste, levando a erros no preenchimento das embalagens para mais ou menos conteúdo. Quando o volume médio cai abaixo de 500 ml, a empresa se preocupa em perder vendas e ter problemas com os orgãos fiscalizadores. Quando o volume passa de 500 ml, a empresa começa a se preocupar com prejuízos no processo de produção.\n",
        "\n",
        "O setor de controle de qualidade da empresa **Suco Bom** extrai, periodicamente, **amostras de 50 embalagens** para monitorar o processo de produção. Para cada amostra, é realizado um **teste de hipóteses** para avaliar se o maquinário se desajustou. A equipe de controle de qualidade assume um **nível de significância de 5%**.\n",
        "\n",
        "Suponha agora que uma **amostra de 50 embalagens** foi selecionada e que a **média amostral observada foi de 503,24 ml**. **Esse valor de média amostral é suficientemente maior que 500 ml para nos fazer rejeitar a hipótese de que a média do processo é de 500 ml ao nível de significância de 5%?**"
      ]
    },
    {
      "cell_type": "markdown",
      "metadata": {
        "id": "-J15nugOpsjq"
      },
      "source": [
        "---"
      ]
    },
    {
      "cell_type": "markdown",
      "metadata": {
        "id": "076qvKgapsjr"
      },
      "source": [
        "O **teste bicaudal** é muito utilizado em **testes de qualidade**, como o apresentado em nosso problema acima. Outro exemplo é a avaliação de peças que devem ter um encaixe perfeito (porcas e parafusos, chaves e fechaduras)."
      ]
    },
    {
      "cell_type": "markdown",
      "metadata": {
        "id": "MyGUYz88psjr"
      },
      "source": [
        "![Teste Bicaudal](https://caelum-online-public.s3.amazonaws.com/1229-estatistica-parte3/01/img005.png)"
      ]
    },
    {
      "cell_type": "markdown",
      "metadata": {
        "id": "EOiKt64mpsjs"
      },
      "source": [
        "---"
      ]
    },
    {
      "cell_type": "markdown",
      "metadata": {
        "id": "011wNGXtpsjs"
      },
      "source": [
        "### Dados do problema"
      ]
    },
    {
      "cell_type": "code",
      "execution_count": null,
      "metadata": {
        "id": "lHLlGH7upsjt"
      },
      "outputs": [],
      "source": [
        "amostra = [509, 505, 495, 510, 496, 509, 497, 502, 503, 505, \n",
        "           501, 505, 510, 505, 504, 497, 506, 506, 508, 505, \n",
        "           497, 504, 500, 498, 506, 496, 508, 497, 503, 501, \n",
        "           503, 506, 499, 498, 509, 507, 503, 499, 509, 495, \n",
        "           502, 505, 504, 509, 508, 501, 505, 497, 508, 507]\n"
      ]
    },
    {
      "cell_type": "code",
      "execution_count": null,
      "metadata": {
        "id": "AJNH5RQtpsju",
        "scrolled": false,
        "colab": {
          "base_uri": "https://localhost:8080/",
          "height": 206
        },
        "outputId": "a6d4a09d-b849-4aa6-b7a2-a2ac4d09f9f6"
      },
      "outputs": [
        {
          "output_type": "execute_result",
          "data": {
            "text/plain": [
              "   Amostra\n",
              "0      509\n",
              "1      505\n",
              "2      495\n",
              "3      510\n",
              "4      496"
            ],
            "text/html": [
              "\n",
              "  <div id=\"df-244d47d9-9d4b-4cee-9019-90d37f3f8d41\">\n",
              "    <div class=\"colab-df-container\">\n",
              "      <div>\n",
              "<style scoped>\n",
              "    .dataframe tbody tr th:only-of-type {\n",
              "        vertical-align: middle;\n",
              "    }\n",
              "\n",
              "    .dataframe tbody tr th {\n",
              "        vertical-align: top;\n",
              "    }\n",
              "\n",
              "    .dataframe thead th {\n",
              "        text-align: right;\n",
              "    }\n",
              "</style>\n",
              "<table border=\"1\" class=\"dataframe\">\n",
              "  <thead>\n",
              "    <tr style=\"text-align: right;\">\n",
              "      <th></th>\n",
              "      <th>Amostra</th>\n",
              "    </tr>\n",
              "  </thead>\n",
              "  <tbody>\n",
              "    <tr>\n",
              "      <th>0</th>\n",
              "      <td>509</td>\n",
              "    </tr>\n",
              "    <tr>\n",
              "      <th>1</th>\n",
              "      <td>505</td>\n",
              "    </tr>\n",
              "    <tr>\n",
              "      <th>2</th>\n",
              "      <td>495</td>\n",
              "    </tr>\n",
              "    <tr>\n",
              "      <th>3</th>\n",
              "      <td>510</td>\n",
              "    </tr>\n",
              "    <tr>\n",
              "      <th>4</th>\n",
              "      <td>496</td>\n",
              "    </tr>\n",
              "  </tbody>\n",
              "</table>\n",
              "</div>\n",
              "      <button class=\"colab-df-convert\" onclick=\"convertToInteractive('df-244d47d9-9d4b-4cee-9019-90d37f3f8d41')\"\n",
              "              title=\"Convert this dataframe to an interactive table.\"\n",
              "              style=\"display:none;\">\n",
              "        \n",
              "  <svg xmlns=\"http://www.w3.org/2000/svg\" height=\"24px\"viewBox=\"0 0 24 24\"\n",
              "       width=\"24px\">\n",
              "    <path d=\"M0 0h24v24H0V0z\" fill=\"none\"/>\n",
              "    <path d=\"M18.56 5.44l.94 2.06.94-2.06 2.06-.94-2.06-.94-.94-2.06-.94 2.06-2.06.94zm-11 1L8.5 8.5l.94-2.06 2.06-.94-2.06-.94L8.5 2.5l-.94 2.06-2.06.94zm10 10l.94 2.06.94-2.06 2.06-.94-2.06-.94-.94-2.06-.94 2.06-2.06.94z\"/><path d=\"M17.41 7.96l-1.37-1.37c-.4-.4-.92-.59-1.43-.59-.52 0-1.04.2-1.43.59L10.3 9.45l-7.72 7.72c-.78.78-.78 2.05 0 2.83L4 21.41c.39.39.9.59 1.41.59.51 0 1.02-.2 1.41-.59l7.78-7.78 2.81-2.81c.8-.78.8-2.07 0-2.86zM5.41 20L4 18.59l7.72-7.72 1.47 1.35L5.41 20z\"/>\n",
              "  </svg>\n",
              "      </button>\n",
              "      \n",
              "  <style>\n",
              "    .colab-df-container {\n",
              "      display:flex;\n",
              "      flex-wrap:wrap;\n",
              "      gap: 12px;\n",
              "    }\n",
              "\n",
              "    .colab-df-convert {\n",
              "      background-color: #E8F0FE;\n",
              "      border: none;\n",
              "      border-radius: 50%;\n",
              "      cursor: pointer;\n",
              "      display: none;\n",
              "      fill: #1967D2;\n",
              "      height: 32px;\n",
              "      padding: 0 0 0 0;\n",
              "      width: 32px;\n",
              "    }\n",
              "\n",
              "    .colab-df-convert:hover {\n",
              "      background-color: #E2EBFA;\n",
              "      box-shadow: 0px 1px 2px rgba(60, 64, 67, 0.3), 0px 1px 3px 1px rgba(60, 64, 67, 0.15);\n",
              "      fill: #174EA6;\n",
              "    }\n",
              "\n",
              "    [theme=dark] .colab-df-convert {\n",
              "      background-color: #3B4455;\n",
              "      fill: #D2E3FC;\n",
              "    }\n",
              "\n",
              "    [theme=dark] .colab-df-convert:hover {\n",
              "      background-color: #434B5C;\n",
              "      box-shadow: 0px 1px 3px 1px rgba(0, 0, 0, 0.15);\n",
              "      filter: drop-shadow(0px 1px 2px rgba(0, 0, 0, 0.3));\n",
              "      fill: #FFFFFF;\n",
              "    }\n",
              "  </style>\n",
              "\n",
              "      <script>\n",
              "        const buttonEl =\n",
              "          document.querySelector('#df-244d47d9-9d4b-4cee-9019-90d37f3f8d41 button.colab-df-convert');\n",
              "        buttonEl.style.display =\n",
              "          google.colab.kernel.accessAllowed ? 'block' : 'none';\n",
              "\n",
              "        async function convertToInteractive(key) {\n",
              "          const element = document.querySelector('#df-244d47d9-9d4b-4cee-9019-90d37f3f8d41');\n",
              "          const dataTable =\n",
              "            await google.colab.kernel.invokeFunction('convertToInteractive',\n",
              "                                                     [key], {});\n",
              "          if (!dataTable) return;\n",
              "\n",
              "          const docLinkHtml = 'Like what you see? Visit the ' +\n",
              "            '<a target=\"_blank\" href=https://colab.research.google.com/notebooks/data_table.ipynb>data table notebook</a>'\n",
              "            + ' to learn more about interactive tables.';\n",
              "          element.innerHTML = '';\n",
              "          dataTable['output_type'] = 'display_data';\n",
              "          await google.colab.output.renderOutput(dataTable, element);\n",
              "          const docLink = document.createElement('div');\n",
              "          docLink.innerHTML = docLinkHtml;\n",
              "          element.appendChild(docLink);\n",
              "        }\n",
              "      </script>\n",
              "    </div>\n",
              "  </div>\n",
              "  "
            ]
          },
          "metadata": {},
          "execution_count": 201
        }
      ],
      "source": [
        "amostra = pd.DataFrame(amostra, columns=['Amostra'])\n",
        "amostra.head()"
      ]
    },
    {
      "cell_type": "code",
      "execution_count": null,
      "metadata": {
        "id": "tnjD0A_ppsjw",
        "colab": {
          "base_uri": "https://localhost:8080/"
        },
        "outputId": "ed061e43-8f2b-40b4-b12c-00ce21eb5dbb"
      },
      "outputs": [
        {
          "output_type": "execute_result",
          "data": {
            "text/plain": [
              "503.24"
            ]
          },
          "metadata": {},
          "execution_count": 202
        }
      ],
      "source": [
        "media_amostra = amostra.mean()[0]\n",
        "media_amostra"
      ]
    },
    {
      "cell_type": "code",
      "execution_count": null,
      "metadata": {
        "id": "JXz2IFCUpsjy",
        "colab": {
          "base_uri": "https://localhost:8080/"
        },
        "outputId": "fd4212d1-c874-4c03-bc28-c6256efce2ea"
      },
      "outputs": [
        {
          "output_type": "execute_result",
          "data": {
            "text/plain": [
              "4.48380305052735"
            ]
          },
          "metadata": {},
          "execution_count": 203
        }
      ],
      "source": [
        "desvio_padrao_amostra = amostra.std()[0]\n",
        "desvio_padrao_amostra"
      ]
    },
    {
      "cell_type": "code",
      "execution_count": null,
      "metadata": {
        "id": "PE99TXSfpsj0"
      },
      "outputs": [],
      "source": [
        "media = 500\n",
        "significancia = 0.05\n",
        "confianca = 1 - significancia\n",
        "n = 50"
      ]
    },
    {
      "cell_type": "markdown",
      "metadata": {
        "id": "nqmFpl7wpsj2"
      },
      "source": [
        "### **Passo 1** - formulação das hipóteses $H_0$ e $H_1$\n",
        "\n",
        "#### <font color='red'>Lembre-se, a hipótese nula sempre contém a alegação de igualdade</font>"
      ]
    },
    {
      "cell_type": "markdown",
      "metadata": {
        "id": "QVcqkHZhpsj3"
      },
      "source": [
        "### $H_0: \\mu = 500$\n",
        "\n",
        "### $H_1: \\mu \\neq 500$"
      ]
    },
    {
      "cell_type": "markdown",
      "metadata": {
        "id": "MShPuVL6psj3"
      },
      "source": [
        "---"
      ]
    },
    {
      "cell_type": "markdown",
      "metadata": {
        "id": "_rAz73fzpsj4"
      },
      "source": [
        "### **Passo 2** - escolha da distribuição amostral adequada\n",
        "<img src='https://caelum-online-public.s3.amazonaws.com/1229-estatistica-parte3/01/img003.png' width=70%>"
      ]
    },
    {
      "cell_type": "markdown",
      "metadata": {
        "id": "XC1JOtU9psj4"
      },
      "source": [
        "### O tamanho da amostra é maior que 30?\n",
        "#### Resp.: Sim\n",
        "\n",
        "### O desvio padrão populacional é conhecido?\n",
        "#### Resp.: Não"
      ]
    },
    {
      "cell_type": "markdown",
      "metadata": {
        "id": "Uq-Zq_Sxpsj5"
      },
      "source": [
        "---"
      ]
    },
    {
      "cell_type": "markdown",
      "metadata": {
        "id": "V3OT4caspsj5"
      },
      "source": [
        "### **Passo 3** - fixação da significância do teste ($\\alpha$)"
      ]
    },
    {
      "cell_type": "markdown",
      "metadata": {
        "id": "wI1Nhj_vpsj6"
      },
      "source": [
        "https://docs.scipy.org/doc/scipy/reference/generated/scipy.stats.norm.html"
      ]
    },
    {
      "cell_type": "code",
      "execution_count": null,
      "metadata": {
        "id": "nUd-6AzZpsj6"
      },
      "outputs": [],
      "source": [
        "from scipy.stats import norm"
      ]
    },
    {
      "cell_type": "code",
      "execution_count": null,
      "metadata": {
        "id": "2JyYCHeQpsj8",
        "colab": {
          "base_uri": "https://localhost:8080/"
        },
        "outputId": "4c516155-5ec5-4355-8805-920ccaaefd29"
      },
      "outputs": [
        {
          "output_type": "execute_result",
          "data": {
            "text/plain": [
              "0.975"
            ]
          },
          "metadata": {},
          "execution_count": 206
        }
      ],
      "source": [
        "probabilidade = (0.5 + (confianca / 2))\n",
        "probabilidade"
      ]
    },
    {
      "cell_type": "markdown",
      "metadata": {
        "id": "Fu4Wbd-ipsj-"
      },
      "source": [
        "### Obtendo $z_{\\alpha/2}$"
      ]
    },
    {
      "cell_type": "code",
      "execution_count": null,
      "metadata": {
        "id": "imc3GyDLpsj_",
        "colab": {
          "base_uri": "https://localhost:8080/"
        },
        "outputId": "74607d75-2fc5-4383-aa73-47dcd53f9715"
      },
      "outputs": [
        {
          "output_type": "execute_result",
          "data": {
            "text/plain": [
              "1.959963984540054"
            ]
          },
          "metadata": {},
          "execution_count": 207
        }
      ],
      "source": [
        "z_alpha_2 = norm.ppf(probabilidade)\n",
        "z_alpha_2"
      ]
    },
    {
      "cell_type": "markdown",
      "metadata": {
        "id": "d98Z21yOpskB"
      },
      "source": [
        "![Região de Aceitação](https://caelum-online-public.s3.amazonaws.com/1229-estatistica-parte3/01/img006.png)"
      ]
    },
    {
      "cell_type": "markdown",
      "metadata": {
        "id": "eyfX7pYMpskC"
      },
      "source": [
        "---"
      ]
    },
    {
      "cell_type": "markdown",
      "metadata": {
        "id": "aaLCZs0ApskC"
      },
      "source": [
        "### **Passo 4** - cálculo da estatística-teste e verificação desse valor com as áreas de aceitação e rejeição do teste\n",
        "\n",
        "# $$z = \\frac{\\bar{x} - \\mu_0}{\\frac{s}{\\sqrt{n}}}$$"
      ]
    },
    {
      "cell_type": "code",
      "execution_count": null,
      "metadata": {
        "id": "a6zMj0YzpskC",
        "colab": {
          "base_uri": "https://localhost:8080/"
        },
        "outputId": "1103344b-9d0b-4566-d44a-a1524036c245"
      },
      "outputs": [
        {
          "output_type": "execute_result",
          "data": {
            "text/plain": [
              "5.109559775991873"
            ]
          },
          "metadata": {},
          "execution_count": 208
        }
      ],
      "source": [
        "z = (media_amostra - media) / (desvio_padrao_amostra / np.sqrt(n))\n",
        "z"
      ]
    },
    {
      "cell_type": "markdown",
      "metadata": {
        "id": "UMHqgrlupskE"
      },
      "source": [
        "![Estatística-Teste](https://caelum-online-public.s3.amazonaws.com/1229-estatistica-parte3/01/img007.png)"
      ]
    },
    {
      "cell_type": "markdown",
      "metadata": {
        "id": "tFfJX8G9pskF"
      },
      "source": [
        "---"
      ]
    },
    {
      "cell_type": "markdown",
      "metadata": {
        "id": "aqTnTTePpskF"
      },
      "source": [
        "### **Passo 5** - Aceitação ou rejeição da hipótese nula"
      ]
    },
    {
      "cell_type": "markdown",
      "metadata": {
        "id": "pD1cc4DHpskG"
      },
      "source": [
        "<img src='https://caelum-online-public.s3.amazonaws.com/1229-estatistica-parte3/01/img013.png' width=90%>"
      ]
    },
    {
      "cell_type": "markdown",
      "metadata": {
        "id": "qbnH6V15pskG"
      },
      "source": [
        "### <font color='red'>Critério do valor crítico</font>\n",
        "\n",
        "> ### Teste Bicaudal\n",
        "> ### Rejeitar $H_0$ se $z \\leq -z_{\\alpha / 2}$ ou se $z \\geq z_{\\alpha / 2}$"
      ]
    },
    {
      "cell_type": "code",
      "execution_count": null,
      "metadata": {
        "id": "-MkJyqSupskG",
        "colab": {
          "base_uri": "https://localhost:8080/"
        },
        "outputId": "98f4b575-04b8-4c44-fe40-cd1d14736bdb"
      },
      "outputs": [
        {
          "output_type": "execute_result",
          "data": {
            "text/plain": [
              "False"
            ]
          },
          "metadata": {},
          "execution_count": 209
        }
      ],
      "source": [
        "z <= -z_alpha_2"
      ]
    },
    {
      "cell_type": "code",
      "execution_count": null,
      "metadata": {
        "id": "FVTIIXA3pskI",
        "colab": {
          "base_uri": "https://localhost:8080/"
        },
        "outputId": "36cefcf0-4f0a-4256-b8ba-e1b061a913d4"
      },
      "outputs": [
        {
          "output_type": "execute_result",
          "data": {
            "text/plain": [
              "True"
            ]
          },
          "metadata": {},
          "execution_count": 210
        }
      ],
      "source": [
        "z >= z_alpha_2"
      ]
    },
    {
      "cell_type": "code",
      "source": [
        "print('z =', round(z, 4))\n",
        "if(z <= -z_alpha_2 or z >= z_alpha_2):\n",
        "    print('Rejeitar H0')\n",
        "else:\n",
        "    print('Aceitar H0')"
      ],
      "metadata": {
        "colab": {
          "base_uri": "https://localhost:8080/"
        },
        "id": "yHVmWGHHB4Hv",
        "outputId": "42239f7a-4c15-4524-b54e-9f0350e3680b"
      },
      "execution_count": null,
      "outputs": [
        {
          "output_type": "stream",
          "name": "stdout",
          "text": [
            "z = 5.1096\n",
            "Rejeitar H0\n"
          ]
        }
      ]
    },
    {
      "cell_type": "markdown",
      "metadata": {
        "id": "YX-xSnZFpskM"
      },
      "source": [
        "### <font color='green'>Conclusão: Como a média amostral $\\bar{x}$ é significativamente maior que 500 ml, rejeitamos $H_0$. Neste caso, devem ser tomadas providências para ajustar o maquinário que preenche as embalagens.</font>"
      ]
    },
    {
      "cell_type": "markdown",
      "source": [
        "# **Exercicio: Pesando embalagens**\n",
        "\n",
        "Um fabricante de farinha afirma que a quantidade média de farinha nas embalagens de seu principal produto é de 500 g. Um teste de pesagem em 30 embalagens amostradas ao acaso mostrou um peso médio igual à 485 g. Estudos anteriores afirmam que a distribuição dos pesos segue uma normal e que o desvio padrão populacional é igual a 20 g. Considerando um nível de significância igual a 5%, responda as seguintes questões:\n",
        "\n",
        "1) Qual a hipótese nula a ser testada?\n",
        "\n",
        "2) Qual o valor da estatística de teste?\n",
        "\n",
        "3) Qual a conclusão do teste?"
      ],
      "metadata": {
        "id": "elz9KMX887XJ"
      }
    },
    {
      "cell_type": "markdown",
      "source": [
        "Hipotese nula a ser testada(H0): u = 500"
      ],
      "metadata": {
        "id": "VQsl-bzIp4q5"
      }
    },
    {
      "cell_type": "code",
      "source": [
        "media = 500\n",
        "n = 30\n",
        "media_amostra = 485\n",
        "desvio_padrao_populacional = 20\n",
        "significancia = 0.05\n",
        "confianca = 1 - significancia"
      ],
      "metadata": {
        "id": "6ZK6odIZ9BoJ"
      },
      "execution_count": null,
      "outputs": []
    },
    {
      "cell_type": "code",
      "source": [
        "probabilidade = (0.5 + (confianca / 2))\n",
        "probabilidade"
      ],
      "metadata": {
        "colab": {
          "base_uri": "https://localhost:8080/"
        },
        "id": "LnR2J-QO9od-",
        "outputId": "3ff8d5bc-796a-4dd1-f421-03dcddcc8d03"
      },
      "execution_count": null,
      "outputs": [
        {
          "output_type": "execute_result",
          "data": {
            "text/plain": [
              "0.975"
            ]
          },
          "metadata": {},
          "execution_count": 213
        }
      ]
    },
    {
      "cell_type": "code",
      "source": [
        "z_alpha_2 = norm.ppf(probabilidade)\n",
        "z_alpha_2"
      ],
      "metadata": {
        "colab": {
          "base_uri": "https://localhost:8080/"
        },
        "id": "G30zqL2K9obn",
        "outputId": "7f2fcad8-a4cf-4ac4-c673-88f12400b2b6"
      },
      "execution_count": null,
      "outputs": [
        {
          "output_type": "execute_result",
          "data": {
            "text/plain": [
              "1.959963984540054"
            ]
          },
          "metadata": {},
          "execution_count": 214
        }
      ]
    },
    {
      "cell_type": "code",
      "source": [
        "z = (media_amostra - media) / (desvio_padrao_populacional / np.sqrt(n))\n",
        "z"
      ],
      "metadata": {
        "colab": {
          "base_uri": "https://localhost:8080/"
        },
        "id": "5Og7zzD59oZJ",
        "outputId": "5ae86e21-6dc4-40fa-a60e-21a8589ed7c1"
      },
      "execution_count": null,
      "outputs": [
        {
          "output_type": "execute_result",
          "data": {
            "text/plain": [
              "-4.107919181288746"
            ]
          },
          "metadata": {},
          "execution_count": 215
        }
      ]
    },
    {
      "cell_type": "code",
      "source": [
        "print('z =', round(z, 4))\n",
        "if(z <= -z_alpha_2 or z >= z_alpha_2):\n",
        "    print('Rejeitar H0')\n",
        "else:\n",
        "    print('Aceitar H0')"
      ],
      "metadata": {
        "colab": {
          "base_uri": "https://localhost:8080/"
        },
        "id": "-gXn204v_dSo",
        "outputId": "749b5bd2-8bdf-4e96-fd27-93d36722a511"
      },
      "execution_count": null,
      "outputs": [
        {
          "output_type": "stream",
          "name": "stdout",
          "text": [
            "z = -4.1079\n",
            "Rejeitar H0\n"
          ]
        }
      ]
    },
    {
      "cell_type": "markdown",
      "source": [
        "# Continuando ..."
      ],
      "metadata": {
        "id": "BHrZY2Ftyof2"
      }
    },
    {
      "cell_type": "markdown",
      "metadata": {
        "id": "Aqv_KZoYpskN"
      },
      "source": [
        "### <font color='red'>Critério do $p-valor$</font>\n",
        "\n",
        "> ### Teste Bicaudal\n",
        "> ### Rejeitar $H_0$ se o valor $p\\leq\\alpha$"
      ]
    },
    {
      "cell_type": "code",
      "source": [
        "z = 5.109559775991873"
      ],
      "metadata": {
        "id": "pjJgWkjV5O8r"
      },
      "execution_count": null,
      "outputs": []
    },
    {
      "cell_type": "code",
      "execution_count": null,
      "metadata": {
        "id": "ucIaKkuopskN",
        "colab": {
          "base_uri": "https://localhost:8080/"
        },
        "outputId": "2eed2b91-b1e4-4ee4-8455-8592a5dd5003"
      },
      "outputs": [
        {
          "output_type": "execute_result",
          "data": {
            "text/plain": [
              "3.2291031715203644e-07"
            ]
          },
          "metadata": {},
          "execution_count": 218
        }
      ],
      "source": [
        "p_valor = 2 * (1 - norm.cdf(z))\n",
        "p_valor"
      ]
    },
    {
      "cell_type": "code",
      "execution_count": null,
      "metadata": {
        "id": "wGgZS83apskO",
        "colab": {
          "base_uri": "https://localhost:8080/"
        },
        "outputId": "48c053bf-f460-43e0-a110-9c2981abb317"
      },
      "outputs": [
        {
          "output_type": "execute_result",
          "data": {
            "text/plain": [
              "3.229103172445771e-07"
            ]
          },
          "metadata": {},
          "execution_count": 219
        }
      ],
      "source": [
        "p_valor = 2 * (norm.sf(z))\n",
        "p_valor"
      ]
    },
    {
      "cell_type": "code",
      "execution_count": null,
      "metadata": {
        "id": "vUHgYIHqpskR",
        "scrolled": true,
        "colab": {
          "base_uri": "https://localhost:8080/"
        },
        "outputId": "b0487132-9f56-4e67-ace0-bd317aad55a8"
      },
      "outputs": [
        {
          "output_type": "execute_result",
          "data": {
            "text/plain": [
              "True"
            ]
          },
          "metadata": {},
          "execution_count": 220
        }
      ],
      "source": [
        "p_valor <= significancia"
      ]
    },
    {
      "cell_type": "markdown",
      "metadata": {
        "id": "YRw1O5X8pskT"
      },
      "source": [
        "https://www.statsmodels.org/stable/generated/statsmodels.stats.weightstats.ztest.html"
      ]
    },
    {
      "cell_type": "code",
      "execution_count": null,
      "metadata": {
        "id": "rg3hUlqfpskU"
      },
      "outputs": [],
      "source": [
        "from statsmodels.stats.weightstats import ztest"
      ]
    },
    {
      "cell_type": "code",
      "execution_count": null,
      "metadata": {
        "id": "0pC3HAjzpskV",
        "colab": {
          "base_uri": "https://localhost:8080/"
        },
        "outputId": "8172c6c9-fb54-4ec0-f887-7970ba79d98f"
      },
      "outputs": [
        {
          "output_type": "execute_result",
          "data": {
            "text/plain": [
              "(array([5.10955978]), array([3.22910317e-07]))"
            ]
          },
          "metadata": {},
          "execution_count": 222
        }
      ],
      "source": [
        "ztest(x1 = amostra, value = media)"
      ]
    },
    {
      "cell_type": "markdown",
      "metadata": {
        "id": "X5MVCXS6pskX"
      },
      "source": [
        "https://www.statsmodels.org/dev/generated/statsmodels.stats.weightstats.DescrStatsW.html"
      ]
    },
    {
      "cell_type": "code",
      "execution_count": null,
      "metadata": {
        "id": "ke2O2P00pskX"
      },
      "outputs": [],
      "source": [
        "from statsmodels.stats.weightstats import DescrStatsW"
      ]
    },
    {
      "cell_type": "code",
      "execution_count": null,
      "metadata": {
        "id": "Dz_iOYR4pskZ",
        "colab": {
          "base_uri": "https://localhost:8080/"
        },
        "outputId": "81134641-9395-470d-9d67-e98ed8b2c0b5"
      },
      "outputs": [
        {
          "output_type": "execute_result",
          "data": {
            "text/plain": [
              "<statsmodels.stats.weightstats.DescrStatsW at 0x7f6ada12d130>"
            ]
          },
          "metadata": {},
          "execution_count": 224
        }
      ],
      "source": [
        "test = DescrStatsW(amostra)\n",
        "test"
      ]
    },
    {
      "cell_type": "code",
      "execution_count": null,
      "metadata": {
        "id": "LJBxBo5dpskb",
        "colab": {
          "base_uri": "https://localhost:8080/"
        },
        "outputId": "aa8236d1-10b1-4511-a6cc-75c2970386e5"
      },
      "outputs": [
        {
          "output_type": "stream",
          "name": "stdout",
          "text": [
            "5.109559775991874\n",
            "3.2291031724457596e-07\n"
          ]
        }
      ],
      "source": [
        "z, p_valor = test.ztest_mean(value = media)\n",
        "print(z[0])\n",
        "print(p_valor[0])"
      ]
    },
    {
      "cell_type": "markdown",
      "source": [
        "# **Exercicio: Calculando o p-valor**\n",
        "\n",
        "Considere novamente os dados do exercício anterior. Um fabricante de farinha afirma que a quantidade média de farinha nas embalagens de seu principal produto é de 500 g. Um teste de pesagem em 30 embalagens amostradas ao acaso mostrou um peso médio igual à 485 g. Estudos anteriores afirmam que a distribuição dos pesos segue uma normal e que o desvio padrão populacional é igual a 20 g. Com um nível de significância igual a 5%, teste a hipótese nula de que a média do processo é igual a 500 g e marque a alternativa que indica o p-valor do teste aplicado (considere somente 5 casas decimais)."
      ],
      "metadata": {
        "id": "ZKqf9zJZ25jc"
      }
    },
    {
      "cell_type": "code",
      "source": [
        "z = -4.107919181288746"
      ],
      "metadata": {
        "id": "ARfxNFrc3AbE"
      },
      "execution_count": null,
      "outputs": []
    },
    {
      "cell_type": "code",
      "source": [
        "p_valor = 2 * (1 - norm.cdf(abs(z)))\n",
        "print(\"{:.5f}\".format(p_valor))"
      ],
      "metadata": {
        "colab": {
          "base_uri": "https://localhost:8080/"
        },
        "id": "cNKJmh1g5xxT",
        "outputId": "f619a31a-03ce-4bd2-85ce-1b78641347b4"
      },
      "execution_count": null,
      "outputs": [
        {
          "output_type": "stream",
          "name": "stdout",
          "text": [
            "0.00004\n"
          ]
        }
      ]
    },
    {
      "cell_type": "code",
      "source": [
        "p_valor = 2 * norm.sf(abs(z))\n",
        "print(\"{:.5f}\".format(p_valor))"
      ],
      "metadata": {
        "colab": {
          "base_uri": "https://localhost:8080/"
        },
        "id": "MC3vVQlh6_PC",
        "outputId": "3a82a59a-34c9-4d18-b0e0-3410fda80f60"
      },
      "execution_count": null,
      "outputs": [
        {
          "output_type": "stream",
          "name": "stdout",
          "text": [
            "0.00004\n"
          ]
        }
      ]
    },
    {
      "cell_type": "markdown",
      "metadata": {
        "id": "YQQdl-Nepskv"
      },
      "source": [
        "---"
      ]
    },
    {
      "cell_type": "markdown",
      "metadata": {
        "id": "U8OWXeVtpskv"
      },
      "source": [
        "## <font color=green>3.2 Teste Unicaudal</font>\n",
        "***"
      ]
    },
    {
      "cell_type": "markdown",
      "metadata": {
        "id": "CPHPL4nWpskw"
      },
      "source": [
        "## <font color='red'>Problema</font>"
      ]
    },
    {
      "cell_type": "markdown",
      "metadata": {
        "id": "vDyxOXLvpskw"
      },
      "source": [
        "Um famoso fabricante de refrigerantes alega que uma lata de 350 ml de seu principal produto contém, **no máximo**, **37 gramas de açúcar**. Esta alegação nos leva a entender que a quantidade média de açúcar em uma lata de refrigerante deve ser **igual ou menor que 37 g**.\n",
        "\n",
        "Um consumidor desconfiado e com conhecimentos em inferência estatística resolve testar a alegação do fabricante e seleciona, aleatóriamente, em um conjunto de estabelecimentos distintos, **uma amostra de 25 latas** do refrigerante em questão. Utilizando o equipamento correto o consumidor obteve as quantidades de açúcar em todas as 25 latas de sua amostra. \n",
        "\n",
        "**Assumindo que essa população se distribua aproximadamente como uma normal e considerando um nível de significância de 5%, é possível aceitar como válida a alegação do fabricante?**"
      ]
    },
    {
      "cell_type": "markdown",
      "metadata": {
        "id": "5P5nWN0epsky"
      },
      "source": [
        "### Construindo tabela $t$ de Student\n",
        "https://docs.scipy.org/doc/scipy/reference/generated/scipy.stats.t.html"
      ]
    },
    {
      "cell_type": "code",
      "execution_count": null,
      "metadata": {
        "id": "lKuhGKPEpsky",
        "scrolled": false,
        "colab": {
          "base_uri": "https://localhost:8080/",
          "height": 1022
        },
        "outputId": "d8acd9ed-937b-46a2-98ce-7b86d211ef35"
      },
      "outputs": [
        {
          "output_type": "execute_result",
          "data": {
            "text/plain": [
              "Bicaudal                          0.100     0.090     0.080     0.070  \\\n",
              "Unicaudal                         0.050     0.045     0.040     0.035   \n",
              "Graus de Liberdade (n - 1) 1   6.313752  7.026366  7.915815  9.057887   \n",
              "                           2   2.919986  3.103977  3.319764  3.578247   \n",
              "                           3   2.353363  2.470807  2.605427  2.762599   \n",
              "                           4   2.131847    2.2261  2.332873  2.455892   \n",
              "                           5   2.015048  2.097837  2.190958  2.297392   \n",
              "                           6    1.94318  2.019201  2.104306  2.201059   \n",
              "                           7   1.894579  1.966153  2.046011  2.136453   \n",
              "                           8   1.859548  1.927986  2.004152  2.090166   \n",
              "                           9   1.833113  1.899222  1.972653  2.055395   \n",
              "                           10  1.812461  1.876774  1.948099  2.028327   \n",
              "                           11  1.795885  1.858772  1.928427  2.006663   \n",
              "                           12  1.782288  1.844015  1.912313  1.988934   \n",
              "                           13  1.770933    1.8317  1.898874  1.974158   \n",
              "                           14   1.76131  1.821267  1.887496  1.961656   \n",
              "                           15   1.75305  1.812316  1.877739   1.95094   \n",
              "                           16  1.745884  1.804553  1.869279  1.941654   \n",
              "                           17  1.739607  1.797755  1.861875   1.93353   \n",
              "                           18  1.734064  1.791754   1.85534  1.926362   \n",
              "                           19  1.729133  1.786417   1.84953  1.919992   \n",
              "                           20  1.724718   1.78164  1.844331  1.914292   \n",
              "                           21  1.720743  1.777339  1.839651  1.909164   \n",
              "                           22  1.717144  1.773447  1.835417  1.904524   \n",
              "                           23  1.713872  1.769907  1.831567  1.900307   \n",
              "                           24  1.710882  1.766675  1.828051  1.896457   \n",
              "                           25  1.708141  1.763711  1.824828  1.892928   \n",
              "                           26  1.705618  1.760983  1.821863  1.889682   \n",
              "                           27  1.703288  1.758466  1.819126  1.886686   \n",
              "                           28  1.701131  1.756134  1.816592  1.883912   \n",
              "                           29  1.699127  1.753968  1.814238  1.881336   \n",
              "                           30  1.697261  1.751952  1.812047  1.878938   \n",
              "\n",
              "Bicaudal                           0.060      0.050      0.040      0.030  \\\n",
              "Unicaudal                          0.030      0.025      0.020      0.015   \n",
              "Graus de Liberdade (n - 1) 1   10.578895  12.706205  15.894545  21.204949   \n",
              "                           2    3.896425   4.302653   4.848732   5.642778   \n",
              "                           3     2.95051   3.182446   3.481909   3.896046   \n",
              "                           4    2.600762   2.776445   2.998528    3.29763   \n",
              "                           5    2.421585   2.570582   2.756509   3.002875   \n",
              "                           6    2.313263   2.446912   2.612242   2.828928   \n",
              "                           7    2.240879   2.364624   2.516752   2.714573   \n",
              "                           8    2.189155   2.306004   2.448985   2.633814   \n",
              "                           9    2.150375   2.262157   2.398441   2.573804   \n",
              "                           10   2.120234   2.228139   2.359315   2.527484   \n",
              "                           11   2.096139   2.200985    2.32814   2.490664   \n",
              "                           12   2.076441   2.178813   2.302722     2.4607   \n",
              "                           13   2.060038   2.160369   2.281604   2.435845   \n",
              "                           14   2.046169   2.144787   2.263781   2.414898   \n",
              "                           15   2.034289    2.13145    2.24854   2.397005   \n",
              "                           16      2.024   2.119905   2.235358   2.381545   \n",
              "                           17   2.015002   2.109816   2.223845   2.368055   \n",
              "                           18   2.007067   2.100922   2.213703    2.35618   \n",
              "                           19   2.000017   2.093024   2.204701   2.345648   \n",
              "                           20   1.993713   2.085963   2.196658   2.336242   \n",
              "                           21   1.988041   2.079614   2.189427   2.327792   \n",
              "                           22   1.982911   2.073873   2.182893    2.32016   \n",
              "                           23   1.978249   2.068658   2.176958   2.313231   \n",
              "                           24   1.973994   2.063899   2.171545   2.306913   \n",
              "                           25   1.970095   2.059539   2.166587    2.30113   \n",
              "                           26   1.966509   2.055529   2.162029   2.295815   \n",
              "                           27     1.9632   2.051831   2.157825   2.290914   \n",
              "                           28   1.960136   2.048407   2.153935    2.28638   \n",
              "                           29   1.957293    2.04523   2.150325   2.282175   \n",
              "                           30   1.954645   2.042272   2.146966   2.278262   \n",
              "\n",
              "Bicaudal                           0.020      0.010  \n",
              "Unicaudal                          0.010      0.005  \n",
              "Graus de Liberdade (n - 1) 1   31.820516  63.656741  \n",
              "                           2    6.964557   9.924843  \n",
              "                           3    4.540703   5.840909  \n",
              "                           4    3.746947   4.604095  \n",
              "                           5     3.36493   4.032143  \n",
              "                           6    3.142668   3.707428  \n",
              "                           7    2.997952   3.499483  \n",
              "                           8    2.896459   3.355387  \n",
              "                           9    2.821438   3.249836  \n",
              "                           10   2.763769   3.169273  \n",
              "                           11   2.718079   3.105807  \n",
              "                           12   2.680998    3.05454  \n",
              "                           13   2.650309   3.012276  \n",
              "                           14   2.624494   2.976843  \n",
              "                           15    2.60248   2.946713  \n",
              "                           16   2.583487   2.920782  \n",
              "                           17   2.566934   2.898231  \n",
              "                           18    2.55238    2.87844  \n",
              "                           19   2.539483   2.860935  \n",
              "                           20   2.527977    2.84534  \n",
              "                           21   2.517648    2.83136  \n",
              "                           22   2.508325   2.818756  \n",
              "                           23   2.499867   2.807336  \n",
              "                           24   2.492159    2.79694  \n",
              "                           25   2.485107   2.787436  \n",
              "                           26    2.47863   2.778715  \n",
              "                           27    2.47266   2.770683  \n",
              "                           28    2.46714   2.763262  \n",
              "                           29   2.462021   2.756386  \n",
              "                           30   2.457262   2.749996  "
            ],
            "text/html": [
              "\n",
              "  <div id=\"df-aad6de1b-4c04-4346-beb5-f1555adcf54d\">\n",
              "    <div class=\"colab-df-container\">\n",
              "      <div>\n",
              "<style scoped>\n",
              "    .dataframe tbody tr th:only-of-type {\n",
              "        vertical-align: middle;\n",
              "    }\n",
              "\n",
              "    .dataframe tbody tr th {\n",
              "        vertical-align: top;\n",
              "    }\n",
              "\n",
              "    .dataframe thead tr th {\n",
              "        text-align: left;\n",
              "    }\n",
              "</style>\n",
              "<table border=\"1\" class=\"dataframe\">\n",
              "  <thead>\n",
              "    <tr>\n",
              "      <th></th>\n",
              "      <th>Bicaudal</th>\n",
              "      <th>0.100</th>\n",
              "      <th>0.090</th>\n",
              "      <th>0.080</th>\n",
              "      <th>0.070</th>\n",
              "      <th>0.060</th>\n",
              "      <th>0.050</th>\n",
              "      <th>0.040</th>\n",
              "      <th>0.030</th>\n",
              "      <th>0.020</th>\n",
              "      <th>0.010</th>\n",
              "    </tr>\n",
              "    <tr>\n",
              "      <th></th>\n",
              "      <th>Unicaudal</th>\n",
              "      <th>0.050</th>\n",
              "      <th>0.045</th>\n",
              "      <th>0.040</th>\n",
              "      <th>0.035</th>\n",
              "      <th>0.030</th>\n",
              "      <th>0.025</th>\n",
              "      <th>0.020</th>\n",
              "      <th>0.015</th>\n",
              "      <th>0.010</th>\n",
              "      <th>0.005</th>\n",
              "    </tr>\n",
              "  </thead>\n",
              "  <tbody>\n",
              "    <tr>\n",
              "      <th rowspan=\"30\" valign=\"top\">Graus de Liberdade (n - 1)</th>\n",
              "      <th>1</th>\n",
              "      <td>6.313752</td>\n",
              "      <td>7.026366</td>\n",
              "      <td>7.915815</td>\n",
              "      <td>9.057887</td>\n",
              "      <td>10.578895</td>\n",
              "      <td>12.706205</td>\n",
              "      <td>15.894545</td>\n",
              "      <td>21.204949</td>\n",
              "      <td>31.820516</td>\n",
              "      <td>63.656741</td>\n",
              "    </tr>\n",
              "    <tr>\n",
              "      <th>2</th>\n",
              "      <td>2.919986</td>\n",
              "      <td>3.103977</td>\n",
              "      <td>3.319764</td>\n",
              "      <td>3.578247</td>\n",
              "      <td>3.896425</td>\n",
              "      <td>4.302653</td>\n",
              "      <td>4.848732</td>\n",
              "      <td>5.642778</td>\n",
              "      <td>6.964557</td>\n",
              "      <td>9.924843</td>\n",
              "    </tr>\n",
              "    <tr>\n",
              "      <th>3</th>\n",
              "      <td>2.353363</td>\n",
              "      <td>2.470807</td>\n",
              "      <td>2.605427</td>\n",
              "      <td>2.762599</td>\n",
              "      <td>2.95051</td>\n",
              "      <td>3.182446</td>\n",
              "      <td>3.481909</td>\n",
              "      <td>3.896046</td>\n",
              "      <td>4.540703</td>\n",
              "      <td>5.840909</td>\n",
              "    </tr>\n",
              "    <tr>\n",
              "      <th>4</th>\n",
              "      <td>2.131847</td>\n",
              "      <td>2.2261</td>\n",
              "      <td>2.332873</td>\n",
              "      <td>2.455892</td>\n",
              "      <td>2.600762</td>\n",
              "      <td>2.776445</td>\n",
              "      <td>2.998528</td>\n",
              "      <td>3.29763</td>\n",
              "      <td>3.746947</td>\n",
              "      <td>4.604095</td>\n",
              "    </tr>\n",
              "    <tr>\n",
              "      <th>5</th>\n",
              "      <td>2.015048</td>\n",
              "      <td>2.097837</td>\n",
              "      <td>2.190958</td>\n",
              "      <td>2.297392</td>\n",
              "      <td>2.421585</td>\n",
              "      <td>2.570582</td>\n",
              "      <td>2.756509</td>\n",
              "      <td>3.002875</td>\n",
              "      <td>3.36493</td>\n",
              "      <td>4.032143</td>\n",
              "    </tr>\n",
              "    <tr>\n",
              "      <th>6</th>\n",
              "      <td>1.94318</td>\n",
              "      <td>2.019201</td>\n",
              "      <td>2.104306</td>\n",
              "      <td>2.201059</td>\n",
              "      <td>2.313263</td>\n",
              "      <td>2.446912</td>\n",
              "      <td>2.612242</td>\n",
              "      <td>2.828928</td>\n",
              "      <td>3.142668</td>\n",
              "      <td>3.707428</td>\n",
              "    </tr>\n",
              "    <tr>\n",
              "      <th>7</th>\n",
              "      <td>1.894579</td>\n",
              "      <td>1.966153</td>\n",
              "      <td>2.046011</td>\n",
              "      <td>2.136453</td>\n",
              "      <td>2.240879</td>\n",
              "      <td>2.364624</td>\n",
              "      <td>2.516752</td>\n",
              "      <td>2.714573</td>\n",
              "      <td>2.997952</td>\n",
              "      <td>3.499483</td>\n",
              "    </tr>\n",
              "    <tr>\n",
              "      <th>8</th>\n",
              "      <td>1.859548</td>\n",
              "      <td>1.927986</td>\n",
              "      <td>2.004152</td>\n",
              "      <td>2.090166</td>\n",
              "      <td>2.189155</td>\n",
              "      <td>2.306004</td>\n",
              "      <td>2.448985</td>\n",
              "      <td>2.633814</td>\n",
              "      <td>2.896459</td>\n",
              "      <td>3.355387</td>\n",
              "    </tr>\n",
              "    <tr>\n",
              "      <th>9</th>\n",
              "      <td>1.833113</td>\n",
              "      <td>1.899222</td>\n",
              "      <td>1.972653</td>\n",
              "      <td>2.055395</td>\n",
              "      <td>2.150375</td>\n",
              "      <td>2.262157</td>\n",
              "      <td>2.398441</td>\n",
              "      <td>2.573804</td>\n",
              "      <td>2.821438</td>\n",
              "      <td>3.249836</td>\n",
              "    </tr>\n",
              "    <tr>\n",
              "      <th>10</th>\n",
              "      <td>1.812461</td>\n",
              "      <td>1.876774</td>\n",
              "      <td>1.948099</td>\n",
              "      <td>2.028327</td>\n",
              "      <td>2.120234</td>\n",
              "      <td>2.228139</td>\n",
              "      <td>2.359315</td>\n",
              "      <td>2.527484</td>\n",
              "      <td>2.763769</td>\n",
              "      <td>3.169273</td>\n",
              "    </tr>\n",
              "    <tr>\n",
              "      <th>11</th>\n",
              "      <td>1.795885</td>\n",
              "      <td>1.858772</td>\n",
              "      <td>1.928427</td>\n",
              "      <td>2.006663</td>\n",
              "      <td>2.096139</td>\n",
              "      <td>2.200985</td>\n",
              "      <td>2.32814</td>\n",
              "      <td>2.490664</td>\n",
              "      <td>2.718079</td>\n",
              "      <td>3.105807</td>\n",
              "    </tr>\n",
              "    <tr>\n",
              "      <th>12</th>\n",
              "      <td>1.782288</td>\n",
              "      <td>1.844015</td>\n",
              "      <td>1.912313</td>\n",
              "      <td>1.988934</td>\n",
              "      <td>2.076441</td>\n",
              "      <td>2.178813</td>\n",
              "      <td>2.302722</td>\n",
              "      <td>2.4607</td>\n",
              "      <td>2.680998</td>\n",
              "      <td>3.05454</td>\n",
              "    </tr>\n",
              "    <tr>\n",
              "      <th>13</th>\n",
              "      <td>1.770933</td>\n",
              "      <td>1.8317</td>\n",
              "      <td>1.898874</td>\n",
              "      <td>1.974158</td>\n",
              "      <td>2.060038</td>\n",
              "      <td>2.160369</td>\n",
              "      <td>2.281604</td>\n",
              "      <td>2.435845</td>\n",
              "      <td>2.650309</td>\n",
              "      <td>3.012276</td>\n",
              "    </tr>\n",
              "    <tr>\n",
              "      <th>14</th>\n",
              "      <td>1.76131</td>\n",
              "      <td>1.821267</td>\n",
              "      <td>1.887496</td>\n",
              "      <td>1.961656</td>\n",
              "      <td>2.046169</td>\n",
              "      <td>2.144787</td>\n",
              "      <td>2.263781</td>\n",
              "      <td>2.414898</td>\n",
              "      <td>2.624494</td>\n",
              "      <td>2.976843</td>\n",
              "    </tr>\n",
              "    <tr>\n",
              "      <th>15</th>\n",
              "      <td>1.75305</td>\n",
              "      <td>1.812316</td>\n",
              "      <td>1.877739</td>\n",
              "      <td>1.95094</td>\n",
              "      <td>2.034289</td>\n",
              "      <td>2.13145</td>\n",
              "      <td>2.24854</td>\n",
              "      <td>2.397005</td>\n",
              "      <td>2.60248</td>\n",
              "      <td>2.946713</td>\n",
              "    </tr>\n",
              "    <tr>\n",
              "      <th>16</th>\n",
              "      <td>1.745884</td>\n",
              "      <td>1.804553</td>\n",
              "      <td>1.869279</td>\n",
              "      <td>1.941654</td>\n",
              "      <td>2.024</td>\n",
              "      <td>2.119905</td>\n",
              "      <td>2.235358</td>\n",
              "      <td>2.381545</td>\n",
              "      <td>2.583487</td>\n",
              "      <td>2.920782</td>\n",
              "    </tr>\n",
              "    <tr>\n",
              "      <th>17</th>\n",
              "      <td>1.739607</td>\n",
              "      <td>1.797755</td>\n",
              "      <td>1.861875</td>\n",
              "      <td>1.93353</td>\n",
              "      <td>2.015002</td>\n",
              "      <td>2.109816</td>\n",
              "      <td>2.223845</td>\n",
              "      <td>2.368055</td>\n",
              "      <td>2.566934</td>\n",
              "      <td>2.898231</td>\n",
              "    </tr>\n",
              "    <tr>\n",
              "      <th>18</th>\n",
              "      <td>1.734064</td>\n",
              "      <td>1.791754</td>\n",
              "      <td>1.85534</td>\n",
              "      <td>1.926362</td>\n",
              "      <td>2.007067</td>\n",
              "      <td>2.100922</td>\n",
              "      <td>2.213703</td>\n",
              "      <td>2.35618</td>\n",
              "      <td>2.55238</td>\n",
              "      <td>2.87844</td>\n",
              "    </tr>\n",
              "    <tr>\n",
              "      <th>19</th>\n",
              "      <td>1.729133</td>\n",
              "      <td>1.786417</td>\n",
              "      <td>1.84953</td>\n",
              "      <td>1.919992</td>\n",
              "      <td>2.000017</td>\n",
              "      <td>2.093024</td>\n",
              "      <td>2.204701</td>\n",
              "      <td>2.345648</td>\n",
              "      <td>2.539483</td>\n",
              "      <td>2.860935</td>\n",
              "    </tr>\n",
              "    <tr>\n",
              "      <th>20</th>\n",
              "      <td>1.724718</td>\n",
              "      <td>1.78164</td>\n",
              "      <td>1.844331</td>\n",
              "      <td>1.914292</td>\n",
              "      <td>1.993713</td>\n",
              "      <td>2.085963</td>\n",
              "      <td>2.196658</td>\n",
              "      <td>2.336242</td>\n",
              "      <td>2.527977</td>\n",
              "      <td>2.84534</td>\n",
              "    </tr>\n",
              "    <tr>\n",
              "      <th>21</th>\n",
              "      <td>1.720743</td>\n",
              "      <td>1.777339</td>\n",
              "      <td>1.839651</td>\n",
              "      <td>1.909164</td>\n",
              "      <td>1.988041</td>\n",
              "      <td>2.079614</td>\n",
              "      <td>2.189427</td>\n",
              "      <td>2.327792</td>\n",
              "      <td>2.517648</td>\n",
              "      <td>2.83136</td>\n",
              "    </tr>\n",
              "    <tr>\n",
              "      <th>22</th>\n",
              "      <td>1.717144</td>\n",
              "      <td>1.773447</td>\n",
              "      <td>1.835417</td>\n",
              "      <td>1.904524</td>\n",
              "      <td>1.982911</td>\n",
              "      <td>2.073873</td>\n",
              "      <td>2.182893</td>\n",
              "      <td>2.32016</td>\n",
              "      <td>2.508325</td>\n",
              "      <td>2.818756</td>\n",
              "    </tr>\n",
              "    <tr>\n",
              "      <th>23</th>\n",
              "      <td>1.713872</td>\n",
              "      <td>1.769907</td>\n",
              "      <td>1.831567</td>\n",
              "      <td>1.900307</td>\n",
              "      <td>1.978249</td>\n",
              "      <td>2.068658</td>\n",
              "      <td>2.176958</td>\n",
              "      <td>2.313231</td>\n",
              "      <td>2.499867</td>\n",
              "      <td>2.807336</td>\n",
              "    </tr>\n",
              "    <tr>\n",
              "      <th>24</th>\n",
              "      <td>1.710882</td>\n",
              "      <td>1.766675</td>\n",
              "      <td>1.828051</td>\n",
              "      <td>1.896457</td>\n",
              "      <td>1.973994</td>\n",
              "      <td>2.063899</td>\n",
              "      <td>2.171545</td>\n",
              "      <td>2.306913</td>\n",
              "      <td>2.492159</td>\n",
              "      <td>2.79694</td>\n",
              "    </tr>\n",
              "    <tr>\n",
              "      <th>25</th>\n",
              "      <td>1.708141</td>\n",
              "      <td>1.763711</td>\n",
              "      <td>1.824828</td>\n",
              "      <td>1.892928</td>\n",
              "      <td>1.970095</td>\n",
              "      <td>2.059539</td>\n",
              "      <td>2.166587</td>\n",
              "      <td>2.30113</td>\n",
              "      <td>2.485107</td>\n",
              "      <td>2.787436</td>\n",
              "    </tr>\n",
              "    <tr>\n",
              "      <th>26</th>\n",
              "      <td>1.705618</td>\n",
              "      <td>1.760983</td>\n",
              "      <td>1.821863</td>\n",
              "      <td>1.889682</td>\n",
              "      <td>1.966509</td>\n",
              "      <td>2.055529</td>\n",
              "      <td>2.162029</td>\n",
              "      <td>2.295815</td>\n",
              "      <td>2.47863</td>\n",
              "      <td>2.778715</td>\n",
              "    </tr>\n",
              "    <tr>\n",
              "      <th>27</th>\n",
              "      <td>1.703288</td>\n",
              "      <td>1.758466</td>\n",
              "      <td>1.819126</td>\n",
              "      <td>1.886686</td>\n",
              "      <td>1.9632</td>\n",
              "      <td>2.051831</td>\n",
              "      <td>2.157825</td>\n",
              "      <td>2.290914</td>\n",
              "      <td>2.47266</td>\n",
              "      <td>2.770683</td>\n",
              "    </tr>\n",
              "    <tr>\n",
              "      <th>28</th>\n",
              "      <td>1.701131</td>\n",
              "      <td>1.756134</td>\n",
              "      <td>1.816592</td>\n",
              "      <td>1.883912</td>\n",
              "      <td>1.960136</td>\n",
              "      <td>2.048407</td>\n",
              "      <td>2.153935</td>\n",
              "      <td>2.28638</td>\n",
              "      <td>2.46714</td>\n",
              "      <td>2.763262</td>\n",
              "    </tr>\n",
              "    <tr>\n",
              "      <th>29</th>\n",
              "      <td>1.699127</td>\n",
              "      <td>1.753968</td>\n",
              "      <td>1.814238</td>\n",
              "      <td>1.881336</td>\n",
              "      <td>1.957293</td>\n",
              "      <td>2.04523</td>\n",
              "      <td>2.150325</td>\n",
              "      <td>2.282175</td>\n",
              "      <td>2.462021</td>\n",
              "      <td>2.756386</td>\n",
              "    </tr>\n",
              "    <tr>\n",
              "      <th>30</th>\n",
              "      <td>1.697261</td>\n",
              "      <td>1.751952</td>\n",
              "      <td>1.812047</td>\n",
              "      <td>1.878938</td>\n",
              "      <td>1.954645</td>\n",
              "      <td>2.042272</td>\n",
              "      <td>2.146966</td>\n",
              "      <td>2.278262</td>\n",
              "      <td>2.457262</td>\n",
              "      <td>2.749996</td>\n",
              "    </tr>\n",
              "  </tbody>\n",
              "</table>\n",
              "</div>\n",
              "      <button class=\"colab-df-convert\" onclick=\"convertToInteractive('df-aad6de1b-4c04-4346-beb5-f1555adcf54d')\"\n",
              "              title=\"Convert this dataframe to an interactive table.\"\n",
              "              style=\"display:none;\">\n",
              "        \n",
              "  <svg xmlns=\"http://www.w3.org/2000/svg\" height=\"24px\"viewBox=\"0 0 24 24\"\n",
              "       width=\"24px\">\n",
              "    <path d=\"M0 0h24v24H0V0z\" fill=\"none\"/>\n",
              "    <path d=\"M18.56 5.44l.94 2.06.94-2.06 2.06-.94-2.06-.94-.94-2.06-.94 2.06-2.06.94zm-11 1L8.5 8.5l.94-2.06 2.06-.94-2.06-.94L8.5 2.5l-.94 2.06-2.06.94zm10 10l.94 2.06.94-2.06 2.06-.94-2.06-.94-.94-2.06-.94 2.06-2.06.94z\"/><path d=\"M17.41 7.96l-1.37-1.37c-.4-.4-.92-.59-1.43-.59-.52 0-1.04.2-1.43.59L10.3 9.45l-7.72 7.72c-.78.78-.78 2.05 0 2.83L4 21.41c.39.39.9.59 1.41.59.51 0 1.02-.2 1.41-.59l7.78-7.78 2.81-2.81c.8-.78.8-2.07 0-2.86zM5.41 20L4 18.59l7.72-7.72 1.47 1.35L5.41 20z\"/>\n",
              "  </svg>\n",
              "      </button>\n",
              "      \n",
              "  <style>\n",
              "    .colab-df-container {\n",
              "      display:flex;\n",
              "      flex-wrap:wrap;\n",
              "      gap: 12px;\n",
              "    }\n",
              "\n",
              "    .colab-df-convert {\n",
              "      background-color: #E8F0FE;\n",
              "      border: none;\n",
              "      border-radius: 50%;\n",
              "      cursor: pointer;\n",
              "      display: none;\n",
              "      fill: #1967D2;\n",
              "      height: 32px;\n",
              "      padding: 0 0 0 0;\n",
              "      width: 32px;\n",
              "    }\n",
              "\n",
              "    .colab-df-convert:hover {\n",
              "      background-color: #E2EBFA;\n",
              "      box-shadow: 0px 1px 2px rgba(60, 64, 67, 0.3), 0px 1px 3px 1px rgba(60, 64, 67, 0.15);\n",
              "      fill: #174EA6;\n",
              "    }\n",
              "\n",
              "    [theme=dark] .colab-df-convert {\n",
              "      background-color: #3B4455;\n",
              "      fill: #D2E3FC;\n",
              "    }\n",
              "\n",
              "    [theme=dark] .colab-df-convert:hover {\n",
              "      background-color: #434B5C;\n",
              "      box-shadow: 0px 1px 3px 1px rgba(0, 0, 0, 0.15);\n",
              "      filter: drop-shadow(0px 1px 2px rgba(0, 0, 0, 0.3));\n",
              "      fill: #FFFFFF;\n",
              "    }\n",
              "  </style>\n",
              "\n",
              "      <script>\n",
              "        const buttonEl =\n",
              "          document.querySelector('#df-aad6de1b-4c04-4346-beb5-f1555adcf54d button.colab-df-convert');\n",
              "        buttonEl.style.display =\n",
              "          google.colab.kernel.accessAllowed ? 'block' : 'none';\n",
              "\n",
              "        async function convertToInteractive(key) {\n",
              "          const element = document.querySelector('#df-aad6de1b-4c04-4346-beb5-f1555adcf54d');\n",
              "          const dataTable =\n",
              "            await google.colab.kernel.invokeFunction('convertToInteractive',\n",
              "                                                     [key], {});\n",
              "          if (!dataTable) return;\n",
              "\n",
              "          const docLinkHtml = 'Like what you see? Visit the ' +\n",
              "            '<a target=\"_blank\" href=https://colab.research.google.com/notebooks/data_table.ipynb>data table notebook</a>'\n",
              "            + ' to learn more about interactive tables.';\n",
              "          element.innerHTML = '';\n",
              "          dataTable['output_type'] = 'display_data';\n",
              "          await google.colab.output.renderOutput(dataTable, element);\n",
              "          const docLink = document.createElement('div');\n",
              "          docLink.innerHTML = docLinkHtml;\n",
              "          element.appendChild(docLink);\n",
              "        }\n",
              "      </script>\n",
              "    </div>\n",
              "  </div>\n",
              "  "
            ]
          },
          "metadata": {},
          "execution_count": 229
        }
      ],
      "source": [
        "import pandas as pd\n",
        "from scipy.stats import t as t_student\n",
        "\n",
        "tabela_t_student = pd.DataFrame(\n",
        "    [],\n",
        "    index = [i for i in range(1,31)],\n",
        "    columns = [i / 100 for i in range(10, 0, -1)]\n",
        ")\n",
        "\n",
        "for index in tabela_t_student.index:\n",
        "    for colum in tabela_t_student.columns:\n",
        "        tabela_t_student.loc[index, colum] = t_student.ppf(1 -float(colum) / 2, index)\n",
        "\n",
        "index = [('Graus de Liberdade (n - 1)', i) for i in range(1, 31)]\n",
        "tabela_t_student.index = pd.MultiIndex.from_tuples(index)\n",
        "\n",
        "columns = [(\"{0:0.3f}\".format(i/ 100), \"{0:0.3f}\".format(i/ 100 / 2)) for i in range(10, 0, -1)]\n",
        "tabela_t_student.columns = pd.MultiIndex.from_tuples(columns)\n",
        "\n",
        "tabela_t_student.rename_axis(['Bicaudal', 'Unicaudal'], axis=1, inplace = True)\n",
        "\n",
        "tabela_t_student\n"
      ]
    },
    {
      "cell_type": "markdown",
      "metadata": {
        "id": "MbVu6FdNpsk0"
      },
      "source": [
        "<img src='https://caelum-online-public.s3.amazonaws.com/1229-estatistica-parte3/01/img004.png' width='250px'>\n",
        "\n",
        "As células da tabela acima são valores de $t$ para uma área ou probabilidade na cauda superior da distribuição $t$."
      ]
    },
    {
      "cell_type": "markdown",
      "source": [
        "**Exemplo:**\n",
        "\n",
        "Eu tenho uma amostra de tamanho n=6, significancia = 5% e o meu teste é unicaudal. Qual é o t que eu preciso selecionar para ter os 5% de significancia?\n",
        "\n",
        "Grau de liberdade (n - 1) = 6 - 1 = **5**\n",
        "\n",
        "Olhando a tabela e cruzando as informações **Grau de Liberdade = 5** com a **coluna 0.050(5%)**, o valor de **t** será igual a **2.01505**."
      ],
      "metadata": {
        "id": "wHN4gyaU8FjF"
      }
    },
    {
      "cell_type": "markdown",
      "metadata": {
        "id": "UXM3qdYUpsk0"
      },
      "source": [
        "---"
      ]
    },
    {
      "cell_type": "markdown",
      "metadata": {
        "id": "dDbUKs7-psk0"
      },
      "source": [
        "Os **testes unicaudais** verificam as variáveis em relação a um piso ou a um teto e avaliam os valores máximos ou mínimos esperados para os parâmetros em estudo e a chance de as estatísticas amostrais serem inferiores ou superiores a dado limite."
      ]
    },
    {
      "cell_type": "markdown",
      "metadata": {
        "id": "AvnFJnUrpsk1"
      },
      "source": [
        "<img src='https://caelum-online-public.s3.amazonaws.com/1229-estatistica-parte3/01/img008.png' width='700px'>"
      ]
    },
    {
      "cell_type": "markdown",
      "metadata": {
        "id": "IgDg23Xppsk1"
      },
      "source": [
        "### Dados do problema"
      ]
    },
    {
      "cell_type": "code",
      "execution_count": null,
      "metadata": {
        "id": "IKvYICfEpsk2"
      },
      "outputs": [],
      "source": [
        "amostra = [37.27, 36.42, 34.84, 34.60, 37.49, \n",
        "           36.53, 35.49, 36.90, 34.52, 37.30, \n",
        "           34.99, 36.55, 36.29, 36.06, 37.42, \n",
        "           34.47, 36.70, 35.86, 36.80, 36.92, \n",
        "           37.04, 36.39, 37.32, 36.64, 35.45]\n"
      ]
    },
    {
      "cell_type": "code",
      "execution_count": null,
      "metadata": {
        "id": "CBuciT30psk3",
        "scrolled": false,
        "colab": {
          "base_uri": "https://localhost:8080/",
          "height": 833
        },
        "outputId": "bb4ee836-df32-49c1-c3a7-7d5600d5f262"
      },
      "outputs": [
        {
          "output_type": "execute_result",
          "data": {
            "text/plain": [
              "    Amostra\n",
              "0     37.27\n",
              "1     36.42\n",
              "2     34.84\n",
              "3     34.60\n",
              "4     37.49\n",
              "5     36.53\n",
              "6     35.49\n",
              "7     36.90\n",
              "8     34.52\n",
              "9     37.30\n",
              "10    34.99\n",
              "11    36.55\n",
              "12    36.29\n",
              "13    36.06\n",
              "14    37.42\n",
              "15    34.47\n",
              "16    36.70\n",
              "17    35.86\n",
              "18    36.80\n",
              "19    36.92\n",
              "20    37.04\n",
              "21    36.39\n",
              "22    37.32\n",
              "23    36.64\n",
              "24    35.45"
            ],
            "text/html": [
              "\n",
              "  <div id=\"df-f13d5d10-f500-4793-aa74-4281e63fc221\">\n",
              "    <div class=\"colab-df-container\">\n",
              "      <div>\n",
              "<style scoped>\n",
              "    .dataframe tbody tr th:only-of-type {\n",
              "        vertical-align: middle;\n",
              "    }\n",
              "\n",
              "    .dataframe tbody tr th {\n",
              "        vertical-align: top;\n",
              "    }\n",
              "\n",
              "    .dataframe thead th {\n",
              "        text-align: right;\n",
              "    }\n",
              "</style>\n",
              "<table border=\"1\" class=\"dataframe\">\n",
              "  <thead>\n",
              "    <tr style=\"text-align: right;\">\n",
              "      <th></th>\n",
              "      <th>Amostra</th>\n",
              "    </tr>\n",
              "  </thead>\n",
              "  <tbody>\n",
              "    <tr>\n",
              "      <th>0</th>\n",
              "      <td>37.27</td>\n",
              "    </tr>\n",
              "    <tr>\n",
              "      <th>1</th>\n",
              "      <td>36.42</td>\n",
              "    </tr>\n",
              "    <tr>\n",
              "      <th>2</th>\n",
              "      <td>34.84</td>\n",
              "    </tr>\n",
              "    <tr>\n",
              "      <th>3</th>\n",
              "      <td>34.60</td>\n",
              "    </tr>\n",
              "    <tr>\n",
              "      <th>4</th>\n",
              "      <td>37.49</td>\n",
              "    </tr>\n",
              "    <tr>\n",
              "      <th>5</th>\n",
              "      <td>36.53</td>\n",
              "    </tr>\n",
              "    <tr>\n",
              "      <th>6</th>\n",
              "      <td>35.49</td>\n",
              "    </tr>\n",
              "    <tr>\n",
              "      <th>7</th>\n",
              "      <td>36.90</td>\n",
              "    </tr>\n",
              "    <tr>\n",
              "      <th>8</th>\n",
              "      <td>34.52</td>\n",
              "    </tr>\n",
              "    <tr>\n",
              "      <th>9</th>\n",
              "      <td>37.30</td>\n",
              "    </tr>\n",
              "    <tr>\n",
              "      <th>10</th>\n",
              "      <td>34.99</td>\n",
              "    </tr>\n",
              "    <tr>\n",
              "      <th>11</th>\n",
              "      <td>36.55</td>\n",
              "    </tr>\n",
              "    <tr>\n",
              "      <th>12</th>\n",
              "      <td>36.29</td>\n",
              "    </tr>\n",
              "    <tr>\n",
              "      <th>13</th>\n",
              "      <td>36.06</td>\n",
              "    </tr>\n",
              "    <tr>\n",
              "      <th>14</th>\n",
              "      <td>37.42</td>\n",
              "    </tr>\n",
              "    <tr>\n",
              "      <th>15</th>\n",
              "      <td>34.47</td>\n",
              "    </tr>\n",
              "    <tr>\n",
              "      <th>16</th>\n",
              "      <td>36.70</td>\n",
              "    </tr>\n",
              "    <tr>\n",
              "      <th>17</th>\n",
              "      <td>35.86</td>\n",
              "    </tr>\n",
              "    <tr>\n",
              "      <th>18</th>\n",
              "      <td>36.80</td>\n",
              "    </tr>\n",
              "    <tr>\n",
              "      <th>19</th>\n",
              "      <td>36.92</td>\n",
              "    </tr>\n",
              "    <tr>\n",
              "      <th>20</th>\n",
              "      <td>37.04</td>\n",
              "    </tr>\n",
              "    <tr>\n",
              "      <th>21</th>\n",
              "      <td>36.39</td>\n",
              "    </tr>\n",
              "    <tr>\n",
              "      <th>22</th>\n",
              "      <td>37.32</td>\n",
              "    </tr>\n",
              "    <tr>\n",
              "      <th>23</th>\n",
              "      <td>36.64</td>\n",
              "    </tr>\n",
              "    <tr>\n",
              "      <th>24</th>\n",
              "      <td>35.45</td>\n",
              "    </tr>\n",
              "  </tbody>\n",
              "</table>\n",
              "</div>\n",
              "      <button class=\"colab-df-convert\" onclick=\"convertToInteractive('df-f13d5d10-f500-4793-aa74-4281e63fc221')\"\n",
              "              title=\"Convert this dataframe to an interactive table.\"\n",
              "              style=\"display:none;\">\n",
              "        \n",
              "  <svg xmlns=\"http://www.w3.org/2000/svg\" height=\"24px\"viewBox=\"0 0 24 24\"\n",
              "       width=\"24px\">\n",
              "    <path d=\"M0 0h24v24H0V0z\" fill=\"none\"/>\n",
              "    <path d=\"M18.56 5.44l.94 2.06.94-2.06 2.06-.94-2.06-.94-.94-2.06-.94 2.06-2.06.94zm-11 1L8.5 8.5l.94-2.06 2.06-.94-2.06-.94L8.5 2.5l-.94 2.06-2.06.94zm10 10l.94 2.06.94-2.06 2.06-.94-2.06-.94-.94-2.06-.94 2.06-2.06.94z\"/><path d=\"M17.41 7.96l-1.37-1.37c-.4-.4-.92-.59-1.43-.59-.52 0-1.04.2-1.43.59L10.3 9.45l-7.72 7.72c-.78.78-.78 2.05 0 2.83L4 21.41c.39.39.9.59 1.41.59.51 0 1.02-.2 1.41-.59l7.78-7.78 2.81-2.81c.8-.78.8-2.07 0-2.86zM5.41 20L4 18.59l7.72-7.72 1.47 1.35L5.41 20z\"/>\n",
              "  </svg>\n",
              "      </button>\n",
              "      \n",
              "  <style>\n",
              "    .colab-df-container {\n",
              "      display:flex;\n",
              "      flex-wrap:wrap;\n",
              "      gap: 12px;\n",
              "    }\n",
              "\n",
              "    .colab-df-convert {\n",
              "      background-color: #E8F0FE;\n",
              "      border: none;\n",
              "      border-radius: 50%;\n",
              "      cursor: pointer;\n",
              "      display: none;\n",
              "      fill: #1967D2;\n",
              "      height: 32px;\n",
              "      padding: 0 0 0 0;\n",
              "      width: 32px;\n",
              "    }\n",
              "\n",
              "    .colab-df-convert:hover {\n",
              "      background-color: #E2EBFA;\n",
              "      box-shadow: 0px 1px 2px rgba(60, 64, 67, 0.3), 0px 1px 3px 1px rgba(60, 64, 67, 0.15);\n",
              "      fill: #174EA6;\n",
              "    }\n",
              "\n",
              "    [theme=dark] .colab-df-convert {\n",
              "      background-color: #3B4455;\n",
              "      fill: #D2E3FC;\n",
              "    }\n",
              "\n",
              "    [theme=dark] .colab-df-convert:hover {\n",
              "      background-color: #434B5C;\n",
              "      box-shadow: 0px 1px 3px 1px rgba(0, 0, 0, 0.15);\n",
              "      filter: drop-shadow(0px 1px 2px rgba(0, 0, 0, 0.3));\n",
              "      fill: #FFFFFF;\n",
              "    }\n",
              "  </style>\n",
              "\n",
              "      <script>\n",
              "        const buttonEl =\n",
              "          document.querySelector('#df-f13d5d10-f500-4793-aa74-4281e63fc221 button.colab-df-convert');\n",
              "        buttonEl.style.display =\n",
              "          google.colab.kernel.accessAllowed ? 'block' : 'none';\n",
              "\n",
              "        async function convertToInteractive(key) {\n",
              "          const element = document.querySelector('#df-f13d5d10-f500-4793-aa74-4281e63fc221');\n",
              "          const dataTable =\n",
              "            await google.colab.kernel.invokeFunction('convertToInteractive',\n",
              "                                                     [key], {});\n",
              "          if (!dataTable) return;\n",
              "\n",
              "          const docLinkHtml = 'Like what you see? Visit the ' +\n",
              "            '<a target=\"_blank\" href=https://colab.research.google.com/notebooks/data_table.ipynb>data table notebook</a>'\n",
              "            + ' to learn more about interactive tables.';\n",
              "          element.innerHTML = '';\n",
              "          dataTable['output_type'] = 'display_data';\n",
              "          await google.colab.output.renderOutput(dataTable, element);\n",
              "          const docLink = document.createElement('div');\n",
              "          docLink.innerHTML = docLinkHtml;\n",
              "          element.appendChild(docLink);\n",
              "        }\n",
              "      </script>\n",
              "    </div>\n",
              "  </div>\n",
              "  "
            ]
          },
          "metadata": {},
          "execution_count": 231
        }
      ],
      "source": [
        "amostra = pd.DataFrame(amostra, columns=['Amostra'])\n",
        "amostra"
      ]
    },
    {
      "cell_type": "code",
      "execution_count": null,
      "metadata": {
        "id": "79TBzFsdpsk4",
        "colab": {
          "base_uri": "https://localhost:8080/"
        },
        "outputId": "0dbbe7aa-d626-427c-de24-4901c5ca6a97"
      },
      "outputs": [
        {
          "output_type": "execute_result",
          "data": {
            "text/plain": [
              "36.2504"
            ]
          },
          "metadata": {},
          "execution_count": 232
        }
      ],
      "source": [
        "media_amostra = amostra.mean()[0]\n",
        "media_amostra"
      ]
    },
    {
      "cell_type": "code",
      "execution_count": null,
      "metadata": {
        "id": "S82xbyghpsk6",
        "scrolled": true,
        "colab": {
          "base_uri": "https://localhost:8080/"
        },
        "outputId": "4ccba30c-8c3e-4c5d-e1d9-46970f092ac5"
      },
      "outputs": [
        {
          "output_type": "execute_result",
          "data": {
            "text/plain": [
              "0.9667535018469455"
            ]
          },
          "metadata": {},
          "execution_count": 233
        }
      ],
      "source": [
        "desvio_padrao_amostra = amostra.std()[0]\n",
        "desvio_padrao_amostra"
      ]
    },
    {
      "cell_type": "code",
      "execution_count": null,
      "metadata": {
        "id": "mvtiwLUWpsk8"
      },
      "outputs": [],
      "source": [
        "media = 37\n",
        "significancia = 0.05\n",
        "confianca = 1 - significancia\n",
        "n = 25\n",
        "graus_de_liberdade = n - 1"
      ]
    },
    {
      "cell_type": "markdown",
      "metadata": {
        "id": "rpLOiPU2psk9"
      },
      "source": [
        "### **Passo 1** - formulação das hipóteses $H_0$ e $H_1$"
      ]
    },
    {
      "cell_type": "markdown",
      "metadata": {
        "id": "iMBi2jUfsc4s"
      },
      "source": [
        "\n",
        "#### <font color='red'>Lembre-se, a hipótese nula sempre contém a alegação de igualdade</font>"
      ]
    },
    {
      "cell_type": "markdown",
      "metadata": {
        "id": "8roeH10fpsk-"
      },
      "source": [
        "### $H_0: \\mu \\leq 37$\n",
        "\n",
        "### $H_1: \\mu > 37$"
      ]
    },
    {
      "cell_type": "markdown",
      "metadata": {
        "id": "uqE6JXGspsk-"
      },
      "source": [
        "---"
      ]
    },
    {
      "cell_type": "markdown",
      "metadata": {
        "id": "XsOkFtncpsk_"
      },
      "source": [
        "### **Passo 2** - escolha da distribuição amostral adequada\n",
        "<img src='https://caelum-online-public.s3.amazonaws.com/1229-estatistica-parte3/01/img003.png' width=70%>"
      ]
    },
    {
      "cell_type": "markdown",
      "metadata": {
        "id": "jpXjRqO2psk_"
      },
      "source": [
        "### O tamanho da amostra é maior que 30?\n",
        "#### Resp.: Não\n",
        "\n",
        "### Podemos afirmar que a população se distribui aproximadamente como uma normal?\n",
        "#### Resp.: Sim\n",
        "\n",
        "### O desvio padrão populacional é conhecido?\n",
        "#### Resp.: Não"
      ]
    },
    {
      "cell_type": "markdown",
      "metadata": {
        "id": "J14v2aXOpslA"
      },
      "source": [
        "---"
      ]
    },
    {
      "cell_type": "markdown",
      "metadata": {
        "id": "DQvwhQWnpslA"
      },
      "source": [
        "### **Passo 3** - fixação da significância do teste ($\\alpha$)"
      ]
    },
    {
      "cell_type": "markdown",
      "metadata": {
        "id": "Qaxh6lsapslB"
      },
      "source": [
        "https://docs.scipy.org/doc/scipy/reference/generated/scipy.stats.t.html"
      ]
    },
    {
      "cell_type": "code",
      "execution_count": null,
      "metadata": {
        "id": "-WhDZiRopslC"
      },
      "outputs": [],
      "source": [
        "from scipy.stats import t as t_student"
      ]
    },
    {
      "cell_type": "code",
      "execution_count": null,
      "metadata": {
        "id": "12t8QJMzpslD",
        "scrolled": true,
        "colab": {
          "base_uri": "https://localhost:8080/",
          "height": 175
        },
        "outputId": "286e2a7e-61e3-4014-99fc-304380865b9b"
      },
      "outputs": [
        {
          "output_type": "execute_result",
          "data": {
            "text/plain": [
              "Bicaudal                          0.100     0.090     0.080     0.070  \\\n",
              "Unicaudal                         0.050     0.045     0.040     0.035   \n",
              "Graus de Liberdade (n - 1) 23  1.713872  1.769907  1.831567  1.900307   \n",
              "                           24  1.710882  1.766675  1.828051  1.896457   \n",
              "                           25  1.708141  1.763711  1.824828  1.892928   \n",
              "\n",
              "Bicaudal                          0.060     0.050     0.040     0.030  \\\n",
              "Unicaudal                         0.030     0.025     0.020     0.015   \n",
              "Graus de Liberdade (n - 1) 23  1.978249  2.068658  2.176958  2.313231   \n",
              "                           24  1.973994  2.063899  2.171545  2.306913   \n",
              "                           25  1.970095  2.059539  2.166587   2.30113   \n",
              "\n",
              "Bicaudal                          0.020     0.010  \n",
              "Unicaudal                         0.010     0.005  \n",
              "Graus de Liberdade (n - 1) 23  2.499867  2.807336  \n",
              "                           24  2.492159   2.79694  \n",
              "                           25  2.485107  2.787436  "
            ],
            "text/html": [
              "\n",
              "  <div id=\"df-f0a14235-98df-4524-b057-9ed79e3687ec\">\n",
              "    <div class=\"colab-df-container\">\n",
              "      <div>\n",
              "<style scoped>\n",
              "    .dataframe tbody tr th:only-of-type {\n",
              "        vertical-align: middle;\n",
              "    }\n",
              "\n",
              "    .dataframe tbody tr th {\n",
              "        vertical-align: top;\n",
              "    }\n",
              "\n",
              "    .dataframe thead tr th {\n",
              "        text-align: left;\n",
              "    }\n",
              "</style>\n",
              "<table border=\"1\" class=\"dataframe\">\n",
              "  <thead>\n",
              "    <tr>\n",
              "      <th></th>\n",
              "      <th>Bicaudal</th>\n",
              "      <th>0.100</th>\n",
              "      <th>0.090</th>\n",
              "      <th>0.080</th>\n",
              "      <th>0.070</th>\n",
              "      <th>0.060</th>\n",
              "      <th>0.050</th>\n",
              "      <th>0.040</th>\n",
              "      <th>0.030</th>\n",
              "      <th>0.020</th>\n",
              "      <th>0.010</th>\n",
              "    </tr>\n",
              "    <tr>\n",
              "      <th></th>\n",
              "      <th>Unicaudal</th>\n",
              "      <th>0.050</th>\n",
              "      <th>0.045</th>\n",
              "      <th>0.040</th>\n",
              "      <th>0.035</th>\n",
              "      <th>0.030</th>\n",
              "      <th>0.025</th>\n",
              "      <th>0.020</th>\n",
              "      <th>0.015</th>\n",
              "      <th>0.010</th>\n",
              "      <th>0.005</th>\n",
              "    </tr>\n",
              "  </thead>\n",
              "  <tbody>\n",
              "    <tr>\n",
              "      <th rowspan=\"3\" valign=\"top\">Graus de Liberdade (n - 1)</th>\n",
              "      <th>23</th>\n",
              "      <td>1.713872</td>\n",
              "      <td>1.769907</td>\n",
              "      <td>1.831567</td>\n",
              "      <td>1.900307</td>\n",
              "      <td>1.978249</td>\n",
              "      <td>2.068658</td>\n",
              "      <td>2.176958</td>\n",
              "      <td>2.313231</td>\n",
              "      <td>2.499867</td>\n",
              "      <td>2.807336</td>\n",
              "    </tr>\n",
              "    <tr>\n",
              "      <th>24</th>\n",
              "      <td>1.710882</td>\n",
              "      <td>1.766675</td>\n",
              "      <td>1.828051</td>\n",
              "      <td>1.896457</td>\n",
              "      <td>1.973994</td>\n",
              "      <td>2.063899</td>\n",
              "      <td>2.171545</td>\n",
              "      <td>2.306913</td>\n",
              "      <td>2.492159</td>\n",
              "      <td>2.79694</td>\n",
              "    </tr>\n",
              "    <tr>\n",
              "      <th>25</th>\n",
              "      <td>1.708141</td>\n",
              "      <td>1.763711</td>\n",
              "      <td>1.824828</td>\n",
              "      <td>1.892928</td>\n",
              "      <td>1.970095</td>\n",
              "      <td>2.059539</td>\n",
              "      <td>2.166587</td>\n",
              "      <td>2.30113</td>\n",
              "      <td>2.485107</td>\n",
              "      <td>2.787436</td>\n",
              "    </tr>\n",
              "  </tbody>\n",
              "</table>\n",
              "</div>\n",
              "      <button class=\"colab-df-convert\" onclick=\"convertToInteractive('df-f0a14235-98df-4524-b057-9ed79e3687ec')\"\n",
              "              title=\"Convert this dataframe to an interactive table.\"\n",
              "              style=\"display:none;\">\n",
              "        \n",
              "  <svg xmlns=\"http://www.w3.org/2000/svg\" height=\"24px\"viewBox=\"0 0 24 24\"\n",
              "       width=\"24px\">\n",
              "    <path d=\"M0 0h24v24H0V0z\" fill=\"none\"/>\n",
              "    <path d=\"M18.56 5.44l.94 2.06.94-2.06 2.06-.94-2.06-.94-.94-2.06-.94 2.06-2.06.94zm-11 1L8.5 8.5l.94-2.06 2.06-.94-2.06-.94L8.5 2.5l-.94 2.06-2.06.94zm10 10l.94 2.06.94-2.06 2.06-.94-2.06-.94-.94-2.06-.94 2.06-2.06.94z\"/><path d=\"M17.41 7.96l-1.37-1.37c-.4-.4-.92-.59-1.43-.59-.52 0-1.04.2-1.43.59L10.3 9.45l-7.72 7.72c-.78.78-.78 2.05 0 2.83L4 21.41c.39.39.9.59 1.41.59.51 0 1.02-.2 1.41-.59l7.78-7.78 2.81-2.81c.8-.78.8-2.07 0-2.86zM5.41 20L4 18.59l7.72-7.72 1.47 1.35L5.41 20z\"/>\n",
              "  </svg>\n",
              "      </button>\n",
              "      \n",
              "  <style>\n",
              "    .colab-df-container {\n",
              "      display:flex;\n",
              "      flex-wrap:wrap;\n",
              "      gap: 12px;\n",
              "    }\n",
              "\n",
              "    .colab-df-convert {\n",
              "      background-color: #E8F0FE;\n",
              "      border: none;\n",
              "      border-radius: 50%;\n",
              "      cursor: pointer;\n",
              "      display: none;\n",
              "      fill: #1967D2;\n",
              "      height: 32px;\n",
              "      padding: 0 0 0 0;\n",
              "      width: 32px;\n",
              "    }\n",
              "\n",
              "    .colab-df-convert:hover {\n",
              "      background-color: #E2EBFA;\n",
              "      box-shadow: 0px 1px 2px rgba(60, 64, 67, 0.3), 0px 1px 3px 1px rgba(60, 64, 67, 0.15);\n",
              "      fill: #174EA6;\n",
              "    }\n",
              "\n",
              "    [theme=dark] .colab-df-convert {\n",
              "      background-color: #3B4455;\n",
              "      fill: #D2E3FC;\n",
              "    }\n",
              "\n",
              "    [theme=dark] .colab-df-convert:hover {\n",
              "      background-color: #434B5C;\n",
              "      box-shadow: 0px 1px 3px 1px rgba(0, 0, 0, 0.15);\n",
              "      filter: drop-shadow(0px 1px 2px rgba(0, 0, 0, 0.3));\n",
              "      fill: #FFFFFF;\n",
              "    }\n",
              "  </style>\n",
              "\n",
              "      <script>\n",
              "        const buttonEl =\n",
              "          document.querySelector('#df-f0a14235-98df-4524-b057-9ed79e3687ec button.colab-df-convert');\n",
              "        buttonEl.style.display =\n",
              "          google.colab.kernel.accessAllowed ? 'block' : 'none';\n",
              "\n",
              "        async function convertToInteractive(key) {\n",
              "          const element = document.querySelector('#df-f0a14235-98df-4524-b057-9ed79e3687ec');\n",
              "          const dataTable =\n",
              "            await google.colab.kernel.invokeFunction('convertToInteractive',\n",
              "                                                     [key], {});\n",
              "          if (!dataTable) return;\n",
              "\n",
              "          const docLinkHtml = 'Like what you see? Visit the ' +\n",
              "            '<a target=\"_blank\" href=https://colab.research.google.com/notebooks/data_table.ipynb>data table notebook</a>'\n",
              "            + ' to learn more about interactive tables.';\n",
              "          element.innerHTML = '';\n",
              "          dataTable['output_type'] = 'display_data';\n",
              "          await google.colab.output.renderOutput(dataTable, element);\n",
              "          const docLink = document.createElement('div');\n",
              "          docLink.innerHTML = docLinkHtml;\n",
              "          element.appendChild(docLink);\n",
              "        }\n",
              "      </script>\n",
              "    </div>\n",
              "  </div>\n",
              "  "
            ]
          },
          "metadata": {},
          "execution_count": 236
        }
      ],
      "source": [
        "tabela_t_student[22:25]"
      ]
    },
    {
      "cell_type": "markdown",
      "metadata": {
        "id": "Brk3cI1npslE"
      },
      "source": [
        "### Obtendo $t_{\\alpha}$"
      ]
    },
    {
      "cell_type": "code",
      "execution_count": null,
      "metadata": {
        "id": "xXi0eYGYpslF",
        "colab": {
          "base_uri": "https://localhost:8080/"
        },
        "outputId": "2b494ae7-4397-45d1-a82f-167b9463a60e"
      },
      "outputs": [
        {
          "output_type": "execute_result",
          "data": {
            "text/plain": [
              "1.7108820799094275"
            ]
          },
          "metadata": {},
          "execution_count": 237
        }
      ],
      "source": [
        "t_alpha = t_student.ppf(confianca, graus_de_liberdade)\n",
        "t_alpha"
      ]
    },
    {
      "cell_type": "markdown",
      "metadata": {
        "id": "xMnBzjxLpslH"
      },
      "source": [
        "![Região de Aceitação](https://caelum-online-public.s3.amazonaws.com/1229-estatistica-parte3/01/img009.png)"
      ]
    },
    {
      "cell_type": "markdown",
      "metadata": {
        "id": "Azy_uNSGpslI"
      },
      "source": [
        "---"
      ]
    },
    {
      "cell_type": "markdown",
      "metadata": {
        "id": "YN4weG-1pslI"
      },
      "source": [
        "### **Passo 4** - cálculo da estatística-teste e verificação desse valor com as áreas de aceitação e rejeição do teste\n",
        "\n",
        "# $$t = \\frac{\\bar{x} - \\mu_0}{\\frac{s}{\\sqrt{n}}}$$"
      ]
    },
    {
      "cell_type": "code",
      "execution_count": null,
      "metadata": {
        "id": "qY0DfIffpslI",
        "colab": {
          "base_uri": "https://localhost:8080/"
        },
        "outputId": "c9bb251a-f8d5-4287-ec17-9a25f09e97b1"
      },
      "outputs": [
        {
          "output_type": "execute_result",
          "data": {
            "text/plain": [
              "-3.876893119952081"
            ]
          },
          "metadata": {},
          "execution_count": 238
        }
      ],
      "source": [
        "t = (media_amostra - media) / (desvio_padrao_amostra / np.sqrt(n))\n",
        "t"
      ]
    },
    {
      "cell_type": "markdown",
      "metadata": {
        "id": "SCIchVxNpslK"
      },
      "source": [
        "![Estatística-Teste](https://caelum-online-public.s3.amazonaws.com/1229-estatistica-parte3/01/img010.png)"
      ]
    },
    {
      "cell_type": "markdown",
      "metadata": {
        "id": "NiheMfTopslK"
      },
      "source": [
        "---"
      ]
    },
    {
      "cell_type": "markdown",
      "metadata": {
        "id": "YCsJySBGpslK"
      },
      "source": [
        "### **Passo 5** - Aceitação ou rejeição da hipótese nula"
      ]
    },
    {
      "cell_type": "markdown",
      "metadata": {
        "id": "ioLyTpbWpslL"
      },
      "source": [
        "<img src='https://caelum-online-public.s3.amazonaws.com/1229-estatistica-parte3/01/img013.png' width=90%>"
      ]
    },
    {
      "cell_type": "markdown",
      "metadata": {
        "id": "TQcuPzbPpslL"
      },
      "source": [
        "### <font color='red'>Critério do valor crítico</font>\n",
        "\n",
        "> ### Teste Unicaudal Superior\n",
        "> ### Rejeitar $H_0$ se $t \\geq t_{\\alpha}$"
      ]
    },
    {
      "cell_type": "code",
      "execution_count": null,
      "metadata": {
        "id": "pkoDYMLIpslM",
        "colab": {
          "base_uri": "https://localhost:8080/"
        },
        "outputId": "62041dff-30f7-48a5-fe69-338222fa7ef1"
      },
      "outputs": [
        {
          "output_type": "execute_result",
          "data": {
            "text/plain": [
              "False"
            ]
          },
          "metadata": {},
          "execution_count": 239
        }
      ],
      "source": [
        "t >= t_alpha"
      ]
    },
    {
      "cell_type": "markdown",
      "metadata": {
        "id": "F-_AVTMJpslN"
      },
      "source": [
        "### <font color='green'>Conclusão: Com um nível de confiança de 95% não podemos rejeitar $H_0$, ou seja, a alegação do fabricante é verdadeira.</font>"
      ]
    },
    {
      "cell_type": "markdown",
      "source": [
        "# **Exercicio: Tratamento de esgoto**\n",
        "\n",
        "A empresa **Limpa Esgoto** garante ser capaz de realizar o tratamento de esgoto e obter, no máximo, 150 g de impurezas para cada mil litros de esgoto tratado. Vinte amostras de mil litros de esgoto apresentaram, em média, 230 g de impurezas e desvio padrão amostral igual a 90 g.\n",
        "\n",
        "Assumindo alfa igual a 5% e população normalmente distribuída, seria possível discordar da empresa Limpa Esgoto? Assinale a alternativa que apresenta a estatística de teste e a decisão correta do teste."
      ],
      "metadata": {
        "id": "uM57CFmGSXR_"
      }
    },
    {
      "cell_type": "code",
      "source": [
        "media = 150\n",
        "n = 20\n",
        "media_amostra = 230\n",
        "desvio_padrao_amostra = 90\n",
        "significancia = 0.05\n",
        "confianca = 1 - significancia\n",
        "graus_de_liberdade = n - 1"
      ],
      "metadata": {
        "id": "ErTgqmSqSkB8"
      },
      "execution_count": null,
      "outputs": []
    },
    {
      "cell_type": "code",
      "source": [
        "t_alpha = t_student.ppf(confianca, graus_de_liberdade)\n",
        "t_alpha"
      ],
      "metadata": {
        "colab": {
          "base_uri": "https://localhost:8080/"
        },
        "id": "E1d2Suh3Sj_p",
        "outputId": "78da3f2d-7503-4c13-a756-8916793bf5e5"
      },
      "execution_count": null,
      "outputs": [
        {
          "output_type": "execute_result",
          "data": {
            "text/plain": [
              "1.729132811521367"
            ]
          },
          "metadata": {},
          "execution_count": 241
        }
      ]
    },
    {
      "cell_type": "code",
      "source": [
        "t = (media_amostra - media) / (desvio_padrao_amostra / np.sqrt(n))\n",
        "t"
      ],
      "metadata": {
        "colab": {
          "base_uri": "https://localhost:8080/"
        },
        "id": "EUpTP7xXSj9c",
        "outputId": "0d5e7e0e-e1ce-4b92-8fec-0845357d4bf4"
      },
      "execution_count": null,
      "outputs": [
        {
          "output_type": "execute_result",
          "data": {
            "text/plain": [
              "3.9752319599996264"
            ]
          },
          "metadata": {},
          "execution_count": 242
        }
      ]
    },
    {
      "cell_type": "code",
      "source": [
        "print('t(alpha) =', round(t_alpha, 4))\n",
        "print('t =', round(t, 4))\n",
        "if(t >= t_alpha):\n",
        "    print('Rejeitar H0')\n",
        "else:\n",
        "    print('Aceitar H0')"
      ],
      "metadata": {
        "colab": {
          "base_uri": "https://localhost:8080/"
        },
        "id": "Ji95zcjhSj66",
        "outputId": "38136d4f-0888-4115-922b-67afc65c7240"
      },
      "execution_count": null,
      "outputs": [
        {
          "output_type": "stream",
          "name": "stdout",
          "text": [
            "t(alpha) = 1.7291\n",
            "t = 3.9752\n",
            "Rejeitar H0\n"
          ]
        }
      ]
    },
    {
      "cell_type": "markdown",
      "source": [
        "Com um nível de confiança de 95%, a empresa não consegue garantir um limite de 150g de impurezas para cada mil litros de esgoto tratado."
      ],
      "metadata": {
        "id": "z13K2Zu-TWL4"
      }
    },
    {
      "cell_type": "markdown",
      "source": [
        "# Continuando ..."
      ],
      "metadata": {
        "id": "dZ0iBNyaUDq4"
      }
    },
    {
      "cell_type": "markdown",
      "metadata": {
        "id": "7ye3tS25pslO"
      },
      "source": [
        "### <font color='red'>Critério do valor $p$</font>\n",
        "\n",
        "> ### Teste Unicaudal Superior\n",
        "> ### Rejeitar $H_0$ se o valor $p\\leq\\alpha$"
      ]
    },
    {
      "cell_type": "code",
      "execution_count": null,
      "metadata": {
        "id": "AtPMeAz4pslQ"
      },
      "outputs": [],
      "source": [
        "t = -3.876893119952081"
      ]
    },
    {
      "cell_type": "code",
      "execution_count": null,
      "metadata": {
        "id": "gevdMX3apslS",
        "colab": {
          "base_uri": "https://localhost:8080/"
        },
        "outputId": "3932326f-40e8-4b99-da19-2d18b1f468d4"
      },
      "outputs": [
        {
          "output_type": "execute_result",
          "data": {
            "text/plain": [
              "0.9996406170303819"
            ]
          },
          "metadata": {},
          "execution_count": 245
        }
      ],
      "source": [
        "p_valor = t_student.sf(t, df = 24)\n",
        "p_valor"
      ]
    },
    {
      "cell_type": "code",
      "execution_count": null,
      "metadata": {
        "id": "_hfVEPQQpslU",
        "colab": {
          "base_uri": "https://localhost:8080/"
        },
        "outputId": "a40cf62c-ce96-4dc7-8365-bc552f31c5f6"
      },
      "outputs": [
        {
          "output_type": "execute_result",
          "data": {
            "text/plain": [
              "False"
            ]
          },
          "metadata": {},
          "execution_count": 246
        }
      ],
      "source": [
        "p_valor <= significancia"
      ]
    },
    {
      "cell_type": "markdown",
      "metadata": {
        "id": "4JxGeADypslW"
      },
      "source": [
        "https://www.statsmodels.org/dev/generated/statsmodels.stats.weightstats.DescrStatsW.html"
      ]
    },
    {
      "cell_type": "code",
      "execution_count": null,
      "metadata": {
        "id": "Y1gP6yjvpslW"
      },
      "outputs": [],
      "source": [
        "from statsmodels.stats.weightstats import DescrStatsW"
      ]
    },
    {
      "cell_type": "code",
      "execution_count": null,
      "metadata": {
        "id": "7V555DeTpslX"
      },
      "outputs": [],
      "source": [
        "test = DescrStatsW(amostra)"
      ]
    },
    {
      "cell_type": "code",
      "execution_count": null,
      "metadata": {
        "id": "y36SnhnWpslY",
        "colab": {
          "base_uri": "https://localhost:8080/"
        },
        "outputId": "421b59ce-8463-4584-cdda-2dc66b9a0949"
      },
      "outputs": [
        {
          "output_type": "stream",
          "name": "stdout",
          "text": [
            "-588.3071526644886\n",
            "1.0\n",
            "24.0\n"
          ]
        }
      ],
      "source": [
        "t, p_valor, df = test.ttest_mean(value = media, alternative = 'larger')\n",
        "print(t[0])\n",
        "print(p_valor[0])\n",
        "print(df)"
      ]
    },
    {
      "cell_type": "code",
      "execution_count": null,
      "metadata": {
        "id": "CMZcYUyiz0mr",
        "colab": {
          "base_uri": "https://localhost:8080/"
        },
        "outputId": "41b6304b-6477-4321-f587-24ef1917c167"
      },
      "outputs": [
        {
          "output_type": "execute_result",
          "data": {
            "text/plain": [
              "False"
            ]
          },
          "metadata": {},
          "execution_count": 250
        }
      ],
      "source": [
        "p_valor[0] <= significancia"
      ]
    },
    {
      "cell_type": "markdown",
      "source": [
        "# **Exercicio: Falta queijo na pizza?**\n",
        "\n",
        "A pizzaria Muito Queijo alega que a quantidade de queijo em suas pizzas tamanho família é de, no mínimo, 350 g. Uma amostra de 35 pizzas tamanho família revelou uma média de 330 g de queijo por pizza. O desvio padrão amostral foi de 80 g.\n",
        "\n",
        "Assumindo alfa igual a 5% e população normalmente distribuída, seria possível discordar da alegação da pizzaria? Assinale a alternativa que apresenta a estatística de teste e a decisão correta do teste."
      ],
      "metadata": {
        "id": "dDWIS5YEX45p"
      }
    },
    {
      "cell_type": "code",
      "source": [
        "media = 350\n",
        "n = 35\n",
        "media_amostra = 330\n",
        "desvio_padrao_amostra = 80\n",
        "significancia = 0.05\n",
        "confianca = 1 - significancia\n",
        "graus_de_liberdade = n - 1"
      ],
      "metadata": {
        "id": "WwJez_8uX902"
      },
      "execution_count": null,
      "outputs": []
    },
    {
      "cell_type": "code",
      "source": [
        "probabilidade = 0.50 + (confianca / 2)\n",
        "probabilidade"
      ],
      "metadata": {
        "colab": {
          "base_uri": "https://localhost:8080/"
        },
        "id": "8RPaiYigY-ey",
        "outputId": "f7ec7b3a-6289-4555-b43e-a340b0dde104"
      },
      "execution_count": null,
      "outputs": [
        {
          "output_type": "execute_result",
          "data": {
            "text/plain": [
              "0.975"
            ]
          },
          "metadata": {},
          "execution_count": 252
        }
      ]
    },
    {
      "cell_type": "code",
      "source": [
        "z_alpha = norm.ppf(probabilidade)\n",
        "z_alpha"
      ],
      "metadata": {
        "colab": {
          "base_uri": "https://localhost:8080/"
        },
        "id": "kcLHWcXzX9yd",
        "outputId": "5886b0f9-f449-461c-a2b8-789e7a8b7e02"
      },
      "execution_count": null,
      "outputs": [
        {
          "output_type": "execute_result",
          "data": {
            "text/plain": [
              "1.959963984540054"
            ]
          },
          "metadata": {},
          "execution_count": 253
        }
      ]
    },
    {
      "cell_type": "code",
      "source": [
        "z = (media_amostra - media) / (desvio_padrao_amostra / np.sqrt(n))\n",
        "z"
      ],
      "metadata": {
        "colab": {
          "base_uri": "https://localhost:8080/"
        },
        "id": "5lN94AXeX9wB",
        "outputId": "67b26823-887c-440d-a709-79fc4070ed18"
      },
      "execution_count": null,
      "outputs": [
        {
          "output_type": "execute_result",
          "data": {
            "text/plain": [
              "-1.479019945774904"
            ]
          },
          "metadata": {},
          "execution_count": 254
        }
      ]
    },
    {
      "cell_type": "code",
      "source": [
        "print('z(alpha) =', round(z_alpha, 4))\n",
        "print('z =', round(z, 4))\n",
        "if(z >= -z_alpha):\n",
        "    print('Rejeitar H0')\n",
        "else:\n",
        "    print('Aceitar H0')"
      ],
      "metadata": {
        "colab": {
          "base_uri": "https://localhost:8080/"
        },
        "id": "ZP1A6LFEX9tj",
        "outputId": "d30dd374-363e-4a3c-be9c-b663d3215b35"
      },
      "execution_count": null,
      "outputs": [
        {
          "output_type": "stream",
          "name": "stdout",
          "text": [
            "z(alpha) = 1.96\n",
            "z = -1.479\n",
            "Rejeitar H0\n"
          ]
        }
      ]
    },
    {
      "cell_type": "markdown",
      "metadata": {
        "id": "wlUdcJnDpsla"
      },
      "source": [
        "---"
      ]
    },
    {
      "cell_type": "markdown",
      "metadata": {
        "id": "L7_ZbBBtpslb"
      },
      "source": [
        "## <font color=green>3.4 Testes para Duas Amostras</font>\n",
        "***"
      ]
    },
    {
      "cell_type": "markdown",
      "metadata": {
        "id": "lmAJLIu8pslb"
      },
      "source": [
        "## <font color='red'>Problema</font>"
      ]
    },
    {
      "cell_type": "markdown",
      "metadata": {
        "id": "0zUUY8klpslc"
      },
      "source": [
        "Em nosso dataset temos os rendimento dos chefes de domicílio obtidos da Pesquisa Nacional por Amostra de Domicílios - PNAD no ano de 2015. Um problema bastante conhecido em nosso país diz respeito a desigualdade de renda, principalmente entre homens e mulheres.\n",
        "\n",
        "Duas amostras aleatórias, uma de **500 homens** e outra com **500 mulheres**, foram selecionadas em nosso dataset. Com o objetivo de comprovar tal desigualdade, **teste a igualdade das médias** entre estas duas amostras com um nível de **significância de 1%**."
      ]
    },
    {
      "cell_type": "markdown",
      "metadata": {
        "id": "WUknTBZgpslc"
      },
      "source": [
        "---"
      ]
    },
    {
      "cell_type": "markdown",
      "metadata": {
        "id": "gFIUL8Hgpslc"
      },
      "source": [
        "É possível também utilizar testes de hipóteses para comparar duas diferentes amostras. Neste tipo de teste se deseja decidir se uma amostra é diferente da outra."
      ]
    },
    {
      "cell_type": "markdown",
      "metadata": {
        "id": "xzGuwM4xpslc"
      },
      "source": [
        "### Seleção das amostras"
      ]
    },
    {
      "cell_type": "code",
      "execution_count": null,
      "metadata": {
        "id": "nuNSrzfYpsld",
        "scrolled": true
      },
      "outputs": [],
      "source": [
        "homens = dados.query('Sexo == 0').sample(n = 500, random_state = 101).Renda"
      ]
    },
    {
      "cell_type": "code",
      "execution_count": null,
      "metadata": {
        "id": "W-W9IOs1psle",
        "scrolled": true
      },
      "outputs": [],
      "source": [
        "mulheres = dados.query('Sexo == 1').sample(n = 500, random_state = 101).Renda"
      ]
    },
    {
      "cell_type": "markdown",
      "metadata": {
        "id": "FOFa-cHwpslg"
      },
      "source": [
        "### Dados do problema"
      ]
    },
    {
      "cell_type": "code",
      "execution_count": null,
      "metadata": {
        "id": "BGyXCbompslh",
        "colab": {
          "base_uri": "https://localhost:8080/"
        },
        "outputId": "49ffd5b9-89db-4a2a-c0ef-1890e82ed27c"
      },
      "outputs": [
        {
          "output_type": "execute_result",
          "data": {
            "text/plain": [
              "1357.528"
            ]
          },
          "metadata": {},
          "execution_count": 258
        }
      ],
      "source": [
        "media_amostra_M = mulheres.mean()\n",
        "media_amostra_M"
      ]
    },
    {
      "cell_type": "code",
      "source": [
        "desvio_padrao_amostra_M = mulheres.std()\n",
        "desvio_padrao_amostra_M"
      ],
      "metadata": {
        "colab": {
          "base_uri": "https://localhost:8080/"
        },
        "id": "YuBvr6VUBSYt",
        "outputId": "81a0609d-a10f-4496-8332-459eec5335a0"
      },
      "execution_count": null,
      "outputs": [
        {
          "output_type": "execute_result",
          "data": {
            "text/plain": [
              "1569.901190748458"
            ]
          },
          "metadata": {},
          "execution_count": 259
        }
      ]
    },
    {
      "cell_type": "code",
      "execution_count": null,
      "metadata": {
        "id": "RoxFOCA3pslk",
        "colab": {
          "base_uri": "https://localhost:8080/"
        },
        "outputId": "93ed5454-7af6-419f-b04c-4ff79e314063"
      },
      "outputs": [
        {
          "output_type": "execute_result",
          "data": {
            "text/plain": [
              "2142.608"
            ]
          },
          "metadata": {},
          "execution_count": 260
        }
      ],
      "source": [
        "media_amostra_H = homens.mean()\n",
        "media_amostra_H"
      ]
    },
    {
      "cell_type": "code",
      "execution_count": null,
      "metadata": {
        "id": "Of8L6Hygpsll",
        "colab": {
          "base_uri": "https://localhost:8080/"
        },
        "outputId": "fda224c2-d82d-4739-fc92-83c5bbbb1f82"
      },
      "outputs": [
        {
          "output_type": "execute_result",
          "data": {
            "text/plain": [
              "2548.0508024998717"
            ]
          },
          "metadata": {},
          "execution_count": 261
        }
      ],
      "source": [
        "desvio_padrao_amostra_H = homens.std()\n",
        "desvio_padrao_amostra_H"
      ]
    },
    {
      "cell_type": "code",
      "execution_count": null,
      "metadata": {
        "id": "-cSpXXTepsln"
      },
      "outputs": [],
      "source": [
        "significancia = 0.01\n",
        "confianca = 1 - significancia\n",
        "n_M = 500\n",
        "n_H = 500\n",
        "D_0 = 0"
      ]
    },
    {
      "cell_type": "markdown",
      "source": [
        "obs: D_0 é a diferença entre as amostras."
      ],
      "metadata": {
        "id": "H1STNhyHEafP"
      }
    },
    {
      "cell_type": "markdown",
      "metadata": {
        "id": "PGoWwWwjpslp"
      },
      "source": [
        "---"
      ]
    },
    {
      "cell_type": "markdown",
      "metadata": {
        "id": "tO597Oxgpslp"
      },
      "source": [
        "### **Passo 1** - formulação das hipóteses $H_0$ e $H_1$\n",
        "\n",
        "#### <font color='red'>Lembre-se, a hipótese nula sempre contém a alegação de igualdade</font>"
      ]
    },
    {
      "cell_type": "markdown",
      "metadata": {
        "id": "LysVU-7fpslr"
      },
      "source": [
        "### $\\mu_1 \\Rightarrow$ Média das rendas dos chefes de domicílios do sexo masculino\n",
        "### $\\mu_2 \\Rightarrow$ Média das rendas dos chefes de domicílios do sexo feminino\n",
        "\n",
        "### $\n",
        "\\begin{cases}\n",
        "H_0: \\mu_1 \\leq \\mu_2\\\\\n",
        "H_1: \\mu_1 > \\mu_2\n",
        "\\end{cases}\n",
        "$\n",
        "\n",
        "### ou\n",
        "\n",
        "### $\n",
        "\\begin{cases}\n",
        "H_0: \\mu_1 -\\mu_2 \\leq 0\\\\\n",
        "H_1: \\mu_1 -\\mu_2 > 0\n",
        "\\end{cases}\n",
        "$"
      ]
    },
    {
      "cell_type": "markdown",
      "metadata": {
        "id": "ENKqbCgQpslr"
      },
      "source": [
        "---"
      ]
    },
    {
      "cell_type": "markdown",
      "metadata": {
        "id": "dBA05Y3Zpslr"
      },
      "source": [
        "### **Passo 2** - escolha da distribuição amostral adequada\n",
        "<img src='https://caelum-online-public.s3.amazonaws.com/1229-estatistica-parte3/01/img003.png' width=70%>\n",
        "\n",
        "### <font color='red'>Observação importante</font>\n",
        "> Em testes que envolvam duas amostras com o emprego da tabela $t$ de Student, o número de graus de liberdade será sempre igual a $n_1 + n_2 - 2$"
      ]
    },
    {
      "cell_type": "markdown",
      "metadata": {
        "id": "6_Q_Wtjlpsls"
      },
      "source": [
        "### O tamanho da amostra é maior que 30?\n",
        "#### Resp.: Sim\n",
        "\n",
        "### O desvio padrão populacional é conhecido?\n",
        "#### Resp.: Não"
      ]
    },
    {
      "cell_type": "markdown",
      "metadata": {
        "id": "T6sVzVjVpsls"
      },
      "source": [
        "---"
      ]
    },
    {
      "cell_type": "markdown",
      "metadata": {
        "id": "SUN4yJqzpsls"
      },
      "source": [
        "### **Passo 3** - fixação da significância do teste ($\\alpha$)"
      ]
    },
    {
      "cell_type": "code",
      "execution_count": null,
      "metadata": {
        "id": "b3Y_CZmzpsls",
        "colab": {
          "base_uri": "https://localhost:8080/"
        },
        "outputId": "7429d5cb-22fe-41bd-a7e2-f7dca77a1d79"
      },
      "outputs": [
        {
          "output_type": "execute_result",
          "data": {
            "text/plain": [
              "0.99"
            ]
          },
          "metadata": {},
          "execution_count": 263
        }
      ],
      "source": [
        "probabilidade = confianca\n",
        "probabilidade"
      ]
    },
    {
      "cell_type": "code",
      "execution_count": null,
      "metadata": {
        "id": "qNse2bFRpslu",
        "colab": {
          "base_uri": "https://localhost:8080/"
        },
        "outputId": "3493ee8b-2695-49be-b480-7c2eb672f80e"
      },
      "outputs": [
        {
          "output_type": "execute_result",
          "data": {
            "text/plain": [
              "2.33"
            ]
          },
          "metadata": {},
          "execution_count": 264
        }
      ],
      "source": [
        "z_alpha = norm.ppf(probabilidade)\n",
        "z_alpha.round(2)"
      ]
    },
    {
      "cell_type": "markdown",
      "metadata": {
        "id": "y9u_zd8Opslv"
      },
      "source": [
        "![Região de Aceitação](https://caelum-online-public.s3.amazonaws.com/1229-estatistica-parte3/01/img011.png)"
      ]
    },
    {
      "cell_type": "markdown",
      "metadata": {
        "id": "xUhiEXRMpslv"
      },
      "source": [
        "---"
      ]
    },
    {
      "cell_type": "markdown",
      "metadata": {
        "id": "iooB1aPHpslv"
      },
      "source": [
        "### **Passo 4** - cálculo da estatística-teste e verificação desse valor com as áreas de aceitação e rejeição do teste\n",
        "\n",
        "# $$z = \\frac{(\\bar{x_1} - \\bar{x_2})-D_0}{\\sqrt{\\frac{s_1^2}{n_1} + \\frac{s_2^2}{n_2}}}$$"
      ]
    },
    {
      "cell_type": "code",
      "execution_count": null,
      "metadata": {
        "id": "AL2i9JOTpslw",
        "colab": {
          "base_uri": "https://localhost:8080/"
        },
        "outputId": "af893a5b-e67f-410e-fc22-6a204e425649"
      },
      "outputs": [
        {
          "output_type": "execute_result",
          "data": {
            "text/plain": [
              "5.8656200577647555"
            ]
          },
          "metadata": {},
          "execution_count": 265
        }
      ],
      "source": [
        "numerador = (media_amostra_H - media_amostra_M) - D_0\n",
        "denominador = np.sqrt((desvio_padrao_amostra_H ** 2 / n_H)+ (desvio_padrao_amostra_M ** 2 / n_M))\n",
        "\n",
        "z = numerador / denominador\n",
        "z"
      ]
    },
    {
      "cell_type": "markdown",
      "metadata": {
        "id": "jXrfHvH5pslx"
      },
      "source": [
        "![Estatística-Teste](https://caelum-online-public.s3.amazonaws.com/1229-estatistica-parte3/01/img012.png)"
      ]
    },
    {
      "cell_type": "markdown",
      "metadata": {
        "id": "4dn58Fc2pslx"
      },
      "source": [
        "---"
      ]
    },
    {
      "cell_type": "markdown",
      "metadata": {
        "id": "P-7NL33-pslx"
      },
      "source": [
        "### **Passo 5** - Aceitação ou rejeição da hipótese nula"
      ]
    },
    {
      "cell_type": "markdown",
      "metadata": {
        "id": "n_djxfYtpslx"
      },
      "source": [
        "<img src='https://caelum-online-public.s3.amazonaws.com/1229-estatistica-parte3/01/img014.png' width=90%>"
      ]
    },
    {
      "cell_type": "markdown",
      "metadata": {
        "id": "QrObW-BXpsly"
      },
      "source": [
        "### <font color='red'>Critério do valor crítico</font>\n",
        "\n",
        "> ### Teste Unicaudal\n",
        "> ### Rejeitar $H_0$ se $z \\geq z_{\\alpha}$"
      ]
    },
    {
      "cell_type": "code",
      "execution_count": null,
      "metadata": {
        "id": "tkJSji7gpsly",
        "colab": {
          "base_uri": "https://localhost:8080/"
        },
        "outputId": "cf41f42c-1ae4-48d3-aa08-c6ad16b93aaa"
      },
      "outputs": [
        {
          "output_type": "execute_result",
          "data": {
            "text/plain": [
              "True"
            ]
          },
          "metadata": {},
          "execution_count": 266
        }
      ],
      "source": [
        "z >= z_alpha"
      ]
    },
    {
      "cell_type": "markdown",
      "metadata": {
        "id": "UnBVO1uDpslz"
      },
      "source": [
        "### <font color='green'>Conclusão: Com um nível de confiança de 99% rejeitamos $H_0$, isto é, concluímos que a média das rendas dos chefes de domicílios do sexo masculino é maior que a média das rendas das chefes de domicílios do sexo feminino. Confirmando a alegação de desigualdade de renda entre os sexos.</font>"
      ]
    },
    {
      "cell_type": "markdown",
      "source": [
        "# **Exercicio: Testando uma nova linha de shampoos**\n",
        "\n",
        "Um fabricante de cosméticos afirma que a adição de um novo composto químico em sua linha de shampoos consegue promover em mais de 2 centímetros o crescimento dos fios de cabelo em um período de 60 dias. Duas amostras de pessoas foram selecionadas e testadas, uma utilizando o shampoo novo (com o composto) e a outra com o shampoo antigo (sem o composto).\n",
        "\n",
        "Os resultados (crescimento dos fios de cabelo em centímetros) podem ser verificados na tabela abaixo:"
      ],
      "metadata": {
        "id": "nnSmcWx-Hv6O"
      }
    },
    {
      "cell_type": "code",
      "source": [
        "shampoo_Novo = pd.Series([3.4, 4.9, 2.8, 5.5, 3.7, 2.5, 4.3, 4.6, 3.7, 3.4])\n",
        "shampoo_Antigo = pd.Series([0.3, 1.2, 1.2, 1.7, 1.1, 0.6, 1.2, 1.5, 0.5, 0.7])"
      ],
      "metadata": {
        "id": "4hwXcV0CHwFN"
      },
      "execution_count": null,
      "outputs": []
    },
    {
      "cell_type": "markdown",
      "source": [
        "Assumindo um nível de confiança de 95% e considerando que as populações se distribuem como uma normal, podemos acreditar na afirmação do fabricante do shampoo? Assinale a alternativa que apresenta a estatística de teste e a decisão correta do teste.\n",
        "\n",
        "Um pouco mais de teoria: como se trata de um problema um pouco diferente do apresentado em nossa aula, vamos esclarecer alguns pontos para ajudar na solução:\n",
        "\n",
        "**1)** Em testes entre duas amostras, quando realizamos a escolha da distribuição amostral adequada (passo 2) e perguntamos se n ≥ 30, temos que considerar que n = n1 + n2, onde n1 é o tamanho da primeira amostra e n2 o tamanho da segunda;\n",
        "\n",
        "**2)** Quando n1 + n2 ≥ 30, utilizamos z (normal), e quando n1 + n2 < 30, σ não for conhecido e as populações forem normalmente distribuídas, utilizamos t (t-Student);\n",
        "\n",
        "**3)** Quando utilizamos a tabela t de Student, em teste de duas amostras, os graus de liberdade são obtidos da seguinte forma: n1 + n2 - 2;\n",
        "\n",
        "**4)** Quando o problema nos pergunta se podemos acreditar na afirmação do fabricante, está nos indicando o que devemos testar, ou seja, a nossa hipótese alternativa (H1), que no caso é:\n",
        "\n",
        "\n",
        "\n",
        "Onde:\n",
        "\n",
        "μ1 = Crescimento médio dos cabelos com o uso do novo shampoo\n",
        "μ2 = Crescimento médio dos cabelos com o uso do shampoo antigo.\n",
        "5) Em nosso próximo vídeo, utilizaremos o ztest_ind() para solucionar problemas como este. Um teste similar ao ztest_ind(), que utiliza a distribuição t de Student, é o ttest_ind(). Aqui, você será redirecionado para a documentação. Observe que o ttest_ind() retorna a estatística de teste, o p-valor e também os graus de liberdade."
      ],
      "metadata": {
        "id": "07DEwvyJIvo1"
      }
    },
    {
      "cell_type": "code",
      "source": [
        "media_shampoo_novo = shampoo_Novo.mean()\n",
        "media_shampoo_novo"
      ],
      "metadata": {
        "colab": {
          "base_uri": "https://localhost:8080/"
        },
        "id": "qM2UXpDFJ3zR",
        "outputId": "a5e5bbac-211a-4c95-e2bc-8d7ec9ddc408"
      },
      "execution_count": null,
      "outputs": [
        {
          "output_type": "execute_result",
          "data": {
            "text/plain": [
              "3.88"
            ]
          },
          "metadata": {},
          "execution_count": 268
        }
      ]
    },
    {
      "cell_type": "code",
      "source": [
        "desvio_padrao_shampoo_N = shampoo_Novo.std()\n",
        "desvio_padrao_shampoo_N"
      ],
      "metadata": {
        "colab": {
          "base_uri": "https://localhost:8080/"
        },
        "id": "tOg7DAY1LO7l",
        "outputId": "7c5e9f2e-24b3-40a4-9a68-6c920809ffa4"
      },
      "execution_count": null,
      "outputs": [
        {
          "output_type": "execute_result",
          "data": {
            "text/plain": [
              "0.9402127418834527"
            ]
          },
          "metadata": {},
          "execution_count": 269
        }
      ]
    },
    {
      "cell_type": "code",
      "source": [
        "media_shampoo_antigo = shampoo_Antigo.mean()\n",
        "media_shampoo_antigo"
      ],
      "metadata": {
        "colab": {
          "base_uri": "https://localhost:8080/"
        },
        "id": "dP7jR72IJ3w5",
        "outputId": "3bc9f789-a3f9-4133-b580-29a241ca9cc7"
      },
      "execution_count": null,
      "outputs": [
        {
          "output_type": "execute_result",
          "data": {
            "text/plain": [
              "1.0"
            ]
          },
          "metadata": {},
          "execution_count": 270
        }
      ]
    },
    {
      "cell_type": "code",
      "source": [
        "desvio_padrao_shampoo_A = shampoo_Antigo.std()\n",
        "desvio_padrao_shampoo_A"
      ],
      "metadata": {
        "colab": {
          "base_uri": "https://localhost:8080/"
        },
        "id": "uROLUhQdJ3ug",
        "outputId": "299c530f-4026-46d4-c790-d5c35bb610bf"
      },
      "execution_count": null,
      "outputs": [
        {
          "output_type": "execute_result",
          "data": {
            "text/plain": [
              "0.4546060565661952"
            ]
          },
          "metadata": {},
          "execution_count": 271
        }
      ]
    },
    {
      "cell_type": "code",
      "source": [
        "significancia = 0.05\n",
        "confianca = 1 - significancia\n",
        "n_N = shampoo_Novo.size\n",
        "n_A = shampoo_Antigo.size\n",
        "D_0 = 2"
      ],
      "metadata": {
        "id": "w6N88RxsJ3r-"
      },
      "execution_count": null,
      "outputs": []
    },
    {
      "cell_type": "markdown",
      "source": [
        "Obs: D_0 = 2, pois no enunciado diz que o shampoo novo cresce 2cm em relação ao antigo."
      ],
      "metadata": {
        "id": "f40U9gPpTg49"
      }
    },
    {
      "cell_type": "code",
      "source": [
        "(n_N + n_A) >= 30"
      ],
      "metadata": {
        "colab": {
          "base_uri": "https://localhost:8080/"
        },
        "id": "R5IWaWYGJ3po",
        "outputId": "04420eaf-6e08-402c-cc85-1a179df7cb20"
      },
      "execution_count": null,
      "outputs": [
        {
          "output_type": "execute_result",
          "data": {
            "text/plain": [
              "False"
            ]
          },
          "metadata": {},
          "execution_count": 273
        }
      ]
    },
    {
      "cell_type": "markdown",
      "source": [
        "Então utilizaremos t (t-Student)."
      ],
      "metadata": {
        "id": "LuOYcXDhNJHM"
      }
    },
    {
      "cell_type": "code",
      "source": [
        "graus_de_liberdade = n_N + n_A - 2\n",
        "graus_de_liberdade"
      ],
      "metadata": {
        "colab": {
          "base_uri": "https://localhost:8080/"
        },
        "id": "cIg8PhvXNr2d",
        "outputId": "5eb01eae-3378-4ced-cfcd-c042b38ebbb1"
      },
      "execution_count": null,
      "outputs": [
        {
          "output_type": "execute_result",
          "data": {
            "text/plain": [
              "18"
            ]
          },
          "metadata": {},
          "execution_count": 274
        }
      ]
    },
    {
      "cell_type": "code",
      "source": [
        "t_alpha = t_student.ppf(confianca, graus_de_liberdade)\n",
        "t_alpha"
      ],
      "metadata": {
        "colab": {
          "base_uri": "https://localhost:8080/"
        },
        "id": "9JJ6M__0MlnO",
        "outputId": "699548b4-fcac-4ba1-ab2b-9c2249b57050"
      },
      "execution_count": null,
      "outputs": [
        {
          "output_type": "execute_result",
          "data": {
            "text/plain": [
              "1.7340636066175354"
            ]
          },
          "metadata": {},
          "execution_count": 275
        }
      ]
    },
    {
      "cell_type": "markdown",
      "source": [
        "![image.png](data:image/png;base64,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)"
      ],
      "metadata": {
        "id": "btlbbMMFOVRk"
      }
    },
    {
      "cell_type": "code",
      "source": [
        "numerador = (media_shampoo_novo - media_shampoo_antigo) - D_0\n",
        "denominador = np.sqrt((desvio_padrao_shampoo_N ** 2 / n_N)+ (desvio_padrao_shampoo_A ** 2 / n_A))\n",
        "\n",
        "t = numerador / denominador\n",
        "t"
      ],
      "metadata": {
        "colab": {
          "base_uri": "https://localhost:8080/"
        },
        "id": "fnGS9yg-Mlk9",
        "outputId": "15d2cf53-70bc-43a1-ff94-cf1f18d694c0"
      },
      "execution_count": null,
      "outputs": [
        {
          "output_type": "execute_result",
          "data": {
            "text/plain": [
              "2.6646283978779297"
            ]
          },
          "metadata": {},
          "execution_count": 276
        }
      ]
    },
    {
      "cell_type": "markdown",
      "source": [
        "![image.png](data:image/png;base64,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)"
      ],
      "metadata": {
        "id": "9HSAS_GIQmJN"
      }
    },
    {
      "cell_type": "code",
      "source": [
        "if(t >= t_alpha):\n",
        "    print('Rejeitar H0')\n",
        "else:\n",
        "    print('Aceitar H0')"
      ],
      "metadata": {
        "colab": {
          "base_uri": "https://localhost:8080/"
        },
        "id": "vak8hNpJMli1",
        "outputId": "679f0c3e-89b2-4a54-8714-a1d91ff211b8"
      },
      "execution_count": null,
      "outputs": [
        {
          "output_type": "stream",
          "name": "stdout",
          "text": [
            "Rejeitar H0\n"
          ]
        }
      ]
    },
    {
      "cell_type": "markdown",
      "source": [
        "Com o grau de confianca de 95%, rejeitamos H0, isto é, concluímos que a alegação do fabricante a respeito do novo produto, se fez verdadeira através de testes estatísticos."
      ],
      "metadata": {
        "id": "9aSVZ2HhU7uF"
      }
    },
    {
      "cell_type": "markdown",
      "source": [
        "# **Continuando ...**"
      ],
      "metadata": {
        "id": "d4OvlT9JVZdd"
      }
    },
    {
      "cell_type": "markdown",
      "metadata": {
        "id": "cyuNEHfwpsl0"
      },
      "source": [
        "### <font color='red'>Critério do valor $p$</font>\n",
        "\n",
        "> ### Teste Unicaudal\n",
        "> ### Rejeitar $H_0$ se o valor $p\\leq\\alpha$"
      ]
    },
    {
      "cell_type": "markdown",
      "metadata": {
        "id": "9WgvHygWpsl0"
      },
      "source": [
        "https://www.statsmodels.org/dev/generated/statsmodels.stats.weightstats.DescrStatsW.html\n",
        "\n",
        "https://www.statsmodels.org/dev/generated/statsmodels.stats.weightstats.CompareMeans.ttest_ind.html"
      ]
    },
    {
      "cell_type": "code",
      "execution_count": null,
      "metadata": {
        "id": "UkFRl3hTpsl0"
      },
      "outputs": [],
      "source": [
        "from statsmodels.stats.weightstats import DescrStatsW, CompareMeans"
      ]
    },
    {
      "cell_type": "code",
      "execution_count": null,
      "metadata": {
        "id": "uW0uVFnFpsl1",
        "colab": {
          "base_uri": "https://localhost:8080/"
        },
        "outputId": "e787e569-9241-41a3-8d73-70625db6b720"
      },
      "outputs": [
        {
          "output_type": "execute_result",
          "data": {
            "text/plain": [
              "<statsmodels.stats.weightstats.DescrStatsW at 0x7f6ada12fc70>"
            ]
          },
          "metadata": {},
          "execution_count": 279
        }
      ],
      "source": [
        "test_H = DescrStatsW(homens)\n",
        "test_H"
      ]
    },
    {
      "cell_type": "code",
      "execution_count": null,
      "metadata": {
        "id": "kP92TQqupsl1",
        "colab": {
          "base_uri": "https://localhost:8080/"
        },
        "outputId": "8ba1a209-2c1d-4653-d573-8d3b8b798027"
      },
      "outputs": [
        {
          "output_type": "execute_result",
          "data": {
            "text/plain": [
              "<statsmodels.stats.weightstats.DescrStatsW at 0x7f6ada12ff10>"
            ]
          },
          "metadata": {},
          "execution_count": 280
        }
      ],
      "source": [
        "test_M = DescrStatsW(mulheres)\n",
        "test_M"
      ]
    },
    {
      "cell_type": "code",
      "execution_count": null,
      "metadata": {
        "id": "diOjg4G8psl2"
      },
      "outputs": [],
      "source": [
        "test_A = test_H.get_compare(test_M)"
      ]
    },
    {
      "cell_type": "code",
      "execution_count": null,
      "metadata": {
        "id": "tweh7q_spsl5",
        "colab": {
          "base_uri": "https://localhost:8080/"
        },
        "outputId": "817479f8-67df-444f-a9ae-57d36e34c49d"
      },
      "outputs": [
        {
          "output_type": "execute_result",
          "data": {
            "text/plain": [
              "2.2372867859458255e-09"
            ]
          },
          "metadata": {},
          "execution_count": 282
        }
      ],
      "source": [
        "z, p_valor = test_A.ztest_ind(alternative='larger', value = 0)\n",
        "p_valor"
      ]
    },
    {
      "cell_type": "code",
      "execution_count": null,
      "metadata": {
        "id": "qRkrt2XZhL9v"
      },
      "outputs": [],
      "source": [
        "test_B = CompareMeans(test_H, test_M)"
      ]
    },
    {
      "cell_type": "code",
      "execution_count": null,
      "metadata": {
        "id": "tSbOZem9hLvs",
        "colab": {
          "base_uri": "https://localhost:8080/"
        },
        "outputId": "abb40d65-cb8a-4301-823f-02d7ce669a0e"
      },
      "outputs": [
        {
          "output_type": "execute_result",
          "data": {
            "text/plain": [
              "2.2372867859458255e-09"
            ]
          },
          "metadata": {},
          "execution_count": 284
        }
      ],
      "source": [
        "z, p_valor = test_B.ztest_ind(alternative='larger', value = 0)\n",
        "p_valor"
      ]
    },
    {
      "cell_type": "code",
      "execution_count": null,
      "metadata": {
        "id": "E3NF1BzYpsl6",
        "colab": {
          "base_uri": "https://localhost:8080/"
        },
        "outputId": "c1b3f552-d082-44eb-a660-bbd3e493fd59"
      },
      "outputs": [
        {
          "output_type": "execute_result",
          "data": {
            "text/plain": [
              "True"
            ]
          },
          "metadata": {},
          "execution_count": 285
        }
      ],
      "source": [
        "p_valor <= significancia"
      ]
    },
    {
      "cell_type": "markdown",
      "source": [
        "# **Exercicio: Ferramentas Python para testes com duas amostras**\n",
        "\n",
        "Considerando um teste com o seguinte conjunto de hipóteses:\n",
        "\n",
        "![image.png](data:image/png;base64,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)\n",
        "\n",
        "Assinale a alternativa correta sobre as configurações do ztest_ind():"
      ],
      "metadata": {
        "id": "aSbhqhYRMQ0L"
      }
    },
    {
      "cell_type": "markdown",
      "source": [
        "Alternativa correta:"
      ],
      "metadata": {
        "id": "EoWYvsDcNC-F"
      }
    },
    {
      "cell_type": "code",
      "source": [
        "# ztest_ind(alternative='smaller', value = 5)"
      ],
      "metadata": {
        "id": "0BiCqeb3NB5v"
      },
      "execution_count": null,
      "outputs": []
    },
    {
      "cell_type": "markdown",
      "source": [
        "Observe que as hipóteses acima indicam a aplicação de um teste unicaudal inferior. Por isso o parâmetro alternative é smaller."
      ],
      "metadata": {
        "id": "38gJOX6WNPWP"
      }
    },
    {
      "cell_type": "markdown",
      "metadata": {
        "id": "0gxk-t4jpsl8"
      },
      "source": [
        "---"
      ]
    },
    {
      "cell_type": "markdown",
      "metadata": {
        "id": "IEHa9ZC_psl8"
      },
      "source": [
        "# <font color=green>4 TESTES NÃO PARAMÉTRICOS</font>\n",
        "***"
      ]
    },
    {
      "cell_type": "markdown",
      "metadata": {
        "id": "8iRwKn9Wpsl8"
      },
      "source": [
        "O trabalho com pequenas amostras pode levar a não aceitação da validade do teorema central do limite e também na impossibilidade de fazer suposições sobre a distribuição da variável avaliada. Quando isso ocorre torna-se necessária a aplicação de testes não paramétricos. Nos testes não paramétricos, não fazemos hipóteses sobre a distribuição (de probabilidade) das quais as observações são extraídas."
      ]
    },
    {
      "cell_type": "markdown",
      "metadata": {
        "id": "ngqmtRxFpsl9"
      },
      "source": [
        "## <font color='red'>Problema</font>"
      ]
    },
    {
      "cell_type": "markdown",
      "metadata": {
        "id": "Al0BiC02psl9"
      },
      "source": [
        "Antes de cada partida do campeonato nacional de futebol, as moedas utilizadas pelos árbitros devem ser verificadas para se ter certeza de que não são viciadas, ou seja, que não tendam para determinado resultado. Para isso um teste simples deve ser realizado antes de cada partida. Este teste consiste em lançar a moeda do jogo **50 vezes** e contar as frequências de **CARAS** e **COROAS** obtidas. A tabela abaixo mostra o resultado obtido no experimento:\n",
        "\n",
        "||CARA|COROA|\n",
        "|-|-|-|\n",
        "|Observado|17|33|\n",
        "|Esperado|25|25|\n",
        "\n",
        "A um **nível de significância de 5%**, é possível afirmar que a moeda não é honesta, isto é, que a moeda apresenta uma probabilidade maior de cair com a face **CARA** voltada para cima?"
      ]
    },
    {
      "cell_type": "markdown",
      "metadata": {
        "id": "56KA3Hnupsl9"
      },
      "source": [
        "## <font color=green>4.1 Teste do Qui-Quadrado ( $\\chi^2$)</font>\n",
        "***"
      ]
    },
    {
      "cell_type": "markdown",
      "metadata": {
        "id": "GxTlvB4Zpsl9"
      },
      "source": [
        "Também conhecido como teste de adequação ao ajustamento, seu nome se deve ao fato de utilizar uma variável estatística padronizada, representada pela letra grega qui ( $\\chi$) elevada ao quadrado. A tabela com os valores padronizados e como obtê-la podem ser vistos logo abaixo.\n",
        "\n",
        "O teste do $\\chi^2$ testa a hipótese nula de não haver diferença entre as frequências observadas de um determinado evento e as frequências que são realmente esperadas para este evento.\n",
        "\n",
        "Os passos de aplicação do teste são bem parecidos aos vistos para os testes paramétricos.\n",
        "\n",
        "![Região de Aceitação](https://caelum-online-public.s3.amazonaws.com/1229-estatistica-parte3/01/img017.png)"
      ]
    },
    {
      "cell_type": "markdown",
      "metadata": {
        "id": "1lbHtKGfpsl9"
      },
      "source": [
        "### Construindo tabela $\\chi^2$\n",
        "https://docs.scipy.org/doc/scipy/reference/generated/scipy.stats.chi.html"
      ]
    },
    {
      "cell_type": "code",
      "execution_count": null,
      "metadata": {
        "id": "k7sZCK8dpsl-",
        "scrolled": false,
        "colab": {
          "base_uri": "https://localhost:8080/",
          "height": 1022
        },
        "outputId": "bed8f389-a292-4b00-805a-168d276d31ea"
      },
      "outputs": [
        {
          "output_type": "execute_result",
          "data": {
            "text/plain": [
              "p                     0.005    0.010    0.025    0.050    0.100    0.250  \\\n",
              "Graus de Liberdade                                                         \n",
              "1                    0.0000   0.0002   0.0010   0.0039   0.0158   0.1015   \n",
              "2                    0.0100   0.0201   0.0506   0.1026   0.2107   0.5754   \n",
              "3                    0.0717   0.1148   0.2158   0.3518   0.5844   1.2125   \n",
              "4                    0.2070   0.2971   0.4844   0.7107   1.0636   1.9226   \n",
              "5                    0.4117   0.5543   0.8312   1.1455   1.6103   2.6746   \n",
              "6                    0.6757   0.8721   1.2373   1.6354   2.2041   3.4546   \n",
              "7                    0.9893   1.2390   1.6899   2.1673   2.8331   4.2549   \n",
              "8                    1.3444   1.6465   2.1797   2.7326   3.4895   5.0706   \n",
              "9                    1.7349   2.0879   2.7004   3.3251   4.1682   5.8988   \n",
              "10                   2.1559   2.5582   3.2470   3.9403   4.8652   6.7372   \n",
              "11                   2.6032   3.0535   3.8157   4.5748   5.5778   7.5841   \n",
              "12                   3.0738   3.5706   4.4038   5.2260   6.3038   8.4384   \n",
              "13                   3.5650   4.1069   5.0088   5.8919   7.0415   9.2991   \n",
              "14                   4.0747   4.6604   5.6287   6.5706   7.7895  10.1653   \n",
              "15                   4.6009   5.2293   6.2621   7.2609   8.5468  11.0365   \n",
              "16                   5.1422   5.8122   6.9077   7.9616   9.3122  11.9122   \n",
              "17                   5.6972   6.4078   7.5642   8.6718  10.0852  12.7919   \n",
              "18                   6.2648   7.0149   8.2307   9.3905  10.8649  13.6753   \n",
              "19                   6.8440   7.6327   8.9065  10.1170  11.6509  14.5620   \n",
              "20                   7.4338   8.2604   9.5908  10.8508  12.4426  15.4518   \n",
              "21                   8.0337   8.8972  10.2829  11.5913  13.2396  16.3444   \n",
              "22                   8.6427   9.5425  10.9823  12.3380  14.0415  17.2396   \n",
              "23                   9.2604  10.1957  11.6886  13.0905  14.8480  18.1373   \n",
              "24                   9.8862  10.8564  12.4012  13.8484  15.6587  19.0373   \n",
              "25                  10.5197  11.5240  13.1197  14.6114  16.4734  19.9393   \n",
              "26                  11.1602  12.1981  13.8439  15.3792  17.2919  20.8434   \n",
              "27                  11.8076  12.8785  14.5734  16.1514  18.1139  21.7494   \n",
              "28                  12.4613  13.5647  15.3079  16.9279  18.9392  22.6572   \n",
              "29                  13.1211  14.2565  16.0471  17.7084  19.7677  23.5666   \n",
              "30                  13.7867  14.9535  16.7908  18.4927  20.5992  24.4776   \n",
              "\n",
              "p                     0.500    0.750    0.900    0.975    0.950    0.990  \\\n",
              "Graus de Liberdade                                                         \n",
              "1                    0.4549   1.3233   2.7055   5.0239   3.8415   6.6349   \n",
              "2                    1.3863   2.7726   4.6052   7.3778   5.9915   9.2103   \n",
              "3                    2.3660   4.1083   6.2514   9.3484   7.8147  11.3449   \n",
              "4                    3.3567   5.3853   7.7794  11.1433   9.4877  13.2767   \n",
              "5                    4.3515   6.6257   9.2364  12.8325  11.0705  15.0863   \n",
              "6                    5.3481   7.8408  10.6446  14.4494  12.5916  16.8119   \n",
              "7                    6.3458   9.0371  12.0170  16.0128  14.0671  18.4753   \n",
              "8                    7.3441  10.2189  13.3616  17.5345  15.5073  20.0902   \n",
              "9                    8.3428  11.3888  14.6837  19.0228  16.9190  21.6660   \n",
              "10                   9.3418  12.5489  15.9872  20.4832  18.3070  23.2093   \n",
              "11                  10.3410  13.7007  17.2750  21.9200  19.6751  24.7250   \n",
              "12                  11.3403  14.8454  18.5493  23.3367  21.0261  26.2170   \n",
              "13                  12.3398  15.9839  19.8119  24.7356  22.3620  27.6882   \n",
              "14                  13.3393  17.1169  21.0641  26.1189  23.6848  29.1412   \n",
              "15                  14.3389  18.2451  22.3071  27.4884  24.9958  30.5779   \n",
              "16                  15.3385  19.3689  23.5418  28.8454  26.2962  31.9999   \n",
              "17                  16.3382  20.4887  24.7690  30.1910  27.5871  33.4087   \n",
              "18                  17.3379  21.6049  25.9894  31.5264  28.8693  34.8053   \n",
              "19                  18.3377  22.7178  27.2036  32.8523  30.1435  36.1909   \n",
              "20                  19.3374  23.8277  28.4120  34.1696  31.4104  37.5662   \n",
              "21                  20.3372  24.9348  29.6151  35.4789  32.6706  38.9322   \n",
              "22                  21.3370  26.0393  30.8133  36.7807  33.9244  40.2894   \n",
              "23                  22.3369  27.1413  32.0069  38.0756  35.1725  41.6384   \n",
              "24                  23.3367  28.2412  33.1962  39.3641  36.4150  42.9798   \n",
              "25                  24.3366  29.3389  34.3816  40.6465  37.6525  44.3141   \n",
              "26                  25.3365  30.4346  35.5632  41.9232  38.8851  45.6417   \n",
              "27                  26.3363  31.5284  36.7412  43.1945  40.1133  46.9629   \n",
              "28                  27.3362  32.6205  37.9159  44.4608  41.3371  48.2782   \n",
              "29                  28.3361  33.7109  39.0875  45.7223  42.5570  49.5879   \n",
              "30                  29.3360  34.7997  40.2560  46.9792  43.7730  50.8922   \n",
              "\n",
              "p                     0.995  \n",
              "Graus de Liberdade           \n",
              "1                    7.8794  \n",
              "2                   10.5966  \n",
              "3                   12.8382  \n",
              "4                   14.8603  \n",
              "5                   16.7496  \n",
              "6                   18.5476  \n",
              "7                   20.2777  \n",
              "8                   21.9550  \n",
              "9                   23.5894  \n",
              "10                  25.1882  \n",
              "11                  26.7568  \n",
              "12                  28.2995  \n",
              "13                  29.8195  \n",
              "14                  31.3193  \n",
              "15                  32.8013  \n",
              "16                  34.2672  \n",
              "17                  35.7185  \n",
              "18                  37.1565  \n",
              "19                  38.5823  \n",
              "20                  39.9968  \n",
              "21                  41.4011  \n",
              "22                  42.7957  \n",
              "23                  44.1813  \n",
              "24                  45.5585  \n",
              "25                  46.9279  \n",
              "26                  48.2899  \n",
              "27                  49.6449  \n",
              "28                  50.9934  \n",
              "29                  52.3356  \n",
              "30                  53.6720  "
            ],
            "text/html": [
              "\n",
              "  <div id=\"df-5304aca3-1e6d-40e8-8327-d01dc14c933b\">\n",
              "    <div class=\"colab-df-container\">\n",
              "      <div>\n",
              "<style scoped>\n",
              "    .dataframe tbody tr th:only-of-type {\n",
              "        vertical-align: middle;\n",
              "    }\n",
              "\n",
              "    .dataframe tbody tr th {\n",
              "        vertical-align: top;\n",
              "    }\n",
              "\n",
              "    .dataframe thead th {\n",
              "        text-align: right;\n",
              "    }\n",
              "</style>\n",
              "<table border=\"1\" class=\"dataframe\">\n",
              "  <thead>\n",
              "    <tr style=\"text-align: right;\">\n",
              "      <th>p</th>\n",
              "      <th>0.005</th>\n",
              "      <th>0.010</th>\n",
              "      <th>0.025</th>\n",
              "      <th>0.050</th>\n",
              "      <th>0.100</th>\n",
              "      <th>0.250</th>\n",
              "      <th>0.500</th>\n",
              "      <th>0.750</th>\n",
              "      <th>0.900</th>\n",
              "      <th>0.975</th>\n",
              "      <th>0.950</th>\n",
              "      <th>0.990</th>\n",
              "      <th>0.995</th>\n",
              "    </tr>\n",
              "    <tr>\n",
              "      <th>Graus de Liberdade</th>\n",
              "      <th></th>\n",
              "      <th></th>\n",
              "      <th></th>\n",
              "      <th></th>\n",
              "      <th></th>\n",
              "      <th></th>\n",
              "      <th></th>\n",
              "      <th></th>\n",
              "      <th></th>\n",
              "      <th></th>\n",
              "      <th></th>\n",
              "      <th></th>\n",
              "      <th></th>\n",
              "    </tr>\n",
              "  </thead>\n",
              "  <tbody>\n",
              "    <tr>\n",
              "      <th>1</th>\n",
              "      <td>0.0000</td>\n",
              "      <td>0.0002</td>\n",
              "      <td>0.0010</td>\n",
              "      <td>0.0039</td>\n",
              "      <td>0.0158</td>\n",
              "      <td>0.1015</td>\n",
              "      <td>0.4549</td>\n",
              "      <td>1.3233</td>\n",
              "      <td>2.7055</td>\n",
              "      <td>5.0239</td>\n",
              "      <td>3.8415</td>\n",
              "      <td>6.6349</td>\n",
              "      <td>7.8794</td>\n",
              "    </tr>\n",
              "    <tr>\n",
              "      <th>2</th>\n",
              "      <td>0.0100</td>\n",
              "      <td>0.0201</td>\n",
              "      <td>0.0506</td>\n",
              "      <td>0.1026</td>\n",
              "      <td>0.2107</td>\n",
              "      <td>0.5754</td>\n",
              "      <td>1.3863</td>\n",
              "      <td>2.7726</td>\n",
              "      <td>4.6052</td>\n",
              "      <td>7.3778</td>\n",
              "      <td>5.9915</td>\n",
              "      <td>9.2103</td>\n",
              "      <td>10.5966</td>\n",
              "    </tr>\n",
              "    <tr>\n",
              "      <th>3</th>\n",
              "      <td>0.0717</td>\n",
              "      <td>0.1148</td>\n",
              "      <td>0.2158</td>\n",
              "      <td>0.3518</td>\n",
              "      <td>0.5844</td>\n",
              "      <td>1.2125</td>\n",
              "      <td>2.3660</td>\n",
              "      <td>4.1083</td>\n",
              "      <td>6.2514</td>\n",
              "      <td>9.3484</td>\n",
              "      <td>7.8147</td>\n",
              "      <td>11.3449</td>\n",
              "      <td>12.8382</td>\n",
              "    </tr>\n",
              "    <tr>\n",
              "      <th>4</th>\n",
              "      <td>0.2070</td>\n",
              "      <td>0.2971</td>\n",
              "      <td>0.4844</td>\n",
              "      <td>0.7107</td>\n",
              "      <td>1.0636</td>\n",
              "      <td>1.9226</td>\n",
              "      <td>3.3567</td>\n",
              "      <td>5.3853</td>\n",
              "      <td>7.7794</td>\n",
              "      <td>11.1433</td>\n",
              "      <td>9.4877</td>\n",
              "      <td>13.2767</td>\n",
              "      <td>14.8603</td>\n",
              "    </tr>\n",
              "    <tr>\n",
              "      <th>5</th>\n",
              "      <td>0.4117</td>\n",
              "      <td>0.5543</td>\n",
              "      <td>0.8312</td>\n",
              "      <td>1.1455</td>\n",
              "      <td>1.6103</td>\n",
              "      <td>2.6746</td>\n",
              "      <td>4.3515</td>\n",
              "      <td>6.6257</td>\n",
              "      <td>9.2364</td>\n",
              "      <td>12.8325</td>\n",
              "      <td>11.0705</td>\n",
              "      <td>15.0863</td>\n",
              "      <td>16.7496</td>\n",
              "    </tr>\n",
              "    <tr>\n",
              "      <th>6</th>\n",
              "      <td>0.6757</td>\n",
              "      <td>0.8721</td>\n",
              "      <td>1.2373</td>\n",
              "      <td>1.6354</td>\n",
              "      <td>2.2041</td>\n",
              "      <td>3.4546</td>\n",
              "      <td>5.3481</td>\n",
              "      <td>7.8408</td>\n",
              "      <td>10.6446</td>\n",
              "      <td>14.4494</td>\n",
              "      <td>12.5916</td>\n",
              "      <td>16.8119</td>\n",
              "      <td>18.5476</td>\n",
              "    </tr>\n",
              "    <tr>\n",
              "      <th>7</th>\n",
              "      <td>0.9893</td>\n",
              "      <td>1.2390</td>\n",
              "      <td>1.6899</td>\n",
              "      <td>2.1673</td>\n",
              "      <td>2.8331</td>\n",
              "      <td>4.2549</td>\n",
              "      <td>6.3458</td>\n",
              "      <td>9.0371</td>\n",
              "      <td>12.0170</td>\n",
              "      <td>16.0128</td>\n",
              "      <td>14.0671</td>\n",
              "      <td>18.4753</td>\n",
              "      <td>20.2777</td>\n",
              "    </tr>\n",
              "    <tr>\n",
              "      <th>8</th>\n",
              "      <td>1.3444</td>\n",
              "      <td>1.6465</td>\n",
              "      <td>2.1797</td>\n",
              "      <td>2.7326</td>\n",
              "      <td>3.4895</td>\n",
              "      <td>5.0706</td>\n",
              "      <td>7.3441</td>\n",
              "      <td>10.2189</td>\n",
              "      <td>13.3616</td>\n",
              "      <td>17.5345</td>\n",
              "      <td>15.5073</td>\n",
              "      <td>20.0902</td>\n",
              "      <td>21.9550</td>\n",
              "    </tr>\n",
              "    <tr>\n",
              "      <th>9</th>\n",
              "      <td>1.7349</td>\n",
              "      <td>2.0879</td>\n",
              "      <td>2.7004</td>\n",
              "      <td>3.3251</td>\n",
              "      <td>4.1682</td>\n",
              "      <td>5.8988</td>\n",
              "      <td>8.3428</td>\n",
              "      <td>11.3888</td>\n",
              "      <td>14.6837</td>\n",
              "      <td>19.0228</td>\n",
              "      <td>16.9190</td>\n",
              "      <td>21.6660</td>\n",
              "      <td>23.5894</td>\n",
              "    </tr>\n",
              "    <tr>\n",
              "      <th>10</th>\n",
              "      <td>2.1559</td>\n",
              "      <td>2.5582</td>\n",
              "      <td>3.2470</td>\n",
              "      <td>3.9403</td>\n",
              "      <td>4.8652</td>\n",
              "      <td>6.7372</td>\n",
              "      <td>9.3418</td>\n",
              "      <td>12.5489</td>\n",
              "      <td>15.9872</td>\n",
              "      <td>20.4832</td>\n",
              "      <td>18.3070</td>\n",
              "      <td>23.2093</td>\n",
              "      <td>25.1882</td>\n",
              "    </tr>\n",
              "    <tr>\n",
              "      <th>11</th>\n",
              "      <td>2.6032</td>\n",
              "      <td>3.0535</td>\n",
              "      <td>3.8157</td>\n",
              "      <td>4.5748</td>\n",
              "      <td>5.5778</td>\n",
              "      <td>7.5841</td>\n",
              "      <td>10.3410</td>\n",
              "      <td>13.7007</td>\n",
              "      <td>17.2750</td>\n",
              "      <td>21.9200</td>\n",
              "      <td>19.6751</td>\n",
              "      <td>24.7250</td>\n",
              "      <td>26.7568</td>\n",
              "    </tr>\n",
              "    <tr>\n",
              "      <th>12</th>\n",
              "      <td>3.0738</td>\n",
              "      <td>3.5706</td>\n",
              "      <td>4.4038</td>\n",
              "      <td>5.2260</td>\n",
              "      <td>6.3038</td>\n",
              "      <td>8.4384</td>\n",
              "      <td>11.3403</td>\n",
              "      <td>14.8454</td>\n",
              "      <td>18.5493</td>\n",
              "      <td>23.3367</td>\n",
              "      <td>21.0261</td>\n",
              "      <td>26.2170</td>\n",
              "      <td>28.2995</td>\n",
              "    </tr>\n",
              "    <tr>\n",
              "      <th>13</th>\n",
              "      <td>3.5650</td>\n",
              "      <td>4.1069</td>\n",
              "      <td>5.0088</td>\n",
              "      <td>5.8919</td>\n",
              "      <td>7.0415</td>\n",
              "      <td>9.2991</td>\n",
              "      <td>12.3398</td>\n",
              "      <td>15.9839</td>\n",
              "      <td>19.8119</td>\n",
              "      <td>24.7356</td>\n",
              "      <td>22.3620</td>\n",
              "      <td>27.6882</td>\n",
              "      <td>29.8195</td>\n",
              "    </tr>\n",
              "    <tr>\n",
              "      <th>14</th>\n",
              "      <td>4.0747</td>\n",
              "      <td>4.6604</td>\n",
              "      <td>5.6287</td>\n",
              "      <td>6.5706</td>\n",
              "      <td>7.7895</td>\n",
              "      <td>10.1653</td>\n",
              "      <td>13.3393</td>\n",
              "      <td>17.1169</td>\n",
              "      <td>21.0641</td>\n",
              "      <td>26.1189</td>\n",
              "      <td>23.6848</td>\n",
              "      <td>29.1412</td>\n",
              "      <td>31.3193</td>\n",
              "    </tr>\n",
              "    <tr>\n",
              "      <th>15</th>\n",
              "      <td>4.6009</td>\n",
              "      <td>5.2293</td>\n",
              "      <td>6.2621</td>\n",
              "      <td>7.2609</td>\n",
              "      <td>8.5468</td>\n",
              "      <td>11.0365</td>\n",
              "      <td>14.3389</td>\n",
              "      <td>18.2451</td>\n",
              "      <td>22.3071</td>\n",
              "      <td>27.4884</td>\n",
              "      <td>24.9958</td>\n",
              "      <td>30.5779</td>\n",
              "      <td>32.8013</td>\n",
              "    </tr>\n",
              "    <tr>\n",
              "      <th>16</th>\n",
              "      <td>5.1422</td>\n",
              "      <td>5.8122</td>\n",
              "      <td>6.9077</td>\n",
              "      <td>7.9616</td>\n",
              "      <td>9.3122</td>\n",
              "      <td>11.9122</td>\n",
              "      <td>15.3385</td>\n",
              "      <td>19.3689</td>\n",
              "      <td>23.5418</td>\n",
              "      <td>28.8454</td>\n",
              "      <td>26.2962</td>\n",
              "      <td>31.9999</td>\n",
              "      <td>34.2672</td>\n",
              "    </tr>\n",
              "    <tr>\n",
              "      <th>17</th>\n",
              "      <td>5.6972</td>\n",
              "      <td>6.4078</td>\n",
              "      <td>7.5642</td>\n",
              "      <td>8.6718</td>\n",
              "      <td>10.0852</td>\n",
              "      <td>12.7919</td>\n",
              "      <td>16.3382</td>\n",
              "      <td>20.4887</td>\n",
              "      <td>24.7690</td>\n",
              "      <td>30.1910</td>\n",
              "      <td>27.5871</td>\n",
              "      <td>33.4087</td>\n",
              "      <td>35.7185</td>\n",
              "    </tr>\n",
              "    <tr>\n",
              "      <th>18</th>\n",
              "      <td>6.2648</td>\n",
              "      <td>7.0149</td>\n",
              "      <td>8.2307</td>\n",
              "      <td>9.3905</td>\n",
              "      <td>10.8649</td>\n",
              "      <td>13.6753</td>\n",
              "      <td>17.3379</td>\n",
              "      <td>21.6049</td>\n",
              "      <td>25.9894</td>\n",
              "      <td>31.5264</td>\n",
              "      <td>28.8693</td>\n",
              "      <td>34.8053</td>\n",
              "      <td>37.1565</td>\n",
              "    </tr>\n",
              "    <tr>\n",
              "      <th>19</th>\n",
              "      <td>6.8440</td>\n",
              "      <td>7.6327</td>\n",
              "      <td>8.9065</td>\n",
              "      <td>10.1170</td>\n",
              "      <td>11.6509</td>\n",
              "      <td>14.5620</td>\n",
              "      <td>18.3377</td>\n",
              "      <td>22.7178</td>\n",
              "      <td>27.2036</td>\n",
              "      <td>32.8523</td>\n",
              "      <td>30.1435</td>\n",
              "      <td>36.1909</td>\n",
              "      <td>38.5823</td>\n",
              "    </tr>\n",
              "    <tr>\n",
              "      <th>20</th>\n",
              "      <td>7.4338</td>\n",
              "      <td>8.2604</td>\n",
              "      <td>9.5908</td>\n",
              "      <td>10.8508</td>\n",
              "      <td>12.4426</td>\n",
              "      <td>15.4518</td>\n",
              "      <td>19.3374</td>\n",
              "      <td>23.8277</td>\n",
              "      <td>28.4120</td>\n",
              "      <td>34.1696</td>\n",
              "      <td>31.4104</td>\n",
              "      <td>37.5662</td>\n",
              "      <td>39.9968</td>\n",
              "    </tr>\n",
              "    <tr>\n",
              "      <th>21</th>\n",
              "      <td>8.0337</td>\n",
              "      <td>8.8972</td>\n",
              "      <td>10.2829</td>\n",
              "      <td>11.5913</td>\n",
              "      <td>13.2396</td>\n",
              "      <td>16.3444</td>\n",
              "      <td>20.3372</td>\n",
              "      <td>24.9348</td>\n",
              "      <td>29.6151</td>\n",
              "      <td>35.4789</td>\n",
              "      <td>32.6706</td>\n",
              "      <td>38.9322</td>\n",
              "      <td>41.4011</td>\n",
              "    </tr>\n",
              "    <tr>\n",
              "      <th>22</th>\n",
              "      <td>8.6427</td>\n",
              "      <td>9.5425</td>\n",
              "      <td>10.9823</td>\n",
              "      <td>12.3380</td>\n",
              "      <td>14.0415</td>\n",
              "      <td>17.2396</td>\n",
              "      <td>21.3370</td>\n",
              "      <td>26.0393</td>\n",
              "      <td>30.8133</td>\n",
              "      <td>36.7807</td>\n",
              "      <td>33.9244</td>\n",
              "      <td>40.2894</td>\n",
              "      <td>42.7957</td>\n",
              "    </tr>\n",
              "    <tr>\n",
              "      <th>23</th>\n",
              "      <td>9.2604</td>\n",
              "      <td>10.1957</td>\n",
              "      <td>11.6886</td>\n",
              "      <td>13.0905</td>\n",
              "      <td>14.8480</td>\n",
              "      <td>18.1373</td>\n",
              "      <td>22.3369</td>\n",
              "      <td>27.1413</td>\n",
              "      <td>32.0069</td>\n",
              "      <td>38.0756</td>\n",
              "      <td>35.1725</td>\n",
              "      <td>41.6384</td>\n",
              "      <td>44.1813</td>\n",
              "    </tr>\n",
              "    <tr>\n",
              "      <th>24</th>\n",
              "      <td>9.8862</td>\n",
              "      <td>10.8564</td>\n",
              "      <td>12.4012</td>\n",
              "      <td>13.8484</td>\n",
              "      <td>15.6587</td>\n",
              "      <td>19.0373</td>\n",
              "      <td>23.3367</td>\n",
              "      <td>28.2412</td>\n",
              "      <td>33.1962</td>\n",
              "      <td>39.3641</td>\n",
              "      <td>36.4150</td>\n",
              "      <td>42.9798</td>\n",
              "      <td>45.5585</td>\n",
              "    </tr>\n",
              "    <tr>\n",
              "      <th>25</th>\n",
              "      <td>10.5197</td>\n",
              "      <td>11.5240</td>\n",
              "      <td>13.1197</td>\n",
              "      <td>14.6114</td>\n",
              "      <td>16.4734</td>\n",
              "      <td>19.9393</td>\n",
              "      <td>24.3366</td>\n",
              "      <td>29.3389</td>\n",
              "      <td>34.3816</td>\n",
              "      <td>40.6465</td>\n",
              "      <td>37.6525</td>\n",
              "      <td>44.3141</td>\n",
              "      <td>46.9279</td>\n",
              "    </tr>\n",
              "    <tr>\n",
              "      <th>26</th>\n",
              "      <td>11.1602</td>\n",
              "      <td>12.1981</td>\n",
              "      <td>13.8439</td>\n",
              "      <td>15.3792</td>\n",
              "      <td>17.2919</td>\n",
              "      <td>20.8434</td>\n",
              "      <td>25.3365</td>\n",
              "      <td>30.4346</td>\n",
              "      <td>35.5632</td>\n",
              "      <td>41.9232</td>\n",
              "      <td>38.8851</td>\n",
              "      <td>45.6417</td>\n",
              "      <td>48.2899</td>\n",
              "    </tr>\n",
              "    <tr>\n",
              "      <th>27</th>\n",
              "      <td>11.8076</td>\n",
              "      <td>12.8785</td>\n",
              "      <td>14.5734</td>\n",
              "      <td>16.1514</td>\n",
              "      <td>18.1139</td>\n",
              "      <td>21.7494</td>\n",
              "      <td>26.3363</td>\n",
              "      <td>31.5284</td>\n",
              "      <td>36.7412</td>\n",
              "      <td>43.1945</td>\n",
              "      <td>40.1133</td>\n",
              "      <td>46.9629</td>\n",
              "      <td>49.6449</td>\n",
              "    </tr>\n",
              "    <tr>\n",
              "      <th>28</th>\n",
              "      <td>12.4613</td>\n",
              "      <td>13.5647</td>\n",
              "      <td>15.3079</td>\n",
              "      <td>16.9279</td>\n",
              "      <td>18.9392</td>\n",
              "      <td>22.6572</td>\n",
              "      <td>27.3362</td>\n",
              "      <td>32.6205</td>\n",
              "      <td>37.9159</td>\n",
              "      <td>44.4608</td>\n",
              "      <td>41.3371</td>\n",
              "      <td>48.2782</td>\n",
              "      <td>50.9934</td>\n",
              "    </tr>\n",
              "    <tr>\n",
              "      <th>29</th>\n",
              "      <td>13.1211</td>\n",
              "      <td>14.2565</td>\n",
              "      <td>16.0471</td>\n",
              "      <td>17.7084</td>\n",
              "      <td>19.7677</td>\n",
              "      <td>23.5666</td>\n",
              "      <td>28.3361</td>\n",
              "      <td>33.7109</td>\n",
              "      <td>39.0875</td>\n",
              "      <td>45.7223</td>\n",
              "      <td>42.5570</td>\n",
              "      <td>49.5879</td>\n",
              "      <td>52.3356</td>\n",
              "    </tr>\n",
              "    <tr>\n",
              "      <th>30</th>\n",
              "      <td>13.7867</td>\n",
              "      <td>14.9535</td>\n",
              "      <td>16.7908</td>\n",
              "      <td>18.4927</td>\n",
              "      <td>20.5992</td>\n",
              "      <td>24.4776</td>\n",
              "      <td>29.3360</td>\n",
              "      <td>34.7997</td>\n",
              "      <td>40.2560</td>\n",
              "      <td>46.9792</td>\n",
              "      <td>43.7730</td>\n",
              "      <td>50.8922</td>\n",
              "      <td>53.6720</td>\n",
              "    </tr>\n",
              "  </tbody>\n",
              "</table>\n",
              "</div>\n",
              "      <button class=\"colab-df-convert\" onclick=\"convertToInteractive('df-5304aca3-1e6d-40e8-8327-d01dc14c933b')\"\n",
              "              title=\"Convert this dataframe to an interactive table.\"\n",
              "              style=\"display:none;\">\n",
              "        \n",
              "  <svg xmlns=\"http://www.w3.org/2000/svg\" height=\"24px\"viewBox=\"0 0 24 24\"\n",
              "       width=\"24px\">\n",
              "    <path d=\"M0 0h24v24H0V0z\" fill=\"none\"/>\n",
              "    <path d=\"M18.56 5.44l.94 2.06.94-2.06 2.06-.94-2.06-.94-.94-2.06-.94 2.06-2.06.94zm-11 1L8.5 8.5l.94-2.06 2.06-.94-2.06-.94L8.5 2.5l-.94 2.06-2.06.94zm10 10l.94 2.06.94-2.06 2.06-.94-2.06-.94-.94-2.06-.94 2.06-2.06.94z\"/><path d=\"M17.41 7.96l-1.37-1.37c-.4-.4-.92-.59-1.43-.59-.52 0-1.04.2-1.43.59L10.3 9.45l-7.72 7.72c-.78.78-.78 2.05 0 2.83L4 21.41c.39.39.9.59 1.41.59.51 0 1.02-.2 1.41-.59l7.78-7.78 2.81-2.81c.8-.78.8-2.07 0-2.86zM5.41 20L4 18.59l7.72-7.72 1.47 1.35L5.41 20z\"/>\n",
              "  </svg>\n",
              "      </button>\n",
              "      \n",
              "  <style>\n",
              "    .colab-df-container {\n",
              "      display:flex;\n",
              "      flex-wrap:wrap;\n",
              "      gap: 12px;\n",
              "    }\n",
              "\n",
              "    .colab-df-convert {\n",
              "      background-color: #E8F0FE;\n",
              "      border: none;\n",
              "      border-radius: 50%;\n",
              "      cursor: pointer;\n",
              "      display: none;\n",
              "      fill: #1967D2;\n",
              "      height: 32px;\n",
              "      padding: 0 0 0 0;\n",
              "      width: 32px;\n",
              "    }\n",
              "\n",
              "    .colab-df-convert:hover {\n",
              "      background-color: #E2EBFA;\n",
              "      box-shadow: 0px 1px 2px rgba(60, 64, 67, 0.3), 0px 1px 3px 1px rgba(60, 64, 67, 0.15);\n",
              "      fill: #174EA6;\n",
              "    }\n",
              "\n",
              "    [theme=dark] .colab-df-convert {\n",
              "      background-color: #3B4455;\n",
              "      fill: #D2E3FC;\n",
              "    }\n",
              "\n",
              "    [theme=dark] .colab-df-convert:hover {\n",
              "      background-color: #434B5C;\n",
              "      box-shadow: 0px 1px 3px 1px rgba(0, 0, 0, 0.15);\n",
              "      filter: drop-shadow(0px 1px 2px rgba(0, 0, 0, 0.3));\n",
              "      fill: #FFFFFF;\n",
              "    }\n",
              "  </style>\n",
              "\n",
              "      <script>\n",
              "        const buttonEl =\n",
              "          document.querySelector('#df-5304aca3-1e6d-40e8-8327-d01dc14c933b button.colab-df-convert');\n",
              "        buttonEl.style.display =\n",
              "          google.colab.kernel.accessAllowed ? 'block' : 'none';\n",
              "\n",
              "        async function convertToInteractive(key) {\n",
              "          const element = document.querySelector('#df-5304aca3-1e6d-40e8-8327-d01dc14c933b');\n",
              "          const dataTable =\n",
              "            await google.colab.kernel.invokeFunction('convertToInteractive',\n",
              "                                                     [key], {});\n",
              "          if (!dataTable) return;\n",
              "\n",
              "          const docLinkHtml = 'Like what you see? Visit the ' +\n",
              "            '<a target=\"_blank\" href=https://colab.research.google.com/notebooks/data_table.ipynb>data table notebook</a>'\n",
              "            + ' to learn more about interactive tables.';\n",
              "          element.innerHTML = '';\n",
              "          dataTable['output_type'] = 'display_data';\n",
              "          await google.colab.output.renderOutput(dataTable, element);\n",
              "          const docLink = document.createElement('div');\n",
              "          docLink.innerHTML = docLinkHtml;\n",
              "          element.appendChild(docLink);\n",
              "        }\n",
              "      </script>\n",
              "    </div>\n",
              "  </div>\n",
              "  "
            ]
          },
          "metadata": {},
          "execution_count": 287
        }
      ],
      "source": [
        "import pandas as pd\n",
        "from scipy.stats import chi\n",
        "\n",
        "tabela_t_chi_2 = pd.DataFrame(\n",
        "    [], \n",
        "    index=[i for i in range(1, 31)],\n",
        "    columns = [0.005, 0.01, 0.025, 0.05, 0.1, 0.25, 0.5, 0.75, 0.9, 0.975, 0.95, 0.99, 0.995]\n",
        ")\n",
        "\n",
        "for index in tabela_t_chi_2.index:\n",
        "    for column in tabela_t_chi_2.columns:\n",
        "        tabela_t_chi_2.loc[index, column] = \"{0:0.4f}\".format(chi.ppf(float(column), index)**2)\n",
        "\n",
        "tabela_t_chi_2.index.name='Graus de Liberdade'\n",
        "tabela_t_chi_2.rename_axis(['p'], axis=1, inplace = True)\n",
        "\n",
        "tabela_t_chi_2\n"
      ]
    },
    {
      "cell_type": "markdown",
      "metadata": {
        "id": "UkzhYAPDpsl_"
      },
      "source": [
        "<img src='https://caelum-online-public.s3.amazonaws.com/1229-estatistica-parte3/01/img016.png' width='250px'>\n",
        "\n",
        "Tabela com os valores de $\\chi_p^2$ em função dos graus de liberdade $(n - 1)$ e de $p = P(\\chi^2 \\leq \\chi_p^2)$"
      ]
    },
    {
      "cell_type": "markdown",
      "metadata": {
        "id": "cCPOqVFKpsl_"
      },
      "source": [
        "## <font color='red'>Problema</font>"
      ]
    },
    {
      "cell_type": "markdown",
      "metadata": {
        "id": "GTq1wpkbpsl_"
      },
      "source": [
        "Antes de cada partida do campeonato nacional de futebol, as moedas utilizadas pelos árbitros devem ser verificadas para se ter certeza de que não são viciadas, ou seja, que não tendam para determinado resultado. Para isso um teste simples deve ser realizado antes de cada partida. Este teste consiste em lançar a moeda do jogo **50 vezes** e contar as frequências de **CARAS** e **COROAS** obtidas. A tabela abaixo mostra o resultado obtido no experimento:\n",
        "\n",
        "||CARA|COROA|\n",
        "|-|-|-|\n",
        "|Observado|17|33|\n",
        "|Esperado|25|25|\n",
        "\n",
        "A um **nível de significância de 5%**, é possível afirmar que a moeda não é honesta, isto é, que a moeda apresenta uma probabilidade maior de cair com a face **CARA** voltada para cima?"
      ]
    },
    {
      "cell_type": "markdown",
      "metadata": {
        "id": "CSlCI1wUpsl_"
      },
      "source": [
        "---"
      ]
    },
    {
      "cell_type": "markdown",
      "metadata": {
        "id": "Op26YDWnpsmA"
      },
      "source": [
        "### Dados do problema"
      ]
    },
    {
      "cell_type": "code",
      "execution_count": null,
      "metadata": {
        "id": "p5iOqxk2psmA"
      },
      "outputs": [],
      "source": [
        "F_Observada = [17, 33]\n",
        "F_Esperada = [25, 25]\n",
        "significancia = 0.05\n",
        "confianca = 1 - significancia\n",
        "k = 2 # Numero de eventos possíveis\n",
        "graus_de_liberdade = k - 1"
      ]
    },
    {
      "cell_type": "markdown",
      "metadata": {
        "id": "w6A74pM-psmB"
      },
      "source": [
        "### **Passo 1** - formulação das hipóteses $H_0$ e $H_1$\n",
        "\n",
        "#### <font color='red'>Lembre-se, a hipótese nula sempre contém a alegação de igualdade</font>"
      ]
    },
    {
      "cell_type": "markdown",
      "metadata": {
        "id": "zA4AD5_8psmB"
      },
      "source": [
        "### $H_0: F_{CARA} = F_{COROA}$\n",
        "\n",
        "### $H_1: F_{CARA} \\neq F_{COROA}$"
      ]
    },
    {
      "cell_type": "markdown",
      "metadata": {
        "id": "rUtuw6_bpsmB"
      },
      "source": [
        "---"
      ]
    },
    {
      "cell_type": "markdown",
      "metadata": {
        "id": "Zi2oE6ZbpsmB"
      },
      "source": [
        "### **Passo 2** - fixação da significância do teste ($\\alpha$)"
      ]
    },
    {
      "cell_type": "markdown",
      "metadata": {
        "id": "cCL8Wyy7psmC"
      },
      "source": [
        "https://docs.scipy.org/doc/scipy/reference/generated/scipy.stats.chi.html"
      ]
    },
    {
      "cell_type": "code",
      "execution_count": null,
      "metadata": {
        "id": "5bF7GEd-psmD"
      },
      "outputs": [],
      "source": [
        "from scipy.stats import chi"
      ]
    },
    {
      "cell_type": "code",
      "execution_count": null,
      "metadata": {
        "id": "WRsJSXxGpsmE",
        "scrolled": true,
        "colab": {
          "base_uri": "https://localhost:8080/",
          "height": 175
        },
        "outputId": "6f5cf039-c9d2-492a-93a6-9f0645c63243"
      },
      "outputs": [
        {
          "output_type": "execute_result",
          "data": {
            "text/plain": [
              "p                    0.005   0.010   0.025   0.050   0.100   0.250   0.500  \\\n",
              "Graus de Liberdade                                                           \n",
              "1                   0.0000  0.0002  0.0010  0.0039  0.0158  0.1015  0.4549   \n",
              "2                   0.0100  0.0201  0.0506  0.1026  0.2107  0.5754  1.3863   \n",
              "3                   0.0717  0.1148  0.2158  0.3518  0.5844  1.2125  2.3660   \n",
              "\n",
              "p                    0.750   0.900   0.975   0.950    0.990    0.995  \n",
              "Graus de Liberdade                                                    \n",
              "1                   1.3233  2.7055  5.0239  3.8415   6.6349   7.8794  \n",
              "2                   2.7726  4.6052  7.3778  5.9915   9.2103  10.5966  \n",
              "3                   4.1083  6.2514  9.3484  7.8147  11.3449  12.8382  "
            ],
            "text/html": [
              "\n",
              "  <div id=\"df-5bb4a13c-9bad-432e-aa67-e12cd0719461\">\n",
              "    <div class=\"colab-df-container\">\n",
              "      <div>\n",
              "<style scoped>\n",
              "    .dataframe tbody tr th:only-of-type {\n",
              "        vertical-align: middle;\n",
              "    }\n",
              "\n",
              "    .dataframe tbody tr th {\n",
              "        vertical-align: top;\n",
              "    }\n",
              "\n",
              "    .dataframe thead th {\n",
              "        text-align: right;\n",
              "    }\n",
              "</style>\n",
              "<table border=\"1\" class=\"dataframe\">\n",
              "  <thead>\n",
              "    <tr style=\"text-align: right;\">\n",
              "      <th>p</th>\n",
              "      <th>0.005</th>\n",
              "      <th>0.010</th>\n",
              "      <th>0.025</th>\n",
              "      <th>0.050</th>\n",
              "      <th>0.100</th>\n",
              "      <th>0.250</th>\n",
              "      <th>0.500</th>\n",
              "      <th>0.750</th>\n",
              "      <th>0.900</th>\n",
              "      <th>0.975</th>\n",
              "      <th>0.950</th>\n",
              "      <th>0.990</th>\n",
              "      <th>0.995</th>\n",
              "    </tr>\n",
              "    <tr>\n",
              "      <th>Graus de Liberdade</th>\n",
              "      <th></th>\n",
              "      <th></th>\n",
              "      <th></th>\n",
              "      <th></th>\n",
              "      <th></th>\n",
              "      <th></th>\n",
              "      <th></th>\n",
              "      <th></th>\n",
              "      <th></th>\n",
              "      <th></th>\n",
              "      <th></th>\n",
              "      <th></th>\n",
              "      <th></th>\n",
              "    </tr>\n",
              "  </thead>\n",
              "  <tbody>\n",
              "    <tr>\n",
              "      <th>1</th>\n",
              "      <td>0.0000</td>\n",
              "      <td>0.0002</td>\n",
              "      <td>0.0010</td>\n",
              "      <td>0.0039</td>\n",
              "      <td>0.0158</td>\n",
              "      <td>0.1015</td>\n",
              "      <td>0.4549</td>\n",
              "      <td>1.3233</td>\n",
              "      <td>2.7055</td>\n",
              "      <td>5.0239</td>\n",
              "      <td>3.8415</td>\n",
              "      <td>6.6349</td>\n",
              "      <td>7.8794</td>\n",
              "    </tr>\n",
              "    <tr>\n",
              "      <th>2</th>\n",
              "      <td>0.0100</td>\n",
              "      <td>0.0201</td>\n",
              "      <td>0.0506</td>\n",
              "      <td>0.1026</td>\n",
              "      <td>0.2107</td>\n",
              "      <td>0.5754</td>\n",
              "      <td>1.3863</td>\n",
              "      <td>2.7726</td>\n",
              "      <td>4.6052</td>\n",
              "      <td>7.3778</td>\n",
              "      <td>5.9915</td>\n",
              "      <td>9.2103</td>\n",
              "      <td>10.5966</td>\n",
              "    </tr>\n",
              "    <tr>\n",
              "      <th>3</th>\n",
              "      <td>0.0717</td>\n",
              "      <td>0.1148</td>\n",
              "      <td>0.2158</td>\n",
              "      <td>0.3518</td>\n",
              "      <td>0.5844</td>\n",
              "      <td>1.2125</td>\n",
              "      <td>2.3660</td>\n",
              "      <td>4.1083</td>\n",
              "      <td>6.2514</td>\n",
              "      <td>9.3484</td>\n",
              "      <td>7.8147</td>\n",
              "      <td>11.3449</td>\n",
              "      <td>12.8382</td>\n",
              "    </tr>\n",
              "  </tbody>\n",
              "</table>\n",
              "</div>\n",
              "      <button class=\"colab-df-convert\" onclick=\"convertToInteractive('df-5bb4a13c-9bad-432e-aa67-e12cd0719461')\"\n",
              "              title=\"Convert this dataframe to an interactive table.\"\n",
              "              style=\"display:none;\">\n",
              "        \n",
              "  <svg xmlns=\"http://www.w3.org/2000/svg\" height=\"24px\"viewBox=\"0 0 24 24\"\n",
              "       width=\"24px\">\n",
              "    <path d=\"M0 0h24v24H0V0z\" fill=\"none\"/>\n",
              "    <path d=\"M18.56 5.44l.94 2.06.94-2.06 2.06-.94-2.06-.94-.94-2.06-.94 2.06-2.06.94zm-11 1L8.5 8.5l.94-2.06 2.06-.94-2.06-.94L8.5 2.5l-.94 2.06-2.06.94zm10 10l.94 2.06.94-2.06 2.06-.94-2.06-.94-.94-2.06-.94 2.06-2.06.94z\"/><path d=\"M17.41 7.96l-1.37-1.37c-.4-.4-.92-.59-1.43-.59-.52 0-1.04.2-1.43.59L10.3 9.45l-7.72 7.72c-.78.78-.78 2.05 0 2.83L4 21.41c.39.39.9.59 1.41.59.51 0 1.02-.2 1.41-.59l7.78-7.78 2.81-2.81c.8-.78.8-2.07 0-2.86zM5.41 20L4 18.59l7.72-7.72 1.47 1.35L5.41 20z\"/>\n",
              "  </svg>\n",
              "      </button>\n",
              "      \n",
              "  <style>\n",
              "    .colab-df-container {\n",
              "      display:flex;\n",
              "      flex-wrap:wrap;\n",
              "      gap: 12px;\n",
              "    }\n",
              "\n",
              "    .colab-df-convert {\n",
              "      background-color: #E8F0FE;\n",
              "      border: none;\n",
              "      border-radius: 50%;\n",
              "      cursor: pointer;\n",
              "      display: none;\n",
              "      fill: #1967D2;\n",
              "      height: 32px;\n",
              "      padding: 0 0 0 0;\n",
              "      width: 32px;\n",
              "    }\n",
              "\n",
              "    .colab-df-convert:hover {\n",
              "      background-color: #E2EBFA;\n",
              "      box-shadow: 0px 1px 2px rgba(60, 64, 67, 0.3), 0px 1px 3px 1px rgba(60, 64, 67, 0.15);\n",
              "      fill: #174EA6;\n",
              "    }\n",
              "\n",
              "    [theme=dark] .colab-df-convert {\n",
              "      background-color: #3B4455;\n",
              "      fill: #D2E3FC;\n",
              "    }\n",
              "\n",
              "    [theme=dark] .colab-df-convert:hover {\n",
              "      background-color: #434B5C;\n",
              "      box-shadow: 0px 1px 3px 1px rgba(0, 0, 0, 0.15);\n",
              "      filter: drop-shadow(0px 1px 2px rgba(0, 0, 0, 0.3));\n",
              "      fill: #FFFFFF;\n",
              "    }\n",
              "  </style>\n",
              "\n",
              "      <script>\n",
              "        const buttonEl =\n",
              "          document.querySelector('#df-5bb4a13c-9bad-432e-aa67-e12cd0719461 button.colab-df-convert');\n",
              "        buttonEl.style.display =\n",
              "          google.colab.kernel.accessAllowed ? 'block' : 'none';\n",
              "\n",
              "        async function convertToInteractive(key) {\n",
              "          const element = document.querySelector('#df-5bb4a13c-9bad-432e-aa67-e12cd0719461');\n",
              "          const dataTable =\n",
              "            await google.colab.kernel.invokeFunction('convertToInteractive',\n",
              "                                                     [key], {});\n",
              "          if (!dataTable) return;\n",
              "\n",
              "          const docLinkHtml = 'Like what you see? Visit the ' +\n",
              "            '<a target=\"_blank\" href=https://colab.research.google.com/notebooks/data_table.ipynb>data table notebook</a>'\n",
              "            + ' to learn more about interactive tables.';\n",
              "          element.innerHTML = '';\n",
              "          dataTable['output_type'] = 'display_data';\n",
              "          await google.colab.output.renderOutput(dataTable, element);\n",
              "          const docLink = document.createElement('div');\n",
              "          docLink.innerHTML = docLinkHtml;\n",
              "          element.appendChild(docLink);\n",
              "        }\n",
              "      </script>\n",
              "    </div>\n",
              "  </div>\n",
              "  "
            ]
          },
          "metadata": {},
          "execution_count": 290
        }
      ],
      "source": [
        "tabela_t_chi_2 [:3]"
      ]
    },
    {
      "cell_type": "markdown",
      "metadata": {
        "id": "0RRjHQm7psmF"
      },
      "source": [
        "### Obtendo $\\chi_{\\alpha}^2$"
      ]
    },
    {
      "cell_type": "code",
      "source": [
        "# Pela tabela:\n",
        "chi_2_alpha = 3.8415"
      ],
      "metadata": {
        "id": "Y1WICJY77_1T"
      },
      "execution_count": null,
      "outputs": []
    },
    {
      "cell_type": "code",
      "execution_count": null,
      "metadata": {
        "id": "6rXyih-lpsmH",
        "colab": {
          "base_uri": "https://localhost:8080/"
        },
        "outputId": "64d3807f-bf3a-43e6-83a5-fbbcb90db66c"
      },
      "outputs": [
        {
          "output_type": "execute_result",
          "data": {
            "text/plain": [
              "3.8414588206941245"
            ]
          },
          "metadata": {},
          "execution_count": 292
        }
      ],
      "source": [
        "# Pela biblioteca scipy.stats:\n",
        "chi_2_alpha = chi.ppf(confianca, graus_de_liberdade) ** 2 \n",
        "chi_2_alpha"
      ]
    },
    {
      "cell_type": "markdown",
      "metadata": {
        "id": "aHxm3ZCupsmJ"
      },
      "source": [
        "![Região de Aceitação](https://caelum-online-public.s3.amazonaws.com/1229-estatistica-parte3/01/img018.png)"
      ]
    },
    {
      "cell_type": "markdown",
      "metadata": {
        "id": "FxLr2OnDpsmJ"
      },
      "source": [
        "---"
      ]
    },
    {
      "cell_type": "markdown",
      "metadata": {
        "id": "JcUvBM5OpsmJ"
      },
      "source": [
        "### **Passo 3** - cálculo da estatística-teste e verificação desse valor com as áreas de aceitação e rejeição do teste\n",
        "\n",
        "# $$\\chi^2 = \\sum_{i=1}^{k}{\\frac{(F_{i}^{Obs} - F_{i}^{Esp})^2}{F_{i}^{Esp}}}$$\n",
        "\n",
        "Onde\n",
        "\n",
        "$F_{i}^{Obs}$ = frequência observada para o evento $i$\n",
        "\n",
        "$F_{i}^{Esp}$ = frequência esperada para o evento $i$\n",
        "\n",
        "$k$ = total de eventos possíveis"
      ]
    },
    {
      "cell_type": "code",
      "execution_count": null,
      "metadata": {
        "id": "2b32Y6HiuT-u",
        "colab": {
          "base_uri": "https://localhost:8080/"
        },
        "outputId": "744a3b43-2b5e-41e9-c79f-657633534500"
      },
      "outputs": [
        {
          "output_type": "execute_result",
          "data": {
            "text/plain": [
              "5.12"
            ]
          },
          "metadata": {},
          "execution_count": 293
        }
      ],
      "source": [
        "chi_2 = ((F_Observada[0] - F_Esperada[0]) ** 2 / F_Esperada[0]) + ((F_Observada[1] - F_Esperada[1])** 2 / F_Esperada[1])\n",
        "chi_2"
      ]
    },
    {
      "cell_type": "code",
      "execution_count": null,
      "metadata": {
        "id": "7eL97ts8psmJ",
        "colab": {
          "base_uri": "https://localhost:8080/"
        },
        "outputId": "552b826b-a6fc-4119-82c7-66650c1a5503"
      },
      "outputs": [
        {
          "output_type": "execute_result",
          "data": {
            "text/plain": [
              "5.12"
            ]
          },
          "metadata": {},
          "execution_count": 294
        }
      ],
      "source": [
        "chi_2 = 0\n",
        "for i in range(k):\n",
        "  chi_2 += (F_Observada[i] - F_Esperada[i]) ** 2 / F_Esperada[i]\n",
        "chi_2"
      ]
    },
    {
      "cell_type": "markdown",
      "metadata": {
        "id": "gdwiYn6ZpsmK"
      },
      "source": [
        ":![Estatística-Teste](https://caelum-online-public.s3.amazonaws.com/1229-estatistica-parte3/01/img019.png)"
      ]
    },
    {
      "cell_type": "markdown",
      "metadata": {
        "id": "7v6msKABpsmK"
      },
      "source": [
        "---"
      ]
    },
    {
      "cell_type": "markdown",
      "metadata": {
        "id": "PHLhbZ3IpsmK"
      },
      "source": [
        "### **Passo 4** - Aceitação ou rejeição da hipótese nula"
      ]
    },
    {
      "cell_type": "markdown",
      "metadata": {
        "id": "tiQ0gAMGpsmL"
      },
      "source": [
        "<img src='https://caelum-online-public.s3.amazonaws.com/1229-estatistica-parte3/01/img020.png' width=80%>"
      ]
    },
    {
      "cell_type": "markdown",
      "metadata": {
        "id": "lhFLib7-psmM"
      },
      "source": [
        "### <font color='red'>Critério do valor crítico</font>\n",
        "\n",
        "> ### Rejeitar $H_0$ se $\\chi_{teste}^2 > \\chi_{\\alpha}^2$"
      ]
    },
    {
      "cell_type": "code",
      "execution_count": null,
      "metadata": {
        "id": "HSOhw7E7psmM",
        "colab": {
          "base_uri": "https://localhost:8080/"
        },
        "outputId": "90124a88-6ffa-4634-a159-eccceabcc813"
      },
      "outputs": [
        {
          "output_type": "execute_result",
          "data": {
            "text/plain": [
              "True"
            ]
          },
          "metadata": {},
          "execution_count": 295
        }
      ],
      "source": [
        "chi_2 > chi_2_alpha"
      ]
    },
    {
      "cell_type": "markdown",
      "metadata": {
        "id": "hvHTGAOepsmN"
      },
      "source": [
        "### <font color='green'>Conclusão: Com um nível de confiança de 95% rejeitamos a hipótese nula ($H_0$) e concluímos que as frequências observadas e esperadas são discrepantes, ou seja, a moeda não é honesta e precisa ser substituída.</font>"
      ]
    },
    {
      "cell_type": "markdown",
      "source": [
        "**Sobre o teste não paramétrico Qui-quadrado**\n",
        "\n",
        "1) O teste não paramétrico do Qui-quadrado é também conhecido como teste de adequação do ajustamento\n",
        "\n",
        "2) O teste do Qui-quadrado testa a hipótese nula de não haver diferença entre as frequências observadas de um determinado evento e as frequências que são realmente esperadas para este evento"
      ],
      "metadata": {
        "id": "nXUcGS1VKeKX"
      }
    },
    {
      "cell_type": "markdown",
      "metadata": {
        "id": "VcqxUxnopsmN"
      },
      "source": [
        "### <font color='red'>Critério do valor $p$</font>\n",
        "\n",
        "> ### Rejeitar $H_0$ se o valor $p\\leq\\alpha$"
      ]
    },
    {
      "cell_type": "code",
      "execution_count": null,
      "metadata": {
        "id": "fP8w-6MZpsmO",
        "colab": {
          "base_uri": "https://localhost:8080/"
        },
        "outputId": "5adff807-e03b-4e60-cda5-13815b028467"
      },
      "outputs": [
        {
          "output_type": "execute_result",
          "data": {
            "text/plain": [
              "5.12"
            ]
          },
          "metadata": {},
          "execution_count": 296
        }
      ],
      "source": [
        "chi_2"
      ]
    },
    {
      "cell_type": "code",
      "execution_count": null,
      "metadata": {
        "id": "LWCqrM2rpsmP",
        "colab": {
          "base_uri": "https://localhost:8080/"
        },
        "outputId": "ddc1c5db-9984-47c0-f1f9-2bb9f628d213"
      },
      "outputs": [
        {
          "output_type": "execute_result",
          "data": {
            "text/plain": [
              "2.262741699796952"
            ]
          },
          "metadata": {},
          "execution_count": 297
        }
      ],
      "source": [
        "raiz_chi_2 = np.sqrt(chi_2)\n",
        "raiz_chi_2"
      ]
    },
    {
      "cell_type": "code",
      "execution_count": null,
      "metadata": {
        "id": "uFG6yszWpsmQ",
        "colab": {
          "base_uri": "https://localhost:8080/"
        },
        "outputId": "fb3fc98b-7d1d-4c45-e051-62b6c4f69f4d"
      },
      "outputs": [
        {
          "output_type": "execute_result",
          "data": {
            "text/plain": [
              "0.023651616655356"
            ]
          },
          "metadata": {},
          "execution_count": 298
        }
      ],
      "source": [
        "p_valor = chi.sf(raiz_chi_2, df = 1)\n",
        "p_valor"
      ]
    },
    {
      "cell_type": "markdown",
      "metadata": {
        "id": "WpvavOAVpsmR"
      },
      "source": [
        "https://docs.scipy.org/doc/scipy/reference/generated/scipy.stats.chisquare.html"
      ]
    },
    {
      "cell_type": "code",
      "execution_count": null,
      "metadata": {
        "id": "Jc1RkAn6psmR"
      },
      "outputs": [],
      "source": [
        "from scipy.stats import chisquare"
      ]
    },
    {
      "cell_type": "code",
      "execution_count": null,
      "metadata": {
        "id": "jjiIlObspsmR",
        "colab": {
          "base_uri": "https://localhost:8080/"
        },
        "outputId": "fc473045-ec24-4e80-ad7c-28428188a396"
      },
      "outputs": [
        {
          "output_type": "stream",
          "name": "stdout",
          "text": [
            "5.12\n",
            "0.023651616655356\n"
          ]
        }
      ],
      "source": [
        "chi_2, p_valor = chisquare(F_Observada, f_exp = F_Esperada)\n",
        "print(chi_2)\n",
        "print(p_valor)"
      ]
    },
    {
      "cell_type": "code",
      "execution_count": null,
      "metadata": {
        "id": "reKBubKWpsmT",
        "colab": {
          "base_uri": "https://localhost:8080/"
        },
        "outputId": "b3edca10-ea49-4b50-da67-7e58b43153bd"
      },
      "outputs": [
        {
          "output_type": "execute_result",
          "data": {
            "text/plain": [
              "True"
            ]
          },
          "metadata": {},
          "execution_count": 301
        }
      ],
      "source": [
        "p_valor <= significancia"
      ]
    },
    {
      "cell_type": "markdown",
      "source": [
        "# **Exercicio: Obtendo o p-valor para um teste de Qui-quadrado**\n",
        "\n",
        "A realização de um teste não paramétrico Qui-quadrado, com apenas 5 graus de liberdade, obteve-se a estatística de teste no valor de 7,45.\n",
        "\n",
        "Qual seria o p-valor para este teste?"
      ],
      "metadata": {
        "id": "G_6psBYsQIrD"
      }
    },
    {
      "cell_type": "code",
      "source": [
        "chi_2 = 7.45\n",
        "raiz_chi_2 = np.sqrt(7.45)"
      ],
      "metadata": {
        "id": "onuBZ0riQnUV"
      },
      "execution_count": null,
      "outputs": []
    },
    {
      "cell_type": "code",
      "source": [
        "p_valor = chi.sf(raiz_chi_2, df = 5)\n",
        "p_valor"
      ],
      "metadata": {
        "colab": {
          "base_uri": "https://localhost:8080/"
        },
        "id": "YIt7T-xUQIXO",
        "outputId": "3d540812-9c50-4236-d161-24712f4a2f0f"
      },
      "execution_count": null,
      "outputs": [
        {
          "output_type": "execute_result",
          "data": {
            "text/plain": [
              "0.18926579121171602"
            ]
          },
          "metadata": {},
          "execution_count": 303
        }
      ]
    },
    {
      "cell_type": "markdown",
      "metadata": {
        "id": "WlHU5fNNpsmU"
      },
      "source": [
        "---"
      ]
    },
    {
      "cell_type": "markdown",
      "metadata": {
        "id": "PUXdBJ9FpsmU"
      },
      "source": [
        "## <font color='red'>Problema</font>"
      ]
    },
    {
      "cell_type": "markdown",
      "metadata": {
        "id": "DXvJ2JnKpsmU"
      },
      "source": [
        "Um novo tratamento para acabar com o hábito de fumar está sendo empregado em um grupo de **35 pacientes** voluntários. De cada paciente testado foram obtidas as informações de quantidades de cigarros consumidos por dia antes e depois do término do tratamento. Assumindo um **nível de confiança de 95%** é possível concluir que, depois da aplicação do novo tratamento, houve uma mudança no hábito de fumar do grupo de pacientes testado?"
      ]
    },
    {
      "cell_type": "markdown",
      "metadata": {
        "id": "BqE_PN7IpsmU"
      },
      "source": [
        "## <font color=green>4.2 Teste Wilcoxon</font>\n",
        "### Comparação de duas populações - amostras dependentes\n",
        "***"
      ]
    },
    {
      "cell_type": "markdown",
      "metadata": {
        "id": "1MxFBYB-psmU"
      },
      "source": [
        "Empregado quando se deseja comparar duas amostras relacionadas, amostras emparelhadas. Pode ser aplicado quando se deseja testar a diferença de duas condições, isto é, quando um mesmo elemento é submetido a duas medidas."
      ]
    },
    {
      "cell_type": "markdown",
      "metadata": {
        "id": "3H67Y7P7psmV"
      },
      "source": [
        "### Dados do problema"
      ]
    },
    {
      "cell_type": "code",
      "execution_count": null,
      "metadata": {
        "id": "JBh5-HrnpsmV"
      },
      "outputs": [],
      "source": [
        "fumo = {\n",
        "    'Antes': [39, 25, 24, 50, 13, 52, 21, 29, 10, 22, 50, 15, 36, 39, 52, 48, 24, 15, 40, 41, 17, 12, 21, 49, 14, 55, 46, 22, 28, 23, 37, 17, 31, 49, 49],\n",
        "    'Depois': [16, 8, 12, 0, 14, 16, 13, 12, 19, 17, 17, 2, 15, 10, 20, 13, 0, 4, 16, 18, 16, 16, 9, 9, 18, 4, 17, 0, 11, 14, 0, 19, 2, 9, 6]\n",
        "}\n",
        "significancia = 0.05\n",
        "confianca = 1 - significancia\n",
        "n = 35\n"
      ]
    },
    {
      "cell_type": "code",
      "execution_count": null,
      "metadata": {
        "id": "AfEGWBp1psmW",
        "scrolled": true,
        "colab": {
          "base_uri": "https://localhost:8080/",
          "height": 206
        },
        "outputId": "c6d26aa5-5df2-49ca-b82a-f35c5fa0f331"
      },
      "outputs": [
        {
          "output_type": "execute_result",
          "data": {
            "text/plain": [
              "   Antes  Depois\n",
              "0     39      16\n",
              "1     25       8\n",
              "2     24      12\n",
              "3     50       0\n",
              "4     13      14"
            ],
            "text/html": [
              "\n",
              "  <div id=\"df-39adfe85-09e8-4559-81a9-4cf2d5c02513\">\n",
              "    <div class=\"colab-df-container\">\n",
              "      <div>\n",
              "<style scoped>\n",
              "    .dataframe tbody tr th:only-of-type {\n",
              "        vertical-align: middle;\n",
              "    }\n",
              "\n",
              "    .dataframe tbody tr th {\n",
              "        vertical-align: top;\n",
              "    }\n",
              "\n",
              "    .dataframe thead th {\n",
              "        text-align: right;\n",
              "    }\n",
              "</style>\n",
              "<table border=\"1\" class=\"dataframe\">\n",
              "  <thead>\n",
              "    <tr style=\"text-align: right;\">\n",
              "      <th></th>\n",
              "      <th>Antes</th>\n",
              "      <th>Depois</th>\n",
              "    </tr>\n",
              "  </thead>\n",
              "  <tbody>\n",
              "    <tr>\n",
              "      <th>0</th>\n",
              "      <td>39</td>\n",
              "      <td>16</td>\n",
              "    </tr>\n",
              "    <tr>\n",
              "      <th>1</th>\n",
              "      <td>25</td>\n",
              "      <td>8</td>\n",
              "    </tr>\n",
              "    <tr>\n",
              "      <th>2</th>\n",
              "      <td>24</td>\n",
              "      <td>12</td>\n",
              "    </tr>\n",
              "    <tr>\n",
              "      <th>3</th>\n",
              "      <td>50</td>\n",
              "      <td>0</td>\n",
              "    </tr>\n",
              "    <tr>\n",
              "      <th>4</th>\n",
              "      <td>13</td>\n",
              "      <td>14</td>\n",
              "    </tr>\n",
              "  </tbody>\n",
              "</table>\n",
              "</div>\n",
              "      <button class=\"colab-df-convert\" onclick=\"convertToInteractive('df-39adfe85-09e8-4559-81a9-4cf2d5c02513')\"\n",
              "              title=\"Convert this dataframe to an interactive table.\"\n",
              "              style=\"display:none;\">\n",
              "        \n",
              "  <svg xmlns=\"http://www.w3.org/2000/svg\" height=\"24px\"viewBox=\"0 0 24 24\"\n",
              "       width=\"24px\">\n",
              "    <path d=\"M0 0h24v24H0V0z\" fill=\"none\"/>\n",
              "    <path d=\"M18.56 5.44l.94 2.06.94-2.06 2.06-.94-2.06-.94-.94-2.06-.94 2.06-2.06.94zm-11 1L8.5 8.5l.94-2.06 2.06-.94-2.06-.94L8.5 2.5l-.94 2.06-2.06.94zm10 10l.94 2.06.94-2.06 2.06-.94-2.06-.94-.94-2.06-.94 2.06-2.06.94z\"/><path d=\"M17.41 7.96l-1.37-1.37c-.4-.4-.92-.59-1.43-.59-.52 0-1.04.2-1.43.59L10.3 9.45l-7.72 7.72c-.78.78-.78 2.05 0 2.83L4 21.41c.39.39.9.59 1.41.59.51 0 1.02-.2 1.41-.59l7.78-7.78 2.81-2.81c.8-.78.8-2.07 0-2.86zM5.41 20L4 18.59l7.72-7.72 1.47 1.35L5.41 20z\"/>\n",
              "  </svg>\n",
              "      </button>\n",
              "      \n",
              "  <style>\n",
              "    .colab-df-container {\n",
              "      display:flex;\n",
              "      flex-wrap:wrap;\n",
              "      gap: 12px;\n",
              "    }\n",
              "\n",
              "    .colab-df-convert {\n",
              "      background-color: #E8F0FE;\n",
              "      border: none;\n",
              "      border-radius: 50%;\n",
              "      cursor: pointer;\n",
              "      display: none;\n",
              "      fill: #1967D2;\n",
              "      height: 32px;\n",
              "      padding: 0 0 0 0;\n",
              "      width: 32px;\n",
              "    }\n",
              "\n",
              "    .colab-df-convert:hover {\n",
              "      background-color: #E2EBFA;\n",
              "      box-shadow: 0px 1px 2px rgba(60, 64, 67, 0.3), 0px 1px 3px 1px rgba(60, 64, 67, 0.15);\n",
              "      fill: #174EA6;\n",
              "    }\n",
              "\n",
              "    [theme=dark] .colab-df-convert {\n",
              "      background-color: #3B4455;\n",
              "      fill: #D2E3FC;\n",
              "    }\n",
              "\n",
              "    [theme=dark] .colab-df-convert:hover {\n",
              "      background-color: #434B5C;\n",
              "      box-shadow: 0px 1px 3px 1px rgba(0, 0, 0, 0.15);\n",
              "      filter: drop-shadow(0px 1px 2px rgba(0, 0, 0, 0.3));\n",
              "      fill: #FFFFFF;\n",
              "    }\n",
              "  </style>\n",
              "\n",
              "      <script>\n",
              "        const buttonEl =\n",
              "          document.querySelector('#df-39adfe85-09e8-4559-81a9-4cf2d5c02513 button.colab-df-convert');\n",
              "        buttonEl.style.display =\n",
              "          google.colab.kernel.accessAllowed ? 'block' : 'none';\n",
              "\n",
              "        async function convertToInteractive(key) {\n",
              "          const element = document.querySelector('#df-39adfe85-09e8-4559-81a9-4cf2d5c02513');\n",
              "          const dataTable =\n",
              "            await google.colab.kernel.invokeFunction('convertToInteractive',\n",
              "                                                     [key], {});\n",
              "          if (!dataTable) return;\n",
              "\n",
              "          const docLinkHtml = 'Like what you see? Visit the ' +\n",
              "            '<a target=\"_blank\" href=https://colab.research.google.com/notebooks/data_table.ipynb>data table notebook</a>'\n",
              "            + ' to learn more about interactive tables.';\n",
              "          element.innerHTML = '';\n",
              "          dataTable['output_type'] = 'display_data';\n",
              "          await google.colab.output.renderOutput(dataTable, element);\n",
              "          const docLink = document.createElement('div');\n",
              "          docLink.innerHTML = docLinkHtml;\n",
              "          element.appendChild(docLink);\n",
              "        }\n",
              "      </script>\n",
              "    </div>\n",
              "  </div>\n",
              "  "
            ]
          },
          "metadata": {},
          "execution_count": 305
        }
      ],
      "source": [
        "fumo = pd.DataFrame(fumo)\n",
        "fumo.head()"
      ]
    },
    {
      "cell_type": "code",
      "execution_count": null,
      "metadata": {
        "id": "oNQvLLR8psmX"
      },
      "outputs": [],
      "source": [
        "media_fumo_antes, media_fumo_depois = fumo.mean() "
      ]
    },
    {
      "cell_type": "code",
      "execution_count": null,
      "metadata": {
        "id": "wOgIYP0upsmZ",
        "colab": {
          "base_uri": "https://localhost:8080/"
        },
        "outputId": "fe86831f-68ec-47cb-bf47-318e2961744a"
      },
      "outputs": [
        {
          "output_type": "execute_result",
          "data": {
            "text/plain": [
              "31.857142857142858"
            ]
          },
          "metadata": {},
          "execution_count": 307
        }
      ],
      "source": [
        "media_fumo_antes"
      ]
    },
    {
      "cell_type": "code",
      "source": [
        "media_fumo_depois"
      ],
      "metadata": {
        "colab": {
          "base_uri": "https://localhost:8080/"
        },
        "id": "7_UC6kFRSiEN",
        "outputId": "7c376e26-34c7-4f38-8a91-5658d125ab4d"
      },
      "execution_count": null,
      "outputs": [
        {
          "output_type": "execute_result",
          "data": {
            "text/plain": [
              "11.2"
            ]
          },
          "metadata": {},
          "execution_count": 308
        }
      ]
    },
    {
      "cell_type": "markdown",
      "metadata": {
        "id": "gvnOmelVpsma"
      },
      "source": [
        "### **Passo 1** - formulação das hipóteses $H_0$ e $H_1$\n",
        "\n",
        "#### <font color='red'>Lembre-se, a hipótese nula sempre contém a alegação de igualdade</font>"
      ]
    },
    {
      "cell_type": "markdown",
      "metadata": {
        "id": "1AXOiD_epsma"
      },
      "source": [
        "### $H_0: \\mu_{antes} = \\mu_{depois}$\n",
        "\n",
        "### $H_1: \\mu_{antes} > \\mu_{depois}$"
      ]
    },
    {
      "cell_type": "markdown",
      "metadata": {
        "id": "degUD6b2psmb"
      },
      "source": [
        "---"
      ]
    },
    {
      "cell_type": "markdown",
      "metadata": {
        "id": "3jrV_c2Opsmb"
      },
      "source": [
        "### **Passo 2** - escolha da distribuição amostral adequada"
      ]
    },
    {
      "cell_type": "markdown",
      "metadata": {
        "id": "vF-9xAPzpsmc"
      },
      "source": [
        "### O tamanho da amostra é maior que 20?\n",
        "#### Resp.: Sim"
      ]
    },
    {
      "cell_type": "markdown",
      "metadata": {
        "id": "tvxXutrGpsmc"
      },
      "source": [
        "---"
      ]
    },
    {
      "cell_type": "markdown",
      "metadata": {
        "id": "aihd76Wkpsmc"
      },
      "source": [
        "### **Passo 3** - fixação da significância do teste ($\\alpha$)"
      ]
    },
    {
      "cell_type": "markdown",
      "metadata": {
        "id": "XF6AA8qLpsmc"
      },
      "source": [
        "### Obtendo $z_{\\alpha/2}$"
      ]
    },
    {
      "cell_type": "code",
      "execution_count": null,
      "metadata": {
        "id": "UsRrnCnXpsmd",
        "colab": {
          "base_uri": "https://localhost:8080/"
        },
        "outputId": "8c5a71bb-843e-4c00-ae98-112343b7fd99"
      },
      "outputs": [
        {
          "output_type": "execute_result",
          "data": {
            "text/plain": [
              "0.975"
            ]
          },
          "metadata": {},
          "execution_count": 309
        }
      ],
      "source": [
        "probabilidade = (0.5 + (confianca / 2))\n",
        "probabilidade"
      ]
    },
    {
      "cell_type": "code",
      "execution_count": null,
      "metadata": {
        "id": "PTmwCAq9psme",
        "colab": {
          "base_uri": "https://localhost:8080/"
        },
        "outputId": "d9ddb514-aab0-4b3a-bbb5-ba9f5d44170a"
      },
      "outputs": [
        {
          "output_type": "execute_result",
          "data": {
            "text/plain": [
              "1.959963984540054"
            ]
          },
          "metadata": {},
          "execution_count": 310
        }
      ],
      "source": [
        "z_alpha_2 = norm.ppf(probabilidade)\n",
        "z_alpha_2"
      ]
    },
    {
      "cell_type": "markdown",
      "metadata": {
        "id": "S2dqQHQJpsmf"
      },
      "source": [
        "\n",
        "![Região de Aceitação](https://caelum-online-public.s3.amazonaws.com/1229-estatistica-parte3/01/img006.png)"
      ]
    },
    {
      "cell_type": "markdown",
      "metadata": {
        "id": "z0iEZ685psmf"
      },
      "source": [
        "---"
      ]
    },
    {
      "cell_type": "markdown",
      "metadata": {
        "id": "zpYLf-dZpsmg"
      },
      "source": [
        "### **Passo 4** - cálculo da estatística-teste e verificação desse valor com as áreas de aceitação e rejeição do teste\n",
        "\n",
        "# $$Z = \\frac{T - \\mu_T}{\\sigma_T}$$\n",
        "\n",
        "Onde\n",
        "\n",
        "## $T$ = menor das somas de postos de mesmo sinal\n",
        "\n",
        "# $$\\mu_T = \\frac{n(n+1)}{4}$$\n",
        "# $$\\sigma_T = \\sqrt{\\frac{n(n + 1)(2n + 1)}{24}}$$"
      ]
    },
    {
      "cell_type": "markdown",
      "metadata": {
        "id": "ZTY9IuIIpsmg"
      },
      "source": [
        "### Construindo a tabela com os postos"
      ]
    },
    {
      "cell_type": "code",
      "execution_count": null,
      "metadata": {
        "id": "o0fp6m3iqIlu",
        "colab": {
          "base_uri": "https://localhost:8080/",
          "height": 1147
        },
        "outputId": "51701413-2834-4967-86a9-48f7624668c2"
      },
      "outputs": [
        {
          "output_type": "execute_result",
          "data": {
            "text/plain": [
              "    Antes  Depois\n",
              "0      39      16\n",
              "1      25       8\n",
              "2      24      12\n",
              "3      50       0\n",
              "4      13      14\n",
              "5      52      16\n",
              "6      21      13\n",
              "7      29      12\n",
              "8      10      19\n",
              "9      22      17\n",
              "10     50      17\n",
              "11     15       2\n",
              "12     36      15\n",
              "13     39      10\n",
              "14     52      20\n",
              "15     48      13\n",
              "16     24       0\n",
              "17     15       4\n",
              "18     40      16\n",
              "19     41      18\n",
              "20     17      16\n",
              "21     12      16\n",
              "22     21       9\n",
              "23     49       9\n",
              "24     14      18\n",
              "25     55       4\n",
              "26     46      17\n",
              "27     22       0\n",
              "28     28      11\n",
              "29     23      14\n",
              "30     37       0\n",
              "31     17      19\n",
              "32     31       2\n",
              "33     49       9\n",
              "34     49       6"
            ],
            "text/html": [
              "\n",
              "  <div id=\"df-6556eafb-68b6-47e5-9e8a-aab1e92acc5e\">\n",
              "    <div class=\"colab-df-container\">\n",
              "      <div>\n",
              "<style scoped>\n",
              "    .dataframe tbody tr th:only-of-type {\n",
              "        vertical-align: middle;\n",
              "    }\n",
              "\n",
              "    .dataframe tbody tr th {\n",
              "        vertical-align: top;\n",
              "    }\n",
              "\n",
              "    .dataframe thead th {\n",
              "        text-align: right;\n",
              "    }\n",
              "</style>\n",
              "<table border=\"1\" class=\"dataframe\">\n",
              "  <thead>\n",
              "    <tr style=\"text-align: right;\">\n",
              "      <th></th>\n",
              "      <th>Antes</th>\n",
              "      <th>Depois</th>\n",
              "    </tr>\n",
              "  </thead>\n",
              "  <tbody>\n",
              "    <tr>\n",
              "      <th>0</th>\n",
              "      <td>39</td>\n",
              "      <td>16</td>\n",
              "    </tr>\n",
              "    <tr>\n",
              "      <th>1</th>\n",
              "      <td>25</td>\n",
              "      <td>8</td>\n",
              "    </tr>\n",
              "    <tr>\n",
              "      <th>2</th>\n",
              "      <td>24</td>\n",
              "      <td>12</td>\n",
              "    </tr>\n",
              "    <tr>\n",
              "      <th>3</th>\n",
              "      <td>50</td>\n",
              "      <td>0</td>\n",
              "    </tr>\n",
              "    <tr>\n",
              "      <th>4</th>\n",
              "      <td>13</td>\n",
              "      <td>14</td>\n",
              "    </tr>\n",
              "    <tr>\n",
              "      <th>5</th>\n",
              "      <td>52</td>\n",
              "      <td>16</td>\n",
              "    </tr>\n",
              "    <tr>\n",
              "      <th>6</th>\n",
              "      <td>21</td>\n",
              "      <td>13</td>\n",
              "    </tr>\n",
              "    <tr>\n",
              "      <th>7</th>\n",
              "      <td>29</td>\n",
              "      <td>12</td>\n",
              "    </tr>\n",
              "    <tr>\n",
              "      <th>8</th>\n",
              "      <td>10</td>\n",
              "      <td>19</td>\n",
              "    </tr>\n",
              "    <tr>\n",
              "      <th>9</th>\n",
              "      <td>22</td>\n",
              "      <td>17</td>\n",
              "    </tr>\n",
              "    <tr>\n",
              "      <th>10</th>\n",
              "      <td>50</td>\n",
              "      <td>17</td>\n",
              "    </tr>\n",
              "    <tr>\n",
              "      <th>11</th>\n",
              "      <td>15</td>\n",
              "      <td>2</td>\n",
              "    </tr>\n",
              "    <tr>\n",
              "      <th>12</th>\n",
              "      <td>36</td>\n",
              "      <td>15</td>\n",
              "    </tr>\n",
              "    <tr>\n",
              "      <th>13</th>\n",
              "      <td>39</td>\n",
              "      <td>10</td>\n",
              "    </tr>\n",
              "    <tr>\n",
              "      <th>14</th>\n",
              "      <td>52</td>\n",
              "      <td>20</td>\n",
              "    </tr>\n",
              "    <tr>\n",
              "      <th>15</th>\n",
              "      <td>48</td>\n",
              "      <td>13</td>\n",
              "    </tr>\n",
              "    <tr>\n",
              "      <th>16</th>\n",
              "      <td>24</td>\n",
              "      <td>0</td>\n",
              "    </tr>\n",
              "    <tr>\n",
              "      <th>17</th>\n",
              "      <td>15</td>\n",
              "      <td>4</td>\n",
              "    </tr>\n",
              "    <tr>\n",
              "      <th>18</th>\n",
              "      <td>40</td>\n",
              "      <td>16</td>\n",
              "    </tr>\n",
              "    <tr>\n",
              "      <th>19</th>\n",
              "      <td>41</td>\n",
              "      <td>18</td>\n",
              "    </tr>\n",
              "    <tr>\n",
              "      <th>20</th>\n",
              "      <td>17</td>\n",
              "      <td>16</td>\n",
              "    </tr>\n",
              "    <tr>\n",
              "      <th>21</th>\n",
              "      <td>12</td>\n",
              "      <td>16</td>\n",
              "    </tr>\n",
              "    <tr>\n",
              "      <th>22</th>\n",
              "      <td>21</td>\n",
              "      <td>9</td>\n",
              "    </tr>\n",
              "    <tr>\n",
              "      <th>23</th>\n",
              "      <td>49</td>\n",
              "      <td>9</td>\n",
              "    </tr>\n",
              "    <tr>\n",
              "      <th>24</th>\n",
              "      <td>14</td>\n",
              "      <td>18</td>\n",
              "    </tr>\n",
              "    <tr>\n",
              "      <th>25</th>\n",
              "      <td>55</td>\n",
              "      <td>4</td>\n",
              "    </tr>\n",
              "    <tr>\n",
              "      <th>26</th>\n",
              "      <td>46</td>\n",
              "      <td>17</td>\n",
              "    </tr>\n",
              "    <tr>\n",
              "      <th>27</th>\n",
              "      <td>22</td>\n",
              "      <td>0</td>\n",
              "    </tr>\n",
              "    <tr>\n",
              "      <th>28</th>\n",
              "      <td>28</td>\n",
              "      <td>11</td>\n",
              "    </tr>\n",
              "    <tr>\n",
              "      <th>29</th>\n",
              "      <td>23</td>\n",
              "      <td>14</td>\n",
              "    </tr>\n",
              "    <tr>\n",
              "      <th>30</th>\n",
              "      <td>37</td>\n",
              "      <td>0</td>\n",
              "    </tr>\n",
              "    <tr>\n",
              "      <th>31</th>\n",
              "      <td>17</td>\n",
              "      <td>19</td>\n",
              "    </tr>\n",
              "    <tr>\n",
              "      <th>32</th>\n",
              "      <td>31</td>\n",
              "      <td>2</td>\n",
              "    </tr>\n",
              "    <tr>\n",
              "      <th>33</th>\n",
              "      <td>49</td>\n",
              "      <td>9</td>\n",
              "    </tr>\n",
              "    <tr>\n",
              "      <th>34</th>\n",
              "      <td>49</td>\n",
              "      <td>6</td>\n",
              "    </tr>\n",
              "  </tbody>\n",
              "</table>\n",
              "</div>\n",
              "      <button class=\"colab-df-convert\" onclick=\"convertToInteractive('df-6556eafb-68b6-47e5-9e8a-aab1e92acc5e')\"\n",
              "              title=\"Convert this dataframe to an interactive table.\"\n",
              "              style=\"display:none;\">\n",
              "        \n",
              "  <svg xmlns=\"http://www.w3.org/2000/svg\" height=\"24px\"viewBox=\"0 0 24 24\"\n",
              "       width=\"24px\">\n",
              "    <path d=\"M0 0h24v24H0V0z\" fill=\"none\"/>\n",
              "    <path d=\"M18.56 5.44l.94 2.06.94-2.06 2.06-.94-2.06-.94-.94-2.06-.94 2.06-2.06.94zm-11 1L8.5 8.5l.94-2.06 2.06-.94-2.06-.94L8.5 2.5l-.94 2.06-2.06.94zm10 10l.94 2.06.94-2.06 2.06-.94-2.06-.94-.94-2.06-.94 2.06-2.06.94z\"/><path d=\"M17.41 7.96l-1.37-1.37c-.4-.4-.92-.59-1.43-.59-.52 0-1.04.2-1.43.59L10.3 9.45l-7.72 7.72c-.78.78-.78 2.05 0 2.83L4 21.41c.39.39.9.59 1.41.59.51 0 1.02-.2 1.41-.59l7.78-7.78 2.81-2.81c.8-.78.8-2.07 0-2.86zM5.41 20L4 18.59l7.72-7.72 1.47 1.35L5.41 20z\"/>\n",
              "  </svg>\n",
              "      </button>\n",
              "      \n",
              "  <style>\n",
              "    .colab-df-container {\n",
              "      display:flex;\n",
              "      flex-wrap:wrap;\n",
              "      gap: 12px;\n",
              "    }\n",
              "\n",
              "    .colab-df-convert {\n",
              "      background-color: #E8F0FE;\n",
              "      border: none;\n",
              "      border-radius: 50%;\n",
              "      cursor: pointer;\n",
              "      display: none;\n",
              "      fill: #1967D2;\n",
              "      height: 32px;\n",
              "      padding: 0 0 0 0;\n",
              "      width: 32px;\n",
              "    }\n",
              "\n",
              "    .colab-df-convert:hover {\n",
              "      background-color: #E2EBFA;\n",
              "      box-shadow: 0px 1px 2px rgba(60, 64, 67, 0.3), 0px 1px 3px 1px rgba(60, 64, 67, 0.15);\n",
              "      fill: #174EA6;\n",
              "    }\n",
              "\n",
              "    [theme=dark] .colab-df-convert {\n",
              "      background-color: #3B4455;\n",
              "      fill: #D2E3FC;\n",
              "    }\n",
              "\n",
              "    [theme=dark] .colab-df-convert:hover {\n",
              "      background-color: #434B5C;\n",
              "      box-shadow: 0px 1px 3px 1px rgba(0, 0, 0, 0.15);\n",
              "      filter: drop-shadow(0px 1px 2px rgba(0, 0, 0, 0.3));\n",
              "      fill: #FFFFFF;\n",
              "    }\n",
              "  </style>\n",
              "\n",
              "      <script>\n",
              "        const buttonEl =\n",
              "          document.querySelector('#df-6556eafb-68b6-47e5-9e8a-aab1e92acc5e button.colab-df-convert');\n",
              "        buttonEl.style.display =\n",
              "          google.colab.kernel.accessAllowed ? 'block' : 'none';\n",
              "\n",
              "        async function convertToInteractive(key) {\n",
              "          const element = document.querySelector('#df-6556eafb-68b6-47e5-9e8a-aab1e92acc5e');\n",
              "          const dataTable =\n",
              "            await google.colab.kernel.invokeFunction('convertToInteractive',\n",
              "                                                     [key], {});\n",
              "          if (!dataTable) return;\n",
              "\n",
              "          const docLinkHtml = 'Like what you see? Visit the ' +\n",
              "            '<a target=\"_blank\" href=https://colab.research.google.com/notebooks/data_table.ipynb>data table notebook</a>'\n",
              "            + ' to learn more about interactive tables.';\n",
              "          element.innerHTML = '';\n",
              "          dataTable['output_type'] = 'display_data';\n",
              "          await google.colab.output.renderOutput(dataTable, element);\n",
              "          const docLink = document.createElement('div');\n",
              "          docLink.innerHTML = docLinkHtml;\n",
              "          element.appendChild(docLink);\n",
              "        }\n",
              "      </script>\n",
              "    </div>\n",
              "  </div>\n",
              "  "
            ]
          },
          "metadata": {},
          "execution_count": 311
        }
      ],
      "source": [
        "fumo"
      ]
    },
    {
      "cell_type": "code",
      "execution_count": null,
      "metadata": {
        "id": "T4KmZijZotWj",
        "colab": {
          "base_uri": "https://localhost:8080/",
          "height": 1147
        },
        "outputId": "de574de3-f868-4b29-b417-bf68495548a1"
      },
      "outputs": [
        {
          "output_type": "execute_result",
          "data": {
            "text/plain": [
              "    Antes  Depois  Dif\n",
              "0      39      16  -23\n",
              "1      25       8  -17\n",
              "2      24      12  -12\n",
              "3      50       0  -50\n",
              "4      13      14    1\n",
              "5      52      16  -36\n",
              "6      21      13   -8\n",
              "7      29      12  -17\n",
              "8      10      19    9\n",
              "9      22      17   -5\n",
              "10     50      17  -33\n",
              "11     15       2  -13\n",
              "12     36      15  -21\n",
              "13     39      10  -29\n",
              "14     52      20  -32\n",
              "15     48      13  -35\n",
              "16     24       0  -24\n",
              "17     15       4  -11\n",
              "18     40      16  -24\n",
              "19     41      18  -23\n",
              "20     17      16   -1\n",
              "21     12      16    4\n",
              "22     21       9  -12\n",
              "23     49       9  -40\n",
              "24     14      18    4\n",
              "25     55       4  -51\n",
              "26     46      17  -29\n",
              "27     22       0  -22\n",
              "28     28      11  -17\n",
              "29     23      14   -9\n",
              "30     37       0  -37\n",
              "31     17      19    2\n",
              "32     31       2  -29\n",
              "33     49       9  -40\n",
              "34     49       6  -43"
            ],
            "text/html": [
              "\n",
              "  <div id=\"df-4a411223-c079-40e3-b600-38b4374dfca5\">\n",
              "    <div class=\"colab-df-container\">\n",
              "      <div>\n",
              "<style scoped>\n",
              "    .dataframe tbody tr th:only-of-type {\n",
              "        vertical-align: middle;\n",
              "    }\n",
              "\n",
              "    .dataframe tbody tr th {\n",
              "        vertical-align: top;\n",
              "    }\n",
              "\n",
              "    .dataframe thead th {\n",
              "        text-align: right;\n",
              "    }\n",
              "</style>\n",
              "<table border=\"1\" class=\"dataframe\">\n",
              "  <thead>\n",
              "    <tr style=\"text-align: right;\">\n",
              "      <th></th>\n",
              "      <th>Antes</th>\n",
              "      <th>Depois</th>\n",
              "      <th>Dif</th>\n",
              "    </tr>\n",
              "  </thead>\n",
              "  <tbody>\n",
              "    <tr>\n",
              "      <th>0</th>\n",
              "      <td>39</td>\n",
              "      <td>16</td>\n",
              "      <td>-23</td>\n",
              "    </tr>\n",
              "    <tr>\n",
              "      <th>1</th>\n",
              "      <td>25</td>\n",
              "      <td>8</td>\n",
              "      <td>-17</td>\n",
              "    </tr>\n",
              "    <tr>\n",
              "      <th>2</th>\n",
              "      <td>24</td>\n",
              "      <td>12</td>\n",
              "      <td>-12</td>\n",
              "    </tr>\n",
              "    <tr>\n",
              "      <th>3</th>\n",
              "      <td>50</td>\n",
              "      <td>0</td>\n",
              "      <td>-50</td>\n",
              "    </tr>\n",
              "    <tr>\n",
              "      <th>4</th>\n",
              "      <td>13</td>\n",
              "      <td>14</td>\n",
              "      <td>1</td>\n",
              "    </tr>\n",
              "    <tr>\n",
              "      <th>5</th>\n",
              "      <td>52</td>\n",
              "      <td>16</td>\n",
              "      <td>-36</td>\n",
              "    </tr>\n",
              "    <tr>\n",
              "      <th>6</th>\n",
              "      <td>21</td>\n",
              "      <td>13</td>\n",
              "      <td>-8</td>\n",
              "    </tr>\n",
              "    <tr>\n",
              "      <th>7</th>\n",
              "      <td>29</td>\n",
              "      <td>12</td>\n",
              "      <td>-17</td>\n",
              "    </tr>\n",
              "    <tr>\n",
              "      <th>8</th>\n",
              "      <td>10</td>\n",
              "      <td>19</td>\n",
              "      <td>9</td>\n",
              "    </tr>\n",
              "    <tr>\n",
              "      <th>9</th>\n",
              "      <td>22</td>\n",
              "      <td>17</td>\n",
              "      <td>-5</td>\n",
              "    </tr>\n",
              "    <tr>\n",
              "      <th>10</th>\n",
              "      <td>50</td>\n",
              "      <td>17</td>\n",
              "      <td>-33</td>\n",
              "    </tr>\n",
              "    <tr>\n",
              "      <th>11</th>\n",
              "      <td>15</td>\n",
              "      <td>2</td>\n",
              "      <td>-13</td>\n",
              "    </tr>\n",
              "    <tr>\n",
              "      <th>12</th>\n",
              "      <td>36</td>\n",
              "      <td>15</td>\n",
              "      <td>-21</td>\n",
              "    </tr>\n",
              "    <tr>\n",
              "      <th>13</th>\n",
              "      <td>39</td>\n",
              "      <td>10</td>\n",
              "      <td>-29</td>\n",
              "    </tr>\n",
              "    <tr>\n",
              "      <th>14</th>\n",
              "      <td>52</td>\n",
              "      <td>20</td>\n",
              "      <td>-32</td>\n",
              "    </tr>\n",
              "    <tr>\n",
              "      <th>15</th>\n",
              "      <td>48</td>\n",
              "      <td>13</td>\n",
              "      <td>-35</td>\n",
              "    </tr>\n",
              "    <tr>\n",
              "      <th>16</th>\n",
              "      <td>24</td>\n",
              "      <td>0</td>\n",
              "      <td>-24</td>\n",
              "    </tr>\n",
              "    <tr>\n",
              "      <th>17</th>\n",
              "      <td>15</td>\n",
              "      <td>4</td>\n",
              "      <td>-11</td>\n",
              "    </tr>\n",
              "    <tr>\n",
              "      <th>18</th>\n",
              "      <td>40</td>\n",
              "      <td>16</td>\n",
              "      <td>-24</td>\n",
              "    </tr>\n",
              "    <tr>\n",
              "      <th>19</th>\n",
              "      <td>41</td>\n",
              "      <td>18</td>\n",
              "      <td>-23</td>\n",
              "    </tr>\n",
              "    <tr>\n",
              "      <th>20</th>\n",
              "      <td>17</td>\n",
              "      <td>16</td>\n",
              "      <td>-1</td>\n",
              "    </tr>\n",
              "    <tr>\n",
              "      <th>21</th>\n",
              "      <td>12</td>\n",
              "      <td>16</td>\n",
              "      <td>4</td>\n",
              "    </tr>\n",
              "    <tr>\n",
              "      <th>22</th>\n",
              "      <td>21</td>\n",
              "      <td>9</td>\n",
              "      <td>-12</td>\n",
              "    </tr>\n",
              "    <tr>\n",
              "      <th>23</th>\n",
              "      <td>49</td>\n",
              "      <td>9</td>\n",
              "      <td>-40</td>\n",
              "    </tr>\n",
              "    <tr>\n",
              "      <th>24</th>\n",
              "      <td>14</td>\n",
              "      <td>18</td>\n",
              "      <td>4</td>\n",
              "    </tr>\n",
              "    <tr>\n",
              "      <th>25</th>\n",
              "      <td>55</td>\n",
              "      <td>4</td>\n",
              "      <td>-51</td>\n",
              "    </tr>\n",
              "    <tr>\n",
              "      <th>26</th>\n",
              "      <td>46</td>\n",
              "      <td>17</td>\n",
              "      <td>-29</td>\n",
              "    </tr>\n",
              "    <tr>\n",
              "      <th>27</th>\n",
              "      <td>22</td>\n",
              "      <td>0</td>\n",
              "      <td>-22</td>\n",
              "    </tr>\n",
              "    <tr>\n",
              "      <th>28</th>\n",
              "      <td>28</td>\n",
              "      <td>11</td>\n",
              "      <td>-17</td>\n",
              "    </tr>\n",
              "    <tr>\n",
              "      <th>29</th>\n",
              "      <td>23</td>\n",
              "      <td>14</td>\n",
              "      <td>-9</td>\n",
              "    </tr>\n",
              "    <tr>\n",
              "      <th>30</th>\n",
              "      <td>37</td>\n",
              "      <td>0</td>\n",
              "      <td>-37</td>\n",
              "    </tr>\n",
              "    <tr>\n",
              "      <th>31</th>\n",
              "      <td>17</td>\n",
              "      <td>19</td>\n",
              "      <td>2</td>\n",
              "    </tr>\n",
              "    <tr>\n",
              "      <th>32</th>\n",
              "      <td>31</td>\n",
              "      <td>2</td>\n",
              "      <td>-29</td>\n",
              "    </tr>\n",
              "    <tr>\n",
              "      <th>33</th>\n",
              "      <td>49</td>\n",
              "      <td>9</td>\n",
              "      <td>-40</td>\n",
              "    </tr>\n",
              "    <tr>\n",
              "      <th>34</th>\n",
              "      <td>49</td>\n",
              "      <td>6</td>\n",
              "      <td>-43</td>\n",
              "    </tr>\n",
              "  </tbody>\n",
              "</table>\n",
              "</div>\n",
              "      <button class=\"colab-df-convert\" onclick=\"convertToInteractive('df-4a411223-c079-40e3-b600-38b4374dfca5')\"\n",
              "              title=\"Convert this dataframe to an interactive table.\"\n",
              "              style=\"display:none;\">\n",
              "        \n",
              "  <svg xmlns=\"http://www.w3.org/2000/svg\" height=\"24px\"viewBox=\"0 0 24 24\"\n",
              "       width=\"24px\">\n",
              "    <path d=\"M0 0h24v24H0V0z\" fill=\"none\"/>\n",
              "    <path d=\"M18.56 5.44l.94 2.06.94-2.06 2.06-.94-2.06-.94-.94-2.06-.94 2.06-2.06.94zm-11 1L8.5 8.5l.94-2.06 2.06-.94-2.06-.94L8.5 2.5l-.94 2.06-2.06.94zm10 10l.94 2.06.94-2.06 2.06-.94-2.06-.94-.94-2.06-.94 2.06-2.06.94z\"/><path d=\"M17.41 7.96l-1.37-1.37c-.4-.4-.92-.59-1.43-.59-.52 0-1.04.2-1.43.59L10.3 9.45l-7.72 7.72c-.78.78-.78 2.05 0 2.83L4 21.41c.39.39.9.59 1.41.59.51 0 1.02-.2 1.41-.59l7.78-7.78 2.81-2.81c.8-.78.8-2.07 0-2.86zM5.41 20L4 18.59l7.72-7.72 1.47 1.35L5.41 20z\"/>\n",
              "  </svg>\n",
              "      </button>\n",
              "      \n",
              "  <style>\n",
              "    .colab-df-container {\n",
              "      display:flex;\n",
              "      flex-wrap:wrap;\n",
              "      gap: 12px;\n",
              "    }\n",
              "\n",
              "    .colab-df-convert {\n",
              "      background-color: #E8F0FE;\n",
              "      border: none;\n",
              "      border-radius: 50%;\n",
              "      cursor: pointer;\n",
              "      display: none;\n",
              "      fill: #1967D2;\n",
              "      height: 32px;\n",
              "      padding: 0 0 0 0;\n",
              "      width: 32px;\n",
              "    }\n",
              "\n",
              "    .colab-df-convert:hover {\n",
              "      background-color: #E2EBFA;\n",
              "      box-shadow: 0px 1px 2px rgba(60, 64, 67, 0.3), 0px 1px 3px 1px rgba(60, 64, 67, 0.15);\n",
              "      fill: #174EA6;\n",
              "    }\n",
              "\n",
              "    [theme=dark] .colab-df-convert {\n",
              "      background-color: #3B4455;\n",
              "      fill: #D2E3FC;\n",
              "    }\n",
              "\n",
              "    [theme=dark] .colab-df-convert:hover {\n",
              "      background-color: #434B5C;\n",
              "      box-shadow: 0px 1px 3px 1px rgba(0, 0, 0, 0.15);\n",
              "      filter: drop-shadow(0px 1px 2px rgba(0, 0, 0, 0.3));\n",
              "      fill: #FFFFFF;\n",
              "    }\n",
              "  </style>\n",
              "\n",
              "      <script>\n",
              "        const buttonEl =\n",
              "          document.querySelector('#df-4a411223-c079-40e3-b600-38b4374dfca5 button.colab-df-convert');\n",
              "        buttonEl.style.display =\n",
              "          google.colab.kernel.accessAllowed ? 'block' : 'none';\n",
              "\n",
              "        async function convertToInteractive(key) {\n",
              "          const element = document.querySelector('#df-4a411223-c079-40e3-b600-38b4374dfca5');\n",
              "          const dataTable =\n",
              "            await google.colab.kernel.invokeFunction('convertToInteractive',\n",
              "                                                     [key], {});\n",
              "          if (!dataTable) return;\n",
              "\n",
              "          const docLinkHtml = 'Like what you see? Visit the ' +\n",
              "            '<a target=\"_blank\" href=https://colab.research.google.com/notebooks/data_table.ipynb>data table notebook</a>'\n",
              "            + ' to learn more about interactive tables.';\n",
              "          element.innerHTML = '';\n",
              "          dataTable['output_type'] = 'display_data';\n",
              "          await google.colab.output.renderOutput(dataTable, element);\n",
              "          const docLink = document.createElement('div');\n",
              "          docLink.innerHTML = docLinkHtml;\n",
              "          element.appendChild(docLink);\n",
              "        }\n",
              "      </script>\n",
              "    </div>\n",
              "  </div>\n",
              "  "
            ]
          },
          "metadata": {},
          "execution_count": 312
        }
      ],
      "source": [
        "fumo['Dif'] = fumo.Depois - fumo.Antes\n",
        "fumo"
      ]
    },
    {
      "cell_type": "code",
      "execution_count": null,
      "metadata": {
        "id": "c4fvYVrdotTL",
        "colab": {
          "base_uri": "https://localhost:8080/",
          "height": 1147
        },
        "outputId": "7a6b4072-5880-4677-e437-2d18f7473864"
      },
      "outputs": [
        {
          "output_type": "execute_result",
          "data": {
            "text/plain": [
              "    Antes  Depois  Dif  |Dif|\n",
              "0      39      16  -23     23\n",
              "1      25       8  -17     17\n",
              "2      24      12  -12     12\n",
              "3      50       0  -50     50\n",
              "4      13      14    1      1\n",
              "5      52      16  -36     36\n",
              "6      21      13   -8      8\n",
              "7      29      12  -17     17\n",
              "8      10      19    9      9\n",
              "9      22      17   -5      5\n",
              "10     50      17  -33     33\n",
              "11     15       2  -13     13\n",
              "12     36      15  -21     21\n",
              "13     39      10  -29     29\n",
              "14     52      20  -32     32\n",
              "15     48      13  -35     35\n",
              "16     24       0  -24     24\n",
              "17     15       4  -11     11\n",
              "18     40      16  -24     24\n",
              "19     41      18  -23     23\n",
              "20     17      16   -1      1\n",
              "21     12      16    4      4\n",
              "22     21       9  -12     12\n",
              "23     49       9  -40     40\n",
              "24     14      18    4      4\n",
              "25     55       4  -51     51\n",
              "26     46      17  -29     29\n",
              "27     22       0  -22     22\n",
              "28     28      11  -17     17\n",
              "29     23      14   -9      9\n",
              "30     37       0  -37     37\n",
              "31     17      19    2      2\n",
              "32     31       2  -29     29\n",
              "33     49       9  -40     40\n",
              "34     49       6  -43     43"
            ],
            "text/html": [
              "\n",
              "  <div id=\"df-aa838bef-68b1-408c-b490-c475aab99519\">\n",
              "    <div class=\"colab-df-container\">\n",
              "      <div>\n",
              "<style scoped>\n",
              "    .dataframe tbody tr th:only-of-type {\n",
              "        vertical-align: middle;\n",
              "    }\n",
              "\n",
              "    .dataframe tbody tr th {\n",
              "        vertical-align: top;\n",
              "    }\n",
              "\n",
              "    .dataframe thead th {\n",
              "        text-align: right;\n",
              "    }\n",
              "</style>\n",
              "<table border=\"1\" class=\"dataframe\">\n",
              "  <thead>\n",
              "    <tr style=\"text-align: right;\">\n",
              "      <th></th>\n",
              "      <th>Antes</th>\n",
              "      <th>Depois</th>\n",
              "      <th>Dif</th>\n",
              "      <th>|Dif|</th>\n",
              "    </tr>\n",
              "  </thead>\n",
              "  <tbody>\n",
              "    <tr>\n",
              "      <th>0</th>\n",
              "      <td>39</td>\n",
              "      <td>16</td>\n",
              "      <td>-23</td>\n",
              "      <td>23</td>\n",
              "    </tr>\n",
              "    <tr>\n",
              "      <th>1</th>\n",
              "      <td>25</td>\n",
              "      <td>8</td>\n",
              "      <td>-17</td>\n",
              "      <td>17</td>\n",
              "    </tr>\n",
              "    <tr>\n",
              "      <th>2</th>\n",
              "      <td>24</td>\n",
              "      <td>12</td>\n",
              "      <td>-12</td>\n",
              "      <td>12</td>\n",
              "    </tr>\n",
              "    <tr>\n",
              "      <th>3</th>\n",
              "      <td>50</td>\n",
              "      <td>0</td>\n",
              "      <td>-50</td>\n",
              "      <td>50</td>\n",
              "    </tr>\n",
              "    <tr>\n",
              "      <th>4</th>\n",
              "      <td>13</td>\n",
              "      <td>14</td>\n",
              "      <td>1</td>\n",
              "      <td>1</td>\n",
              "    </tr>\n",
              "    <tr>\n",
              "      <th>5</th>\n",
              "      <td>52</td>\n",
              "      <td>16</td>\n",
              "      <td>-36</td>\n",
              "      <td>36</td>\n",
              "    </tr>\n",
              "    <tr>\n",
              "      <th>6</th>\n",
              "      <td>21</td>\n",
              "      <td>13</td>\n",
              "      <td>-8</td>\n",
              "      <td>8</td>\n",
              "    </tr>\n",
              "    <tr>\n",
              "      <th>7</th>\n",
              "      <td>29</td>\n",
              "      <td>12</td>\n",
              "      <td>-17</td>\n",
              "      <td>17</td>\n",
              "    </tr>\n",
              "    <tr>\n",
              "      <th>8</th>\n",
              "      <td>10</td>\n",
              "      <td>19</td>\n",
              "      <td>9</td>\n",
              "      <td>9</td>\n",
              "    </tr>\n",
              "    <tr>\n",
              "      <th>9</th>\n",
              "      <td>22</td>\n",
              "      <td>17</td>\n",
              "      <td>-5</td>\n",
              "      <td>5</td>\n",
              "    </tr>\n",
              "    <tr>\n",
              "      <th>10</th>\n",
              "      <td>50</td>\n",
              "      <td>17</td>\n",
              "      <td>-33</td>\n",
              "      <td>33</td>\n",
              "    </tr>\n",
              "    <tr>\n",
              "      <th>11</th>\n",
              "      <td>15</td>\n",
              "      <td>2</td>\n",
              "      <td>-13</td>\n",
              "      <td>13</td>\n",
              "    </tr>\n",
              "    <tr>\n",
              "      <th>12</th>\n",
              "      <td>36</td>\n",
              "      <td>15</td>\n",
              "      <td>-21</td>\n",
              "      <td>21</td>\n",
              "    </tr>\n",
              "    <tr>\n",
              "      <th>13</th>\n",
              "      <td>39</td>\n",
              "      <td>10</td>\n",
              "      <td>-29</td>\n",
              "      <td>29</td>\n",
              "    </tr>\n",
              "    <tr>\n",
              "      <th>14</th>\n",
              "      <td>52</td>\n",
              "      <td>20</td>\n",
              "      <td>-32</td>\n",
              "      <td>32</td>\n",
              "    </tr>\n",
              "    <tr>\n",
              "      <th>15</th>\n",
              "      <td>48</td>\n",
              "      <td>13</td>\n",
              "      <td>-35</td>\n",
              "      <td>35</td>\n",
              "    </tr>\n",
              "    <tr>\n",
              "      <th>16</th>\n",
              "      <td>24</td>\n",
              "      <td>0</td>\n",
              "      <td>-24</td>\n",
              "      <td>24</td>\n",
              "    </tr>\n",
              "    <tr>\n",
              "      <th>17</th>\n",
              "      <td>15</td>\n",
              "      <td>4</td>\n",
              "      <td>-11</td>\n",
              "      <td>11</td>\n",
              "    </tr>\n",
              "    <tr>\n",
              "      <th>18</th>\n",
              "      <td>40</td>\n",
              "      <td>16</td>\n",
              "      <td>-24</td>\n",
              "      <td>24</td>\n",
              "    </tr>\n",
              "    <tr>\n",
              "      <th>19</th>\n",
              "      <td>41</td>\n",
              "      <td>18</td>\n",
              "      <td>-23</td>\n",
              "      <td>23</td>\n",
              "    </tr>\n",
              "    <tr>\n",
              "      <th>20</th>\n",
              "      <td>17</td>\n",
              "      <td>16</td>\n",
              "      <td>-1</td>\n",
              "      <td>1</td>\n",
              "    </tr>\n",
              "    <tr>\n",
              "      <th>21</th>\n",
              "      <td>12</td>\n",
              "      <td>16</td>\n",
              "      <td>4</td>\n",
              "      <td>4</td>\n",
              "    </tr>\n",
              "    <tr>\n",
              "      <th>22</th>\n",
              "      <td>21</td>\n",
              "      <td>9</td>\n",
              "      <td>-12</td>\n",
              "      <td>12</td>\n",
              "    </tr>\n",
              "    <tr>\n",
              "      <th>23</th>\n",
              "      <td>49</td>\n",
              "      <td>9</td>\n",
              "      <td>-40</td>\n",
              "      <td>40</td>\n",
              "    </tr>\n",
              "    <tr>\n",
              "      <th>24</th>\n",
              "      <td>14</td>\n",
              "      <td>18</td>\n",
              "      <td>4</td>\n",
              "      <td>4</td>\n",
              "    </tr>\n",
              "    <tr>\n",
              "      <th>25</th>\n",
              "      <td>55</td>\n",
              "      <td>4</td>\n",
              "      <td>-51</td>\n",
              "      <td>51</td>\n",
              "    </tr>\n",
              "    <tr>\n",
              "      <th>26</th>\n",
              "      <td>46</td>\n",
              "      <td>17</td>\n",
              "      <td>-29</td>\n",
              "      <td>29</td>\n",
              "    </tr>\n",
              "    <tr>\n",
              "      <th>27</th>\n",
              "      <td>22</td>\n",
              "      <td>0</td>\n",
              "      <td>-22</td>\n",
              "      <td>22</td>\n",
              "    </tr>\n",
              "    <tr>\n",
              "      <th>28</th>\n",
              "      <td>28</td>\n",
              "      <td>11</td>\n",
              "      <td>-17</td>\n",
              "      <td>17</td>\n",
              "    </tr>\n",
              "    <tr>\n",
              "      <th>29</th>\n",
              "      <td>23</td>\n",
              "      <td>14</td>\n",
              "      <td>-9</td>\n",
              "      <td>9</td>\n",
              "    </tr>\n",
              "    <tr>\n",
              "      <th>30</th>\n",
              "      <td>37</td>\n",
              "      <td>0</td>\n",
              "      <td>-37</td>\n",
              "      <td>37</td>\n",
              "    </tr>\n",
              "    <tr>\n",
              "      <th>31</th>\n",
              "      <td>17</td>\n",
              "      <td>19</td>\n",
              "      <td>2</td>\n",
              "      <td>2</td>\n",
              "    </tr>\n",
              "    <tr>\n",
              "      <th>32</th>\n",
              "      <td>31</td>\n",
              "      <td>2</td>\n",
              "      <td>-29</td>\n",
              "      <td>29</td>\n",
              "    </tr>\n",
              "    <tr>\n",
              "      <th>33</th>\n",
              "      <td>49</td>\n",
              "      <td>9</td>\n",
              "      <td>-40</td>\n",
              "      <td>40</td>\n",
              "    </tr>\n",
              "    <tr>\n",
              "      <th>34</th>\n",
              "      <td>49</td>\n",
              "      <td>6</td>\n",
              "      <td>-43</td>\n",
              "      <td>43</td>\n",
              "    </tr>\n",
              "  </tbody>\n",
              "</table>\n",
              "</div>\n",
              "      <button class=\"colab-df-convert\" onclick=\"convertToInteractive('df-aa838bef-68b1-408c-b490-c475aab99519')\"\n",
              "              title=\"Convert this dataframe to an interactive table.\"\n",
              "              style=\"display:none;\">\n",
              "        \n",
              "  <svg xmlns=\"http://www.w3.org/2000/svg\" height=\"24px\"viewBox=\"0 0 24 24\"\n",
              "       width=\"24px\">\n",
              "    <path d=\"M0 0h24v24H0V0z\" fill=\"none\"/>\n",
              "    <path d=\"M18.56 5.44l.94 2.06.94-2.06 2.06-.94-2.06-.94-.94-2.06-.94 2.06-2.06.94zm-11 1L8.5 8.5l.94-2.06 2.06-.94-2.06-.94L8.5 2.5l-.94 2.06-2.06.94zm10 10l.94 2.06.94-2.06 2.06-.94-2.06-.94-.94-2.06-.94 2.06-2.06.94z\"/><path d=\"M17.41 7.96l-1.37-1.37c-.4-.4-.92-.59-1.43-.59-.52 0-1.04.2-1.43.59L10.3 9.45l-7.72 7.72c-.78.78-.78 2.05 0 2.83L4 21.41c.39.39.9.59 1.41.59.51 0 1.02-.2 1.41-.59l7.78-7.78 2.81-2.81c.8-.78.8-2.07 0-2.86zM5.41 20L4 18.59l7.72-7.72 1.47 1.35L5.41 20z\"/>\n",
              "  </svg>\n",
              "      </button>\n",
              "      \n",
              "  <style>\n",
              "    .colab-df-container {\n",
              "      display:flex;\n",
              "      flex-wrap:wrap;\n",
              "      gap: 12px;\n",
              "    }\n",
              "\n",
              "    .colab-df-convert {\n",
              "      background-color: #E8F0FE;\n",
              "      border: none;\n",
              "      border-radius: 50%;\n",
              "      cursor: pointer;\n",
              "      display: none;\n",
              "      fill: #1967D2;\n",
              "      height: 32px;\n",
              "      padding: 0 0 0 0;\n",
              "      width: 32px;\n",
              "    }\n",
              "\n",
              "    .colab-df-convert:hover {\n",
              "      background-color: #E2EBFA;\n",
              "      box-shadow: 0px 1px 2px rgba(60, 64, 67, 0.3), 0px 1px 3px 1px rgba(60, 64, 67, 0.15);\n",
              "      fill: #174EA6;\n",
              "    }\n",
              "\n",
              "    [theme=dark] .colab-df-convert {\n",
              "      background-color: #3B4455;\n",
              "      fill: #D2E3FC;\n",
              "    }\n",
              "\n",
              "    [theme=dark] .colab-df-convert:hover {\n",
              "      background-color: #434B5C;\n",
              "      box-shadow: 0px 1px 3px 1px rgba(0, 0, 0, 0.15);\n",
              "      filter: drop-shadow(0px 1px 2px rgba(0, 0, 0, 0.3));\n",
              "      fill: #FFFFFF;\n",
              "    }\n",
              "  </style>\n",
              "\n",
              "      <script>\n",
              "        const buttonEl =\n",
              "          document.querySelector('#df-aa838bef-68b1-408c-b490-c475aab99519 button.colab-df-convert');\n",
              "        buttonEl.style.display =\n",
              "          google.colab.kernel.accessAllowed ? 'block' : 'none';\n",
              "\n",
              "        async function convertToInteractive(key) {\n",
              "          const element = document.querySelector('#df-aa838bef-68b1-408c-b490-c475aab99519');\n",
              "          const dataTable =\n",
              "            await google.colab.kernel.invokeFunction('convertToInteractive',\n",
              "                                                     [key], {});\n",
              "          if (!dataTable) return;\n",
              "\n",
              "          const docLinkHtml = 'Like what you see? Visit the ' +\n",
              "            '<a target=\"_blank\" href=https://colab.research.google.com/notebooks/data_table.ipynb>data table notebook</a>'\n",
              "            + ' to learn more about interactive tables.';\n",
              "          element.innerHTML = '';\n",
              "          dataTable['output_type'] = 'display_data';\n",
              "          await google.colab.output.renderOutput(dataTable, element);\n",
              "          const docLink = document.createElement('div');\n",
              "          docLink.innerHTML = docLinkHtml;\n",
              "          element.appendChild(docLink);\n",
              "        }\n",
              "      </script>\n",
              "    </div>\n",
              "  </div>\n",
              "  "
            ]
          },
          "metadata": {},
          "execution_count": 313
        }
      ],
      "source": [
        "fumo['|Dif|'] = fumo.Dif.abs()\n",
        "fumo"
      ]
    },
    {
      "cell_type": "code",
      "execution_count": null,
      "metadata": {
        "id": "hwqK3Uu7otP7",
        "colab": {
          "base_uri": "https://localhost:8080/",
          "height": 1147
        },
        "outputId": "7a8dbae3-b037-4219-806c-99ec91cb7476"
      },
      "outputs": [
        {
          "output_type": "execute_result",
          "data": {
            "text/plain": [
              "    Antes  Depois  Dif  |Dif|\n",
              "4      13      14    1      1\n",
              "20     17      16   -1      1\n",
              "31     17      19    2      2\n",
              "21     12      16    4      4\n",
              "24     14      18    4      4\n",
              "9      22      17   -5      5\n",
              "6      21      13   -8      8\n",
              "29     23      14   -9      9\n",
              "8      10      19    9      9\n",
              "17     15       4  -11     11\n",
              "2      24      12  -12     12\n",
              "22     21       9  -12     12\n",
              "11     15       2  -13     13\n",
              "28     28      11  -17     17\n",
              "1      25       8  -17     17\n",
              "7      29      12  -17     17\n",
              "12     36      15  -21     21\n",
              "27     22       0  -22     22\n",
              "19     41      18  -23     23\n",
              "0      39      16  -23     23\n",
              "16     24       0  -24     24\n",
              "18     40      16  -24     24\n",
              "26     46      17  -29     29\n",
              "13     39      10  -29     29\n",
              "32     31       2  -29     29\n",
              "14     52      20  -32     32\n",
              "10     50      17  -33     33\n",
              "15     48      13  -35     35\n",
              "5      52      16  -36     36\n",
              "30     37       0  -37     37\n",
              "33     49       9  -40     40\n",
              "23     49       9  -40     40\n",
              "34     49       6  -43     43\n",
              "3      50       0  -50     50\n",
              "25     55       4  -51     51"
            ],
            "text/html": [
              "\n",
              "  <div id=\"df-ba7aad74-4510-4dd3-92e9-d6f99740a8b0\">\n",
              "    <div class=\"colab-df-container\">\n",
              "      <div>\n",
              "<style scoped>\n",
              "    .dataframe tbody tr th:only-of-type {\n",
              "        vertical-align: middle;\n",
              "    }\n",
              "\n",
              "    .dataframe tbody tr th {\n",
              "        vertical-align: top;\n",
              "    }\n",
              "\n",
              "    .dataframe thead th {\n",
              "        text-align: right;\n",
              "    }\n",
              "</style>\n",
              "<table border=\"1\" class=\"dataframe\">\n",
              "  <thead>\n",
              "    <tr style=\"text-align: right;\">\n",
              "      <th></th>\n",
              "      <th>Antes</th>\n",
              "      <th>Depois</th>\n",
              "      <th>Dif</th>\n",
              "      <th>|Dif|</th>\n",
              "    </tr>\n",
              "  </thead>\n",
              "  <tbody>\n",
              "    <tr>\n",
              "      <th>4</th>\n",
              "      <td>13</td>\n",
              "      <td>14</td>\n",
              "      <td>1</td>\n",
              "      <td>1</td>\n",
              "    </tr>\n",
              "    <tr>\n",
              "      <th>20</th>\n",
              "      <td>17</td>\n",
              "      <td>16</td>\n",
              "      <td>-1</td>\n",
              "      <td>1</td>\n",
              "    </tr>\n",
              "    <tr>\n",
              "      <th>31</th>\n",
              "      <td>17</td>\n",
              "      <td>19</td>\n",
              "      <td>2</td>\n",
              "      <td>2</td>\n",
              "    </tr>\n",
              "    <tr>\n",
              "      <th>21</th>\n",
              "      <td>12</td>\n",
              "      <td>16</td>\n",
              "      <td>4</td>\n",
              "      <td>4</td>\n",
              "    </tr>\n",
              "    <tr>\n",
              "      <th>24</th>\n",
              "      <td>14</td>\n",
              "      <td>18</td>\n",
              "      <td>4</td>\n",
              "      <td>4</td>\n",
              "    </tr>\n",
              "    <tr>\n",
              "      <th>9</th>\n",
              "      <td>22</td>\n",
              "      <td>17</td>\n",
              "      <td>-5</td>\n",
              "      <td>5</td>\n",
              "    </tr>\n",
              "    <tr>\n",
              "      <th>6</th>\n",
              "      <td>21</td>\n",
              "      <td>13</td>\n",
              "      <td>-8</td>\n",
              "      <td>8</td>\n",
              "    </tr>\n",
              "    <tr>\n",
              "      <th>29</th>\n",
              "      <td>23</td>\n",
              "      <td>14</td>\n",
              "      <td>-9</td>\n",
              "      <td>9</td>\n",
              "    </tr>\n",
              "    <tr>\n",
              "      <th>8</th>\n",
              "      <td>10</td>\n",
              "      <td>19</td>\n",
              "      <td>9</td>\n",
              "      <td>9</td>\n",
              "    </tr>\n",
              "    <tr>\n",
              "      <th>17</th>\n",
              "      <td>15</td>\n",
              "      <td>4</td>\n",
              "      <td>-11</td>\n",
              "      <td>11</td>\n",
              "    </tr>\n",
              "    <tr>\n",
              "      <th>2</th>\n",
              "      <td>24</td>\n",
              "      <td>12</td>\n",
              "      <td>-12</td>\n",
              "      <td>12</td>\n",
              "    </tr>\n",
              "    <tr>\n",
              "      <th>22</th>\n",
              "      <td>21</td>\n",
              "      <td>9</td>\n",
              "      <td>-12</td>\n",
              "      <td>12</td>\n",
              "    </tr>\n",
              "    <tr>\n",
              "      <th>11</th>\n",
              "      <td>15</td>\n",
              "      <td>2</td>\n",
              "      <td>-13</td>\n",
              "      <td>13</td>\n",
              "    </tr>\n",
              "    <tr>\n",
              "      <th>28</th>\n",
              "      <td>28</td>\n",
              "      <td>11</td>\n",
              "      <td>-17</td>\n",
              "      <td>17</td>\n",
              "    </tr>\n",
              "    <tr>\n",
              "      <th>1</th>\n",
              "      <td>25</td>\n",
              "      <td>8</td>\n",
              "      <td>-17</td>\n",
              "      <td>17</td>\n",
              "    </tr>\n",
              "    <tr>\n",
              "      <th>7</th>\n",
              "      <td>29</td>\n",
              "      <td>12</td>\n",
              "      <td>-17</td>\n",
              "      <td>17</td>\n",
              "    </tr>\n",
              "    <tr>\n",
              "      <th>12</th>\n",
              "      <td>36</td>\n",
              "      <td>15</td>\n",
              "      <td>-21</td>\n",
              "      <td>21</td>\n",
              "    </tr>\n",
              "    <tr>\n",
              "      <th>27</th>\n",
              "      <td>22</td>\n",
              "      <td>0</td>\n",
              "      <td>-22</td>\n",
              "      <td>22</td>\n",
              "    </tr>\n",
              "    <tr>\n",
              "      <th>19</th>\n",
              "      <td>41</td>\n",
              "      <td>18</td>\n",
              "      <td>-23</td>\n",
              "      <td>23</td>\n",
              "    </tr>\n",
              "    <tr>\n",
              "      <th>0</th>\n",
              "      <td>39</td>\n",
              "      <td>16</td>\n",
              "      <td>-23</td>\n",
              "      <td>23</td>\n",
              "    </tr>\n",
              "    <tr>\n",
              "      <th>16</th>\n",
              "      <td>24</td>\n",
              "      <td>0</td>\n",
              "      <td>-24</td>\n",
              "      <td>24</td>\n",
              "    </tr>\n",
              "    <tr>\n",
              "      <th>18</th>\n",
              "      <td>40</td>\n",
              "      <td>16</td>\n",
              "      <td>-24</td>\n",
              "      <td>24</td>\n",
              "    </tr>\n",
              "    <tr>\n",
              "      <th>26</th>\n",
              "      <td>46</td>\n",
              "      <td>17</td>\n",
              "      <td>-29</td>\n",
              "      <td>29</td>\n",
              "    </tr>\n",
              "    <tr>\n",
              "      <th>13</th>\n",
              "      <td>39</td>\n",
              "      <td>10</td>\n",
              "      <td>-29</td>\n",
              "      <td>29</td>\n",
              "    </tr>\n",
              "    <tr>\n",
              "      <th>32</th>\n",
              "      <td>31</td>\n",
              "      <td>2</td>\n",
              "      <td>-29</td>\n",
              "      <td>29</td>\n",
              "    </tr>\n",
              "    <tr>\n",
              "      <th>14</th>\n",
              "      <td>52</td>\n",
              "      <td>20</td>\n",
              "      <td>-32</td>\n",
              "      <td>32</td>\n",
              "    </tr>\n",
              "    <tr>\n",
              "      <th>10</th>\n",
              "      <td>50</td>\n",
              "      <td>17</td>\n",
              "      <td>-33</td>\n",
              "      <td>33</td>\n",
              "    </tr>\n",
              "    <tr>\n",
              "      <th>15</th>\n",
              "      <td>48</td>\n",
              "      <td>13</td>\n",
              "      <td>-35</td>\n",
              "      <td>35</td>\n",
              "    </tr>\n",
              "    <tr>\n",
              "      <th>5</th>\n",
              "      <td>52</td>\n",
              "      <td>16</td>\n",
              "      <td>-36</td>\n",
              "      <td>36</td>\n",
              "    </tr>\n",
              "    <tr>\n",
              "      <th>30</th>\n",
              "      <td>37</td>\n",
              "      <td>0</td>\n",
              "      <td>-37</td>\n",
              "      <td>37</td>\n",
              "    </tr>\n",
              "    <tr>\n",
              "      <th>33</th>\n",
              "      <td>49</td>\n",
              "      <td>9</td>\n",
              "      <td>-40</td>\n",
              "      <td>40</td>\n",
              "    </tr>\n",
              "    <tr>\n",
              "      <th>23</th>\n",
              "      <td>49</td>\n",
              "      <td>9</td>\n",
              "      <td>-40</td>\n",
              "      <td>40</td>\n",
              "    </tr>\n",
              "    <tr>\n",
              "      <th>34</th>\n",
              "      <td>49</td>\n",
              "      <td>6</td>\n",
              "      <td>-43</td>\n",
              "      <td>43</td>\n",
              "    </tr>\n",
              "    <tr>\n",
              "      <th>3</th>\n",
              "      <td>50</td>\n",
              "      <td>0</td>\n",
              "      <td>-50</td>\n",
              "      <td>50</td>\n",
              "    </tr>\n",
              "    <tr>\n",
              "      <th>25</th>\n",
              "      <td>55</td>\n",
              "      <td>4</td>\n",
              "      <td>-51</td>\n",
              "      <td>51</td>\n",
              "    </tr>\n",
              "  </tbody>\n",
              "</table>\n",
              "</div>\n",
              "      <button class=\"colab-df-convert\" onclick=\"convertToInteractive('df-ba7aad74-4510-4dd3-92e9-d6f99740a8b0')\"\n",
              "              title=\"Convert this dataframe to an interactive table.\"\n",
              "              style=\"display:none;\">\n",
              "        \n",
              "  <svg xmlns=\"http://www.w3.org/2000/svg\" height=\"24px\"viewBox=\"0 0 24 24\"\n",
              "       width=\"24px\">\n",
              "    <path d=\"M0 0h24v24H0V0z\" fill=\"none\"/>\n",
              "    <path d=\"M18.56 5.44l.94 2.06.94-2.06 2.06-.94-2.06-.94-.94-2.06-.94 2.06-2.06.94zm-11 1L8.5 8.5l.94-2.06 2.06-.94-2.06-.94L8.5 2.5l-.94 2.06-2.06.94zm10 10l.94 2.06.94-2.06 2.06-.94-2.06-.94-.94-2.06-.94 2.06-2.06.94z\"/><path d=\"M17.41 7.96l-1.37-1.37c-.4-.4-.92-.59-1.43-.59-.52 0-1.04.2-1.43.59L10.3 9.45l-7.72 7.72c-.78.78-.78 2.05 0 2.83L4 21.41c.39.39.9.59 1.41.59.51 0 1.02-.2 1.41-.59l7.78-7.78 2.81-2.81c.8-.78.8-2.07 0-2.86zM5.41 20L4 18.59l7.72-7.72 1.47 1.35L5.41 20z\"/>\n",
              "  </svg>\n",
              "      </button>\n",
              "      \n",
              "  <style>\n",
              "    .colab-df-container {\n",
              "      display:flex;\n",
              "      flex-wrap:wrap;\n",
              "      gap: 12px;\n",
              "    }\n",
              "\n",
              "    .colab-df-convert {\n",
              "      background-color: #E8F0FE;\n",
              "      border: none;\n",
              "      border-radius: 50%;\n",
              "      cursor: pointer;\n",
              "      display: none;\n",
              "      fill: #1967D2;\n",
              "      height: 32px;\n",
              "      padding: 0 0 0 0;\n",
              "      width: 32px;\n",
              "    }\n",
              "\n",
              "    .colab-df-convert:hover {\n",
              "      background-color: #E2EBFA;\n",
              "      box-shadow: 0px 1px 2px rgba(60, 64, 67, 0.3), 0px 1px 3px 1px rgba(60, 64, 67, 0.15);\n",
              "      fill: #174EA6;\n",
              "    }\n",
              "\n",
              "    [theme=dark] .colab-df-convert {\n",
              "      background-color: #3B4455;\n",
              "      fill: #D2E3FC;\n",
              "    }\n",
              "\n",
              "    [theme=dark] .colab-df-convert:hover {\n",
              "      background-color: #434B5C;\n",
              "      box-shadow: 0px 1px 3px 1px rgba(0, 0, 0, 0.15);\n",
              "      filter: drop-shadow(0px 1px 2px rgba(0, 0, 0, 0.3));\n",
              "      fill: #FFFFFF;\n",
              "    }\n",
              "  </style>\n",
              "\n",
              "      <script>\n",
              "        const buttonEl =\n",
              "          document.querySelector('#df-ba7aad74-4510-4dd3-92e9-d6f99740a8b0 button.colab-df-convert');\n",
              "        buttonEl.style.display =\n",
              "          google.colab.kernel.accessAllowed ? 'block' : 'none';\n",
              "\n",
              "        async function convertToInteractive(key) {\n",
              "          const element = document.querySelector('#df-ba7aad74-4510-4dd3-92e9-d6f99740a8b0');\n",
              "          const dataTable =\n",
              "            await google.colab.kernel.invokeFunction('convertToInteractive',\n",
              "                                                     [key], {});\n",
              "          if (!dataTable) return;\n",
              "\n",
              "          const docLinkHtml = 'Like what you see? Visit the ' +\n",
              "            '<a target=\"_blank\" href=https://colab.research.google.com/notebooks/data_table.ipynb>data table notebook</a>'\n",
              "            + ' to learn more about interactive tables.';\n",
              "          element.innerHTML = '';\n",
              "          dataTable['output_type'] = 'display_data';\n",
              "          await google.colab.output.renderOutput(dataTable, element);\n",
              "          const docLink = document.createElement('div');\n",
              "          docLink.innerHTML = docLinkHtml;\n",
              "          element.appendChild(docLink);\n",
              "        }\n",
              "      </script>\n",
              "    </div>\n",
              "  </div>\n",
              "  "
            ]
          },
          "metadata": {},
          "execution_count": 314
        }
      ],
      "source": [
        "fumo.sort_values(by = '|Dif|', inplace = True)\n",
        "fumo"
      ]
    },
    {
      "cell_type": "code",
      "execution_count": null,
      "metadata": {
        "id": "K_JKSwLHotMx",
        "colab": {
          "base_uri": "https://localhost:8080/",
          "height": 1147
        },
        "outputId": "e17624c7-03d5-416a-e0dd-6ccf9b49573b"
      },
      "outputs": [
        {
          "output_type": "execute_result",
          "data": {
            "text/plain": [
              "    Antes  Depois  Dif  |Dif|  Posto\n",
              "4      13      14    1      1      1\n",
              "20     17      16   -1      1      2\n",
              "31     17      19    2      2      3\n",
              "21     12      16    4      4      4\n",
              "24     14      18    4      4      5\n",
              "9      22      17   -5      5      6\n",
              "6      21      13   -8      8      7\n",
              "29     23      14   -9      9      8\n",
              "8      10      19    9      9      9\n",
              "17     15       4  -11     11     10\n",
              "2      24      12  -12     12     11\n",
              "22     21       9  -12     12     12\n",
              "11     15       2  -13     13     13\n",
              "28     28      11  -17     17     14\n",
              "1      25       8  -17     17     15\n",
              "7      29      12  -17     17     16\n",
              "12     36      15  -21     21     17\n",
              "27     22       0  -22     22     18\n",
              "19     41      18  -23     23     19\n",
              "0      39      16  -23     23     20\n",
              "16     24       0  -24     24     21\n",
              "18     40      16  -24     24     22\n",
              "26     46      17  -29     29     23\n",
              "13     39      10  -29     29     24\n",
              "32     31       2  -29     29     25\n",
              "14     52      20  -32     32     26\n",
              "10     50      17  -33     33     27\n",
              "15     48      13  -35     35     28\n",
              "5      52      16  -36     36     29\n",
              "30     37       0  -37     37     30\n",
              "33     49       9  -40     40     31\n",
              "23     49       9  -40     40     32\n",
              "34     49       6  -43     43     33\n",
              "3      50       0  -50     50     34\n",
              "25     55       4  -51     51     35"
            ],
            "text/html": [
              "\n",
              "  <div id=\"df-0891e978-fc99-462c-a0f2-a186fe8e6909\">\n",
              "    <div class=\"colab-df-container\">\n",
              "      <div>\n",
              "<style scoped>\n",
              "    .dataframe tbody tr th:only-of-type {\n",
              "        vertical-align: middle;\n",
              "    }\n",
              "\n",
              "    .dataframe tbody tr th {\n",
              "        vertical-align: top;\n",
              "    }\n",
              "\n",
              "    .dataframe thead th {\n",
              "        text-align: right;\n",
              "    }\n",
              "</style>\n",
              "<table border=\"1\" class=\"dataframe\">\n",
              "  <thead>\n",
              "    <tr style=\"text-align: right;\">\n",
              "      <th></th>\n",
              "      <th>Antes</th>\n",
              "      <th>Depois</th>\n",
              "      <th>Dif</th>\n",
              "      <th>|Dif|</th>\n",
              "      <th>Posto</th>\n",
              "    </tr>\n",
              "  </thead>\n",
              "  <tbody>\n",
              "    <tr>\n",
              "      <th>4</th>\n",
              "      <td>13</td>\n",
              "      <td>14</td>\n",
              "      <td>1</td>\n",
              "      <td>1</td>\n",
              "      <td>1</td>\n",
              "    </tr>\n",
              "    <tr>\n",
              "      <th>20</th>\n",
              "      <td>17</td>\n",
              "      <td>16</td>\n",
              "      <td>-1</td>\n",
              "      <td>1</td>\n",
              "      <td>2</td>\n",
              "    </tr>\n",
              "    <tr>\n",
              "      <th>31</th>\n",
              "      <td>17</td>\n",
              "      <td>19</td>\n",
              "      <td>2</td>\n",
              "      <td>2</td>\n",
              "      <td>3</td>\n",
              "    </tr>\n",
              "    <tr>\n",
              "      <th>21</th>\n",
              "      <td>12</td>\n",
              "      <td>16</td>\n",
              "      <td>4</td>\n",
              "      <td>4</td>\n",
              "      <td>4</td>\n",
              "    </tr>\n",
              "    <tr>\n",
              "      <th>24</th>\n",
              "      <td>14</td>\n",
              "      <td>18</td>\n",
              "      <td>4</td>\n",
              "      <td>4</td>\n",
              "      <td>5</td>\n",
              "    </tr>\n",
              "    <tr>\n",
              "      <th>9</th>\n",
              "      <td>22</td>\n",
              "      <td>17</td>\n",
              "      <td>-5</td>\n",
              "      <td>5</td>\n",
              "      <td>6</td>\n",
              "    </tr>\n",
              "    <tr>\n",
              "      <th>6</th>\n",
              "      <td>21</td>\n",
              "      <td>13</td>\n",
              "      <td>-8</td>\n",
              "      <td>8</td>\n",
              "      <td>7</td>\n",
              "    </tr>\n",
              "    <tr>\n",
              "      <th>29</th>\n",
              "      <td>23</td>\n",
              "      <td>14</td>\n",
              "      <td>-9</td>\n",
              "      <td>9</td>\n",
              "      <td>8</td>\n",
              "    </tr>\n",
              "    <tr>\n",
              "      <th>8</th>\n",
              "      <td>10</td>\n",
              "      <td>19</td>\n",
              "      <td>9</td>\n",
              "      <td>9</td>\n",
              "      <td>9</td>\n",
              "    </tr>\n",
              "    <tr>\n",
              "      <th>17</th>\n",
              "      <td>15</td>\n",
              "      <td>4</td>\n",
              "      <td>-11</td>\n",
              "      <td>11</td>\n",
              "      <td>10</td>\n",
              "    </tr>\n",
              "    <tr>\n",
              "      <th>2</th>\n",
              "      <td>24</td>\n",
              "      <td>12</td>\n",
              "      <td>-12</td>\n",
              "      <td>12</td>\n",
              "      <td>11</td>\n",
              "    </tr>\n",
              "    <tr>\n",
              "      <th>22</th>\n",
              "      <td>21</td>\n",
              "      <td>9</td>\n",
              "      <td>-12</td>\n",
              "      <td>12</td>\n",
              "      <td>12</td>\n",
              "    </tr>\n",
              "    <tr>\n",
              "      <th>11</th>\n",
              "      <td>15</td>\n",
              "      <td>2</td>\n",
              "      <td>-13</td>\n",
              "      <td>13</td>\n",
              "      <td>13</td>\n",
              "    </tr>\n",
              "    <tr>\n",
              "      <th>28</th>\n",
              "      <td>28</td>\n",
              "      <td>11</td>\n",
              "      <td>-17</td>\n",
              "      <td>17</td>\n",
              "      <td>14</td>\n",
              "    </tr>\n",
              "    <tr>\n",
              "      <th>1</th>\n",
              "      <td>25</td>\n",
              "      <td>8</td>\n",
              "      <td>-17</td>\n",
              "      <td>17</td>\n",
              "      <td>15</td>\n",
              "    </tr>\n",
              "    <tr>\n",
              "      <th>7</th>\n",
              "      <td>29</td>\n",
              "      <td>12</td>\n",
              "      <td>-17</td>\n",
              "      <td>17</td>\n",
              "      <td>16</td>\n",
              "    </tr>\n",
              "    <tr>\n",
              "      <th>12</th>\n",
              "      <td>36</td>\n",
              "      <td>15</td>\n",
              "      <td>-21</td>\n",
              "      <td>21</td>\n",
              "      <td>17</td>\n",
              "    </tr>\n",
              "    <tr>\n",
              "      <th>27</th>\n",
              "      <td>22</td>\n",
              "      <td>0</td>\n",
              "      <td>-22</td>\n",
              "      <td>22</td>\n",
              "      <td>18</td>\n",
              "    </tr>\n",
              "    <tr>\n",
              "      <th>19</th>\n",
              "      <td>41</td>\n",
              "      <td>18</td>\n",
              "      <td>-23</td>\n",
              "      <td>23</td>\n",
              "      <td>19</td>\n",
              "    </tr>\n",
              "    <tr>\n",
              "      <th>0</th>\n",
              "      <td>39</td>\n",
              "      <td>16</td>\n",
              "      <td>-23</td>\n",
              "      <td>23</td>\n",
              "      <td>20</td>\n",
              "    </tr>\n",
              "    <tr>\n",
              "      <th>16</th>\n",
              "      <td>24</td>\n",
              "      <td>0</td>\n",
              "      <td>-24</td>\n",
              "      <td>24</td>\n",
              "      <td>21</td>\n",
              "    </tr>\n",
              "    <tr>\n",
              "      <th>18</th>\n",
              "      <td>40</td>\n",
              "      <td>16</td>\n",
              "      <td>-24</td>\n",
              "      <td>24</td>\n",
              "      <td>22</td>\n",
              "    </tr>\n",
              "    <tr>\n",
              "      <th>26</th>\n",
              "      <td>46</td>\n",
              "      <td>17</td>\n",
              "      <td>-29</td>\n",
              "      <td>29</td>\n",
              "      <td>23</td>\n",
              "    </tr>\n",
              "    <tr>\n",
              "      <th>13</th>\n",
              "      <td>39</td>\n",
              "      <td>10</td>\n",
              "      <td>-29</td>\n",
              "      <td>29</td>\n",
              "      <td>24</td>\n",
              "    </tr>\n",
              "    <tr>\n",
              "      <th>32</th>\n",
              "      <td>31</td>\n",
              "      <td>2</td>\n",
              "      <td>-29</td>\n",
              "      <td>29</td>\n",
              "      <td>25</td>\n",
              "    </tr>\n",
              "    <tr>\n",
              "      <th>14</th>\n",
              "      <td>52</td>\n",
              "      <td>20</td>\n",
              "      <td>-32</td>\n",
              "      <td>32</td>\n",
              "      <td>26</td>\n",
              "    </tr>\n",
              "    <tr>\n",
              "      <th>10</th>\n",
              "      <td>50</td>\n",
              "      <td>17</td>\n",
              "      <td>-33</td>\n",
              "      <td>33</td>\n",
              "      <td>27</td>\n",
              "    </tr>\n",
              "    <tr>\n",
              "      <th>15</th>\n",
              "      <td>48</td>\n",
              "      <td>13</td>\n",
              "      <td>-35</td>\n",
              "      <td>35</td>\n",
              "      <td>28</td>\n",
              "    </tr>\n",
              "    <tr>\n",
              "      <th>5</th>\n",
              "      <td>52</td>\n",
              "      <td>16</td>\n",
              "      <td>-36</td>\n",
              "      <td>36</td>\n",
              "      <td>29</td>\n",
              "    </tr>\n",
              "    <tr>\n",
              "      <th>30</th>\n",
              "      <td>37</td>\n",
              "      <td>0</td>\n",
              "      <td>-37</td>\n",
              "      <td>37</td>\n",
              "      <td>30</td>\n",
              "    </tr>\n",
              "    <tr>\n",
              "      <th>33</th>\n",
              "      <td>49</td>\n",
              "      <td>9</td>\n",
              "      <td>-40</td>\n",
              "      <td>40</td>\n",
              "      <td>31</td>\n",
              "    </tr>\n",
              "    <tr>\n",
              "      <th>23</th>\n",
              "      <td>49</td>\n",
              "      <td>9</td>\n",
              "      <td>-40</td>\n",
              "      <td>40</td>\n",
              "      <td>32</td>\n",
              "    </tr>\n",
              "    <tr>\n",
              "      <th>34</th>\n",
              "      <td>49</td>\n",
              "      <td>6</td>\n",
              "      <td>-43</td>\n",
              "      <td>43</td>\n",
              "      <td>33</td>\n",
              "    </tr>\n",
              "    <tr>\n",
              "      <th>3</th>\n",
              "      <td>50</td>\n",
              "      <td>0</td>\n",
              "      <td>-50</td>\n",
              "      <td>50</td>\n",
              "      <td>34</td>\n",
              "    </tr>\n",
              "    <tr>\n",
              "      <th>25</th>\n",
              "      <td>55</td>\n",
              "      <td>4</td>\n",
              "      <td>-51</td>\n",
              "      <td>51</td>\n",
              "      <td>35</td>\n",
              "    </tr>\n",
              "  </tbody>\n",
              "</table>\n",
              "</div>\n",
              "      <button class=\"colab-df-convert\" onclick=\"convertToInteractive('df-0891e978-fc99-462c-a0f2-a186fe8e6909')\"\n",
              "              title=\"Convert this dataframe to an interactive table.\"\n",
              "              style=\"display:none;\">\n",
              "        \n",
              "  <svg xmlns=\"http://www.w3.org/2000/svg\" height=\"24px\"viewBox=\"0 0 24 24\"\n",
              "       width=\"24px\">\n",
              "    <path d=\"M0 0h24v24H0V0z\" fill=\"none\"/>\n",
              "    <path d=\"M18.56 5.44l.94 2.06.94-2.06 2.06-.94-2.06-.94-.94-2.06-.94 2.06-2.06.94zm-11 1L8.5 8.5l.94-2.06 2.06-.94-2.06-.94L8.5 2.5l-.94 2.06-2.06.94zm10 10l.94 2.06.94-2.06 2.06-.94-2.06-.94-.94-2.06-.94 2.06-2.06.94z\"/><path d=\"M17.41 7.96l-1.37-1.37c-.4-.4-.92-.59-1.43-.59-.52 0-1.04.2-1.43.59L10.3 9.45l-7.72 7.72c-.78.78-.78 2.05 0 2.83L4 21.41c.39.39.9.59 1.41.59.51 0 1.02-.2 1.41-.59l7.78-7.78 2.81-2.81c.8-.78.8-2.07 0-2.86zM5.41 20L4 18.59l7.72-7.72 1.47 1.35L5.41 20z\"/>\n",
              "  </svg>\n",
              "      </button>\n",
              "      \n",
              "  <style>\n",
              "    .colab-df-container {\n",
              "      display:flex;\n",
              "      flex-wrap:wrap;\n",
              "      gap: 12px;\n",
              "    }\n",
              "\n",
              "    .colab-df-convert {\n",
              "      background-color: #E8F0FE;\n",
              "      border: none;\n",
              "      border-radius: 50%;\n",
              "      cursor: pointer;\n",
              "      display: none;\n",
              "      fill: #1967D2;\n",
              "      height: 32px;\n",
              "      padding: 0 0 0 0;\n",
              "      width: 32px;\n",
              "    }\n",
              "\n",
              "    .colab-df-convert:hover {\n",
              "      background-color: #E2EBFA;\n",
              "      box-shadow: 0px 1px 2px rgba(60, 64, 67, 0.3), 0px 1px 3px 1px rgba(60, 64, 67, 0.15);\n",
              "      fill: #174EA6;\n",
              "    }\n",
              "\n",
              "    [theme=dark] .colab-df-convert {\n",
              "      background-color: #3B4455;\n",
              "      fill: #D2E3FC;\n",
              "    }\n",
              "\n",
              "    [theme=dark] .colab-df-convert:hover {\n",
              "      background-color: #434B5C;\n",
              "      box-shadow: 0px 1px 3px 1px rgba(0, 0, 0, 0.15);\n",
              "      filter: drop-shadow(0px 1px 2px rgba(0, 0, 0, 0.3));\n",
              "      fill: #FFFFFF;\n",
              "    }\n",
              "  </style>\n",
              "\n",
              "      <script>\n",
              "        const buttonEl =\n",
              "          document.querySelector('#df-0891e978-fc99-462c-a0f2-a186fe8e6909 button.colab-df-convert');\n",
              "        buttonEl.style.display =\n",
              "          google.colab.kernel.accessAllowed ? 'block' : 'none';\n",
              "\n",
              "        async function convertToInteractive(key) {\n",
              "          const element = document.querySelector('#df-0891e978-fc99-462c-a0f2-a186fe8e6909');\n",
              "          const dataTable =\n",
              "            await google.colab.kernel.invokeFunction('convertToInteractive',\n",
              "                                                     [key], {});\n",
              "          if (!dataTable) return;\n",
              "\n",
              "          const docLinkHtml = 'Like what you see? Visit the ' +\n",
              "            '<a target=\"_blank\" href=https://colab.research.google.com/notebooks/data_table.ipynb>data table notebook</a>'\n",
              "            + ' to learn more about interactive tables.';\n",
              "          element.innerHTML = '';\n",
              "          dataTable['output_type'] = 'display_data';\n",
              "          await google.colab.output.renderOutput(dataTable, element);\n",
              "          const docLink = document.createElement('div');\n",
              "          docLink.innerHTML = docLinkHtml;\n",
              "          element.appendChild(docLink);\n",
              "        }\n",
              "      </script>\n",
              "    </div>\n",
              "  </div>\n",
              "  "
            ]
          },
          "metadata": {},
          "execution_count": 315
        }
      ],
      "source": [
        "fumo['Posto'] = range(1, len(fumo) + 1)\n",
        "fumo"
      ]
    },
    {
      "cell_type": "code",
      "execution_count": null,
      "metadata": {
        "id": "h8TXHLh1otJh",
        "colab": {
          "base_uri": "https://localhost:8080/",
          "height": 833
        },
        "outputId": "d76152be-4103-482e-df38-9d2c9bef2cfb"
      },
      "outputs": [
        {
          "output_type": "execute_result",
          "data": {
            "text/plain": [
              "       Posto\n",
              "|Dif|       \n",
              "1        1.5\n",
              "2        3.0\n",
              "4        4.5\n",
              "5        6.0\n",
              "8        7.0\n",
              "9        8.5\n",
              "11      10.0\n",
              "12      11.5\n",
              "13      13.0\n",
              "17      15.0\n",
              "21      17.0\n",
              "22      18.0\n",
              "23      19.5\n",
              "24      21.5\n",
              "29      24.0\n",
              "32      26.0\n",
              "33      27.0\n",
              "35      28.0\n",
              "36      29.0\n",
              "37      30.0\n",
              "40      31.5\n",
              "43      33.0\n",
              "50      34.0\n",
              "51      35.0"
            ],
            "text/html": [
              "\n",
              "  <div id=\"df-3a257ac7-1f4e-4c84-8e5a-9d3df26154f1\">\n",
              "    <div class=\"colab-df-container\">\n",
              "      <div>\n",
              "<style scoped>\n",
              "    .dataframe tbody tr th:only-of-type {\n",
              "        vertical-align: middle;\n",
              "    }\n",
              "\n",
              "    .dataframe tbody tr th {\n",
              "        vertical-align: top;\n",
              "    }\n",
              "\n",
              "    .dataframe thead th {\n",
              "        text-align: right;\n",
              "    }\n",
              "</style>\n",
              "<table border=\"1\" class=\"dataframe\">\n",
              "  <thead>\n",
              "    <tr style=\"text-align: right;\">\n",
              "      <th></th>\n",
              "      <th>Posto</th>\n",
              "    </tr>\n",
              "    <tr>\n",
              "      <th>|Dif|</th>\n",
              "      <th></th>\n",
              "    </tr>\n",
              "  </thead>\n",
              "  <tbody>\n",
              "    <tr>\n",
              "      <th>1</th>\n",
              "      <td>1.5</td>\n",
              "    </tr>\n",
              "    <tr>\n",
              "      <th>2</th>\n",
              "      <td>3.0</td>\n",
              "    </tr>\n",
              "    <tr>\n",
              "      <th>4</th>\n",
              "      <td>4.5</td>\n",
              "    </tr>\n",
              "    <tr>\n",
              "      <th>5</th>\n",
              "      <td>6.0</td>\n",
              "    </tr>\n",
              "    <tr>\n",
              "      <th>8</th>\n",
              "      <td>7.0</td>\n",
              "    </tr>\n",
              "    <tr>\n",
              "      <th>9</th>\n",
              "      <td>8.5</td>\n",
              "    </tr>\n",
              "    <tr>\n",
              "      <th>11</th>\n",
              "      <td>10.0</td>\n",
              "    </tr>\n",
              "    <tr>\n",
              "      <th>12</th>\n",
              "      <td>11.5</td>\n",
              "    </tr>\n",
              "    <tr>\n",
              "      <th>13</th>\n",
              "      <td>13.0</td>\n",
              "    </tr>\n",
              "    <tr>\n",
              "      <th>17</th>\n",
              "      <td>15.0</td>\n",
              "    </tr>\n",
              "    <tr>\n",
              "      <th>21</th>\n",
              "      <td>17.0</td>\n",
              "    </tr>\n",
              "    <tr>\n",
              "      <th>22</th>\n",
              "      <td>18.0</td>\n",
              "    </tr>\n",
              "    <tr>\n",
              "      <th>23</th>\n",
              "      <td>19.5</td>\n",
              "    </tr>\n",
              "    <tr>\n",
              "      <th>24</th>\n",
              "      <td>21.5</td>\n",
              "    </tr>\n",
              "    <tr>\n",
              "      <th>29</th>\n",
              "      <td>24.0</td>\n",
              "    </tr>\n",
              "    <tr>\n",
              "      <th>32</th>\n",
              "      <td>26.0</td>\n",
              "    </tr>\n",
              "    <tr>\n",
              "      <th>33</th>\n",
              "      <td>27.0</td>\n",
              "    </tr>\n",
              "    <tr>\n",
              "      <th>35</th>\n",
              "      <td>28.0</td>\n",
              "    </tr>\n",
              "    <tr>\n",
              "      <th>36</th>\n",
              "      <td>29.0</td>\n",
              "    </tr>\n",
              "    <tr>\n",
              "      <th>37</th>\n",
              "      <td>30.0</td>\n",
              "    </tr>\n",
              "    <tr>\n",
              "      <th>40</th>\n",
              "      <td>31.5</td>\n",
              "    </tr>\n",
              "    <tr>\n",
              "      <th>43</th>\n",
              "      <td>33.0</td>\n",
              "    </tr>\n",
              "    <tr>\n",
              "      <th>50</th>\n",
              "      <td>34.0</td>\n",
              "    </tr>\n",
              "    <tr>\n",
              "      <th>51</th>\n",
              "      <td>35.0</td>\n",
              "    </tr>\n",
              "  </tbody>\n",
              "</table>\n",
              "</div>\n",
              "      <button class=\"colab-df-convert\" onclick=\"convertToInteractive('df-3a257ac7-1f4e-4c84-8e5a-9d3df26154f1')\"\n",
              "              title=\"Convert this dataframe to an interactive table.\"\n",
              "              style=\"display:none;\">\n",
              "        \n",
              "  <svg xmlns=\"http://www.w3.org/2000/svg\" height=\"24px\"viewBox=\"0 0 24 24\"\n",
              "       width=\"24px\">\n",
              "    <path d=\"M0 0h24v24H0V0z\" fill=\"none\"/>\n",
              "    <path d=\"M18.56 5.44l.94 2.06.94-2.06 2.06-.94-2.06-.94-.94-2.06-.94 2.06-2.06.94zm-11 1L8.5 8.5l.94-2.06 2.06-.94-2.06-.94L8.5 2.5l-.94 2.06-2.06.94zm10 10l.94 2.06.94-2.06 2.06-.94-2.06-.94-.94-2.06-.94 2.06-2.06.94z\"/><path d=\"M17.41 7.96l-1.37-1.37c-.4-.4-.92-.59-1.43-.59-.52 0-1.04.2-1.43.59L10.3 9.45l-7.72 7.72c-.78.78-.78 2.05 0 2.83L4 21.41c.39.39.9.59 1.41.59.51 0 1.02-.2 1.41-.59l7.78-7.78 2.81-2.81c.8-.78.8-2.07 0-2.86zM5.41 20L4 18.59l7.72-7.72 1.47 1.35L5.41 20z\"/>\n",
              "  </svg>\n",
              "      </button>\n",
              "      \n",
              "  <style>\n",
              "    .colab-df-container {\n",
              "      display:flex;\n",
              "      flex-wrap:wrap;\n",
              "      gap: 12px;\n",
              "    }\n",
              "\n",
              "    .colab-df-convert {\n",
              "      background-color: #E8F0FE;\n",
              "      border: none;\n",
              "      border-radius: 50%;\n",
              "      cursor: pointer;\n",
              "      display: none;\n",
              "      fill: #1967D2;\n",
              "      height: 32px;\n",
              "      padding: 0 0 0 0;\n",
              "      width: 32px;\n",
              "    }\n",
              "\n",
              "    .colab-df-convert:hover {\n",
              "      background-color: #E2EBFA;\n",
              "      box-shadow: 0px 1px 2px rgba(60, 64, 67, 0.3), 0px 1px 3px 1px rgba(60, 64, 67, 0.15);\n",
              "      fill: #174EA6;\n",
              "    }\n",
              "\n",
              "    [theme=dark] .colab-df-convert {\n",
              "      background-color: #3B4455;\n",
              "      fill: #D2E3FC;\n",
              "    }\n",
              "\n",
              "    [theme=dark] .colab-df-convert:hover {\n",
              "      background-color: #434B5C;\n",
              "      box-shadow: 0px 1px 3px 1px rgba(0, 0, 0, 0.15);\n",
              "      filter: drop-shadow(0px 1px 2px rgba(0, 0, 0, 0.3));\n",
              "      fill: #FFFFFF;\n",
              "    }\n",
              "  </style>\n",
              "\n",
              "      <script>\n",
              "        const buttonEl =\n",
              "          document.querySelector('#df-3a257ac7-1f4e-4c84-8e5a-9d3df26154f1 button.colab-df-convert');\n",
              "        buttonEl.style.display =\n",
              "          google.colab.kernel.accessAllowed ? 'block' : 'none';\n",
              "\n",
              "        async function convertToInteractive(key) {\n",
              "          const element = document.querySelector('#df-3a257ac7-1f4e-4c84-8e5a-9d3df26154f1');\n",
              "          const dataTable =\n",
              "            await google.colab.kernel.invokeFunction('convertToInteractive',\n",
              "                                                     [key], {});\n",
              "          if (!dataTable) return;\n",
              "\n",
              "          const docLinkHtml = 'Like what you see? Visit the ' +\n",
              "            '<a target=\"_blank\" href=https://colab.research.google.com/notebooks/data_table.ipynb>data table notebook</a>'\n",
              "            + ' to learn more about interactive tables.';\n",
              "          element.innerHTML = '';\n",
              "          dataTable['output_type'] = 'display_data';\n",
              "          await google.colab.output.renderOutput(dataTable, element);\n",
              "          const docLink = document.createElement('div');\n",
              "          docLink.innerHTML = docLinkHtml;\n",
              "          element.appendChild(docLink);\n",
              "        }\n",
              "      </script>\n",
              "    </div>\n",
              "  </div>\n",
              "  "
            ]
          },
          "metadata": {},
          "execution_count": 316
        }
      ],
      "source": [
        "posto = fumo[['|Dif|', 'Posto']].groupby(['|Dif|']).mean()\n",
        "posto"
      ]
    },
    {
      "cell_type": "code",
      "execution_count": null,
      "metadata": {
        "id": "fjX9_aRIotGD",
        "colab": {
          "base_uri": "https://localhost:8080/",
          "height": 802
        },
        "outputId": "7a6ddbea-adb2-4afb-dd78-7fb2b61aa0b5"
      },
      "outputs": [
        {
          "output_type": "execute_result",
          "data": {
            "text/plain": [
              "    |Dif|  Posto\n",
              "0       1    1.5\n",
              "1       2    3.0\n",
              "2       4    4.5\n",
              "3       5    6.0\n",
              "4       8    7.0\n",
              "5       9    8.5\n",
              "6      11   10.0\n",
              "7      12   11.5\n",
              "8      13   13.0\n",
              "9      17   15.0\n",
              "10     21   17.0\n",
              "11     22   18.0\n",
              "12     23   19.5\n",
              "13     24   21.5\n",
              "14     29   24.0\n",
              "15     32   26.0\n",
              "16     33   27.0\n",
              "17     35   28.0\n",
              "18     36   29.0\n",
              "19     37   30.0\n",
              "20     40   31.5\n",
              "21     43   33.0\n",
              "22     50   34.0\n",
              "23     51   35.0"
            ],
            "text/html": [
              "\n",
              "  <div id=\"df-2cff0044-484e-4341-a7b0-b6cbf8b5489f\">\n",
              "    <div class=\"colab-df-container\">\n",
              "      <div>\n",
              "<style scoped>\n",
              "    .dataframe tbody tr th:only-of-type {\n",
              "        vertical-align: middle;\n",
              "    }\n",
              "\n",
              "    .dataframe tbody tr th {\n",
              "        vertical-align: top;\n",
              "    }\n",
              "\n",
              "    .dataframe thead th {\n",
              "        text-align: right;\n",
              "    }\n",
              "</style>\n",
              "<table border=\"1\" class=\"dataframe\">\n",
              "  <thead>\n",
              "    <tr style=\"text-align: right;\">\n",
              "      <th></th>\n",
              "      <th>|Dif|</th>\n",
              "      <th>Posto</th>\n",
              "    </tr>\n",
              "  </thead>\n",
              "  <tbody>\n",
              "    <tr>\n",
              "      <th>0</th>\n",
              "      <td>1</td>\n",
              "      <td>1.5</td>\n",
              "    </tr>\n",
              "    <tr>\n",
              "      <th>1</th>\n",
              "      <td>2</td>\n",
              "      <td>3.0</td>\n",
              "    </tr>\n",
              "    <tr>\n",
              "      <th>2</th>\n",
              "      <td>4</td>\n",
              "      <td>4.5</td>\n",
              "    </tr>\n",
              "    <tr>\n",
              "      <th>3</th>\n",
              "      <td>5</td>\n",
              "      <td>6.0</td>\n",
              "    </tr>\n",
              "    <tr>\n",
              "      <th>4</th>\n",
              "      <td>8</td>\n",
              "      <td>7.0</td>\n",
              "    </tr>\n",
              "    <tr>\n",
              "      <th>5</th>\n",
              "      <td>9</td>\n",
              "      <td>8.5</td>\n",
              "    </tr>\n",
              "    <tr>\n",
              "      <th>6</th>\n",
              "      <td>11</td>\n",
              "      <td>10.0</td>\n",
              "    </tr>\n",
              "    <tr>\n",
              "      <th>7</th>\n",
              "      <td>12</td>\n",
              "      <td>11.5</td>\n",
              "    </tr>\n",
              "    <tr>\n",
              "      <th>8</th>\n",
              "      <td>13</td>\n",
              "      <td>13.0</td>\n",
              "    </tr>\n",
              "    <tr>\n",
              "      <th>9</th>\n",
              "      <td>17</td>\n",
              "      <td>15.0</td>\n",
              "    </tr>\n",
              "    <tr>\n",
              "      <th>10</th>\n",
              "      <td>21</td>\n",
              "      <td>17.0</td>\n",
              "    </tr>\n",
              "    <tr>\n",
              "      <th>11</th>\n",
              "      <td>22</td>\n",
              "      <td>18.0</td>\n",
              "    </tr>\n",
              "    <tr>\n",
              "      <th>12</th>\n",
              "      <td>23</td>\n",
              "      <td>19.5</td>\n",
              "    </tr>\n",
              "    <tr>\n",
              "      <th>13</th>\n",
              "      <td>24</td>\n",
              "      <td>21.5</td>\n",
              "    </tr>\n",
              "    <tr>\n",
              "      <th>14</th>\n",
              "      <td>29</td>\n",
              "      <td>24.0</td>\n",
              "    </tr>\n",
              "    <tr>\n",
              "      <th>15</th>\n",
              "      <td>32</td>\n",
              "      <td>26.0</td>\n",
              "    </tr>\n",
              "    <tr>\n",
              "      <th>16</th>\n",
              "      <td>33</td>\n",
              "      <td>27.0</td>\n",
              "    </tr>\n",
              "    <tr>\n",
              "      <th>17</th>\n",
              "      <td>35</td>\n",
              "      <td>28.0</td>\n",
              "    </tr>\n",
              "    <tr>\n",
              "      <th>18</th>\n",
              "      <td>36</td>\n",
              "      <td>29.0</td>\n",
              "    </tr>\n",
              "    <tr>\n",
              "      <th>19</th>\n",
              "      <td>37</td>\n",
              "      <td>30.0</td>\n",
              "    </tr>\n",
              "    <tr>\n",
              "      <th>20</th>\n",
              "      <td>40</td>\n",
              "      <td>31.5</td>\n",
              "    </tr>\n",
              "    <tr>\n",
              "      <th>21</th>\n",
              "      <td>43</td>\n",
              "      <td>33.0</td>\n",
              "    </tr>\n",
              "    <tr>\n",
              "      <th>22</th>\n",
              "      <td>50</td>\n",
              "      <td>34.0</td>\n",
              "    </tr>\n",
              "    <tr>\n",
              "      <th>23</th>\n",
              "      <td>51</td>\n",
              "      <td>35.0</td>\n",
              "    </tr>\n",
              "  </tbody>\n",
              "</table>\n",
              "</div>\n",
              "      <button class=\"colab-df-convert\" onclick=\"convertToInteractive('df-2cff0044-484e-4341-a7b0-b6cbf8b5489f')\"\n",
              "              title=\"Convert this dataframe to an interactive table.\"\n",
              "              style=\"display:none;\">\n",
              "        \n",
              "  <svg xmlns=\"http://www.w3.org/2000/svg\" height=\"24px\"viewBox=\"0 0 24 24\"\n",
              "       width=\"24px\">\n",
              "    <path d=\"M0 0h24v24H0V0z\" fill=\"none\"/>\n",
              "    <path d=\"M18.56 5.44l.94 2.06.94-2.06 2.06-.94-2.06-.94-.94-2.06-.94 2.06-2.06.94zm-11 1L8.5 8.5l.94-2.06 2.06-.94-2.06-.94L8.5 2.5l-.94 2.06-2.06.94zm10 10l.94 2.06.94-2.06 2.06-.94-2.06-.94-.94-2.06-.94 2.06-2.06.94z\"/><path d=\"M17.41 7.96l-1.37-1.37c-.4-.4-.92-.59-1.43-.59-.52 0-1.04.2-1.43.59L10.3 9.45l-7.72 7.72c-.78.78-.78 2.05 0 2.83L4 21.41c.39.39.9.59 1.41.59.51 0 1.02-.2 1.41-.59l7.78-7.78 2.81-2.81c.8-.78.8-2.07 0-2.86zM5.41 20L4 18.59l7.72-7.72 1.47 1.35L5.41 20z\"/>\n",
              "  </svg>\n",
              "      </button>\n",
              "      \n",
              "  <style>\n",
              "    .colab-df-container {\n",
              "      display:flex;\n",
              "      flex-wrap:wrap;\n",
              "      gap: 12px;\n",
              "    }\n",
              "\n",
              "    .colab-df-convert {\n",
              "      background-color: #E8F0FE;\n",
              "      border: none;\n",
              "      border-radius: 50%;\n",
              "      cursor: pointer;\n",
              "      display: none;\n",
              "      fill: #1967D2;\n",
              "      height: 32px;\n",
              "      padding: 0 0 0 0;\n",
              "      width: 32px;\n",
              "    }\n",
              "\n",
              "    .colab-df-convert:hover {\n",
              "      background-color: #E2EBFA;\n",
              "      box-shadow: 0px 1px 2px rgba(60, 64, 67, 0.3), 0px 1px 3px 1px rgba(60, 64, 67, 0.15);\n",
              "      fill: #174EA6;\n",
              "    }\n",
              "\n",
              "    [theme=dark] .colab-df-convert {\n",
              "      background-color: #3B4455;\n",
              "      fill: #D2E3FC;\n",
              "    }\n",
              "\n",
              "    [theme=dark] .colab-df-convert:hover {\n",
              "      background-color: #434B5C;\n",
              "      box-shadow: 0px 1px 3px 1px rgba(0, 0, 0, 0.15);\n",
              "      filter: drop-shadow(0px 1px 2px rgba(0, 0, 0, 0.3));\n",
              "      fill: #FFFFFF;\n",
              "    }\n",
              "  </style>\n",
              "\n",
              "      <script>\n",
              "        const buttonEl =\n",
              "          document.querySelector('#df-2cff0044-484e-4341-a7b0-b6cbf8b5489f button.colab-df-convert');\n",
              "        buttonEl.style.display =\n",
              "          google.colab.kernel.accessAllowed ? 'block' : 'none';\n",
              "\n",
              "        async function convertToInteractive(key) {\n",
              "          const element = document.querySelector('#df-2cff0044-484e-4341-a7b0-b6cbf8b5489f');\n",
              "          const dataTable =\n",
              "            await google.colab.kernel.invokeFunction('convertToInteractive',\n",
              "                                                     [key], {});\n",
              "          if (!dataTable) return;\n",
              "\n",
              "          const docLinkHtml = 'Like what you see? Visit the ' +\n",
              "            '<a target=\"_blank\" href=https://colab.research.google.com/notebooks/data_table.ipynb>data table notebook</a>'\n",
              "            + ' to learn more about interactive tables.';\n",
              "          element.innerHTML = '';\n",
              "          dataTable['output_type'] = 'display_data';\n",
              "          await google.colab.output.renderOutput(dataTable, element);\n",
              "          const docLink = document.createElement('div');\n",
              "          docLink.innerHTML = docLinkHtml;\n",
              "          element.appendChild(docLink);\n",
              "        }\n",
              "      </script>\n",
              "    </div>\n",
              "  </div>\n",
              "  "
            ]
          },
          "metadata": {},
          "execution_count": 317
        }
      ],
      "source": [
        "posto.reset_index(inplace = True)\n",
        "posto"
      ]
    },
    {
      "cell_type": "code",
      "execution_count": null,
      "metadata": {
        "id": "uk79v15dotCn",
        "colab": {
          "base_uri": "https://localhost:8080/",
          "height": 1147
        },
        "outputId": "6f4e885c-7d12-4d8b-9c0c-ebcb2afe763f"
      },
      "outputs": [
        {
          "output_type": "execute_result",
          "data": {
            "text/plain": [
              "    Antes  Depois  Dif  |Dif|\n",
              "4      13      14    1      1\n",
              "20     17      16   -1      1\n",
              "31     17      19    2      2\n",
              "21     12      16    4      4\n",
              "24     14      18    4      4\n",
              "9      22      17   -5      5\n",
              "6      21      13   -8      8\n",
              "29     23      14   -9      9\n",
              "8      10      19    9      9\n",
              "17     15       4  -11     11\n",
              "2      24      12  -12     12\n",
              "22     21       9  -12     12\n",
              "11     15       2  -13     13\n",
              "28     28      11  -17     17\n",
              "1      25       8  -17     17\n",
              "7      29      12  -17     17\n",
              "12     36      15  -21     21\n",
              "27     22       0  -22     22\n",
              "19     41      18  -23     23\n",
              "0      39      16  -23     23\n",
              "16     24       0  -24     24\n",
              "18     40      16  -24     24\n",
              "26     46      17  -29     29\n",
              "13     39      10  -29     29\n",
              "32     31       2  -29     29\n",
              "14     52      20  -32     32\n",
              "10     50      17  -33     33\n",
              "15     48      13  -35     35\n",
              "5      52      16  -36     36\n",
              "30     37       0  -37     37\n",
              "33     49       9  -40     40\n",
              "23     49       9  -40     40\n",
              "34     49       6  -43     43\n",
              "3      50       0  -50     50\n",
              "25     55       4  -51     51"
            ],
            "text/html": [
              "\n",
              "  <div id=\"df-54fec827-c00d-411e-a147-47bb7f2446c0\">\n",
              "    <div class=\"colab-df-container\">\n",
              "      <div>\n",
              "<style scoped>\n",
              "    .dataframe tbody tr th:only-of-type {\n",
              "        vertical-align: middle;\n",
              "    }\n",
              "\n",
              "    .dataframe tbody tr th {\n",
              "        vertical-align: top;\n",
              "    }\n",
              "\n",
              "    .dataframe thead th {\n",
              "        text-align: right;\n",
              "    }\n",
              "</style>\n",
              "<table border=\"1\" class=\"dataframe\">\n",
              "  <thead>\n",
              "    <tr style=\"text-align: right;\">\n",
              "      <th></th>\n",
              "      <th>Antes</th>\n",
              "      <th>Depois</th>\n",
              "      <th>Dif</th>\n",
              "      <th>|Dif|</th>\n",
              "    </tr>\n",
              "  </thead>\n",
              "  <tbody>\n",
              "    <tr>\n",
              "      <th>4</th>\n",
              "      <td>13</td>\n",
              "      <td>14</td>\n",
              "      <td>1</td>\n",
              "      <td>1</td>\n",
              "    </tr>\n",
              "    <tr>\n",
              "      <th>20</th>\n",
              "      <td>17</td>\n",
              "      <td>16</td>\n",
              "      <td>-1</td>\n",
              "      <td>1</td>\n",
              "    </tr>\n",
              "    <tr>\n",
              "      <th>31</th>\n",
              "      <td>17</td>\n",
              "      <td>19</td>\n",
              "      <td>2</td>\n",
              "      <td>2</td>\n",
              "    </tr>\n",
              "    <tr>\n",
              "      <th>21</th>\n",
              "      <td>12</td>\n",
              "      <td>16</td>\n",
              "      <td>4</td>\n",
              "      <td>4</td>\n",
              "    </tr>\n",
              "    <tr>\n",
              "      <th>24</th>\n",
              "      <td>14</td>\n",
              "      <td>18</td>\n",
              "      <td>4</td>\n",
              "      <td>4</td>\n",
              "    </tr>\n",
              "    <tr>\n",
              "      <th>9</th>\n",
              "      <td>22</td>\n",
              "      <td>17</td>\n",
              "      <td>-5</td>\n",
              "      <td>5</td>\n",
              "    </tr>\n",
              "    <tr>\n",
              "      <th>6</th>\n",
              "      <td>21</td>\n",
              "      <td>13</td>\n",
              "      <td>-8</td>\n",
              "      <td>8</td>\n",
              "    </tr>\n",
              "    <tr>\n",
              "      <th>29</th>\n",
              "      <td>23</td>\n",
              "      <td>14</td>\n",
              "      <td>-9</td>\n",
              "      <td>9</td>\n",
              "    </tr>\n",
              "    <tr>\n",
              "      <th>8</th>\n",
              "      <td>10</td>\n",
              "      <td>19</td>\n",
              "      <td>9</td>\n",
              "      <td>9</td>\n",
              "    </tr>\n",
              "    <tr>\n",
              "      <th>17</th>\n",
              "      <td>15</td>\n",
              "      <td>4</td>\n",
              "      <td>-11</td>\n",
              "      <td>11</td>\n",
              "    </tr>\n",
              "    <tr>\n",
              "      <th>2</th>\n",
              "      <td>24</td>\n",
              "      <td>12</td>\n",
              "      <td>-12</td>\n",
              "      <td>12</td>\n",
              "    </tr>\n",
              "    <tr>\n",
              "      <th>22</th>\n",
              "      <td>21</td>\n",
              "      <td>9</td>\n",
              "      <td>-12</td>\n",
              "      <td>12</td>\n",
              "    </tr>\n",
              "    <tr>\n",
              "      <th>11</th>\n",
              "      <td>15</td>\n",
              "      <td>2</td>\n",
              "      <td>-13</td>\n",
              "      <td>13</td>\n",
              "    </tr>\n",
              "    <tr>\n",
              "      <th>28</th>\n",
              "      <td>28</td>\n",
              "      <td>11</td>\n",
              "      <td>-17</td>\n",
              "      <td>17</td>\n",
              "    </tr>\n",
              "    <tr>\n",
              "      <th>1</th>\n",
              "      <td>25</td>\n",
              "      <td>8</td>\n",
              "      <td>-17</td>\n",
              "      <td>17</td>\n",
              "    </tr>\n",
              "    <tr>\n",
              "      <th>7</th>\n",
              "      <td>29</td>\n",
              "      <td>12</td>\n",
              "      <td>-17</td>\n",
              "      <td>17</td>\n",
              "    </tr>\n",
              "    <tr>\n",
              "      <th>12</th>\n",
              "      <td>36</td>\n",
              "      <td>15</td>\n",
              "      <td>-21</td>\n",
              "      <td>21</td>\n",
              "    </tr>\n",
              "    <tr>\n",
              "      <th>27</th>\n",
              "      <td>22</td>\n",
              "      <td>0</td>\n",
              "      <td>-22</td>\n",
              "      <td>22</td>\n",
              "    </tr>\n",
              "    <tr>\n",
              "      <th>19</th>\n",
              "      <td>41</td>\n",
              "      <td>18</td>\n",
              "      <td>-23</td>\n",
              "      <td>23</td>\n",
              "    </tr>\n",
              "    <tr>\n",
              "      <th>0</th>\n",
              "      <td>39</td>\n",
              "      <td>16</td>\n",
              "      <td>-23</td>\n",
              "      <td>23</td>\n",
              "    </tr>\n",
              "    <tr>\n",
              "      <th>16</th>\n",
              "      <td>24</td>\n",
              "      <td>0</td>\n",
              "      <td>-24</td>\n",
              "      <td>24</td>\n",
              "    </tr>\n",
              "    <tr>\n",
              "      <th>18</th>\n",
              "      <td>40</td>\n",
              "      <td>16</td>\n",
              "      <td>-24</td>\n",
              "      <td>24</td>\n",
              "    </tr>\n",
              "    <tr>\n",
              "      <th>26</th>\n",
              "      <td>46</td>\n",
              "      <td>17</td>\n",
              "      <td>-29</td>\n",
              "      <td>29</td>\n",
              "    </tr>\n",
              "    <tr>\n",
              "      <th>13</th>\n",
              "      <td>39</td>\n",
              "      <td>10</td>\n",
              "      <td>-29</td>\n",
              "      <td>29</td>\n",
              "    </tr>\n",
              "    <tr>\n",
              "      <th>32</th>\n",
              "      <td>31</td>\n",
              "      <td>2</td>\n",
              "      <td>-29</td>\n",
              "      <td>29</td>\n",
              "    </tr>\n",
              "    <tr>\n",
              "      <th>14</th>\n",
              "      <td>52</td>\n",
              "      <td>20</td>\n",
              "      <td>-32</td>\n",
              "      <td>32</td>\n",
              "    </tr>\n",
              "    <tr>\n",
              "      <th>10</th>\n",
              "      <td>50</td>\n",
              "      <td>17</td>\n",
              "      <td>-33</td>\n",
              "      <td>33</td>\n",
              "    </tr>\n",
              "    <tr>\n",
              "      <th>15</th>\n",
              "      <td>48</td>\n",
              "      <td>13</td>\n",
              "      <td>-35</td>\n",
              "      <td>35</td>\n",
              "    </tr>\n",
              "    <tr>\n",
              "      <th>5</th>\n",
              "      <td>52</td>\n",
              "      <td>16</td>\n",
              "      <td>-36</td>\n",
              "      <td>36</td>\n",
              "    </tr>\n",
              "    <tr>\n",
              "      <th>30</th>\n",
              "      <td>37</td>\n",
              "      <td>0</td>\n",
              "      <td>-37</td>\n",
              "      <td>37</td>\n",
              "    </tr>\n",
              "    <tr>\n",
              "      <th>33</th>\n",
              "      <td>49</td>\n",
              "      <td>9</td>\n",
              "      <td>-40</td>\n",
              "      <td>40</td>\n",
              "    </tr>\n",
              "    <tr>\n",
              "      <th>23</th>\n",
              "      <td>49</td>\n",
              "      <td>9</td>\n",
              "      <td>-40</td>\n",
              "      <td>40</td>\n",
              "    </tr>\n",
              "    <tr>\n",
              "      <th>34</th>\n",
              "      <td>49</td>\n",
              "      <td>6</td>\n",
              "      <td>-43</td>\n",
              "      <td>43</td>\n",
              "    </tr>\n",
              "    <tr>\n",
              "      <th>3</th>\n",
              "      <td>50</td>\n",
              "      <td>0</td>\n",
              "      <td>-50</td>\n",
              "      <td>50</td>\n",
              "    </tr>\n",
              "    <tr>\n",
              "      <th>25</th>\n",
              "      <td>55</td>\n",
              "      <td>4</td>\n",
              "      <td>-51</td>\n",
              "      <td>51</td>\n",
              "    </tr>\n",
              "  </tbody>\n",
              "</table>\n",
              "</div>\n",
              "      <button class=\"colab-df-convert\" onclick=\"convertToInteractive('df-54fec827-c00d-411e-a147-47bb7f2446c0')\"\n",
              "              title=\"Convert this dataframe to an interactive table.\"\n",
              "              style=\"display:none;\">\n",
              "        \n",
              "  <svg xmlns=\"http://www.w3.org/2000/svg\" height=\"24px\"viewBox=\"0 0 24 24\"\n",
              "       width=\"24px\">\n",
              "    <path d=\"M0 0h24v24H0V0z\" fill=\"none\"/>\n",
              "    <path d=\"M18.56 5.44l.94 2.06.94-2.06 2.06-.94-2.06-.94-.94-2.06-.94 2.06-2.06.94zm-11 1L8.5 8.5l.94-2.06 2.06-.94-2.06-.94L8.5 2.5l-.94 2.06-2.06.94zm10 10l.94 2.06.94-2.06 2.06-.94-2.06-.94-.94-2.06-.94 2.06-2.06.94z\"/><path d=\"M17.41 7.96l-1.37-1.37c-.4-.4-.92-.59-1.43-.59-.52 0-1.04.2-1.43.59L10.3 9.45l-7.72 7.72c-.78.78-.78 2.05 0 2.83L4 21.41c.39.39.9.59 1.41.59.51 0 1.02-.2 1.41-.59l7.78-7.78 2.81-2.81c.8-.78.8-2.07 0-2.86zM5.41 20L4 18.59l7.72-7.72 1.47 1.35L5.41 20z\"/>\n",
              "  </svg>\n",
              "      </button>\n",
              "      \n",
              "  <style>\n",
              "    .colab-df-container {\n",
              "      display:flex;\n",
              "      flex-wrap:wrap;\n",
              "      gap: 12px;\n",
              "    }\n",
              "\n",
              "    .colab-df-convert {\n",
              "      background-color: #E8F0FE;\n",
              "      border: none;\n",
              "      border-radius: 50%;\n",
              "      cursor: pointer;\n",
              "      display: none;\n",
              "      fill: #1967D2;\n",
              "      height: 32px;\n",
              "      padding: 0 0 0 0;\n",
              "      width: 32px;\n",
              "    }\n",
              "\n",
              "    .colab-df-convert:hover {\n",
              "      background-color: #E2EBFA;\n",
              "      box-shadow: 0px 1px 2px rgba(60, 64, 67, 0.3), 0px 1px 3px 1px rgba(60, 64, 67, 0.15);\n",
              "      fill: #174EA6;\n",
              "    }\n",
              "\n",
              "    [theme=dark] .colab-df-convert {\n",
              "      background-color: #3B4455;\n",
              "      fill: #D2E3FC;\n",
              "    }\n",
              "\n",
              "    [theme=dark] .colab-df-convert:hover {\n",
              "      background-color: #434B5C;\n",
              "      box-shadow: 0px 1px 3px 1px rgba(0, 0, 0, 0.15);\n",
              "      filter: drop-shadow(0px 1px 2px rgba(0, 0, 0, 0.3));\n",
              "      fill: #FFFFFF;\n",
              "    }\n",
              "  </style>\n",
              "\n",
              "      <script>\n",
              "        const buttonEl =\n",
              "          document.querySelector('#df-54fec827-c00d-411e-a147-47bb7f2446c0 button.colab-df-convert');\n",
              "        buttonEl.style.display =\n",
              "          google.colab.kernel.accessAllowed ? 'block' : 'none';\n",
              "\n",
              "        async function convertToInteractive(key) {\n",
              "          const element = document.querySelector('#df-54fec827-c00d-411e-a147-47bb7f2446c0');\n",
              "          const dataTable =\n",
              "            await google.colab.kernel.invokeFunction('convertToInteractive',\n",
              "                                                     [key], {});\n",
              "          if (!dataTable) return;\n",
              "\n",
              "          const docLinkHtml = 'Like what you see? Visit the ' +\n",
              "            '<a target=\"_blank\" href=https://colab.research.google.com/notebooks/data_table.ipynb>data table notebook</a>'\n",
              "            + ' to learn more about interactive tables.';\n",
              "          element.innerHTML = '';\n",
              "          dataTable['output_type'] = 'display_data';\n",
              "          await google.colab.output.renderOutput(dataTable, element);\n",
              "          const docLink = document.createElement('div');\n",
              "          docLink.innerHTML = docLinkHtml;\n",
              "          element.appendChild(docLink);\n",
              "        }\n",
              "      </script>\n",
              "    </div>\n",
              "  </div>\n",
              "  "
            ]
          },
          "metadata": {},
          "execution_count": 318
        }
      ],
      "source": [
        "fumo.drop(['Posto'], axis = 1, inplace = True )\n",
        "fumo"
      ]
    },
    {
      "cell_type": "code",
      "execution_count": null,
      "metadata": {
        "id": "qCdc7pGgos_T",
        "colab": {
          "base_uri": "https://localhost:8080/",
          "height": 1147
        },
        "outputId": "be08ca42-96da-4590-b416-13e4f1832830"
      },
      "outputs": [
        {
          "output_type": "execute_result",
          "data": {
            "text/plain": [
              "    Antes  Depois  Dif  |Dif|  Posto\n",
              "0      13      14    1      1    1.5\n",
              "1      17      16   -1      1    1.5\n",
              "2      17      19    2      2    3.0\n",
              "3      12      16    4      4    4.5\n",
              "4      14      18    4      4    4.5\n",
              "5      22      17   -5      5    6.0\n",
              "6      21      13   -8      8    7.0\n",
              "7      23      14   -9      9    8.5\n",
              "8      10      19    9      9    8.5\n",
              "9      15       4  -11     11   10.0\n",
              "10     24      12  -12     12   11.5\n",
              "11     21       9  -12     12   11.5\n",
              "12     15       2  -13     13   13.0\n",
              "13     28      11  -17     17   15.0\n",
              "14     25       8  -17     17   15.0\n",
              "15     29      12  -17     17   15.0\n",
              "16     36      15  -21     21   17.0\n",
              "17     22       0  -22     22   18.0\n",
              "18     41      18  -23     23   19.5\n",
              "19     39      16  -23     23   19.5\n",
              "20     24       0  -24     24   21.5\n",
              "21     40      16  -24     24   21.5\n",
              "22     46      17  -29     29   24.0\n",
              "23     39      10  -29     29   24.0\n",
              "24     31       2  -29     29   24.0\n",
              "25     52      20  -32     32   26.0\n",
              "26     50      17  -33     33   27.0\n",
              "27     48      13  -35     35   28.0\n",
              "28     52      16  -36     36   29.0\n",
              "29     37       0  -37     37   30.0\n",
              "30     49       9  -40     40   31.5\n",
              "31     49       9  -40     40   31.5\n",
              "32     49       6  -43     43   33.0\n",
              "33     50       0  -50     50   34.0\n",
              "34     55       4  -51     51   35.0"
            ],
            "text/html": [
              "\n",
              "  <div id=\"df-f0a5355d-b26e-4412-ac6a-6936cc20b51a\">\n",
              "    <div class=\"colab-df-container\">\n",
              "      <div>\n",
              "<style scoped>\n",
              "    .dataframe tbody tr th:only-of-type {\n",
              "        vertical-align: middle;\n",
              "    }\n",
              "\n",
              "    .dataframe tbody tr th {\n",
              "        vertical-align: top;\n",
              "    }\n",
              "\n",
              "    .dataframe thead th {\n",
              "        text-align: right;\n",
              "    }\n",
              "</style>\n",
              "<table border=\"1\" class=\"dataframe\">\n",
              "  <thead>\n",
              "    <tr style=\"text-align: right;\">\n",
              "      <th></th>\n",
              "      <th>Antes</th>\n",
              "      <th>Depois</th>\n",
              "      <th>Dif</th>\n",
              "      <th>|Dif|</th>\n",
              "      <th>Posto</th>\n",
              "    </tr>\n",
              "  </thead>\n",
              "  <tbody>\n",
              "    <tr>\n",
              "      <th>0</th>\n",
              "      <td>13</td>\n",
              "      <td>14</td>\n",
              "      <td>1</td>\n",
              "      <td>1</td>\n",
              "      <td>1.5</td>\n",
              "    </tr>\n",
              "    <tr>\n",
              "      <th>1</th>\n",
              "      <td>17</td>\n",
              "      <td>16</td>\n",
              "      <td>-1</td>\n",
              "      <td>1</td>\n",
              "      <td>1.5</td>\n",
              "    </tr>\n",
              "    <tr>\n",
              "      <th>2</th>\n",
              "      <td>17</td>\n",
              "      <td>19</td>\n",
              "      <td>2</td>\n",
              "      <td>2</td>\n",
              "      <td>3.0</td>\n",
              "    </tr>\n",
              "    <tr>\n",
              "      <th>3</th>\n",
              "      <td>12</td>\n",
              "      <td>16</td>\n",
              "      <td>4</td>\n",
              "      <td>4</td>\n",
              "      <td>4.5</td>\n",
              "    </tr>\n",
              "    <tr>\n",
              "      <th>4</th>\n",
              "      <td>14</td>\n",
              "      <td>18</td>\n",
              "      <td>4</td>\n",
              "      <td>4</td>\n",
              "      <td>4.5</td>\n",
              "    </tr>\n",
              "    <tr>\n",
              "      <th>5</th>\n",
              "      <td>22</td>\n",
              "      <td>17</td>\n",
              "      <td>-5</td>\n",
              "      <td>5</td>\n",
              "      <td>6.0</td>\n",
              "    </tr>\n",
              "    <tr>\n",
              "      <th>6</th>\n",
              "      <td>21</td>\n",
              "      <td>13</td>\n",
              "      <td>-8</td>\n",
              "      <td>8</td>\n",
              "      <td>7.0</td>\n",
              "    </tr>\n",
              "    <tr>\n",
              "      <th>7</th>\n",
              "      <td>23</td>\n",
              "      <td>14</td>\n",
              "      <td>-9</td>\n",
              "      <td>9</td>\n",
              "      <td>8.5</td>\n",
              "    </tr>\n",
              "    <tr>\n",
              "      <th>8</th>\n",
              "      <td>10</td>\n",
              "      <td>19</td>\n",
              "      <td>9</td>\n",
              "      <td>9</td>\n",
              "      <td>8.5</td>\n",
              "    </tr>\n",
              "    <tr>\n",
              "      <th>9</th>\n",
              "      <td>15</td>\n",
              "      <td>4</td>\n",
              "      <td>-11</td>\n",
              "      <td>11</td>\n",
              "      <td>10.0</td>\n",
              "    </tr>\n",
              "    <tr>\n",
              "      <th>10</th>\n",
              "      <td>24</td>\n",
              "      <td>12</td>\n",
              "      <td>-12</td>\n",
              "      <td>12</td>\n",
              "      <td>11.5</td>\n",
              "    </tr>\n",
              "    <tr>\n",
              "      <th>11</th>\n",
              "      <td>21</td>\n",
              "      <td>9</td>\n",
              "      <td>-12</td>\n",
              "      <td>12</td>\n",
              "      <td>11.5</td>\n",
              "    </tr>\n",
              "    <tr>\n",
              "      <th>12</th>\n",
              "      <td>15</td>\n",
              "      <td>2</td>\n",
              "      <td>-13</td>\n",
              "      <td>13</td>\n",
              "      <td>13.0</td>\n",
              "    </tr>\n",
              "    <tr>\n",
              "      <th>13</th>\n",
              "      <td>28</td>\n",
              "      <td>11</td>\n",
              "      <td>-17</td>\n",
              "      <td>17</td>\n",
              "      <td>15.0</td>\n",
              "    </tr>\n",
              "    <tr>\n",
              "      <th>14</th>\n",
              "      <td>25</td>\n",
              "      <td>8</td>\n",
              "      <td>-17</td>\n",
              "      <td>17</td>\n",
              "      <td>15.0</td>\n",
              "    </tr>\n",
              "    <tr>\n",
              "      <th>15</th>\n",
              "      <td>29</td>\n",
              "      <td>12</td>\n",
              "      <td>-17</td>\n",
              "      <td>17</td>\n",
              "      <td>15.0</td>\n",
              "    </tr>\n",
              "    <tr>\n",
              "      <th>16</th>\n",
              "      <td>36</td>\n",
              "      <td>15</td>\n",
              "      <td>-21</td>\n",
              "      <td>21</td>\n",
              "      <td>17.0</td>\n",
              "    </tr>\n",
              "    <tr>\n",
              "      <th>17</th>\n",
              "      <td>22</td>\n",
              "      <td>0</td>\n",
              "      <td>-22</td>\n",
              "      <td>22</td>\n",
              "      <td>18.0</td>\n",
              "    </tr>\n",
              "    <tr>\n",
              "      <th>18</th>\n",
              "      <td>41</td>\n",
              "      <td>18</td>\n",
              "      <td>-23</td>\n",
              "      <td>23</td>\n",
              "      <td>19.5</td>\n",
              "    </tr>\n",
              "    <tr>\n",
              "      <th>19</th>\n",
              "      <td>39</td>\n",
              "      <td>16</td>\n",
              "      <td>-23</td>\n",
              "      <td>23</td>\n",
              "      <td>19.5</td>\n",
              "    </tr>\n",
              "    <tr>\n",
              "      <th>20</th>\n",
              "      <td>24</td>\n",
              "      <td>0</td>\n",
              "      <td>-24</td>\n",
              "      <td>24</td>\n",
              "      <td>21.5</td>\n",
              "    </tr>\n",
              "    <tr>\n",
              "      <th>21</th>\n",
              "      <td>40</td>\n",
              "      <td>16</td>\n",
              "      <td>-24</td>\n",
              "      <td>24</td>\n",
              "      <td>21.5</td>\n",
              "    </tr>\n",
              "    <tr>\n",
              "      <th>22</th>\n",
              "      <td>46</td>\n",
              "      <td>17</td>\n",
              "      <td>-29</td>\n",
              "      <td>29</td>\n",
              "      <td>24.0</td>\n",
              "    </tr>\n",
              "    <tr>\n",
              "      <th>23</th>\n",
              "      <td>39</td>\n",
              "      <td>10</td>\n",
              "      <td>-29</td>\n",
              "      <td>29</td>\n",
              "      <td>24.0</td>\n",
              "    </tr>\n",
              "    <tr>\n",
              "      <th>24</th>\n",
              "      <td>31</td>\n",
              "      <td>2</td>\n",
              "      <td>-29</td>\n",
              "      <td>29</td>\n",
              "      <td>24.0</td>\n",
              "    </tr>\n",
              "    <tr>\n",
              "      <th>25</th>\n",
              "      <td>52</td>\n",
              "      <td>20</td>\n",
              "      <td>-32</td>\n",
              "      <td>32</td>\n",
              "      <td>26.0</td>\n",
              "    </tr>\n",
              "    <tr>\n",
              "      <th>26</th>\n",
              "      <td>50</td>\n",
              "      <td>17</td>\n",
              "      <td>-33</td>\n",
              "      <td>33</td>\n",
              "      <td>27.0</td>\n",
              "    </tr>\n",
              "    <tr>\n",
              "      <th>27</th>\n",
              "      <td>48</td>\n",
              "      <td>13</td>\n",
              "      <td>-35</td>\n",
              "      <td>35</td>\n",
              "      <td>28.0</td>\n",
              "    </tr>\n",
              "    <tr>\n",
              "      <th>28</th>\n",
              "      <td>52</td>\n",
              "      <td>16</td>\n",
              "      <td>-36</td>\n",
              "      <td>36</td>\n",
              "      <td>29.0</td>\n",
              "    </tr>\n",
              "    <tr>\n",
              "      <th>29</th>\n",
              "      <td>37</td>\n",
              "      <td>0</td>\n",
              "      <td>-37</td>\n",
              "      <td>37</td>\n",
              "      <td>30.0</td>\n",
              "    </tr>\n",
              "    <tr>\n",
              "      <th>30</th>\n",
              "      <td>49</td>\n",
              "      <td>9</td>\n",
              "      <td>-40</td>\n",
              "      <td>40</td>\n",
              "      <td>31.5</td>\n",
              "    </tr>\n",
              "    <tr>\n",
              "      <th>31</th>\n",
              "      <td>49</td>\n",
              "      <td>9</td>\n",
              "      <td>-40</td>\n",
              "      <td>40</td>\n",
              "      <td>31.5</td>\n",
              "    </tr>\n",
              "    <tr>\n",
              "      <th>32</th>\n",
              "      <td>49</td>\n",
              "      <td>6</td>\n",
              "      <td>-43</td>\n",
              "      <td>43</td>\n",
              "      <td>33.0</td>\n",
              "    </tr>\n",
              "    <tr>\n",
              "      <th>33</th>\n",
              "      <td>50</td>\n",
              "      <td>0</td>\n",
              "      <td>-50</td>\n",
              "      <td>50</td>\n",
              "      <td>34.0</td>\n",
              "    </tr>\n",
              "    <tr>\n",
              "      <th>34</th>\n",
              "      <td>55</td>\n",
              "      <td>4</td>\n",
              "      <td>-51</td>\n",
              "      <td>51</td>\n",
              "      <td>35.0</td>\n",
              "    </tr>\n",
              "  </tbody>\n",
              "</table>\n",
              "</div>\n",
              "      <button class=\"colab-df-convert\" onclick=\"convertToInteractive('df-f0a5355d-b26e-4412-ac6a-6936cc20b51a')\"\n",
              "              title=\"Convert this dataframe to an interactive table.\"\n",
              "              style=\"display:none;\">\n",
              "        \n",
              "  <svg xmlns=\"http://www.w3.org/2000/svg\" height=\"24px\"viewBox=\"0 0 24 24\"\n",
              "       width=\"24px\">\n",
              "    <path d=\"M0 0h24v24H0V0z\" fill=\"none\"/>\n",
              "    <path d=\"M18.56 5.44l.94 2.06.94-2.06 2.06-.94-2.06-.94-.94-2.06-.94 2.06-2.06.94zm-11 1L8.5 8.5l.94-2.06 2.06-.94-2.06-.94L8.5 2.5l-.94 2.06-2.06.94zm10 10l.94 2.06.94-2.06 2.06-.94-2.06-.94-.94-2.06-.94 2.06-2.06.94z\"/><path d=\"M17.41 7.96l-1.37-1.37c-.4-.4-.92-.59-1.43-.59-.52 0-1.04.2-1.43.59L10.3 9.45l-7.72 7.72c-.78.78-.78 2.05 0 2.83L4 21.41c.39.39.9.59 1.41.59.51 0 1.02-.2 1.41-.59l7.78-7.78 2.81-2.81c.8-.78.8-2.07 0-2.86zM5.41 20L4 18.59l7.72-7.72 1.47 1.35L5.41 20z\"/>\n",
              "  </svg>\n",
              "      </button>\n",
              "      \n",
              "  <style>\n",
              "    .colab-df-container {\n",
              "      display:flex;\n",
              "      flex-wrap:wrap;\n",
              "      gap: 12px;\n",
              "    }\n",
              "\n",
              "    .colab-df-convert {\n",
              "      background-color: #E8F0FE;\n",
              "      border: none;\n",
              "      border-radius: 50%;\n",
              "      cursor: pointer;\n",
              "      display: none;\n",
              "      fill: #1967D2;\n",
              "      height: 32px;\n",
              "      padding: 0 0 0 0;\n",
              "      width: 32px;\n",
              "    }\n",
              "\n",
              "    .colab-df-convert:hover {\n",
              "      background-color: #E2EBFA;\n",
              "      box-shadow: 0px 1px 2px rgba(60, 64, 67, 0.3), 0px 1px 3px 1px rgba(60, 64, 67, 0.15);\n",
              "      fill: #174EA6;\n",
              "    }\n",
              "\n",
              "    [theme=dark] .colab-df-convert {\n",
              "      background-color: #3B4455;\n",
              "      fill: #D2E3FC;\n",
              "    }\n",
              "\n",
              "    [theme=dark] .colab-df-convert:hover {\n",
              "      background-color: #434B5C;\n",
              "      box-shadow: 0px 1px 3px 1px rgba(0, 0, 0, 0.15);\n",
              "      filter: drop-shadow(0px 1px 2px rgba(0, 0, 0, 0.3));\n",
              "      fill: #FFFFFF;\n",
              "    }\n",
              "  </style>\n",
              "\n",
              "      <script>\n",
              "        const buttonEl =\n",
              "          document.querySelector('#df-f0a5355d-b26e-4412-ac6a-6936cc20b51a button.colab-df-convert');\n",
              "        buttonEl.style.display =\n",
              "          google.colab.kernel.accessAllowed ? 'block' : 'none';\n",
              "\n",
              "        async function convertToInteractive(key) {\n",
              "          const element = document.querySelector('#df-f0a5355d-b26e-4412-ac6a-6936cc20b51a');\n",
              "          const dataTable =\n",
              "            await google.colab.kernel.invokeFunction('convertToInteractive',\n",
              "                                                     [key], {});\n",
              "          if (!dataTable) return;\n",
              "\n",
              "          const docLinkHtml = 'Like what you see? Visit the ' +\n",
              "            '<a target=\"_blank\" href=https://colab.research.google.com/notebooks/data_table.ipynb>data table notebook</a>'\n",
              "            + ' to learn more about interactive tables.';\n",
              "          element.innerHTML = '';\n",
              "          dataTable['output_type'] = 'display_data';\n",
              "          await google.colab.output.renderOutput(dataTable, element);\n",
              "          const docLink = document.createElement('div');\n",
              "          docLink.innerHTML = docLinkHtml;\n",
              "          element.appendChild(docLink);\n",
              "        }\n",
              "      </script>\n",
              "    </div>\n",
              "  </div>\n",
              "  "
            ]
          },
          "metadata": {},
          "execution_count": 319
        }
      ],
      "source": [
        "fumo = fumo.merge(posto, left_on ='|Dif|', right_on='|Dif|', how = 'left')\n",
        "fumo"
      ]
    },
    {
      "cell_type": "code",
      "execution_count": null,
      "metadata": {
        "id": "R2Nyk4E_os77",
        "colab": {
          "base_uri": "https://localhost:8080/",
          "height": 1147
        },
        "outputId": "02ea437f-2d41-4f37-f308-4dfb1e2cb0a1"
      },
      "outputs": [
        {
          "output_type": "execute_result",
          "data": {
            "text/plain": [
              "    Antes  Depois  Dif  |Dif|  Posto  Posto (+)\n",
              "0      13      14    1      1    1.5        1.5\n",
              "1      17      16   -1      1    1.5        0.0\n",
              "2      17      19    2      2    3.0        3.0\n",
              "3      12      16    4      4    4.5        4.5\n",
              "4      14      18    4      4    4.5        4.5\n",
              "5      22      17   -5      5    6.0        0.0\n",
              "6      21      13   -8      8    7.0        0.0\n",
              "7      23      14   -9      9    8.5        0.0\n",
              "8      10      19    9      9    8.5        8.5\n",
              "9      15       4  -11     11   10.0        0.0\n",
              "10     24      12  -12     12   11.5        0.0\n",
              "11     21       9  -12     12   11.5        0.0\n",
              "12     15       2  -13     13   13.0        0.0\n",
              "13     28      11  -17     17   15.0        0.0\n",
              "14     25       8  -17     17   15.0        0.0\n",
              "15     29      12  -17     17   15.0        0.0\n",
              "16     36      15  -21     21   17.0        0.0\n",
              "17     22       0  -22     22   18.0        0.0\n",
              "18     41      18  -23     23   19.5        0.0\n",
              "19     39      16  -23     23   19.5        0.0\n",
              "20     24       0  -24     24   21.5        0.0\n",
              "21     40      16  -24     24   21.5        0.0\n",
              "22     46      17  -29     29   24.0        0.0\n",
              "23     39      10  -29     29   24.0        0.0\n",
              "24     31       2  -29     29   24.0        0.0\n",
              "25     52      20  -32     32   26.0        0.0\n",
              "26     50      17  -33     33   27.0        0.0\n",
              "27     48      13  -35     35   28.0        0.0\n",
              "28     52      16  -36     36   29.0        0.0\n",
              "29     37       0  -37     37   30.0        0.0\n",
              "30     49       9  -40     40   31.5        0.0\n",
              "31     49       9  -40     40   31.5        0.0\n",
              "32     49       6  -43     43   33.0        0.0\n",
              "33     50       0  -50     50   34.0        0.0\n",
              "34     55       4  -51     51   35.0        0.0"
            ],
            "text/html": [
              "\n",
              "  <div id=\"df-bcf503ce-5292-4b86-9d78-86157284666c\">\n",
              "    <div class=\"colab-df-container\">\n",
              "      <div>\n",
              "<style scoped>\n",
              "    .dataframe tbody tr th:only-of-type {\n",
              "        vertical-align: middle;\n",
              "    }\n",
              "\n",
              "    .dataframe tbody tr th {\n",
              "        vertical-align: top;\n",
              "    }\n",
              "\n",
              "    .dataframe thead th {\n",
              "        text-align: right;\n",
              "    }\n",
              "</style>\n",
              "<table border=\"1\" class=\"dataframe\">\n",
              "  <thead>\n",
              "    <tr style=\"text-align: right;\">\n",
              "      <th></th>\n",
              "      <th>Antes</th>\n",
              "      <th>Depois</th>\n",
              "      <th>Dif</th>\n",
              "      <th>|Dif|</th>\n",
              "      <th>Posto</th>\n",
              "      <th>Posto (+)</th>\n",
              "    </tr>\n",
              "  </thead>\n",
              "  <tbody>\n",
              "    <tr>\n",
              "      <th>0</th>\n",
              "      <td>13</td>\n",
              "      <td>14</td>\n",
              "      <td>1</td>\n",
              "      <td>1</td>\n",
              "      <td>1.5</td>\n",
              "      <td>1.5</td>\n",
              "    </tr>\n",
              "    <tr>\n",
              "      <th>1</th>\n",
              "      <td>17</td>\n",
              "      <td>16</td>\n",
              "      <td>-1</td>\n",
              "      <td>1</td>\n",
              "      <td>1.5</td>\n",
              "      <td>0.0</td>\n",
              "    </tr>\n",
              "    <tr>\n",
              "      <th>2</th>\n",
              "      <td>17</td>\n",
              "      <td>19</td>\n",
              "      <td>2</td>\n",
              "      <td>2</td>\n",
              "      <td>3.0</td>\n",
              "      <td>3.0</td>\n",
              "    </tr>\n",
              "    <tr>\n",
              "      <th>3</th>\n",
              "      <td>12</td>\n",
              "      <td>16</td>\n",
              "      <td>4</td>\n",
              "      <td>4</td>\n",
              "      <td>4.5</td>\n",
              "      <td>4.5</td>\n",
              "    </tr>\n",
              "    <tr>\n",
              "      <th>4</th>\n",
              "      <td>14</td>\n",
              "      <td>18</td>\n",
              "      <td>4</td>\n",
              "      <td>4</td>\n",
              "      <td>4.5</td>\n",
              "      <td>4.5</td>\n",
              "    </tr>\n",
              "    <tr>\n",
              "      <th>5</th>\n",
              "      <td>22</td>\n",
              "      <td>17</td>\n",
              "      <td>-5</td>\n",
              "      <td>5</td>\n",
              "      <td>6.0</td>\n",
              "      <td>0.0</td>\n",
              "    </tr>\n",
              "    <tr>\n",
              "      <th>6</th>\n",
              "      <td>21</td>\n",
              "      <td>13</td>\n",
              "      <td>-8</td>\n",
              "      <td>8</td>\n",
              "      <td>7.0</td>\n",
              "      <td>0.0</td>\n",
              "    </tr>\n",
              "    <tr>\n",
              "      <th>7</th>\n",
              "      <td>23</td>\n",
              "      <td>14</td>\n",
              "      <td>-9</td>\n",
              "      <td>9</td>\n",
              "      <td>8.5</td>\n",
              "      <td>0.0</td>\n",
              "    </tr>\n",
              "    <tr>\n",
              "      <th>8</th>\n",
              "      <td>10</td>\n",
              "      <td>19</td>\n",
              "      <td>9</td>\n",
              "      <td>9</td>\n",
              "      <td>8.5</td>\n",
              "      <td>8.5</td>\n",
              "    </tr>\n",
              "    <tr>\n",
              "      <th>9</th>\n",
              "      <td>15</td>\n",
              "      <td>4</td>\n",
              "      <td>-11</td>\n",
              "      <td>11</td>\n",
              "      <td>10.0</td>\n",
              "      <td>0.0</td>\n",
              "    </tr>\n",
              "    <tr>\n",
              "      <th>10</th>\n",
              "      <td>24</td>\n",
              "      <td>12</td>\n",
              "      <td>-12</td>\n",
              "      <td>12</td>\n",
              "      <td>11.5</td>\n",
              "      <td>0.0</td>\n",
              "    </tr>\n",
              "    <tr>\n",
              "      <th>11</th>\n",
              "      <td>21</td>\n",
              "      <td>9</td>\n",
              "      <td>-12</td>\n",
              "      <td>12</td>\n",
              "      <td>11.5</td>\n",
              "      <td>0.0</td>\n",
              "    </tr>\n",
              "    <tr>\n",
              "      <th>12</th>\n",
              "      <td>15</td>\n",
              "      <td>2</td>\n",
              "      <td>-13</td>\n",
              "      <td>13</td>\n",
              "      <td>13.0</td>\n",
              "      <td>0.0</td>\n",
              "    </tr>\n",
              "    <tr>\n",
              "      <th>13</th>\n",
              "      <td>28</td>\n",
              "      <td>11</td>\n",
              "      <td>-17</td>\n",
              "      <td>17</td>\n",
              "      <td>15.0</td>\n",
              "      <td>0.0</td>\n",
              "    </tr>\n",
              "    <tr>\n",
              "      <th>14</th>\n",
              "      <td>25</td>\n",
              "      <td>8</td>\n",
              "      <td>-17</td>\n",
              "      <td>17</td>\n",
              "      <td>15.0</td>\n",
              "      <td>0.0</td>\n",
              "    </tr>\n",
              "    <tr>\n",
              "      <th>15</th>\n",
              "      <td>29</td>\n",
              "      <td>12</td>\n",
              "      <td>-17</td>\n",
              "      <td>17</td>\n",
              "      <td>15.0</td>\n",
              "      <td>0.0</td>\n",
              "    </tr>\n",
              "    <tr>\n",
              "      <th>16</th>\n",
              "      <td>36</td>\n",
              "      <td>15</td>\n",
              "      <td>-21</td>\n",
              "      <td>21</td>\n",
              "      <td>17.0</td>\n",
              "      <td>0.0</td>\n",
              "    </tr>\n",
              "    <tr>\n",
              "      <th>17</th>\n",
              "      <td>22</td>\n",
              "      <td>0</td>\n",
              "      <td>-22</td>\n",
              "      <td>22</td>\n",
              "      <td>18.0</td>\n",
              "      <td>0.0</td>\n",
              "    </tr>\n",
              "    <tr>\n",
              "      <th>18</th>\n",
              "      <td>41</td>\n",
              "      <td>18</td>\n",
              "      <td>-23</td>\n",
              "      <td>23</td>\n",
              "      <td>19.5</td>\n",
              "      <td>0.0</td>\n",
              "    </tr>\n",
              "    <tr>\n",
              "      <th>19</th>\n",
              "      <td>39</td>\n",
              "      <td>16</td>\n",
              "      <td>-23</td>\n",
              "      <td>23</td>\n",
              "      <td>19.5</td>\n",
              "      <td>0.0</td>\n",
              "    </tr>\n",
              "    <tr>\n",
              "      <th>20</th>\n",
              "      <td>24</td>\n",
              "      <td>0</td>\n",
              "      <td>-24</td>\n",
              "      <td>24</td>\n",
              "      <td>21.5</td>\n",
              "      <td>0.0</td>\n",
              "    </tr>\n",
              "    <tr>\n",
              "      <th>21</th>\n",
              "      <td>40</td>\n",
              "      <td>16</td>\n",
              "      <td>-24</td>\n",
              "      <td>24</td>\n",
              "      <td>21.5</td>\n",
              "      <td>0.0</td>\n",
              "    </tr>\n",
              "    <tr>\n",
              "      <th>22</th>\n",
              "      <td>46</td>\n",
              "      <td>17</td>\n",
              "      <td>-29</td>\n",
              "      <td>29</td>\n",
              "      <td>24.0</td>\n",
              "      <td>0.0</td>\n",
              "    </tr>\n",
              "    <tr>\n",
              "      <th>23</th>\n",
              "      <td>39</td>\n",
              "      <td>10</td>\n",
              "      <td>-29</td>\n",
              "      <td>29</td>\n",
              "      <td>24.0</td>\n",
              "      <td>0.0</td>\n",
              "    </tr>\n",
              "    <tr>\n",
              "      <th>24</th>\n",
              "      <td>31</td>\n",
              "      <td>2</td>\n",
              "      <td>-29</td>\n",
              "      <td>29</td>\n",
              "      <td>24.0</td>\n",
              "      <td>0.0</td>\n",
              "    </tr>\n",
              "    <tr>\n",
              "      <th>25</th>\n",
              "      <td>52</td>\n",
              "      <td>20</td>\n",
              "      <td>-32</td>\n",
              "      <td>32</td>\n",
              "      <td>26.0</td>\n",
              "      <td>0.0</td>\n",
              "    </tr>\n",
              "    <tr>\n",
              "      <th>26</th>\n",
              "      <td>50</td>\n",
              "      <td>17</td>\n",
              "      <td>-33</td>\n",
              "      <td>33</td>\n",
              "      <td>27.0</td>\n",
              "      <td>0.0</td>\n",
              "    </tr>\n",
              "    <tr>\n",
              "      <th>27</th>\n",
              "      <td>48</td>\n",
              "      <td>13</td>\n",
              "      <td>-35</td>\n",
              "      <td>35</td>\n",
              "      <td>28.0</td>\n",
              "      <td>0.0</td>\n",
              "    </tr>\n",
              "    <tr>\n",
              "      <th>28</th>\n",
              "      <td>52</td>\n",
              "      <td>16</td>\n",
              "      <td>-36</td>\n",
              "      <td>36</td>\n",
              "      <td>29.0</td>\n",
              "      <td>0.0</td>\n",
              "    </tr>\n",
              "    <tr>\n",
              "      <th>29</th>\n",
              "      <td>37</td>\n",
              "      <td>0</td>\n",
              "      <td>-37</td>\n",
              "      <td>37</td>\n",
              "      <td>30.0</td>\n",
              "      <td>0.0</td>\n",
              "    </tr>\n",
              "    <tr>\n",
              "      <th>30</th>\n",
              "      <td>49</td>\n",
              "      <td>9</td>\n",
              "      <td>-40</td>\n",
              "      <td>40</td>\n",
              "      <td>31.5</td>\n",
              "      <td>0.0</td>\n",
              "    </tr>\n",
              "    <tr>\n",
              "      <th>31</th>\n",
              "      <td>49</td>\n",
              "      <td>9</td>\n",
              "      <td>-40</td>\n",
              "      <td>40</td>\n",
              "      <td>31.5</td>\n",
              "      <td>0.0</td>\n",
              "    </tr>\n",
              "    <tr>\n",
              "      <th>32</th>\n",
              "      <td>49</td>\n",
              "      <td>6</td>\n",
              "      <td>-43</td>\n",
              "      <td>43</td>\n",
              "      <td>33.0</td>\n",
              "      <td>0.0</td>\n",
              "    </tr>\n",
              "    <tr>\n",
              "      <th>33</th>\n",
              "      <td>50</td>\n",
              "      <td>0</td>\n",
              "      <td>-50</td>\n",
              "      <td>50</td>\n",
              "      <td>34.0</td>\n",
              "      <td>0.0</td>\n",
              "    </tr>\n",
              "    <tr>\n",
              "      <th>34</th>\n",
              "      <td>55</td>\n",
              "      <td>4</td>\n",
              "      <td>-51</td>\n",
              "      <td>51</td>\n",
              "      <td>35.0</td>\n",
              "      <td>0.0</td>\n",
              "    </tr>\n",
              "  </tbody>\n",
              "</table>\n",
              "</div>\n",
              "      <button class=\"colab-df-convert\" onclick=\"convertToInteractive('df-bcf503ce-5292-4b86-9d78-86157284666c')\"\n",
              "              title=\"Convert this dataframe to an interactive table.\"\n",
              "              style=\"display:none;\">\n",
              "        \n",
              "  <svg xmlns=\"http://www.w3.org/2000/svg\" height=\"24px\"viewBox=\"0 0 24 24\"\n",
              "       width=\"24px\">\n",
              "    <path d=\"M0 0h24v24H0V0z\" fill=\"none\"/>\n",
              "    <path d=\"M18.56 5.44l.94 2.06.94-2.06 2.06-.94-2.06-.94-.94-2.06-.94 2.06-2.06.94zm-11 1L8.5 8.5l.94-2.06 2.06-.94-2.06-.94L8.5 2.5l-.94 2.06-2.06.94zm10 10l.94 2.06.94-2.06 2.06-.94-2.06-.94-.94-2.06-.94 2.06-2.06.94z\"/><path d=\"M17.41 7.96l-1.37-1.37c-.4-.4-.92-.59-1.43-.59-.52 0-1.04.2-1.43.59L10.3 9.45l-7.72 7.72c-.78.78-.78 2.05 0 2.83L4 21.41c.39.39.9.59 1.41.59.51 0 1.02-.2 1.41-.59l7.78-7.78 2.81-2.81c.8-.78.8-2.07 0-2.86zM5.41 20L4 18.59l7.72-7.72 1.47 1.35L5.41 20z\"/>\n",
              "  </svg>\n",
              "      </button>\n",
              "      \n",
              "  <style>\n",
              "    .colab-df-container {\n",
              "      display:flex;\n",
              "      flex-wrap:wrap;\n",
              "      gap: 12px;\n",
              "    }\n",
              "\n",
              "    .colab-df-convert {\n",
              "      background-color: #E8F0FE;\n",
              "      border: none;\n",
              "      border-radius: 50%;\n",
              "      cursor: pointer;\n",
              "      display: none;\n",
              "      fill: #1967D2;\n",
              "      height: 32px;\n",
              "      padding: 0 0 0 0;\n",
              "      width: 32px;\n",
              "    }\n",
              "\n",
              "    .colab-df-convert:hover {\n",
              "      background-color: #E2EBFA;\n",
              "      box-shadow: 0px 1px 2px rgba(60, 64, 67, 0.3), 0px 1px 3px 1px rgba(60, 64, 67, 0.15);\n",
              "      fill: #174EA6;\n",
              "    }\n",
              "\n",
              "    [theme=dark] .colab-df-convert {\n",
              "      background-color: #3B4455;\n",
              "      fill: #D2E3FC;\n",
              "    }\n",
              "\n",
              "    [theme=dark] .colab-df-convert:hover {\n",
              "      background-color: #434B5C;\n",
              "      box-shadow: 0px 1px 3px 1px rgba(0, 0, 0, 0.15);\n",
              "      filter: drop-shadow(0px 1px 2px rgba(0, 0, 0, 0.3));\n",
              "      fill: #FFFFFF;\n",
              "    }\n",
              "  </style>\n",
              "\n",
              "      <script>\n",
              "        const buttonEl =\n",
              "          document.querySelector('#df-bcf503ce-5292-4b86-9d78-86157284666c button.colab-df-convert');\n",
              "        buttonEl.style.display =\n",
              "          google.colab.kernel.accessAllowed ? 'block' : 'none';\n",
              "\n",
              "        async function convertToInteractive(key) {\n",
              "          const element = document.querySelector('#df-bcf503ce-5292-4b86-9d78-86157284666c');\n",
              "          const dataTable =\n",
              "            await google.colab.kernel.invokeFunction('convertToInteractive',\n",
              "                                                     [key], {});\n",
              "          if (!dataTable) return;\n",
              "\n",
              "          const docLinkHtml = 'Like what you see? Visit the ' +\n",
              "            '<a target=\"_blank\" href=https://colab.research.google.com/notebooks/data_table.ipynb>data table notebook</a>'\n",
              "            + ' to learn more about interactive tables.';\n",
              "          element.innerHTML = '';\n",
              "          dataTable['output_type'] = 'display_data';\n",
              "          await google.colab.output.renderOutput(dataTable, element);\n",
              "          const docLink = document.createElement('div');\n",
              "          docLink.innerHTML = docLinkHtml;\n",
              "          element.appendChild(docLink);\n",
              "        }\n",
              "      </script>\n",
              "    </div>\n",
              "  </div>\n",
              "  "
            ]
          },
          "metadata": {},
          "execution_count": 320
        }
      ],
      "source": [
        "fumo['Posto (+)'] = fumo.apply(lambda x: x.Posto if x.Dif > 0 else 0, axis = 1)\n",
        "fumo"
      ]
    },
    {
      "cell_type": "code",
      "execution_count": null,
      "metadata": {
        "id": "PoL2W6c7os4d",
        "colab": {
          "base_uri": "https://localhost:8080/",
          "height": 1147
        },
        "outputId": "9bc11e9e-c98b-4c6a-9942-ec3e00fca973"
      },
      "outputs": [
        {
          "output_type": "execute_result",
          "data": {
            "text/plain": [
              "    Antes  Depois  Dif  |Dif|  Posto  Posto (+)  Posto (-)\n",
              "0      13      14    1      1    1.5        1.5        0.0\n",
              "1      17      16   -1      1    1.5        0.0        1.5\n",
              "2      17      19    2      2    3.0        3.0        0.0\n",
              "3      12      16    4      4    4.5        4.5        0.0\n",
              "4      14      18    4      4    4.5        4.5        0.0\n",
              "5      22      17   -5      5    6.0        0.0        6.0\n",
              "6      21      13   -8      8    7.0        0.0        7.0\n",
              "7      23      14   -9      9    8.5        0.0        8.5\n",
              "8      10      19    9      9    8.5        8.5        0.0\n",
              "9      15       4  -11     11   10.0        0.0       10.0\n",
              "10     24      12  -12     12   11.5        0.0       11.5\n",
              "11     21       9  -12     12   11.5        0.0       11.5\n",
              "12     15       2  -13     13   13.0        0.0       13.0\n",
              "13     28      11  -17     17   15.0        0.0       15.0\n",
              "14     25       8  -17     17   15.0        0.0       15.0\n",
              "15     29      12  -17     17   15.0        0.0       15.0\n",
              "16     36      15  -21     21   17.0        0.0       17.0\n",
              "17     22       0  -22     22   18.0        0.0       18.0\n",
              "18     41      18  -23     23   19.5        0.0       19.5\n",
              "19     39      16  -23     23   19.5        0.0       19.5\n",
              "20     24       0  -24     24   21.5        0.0       21.5\n",
              "21     40      16  -24     24   21.5        0.0       21.5\n",
              "22     46      17  -29     29   24.0        0.0       24.0\n",
              "23     39      10  -29     29   24.0        0.0       24.0\n",
              "24     31       2  -29     29   24.0        0.0       24.0\n",
              "25     52      20  -32     32   26.0        0.0       26.0\n",
              "26     50      17  -33     33   27.0        0.0       27.0\n",
              "27     48      13  -35     35   28.0        0.0       28.0\n",
              "28     52      16  -36     36   29.0        0.0       29.0\n",
              "29     37       0  -37     37   30.0        0.0       30.0\n",
              "30     49       9  -40     40   31.5        0.0       31.5\n",
              "31     49       9  -40     40   31.5        0.0       31.5\n",
              "32     49       6  -43     43   33.0        0.0       33.0\n",
              "33     50       0  -50     50   34.0        0.0       34.0\n",
              "34     55       4  -51     51   35.0        0.0       35.0"
            ],
            "text/html": [
              "\n",
              "  <div id=\"df-0372af2a-07aa-4c33-bd30-db5b9fbc5ef4\">\n",
              "    <div class=\"colab-df-container\">\n",
              "      <div>\n",
              "<style scoped>\n",
              "    .dataframe tbody tr th:only-of-type {\n",
              "        vertical-align: middle;\n",
              "    }\n",
              "\n",
              "    .dataframe tbody tr th {\n",
              "        vertical-align: top;\n",
              "    }\n",
              "\n",
              "    .dataframe thead th {\n",
              "        text-align: right;\n",
              "    }\n",
              "</style>\n",
              "<table border=\"1\" class=\"dataframe\">\n",
              "  <thead>\n",
              "    <tr style=\"text-align: right;\">\n",
              "      <th></th>\n",
              "      <th>Antes</th>\n",
              "      <th>Depois</th>\n",
              "      <th>Dif</th>\n",
              "      <th>|Dif|</th>\n",
              "      <th>Posto</th>\n",
              "      <th>Posto (+)</th>\n",
              "      <th>Posto (-)</th>\n",
              "    </tr>\n",
              "  </thead>\n",
              "  <tbody>\n",
              "    <tr>\n",
              "      <th>0</th>\n",
              "      <td>13</td>\n",
              "      <td>14</td>\n",
              "      <td>1</td>\n",
              "      <td>1</td>\n",
              "      <td>1.5</td>\n",
              "      <td>1.5</td>\n",
              "      <td>0.0</td>\n",
              "    </tr>\n",
              "    <tr>\n",
              "      <th>1</th>\n",
              "      <td>17</td>\n",
              "      <td>16</td>\n",
              "      <td>-1</td>\n",
              "      <td>1</td>\n",
              "      <td>1.5</td>\n",
              "      <td>0.0</td>\n",
              "      <td>1.5</td>\n",
              "    </tr>\n",
              "    <tr>\n",
              "      <th>2</th>\n",
              "      <td>17</td>\n",
              "      <td>19</td>\n",
              "      <td>2</td>\n",
              "      <td>2</td>\n",
              "      <td>3.0</td>\n",
              "      <td>3.0</td>\n",
              "      <td>0.0</td>\n",
              "    </tr>\n",
              "    <tr>\n",
              "      <th>3</th>\n",
              "      <td>12</td>\n",
              "      <td>16</td>\n",
              "      <td>4</td>\n",
              "      <td>4</td>\n",
              "      <td>4.5</td>\n",
              "      <td>4.5</td>\n",
              "      <td>0.0</td>\n",
              "    </tr>\n",
              "    <tr>\n",
              "      <th>4</th>\n",
              "      <td>14</td>\n",
              "      <td>18</td>\n",
              "      <td>4</td>\n",
              "      <td>4</td>\n",
              "      <td>4.5</td>\n",
              "      <td>4.5</td>\n",
              "      <td>0.0</td>\n",
              "    </tr>\n",
              "    <tr>\n",
              "      <th>5</th>\n",
              "      <td>22</td>\n",
              "      <td>17</td>\n",
              "      <td>-5</td>\n",
              "      <td>5</td>\n",
              "      <td>6.0</td>\n",
              "      <td>0.0</td>\n",
              "      <td>6.0</td>\n",
              "    </tr>\n",
              "    <tr>\n",
              "      <th>6</th>\n",
              "      <td>21</td>\n",
              "      <td>13</td>\n",
              "      <td>-8</td>\n",
              "      <td>8</td>\n",
              "      <td>7.0</td>\n",
              "      <td>0.0</td>\n",
              "      <td>7.0</td>\n",
              "    </tr>\n",
              "    <tr>\n",
              "      <th>7</th>\n",
              "      <td>23</td>\n",
              "      <td>14</td>\n",
              "      <td>-9</td>\n",
              "      <td>9</td>\n",
              "      <td>8.5</td>\n",
              "      <td>0.0</td>\n",
              "      <td>8.5</td>\n",
              "    </tr>\n",
              "    <tr>\n",
              "      <th>8</th>\n",
              "      <td>10</td>\n",
              "      <td>19</td>\n",
              "      <td>9</td>\n",
              "      <td>9</td>\n",
              "      <td>8.5</td>\n",
              "      <td>8.5</td>\n",
              "      <td>0.0</td>\n",
              "    </tr>\n",
              "    <tr>\n",
              "      <th>9</th>\n",
              "      <td>15</td>\n",
              "      <td>4</td>\n",
              "      <td>-11</td>\n",
              "      <td>11</td>\n",
              "      <td>10.0</td>\n",
              "      <td>0.0</td>\n",
              "      <td>10.0</td>\n",
              "    </tr>\n",
              "    <tr>\n",
              "      <th>10</th>\n",
              "      <td>24</td>\n",
              "      <td>12</td>\n",
              "      <td>-12</td>\n",
              "      <td>12</td>\n",
              "      <td>11.5</td>\n",
              "      <td>0.0</td>\n",
              "      <td>11.5</td>\n",
              "    </tr>\n",
              "    <tr>\n",
              "      <th>11</th>\n",
              "      <td>21</td>\n",
              "      <td>9</td>\n",
              "      <td>-12</td>\n",
              "      <td>12</td>\n",
              "      <td>11.5</td>\n",
              "      <td>0.0</td>\n",
              "      <td>11.5</td>\n",
              "    </tr>\n",
              "    <tr>\n",
              "      <th>12</th>\n",
              "      <td>15</td>\n",
              "      <td>2</td>\n",
              "      <td>-13</td>\n",
              "      <td>13</td>\n",
              "      <td>13.0</td>\n",
              "      <td>0.0</td>\n",
              "      <td>13.0</td>\n",
              "    </tr>\n",
              "    <tr>\n",
              "      <th>13</th>\n",
              "      <td>28</td>\n",
              "      <td>11</td>\n",
              "      <td>-17</td>\n",
              "      <td>17</td>\n",
              "      <td>15.0</td>\n",
              "      <td>0.0</td>\n",
              "      <td>15.0</td>\n",
              "    </tr>\n",
              "    <tr>\n",
              "      <th>14</th>\n",
              "      <td>25</td>\n",
              "      <td>8</td>\n",
              "      <td>-17</td>\n",
              "      <td>17</td>\n",
              "      <td>15.0</td>\n",
              "      <td>0.0</td>\n",
              "      <td>15.0</td>\n",
              "    </tr>\n",
              "    <tr>\n",
              "      <th>15</th>\n",
              "      <td>29</td>\n",
              "      <td>12</td>\n",
              "      <td>-17</td>\n",
              "      <td>17</td>\n",
              "      <td>15.0</td>\n",
              "      <td>0.0</td>\n",
              "      <td>15.0</td>\n",
              "    </tr>\n",
              "    <tr>\n",
              "      <th>16</th>\n",
              "      <td>36</td>\n",
              "      <td>15</td>\n",
              "      <td>-21</td>\n",
              "      <td>21</td>\n",
              "      <td>17.0</td>\n",
              "      <td>0.0</td>\n",
              "      <td>17.0</td>\n",
              "    </tr>\n",
              "    <tr>\n",
              "      <th>17</th>\n",
              "      <td>22</td>\n",
              "      <td>0</td>\n",
              "      <td>-22</td>\n",
              "      <td>22</td>\n",
              "      <td>18.0</td>\n",
              "      <td>0.0</td>\n",
              "      <td>18.0</td>\n",
              "    </tr>\n",
              "    <tr>\n",
              "      <th>18</th>\n",
              "      <td>41</td>\n",
              "      <td>18</td>\n",
              "      <td>-23</td>\n",
              "      <td>23</td>\n",
              "      <td>19.5</td>\n",
              "      <td>0.0</td>\n",
              "      <td>19.5</td>\n",
              "    </tr>\n",
              "    <tr>\n",
              "      <th>19</th>\n",
              "      <td>39</td>\n",
              "      <td>16</td>\n",
              "      <td>-23</td>\n",
              "      <td>23</td>\n",
              "      <td>19.5</td>\n",
              "      <td>0.0</td>\n",
              "      <td>19.5</td>\n",
              "    </tr>\n",
              "    <tr>\n",
              "      <th>20</th>\n",
              "      <td>24</td>\n",
              "      <td>0</td>\n",
              "      <td>-24</td>\n",
              "      <td>24</td>\n",
              "      <td>21.5</td>\n",
              "      <td>0.0</td>\n",
              "      <td>21.5</td>\n",
              "    </tr>\n",
              "    <tr>\n",
              "      <th>21</th>\n",
              "      <td>40</td>\n",
              "      <td>16</td>\n",
              "      <td>-24</td>\n",
              "      <td>24</td>\n",
              "      <td>21.5</td>\n",
              "      <td>0.0</td>\n",
              "      <td>21.5</td>\n",
              "    </tr>\n",
              "    <tr>\n",
              "      <th>22</th>\n",
              "      <td>46</td>\n",
              "      <td>17</td>\n",
              "      <td>-29</td>\n",
              "      <td>29</td>\n",
              "      <td>24.0</td>\n",
              "      <td>0.0</td>\n",
              "      <td>24.0</td>\n",
              "    </tr>\n",
              "    <tr>\n",
              "      <th>23</th>\n",
              "      <td>39</td>\n",
              "      <td>10</td>\n",
              "      <td>-29</td>\n",
              "      <td>29</td>\n",
              "      <td>24.0</td>\n",
              "      <td>0.0</td>\n",
              "      <td>24.0</td>\n",
              "    </tr>\n",
              "    <tr>\n",
              "      <th>24</th>\n",
              "      <td>31</td>\n",
              "      <td>2</td>\n",
              "      <td>-29</td>\n",
              "      <td>29</td>\n",
              "      <td>24.0</td>\n",
              "      <td>0.0</td>\n",
              "      <td>24.0</td>\n",
              "    </tr>\n",
              "    <tr>\n",
              "      <th>25</th>\n",
              "      <td>52</td>\n",
              "      <td>20</td>\n",
              "      <td>-32</td>\n",
              "      <td>32</td>\n",
              "      <td>26.0</td>\n",
              "      <td>0.0</td>\n",
              "      <td>26.0</td>\n",
              "    </tr>\n",
              "    <tr>\n",
              "      <th>26</th>\n",
              "      <td>50</td>\n",
              "      <td>17</td>\n",
              "      <td>-33</td>\n",
              "      <td>33</td>\n",
              "      <td>27.0</td>\n",
              "      <td>0.0</td>\n",
              "      <td>27.0</td>\n",
              "    </tr>\n",
              "    <tr>\n",
              "      <th>27</th>\n",
              "      <td>48</td>\n",
              "      <td>13</td>\n",
              "      <td>-35</td>\n",
              "      <td>35</td>\n",
              "      <td>28.0</td>\n",
              "      <td>0.0</td>\n",
              "      <td>28.0</td>\n",
              "    </tr>\n",
              "    <tr>\n",
              "      <th>28</th>\n",
              "      <td>52</td>\n",
              "      <td>16</td>\n",
              "      <td>-36</td>\n",
              "      <td>36</td>\n",
              "      <td>29.0</td>\n",
              "      <td>0.0</td>\n",
              "      <td>29.0</td>\n",
              "    </tr>\n",
              "    <tr>\n",
              "      <th>29</th>\n",
              "      <td>37</td>\n",
              "      <td>0</td>\n",
              "      <td>-37</td>\n",
              "      <td>37</td>\n",
              "      <td>30.0</td>\n",
              "      <td>0.0</td>\n",
              "      <td>30.0</td>\n",
              "    </tr>\n",
              "    <tr>\n",
              "      <th>30</th>\n",
              "      <td>49</td>\n",
              "      <td>9</td>\n",
              "      <td>-40</td>\n",
              "      <td>40</td>\n",
              "      <td>31.5</td>\n",
              "      <td>0.0</td>\n",
              "      <td>31.5</td>\n",
              "    </tr>\n",
              "    <tr>\n",
              "      <th>31</th>\n",
              "      <td>49</td>\n",
              "      <td>9</td>\n",
              "      <td>-40</td>\n",
              "      <td>40</td>\n",
              "      <td>31.5</td>\n",
              "      <td>0.0</td>\n",
              "      <td>31.5</td>\n",
              "    </tr>\n",
              "    <tr>\n",
              "      <th>32</th>\n",
              "      <td>49</td>\n",
              "      <td>6</td>\n",
              "      <td>-43</td>\n",
              "      <td>43</td>\n",
              "      <td>33.0</td>\n",
              "      <td>0.0</td>\n",
              "      <td>33.0</td>\n",
              "    </tr>\n",
              "    <tr>\n",
              "      <th>33</th>\n",
              "      <td>50</td>\n",
              "      <td>0</td>\n",
              "      <td>-50</td>\n",
              "      <td>50</td>\n",
              "      <td>34.0</td>\n",
              "      <td>0.0</td>\n",
              "      <td>34.0</td>\n",
              "    </tr>\n",
              "    <tr>\n",
              "      <th>34</th>\n",
              "      <td>55</td>\n",
              "      <td>4</td>\n",
              "      <td>-51</td>\n",
              "      <td>51</td>\n",
              "      <td>35.0</td>\n",
              "      <td>0.0</td>\n",
              "      <td>35.0</td>\n",
              "    </tr>\n",
              "  </tbody>\n",
              "</table>\n",
              "</div>\n",
              "      <button class=\"colab-df-convert\" onclick=\"convertToInteractive('df-0372af2a-07aa-4c33-bd30-db5b9fbc5ef4')\"\n",
              "              title=\"Convert this dataframe to an interactive table.\"\n",
              "              style=\"display:none;\">\n",
              "        \n",
              "  <svg xmlns=\"http://www.w3.org/2000/svg\" height=\"24px\"viewBox=\"0 0 24 24\"\n",
              "       width=\"24px\">\n",
              "    <path d=\"M0 0h24v24H0V0z\" fill=\"none\"/>\n",
              "    <path d=\"M18.56 5.44l.94 2.06.94-2.06 2.06-.94-2.06-.94-.94-2.06-.94 2.06-2.06.94zm-11 1L8.5 8.5l.94-2.06 2.06-.94-2.06-.94L8.5 2.5l-.94 2.06-2.06.94zm10 10l.94 2.06.94-2.06 2.06-.94-2.06-.94-.94-2.06-.94 2.06-2.06.94z\"/><path d=\"M17.41 7.96l-1.37-1.37c-.4-.4-.92-.59-1.43-.59-.52 0-1.04.2-1.43.59L10.3 9.45l-7.72 7.72c-.78.78-.78 2.05 0 2.83L4 21.41c.39.39.9.59 1.41.59.51 0 1.02-.2 1.41-.59l7.78-7.78 2.81-2.81c.8-.78.8-2.07 0-2.86zM5.41 20L4 18.59l7.72-7.72 1.47 1.35L5.41 20z\"/>\n",
              "  </svg>\n",
              "      </button>\n",
              "      \n",
              "  <style>\n",
              "    .colab-df-container {\n",
              "      display:flex;\n",
              "      flex-wrap:wrap;\n",
              "      gap: 12px;\n",
              "    }\n",
              "\n",
              "    .colab-df-convert {\n",
              "      background-color: #E8F0FE;\n",
              "      border: none;\n",
              "      border-radius: 50%;\n",
              "      cursor: pointer;\n",
              "      display: none;\n",
              "      fill: #1967D2;\n",
              "      height: 32px;\n",
              "      padding: 0 0 0 0;\n",
              "      width: 32px;\n",
              "    }\n",
              "\n",
              "    .colab-df-convert:hover {\n",
              "      background-color: #E2EBFA;\n",
              "      box-shadow: 0px 1px 2px rgba(60, 64, 67, 0.3), 0px 1px 3px 1px rgba(60, 64, 67, 0.15);\n",
              "      fill: #174EA6;\n",
              "    }\n",
              "\n",
              "    [theme=dark] .colab-df-convert {\n",
              "      background-color: #3B4455;\n",
              "      fill: #D2E3FC;\n",
              "    }\n",
              "\n",
              "    [theme=dark] .colab-df-convert:hover {\n",
              "      background-color: #434B5C;\n",
              "      box-shadow: 0px 1px 3px 1px rgba(0, 0, 0, 0.15);\n",
              "      filter: drop-shadow(0px 1px 2px rgba(0, 0, 0, 0.3));\n",
              "      fill: #FFFFFF;\n",
              "    }\n",
              "  </style>\n",
              "\n",
              "      <script>\n",
              "        const buttonEl =\n",
              "          document.querySelector('#df-0372af2a-07aa-4c33-bd30-db5b9fbc5ef4 button.colab-df-convert');\n",
              "        buttonEl.style.display =\n",
              "          google.colab.kernel.accessAllowed ? 'block' : 'none';\n",
              "\n",
              "        async function convertToInteractive(key) {\n",
              "          const element = document.querySelector('#df-0372af2a-07aa-4c33-bd30-db5b9fbc5ef4');\n",
              "          const dataTable =\n",
              "            await google.colab.kernel.invokeFunction('convertToInteractive',\n",
              "                                                     [key], {});\n",
              "          if (!dataTable) return;\n",
              "\n",
              "          const docLinkHtml = 'Like what you see? Visit the ' +\n",
              "            '<a target=\"_blank\" href=https://colab.research.google.com/notebooks/data_table.ipynb>data table notebook</a>'\n",
              "            + ' to learn more about interactive tables.';\n",
              "          element.innerHTML = '';\n",
              "          dataTable['output_type'] = 'display_data';\n",
              "          await google.colab.output.renderOutput(dataTable, element);\n",
              "          const docLink = document.createElement('div');\n",
              "          docLink.innerHTML = docLinkHtml;\n",
              "          element.appendChild(docLink);\n",
              "        }\n",
              "      </script>\n",
              "    </div>\n",
              "  </div>\n",
              "  "
            ]
          },
          "metadata": {},
          "execution_count": 321
        }
      ],
      "source": [
        "fumo['Posto (-)'] = fumo.apply(lambda x: x.Posto if x.Dif < 0 else 0, axis = 1)\n",
        "fumo"
      ]
    },
    {
      "cell_type": "code",
      "execution_count": null,
      "metadata": {
        "id": "kIu3BKAwos0z",
        "colab": {
          "base_uri": "https://localhost:8080/",
          "height": 1147
        },
        "outputId": "dc8482a1-f2aa-4b15-86f0-b02e08f9d5b9"
      },
      "outputs": [
        {
          "output_type": "execute_result",
          "data": {
            "text/plain": [
              "    Antes  Depois  Dif  |Dif|  Posto (+)  Posto (-)\n",
              "0      13      14    1      1        1.5        0.0\n",
              "1      17      16   -1      1        0.0        1.5\n",
              "2      17      19    2      2        3.0        0.0\n",
              "3      12      16    4      4        4.5        0.0\n",
              "4      14      18    4      4        4.5        0.0\n",
              "5      22      17   -5      5        0.0        6.0\n",
              "6      21      13   -8      8        0.0        7.0\n",
              "7      23      14   -9      9        0.0        8.5\n",
              "8      10      19    9      9        8.5        0.0\n",
              "9      15       4  -11     11        0.0       10.0\n",
              "10     24      12  -12     12        0.0       11.5\n",
              "11     21       9  -12     12        0.0       11.5\n",
              "12     15       2  -13     13        0.0       13.0\n",
              "13     28      11  -17     17        0.0       15.0\n",
              "14     25       8  -17     17        0.0       15.0\n",
              "15     29      12  -17     17        0.0       15.0\n",
              "16     36      15  -21     21        0.0       17.0\n",
              "17     22       0  -22     22        0.0       18.0\n",
              "18     41      18  -23     23        0.0       19.5\n",
              "19     39      16  -23     23        0.0       19.5\n",
              "20     24       0  -24     24        0.0       21.5\n",
              "21     40      16  -24     24        0.0       21.5\n",
              "22     46      17  -29     29        0.0       24.0\n",
              "23     39      10  -29     29        0.0       24.0\n",
              "24     31       2  -29     29        0.0       24.0\n",
              "25     52      20  -32     32        0.0       26.0\n",
              "26     50      17  -33     33        0.0       27.0\n",
              "27     48      13  -35     35        0.0       28.0\n",
              "28     52      16  -36     36        0.0       29.0\n",
              "29     37       0  -37     37        0.0       30.0\n",
              "30     49       9  -40     40        0.0       31.5\n",
              "31     49       9  -40     40        0.0       31.5\n",
              "32     49       6  -43     43        0.0       33.0\n",
              "33     50       0  -50     50        0.0       34.0\n",
              "34     55       4  -51     51        0.0       35.0"
            ],
            "text/html": [
              "\n",
              "  <div id=\"df-5e2c8d67-eb45-4c5d-816c-fa1fe87595aa\">\n",
              "    <div class=\"colab-df-container\">\n",
              "      <div>\n",
              "<style scoped>\n",
              "    .dataframe tbody tr th:only-of-type {\n",
              "        vertical-align: middle;\n",
              "    }\n",
              "\n",
              "    .dataframe tbody tr th {\n",
              "        vertical-align: top;\n",
              "    }\n",
              "\n",
              "    .dataframe thead th {\n",
              "        text-align: right;\n",
              "    }\n",
              "</style>\n",
              "<table border=\"1\" class=\"dataframe\">\n",
              "  <thead>\n",
              "    <tr style=\"text-align: right;\">\n",
              "      <th></th>\n",
              "      <th>Antes</th>\n",
              "      <th>Depois</th>\n",
              "      <th>Dif</th>\n",
              "      <th>|Dif|</th>\n",
              "      <th>Posto (+)</th>\n",
              "      <th>Posto (-)</th>\n",
              "    </tr>\n",
              "  </thead>\n",
              "  <tbody>\n",
              "    <tr>\n",
              "      <th>0</th>\n",
              "      <td>13</td>\n",
              "      <td>14</td>\n",
              "      <td>1</td>\n",
              "      <td>1</td>\n",
              "      <td>1.5</td>\n",
              "      <td>0.0</td>\n",
              "    </tr>\n",
              "    <tr>\n",
              "      <th>1</th>\n",
              "      <td>17</td>\n",
              "      <td>16</td>\n",
              "      <td>-1</td>\n",
              "      <td>1</td>\n",
              "      <td>0.0</td>\n",
              "      <td>1.5</td>\n",
              "    </tr>\n",
              "    <tr>\n",
              "      <th>2</th>\n",
              "      <td>17</td>\n",
              "      <td>19</td>\n",
              "      <td>2</td>\n",
              "      <td>2</td>\n",
              "      <td>3.0</td>\n",
              "      <td>0.0</td>\n",
              "    </tr>\n",
              "    <tr>\n",
              "      <th>3</th>\n",
              "      <td>12</td>\n",
              "      <td>16</td>\n",
              "      <td>4</td>\n",
              "      <td>4</td>\n",
              "      <td>4.5</td>\n",
              "      <td>0.0</td>\n",
              "    </tr>\n",
              "    <tr>\n",
              "      <th>4</th>\n",
              "      <td>14</td>\n",
              "      <td>18</td>\n",
              "      <td>4</td>\n",
              "      <td>4</td>\n",
              "      <td>4.5</td>\n",
              "      <td>0.0</td>\n",
              "    </tr>\n",
              "    <tr>\n",
              "      <th>5</th>\n",
              "      <td>22</td>\n",
              "      <td>17</td>\n",
              "      <td>-5</td>\n",
              "      <td>5</td>\n",
              "      <td>0.0</td>\n",
              "      <td>6.0</td>\n",
              "    </tr>\n",
              "    <tr>\n",
              "      <th>6</th>\n",
              "      <td>21</td>\n",
              "      <td>13</td>\n",
              "      <td>-8</td>\n",
              "      <td>8</td>\n",
              "      <td>0.0</td>\n",
              "      <td>7.0</td>\n",
              "    </tr>\n",
              "    <tr>\n",
              "      <th>7</th>\n",
              "      <td>23</td>\n",
              "      <td>14</td>\n",
              "      <td>-9</td>\n",
              "      <td>9</td>\n",
              "      <td>0.0</td>\n",
              "      <td>8.5</td>\n",
              "    </tr>\n",
              "    <tr>\n",
              "      <th>8</th>\n",
              "      <td>10</td>\n",
              "      <td>19</td>\n",
              "      <td>9</td>\n",
              "      <td>9</td>\n",
              "      <td>8.5</td>\n",
              "      <td>0.0</td>\n",
              "    </tr>\n",
              "    <tr>\n",
              "      <th>9</th>\n",
              "      <td>15</td>\n",
              "      <td>4</td>\n",
              "      <td>-11</td>\n",
              "      <td>11</td>\n",
              "      <td>0.0</td>\n",
              "      <td>10.0</td>\n",
              "    </tr>\n",
              "    <tr>\n",
              "      <th>10</th>\n",
              "      <td>24</td>\n",
              "      <td>12</td>\n",
              "      <td>-12</td>\n",
              "      <td>12</td>\n",
              "      <td>0.0</td>\n",
              "      <td>11.5</td>\n",
              "    </tr>\n",
              "    <tr>\n",
              "      <th>11</th>\n",
              "      <td>21</td>\n",
              "      <td>9</td>\n",
              "      <td>-12</td>\n",
              "      <td>12</td>\n",
              "      <td>0.0</td>\n",
              "      <td>11.5</td>\n",
              "    </tr>\n",
              "    <tr>\n",
              "      <th>12</th>\n",
              "      <td>15</td>\n",
              "      <td>2</td>\n",
              "      <td>-13</td>\n",
              "      <td>13</td>\n",
              "      <td>0.0</td>\n",
              "      <td>13.0</td>\n",
              "    </tr>\n",
              "    <tr>\n",
              "      <th>13</th>\n",
              "      <td>28</td>\n",
              "      <td>11</td>\n",
              "      <td>-17</td>\n",
              "      <td>17</td>\n",
              "      <td>0.0</td>\n",
              "      <td>15.0</td>\n",
              "    </tr>\n",
              "    <tr>\n",
              "      <th>14</th>\n",
              "      <td>25</td>\n",
              "      <td>8</td>\n",
              "      <td>-17</td>\n",
              "      <td>17</td>\n",
              "      <td>0.0</td>\n",
              "      <td>15.0</td>\n",
              "    </tr>\n",
              "    <tr>\n",
              "      <th>15</th>\n",
              "      <td>29</td>\n",
              "      <td>12</td>\n",
              "      <td>-17</td>\n",
              "      <td>17</td>\n",
              "      <td>0.0</td>\n",
              "      <td>15.0</td>\n",
              "    </tr>\n",
              "    <tr>\n",
              "      <th>16</th>\n",
              "      <td>36</td>\n",
              "      <td>15</td>\n",
              "      <td>-21</td>\n",
              "      <td>21</td>\n",
              "      <td>0.0</td>\n",
              "      <td>17.0</td>\n",
              "    </tr>\n",
              "    <tr>\n",
              "      <th>17</th>\n",
              "      <td>22</td>\n",
              "      <td>0</td>\n",
              "      <td>-22</td>\n",
              "      <td>22</td>\n",
              "      <td>0.0</td>\n",
              "      <td>18.0</td>\n",
              "    </tr>\n",
              "    <tr>\n",
              "      <th>18</th>\n",
              "      <td>41</td>\n",
              "      <td>18</td>\n",
              "      <td>-23</td>\n",
              "      <td>23</td>\n",
              "      <td>0.0</td>\n",
              "      <td>19.5</td>\n",
              "    </tr>\n",
              "    <tr>\n",
              "      <th>19</th>\n",
              "      <td>39</td>\n",
              "      <td>16</td>\n",
              "      <td>-23</td>\n",
              "      <td>23</td>\n",
              "      <td>0.0</td>\n",
              "      <td>19.5</td>\n",
              "    </tr>\n",
              "    <tr>\n",
              "      <th>20</th>\n",
              "      <td>24</td>\n",
              "      <td>0</td>\n",
              "      <td>-24</td>\n",
              "      <td>24</td>\n",
              "      <td>0.0</td>\n",
              "      <td>21.5</td>\n",
              "    </tr>\n",
              "    <tr>\n",
              "      <th>21</th>\n",
              "      <td>40</td>\n",
              "      <td>16</td>\n",
              "      <td>-24</td>\n",
              "      <td>24</td>\n",
              "      <td>0.0</td>\n",
              "      <td>21.5</td>\n",
              "    </tr>\n",
              "    <tr>\n",
              "      <th>22</th>\n",
              "      <td>46</td>\n",
              "      <td>17</td>\n",
              "      <td>-29</td>\n",
              "      <td>29</td>\n",
              "      <td>0.0</td>\n",
              "      <td>24.0</td>\n",
              "    </tr>\n",
              "    <tr>\n",
              "      <th>23</th>\n",
              "      <td>39</td>\n",
              "      <td>10</td>\n",
              "      <td>-29</td>\n",
              "      <td>29</td>\n",
              "      <td>0.0</td>\n",
              "      <td>24.0</td>\n",
              "    </tr>\n",
              "    <tr>\n",
              "      <th>24</th>\n",
              "      <td>31</td>\n",
              "      <td>2</td>\n",
              "      <td>-29</td>\n",
              "      <td>29</td>\n",
              "      <td>0.0</td>\n",
              "      <td>24.0</td>\n",
              "    </tr>\n",
              "    <tr>\n",
              "      <th>25</th>\n",
              "      <td>52</td>\n",
              "      <td>20</td>\n",
              "      <td>-32</td>\n",
              "      <td>32</td>\n",
              "      <td>0.0</td>\n",
              "      <td>26.0</td>\n",
              "    </tr>\n",
              "    <tr>\n",
              "      <th>26</th>\n",
              "      <td>50</td>\n",
              "      <td>17</td>\n",
              "      <td>-33</td>\n",
              "      <td>33</td>\n",
              "      <td>0.0</td>\n",
              "      <td>27.0</td>\n",
              "    </tr>\n",
              "    <tr>\n",
              "      <th>27</th>\n",
              "      <td>48</td>\n",
              "      <td>13</td>\n",
              "      <td>-35</td>\n",
              "      <td>35</td>\n",
              "      <td>0.0</td>\n",
              "      <td>28.0</td>\n",
              "    </tr>\n",
              "    <tr>\n",
              "      <th>28</th>\n",
              "      <td>52</td>\n",
              "      <td>16</td>\n",
              "      <td>-36</td>\n",
              "      <td>36</td>\n",
              "      <td>0.0</td>\n",
              "      <td>29.0</td>\n",
              "    </tr>\n",
              "    <tr>\n",
              "      <th>29</th>\n",
              "      <td>37</td>\n",
              "      <td>0</td>\n",
              "      <td>-37</td>\n",
              "      <td>37</td>\n",
              "      <td>0.0</td>\n",
              "      <td>30.0</td>\n",
              "    </tr>\n",
              "    <tr>\n",
              "      <th>30</th>\n",
              "      <td>49</td>\n",
              "      <td>9</td>\n",
              "      <td>-40</td>\n",
              "      <td>40</td>\n",
              "      <td>0.0</td>\n",
              "      <td>31.5</td>\n",
              "    </tr>\n",
              "    <tr>\n",
              "      <th>31</th>\n",
              "      <td>49</td>\n",
              "      <td>9</td>\n",
              "      <td>-40</td>\n",
              "      <td>40</td>\n",
              "      <td>0.0</td>\n",
              "      <td>31.5</td>\n",
              "    </tr>\n",
              "    <tr>\n",
              "      <th>32</th>\n",
              "      <td>49</td>\n",
              "      <td>6</td>\n",
              "      <td>-43</td>\n",
              "      <td>43</td>\n",
              "      <td>0.0</td>\n",
              "      <td>33.0</td>\n",
              "    </tr>\n",
              "    <tr>\n",
              "      <th>33</th>\n",
              "      <td>50</td>\n",
              "      <td>0</td>\n",
              "      <td>-50</td>\n",
              "      <td>50</td>\n",
              "      <td>0.0</td>\n",
              "      <td>34.0</td>\n",
              "    </tr>\n",
              "    <tr>\n",
              "      <th>34</th>\n",
              "      <td>55</td>\n",
              "      <td>4</td>\n",
              "      <td>-51</td>\n",
              "      <td>51</td>\n",
              "      <td>0.0</td>\n",
              "      <td>35.0</td>\n",
              "    </tr>\n",
              "  </tbody>\n",
              "</table>\n",
              "</div>\n",
              "      <button class=\"colab-df-convert\" onclick=\"convertToInteractive('df-5e2c8d67-eb45-4c5d-816c-fa1fe87595aa')\"\n",
              "              title=\"Convert this dataframe to an interactive table.\"\n",
              "              style=\"display:none;\">\n",
              "        \n",
              "  <svg xmlns=\"http://www.w3.org/2000/svg\" height=\"24px\"viewBox=\"0 0 24 24\"\n",
              "       width=\"24px\">\n",
              "    <path d=\"M0 0h24v24H0V0z\" fill=\"none\"/>\n",
              "    <path d=\"M18.56 5.44l.94 2.06.94-2.06 2.06-.94-2.06-.94-.94-2.06-.94 2.06-2.06.94zm-11 1L8.5 8.5l.94-2.06 2.06-.94-2.06-.94L8.5 2.5l-.94 2.06-2.06.94zm10 10l.94 2.06.94-2.06 2.06-.94-2.06-.94-.94-2.06-.94 2.06-2.06.94z\"/><path d=\"M17.41 7.96l-1.37-1.37c-.4-.4-.92-.59-1.43-.59-.52 0-1.04.2-1.43.59L10.3 9.45l-7.72 7.72c-.78.78-.78 2.05 0 2.83L4 21.41c.39.39.9.59 1.41.59.51 0 1.02-.2 1.41-.59l7.78-7.78 2.81-2.81c.8-.78.8-2.07 0-2.86zM5.41 20L4 18.59l7.72-7.72 1.47 1.35L5.41 20z\"/>\n",
              "  </svg>\n",
              "      </button>\n",
              "      \n",
              "  <style>\n",
              "    .colab-df-container {\n",
              "      display:flex;\n",
              "      flex-wrap:wrap;\n",
              "      gap: 12px;\n",
              "    }\n",
              "\n",
              "    .colab-df-convert {\n",
              "      background-color: #E8F0FE;\n",
              "      border: none;\n",
              "      border-radius: 50%;\n",
              "      cursor: pointer;\n",
              "      display: none;\n",
              "      fill: #1967D2;\n",
              "      height: 32px;\n",
              "      padding: 0 0 0 0;\n",
              "      width: 32px;\n",
              "    }\n",
              "\n",
              "    .colab-df-convert:hover {\n",
              "      background-color: #E2EBFA;\n",
              "      box-shadow: 0px 1px 2px rgba(60, 64, 67, 0.3), 0px 1px 3px 1px rgba(60, 64, 67, 0.15);\n",
              "      fill: #174EA6;\n",
              "    }\n",
              "\n",
              "    [theme=dark] .colab-df-convert {\n",
              "      background-color: #3B4455;\n",
              "      fill: #D2E3FC;\n",
              "    }\n",
              "\n",
              "    [theme=dark] .colab-df-convert:hover {\n",
              "      background-color: #434B5C;\n",
              "      box-shadow: 0px 1px 3px 1px rgba(0, 0, 0, 0.15);\n",
              "      filter: drop-shadow(0px 1px 2px rgba(0, 0, 0, 0.3));\n",
              "      fill: #FFFFFF;\n",
              "    }\n",
              "  </style>\n",
              "\n",
              "      <script>\n",
              "        const buttonEl =\n",
              "          document.querySelector('#df-5e2c8d67-eb45-4c5d-816c-fa1fe87595aa button.colab-df-convert');\n",
              "        buttonEl.style.display =\n",
              "          google.colab.kernel.accessAllowed ? 'block' : 'none';\n",
              "\n",
              "        async function convertToInteractive(key) {\n",
              "          const element = document.querySelector('#df-5e2c8d67-eb45-4c5d-816c-fa1fe87595aa');\n",
              "          const dataTable =\n",
              "            await google.colab.kernel.invokeFunction('convertToInteractive',\n",
              "                                                     [key], {});\n",
              "          if (!dataTable) return;\n",
              "\n",
              "          const docLinkHtml = 'Like what you see? Visit the ' +\n",
              "            '<a target=\"_blank\" href=https://colab.research.google.com/notebooks/data_table.ipynb>data table notebook</a>'\n",
              "            + ' to learn more about interactive tables.';\n",
              "          element.innerHTML = '';\n",
              "          dataTable['output_type'] = 'display_data';\n",
              "          await google.colab.output.renderOutput(dataTable, element);\n",
              "          const docLink = document.createElement('div');\n",
              "          docLink.innerHTML = docLinkHtml;\n",
              "          element.appendChild(docLink);\n",
              "        }\n",
              "      </script>\n",
              "    </div>\n",
              "  </div>\n",
              "  "
            ]
          },
          "metadata": {},
          "execution_count": 322
        }
      ],
      "source": [
        "fumo.drop(['Posto'], axis = 1, inplace = True)\n",
        "fumo\n"
      ]
    },
    {
      "cell_type": "markdown",
      "metadata": {
        "id": "QrhSJfAipsmh"
      },
      "source": [
        "### Obter $T$\n",
        "\n",
        "## $T$ = menor das somas de postos de mesmo sinal"
      ]
    },
    {
      "cell_type": "code",
      "execution_count": null,
      "metadata": {
        "id": "TTWy-3OQpsmh",
        "colab": {
          "base_uri": "https://localhost:8080/"
        },
        "outputId": "0ee1c944-9289-4685-8d7d-23c747735023"
      },
      "outputs": [
        {
          "output_type": "execute_result",
          "data": {
            "text/plain": [
              "22.0"
            ]
          },
          "metadata": {},
          "execution_count": 323
        }
      ],
      "source": [
        "T = min(fumo['Posto (+)'].sum(), fumo['Posto (-)'].sum())\n",
        "T"
      ]
    },
    {
      "cell_type": "markdown",
      "metadata": {
        "id": "3y4Tn1y4psmi"
      },
      "source": [
        "### Obter $\\mu_T$\n",
        "\n",
        "# $$\\mu_T = \\frac{n(n+1)}{4}$$\n"
      ]
    },
    {
      "cell_type": "code",
      "execution_count": null,
      "metadata": {
        "id": "0KhV5ph6psmi",
        "colab": {
          "base_uri": "https://localhost:8080/"
        },
        "outputId": "1b7081a1-88b4-4101-e4fa-a9ff56c9a05b"
      },
      "outputs": [
        {
          "output_type": "execute_result",
          "data": {
            "text/plain": [
              "315.0"
            ]
          },
          "metadata": {},
          "execution_count": 324
        }
      ],
      "source": [
        "mu_T = (n * (n+1)) / 4\n",
        "mu_T"
      ]
    },
    {
      "cell_type": "markdown",
      "metadata": {
        "id": "ZqFb-m08psmj"
      },
      "source": [
        "### Obter $\\sigma_T$\n",
        "\n",
        "# $$\\sigma_T = \\sqrt{\\frac{n(n + 1)(2n + 1)}{24}}$$"
      ]
    },
    {
      "cell_type": "code",
      "execution_count": null,
      "metadata": {
        "id": "c6dypGFSpsmj",
        "colab": {
          "base_uri": "https://localhost:8080/"
        },
        "outputId": "008cced0-a48e-411f-ceac-178ad9fc04ab"
      },
      "outputs": [
        {
          "output_type": "execute_result",
          "data": {
            "text/plain": [
              "61.053255441458646"
            ]
          },
          "metadata": {},
          "execution_count": 325
        }
      ],
      "source": [
        "sigma_T = np.sqrt((n * (n + 1) * ((2 * n) + 1)) / 24)\n",
        "sigma_T"
      ]
    },
    {
      "cell_type": "markdown",
      "metadata": {
        "id": "qEk2CUKApsmk"
      },
      "source": [
        "### Obter $Z_{teste}$\n",
        "\n",
        "# $$Z = \\frac{T - \\mu_T}{\\sigma_T}$$"
      ]
    },
    {
      "cell_type": "code",
      "execution_count": null,
      "metadata": {
        "id": "KqPQgbBEpsmk",
        "colab": {
          "base_uri": "https://localhost:8080/"
        },
        "outputId": "c3f9834f-1ce8-48b8-f215-c33103ecd604"
      },
      "outputs": [
        {
          "output_type": "execute_result",
          "data": {
            "text/plain": [
              "-4.799088891843698"
            ]
          },
          "metadata": {},
          "execution_count": 326
        }
      ],
      "source": [
        "Z = (T - mu_T) / sigma_T\n",
        "Z"
      ]
    },
    {
      "cell_type": "markdown",
      "metadata": {
        "id": "iMpU26IZpsmm"
      },
      "source": [
        "![Estatística-Teste](https://caelum-online-public.s3.amazonaws.com/1229-estatistica-parte3/01/img021.png)"
      ]
    },
    {
      "cell_type": "markdown",
      "metadata": {
        "id": "XFgoaLzSpsmm"
      },
      "source": [
        "---"
      ]
    },
    {
      "cell_type": "markdown",
      "metadata": {
        "id": "YYGhG-lSpsmm"
      },
      "source": [
        "### **Passo 5** - Aceitação ou rejeição da hipótese nula"
      ]
    },
    {
      "cell_type": "markdown",
      "metadata": {
        "id": "pDOdx-Vqpsmm"
      },
      "source": [
        "<img src='https://caelum-online-public.s3.amazonaws.com/1229-estatistica-parte3/01/img022.png' width='80%'>"
      ]
    },
    {
      "cell_type": "markdown",
      "metadata": {
        "id": "ODKOD-rkpsmm"
      },
      "source": [
        "### <font color='red'>Critério do valor crítico</font>\n",
        "\n",
        "> ### Rejeitar $H_0$ se $Z \\leq -z_{\\alpha / 2}$ ou se $Z \\geq z_{\\alpha / 2}$"
      ]
    },
    {
      "cell_type": "code",
      "execution_count": null,
      "metadata": {
        "id": "Gmp8dB6Apsmm",
        "colab": {
          "base_uri": "https://localhost:8080/"
        },
        "outputId": "9a50a15b-b537-4894-9774-858b9616cdee"
      },
      "outputs": [
        {
          "output_type": "execute_result",
          "data": {
            "text/plain": [
              "True"
            ]
          },
          "metadata": {},
          "execution_count": 327
        }
      ],
      "source": [
        "Z <= -z_alpha_2"
      ]
    },
    {
      "cell_type": "code",
      "execution_count": null,
      "metadata": {
        "id": "E9jxoexkpsmn",
        "colab": {
          "base_uri": "https://localhost:8080/"
        },
        "outputId": "94d149c2-9b2a-45ef-d12f-81a8ab0de31d"
      },
      "outputs": [
        {
          "output_type": "execute_result",
          "data": {
            "text/plain": [
              "False"
            ]
          },
          "metadata": {},
          "execution_count": 328
        }
      ],
      "source": [
        "Z >= z_alpha_2"
      ]
    },
    {
      "cell_type": "markdown",
      "metadata": {
        "id": "n0gtzn53psmo"
      },
      "source": [
        "### <font color='green'>Conclusão: Rejeitamos a hipótese de que não existe diferença entre os grupos, isto é, existe uma diferença entre as médias de cigarros fumados pelos pacientes antes e depois do tratamento. E como é possível verificar através das médias de cigarros fumados por dia antes (31.86) e depois (11.2) do tratamento, podemos concluir que o tratamento apresentou resultado satisfatório.</font>"
      ]
    },
    {
      "cell_type": "markdown",
      "metadata": {
        "id": "8bP36mQ-psmp"
      },
      "source": [
        "### <font color='red'>Critério do valor $p$</font>\n",
        "\n",
        "> ### Rejeitar $H_0$ se o valor $p\\leq\\alpha$"
      ]
    },
    {
      "cell_type": "markdown",
      "metadata": {
        "id": "H8kFeqh1psmp"
      },
      "source": [
        "https://docs.scipy.org/doc/scipy/reference/generated/scipy.stats.wilcoxon.html"
      ]
    },
    {
      "cell_type": "code",
      "execution_count": null,
      "metadata": {
        "id": "bgWrxnBmpsmp"
      },
      "outputs": [],
      "source": [
        "from scipy.stats import wilcoxon"
      ]
    },
    {
      "cell_type": "code",
      "execution_count": null,
      "metadata": {
        "id": "PsdWRoHCpsmp",
        "colab": {
          "base_uri": "https://localhost:8080/"
        },
        "outputId": "56d919a1-1a65-4ec9-c4ae-edec03df8a4a"
      },
      "outputs": [
        {
          "output_type": "stream",
          "name": "stdout",
          "text": [
            "22.0\n",
            "1.584310018505865e-06\n"
          ]
        }
      ],
      "source": [
        "T, p_valor = wilcoxon(fumo.Antes, fumo.Depois)\n",
        "print(T)\n",
        "print(p_valor)"
      ]
    },
    {
      "cell_type": "code",
      "execution_count": null,
      "metadata": {
        "id": "Qk13I21vpsmq",
        "scrolled": true,
        "colab": {
          "base_uri": "https://localhost:8080/"
        },
        "outputId": "cb7ffebf-4204-4471-be9e-da35c971e0e8"
      },
      "outputs": [
        {
          "output_type": "execute_result",
          "data": {
            "text/plain": [
              "True"
            ]
          },
          "metadata": {},
          "execution_count": 331
        }
      ],
      "source": [
        "p_valor <= significancia"
      ]
    },
    {
      "cell_type": "markdown",
      "source": [
        "# **Exercicio: A importância dos cursos da Alura**\n",
        "\n",
        "Desconfiado da eficiência dos cursos e materiais de estudo online da Alura, um professor resolveu realizar um teste com um grupo de 14 alunos de sua classe. Para isto, ele submeteu estes alunos a duas etapas distintas e logo depois de cada etapa, aplicou uma avaliação. Na etapa inicial, foram oferecidas aulas normais, sem a utilização do material de apoio da Alura. Na segunda etapa, foram também oferecidas aulas normais, mas com a utilização do material de apoio da Alura. As notas obtidas pelos alunos estão na tabela abaixo:\n",
        "\n",
        "![image.png](data:image/png;base64,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)\n",
        "\n",
        "Assinale a alternativa que apresenta o resultado do teste, não paramétrico de Wilcoxon, aplicado pelo professor (estatística de teste T e decisão do teste). Considere um nível de significância de 10%."
      ],
      "metadata": {
        "id": "MwnLjIQiddV3"
      }
    },
    {
      "cell_type": "code",
      "source": [
        "import pandas as pd\n",
        "import string"
      ],
      "metadata": {
        "id": "XawZl0Wfftmn"
      },
      "execution_count": null,
      "outputs": []
    },
    {
      "cell_type": "code",
      "source": [
        "dados = {'Sem Alura': [ 7,  8, 6, 6, 10, 4, 2, 5,  9, 2, 4, 9, 1, 10],\n",
        "         'Com Alura': [10, 10, 9, 9,  9, 7, 5, 8, 10, 6, 3, 7, 4,  8]}"
      ],
      "metadata": {
        "id": "SrRLD5w8eBKq"
      },
      "execution_count": null,
      "outputs": []
    },
    {
      "cell_type": "code",
      "source": [
        "letras = list(string.ascii_uppercase[:len(dados['Sem Alura'])])"
      ],
      "metadata": {
        "id": "pd5-AHuceBIW"
      },
      "execution_count": null,
      "outputs": []
    },
    {
      "cell_type": "code",
      "source": [
        "index = ['Aluno ' + letra for letra in letras]"
      ],
      "metadata": {
        "id": "POdmWZaMgzI-"
      },
      "execution_count": null,
      "outputs": []
    },
    {
      "cell_type": "code",
      "source": [
        "dados = pd.DataFrame(data = dados, index = index)\n",
        "dados"
      ],
      "metadata": {
        "colab": {
          "base_uri": "https://localhost:8080/",
          "height": 488
        },
        "id": "dK8ZI2cshFLG",
        "outputId": "75c8e094-b657-4e02-96b5-f6b6b6b19f87"
      },
      "execution_count": null,
      "outputs": [
        {
          "output_type": "execute_result",
          "data": {
            "text/plain": [
              "         Sem Alura  Com Alura\n",
              "Aluno A          7         10\n",
              "Aluno B          8         10\n",
              "Aluno C          6          9\n",
              "Aluno D          6          9\n",
              "Aluno E         10          9\n",
              "Aluno F          4          7\n",
              "Aluno G          2          5\n",
              "Aluno H          5          8\n",
              "Aluno I          9         10\n",
              "Aluno J          2          6\n",
              "Aluno K          4          3\n",
              "Aluno L          9          7\n",
              "Aluno M          1          4\n",
              "Aluno N         10          8"
            ],
            "text/html": [
              "\n",
              "  <div id=\"df-cad291a0-1be8-4235-88ec-8da59721559c\">\n",
              "    <div class=\"colab-df-container\">\n",
              "      <div>\n",
              "<style scoped>\n",
              "    .dataframe tbody tr th:only-of-type {\n",
              "        vertical-align: middle;\n",
              "    }\n",
              "\n",
              "    .dataframe tbody tr th {\n",
              "        vertical-align: top;\n",
              "    }\n",
              "\n",
              "    .dataframe thead th {\n",
              "        text-align: right;\n",
              "    }\n",
              "</style>\n",
              "<table border=\"1\" class=\"dataframe\">\n",
              "  <thead>\n",
              "    <tr style=\"text-align: right;\">\n",
              "      <th></th>\n",
              "      <th>Sem Alura</th>\n",
              "      <th>Com Alura</th>\n",
              "    </tr>\n",
              "  </thead>\n",
              "  <tbody>\n",
              "    <tr>\n",
              "      <th>Aluno A</th>\n",
              "      <td>7</td>\n",
              "      <td>10</td>\n",
              "    </tr>\n",
              "    <tr>\n",
              "      <th>Aluno B</th>\n",
              "      <td>8</td>\n",
              "      <td>10</td>\n",
              "    </tr>\n",
              "    <tr>\n",
              "      <th>Aluno C</th>\n",
              "      <td>6</td>\n",
              "      <td>9</td>\n",
              "    </tr>\n",
              "    <tr>\n",
              "      <th>Aluno D</th>\n",
              "      <td>6</td>\n",
              "      <td>9</td>\n",
              "    </tr>\n",
              "    <tr>\n",
              "      <th>Aluno E</th>\n",
              "      <td>10</td>\n",
              "      <td>9</td>\n",
              "    </tr>\n",
              "    <tr>\n",
              "      <th>Aluno F</th>\n",
              "      <td>4</td>\n",
              "      <td>7</td>\n",
              "    </tr>\n",
              "    <tr>\n",
              "      <th>Aluno G</th>\n",
              "      <td>2</td>\n",
              "      <td>5</td>\n",
              "    </tr>\n",
              "    <tr>\n",
              "      <th>Aluno H</th>\n",
              "      <td>5</td>\n",
              "      <td>8</td>\n",
              "    </tr>\n",
              "    <tr>\n",
              "      <th>Aluno I</th>\n",
              "      <td>9</td>\n",
              "      <td>10</td>\n",
              "    </tr>\n",
              "    <tr>\n",
              "      <th>Aluno J</th>\n",
              "      <td>2</td>\n",
              "      <td>6</td>\n",
              "    </tr>\n",
              "    <tr>\n",
              "      <th>Aluno K</th>\n",
              "      <td>4</td>\n",
              "      <td>3</td>\n",
              "    </tr>\n",
              "    <tr>\n",
              "      <th>Aluno L</th>\n",
              "      <td>9</td>\n",
              "      <td>7</td>\n",
              "    </tr>\n",
              "    <tr>\n",
              "      <th>Aluno M</th>\n",
              "      <td>1</td>\n",
              "      <td>4</td>\n",
              "    </tr>\n",
              "    <tr>\n",
              "      <th>Aluno N</th>\n",
              "      <td>10</td>\n",
              "      <td>8</td>\n",
              "    </tr>\n",
              "  </tbody>\n",
              "</table>\n",
              "</div>\n",
              "      <button class=\"colab-df-convert\" onclick=\"convertToInteractive('df-cad291a0-1be8-4235-88ec-8da59721559c')\"\n",
              "              title=\"Convert this dataframe to an interactive table.\"\n",
              "              style=\"display:none;\">\n",
              "        \n",
              "  <svg xmlns=\"http://www.w3.org/2000/svg\" height=\"24px\"viewBox=\"0 0 24 24\"\n",
              "       width=\"24px\">\n",
              "    <path d=\"M0 0h24v24H0V0z\" fill=\"none\"/>\n",
              "    <path d=\"M18.56 5.44l.94 2.06.94-2.06 2.06-.94-2.06-.94-.94-2.06-.94 2.06-2.06.94zm-11 1L8.5 8.5l.94-2.06 2.06-.94-2.06-.94L8.5 2.5l-.94 2.06-2.06.94zm10 10l.94 2.06.94-2.06 2.06-.94-2.06-.94-.94-2.06-.94 2.06-2.06.94z\"/><path d=\"M17.41 7.96l-1.37-1.37c-.4-.4-.92-.59-1.43-.59-.52 0-1.04.2-1.43.59L10.3 9.45l-7.72 7.72c-.78.78-.78 2.05 0 2.83L4 21.41c.39.39.9.59 1.41.59.51 0 1.02-.2 1.41-.59l7.78-7.78 2.81-2.81c.8-.78.8-2.07 0-2.86zM5.41 20L4 18.59l7.72-7.72 1.47 1.35L5.41 20z\"/>\n",
              "  </svg>\n",
              "      </button>\n",
              "      \n",
              "  <style>\n",
              "    .colab-df-container {\n",
              "      display:flex;\n",
              "      flex-wrap:wrap;\n",
              "      gap: 12px;\n",
              "    }\n",
              "\n",
              "    .colab-df-convert {\n",
              "      background-color: #E8F0FE;\n",
              "      border: none;\n",
              "      border-radius: 50%;\n",
              "      cursor: pointer;\n",
              "      display: none;\n",
              "      fill: #1967D2;\n",
              "      height: 32px;\n",
              "      padding: 0 0 0 0;\n",
              "      width: 32px;\n",
              "    }\n",
              "\n",
              "    .colab-df-convert:hover {\n",
              "      background-color: #E2EBFA;\n",
              "      box-shadow: 0px 1px 2px rgba(60, 64, 67, 0.3), 0px 1px 3px 1px rgba(60, 64, 67, 0.15);\n",
              "      fill: #174EA6;\n",
              "    }\n",
              "\n",
              "    [theme=dark] .colab-df-convert {\n",
              "      background-color: #3B4455;\n",
              "      fill: #D2E3FC;\n",
              "    }\n",
              "\n",
              "    [theme=dark] .colab-df-convert:hover {\n",
              "      background-color: #434B5C;\n",
              "      box-shadow: 0px 1px 3px 1px rgba(0, 0, 0, 0.15);\n",
              "      filter: drop-shadow(0px 1px 2px rgba(0, 0, 0, 0.3));\n",
              "      fill: #FFFFFF;\n",
              "    }\n",
              "  </style>\n",
              "\n",
              "      <script>\n",
              "        const buttonEl =\n",
              "          document.querySelector('#df-cad291a0-1be8-4235-88ec-8da59721559c button.colab-df-convert');\n",
              "        buttonEl.style.display =\n",
              "          google.colab.kernel.accessAllowed ? 'block' : 'none';\n",
              "\n",
              "        async function convertToInteractive(key) {\n",
              "          const element = document.querySelector('#df-cad291a0-1be8-4235-88ec-8da59721559c');\n",
              "          const dataTable =\n",
              "            await google.colab.kernel.invokeFunction('convertToInteractive',\n",
              "                                                     [key], {});\n",
              "          if (!dataTable) return;\n",
              "\n",
              "          const docLinkHtml = 'Like what you see? Visit the ' +\n",
              "            '<a target=\"_blank\" href=https://colab.research.google.com/notebooks/data_table.ipynb>data table notebook</a>'\n",
              "            + ' to learn more about interactive tables.';\n",
              "          element.innerHTML = '';\n",
              "          dataTable['output_type'] = 'display_data';\n",
              "          await google.colab.output.renderOutput(dataTable, element);\n",
              "          const docLink = document.createElement('div');\n",
              "          docLink.innerHTML = docLinkHtml;\n",
              "          element.appendChild(docLink);\n",
              "        }\n",
              "      </script>\n",
              "    </div>\n",
              "  </div>\n",
              "  "
            ]
          },
          "metadata": {},
          "execution_count": 336
        }
      ]
    },
    {
      "cell_type": "code",
      "source": [
        "significancia = 0.1"
      ],
      "metadata": {
        "id": "8GvegXO9F21Q"
      },
      "execution_count": null,
      "outputs": []
    },
    {
      "cell_type": "code",
      "source": [
        "from scipy.stats import wilcoxon\n",
        "T, p_valor = wilcoxon(dados['Sem Alura'], dados['Com Alura'])\n",
        "print(T)\n",
        "print(p_valor)\n"
      ],
      "metadata": {
        "colab": {
          "base_uri": "https://localhost:8080/"
        },
        "id": "mqHJUj2QFoQQ",
        "outputId": "5f87898d-d78e-41b7-8daa-0bbc03369270"
      },
      "execution_count": null,
      "outputs": [
        {
          "output_type": "stream",
          "name": "stdout",
          "text": [
            "14.0\n",
            "0.013427734375\n"
          ]
        }
      ]
    },
    {
      "cell_type": "markdown",
      "source": [
        "![image.png](data:image/png;base64,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)"
      ],
      "metadata": {
        "id": "_skuhYy1GMXo"
      }
    },
    {
      "cell_type": "code",
      "source": [
        "p_valor <= significancia"
      ],
      "metadata": {
        "colab": {
          "base_uri": "https://localhost:8080/"
        },
        "id": "B5Tgmt0LF2Jw",
        "outputId": "d300b9ab-34f6-4479-d5c1-9115403830d7"
      },
      "execution_count": null,
      "outputs": [
        {
          "output_type": "execute_result",
          "data": {
            "text/plain": [
              "True"
            ]
          },
          "metadata": {},
          "execution_count": 339
        }
      ]
    },
    {
      "cell_type": "markdown",
      "source": [
        "Rejeitamos a hipótese de que não há diferença entre os grupos com um nível de confiança de 10%."
      ],
      "metadata": {
        "id": "xDEYX7HJHPsQ"
      }
    },
    {
      "cell_type": "markdown",
      "source": [
        "**Resolução oficial:**"
      ],
      "metadata": {
        "id": "6d0BnylkHatw"
      }
    },
    {
      "cell_type": "code",
      "source": [
        "from scipy.stats import wilcoxon\n",
        "\n",
        "sem_Alura = pd.Series([ 7,  8, 6, 6, 10, 4, 2, 5,  9, 2, 4, 9, 1, 10])\n",
        "com_Alura = pd.Series([10, 10, 9, 9,  9, 7, 5, 8, 10, 6, 3, 7, 4,  8])\n",
        "\n",
        "significancia = 0.10\n",
        "\n",
        "T, p_valor = wilcoxon(sem_Alura, com_Alura)\n",
        "print('T =', T)\n",
        "\n",
        "if(p_valor <= significancia):\n",
        "    print('Rejeitar H0')\n",
        "else:\n",
        "    print('Aceitar H0')"
      ],
      "metadata": {
        "colab": {
          "base_uri": "https://localhost:8080/"
        },
        "id": "UmKuGBTkHahQ",
        "outputId": "39194184-8e85-4664-eb04-241ff7e9aca9"
      },
      "execution_count": null,
      "outputs": [
        {
          "output_type": "stream",
          "name": "stdout",
          "text": [
            "T = 14.0\n",
            "Rejeitar H0\n"
          ]
        }
      ]
    },
    {
      "cell_type": "markdown",
      "metadata": {
        "id": "ZGNui18Xpsms"
      },
      "source": [
        "---"
      ]
    },
    {
      "cell_type": "markdown",
      "metadata": {
        "id": "sIs_74V5psms"
      },
      "source": [
        "## <font color='red'>Problema</font>"
      ]
    },
    {
      "cell_type": "markdown",
      "metadata": {
        "id": "Rk4GknKUpsms"
      },
      "source": [
        "Em nosso dataset temos os rendimento dos chefes de domicílio obtidos da Pesquisa Nacional por Amostra de Domicílios - PNAD no ano de 2015. Um problema bastante conhecido em nosso país diz respeito a desigualdade de renda, principalmente entre homens e mulheres.\n",
        "\n",
        "Duas amostras aleatórias, uma de **6 homens** e outra com **8 mulheres**, foram selecionadas em nosso dataset. Com o objetivo de comprovar tal desigualdade **teste a igualdade das médias** entra estas duas amostras com um nível de **significância de 5%**."
      ]
    },
    {
      "cell_type": "markdown",
      "metadata": {
        "id": "iHBuQumppsmt"
      },
      "source": [
        "## <font color=green>4.3 Teste de Mann-Whitney</font>\n",
        "### Comparação de duas populações - amostras independentes\n",
        "***"
      ]
    },
    {
      "cell_type": "markdown",
      "metadata": {
        "id": "bDyY8UUPpsmt"
      },
      "source": [
        "Mann-Whitney é um teste não paramétrico utilizado para verificar se duas amostras independentes foram selecionadas a partir de populações que têm a mesma média. Por ser um teste não paramétrico, Mann-Whitney torna-se uma alternativa ao teste paramétrico de comparação de médias."
      ]
    },
    {
      "cell_type": "code",
      "execution_count": null,
      "metadata": {
        "id": "k_MCXHjIpsmt",
        "scrolled": true
      },
      "outputs": [],
      "source": [
        "dados = pd.read_csv('dados.csv')"
      ]
    },
    {
      "cell_type": "markdown",
      "metadata": {
        "id": "DjWTAICFpsmt"
      },
      "source": [
        "### Seleção das amostras"
      ]
    },
    {
      "cell_type": "code",
      "source": [
        "mulheres = dados.query('Sexo == 1 and Renda > 0').sample(n = 8, random_state = 101).Renda"
      ],
      "metadata": {
        "id": "GtISm2d_OTBu"
      },
      "execution_count": null,
      "outputs": []
    },
    {
      "cell_type": "code",
      "execution_count": null,
      "metadata": {
        "id": "whXUtsKLpsmu",
        "scrolled": true
      },
      "outputs": [],
      "source": [
        "homens = dados.query('Sexo == 0 and Renda > 0').sample(n = 6, random_state = 101).Renda"
      ]
    },
    {
      "cell_type": "markdown",
      "metadata": {
        "id": "HvQY_Wwjpsmx"
      },
      "source": [
        "### Dados do problema"
      ]
    },
    {
      "cell_type": "code",
      "execution_count": null,
      "metadata": {
        "id": "3fz8oLQspsmx",
        "colab": {
          "base_uri": "https://localhost:8080/"
        },
        "outputId": "a49994df-fdf8-4795-b35f-5ddb06d57c6c"
      },
      "outputs": [
        {
          "output_type": "execute_result",
          "data": {
            "text/plain": [
              "1090.75"
            ]
          },
          "metadata": {},
          "execution_count": 344
        }
      ],
      "source": [
        "media_amostra_M = mulheres.mean()\n",
        "media_amostra_M"
      ]
    },
    {
      "cell_type": "code",
      "execution_count": null,
      "metadata": {
        "id": "qJa9ykpJpsmz",
        "colab": {
          "base_uri": "https://localhost:8080/"
        },
        "outputId": "b86f3503-6c7a-4b08-afd1-ae0606156fa6"
      },
      "outputs": [
        {
          "output_type": "execute_result",
          "data": {
            "text/plain": [
              "1341.6666666666667"
            ]
          },
          "metadata": {},
          "execution_count": 345
        }
      ],
      "source": [
        "media_amostra_H = homens.mean()\n",
        "media_amostra_H"
      ]
    },
    {
      "cell_type": "code",
      "execution_count": null,
      "metadata": {
        "id": "9_cFuYzJpsm1"
      },
      "outputs": [],
      "source": [
        "significancia = 0.05\n",
        "confianca = 1 - significancia\n",
        "n_1 = len(homens)\n",
        "n_2 = len(mulheres)"
      ]
    },
    {
      "cell_type": "markdown",
      "source": [
        "Obs: Devido ao padrão de Mann-Whitney, a variável n_1 é atribuida à menor amostra, no caso, aos homens."
      ],
      "metadata": {
        "id": "etj7xXycPEd-"
      }
    },
    {
      "cell_type": "markdown",
      "metadata": {
        "id": "rnHNRcb5psm1"
      },
      "source": [
        "### **Passo 1** - formulação das hipóteses $H_0$ e $H_1$\n",
        "\n",
        "#### <font color='red'>Lembre-se, a hipótese nula sempre contém a alegação de igualdade</font>"
      ]
    },
    {
      "cell_type": "markdown",
      "metadata": {
        "id": "F-q66nqDpsm2"
      },
      "source": [
        "### $\\mu_m \\Rightarrow$ Média das rendas dos chefes de domicílios do sexo feminino\n",
        "### $\\mu_h \\Rightarrow$ Média das rendas dos chefes de domicílios do sexo masculino\n",
        "\n",
        "### $\n",
        "\\begin{cases}\n",
        "H_0: \\mu_m = \\mu_h\\\\\n",
        "H_1: \\mu_m < \\mu_h\n",
        "\\end{cases}\n",
        "$"
      ]
    },
    {
      "cell_type": "markdown",
      "metadata": {
        "id": "-A8XaMDnpsm3"
      },
      "source": [
        "---"
      ]
    },
    {
      "cell_type": "markdown",
      "metadata": {
        "id": "VhpHwyi3psm3"
      },
      "source": [
        "### **Passo 2** - escolha da distribuição amostral adequada"
      ]
    },
    {
      "cell_type": "markdown",
      "metadata": {
        "id": "hh2UhSRApsm4"
      },
      "source": [
        "Deve-se optar pela distribuição **$t$ de Student**, já que nada é mencionado sobre a distribuição da população, o desvio padrão populacional é desconhecido e o número de elementos investigados é menor que 30."
      ]
    },
    {
      "cell_type": "markdown",
      "metadata": {
        "id": "PP_3zdrWpsm4"
      },
      "source": [
        "---"
      ]
    },
    {
      "cell_type": "markdown",
      "metadata": {
        "id": "RALoS1ddpsm4"
      },
      "source": [
        "### **Passo 3** - fixação da significância do teste ($\\alpha$)"
      ]
    },
    {
      "cell_type": "markdown",
      "metadata": {
        "id": "0Ohhw-i5psm4"
      },
      "source": [
        "### Obtendo $t_{\\alpha}$"
      ]
    },
    {
      "cell_type": "code",
      "execution_count": null,
      "metadata": {
        "id": "oVNraTWypsm4",
        "colab": {
          "base_uri": "https://localhost:8080/"
        },
        "outputId": "2dbec331-3716-486a-fee0-3d12fa39f77c"
      },
      "outputs": [
        {
          "output_type": "execute_result",
          "data": {
            "text/plain": [
              "12"
            ]
          },
          "metadata": {},
          "execution_count": 347
        }
      ],
      "source": [
        "graus_de_liberdade = n_1 + n_2 - 2\n",
        "graus_de_liberdade"
      ]
    },
    {
      "cell_type": "code",
      "execution_count": null,
      "metadata": {
        "id": "px40muD3psm6",
        "scrolled": true,
        "colab": {
          "base_uri": "https://localhost:8080/",
          "height": 175
        },
        "outputId": "e8f5150b-fc32-48b5-d1f2-9bd92606b302"
      },
      "outputs": [
        {
          "output_type": "execute_result",
          "data": {
            "text/plain": [
              "Bicaudal                          0.100     0.090     0.080     0.070  \\\n",
              "Unicaudal                         0.050     0.045     0.040     0.035   \n",
              "Graus de Liberdade (n - 1) 11  1.795885  1.858772  1.928427  2.006663   \n",
              "                           12  1.782288  1.844015  1.912313  1.988934   \n",
              "                           13  1.770933    1.8317  1.898874  1.974158   \n",
              "\n",
              "Bicaudal                          0.060     0.050     0.040     0.030  \\\n",
              "Unicaudal                         0.030     0.025     0.020     0.015   \n",
              "Graus de Liberdade (n - 1) 11  2.096139  2.200985   2.32814  2.490664   \n",
              "                           12  2.076441  2.178813  2.302722    2.4607   \n",
              "                           13  2.060038  2.160369  2.281604  2.435845   \n",
              "\n",
              "Bicaudal                          0.020     0.010  \n",
              "Unicaudal                         0.010     0.005  \n",
              "Graus de Liberdade (n - 1) 11  2.718079  3.105807  \n",
              "                           12  2.680998   3.05454  \n",
              "                           13  2.650309  3.012276  "
            ],
            "text/html": [
              "\n",
              "  <div id=\"df-07b1a1df-897d-441f-aba4-2ce466a1505c\">\n",
              "    <div class=\"colab-df-container\">\n",
              "      <div>\n",
              "<style scoped>\n",
              "    .dataframe tbody tr th:only-of-type {\n",
              "        vertical-align: middle;\n",
              "    }\n",
              "\n",
              "    .dataframe tbody tr th {\n",
              "        vertical-align: top;\n",
              "    }\n",
              "\n",
              "    .dataframe thead tr th {\n",
              "        text-align: left;\n",
              "    }\n",
              "</style>\n",
              "<table border=\"1\" class=\"dataframe\">\n",
              "  <thead>\n",
              "    <tr>\n",
              "      <th></th>\n",
              "      <th>Bicaudal</th>\n",
              "      <th>0.100</th>\n",
              "      <th>0.090</th>\n",
              "      <th>0.080</th>\n",
              "      <th>0.070</th>\n",
              "      <th>0.060</th>\n",
              "      <th>0.050</th>\n",
              "      <th>0.040</th>\n",
              "      <th>0.030</th>\n",
              "      <th>0.020</th>\n",
              "      <th>0.010</th>\n",
              "    </tr>\n",
              "    <tr>\n",
              "      <th></th>\n",
              "      <th>Unicaudal</th>\n",
              "      <th>0.050</th>\n",
              "      <th>0.045</th>\n",
              "      <th>0.040</th>\n",
              "      <th>0.035</th>\n",
              "      <th>0.030</th>\n",
              "      <th>0.025</th>\n",
              "      <th>0.020</th>\n",
              "      <th>0.015</th>\n",
              "      <th>0.010</th>\n",
              "      <th>0.005</th>\n",
              "    </tr>\n",
              "  </thead>\n",
              "  <tbody>\n",
              "    <tr>\n",
              "      <th rowspan=\"3\" valign=\"top\">Graus de Liberdade (n - 1)</th>\n",
              "      <th>11</th>\n",
              "      <td>1.795885</td>\n",
              "      <td>1.858772</td>\n",
              "      <td>1.928427</td>\n",
              "      <td>2.006663</td>\n",
              "      <td>2.096139</td>\n",
              "      <td>2.200985</td>\n",
              "      <td>2.32814</td>\n",
              "      <td>2.490664</td>\n",
              "      <td>2.718079</td>\n",
              "      <td>3.105807</td>\n",
              "    </tr>\n",
              "    <tr>\n",
              "      <th>12</th>\n",
              "      <td>1.782288</td>\n",
              "      <td>1.844015</td>\n",
              "      <td>1.912313</td>\n",
              "      <td>1.988934</td>\n",
              "      <td>2.076441</td>\n",
              "      <td>2.178813</td>\n",
              "      <td>2.302722</td>\n",
              "      <td>2.4607</td>\n",
              "      <td>2.680998</td>\n",
              "      <td>3.05454</td>\n",
              "    </tr>\n",
              "    <tr>\n",
              "      <th>13</th>\n",
              "      <td>1.770933</td>\n",
              "      <td>1.8317</td>\n",
              "      <td>1.898874</td>\n",
              "      <td>1.974158</td>\n",
              "      <td>2.060038</td>\n",
              "      <td>2.160369</td>\n",
              "      <td>2.281604</td>\n",
              "      <td>2.435845</td>\n",
              "      <td>2.650309</td>\n",
              "      <td>3.012276</td>\n",
              "    </tr>\n",
              "  </tbody>\n",
              "</table>\n",
              "</div>\n",
              "      <button class=\"colab-df-convert\" onclick=\"convertToInteractive('df-07b1a1df-897d-441f-aba4-2ce466a1505c')\"\n",
              "              title=\"Convert this dataframe to an interactive table.\"\n",
              "              style=\"display:none;\">\n",
              "        \n",
              "  <svg xmlns=\"http://www.w3.org/2000/svg\" height=\"24px\"viewBox=\"0 0 24 24\"\n",
              "       width=\"24px\">\n",
              "    <path d=\"M0 0h24v24H0V0z\" fill=\"none\"/>\n",
              "    <path d=\"M18.56 5.44l.94 2.06.94-2.06 2.06-.94-2.06-.94-.94-2.06-.94 2.06-2.06.94zm-11 1L8.5 8.5l.94-2.06 2.06-.94-2.06-.94L8.5 2.5l-.94 2.06-2.06.94zm10 10l.94 2.06.94-2.06 2.06-.94-2.06-.94-.94-2.06-.94 2.06-2.06.94z\"/><path d=\"M17.41 7.96l-1.37-1.37c-.4-.4-.92-.59-1.43-.59-.52 0-1.04.2-1.43.59L10.3 9.45l-7.72 7.72c-.78.78-.78 2.05 0 2.83L4 21.41c.39.39.9.59 1.41.59.51 0 1.02-.2 1.41-.59l7.78-7.78 2.81-2.81c.8-.78.8-2.07 0-2.86zM5.41 20L4 18.59l7.72-7.72 1.47 1.35L5.41 20z\"/>\n",
              "  </svg>\n",
              "      </button>\n",
              "      \n",
              "  <style>\n",
              "    .colab-df-container {\n",
              "      display:flex;\n",
              "      flex-wrap:wrap;\n",
              "      gap: 12px;\n",
              "    }\n",
              "\n",
              "    .colab-df-convert {\n",
              "      background-color: #E8F0FE;\n",
              "      border: none;\n",
              "      border-radius: 50%;\n",
              "      cursor: pointer;\n",
              "      display: none;\n",
              "      fill: #1967D2;\n",
              "      height: 32px;\n",
              "      padding: 0 0 0 0;\n",
              "      width: 32px;\n",
              "    }\n",
              "\n",
              "    .colab-df-convert:hover {\n",
              "      background-color: #E2EBFA;\n",
              "      box-shadow: 0px 1px 2px rgba(60, 64, 67, 0.3), 0px 1px 3px 1px rgba(60, 64, 67, 0.15);\n",
              "      fill: #174EA6;\n",
              "    }\n",
              "\n",
              "    [theme=dark] .colab-df-convert {\n",
              "      background-color: #3B4455;\n",
              "      fill: #D2E3FC;\n",
              "    }\n",
              "\n",
              "    [theme=dark] .colab-df-convert:hover {\n",
              "      background-color: #434B5C;\n",
              "      box-shadow: 0px 1px 3px 1px rgba(0, 0, 0, 0.15);\n",
              "      filter: drop-shadow(0px 1px 2px rgba(0, 0, 0, 0.3));\n",
              "      fill: #FFFFFF;\n",
              "    }\n",
              "  </style>\n",
              "\n",
              "      <script>\n",
              "        const buttonEl =\n",
              "          document.querySelector('#df-07b1a1df-897d-441f-aba4-2ce466a1505c button.colab-df-convert');\n",
              "        buttonEl.style.display =\n",
              "          google.colab.kernel.accessAllowed ? 'block' : 'none';\n",
              "\n",
              "        async function convertToInteractive(key) {\n",
              "          const element = document.querySelector('#df-07b1a1df-897d-441f-aba4-2ce466a1505c');\n",
              "          const dataTable =\n",
              "            await google.colab.kernel.invokeFunction('convertToInteractive',\n",
              "                                                     [key], {});\n",
              "          if (!dataTable) return;\n",
              "\n",
              "          const docLinkHtml = 'Like what you see? Visit the ' +\n",
              "            '<a target=\"_blank\" href=https://colab.research.google.com/notebooks/data_table.ipynb>data table notebook</a>'\n",
              "            + ' to learn more about interactive tables.';\n",
              "          element.innerHTML = '';\n",
              "          dataTable['output_type'] = 'display_data';\n",
              "          await google.colab.output.renderOutput(dataTable, element);\n",
              "          const docLink = document.createElement('div');\n",
              "          docLink.innerHTML = docLinkHtml;\n",
              "          element.appendChild(docLink);\n",
              "        }\n",
              "      </script>\n",
              "    </div>\n",
              "  </div>\n",
              "  "
            ]
          },
          "metadata": {},
          "execution_count": 348
        }
      ],
      "source": [
        "tabela_t_student[10:13]"
      ]
    },
    {
      "cell_type": "code",
      "execution_count": null,
      "metadata": {
        "id": "5iCApoGNpsm7",
        "colab": {
          "base_uri": "https://localhost:8080/"
        },
        "outputId": "56731be4-e583-4cc6-8a33-cbaf0a4f4dc8"
      },
      "outputs": [
        {
          "output_type": "execute_result",
          "data": {
            "text/plain": [
              "-1.78"
            ]
          },
          "metadata": {},
          "execution_count": 349
        }
      ],
      "source": [
        "t_alpha = t_student.ppf(significancia, graus_de_liberdade)\n",
        "t_alpha.round(2)"
      ]
    },
    {
      "cell_type": "markdown",
      "metadata": {
        "id": "Hv5Wk8G0psm7"
      },
      "source": [
        "![Região de Aceitação](https://caelum-online-public.s3.amazonaws.com/1229-estatistica-parte3/01/img023.png)"
      ]
    },
    {
      "cell_type": "markdown",
      "metadata": {
        "id": "qF2QVjmtpsm7"
      },
      "source": [
        "---"
      ]
    },
    {
      "cell_type": "markdown",
      "metadata": {
        "id": "mD62Ibrupsm8"
      },
      "source": [
        "### **Passo 4** - cálculo da estatística-teste e verificação desse valor com as áreas de aceitação e rejeição do teste\n",
        "## 1. Definir os n's:\n",
        "### $n_1$ = nº de elementos do menor grupo\n",
        "### $n_2$ = nº de elementos do maior grupo\n",
        "---\n",
        "## 2. Obter a soma dos postos\n",
        "### $R_1$ = soma dos postos do grupo $n_1$\n",
        "### $R_2$ = soma dos postos do grupo $n_2$\n",
        "---\n",
        "## 3. Obter as estatísticas\n",
        "# $$u_1 = n_1 \\times n_2 + \\frac{n_1 \\times (n_1 + 1)}{2} - R_1$$\n",
        "# $$u_2 = n_1 \\times n_2 + \\frac{n_2 \\times (n_2 + 1)}{2} - R_2$$\n",
        "---\n",
        "## 4. Selecionar o menor U\n",
        "# $$u = min(u_1, u_2)$$\n",
        "---\n",
        "## 5. Obter a estatística de teste\n",
        "# $$Z = \\frac{u - \\mu{(u)}}{\\sigma{(u)}}$$\n",
        "\n",
        "Onde\n",
        "\n",
        "# $$\\mu{(u)} = \\frac{n_1 \\times n_2}{2}$$\n",
        "# $$\\sigma{(u)} = \\sqrt{\\frac{n_1 \\times n_2 \\times (n_1 + n_2 + 1)}{12}}$$"
      ]
    },
    {
      "cell_type": "markdown",
      "metadata": {
        "id": "DsVNwKjOpsm8"
      },
      "source": [
        "### Obtendo os postos"
      ]
    },
    {
      "cell_type": "code",
      "execution_count": null,
      "metadata": {
        "id": "mjUNCgykpsm8",
        "colab": {
          "base_uri": "https://localhost:8080/",
          "height": 238
        },
        "outputId": "94488c3b-80b2-4edb-aa39-64a32679c9ff"
      },
      "outputs": [
        {
          "output_type": "execute_result",
          "data": {
            "text/plain": [
              "       Renda    Sexo\n",
              "67872   1200  Homens\n",
              "30211   2000  Homens\n",
              "64406    850  Homens\n",
              "26519    800  Homens\n",
              "61540   2000  Homens\n",
              "17422   1200  Homens"
            ],
            "text/html": [
              "\n",
              "  <div id=\"df-4fbf59d6-c6c9-47d0-9527-92738bb39215\">\n",
              "    <div class=\"colab-df-container\">\n",
              "      <div>\n",
              "<style scoped>\n",
              "    .dataframe tbody tr th:only-of-type {\n",
              "        vertical-align: middle;\n",
              "    }\n",
              "\n",
              "    .dataframe tbody tr th {\n",
              "        vertical-align: top;\n",
              "    }\n",
              "\n",
              "    .dataframe thead th {\n",
              "        text-align: right;\n",
              "    }\n",
              "</style>\n",
              "<table border=\"1\" class=\"dataframe\">\n",
              "  <thead>\n",
              "    <tr style=\"text-align: right;\">\n",
              "      <th></th>\n",
              "      <th>Renda</th>\n",
              "      <th>Sexo</th>\n",
              "    </tr>\n",
              "  </thead>\n",
              "  <tbody>\n",
              "    <tr>\n",
              "      <th>67872</th>\n",
              "      <td>1200</td>\n",
              "      <td>Homens</td>\n",
              "    </tr>\n",
              "    <tr>\n",
              "      <th>30211</th>\n",
              "      <td>2000</td>\n",
              "      <td>Homens</td>\n",
              "    </tr>\n",
              "    <tr>\n",
              "      <th>64406</th>\n",
              "      <td>850</td>\n",
              "      <td>Homens</td>\n",
              "    </tr>\n",
              "    <tr>\n",
              "      <th>26519</th>\n",
              "      <td>800</td>\n",
              "      <td>Homens</td>\n",
              "    </tr>\n",
              "    <tr>\n",
              "      <th>61540</th>\n",
              "      <td>2000</td>\n",
              "      <td>Homens</td>\n",
              "    </tr>\n",
              "    <tr>\n",
              "      <th>17422</th>\n",
              "      <td>1200</td>\n",
              "      <td>Homens</td>\n",
              "    </tr>\n",
              "  </tbody>\n",
              "</table>\n",
              "</div>\n",
              "      <button class=\"colab-df-convert\" onclick=\"convertToInteractive('df-4fbf59d6-c6c9-47d0-9527-92738bb39215')\"\n",
              "              title=\"Convert this dataframe to an interactive table.\"\n",
              "              style=\"display:none;\">\n",
              "        \n",
              "  <svg xmlns=\"http://www.w3.org/2000/svg\" height=\"24px\"viewBox=\"0 0 24 24\"\n",
              "       width=\"24px\">\n",
              "    <path d=\"M0 0h24v24H0V0z\" fill=\"none\"/>\n",
              "    <path d=\"M18.56 5.44l.94 2.06.94-2.06 2.06-.94-2.06-.94-.94-2.06-.94 2.06-2.06.94zm-11 1L8.5 8.5l.94-2.06 2.06-.94-2.06-.94L8.5 2.5l-.94 2.06-2.06.94zm10 10l.94 2.06.94-2.06 2.06-.94-2.06-.94-.94-2.06-.94 2.06-2.06.94z\"/><path d=\"M17.41 7.96l-1.37-1.37c-.4-.4-.92-.59-1.43-.59-.52 0-1.04.2-1.43.59L10.3 9.45l-7.72 7.72c-.78.78-.78 2.05 0 2.83L4 21.41c.39.39.9.59 1.41.59.51 0 1.02-.2 1.41-.59l7.78-7.78 2.81-2.81c.8-.78.8-2.07 0-2.86zM5.41 20L4 18.59l7.72-7.72 1.47 1.35L5.41 20z\"/>\n",
              "  </svg>\n",
              "      </button>\n",
              "      \n",
              "  <style>\n",
              "    .colab-df-container {\n",
              "      display:flex;\n",
              "      flex-wrap:wrap;\n",
              "      gap: 12px;\n",
              "    }\n",
              "\n",
              "    .colab-df-convert {\n",
              "      background-color: #E8F0FE;\n",
              "      border: none;\n",
              "      border-radius: 50%;\n",
              "      cursor: pointer;\n",
              "      display: none;\n",
              "      fill: #1967D2;\n",
              "      height: 32px;\n",
              "      padding: 0 0 0 0;\n",
              "      width: 32px;\n",
              "    }\n",
              "\n",
              "    .colab-df-convert:hover {\n",
              "      background-color: #E2EBFA;\n",
              "      box-shadow: 0px 1px 2px rgba(60, 64, 67, 0.3), 0px 1px 3px 1px rgba(60, 64, 67, 0.15);\n",
              "      fill: #174EA6;\n",
              "    }\n",
              "\n",
              "    [theme=dark] .colab-df-convert {\n",
              "      background-color: #3B4455;\n",
              "      fill: #D2E3FC;\n",
              "    }\n",
              "\n",
              "    [theme=dark] .colab-df-convert:hover {\n",
              "      background-color: #434B5C;\n",
              "      box-shadow: 0px 1px 3px 1px rgba(0, 0, 0, 0.15);\n",
              "      filter: drop-shadow(0px 1px 2px rgba(0, 0, 0, 0.3));\n",
              "      fill: #FFFFFF;\n",
              "    }\n",
              "  </style>\n",
              "\n",
              "      <script>\n",
              "        const buttonEl =\n",
              "          document.querySelector('#df-4fbf59d6-c6c9-47d0-9527-92738bb39215 button.colab-df-convert');\n",
              "        buttonEl.style.display =\n",
              "          google.colab.kernel.accessAllowed ? 'block' : 'none';\n",
              "\n",
              "        async function convertToInteractive(key) {\n",
              "          const element = document.querySelector('#df-4fbf59d6-c6c9-47d0-9527-92738bb39215');\n",
              "          const dataTable =\n",
              "            await google.colab.kernel.invokeFunction('convertToInteractive',\n",
              "                                                     [key], {});\n",
              "          if (!dataTable) return;\n",
              "\n",
              "          const docLinkHtml = 'Like what you see? Visit the ' +\n",
              "            '<a target=\"_blank\" href=https://colab.research.google.com/notebooks/data_table.ipynb>data table notebook</a>'\n",
              "            + ' to learn more about interactive tables.';\n",
              "          element.innerHTML = '';\n",
              "          dataTable['output_type'] = 'display_data';\n",
              "          await google.colab.output.renderOutput(dataTable, element);\n",
              "          const docLink = document.createElement('div');\n",
              "          docLink.innerHTML = docLinkHtml;\n",
              "          element.appendChild(docLink);\n",
              "        }\n",
              "      </script>\n",
              "    </div>\n",
              "  </div>\n",
              "  "
            ]
          },
          "metadata": {},
          "execution_count": 350
        }
      ],
      "source": [
        "H = pd.DataFrame(homens)\n",
        "H['Sexo'] = 'Homens'\n",
        "H"
      ]
    },
    {
      "cell_type": "code",
      "execution_count": null,
      "metadata": {
        "id": "y68IGk4o8mgB",
        "colab": {
          "base_uri": "https://localhost:8080/",
          "height": 300
        },
        "outputId": "54eb97e6-07ba-4c52-b70e-32c8b6bbf0bf"
      },
      "outputs": [
        {
          "output_type": "execute_result",
          "data": {
            "text/plain": [
              "       Renda      Sexo\n",
              "6251    1100  Mulheres\n",
              "34764    400  Mulheres\n",
              "40596    788  Mulheres\n",
              "11303   4300  Mulheres\n",
              "22733    250  Mulheres\n",
              "24707    400  Mulheres\n",
              "60340    700  Mulheres\n",
              "17035    788  Mulheres"
            ],
            "text/html": [
              "\n",
              "  <div id=\"df-0d8fba6a-c85c-4157-bb06-1abd9fbac2cb\">\n",
              "    <div class=\"colab-df-container\">\n",
              "      <div>\n",
              "<style scoped>\n",
              "    .dataframe tbody tr th:only-of-type {\n",
              "        vertical-align: middle;\n",
              "    }\n",
              "\n",
              "    .dataframe tbody tr th {\n",
              "        vertical-align: top;\n",
              "    }\n",
              "\n",
              "    .dataframe thead th {\n",
              "        text-align: right;\n",
              "    }\n",
              "</style>\n",
              "<table border=\"1\" class=\"dataframe\">\n",
              "  <thead>\n",
              "    <tr style=\"text-align: right;\">\n",
              "      <th></th>\n",
              "      <th>Renda</th>\n",
              "      <th>Sexo</th>\n",
              "    </tr>\n",
              "  </thead>\n",
              "  <tbody>\n",
              "    <tr>\n",
              "      <th>6251</th>\n",
              "      <td>1100</td>\n",
              "      <td>Mulheres</td>\n",
              "    </tr>\n",
              "    <tr>\n",
              "      <th>34764</th>\n",
              "      <td>400</td>\n",
              "      <td>Mulheres</td>\n",
              "    </tr>\n",
              "    <tr>\n",
              "      <th>40596</th>\n",
              "      <td>788</td>\n",
              "      <td>Mulheres</td>\n",
              "    </tr>\n",
              "    <tr>\n",
              "      <th>11303</th>\n",
              "      <td>4300</td>\n",
              "      <td>Mulheres</td>\n",
              "    </tr>\n",
              "    <tr>\n",
              "      <th>22733</th>\n",
              "      <td>250</td>\n",
              "      <td>Mulheres</td>\n",
              "    </tr>\n",
              "    <tr>\n",
              "      <th>24707</th>\n",
              "      <td>400</td>\n",
              "      <td>Mulheres</td>\n",
              "    </tr>\n",
              "    <tr>\n",
              "      <th>60340</th>\n",
              "      <td>700</td>\n",
              "      <td>Mulheres</td>\n",
              "    </tr>\n",
              "    <tr>\n",
              "      <th>17035</th>\n",
              "      <td>788</td>\n",
              "      <td>Mulheres</td>\n",
              "    </tr>\n",
              "  </tbody>\n",
              "</table>\n",
              "</div>\n",
              "      <button class=\"colab-df-convert\" onclick=\"convertToInteractive('df-0d8fba6a-c85c-4157-bb06-1abd9fbac2cb')\"\n",
              "              title=\"Convert this dataframe to an interactive table.\"\n",
              "              style=\"display:none;\">\n",
              "        \n",
              "  <svg xmlns=\"http://www.w3.org/2000/svg\" height=\"24px\"viewBox=\"0 0 24 24\"\n",
              "       width=\"24px\">\n",
              "    <path d=\"M0 0h24v24H0V0z\" fill=\"none\"/>\n",
              "    <path d=\"M18.56 5.44l.94 2.06.94-2.06 2.06-.94-2.06-.94-.94-2.06-.94 2.06-2.06.94zm-11 1L8.5 8.5l.94-2.06 2.06-.94-2.06-.94L8.5 2.5l-.94 2.06-2.06.94zm10 10l.94 2.06.94-2.06 2.06-.94-2.06-.94-.94-2.06-.94 2.06-2.06.94z\"/><path d=\"M17.41 7.96l-1.37-1.37c-.4-.4-.92-.59-1.43-.59-.52 0-1.04.2-1.43.59L10.3 9.45l-7.72 7.72c-.78.78-.78 2.05 0 2.83L4 21.41c.39.39.9.59 1.41.59.51 0 1.02-.2 1.41-.59l7.78-7.78 2.81-2.81c.8-.78.8-2.07 0-2.86zM5.41 20L4 18.59l7.72-7.72 1.47 1.35L5.41 20z\"/>\n",
              "  </svg>\n",
              "      </button>\n",
              "      \n",
              "  <style>\n",
              "    .colab-df-container {\n",
              "      display:flex;\n",
              "      flex-wrap:wrap;\n",
              "      gap: 12px;\n",
              "    }\n",
              "\n",
              "    .colab-df-convert {\n",
              "      background-color: #E8F0FE;\n",
              "      border: none;\n",
              "      border-radius: 50%;\n",
              "      cursor: pointer;\n",
              "      display: none;\n",
              "      fill: #1967D2;\n",
              "      height: 32px;\n",
              "      padding: 0 0 0 0;\n",
              "      width: 32px;\n",
              "    }\n",
              "\n",
              "    .colab-df-convert:hover {\n",
              "      background-color: #E2EBFA;\n",
              "      box-shadow: 0px 1px 2px rgba(60, 64, 67, 0.3), 0px 1px 3px 1px rgba(60, 64, 67, 0.15);\n",
              "      fill: #174EA6;\n",
              "    }\n",
              "\n",
              "    [theme=dark] .colab-df-convert {\n",
              "      background-color: #3B4455;\n",
              "      fill: #D2E3FC;\n",
              "    }\n",
              "\n",
              "    [theme=dark] .colab-df-convert:hover {\n",
              "      background-color: #434B5C;\n",
              "      box-shadow: 0px 1px 3px 1px rgba(0, 0, 0, 0.15);\n",
              "      filter: drop-shadow(0px 1px 2px rgba(0, 0, 0, 0.3));\n",
              "      fill: #FFFFFF;\n",
              "    }\n",
              "  </style>\n",
              "\n",
              "      <script>\n",
              "        const buttonEl =\n",
              "          document.querySelector('#df-0d8fba6a-c85c-4157-bb06-1abd9fbac2cb button.colab-df-convert');\n",
              "        buttonEl.style.display =\n",
              "          google.colab.kernel.accessAllowed ? 'block' : 'none';\n",
              "\n",
              "        async function convertToInteractive(key) {\n",
              "          const element = document.querySelector('#df-0d8fba6a-c85c-4157-bb06-1abd9fbac2cb');\n",
              "          const dataTable =\n",
              "            await google.colab.kernel.invokeFunction('convertToInteractive',\n",
              "                                                     [key], {});\n",
              "          if (!dataTable) return;\n",
              "\n",
              "          const docLinkHtml = 'Like what you see? Visit the ' +\n",
              "            '<a target=\"_blank\" href=https://colab.research.google.com/notebooks/data_table.ipynb>data table notebook</a>'\n",
              "            + ' to learn more about interactive tables.';\n",
              "          element.innerHTML = '';\n",
              "          dataTable['output_type'] = 'display_data';\n",
              "          await google.colab.output.renderOutput(dataTable, element);\n",
              "          const docLink = document.createElement('div');\n",
              "          docLink.innerHTML = docLinkHtml;\n",
              "          element.appendChild(docLink);\n",
              "        }\n",
              "      </script>\n",
              "    </div>\n",
              "  </div>\n",
              "  "
            ]
          },
          "metadata": {},
          "execution_count": 351
        }
      ],
      "source": [
        "M = pd.DataFrame(mulheres)\n",
        "M['Sexo'] = 'Mulheres'\n",
        "M"
      ]
    },
    {
      "cell_type": "code",
      "execution_count": null,
      "metadata": {
        "id": "HFVjaj4f8mOi",
        "colab": {
          "base_uri": "https://localhost:8080/",
          "height": 488
        },
        "outputId": "518e1119-0041-4667-8476-a6eeb36f5314"
      },
      "outputs": [
        {
          "output_type": "execute_result",
          "data": {
            "text/plain": [
              "    Renda      Sexo\n",
              "0    1200    Homens\n",
              "1    2000    Homens\n",
              "2     850    Homens\n",
              "3     800    Homens\n",
              "4    2000    Homens\n",
              "5    1200    Homens\n",
              "6    1100  Mulheres\n",
              "7     400  Mulheres\n",
              "8     788  Mulheres\n",
              "9    4300  Mulheres\n",
              "10    250  Mulheres\n",
              "11    400  Mulheres\n",
              "12    700  Mulheres\n",
              "13    788  Mulheres"
            ],
            "text/html": [
              "\n",
              "  <div id=\"df-dd3f3eed-87cc-420a-b997-64270f70fc54\">\n",
              "    <div class=\"colab-df-container\">\n",
              "      <div>\n",
              "<style scoped>\n",
              "    .dataframe tbody tr th:only-of-type {\n",
              "        vertical-align: middle;\n",
              "    }\n",
              "\n",
              "    .dataframe tbody tr th {\n",
              "        vertical-align: top;\n",
              "    }\n",
              "\n",
              "    .dataframe thead th {\n",
              "        text-align: right;\n",
              "    }\n",
              "</style>\n",
              "<table border=\"1\" class=\"dataframe\">\n",
              "  <thead>\n",
              "    <tr style=\"text-align: right;\">\n",
              "      <th></th>\n",
              "      <th>Renda</th>\n",
              "      <th>Sexo</th>\n",
              "    </tr>\n",
              "  </thead>\n",
              "  <tbody>\n",
              "    <tr>\n",
              "      <th>0</th>\n",
              "      <td>1200</td>\n",
              "      <td>Homens</td>\n",
              "    </tr>\n",
              "    <tr>\n",
              "      <th>1</th>\n",
              "      <td>2000</td>\n",
              "      <td>Homens</td>\n",
              "    </tr>\n",
              "    <tr>\n",
              "      <th>2</th>\n",
              "      <td>850</td>\n",
              "      <td>Homens</td>\n",
              "    </tr>\n",
              "    <tr>\n",
              "      <th>3</th>\n",
              "      <td>800</td>\n",
              "      <td>Homens</td>\n",
              "    </tr>\n",
              "    <tr>\n",
              "      <th>4</th>\n",
              "      <td>2000</td>\n",
              "      <td>Homens</td>\n",
              "    </tr>\n",
              "    <tr>\n",
              "      <th>5</th>\n",
              "      <td>1200</td>\n",
              "      <td>Homens</td>\n",
              "    </tr>\n",
              "    <tr>\n",
              "      <th>6</th>\n",
              "      <td>1100</td>\n",
              "      <td>Mulheres</td>\n",
              "    </tr>\n",
              "    <tr>\n",
              "      <th>7</th>\n",
              "      <td>400</td>\n",
              "      <td>Mulheres</td>\n",
              "    </tr>\n",
              "    <tr>\n",
              "      <th>8</th>\n",
              "      <td>788</td>\n",
              "      <td>Mulheres</td>\n",
              "    </tr>\n",
              "    <tr>\n",
              "      <th>9</th>\n",
              "      <td>4300</td>\n",
              "      <td>Mulheres</td>\n",
              "    </tr>\n",
              "    <tr>\n",
              "      <th>10</th>\n",
              "      <td>250</td>\n",
              "      <td>Mulheres</td>\n",
              "    </tr>\n",
              "    <tr>\n",
              "      <th>11</th>\n",
              "      <td>400</td>\n",
              "      <td>Mulheres</td>\n",
              "    </tr>\n",
              "    <tr>\n",
              "      <th>12</th>\n",
              "      <td>700</td>\n",
              "      <td>Mulheres</td>\n",
              "    </tr>\n",
              "    <tr>\n",
              "      <th>13</th>\n",
              "      <td>788</td>\n",
              "      <td>Mulheres</td>\n",
              "    </tr>\n",
              "  </tbody>\n",
              "</table>\n",
              "</div>\n",
              "      <button class=\"colab-df-convert\" onclick=\"convertToInteractive('df-dd3f3eed-87cc-420a-b997-64270f70fc54')\"\n",
              "              title=\"Convert this dataframe to an interactive table.\"\n",
              "              style=\"display:none;\">\n",
              "        \n",
              "  <svg xmlns=\"http://www.w3.org/2000/svg\" height=\"24px\"viewBox=\"0 0 24 24\"\n",
              "       width=\"24px\">\n",
              "    <path d=\"M0 0h24v24H0V0z\" fill=\"none\"/>\n",
              "    <path d=\"M18.56 5.44l.94 2.06.94-2.06 2.06-.94-2.06-.94-.94-2.06-.94 2.06-2.06.94zm-11 1L8.5 8.5l.94-2.06 2.06-.94-2.06-.94L8.5 2.5l-.94 2.06-2.06.94zm10 10l.94 2.06.94-2.06 2.06-.94-2.06-.94-.94-2.06-.94 2.06-2.06.94z\"/><path d=\"M17.41 7.96l-1.37-1.37c-.4-.4-.92-.59-1.43-.59-.52 0-1.04.2-1.43.59L10.3 9.45l-7.72 7.72c-.78.78-.78 2.05 0 2.83L4 21.41c.39.39.9.59 1.41.59.51 0 1.02-.2 1.41-.59l7.78-7.78 2.81-2.81c.8-.78.8-2.07 0-2.86zM5.41 20L4 18.59l7.72-7.72 1.47 1.35L5.41 20z\"/>\n",
              "  </svg>\n",
              "      </button>\n",
              "      \n",
              "  <style>\n",
              "    .colab-df-container {\n",
              "      display:flex;\n",
              "      flex-wrap:wrap;\n",
              "      gap: 12px;\n",
              "    }\n",
              "\n",
              "    .colab-df-convert {\n",
              "      background-color: #E8F0FE;\n",
              "      border: none;\n",
              "      border-radius: 50%;\n",
              "      cursor: pointer;\n",
              "      display: none;\n",
              "      fill: #1967D2;\n",
              "      height: 32px;\n",
              "      padding: 0 0 0 0;\n",
              "      width: 32px;\n",
              "    }\n",
              "\n",
              "    .colab-df-convert:hover {\n",
              "      background-color: #E2EBFA;\n",
              "      box-shadow: 0px 1px 2px rgba(60, 64, 67, 0.3), 0px 1px 3px 1px rgba(60, 64, 67, 0.15);\n",
              "      fill: #174EA6;\n",
              "    }\n",
              "\n",
              "    [theme=dark] .colab-df-convert {\n",
              "      background-color: #3B4455;\n",
              "      fill: #D2E3FC;\n",
              "    }\n",
              "\n",
              "    [theme=dark] .colab-df-convert:hover {\n",
              "      background-color: #434B5C;\n",
              "      box-shadow: 0px 1px 3px 1px rgba(0, 0, 0, 0.15);\n",
              "      filter: drop-shadow(0px 1px 2px rgba(0, 0, 0, 0.3));\n",
              "      fill: #FFFFFF;\n",
              "    }\n",
              "  </style>\n",
              "\n",
              "      <script>\n",
              "        const buttonEl =\n",
              "          document.querySelector('#df-dd3f3eed-87cc-420a-b997-64270f70fc54 button.colab-df-convert');\n",
              "        buttonEl.style.display =\n",
              "          google.colab.kernel.accessAllowed ? 'block' : 'none';\n",
              "\n",
              "        async function convertToInteractive(key) {\n",
              "          const element = document.querySelector('#df-dd3f3eed-87cc-420a-b997-64270f70fc54');\n",
              "          const dataTable =\n",
              "            await google.colab.kernel.invokeFunction('convertToInteractive',\n",
              "                                                     [key], {});\n",
              "          if (!dataTable) return;\n",
              "\n",
              "          const docLinkHtml = 'Like what you see? Visit the ' +\n",
              "            '<a target=\"_blank\" href=https://colab.research.google.com/notebooks/data_table.ipynb>data table notebook</a>'\n",
              "            + ' to learn more about interactive tables.';\n",
              "          element.innerHTML = '';\n",
              "          dataTable['output_type'] = 'display_data';\n",
              "          await google.colab.output.renderOutput(dataTable, element);\n",
              "          const docLink = document.createElement('div');\n",
              "          docLink.innerHTML = docLinkHtml;\n",
              "          element.appendChild(docLink);\n",
              "        }\n",
              "      </script>\n",
              "    </div>\n",
              "  </div>\n",
              "  "
            ]
          },
          "metadata": {},
          "execution_count": 352
        }
      ],
      "source": [
        "sexo = H.append(M)\n",
        "sexo.reset_index(inplace = True, drop = True)\n",
        "sexo"
      ]
    },
    {
      "cell_type": "code",
      "execution_count": null,
      "metadata": {
        "id": "cpN2H9kFpsm-",
        "colab": {
          "base_uri": "https://localhost:8080/",
          "height": 488
        },
        "outputId": "2f1dcd07-fe62-4a2d-9f89-6ed1471339d4"
      },
      "outputs": [
        {
          "output_type": "execute_result",
          "data": {
            "text/plain": [
              "    Renda      Sexo\n",
              "10    250  Mulheres\n",
              "7     400  Mulheres\n",
              "11    400  Mulheres\n",
              "12    700  Mulheres\n",
              "8     788  Mulheres\n",
              "13    788  Mulheres\n",
              "3     800    Homens\n",
              "2     850    Homens\n",
              "6    1100  Mulheres\n",
              "0    1200    Homens\n",
              "5    1200    Homens\n",
              "1    2000    Homens\n",
              "4    2000    Homens\n",
              "9    4300  Mulheres"
            ],
            "text/html": [
              "\n",
              "  <div id=\"df-32d24af8-7ffb-48b3-9860-babe6069a153\">\n",
              "    <div class=\"colab-df-container\">\n",
              "      <div>\n",
              "<style scoped>\n",
              "    .dataframe tbody tr th:only-of-type {\n",
              "        vertical-align: middle;\n",
              "    }\n",
              "\n",
              "    .dataframe tbody tr th {\n",
              "        vertical-align: top;\n",
              "    }\n",
              "\n",
              "    .dataframe thead th {\n",
              "        text-align: right;\n",
              "    }\n",
              "</style>\n",
              "<table border=\"1\" class=\"dataframe\">\n",
              "  <thead>\n",
              "    <tr style=\"text-align: right;\">\n",
              "      <th></th>\n",
              "      <th>Renda</th>\n",
              "      <th>Sexo</th>\n",
              "    </tr>\n",
              "  </thead>\n",
              "  <tbody>\n",
              "    <tr>\n",
              "      <th>10</th>\n",
              "      <td>250</td>\n",
              "      <td>Mulheres</td>\n",
              "    </tr>\n",
              "    <tr>\n",
              "      <th>7</th>\n",
              "      <td>400</td>\n",
              "      <td>Mulheres</td>\n",
              "    </tr>\n",
              "    <tr>\n",
              "      <th>11</th>\n",
              "      <td>400</td>\n",
              "      <td>Mulheres</td>\n",
              "    </tr>\n",
              "    <tr>\n",
              "      <th>12</th>\n",
              "      <td>700</td>\n",
              "      <td>Mulheres</td>\n",
              "    </tr>\n",
              "    <tr>\n",
              "      <th>8</th>\n",
              "      <td>788</td>\n",
              "      <td>Mulheres</td>\n",
              "    </tr>\n",
              "    <tr>\n",
              "      <th>13</th>\n",
              "      <td>788</td>\n",
              "      <td>Mulheres</td>\n",
              "    </tr>\n",
              "    <tr>\n",
              "      <th>3</th>\n",
              "      <td>800</td>\n",
              "      <td>Homens</td>\n",
              "    </tr>\n",
              "    <tr>\n",
              "      <th>2</th>\n",
              "      <td>850</td>\n",
              "      <td>Homens</td>\n",
              "    </tr>\n",
              "    <tr>\n",
              "      <th>6</th>\n",
              "      <td>1100</td>\n",
              "      <td>Mulheres</td>\n",
              "    </tr>\n",
              "    <tr>\n",
              "      <th>0</th>\n",
              "      <td>1200</td>\n",
              "      <td>Homens</td>\n",
              "    </tr>\n",
              "    <tr>\n",
              "      <th>5</th>\n",
              "      <td>1200</td>\n",
              "      <td>Homens</td>\n",
              "    </tr>\n",
              "    <tr>\n",
              "      <th>1</th>\n",
              "      <td>2000</td>\n",
              "      <td>Homens</td>\n",
              "    </tr>\n",
              "    <tr>\n",
              "      <th>4</th>\n",
              "      <td>2000</td>\n",
              "      <td>Homens</td>\n",
              "    </tr>\n",
              "    <tr>\n",
              "      <th>9</th>\n",
              "      <td>4300</td>\n",
              "      <td>Mulheres</td>\n",
              "    </tr>\n",
              "  </tbody>\n",
              "</table>\n",
              "</div>\n",
              "      <button class=\"colab-df-convert\" onclick=\"convertToInteractive('df-32d24af8-7ffb-48b3-9860-babe6069a153')\"\n",
              "              title=\"Convert this dataframe to an interactive table.\"\n",
              "              style=\"display:none;\">\n",
              "        \n",
              "  <svg xmlns=\"http://www.w3.org/2000/svg\" height=\"24px\"viewBox=\"0 0 24 24\"\n",
              "       width=\"24px\">\n",
              "    <path d=\"M0 0h24v24H0V0z\" fill=\"none\"/>\n",
              "    <path d=\"M18.56 5.44l.94 2.06.94-2.06 2.06-.94-2.06-.94-.94-2.06-.94 2.06-2.06.94zm-11 1L8.5 8.5l.94-2.06 2.06-.94-2.06-.94L8.5 2.5l-.94 2.06-2.06.94zm10 10l.94 2.06.94-2.06 2.06-.94-2.06-.94-.94-2.06-.94 2.06-2.06.94z\"/><path d=\"M17.41 7.96l-1.37-1.37c-.4-.4-.92-.59-1.43-.59-.52 0-1.04.2-1.43.59L10.3 9.45l-7.72 7.72c-.78.78-.78 2.05 0 2.83L4 21.41c.39.39.9.59 1.41.59.51 0 1.02-.2 1.41-.59l7.78-7.78 2.81-2.81c.8-.78.8-2.07 0-2.86zM5.41 20L4 18.59l7.72-7.72 1.47 1.35L5.41 20z\"/>\n",
              "  </svg>\n",
              "      </button>\n",
              "      \n",
              "  <style>\n",
              "    .colab-df-container {\n",
              "      display:flex;\n",
              "      flex-wrap:wrap;\n",
              "      gap: 12px;\n",
              "    }\n",
              "\n",
              "    .colab-df-convert {\n",
              "      background-color: #E8F0FE;\n",
              "      border: none;\n",
              "      border-radius: 50%;\n",
              "      cursor: pointer;\n",
              "      display: none;\n",
              "      fill: #1967D2;\n",
              "      height: 32px;\n",
              "      padding: 0 0 0 0;\n",
              "      width: 32px;\n",
              "    }\n",
              "\n",
              "    .colab-df-convert:hover {\n",
              "      background-color: #E2EBFA;\n",
              "      box-shadow: 0px 1px 2px rgba(60, 64, 67, 0.3), 0px 1px 3px 1px rgba(60, 64, 67, 0.15);\n",
              "      fill: #174EA6;\n",
              "    }\n",
              "\n",
              "    [theme=dark] .colab-df-convert {\n",
              "      background-color: #3B4455;\n",
              "      fill: #D2E3FC;\n",
              "    }\n",
              "\n",
              "    [theme=dark] .colab-df-convert:hover {\n",
              "      background-color: #434B5C;\n",
              "      box-shadow: 0px 1px 3px 1px rgba(0, 0, 0, 0.15);\n",
              "      filter: drop-shadow(0px 1px 2px rgba(0, 0, 0, 0.3));\n",
              "      fill: #FFFFFF;\n",
              "    }\n",
              "  </style>\n",
              "\n",
              "      <script>\n",
              "        const buttonEl =\n",
              "          document.querySelector('#df-32d24af8-7ffb-48b3-9860-babe6069a153 button.colab-df-convert');\n",
              "        buttonEl.style.display =\n",
              "          google.colab.kernel.accessAllowed ? 'block' : 'none';\n",
              "\n",
              "        async function convertToInteractive(key) {\n",
              "          const element = document.querySelector('#df-32d24af8-7ffb-48b3-9860-babe6069a153');\n",
              "          const dataTable =\n",
              "            await google.colab.kernel.invokeFunction('convertToInteractive',\n",
              "                                                     [key], {});\n",
              "          if (!dataTable) return;\n",
              "\n",
              "          const docLinkHtml = 'Like what you see? Visit the ' +\n",
              "            '<a target=\"_blank\" href=https://colab.research.google.com/notebooks/data_table.ipynb>data table notebook</a>'\n",
              "            + ' to learn more about interactive tables.';\n",
              "          element.innerHTML = '';\n",
              "          dataTable['output_type'] = 'display_data';\n",
              "          await google.colab.output.renderOutput(dataTable, element);\n",
              "          const docLink = document.createElement('div');\n",
              "          docLink.innerHTML = docLinkHtml;\n",
              "          element.appendChild(docLink);\n",
              "        }\n",
              "      </script>\n",
              "    </div>\n",
              "  </div>\n",
              "  "
            ]
          },
          "metadata": {},
          "execution_count": 353
        }
      ],
      "source": [
        "sexo.sort_values(by = 'Renda', inplace = True)\n",
        "sexo"
      ]
    },
    {
      "cell_type": "code",
      "execution_count": null,
      "metadata": {
        "id": "YCT6KsRS8-by",
        "colab": {
          "base_uri": "https://localhost:8080/",
          "height": 488
        },
        "outputId": "1fadc4da-6452-4d5b-d508-1f80844f141b"
      },
      "outputs": [
        {
          "output_type": "execute_result",
          "data": {
            "text/plain": [
              "    Renda      Sexo  Posto\n",
              "10    250  Mulheres      1\n",
              "7     400  Mulheres      2\n",
              "11    400  Mulheres      3\n",
              "12    700  Mulheres      4\n",
              "8     788  Mulheres      5\n",
              "13    788  Mulheres      6\n",
              "3     800    Homens      7\n",
              "2     850    Homens      8\n",
              "6    1100  Mulheres      9\n",
              "0    1200    Homens     10\n",
              "5    1200    Homens     11\n",
              "1    2000    Homens     12\n",
              "4    2000    Homens     13\n",
              "9    4300  Mulheres     14"
            ],
            "text/html": [
              "\n",
              "  <div id=\"df-fc1c4da3-0c06-42d4-9b2e-85561dca9f7b\">\n",
              "    <div class=\"colab-df-container\">\n",
              "      <div>\n",
              "<style scoped>\n",
              "    .dataframe tbody tr th:only-of-type {\n",
              "        vertical-align: middle;\n",
              "    }\n",
              "\n",
              "    .dataframe tbody tr th {\n",
              "        vertical-align: top;\n",
              "    }\n",
              "\n",
              "    .dataframe thead th {\n",
              "        text-align: right;\n",
              "    }\n",
              "</style>\n",
              "<table border=\"1\" class=\"dataframe\">\n",
              "  <thead>\n",
              "    <tr style=\"text-align: right;\">\n",
              "      <th></th>\n",
              "      <th>Renda</th>\n",
              "      <th>Sexo</th>\n",
              "      <th>Posto</th>\n",
              "    </tr>\n",
              "  </thead>\n",
              "  <tbody>\n",
              "    <tr>\n",
              "      <th>10</th>\n",
              "      <td>250</td>\n",
              "      <td>Mulheres</td>\n",
              "      <td>1</td>\n",
              "    </tr>\n",
              "    <tr>\n",
              "      <th>7</th>\n",
              "      <td>400</td>\n",
              "      <td>Mulheres</td>\n",
              "      <td>2</td>\n",
              "    </tr>\n",
              "    <tr>\n",
              "      <th>11</th>\n",
              "      <td>400</td>\n",
              "      <td>Mulheres</td>\n",
              "      <td>3</td>\n",
              "    </tr>\n",
              "    <tr>\n",
              "      <th>12</th>\n",
              "      <td>700</td>\n",
              "      <td>Mulheres</td>\n",
              "      <td>4</td>\n",
              "    </tr>\n",
              "    <tr>\n",
              "      <th>8</th>\n",
              "      <td>788</td>\n",
              "      <td>Mulheres</td>\n",
              "      <td>5</td>\n",
              "    </tr>\n",
              "    <tr>\n",
              "      <th>13</th>\n",
              "      <td>788</td>\n",
              "      <td>Mulheres</td>\n",
              "      <td>6</td>\n",
              "    </tr>\n",
              "    <tr>\n",
              "      <th>3</th>\n",
              "      <td>800</td>\n",
              "      <td>Homens</td>\n",
              "      <td>7</td>\n",
              "    </tr>\n",
              "    <tr>\n",
              "      <th>2</th>\n",
              "      <td>850</td>\n",
              "      <td>Homens</td>\n",
              "      <td>8</td>\n",
              "    </tr>\n",
              "    <tr>\n",
              "      <th>6</th>\n",
              "      <td>1100</td>\n",
              "      <td>Mulheres</td>\n",
              "      <td>9</td>\n",
              "    </tr>\n",
              "    <tr>\n",
              "      <th>0</th>\n",
              "      <td>1200</td>\n",
              "      <td>Homens</td>\n",
              "      <td>10</td>\n",
              "    </tr>\n",
              "    <tr>\n",
              "      <th>5</th>\n",
              "      <td>1200</td>\n",
              "      <td>Homens</td>\n",
              "      <td>11</td>\n",
              "    </tr>\n",
              "    <tr>\n",
              "      <th>1</th>\n",
              "      <td>2000</td>\n",
              "      <td>Homens</td>\n",
              "      <td>12</td>\n",
              "    </tr>\n",
              "    <tr>\n",
              "      <th>4</th>\n",
              "      <td>2000</td>\n",
              "      <td>Homens</td>\n",
              "      <td>13</td>\n",
              "    </tr>\n",
              "    <tr>\n",
              "      <th>9</th>\n",
              "      <td>4300</td>\n",
              "      <td>Mulheres</td>\n",
              "      <td>14</td>\n",
              "    </tr>\n",
              "  </tbody>\n",
              "</table>\n",
              "</div>\n",
              "      <button class=\"colab-df-convert\" onclick=\"convertToInteractive('df-fc1c4da3-0c06-42d4-9b2e-85561dca9f7b')\"\n",
              "              title=\"Convert this dataframe to an interactive table.\"\n",
              "              style=\"display:none;\">\n",
              "        \n",
              "  <svg xmlns=\"http://www.w3.org/2000/svg\" height=\"24px\"viewBox=\"0 0 24 24\"\n",
              "       width=\"24px\">\n",
              "    <path d=\"M0 0h24v24H0V0z\" fill=\"none\"/>\n",
              "    <path d=\"M18.56 5.44l.94 2.06.94-2.06 2.06-.94-2.06-.94-.94-2.06-.94 2.06-2.06.94zm-11 1L8.5 8.5l.94-2.06 2.06-.94-2.06-.94L8.5 2.5l-.94 2.06-2.06.94zm10 10l.94 2.06.94-2.06 2.06-.94-2.06-.94-.94-2.06-.94 2.06-2.06.94z\"/><path d=\"M17.41 7.96l-1.37-1.37c-.4-.4-.92-.59-1.43-.59-.52 0-1.04.2-1.43.59L10.3 9.45l-7.72 7.72c-.78.78-.78 2.05 0 2.83L4 21.41c.39.39.9.59 1.41.59.51 0 1.02-.2 1.41-.59l7.78-7.78 2.81-2.81c.8-.78.8-2.07 0-2.86zM5.41 20L4 18.59l7.72-7.72 1.47 1.35L5.41 20z\"/>\n",
              "  </svg>\n",
              "      </button>\n",
              "      \n",
              "  <style>\n",
              "    .colab-df-container {\n",
              "      display:flex;\n",
              "      flex-wrap:wrap;\n",
              "      gap: 12px;\n",
              "    }\n",
              "\n",
              "    .colab-df-convert {\n",
              "      background-color: #E8F0FE;\n",
              "      border: none;\n",
              "      border-radius: 50%;\n",
              "      cursor: pointer;\n",
              "      display: none;\n",
              "      fill: #1967D2;\n",
              "      height: 32px;\n",
              "      padding: 0 0 0 0;\n",
              "      width: 32px;\n",
              "    }\n",
              "\n",
              "    .colab-df-convert:hover {\n",
              "      background-color: #E2EBFA;\n",
              "      box-shadow: 0px 1px 2px rgba(60, 64, 67, 0.3), 0px 1px 3px 1px rgba(60, 64, 67, 0.15);\n",
              "      fill: #174EA6;\n",
              "    }\n",
              "\n",
              "    [theme=dark] .colab-df-convert {\n",
              "      background-color: #3B4455;\n",
              "      fill: #D2E3FC;\n",
              "    }\n",
              "\n",
              "    [theme=dark] .colab-df-convert:hover {\n",
              "      background-color: #434B5C;\n",
              "      box-shadow: 0px 1px 3px 1px rgba(0, 0, 0, 0.15);\n",
              "      filter: drop-shadow(0px 1px 2px rgba(0, 0, 0, 0.3));\n",
              "      fill: #FFFFFF;\n",
              "    }\n",
              "  </style>\n",
              "\n",
              "      <script>\n",
              "        const buttonEl =\n",
              "          document.querySelector('#df-fc1c4da3-0c06-42d4-9b2e-85561dca9f7b button.colab-df-convert');\n",
              "        buttonEl.style.display =\n",
              "          google.colab.kernel.accessAllowed ? 'block' : 'none';\n",
              "\n",
              "        async function convertToInteractive(key) {\n",
              "          const element = document.querySelector('#df-fc1c4da3-0c06-42d4-9b2e-85561dca9f7b');\n",
              "          const dataTable =\n",
              "            await google.colab.kernel.invokeFunction('convertToInteractive',\n",
              "                                                     [key], {});\n",
              "          if (!dataTable) return;\n",
              "\n",
              "          const docLinkHtml = 'Like what you see? Visit the ' +\n",
              "            '<a target=\"_blank\" href=https://colab.research.google.com/notebooks/data_table.ipynb>data table notebook</a>'\n",
              "            + ' to learn more about interactive tables.';\n",
              "          element.innerHTML = '';\n",
              "          dataTable['output_type'] = 'display_data';\n",
              "          await google.colab.output.renderOutput(dataTable, element);\n",
              "          const docLink = document.createElement('div');\n",
              "          docLink.innerHTML = docLinkHtml;\n",
              "          element.appendChild(docLink);\n",
              "        }\n",
              "      </script>\n",
              "    </div>\n",
              "  </div>\n",
              "  "
            ]
          },
          "metadata": {},
          "execution_count": 354
        }
      ],
      "source": [
        "sexo['Posto'] = range(1, len(sexo) + 1)\n",
        "sexo"
      ]
    },
    {
      "cell_type": "code",
      "execution_count": null,
      "metadata": {
        "id": "tEuMTSSU8-OE",
        "colab": {
          "base_uri": "https://localhost:8080/",
          "height": 394
        },
        "outputId": "83a9ee8f-12a8-4cc2-eb32-50cdf95e4ebd"
      },
      "outputs": [
        {
          "output_type": "execute_result",
          "data": {
            "text/plain": [
              "       Posto\n",
              "Renda       \n",
              "250      1.0\n",
              "400      2.5\n",
              "700      4.0\n",
              "788      5.5\n",
              "800      7.0\n",
              "850      8.0\n",
              "1100     9.0\n",
              "1200    10.5\n",
              "2000    12.5\n",
              "4300    14.0"
            ],
            "text/html": [
              "\n",
              "  <div id=\"df-50a8d9f7-ba89-4ffd-8f54-c4ddc1055e6c\">\n",
              "    <div class=\"colab-df-container\">\n",
              "      <div>\n",
              "<style scoped>\n",
              "    .dataframe tbody tr th:only-of-type {\n",
              "        vertical-align: middle;\n",
              "    }\n",
              "\n",
              "    .dataframe tbody tr th {\n",
              "        vertical-align: top;\n",
              "    }\n",
              "\n",
              "    .dataframe thead th {\n",
              "        text-align: right;\n",
              "    }\n",
              "</style>\n",
              "<table border=\"1\" class=\"dataframe\">\n",
              "  <thead>\n",
              "    <tr style=\"text-align: right;\">\n",
              "      <th></th>\n",
              "      <th>Posto</th>\n",
              "    </tr>\n",
              "    <tr>\n",
              "      <th>Renda</th>\n",
              "      <th></th>\n",
              "    </tr>\n",
              "  </thead>\n",
              "  <tbody>\n",
              "    <tr>\n",
              "      <th>250</th>\n",
              "      <td>1.0</td>\n",
              "    </tr>\n",
              "    <tr>\n",
              "      <th>400</th>\n",
              "      <td>2.5</td>\n",
              "    </tr>\n",
              "    <tr>\n",
              "      <th>700</th>\n",
              "      <td>4.0</td>\n",
              "    </tr>\n",
              "    <tr>\n",
              "      <th>788</th>\n",
              "      <td>5.5</td>\n",
              "    </tr>\n",
              "    <tr>\n",
              "      <th>800</th>\n",
              "      <td>7.0</td>\n",
              "    </tr>\n",
              "    <tr>\n",
              "      <th>850</th>\n",
              "      <td>8.0</td>\n",
              "    </tr>\n",
              "    <tr>\n",
              "      <th>1100</th>\n",
              "      <td>9.0</td>\n",
              "    </tr>\n",
              "    <tr>\n",
              "      <th>1200</th>\n",
              "      <td>10.5</td>\n",
              "    </tr>\n",
              "    <tr>\n",
              "      <th>2000</th>\n",
              "      <td>12.5</td>\n",
              "    </tr>\n",
              "    <tr>\n",
              "      <th>4300</th>\n",
              "      <td>14.0</td>\n",
              "    </tr>\n",
              "  </tbody>\n",
              "</table>\n",
              "</div>\n",
              "      <button class=\"colab-df-convert\" onclick=\"convertToInteractive('df-50a8d9f7-ba89-4ffd-8f54-c4ddc1055e6c')\"\n",
              "              title=\"Convert this dataframe to an interactive table.\"\n",
              "              style=\"display:none;\">\n",
              "        \n",
              "  <svg xmlns=\"http://www.w3.org/2000/svg\" height=\"24px\"viewBox=\"0 0 24 24\"\n",
              "       width=\"24px\">\n",
              "    <path d=\"M0 0h24v24H0V0z\" fill=\"none\"/>\n",
              "    <path d=\"M18.56 5.44l.94 2.06.94-2.06 2.06-.94-2.06-.94-.94-2.06-.94 2.06-2.06.94zm-11 1L8.5 8.5l.94-2.06 2.06-.94-2.06-.94L8.5 2.5l-.94 2.06-2.06.94zm10 10l.94 2.06.94-2.06 2.06-.94-2.06-.94-.94-2.06-.94 2.06-2.06.94z\"/><path d=\"M17.41 7.96l-1.37-1.37c-.4-.4-.92-.59-1.43-.59-.52 0-1.04.2-1.43.59L10.3 9.45l-7.72 7.72c-.78.78-.78 2.05 0 2.83L4 21.41c.39.39.9.59 1.41.59.51 0 1.02-.2 1.41-.59l7.78-7.78 2.81-2.81c.8-.78.8-2.07 0-2.86zM5.41 20L4 18.59l7.72-7.72 1.47 1.35L5.41 20z\"/>\n",
              "  </svg>\n",
              "      </button>\n",
              "      \n",
              "  <style>\n",
              "    .colab-df-container {\n",
              "      display:flex;\n",
              "      flex-wrap:wrap;\n",
              "      gap: 12px;\n",
              "    }\n",
              "\n",
              "    .colab-df-convert {\n",
              "      background-color: #E8F0FE;\n",
              "      border: none;\n",
              "      border-radius: 50%;\n",
              "      cursor: pointer;\n",
              "      display: none;\n",
              "      fill: #1967D2;\n",
              "      height: 32px;\n",
              "      padding: 0 0 0 0;\n",
              "      width: 32px;\n",
              "    }\n",
              "\n",
              "    .colab-df-convert:hover {\n",
              "      background-color: #E2EBFA;\n",
              "      box-shadow: 0px 1px 2px rgba(60, 64, 67, 0.3), 0px 1px 3px 1px rgba(60, 64, 67, 0.15);\n",
              "      fill: #174EA6;\n",
              "    }\n",
              "\n",
              "    [theme=dark] .colab-df-convert {\n",
              "      background-color: #3B4455;\n",
              "      fill: #D2E3FC;\n",
              "    }\n",
              "\n",
              "    [theme=dark] .colab-df-convert:hover {\n",
              "      background-color: #434B5C;\n",
              "      box-shadow: 0px 1px 3px 1px rgba(0, 0, 0, 0.15);\n",
              "      filter: drop-shadow(0px 1px 2px rgba(0, 0, 0, 0.3));\n",
              "      fill: #FFFFFF;\n",
              "    }\n",
              "  </style>\n",
              "\n",
              "      <script>\n",
              "        const buttonEl =\n",
              "          document.querySelector('#df-50a8d9f7-ba89-4ffd-8f54-c4ddc1055e6c button.colab-df-convert');\n",
              "        buttonEl.style.display =\n",
              "          google.colab.kernel.accessAllowed ? 'block' : 'none';\n",
              "\n",
              "        async function convertToInteractive(key) {\n",
              "          const element = document.querySelector('#df-50a8d9f7-ba89-4ffd-8f54-c4ddc1055e6c');\n",
              "          const dataTable =\n",
              "            await google.colab.kernel.invokeFunction('convertToInteractive',\n",
              "                                                     [key], {});\n",
              "          if (!dataTable) return;\n",
              "\n",
              "          const docLinkHtml = 'Like what you see? Visit the ' +\n",
              "            '<a target=\"_blank\" href=https://colab.research.google.com/notebooks/data_table.ipynb>data table notebook</a>'\n",
              "            + ' to learn more about interactive tables.';\n",
              "          element.innerHTML = '';\n",
              "          dataTable['output_type'] = 'display_data';\n",
              "          await google.colab.output.renderOutput(dataTable, element);\n",
              "          const docLink = document.createElement('div');\n",
              "          docLink.innerHTML = docLinkHtml;\n",
              "          element.appendChild(docLink);\n",
              "        }\n",
              "      </script>\n",
              "    </div>\n",
              "  </div>\n",
              "  "
            ]
          },
          "metadata": {},
          "execution_count": 355
        }
      ],
      "source": [
        "posto = sexo[['Renda', 'Posto']].groupby(['Renda']).mean()\n",
        "posto"
      ]
    },
    {
      "cell_type": "code",
      "execution_count": null,
      "metadata": {
        "id": "S9rtsrl88-LB",
        "colab": {
          "base_uri": "https://localhost:8080/",
          "height": 363
        },
        "outputId": "f9b6a009-99df-4c83-ad0f-24b93c14fb51"
      },
      "outputs": [
        {
          "output_type": "execute_result",
          "data": {
            "text/plain": [
              "   Renda  Posto\n",
              "0    250    1.0\n",
              "1    400    2.5\n",
              "2    700    4.0\n",
              "3    788    5.5\n",
              "4    800    7.0\n",
              "5    850    8.0\n",
              "6   1100    9.0\n",
              "7   1200   10.5\n",
              "8   2000   12.5\n",
              "9   4300   14.0"
            ],
            "text/html": [
              "\n",
              "  <div id=\"df-012af6fe-1541-440c-91f0-949f12bcd53d\">\n",
              "    <div class=\"colab-df-container\">\n",
              "      <div>\n",
              "<style scoped>\n",
              "    .dataframe tbody tr th:only-of-type {\n",
              "        vertical-align: middle;\n",
              "    }\n",
              "\n",
              "    .dataframe tbody tr th {\n",
              "        vertical-align: top;\n",
              "    }\n",
              "\n",
              "    .dataframe thead th {\n",
              "        text-align: right;\n",
              "    }\n",
              "</style>\n",
              "<table border=\"1\" class=\"dataframe\">\n",
              "  <thead>\n",
              "    <tr style=\"text-align: right;\">\n",
              "      <th></th>\n",
              "      <th>Renda</th>\n",
              "      <th>Posto</th>\n",
              "    </tr>\n",
              "  </thead>\n",
              "  <tbody>\n",
              "    <tr>\n",
              "      <th>0</th>\n",
              "      <td>250</td>\n",
              "      <td>1.0</td>\n",
              "    </tr>\n",
              "    <tr>\n",
              "      <th>1</th>\n",
              "      <td>400</td>\n",
              "      <td>2.5</td>\n",
              "    </tr>\n",
              "    <tr>\n",
              "      <th>2</th>\n",
              "      <td>700</td>\n",
              "      <td>4.0</td>\n",
              "    </tr>\n",
              "    <tr>\n",
              "      <th>3</th>\n",
              "      <td>788</td>\n",
              "      <td>5.5</td>\n",
              "    </tr>\n",
              "    <tr>\n",
              "      <th>4</th>\n",
              "      <td>800</td>\n",
              "      <td>7.0</td>\n",
              "    </tr>\n",
              "    <tr>\n",
              "      <th>5</th>\n",
              "      <td>850</td>\n",
              "      <td>8.0</td>\n",
              "    </tr>\n",
              "    <tr>\n",
              "      <th>6</th>\n",
              "      <td>1100</td>\n",
              "      <td>9.0</td>\n",
              "    </tr>\n",
              "    <tr>\n",
              "      <th>7</th>\n",
              "      <td>1200</td>\n",
              "      <td>10.5</td>\n",
              "    </tr>\n",
              "    <tr>\n",
              "      <th>8</th>\n",
              "      <td>2000</td>\n",
              "      <td>12.5</td>\n",
              "    </tr>\n",
              "    <tr>\n",
              "      <th>9</th>\n",
              "      <td>4300</td>\n",
              "      <td>14.0</td>\n",
              "    </tr>\n",
              "  </tbody>\n",
              "</table>\n",
              "</div>\n",
              "      <button class=\"colab-df-convert\" onclick=\"convertToInteractive('df-012af6fe-1541-440c-91f0-949f12bcd53d')\"\n",
              "              title=\"Convert this dataframe to an interactive table.\"\n",
              "              style=\"display:none;\">\n",
              "        \n",
              "  <svg xmlns=\"http://www.w3.org/2000/svg\" height=\"24px\"viewBox=\"0 0 24 24\"\n",
              "       width=\"24px\">\n",
              "    <path d=\"M0 0h24v24H0V0z\" fill=\"none\"/>\n",
              "    <path d=\"M18.56 5.44l.94 2.06.94-2.06 2.06-.94-2.06-.94-.94-2.06-.94 2.06-2.06.94zm-11 1L8.5 8.5l.94-2.06 2.06-.94-2.06-.94L8.5 2.5l-.94 2.06-2.06.94zm10 10l.94 2.06.94-2.06 2.06-.94-2.06-.94-.94-2.06-.94 2.06-2.06.94z\"/><path d=\"M17.41 7.96l-1.37-1.37c-.4-.4-.92-.59-1.43-.59-.52 0-1.04.2-1.43.59L10.3 9.45l-7.72 7.72c-.78.78-.78 2.05 0 2.83L4 21.41c.39.39.9.59 1.41.59.51 0 1.02-.2 1.41-.59l7.78-7.78 2.81-2.81c.8-.78.8-2.07 0-2.86zM5.41 20L4 18.59l7.72-7.72 1.47 1.35L5.41 20z\"/>\n",
              "  </svg>\n",
              "      </button>\n",
              "      \n",
              "  <style>\n",
              "    .colab-df-container {\n",
              "      display:flex;\n",
              "      flex-wrap:wrap;\n",
              "      gap: 12px;\n",
              "    }\n",
              "\n",
              "    .colab-df-convert {\n",
              "      background-color: #E8F0FE;\n",
              "      border: none;\n",
              "      border-radius: 50%;\n",
              "      cursor: pointer;\n",
              "      display: none;\n",
              "      fill: #1967D2;\n",
              "      height: 32px;\n",
              "      padding: 0 0 0 0;\n",
              "      width: 32px;\n",
              "    }\n",
              "\n",
              "    .colab-df-convert:hover {\n",
              "      background-color: #E2EBFA;\n",
              "      box-shadow: 0px 1px 2px rgba(60, 64, 67, 0.3), 0px 1px 3px 1px rgba(60, 64, 67, 0.15);\n",
              "      fill: #174EA6;\n",
              "    }\n",
              "\n",
              "    [theme=dark] .colab-df-convert {\n",
              "      background-color: #3B4455;\n",
              "      fill: #D2E3FC;\n",
              "    }\n",
              "\n",
              "    [theme=dark] .colab-df-convert:hover {\n",
              "      background-color: #434B5C;\n",
              "      box-shadow: 0px 1px 3px 1px rgba(0, 0, 0, 0.15);\n",
              "      filter: drop-shadow(0px 1px 2px rgba(0, 0, 0, 0.3));\n",
              "      fill: #FFFFFF;\n",
              "    }\n",
              "  </style>\n",
              "\n",
              "      <script>\n",
              "        const buttonEl =\n",
              "          document.querySelector('#df-012af6fe-1541-440c-91f0-949f12bcd53d button.colab-df-convert');\n",
              "        buttonEl.style.display =\n",
              "          google.colab.kernel.accessAllowed ? 'block' : 'none';\n",
              "\n",
              "        async function convertToInteractive(key) {\n",
              "          const element = document.querySelector('#df-012af6fe-1541-440c-91f0-949f12bcd53d');\n",
              "          const dataTable =\n",
              "            await google.colab.kernel.invokeFunction('convertToInteractive',\n",
              "                                                     [key], {});\n",
              "          if (!dataTable) return;\n",
              "\n",
              "          const docLinkHtml = 'Like what you see? Visit the ' +\n",
              "            '<a target=\"_blank\" href=https://colab.research.google.com/notebooks/data_table.ipynb>data table notebook</a>'\n",
              "            + ' to learn more about interactive tables.';\n",
              "          element.innerHTML = '';\n",
              "          dataTable['output_type'] = 'display_data';\n",
              "          await google.colab.output.renderOutput(dataTable, element);\n",
              "          const docLink = document.createElement('div');\n",
              "          docLink.innerHTML = docLinkHtml;\n",
              "          element.appendChild(docLink);\n",
              "        }\n",
              "      </script>\n",
              "    </div>\n",
              "  </div>\n",
              "  "
            ]
          },
          "metadata": {},
          "execution_count": 356
        }
      ],
      "source": [
        "posto.reset_index(inplace = True)\n",
        "posto"
      ]
    },
    {
      "cell_type": "code",
      "execution_count": null,
      "metadata": {
        "id": "w0sqa3j-8-H6",
        "colab": {
          "base_uri": "https://localhost:8080/",
          "height": 488
        },
        "outputId": "2b78142c-4bbf-4b13-eb97-40f16e598d8d"
      },
      "outputs": [
        {
          "output_type": "execute_result",
          "data": {
            "text/plain": [
              "    Renda      Sexo\n",
              "10    250  Mulheres\n",
              "7     400  Mulheres\n",
              "11    400  Mulheres\n",
              "12    700  Mulheres\n",
              "8     788  Mulheres\n",
              "13    788  Mulheres\n",
              "3     800    Homens\n",
              "2     850    Homens\n",
              "6    1100  Mulheres\n",
              "0    1200    Homens\n",
              "5    1200    Homens\n",
              "1    2000    Homens\n",
              "4    2000    Homens\n",
              "9    4300  Mulheres"
            ],
            "text/html": [
              "\n",
              "  <div id=\"df-c50c5a3f-fe04-464a-a587-f60a3c6cf849\">\n",
              "    <div class=\"colab-df-container\">\n",
              "      <div>\n",
              "<style scoped>\n",
              "    .dataframe tbody tr th:only-of-type {\n",
              "        vertical-align: middle;\n",
              "    }\n",
              "\n",
              "    .dataframe tbody tr th {\n",
              "        vertical-align: top;\n",
              "    }\n",
              "\n",
              "    .dataframe thead th {\n",
              "        text-align: right;\n",
              "    }\n",
              "</style>\n",
              "<table border=\"1\" class=\"dataframe\">\n",
              "  <thead>\n",
              "    <tr style=\"text-align: right;\">\n",
              "      <th></th>\n",
              "      <th>Renda</th>\n",
              "      <th>Sexo</th>\n",
              "    </tr>\n",
              "  </thead>\n",
              "  <tbody>\n",
              "    <tr>\n",
              "      <th>10</th>\n",
              "      <td>250</td>\n",
              "      <td>Mulheres</td>\n",
              "    </tr>\n",
              "    <tr>\n",
              "      <th>7</th>\n",
              "      <td>400</td>\n",
              "      <td>Mulheres</td>\n",
              "    </tr>\n",
              "    <tr>\n",
              "      <th>11</th>\n",
              "      <td>400</td>\n",
              "      <td>Mulheres</td>\n",
              "    </tr>\n",
              "    <tr>\n",
              "      <th>12</th>\n",
              "      <td>700</td>\n",
              "      <td>Mulheres</td>\n",
              "    </tr>\n",
              "    <tr>\n",
              "      <th>8</th>\n",
              "      <td>788</td>\n",
              "      <td>Mulheres</td>\n",
              "    </tr>\n",
              "    <tr>\n",
              "      <th>13</th>\n",
              "      <td>788</td>\n",
              "      <td>Mulheres</td>\n",
              "    </tr>\n",
              "    <tr>\n",
              "      <th>3</th>\n",
              "      <td>800</td>\n",
              "      <td>Homens</td>\n",
              "    </tr>\n",
              "    <tr>\n",
              "      <th>2</th>\n",
              "      <td>850</td>\n",
              "      <td>Homens</td>\n",
              "    </tr>\n",
              "    <tr>\n",
              "      <th>6</th>\n",
              "      <td>1100</td>\n",
              "      <td>Mulheres</td>\n",
              "    </tr>\n",
              "    <tr>\n",
              "      <th>0</th>\n",
              "      <td>1200</td>\n",
              "      <td>Homens</td>\n",
              "    </tr>\n",
              "    <tr>\n",
              "      <th>5</th>\n",
              "      <td>1200</td>\n",
              "      <td>Homens</td>\n",
              "    </tr>\n",
              "    <tr>\n",
              "      <th>1</th>\n",
              "      <td>2000</td>\n",
              "      <td>Homens</td>\n",
              "    </tr>\n",
              "    <tr>\n",
              "      <th>4</th>\n",
              "      <td>2000</td>\n",
              "      <td>Homens</td>\n",
              "    </tr>\n",
              "    <tr>\n",
              "      <th>9</th>\n",
              "      <td>4300</td>\n",
              "      <td>Mulheres</td>\n",
              "    </tr>\n",
              "  </tbody>\n",
              "</table>\n",
              "</div>\n",
              "      <button class=\"colab-df-convert\" onclick=\"convertToInteractive('df-c50c5a3f-fe04-464a-a587-f60a3c6cf849')\"\n",
              "              title=\"Convert this dataframe to an interactive table.\"\n",
              "              style=\"display:none;\">\n",
              "        \n",
              "  <svg xmlns=\"http://www.w3.org/2000/svg\" height=\"24px\"viewBox=\"0 0 24 24\"\n",
              "       width=\"24px\">\n",
              "    <path d=\"M0 0h24v24H0V0z\" fill=\"none\"/>\n",
              "    <path d=\"M18.56 5.44l.94 2.06.94-2.06 2.06-.94-2.06-.94-.94-2.06-.94 2.06-2.06.94zm-11 1L8.5 8.5l.94-2.06 2.06-.94-2.06-.94L8.5 2.5l-.94 2.06-2.06.94zm10 10l.94 2.06.94-2.06 2.06-.94-2.06-.94-.94-2.06-.94 2.06-2.06.94z\"/><path d=\"M17.41 7.96l-1.37-1.37c-.4-.4-.92-.59-1.43-.59-.52 0-1.04.2-1.43.59L10.3 9.45l-7.72 7.72c-.78.78-.78 2.05 0 2.83L4 21.41c.39.39.9.59 1.41.59.51 0 1.02-.2 1.41-.59l7.78-7.78 2.81-2.81c.8-.78.8-2.07 0-2.86zM5.41 20L4 18.59l7.72-7.72 1.47 1.35L5.41 20z\"/>\n",
              "  </svg>\n",
              "      </button>\n",
              "      \n",
              "  <style>\n",
              "    .colab-df-container {\n",
              "      display:flex;\n",
              "      flex-wrap:wrap;\n",
              "      gap: 12px;\n",
              "    }\n",
              "\n",
              "    .colab-df-convert {\n",
              "      background-color: #E8F0FE;\n",
              "      border: none;\n",
              "      border-radius: 50%;\n",
              "      cursor: pointer;\n",
              "      display: none;\n",
              "      fill: #1967D2;\n",
              "      height: 32px;\n",
              "      padding: 0 0 0 0;\n",
              "      width: 32px;\n",
              "    }\n",
              "\n",
              "    .colab-df-convert:hover {\n",
              "      background-color: #E2EBFA;\n",
              "      box-shadow: 0px 1px 2px rgba(60, 64, 67, 0.3), 0px 1px 3px 1px rgba(60, 64, 67, 0.15);\n",
              "      fill: #174EA6;\n",
              "    }\n",
              "\n",
              "    [theme=dark] .colab-df-convert {\n",
              "      background-color: #3B4455;\n",
              "      fill: #D2E3FC;\n",
              "    }\n",
              "\n",
              "    [theme=dark] .colab-df-convert:hover {\n",
              "      background-color: #434B5C;\n",
              "      box-shadow: 0px 1px 3px 1px rgba(0, 0, 0, 0.15);\n",
              "      filter: drop-shadow(0px 1px 2px rgba(0, 0, 0, 0.3));\n",
              "      fill: #FFFFFF;\n",
              "    }\n",
              "  </style>\n",
              "\n",
              "      <script>\n",
              "        const buttonEl =\n",
              "          document.querySelector('#df-c50c5a3f-fe04-464a-a587-f60a3c6cf849 button.colab-df-convert');\n",
              "        buttonEl.style.display =\n",
              "          google.colab.kernel.accessAllowed ? 'block' : 'none';\n",
              "\n",
              "        async function convertToInteractive(key) {\n",
              "          const element = document.querySelector('#df-c50c5a3f-fe04-464a-a587-f60a3c6cf849');\n",
              "          const dataTable =\n",
              "            await google.colab.kernel.invokeFunction('convertToInteractive',\n",
              "                                                     [key], {});\n",
              "          if (!dataTable) return;\n",
              "\n",
              "          const docLinkHtml = 'Like what you see? Visit the ' +\n",
              "            '<a target=\"_blank\" href=https://colab.research.google.com/notebooks/data_table.ipynb>data table notebook</a>'\n",
              "            + ' to learn more about interactive tables.';\n",
              "          element.innerHTML = '';\n",
              "          dataTable['output_type'] = 'display_data';\n",
              "          await google.colab.output.renderOutput(dataTable, element);\n",
              "          const docLink = document.createElement('div');\n",
              "          docLink.innerHTML = docLinkHtml;\n",
              "          element.appendChild(docLink);\n",
              "        }\n",
              "      </script>\n",
              "    </div>\n",
              "  </div>\n",
              "  "
            ]
          },
          "metadata": {},
          "execution_count": 357
        }
      ],
      "source": [
        "sexo.drop(['Posto'], axis = 1, inplace = True)\n",
        "sexo"
      ]
    },
    {
      "cell_type": "code",
      "execution_count": null,
      "metadata": {
        "id": "K4Qn49E78-Ed",
        "colab": {
          "base_uri": "https://localhost:8080/",
          "height": 488
        },
        "outputId": "59f3b1c0-3399-497b-a2dc-4a962a11bb0b"
      },
      "outputs": [
        {
          "output_type": "execute_result",
          "data": {
            "text/plain": [
              "    Renda      Sexo  Posto\n",
              "0     250  Mulheres    1.0\n",
              "1     400  Mulheres    2.5\n",
              "2     400  Mulheres    2.5\n",
              "3     700  Mulheres    4.0\n",
              "4     788  Mulheres    5.5\n",
              "5     788  Mulheres    5.5\n",
              "6     800    Homens    7.0\n",
              "7     850    Homens    8.0\n",
              "8    1100  Mulheres    9.0\n",
              "9    1200    Homens   10.5\n",
              "10   1200    Homens   10.5\n",
              "11   2000    Homens   12.5\n",
              "12   2000    Homens   12.5\n",
              "13   4300  Mulheres   14.0"
            ],
            "text/html": [
              "\n",
              "  <div id=\"df-93926a06-9a0d-4d83-8c2e-94c07ef69ef2\">\n",
              "    <div class=\"colab-df-container\">\n",
              "      <div>\n",
              "<style scoped>\n",
              "    .dataframe tbody tr th:only-of-type {\n",
              "        vertical-align: middle;\n",
              "    }\n",
              "\n",
              "    .dataframe tbody tr th {\n",
              "        vertical-align: top;\n",
              "    }\n",
              "\n",
              "    .dataframe thead th {\n",
              "        text-align: right;\n",
              "    }\n",
              "</style>\n",
              "<table border=\"1\" class=\"dataframe\">\n",
              "  <thead>\n",
              "    <tr style=\"text-align: right;\">\n",
              "      <th></th>\n",
              "      <th>Renda</th>\n",
              "      <th>Sexo</th>\n",
              "      <th>Posto</th>\n",
              "    </tr>\n",
              "  </thead>\n",
              "  <tbody>\n",
              "    <tr>\n",
              "      <th>0</th>\n",
              "      <td>250</td>\n",
              "      <td>Mulheres</td>\n",
              "      <td>1.0</td>\n",
              "    </tr>\n",
              "    <tr>\n",
              "      <th>1</th>\n",
              "      <td>400</td>\n",
              "      <td>Mulheres</td>\n",
              "      <td>2.5</td>\n",
              "    </tr>\n",
              "    <tr>\n",
              "      <th>2</th>\n",
              "      <td>400</td>\n",
              "      <td>Mulheres</td>\n",
              "      <td>2.5</td>\n",
              "    </tr>\n",
              "    <tr>\n",
              "      <th>3</th>\n",
              "      <td>700</td>\n",
              "      <td>Mulheres</td>\n",
              "      <td>4.0</td>\n",
              "    </tr>\n",
              "    <tr>\n",
              "      <th>4</th>\n",
              "      <td>788</td>\n",
              "      <td>Mulheres</td>\n",
              "      <td>5.5</td>\n",
              "    </tr>\n",
              "    <tr>\n",
              "      <th>5</th>\n",
              "      <td>788</td>\n",
              "      <td>Mulheres</td>\n",
              "      <td>5.5</td>\n",
              "    </tr>\n",
              "    <tr>\n",
              "      <th>6</th>\n",
              "      <td>800</td>\n",
              "      <td>Homens</td>\n",
              "      <td>7.0</td>\n",
              "    </tr>\n",
              "    <tr>\n",
              "      <th>7</th>\n",
              "      <td>850</td>\n",
              "      <td>Homens</td>\n",
              "      <td>8.0</td>\n",
              "    </tr>\n",
              "    <tr>\n",
              "      <th>8</th>\n",
              "      <td>1100</td>\n",
              "      <td>Mulheres</td>\n",
              "      <td>9.0</td>\n",
              "    </tr>\n",
              "    <tr>\n",
              "      <th>9</th>\n",
              "      <td>1200</td>\n",
              "      <td>Homens</td>\n",
              "      <td>10.5</td>\n",
              "    </tr>\n",
              "    <tr>\n",
              "      <th>10</th>\n",
              "      <td>1200</td>\n",
              "      <td>Homens</td>\n",
              "      <td>10.5</td>\n",
              "    </tr>\n",
              "    <tr>\n",
              "      <th>11</th>\n",
              "      <td>2000</td>\n",
              "      <td>Homens</td>\n",
              "      <td>12.5</td>\n",
              "    </tr>\n",
              "    <tr>\n",
              "      <th>12</th>\n",
              "      <td>2000</td>\n",
              "      <td>Homens</td>\n",
              "      <td>12.5</td>\n",
              "    </tr>\n",
              "    <tr>\n",
              "      <th>13</th>\n",
              "      <td>4300</td>\n",
              "      <td>Mulheres</td>\n",
              "      <td>14.0</td>\n",
              "    </tr>\n",
              "  </tbody>\n",
              "</table>\n",
              "</div>\n",
              "      <button class=\"colab-df-convert\" onclick=\"convertToInteractive('df-93926a06-9a0d-4d83-8c2e-94c07ef69ef2')\"\n",
              "              title=\"Convert this dataframe to an interactive table.\"\n",
              "              style=\"display:none;\">\n",
              "        \n",
              "  <svg xmlns=\"http://www.w3.org/2000/svg\" height=\"24px\"viewBox=\"0 0 24 24\"\n",
              "       width=\"24px\">\n",
              "    <path d=\"M0 0h24v24H0V0z\" fill=\"none\"/>\n",
              "    <path d=\"M18.56 5.44l.94 2.06.94-2.06 2.06-.94-2.06-.94-.94-2.06-.94 2.06-2.06.94zm-11 1L8.5 8.5l.94-2.06 2.06-.94-2.06-.94L8.5 2.5l-.94 2.06-2.06.94zm10 10l.94 2.06.94-2.06 2.06-.94-2.06-.94-.94-2.06-.94 2.06-2.06.94z\"/><path d=\"M17.41 7.96l-1.37-1.37c-.4-.4-.92-.59-1.43-.59-.52 0-1.04.2-1.43.59L10.3 9.45l-7.72 7.72c-.78.78-.78 2.05 0 2.83L4 21.41c.39.39.9.59 1.41.59.51 0 1.02-.2 1.41-.59l7.78-7.78 2.81-2.81c.8-.78.8-2.07 0-2.86zM5.41 20L4 18.59l7.72-7.72 1.47 1.35L5.41 20z\"/>\n",
              "  </svg>\n",
              "      </button>\n",
              "      \n",
              "  <style>\n",
              "    .colab-df-container {\n",
              "      display:flex;\n",
              "      flex-wrap:wrap;\n",
              "      gap: 12px;\n",
              "    }\n",
              "\n",
              "    .colab-df-convert {\n",
              "      background-color: #E8F0FE;\n",
              "      border: none;\n",
              "      border-radius: 50%;\n",
              "      cursor: pointer;\n",
              "      display: none;\n",
              "      fill: #1967D2;\n",
              "      height: 32px;\n",
              "      padding: 0 0 0 0;\n",
              "      width: 32px;\n",
              "    }\n",
              "\n",
              "    .colab-df-convert:hover {\n",
              "      background-color: #E2EBFA;\n",
              "      box-shadow: 0px 1px 2px rgba(60, 64, 67, 0.3), 0px 1px 3px 1px rgba(60, 64, 67, 0.15);\n",
              "      fill: #174EA6;\n",
              "    }\n",
              "\n",
              "    [theme=dark] .colab-df-convert {\n",
              "      background-color: #3B4455;\n",
              "      fill: #D2E3FC;\n",
              "    }\n",
              "\n",
              "    [theme=dark] .colab-df-convert:hover {\n",
              "      background-color: #434B5C;\n",
              "      box-shadow: 0px 1px 3px 1px rgba(0, 0, 0, 0.15);\n",
              "      filter: drop-shadow(0px 1px 2px rgba(0, 0, 0, 0.3));\n",
              "      fill: #FFFFFF;\n",
              "    }\n",
              "  </style>\n",
              "\n",
              "      <script>\n",
              "        const buttonEl =\n",
              "          document.querySelector('#df-93926a06-9a0d-4d83-8c2e-94c07ef69ef2 button.colab-df-convert');\n",
              "        buttonEl.style.display =\n",
              "          google.colab.kernel.accessAllowed ? 'block' : 'none';\n",
              "\n",
              "        async function convertToInteractive(key) {\n",
              "          const element = document.querySelector('#df-93926a06-9a0d-4d83-8c2e-94c07ef69ef2');\n",
              "          const dataTable =\n",
              "            await google.colab.kernel.invokeFunction('convertToInteractive',\n",
              "                                                     [key], {});\n",
              "          if (!dataTable) return;\n",
              "\n",
              "          const docLinkHtml = 'Like what you see? Visit the ' +\n",
              "            '<a target=\"_blank\" href=https://colab.research.google.com/notebooks/data_table.ipynb>data table notebook</a>'\n",
              "            + ' to learn more about interactive tables.';\n",
              "          element.innerHTML = '';\n",
              "          dataTable['output_type'] = 'display_data';\n",
              "          await google.colab.output.renderOutput(dataTable, element);\n",
              "          const docLink = document.createElement('div');\n",
              "          docLink.innerHTML = docLinkHtml;\n",
              "          element.appendChild(docLink);\n",
              "        }\n",
              "      </script>\n",
              "    </div>\n",
              "  </div>\n",
              "  "
            ]
          },
          "metadata": {},
          "execution_count": 358
        }
      ],
      "source": [
        "sexo = sexo.merge(posto, left_on = 'Renda', right_on = 'Renda', how = 'left')\n",
        "sexo"
      ]
    },
    {
      "cell_type": "markdown",
      "metadata": {
        "id": "LFcpe4l_psm-"
      },
      "source": [
        "### Obtendo $R$\n",
        "\n",
        "### $R_1$ = soma dos postos do grupo $n_1$\n",
        "### $R_2$ = soma dos postos do grupo $n_2$"
      ]
    },
    {
      "cell_type": "code",
      "execution_count": null,
      "metadata": {
        "id": "Y3OnPJ7_psm_",
        "colab": {
          "base_uri": "https://localhost:8080/",
          "height": 143
        },
        "outputId": "a862fbd2-7479-4adb-d43b-87151b799ce9"
      },
      "outputs": [
        {
          "output_type": "execute_result",
          "data": {
            "text/plain": [
              "          Posto\n",
              "Sexo           \n",
              "Homens     61.0\n",
              "Mulheres   44.0"
            ],
            "text/html": [
              "\n",
              "  <div id=\"df-6219a650-a7ec-4cac-9535-2865780fa8fd\">\n",
              "    <div class=\"colab-df-container\">\n",
              "      <div>\n",
              "<style scoped>\n",
              "    .dataframe tbody tr th:only-of-type {\n",
              "        vertical-align: middle;\n",
              "    }\n",
              "\n",
              "    .dataframe tbody tr th {\n",
              "        vertical-align: top;\n",
              "    }\n",
              "\n",
              "    .dataframe thead th {\n",
              "        text-align: right;\n",
              "    }\n",
              "</style>\n",
              "<table border=\"1\" class=\"dataframe\">\n",
              "  <thead>\n",
              "    <tr style=\"text-align: right;\">\n",
              "      <th></th>\n",
              "      <th>Posto</th>\n",
              "    </tr>\n",
              "    <tr>\n",
              "      <th>Sexo</th>\n",
              "      <th></th>\n",
              "    </tr>\n",
              "  </thead>\n",
              "  <tbody>\n",
              "    <tr>\n",
              "      <th>Homens</th>\n",
              "      <td>61.0</td>\n",
              "    </tr>\n",
              "    <tr>\n",
              "      <th>Mulheres</th>\n",
              "      <td>44.0</td>\n",
              "    </tr>\n",
              "  </tbody>\n",
              "</table>\n",
              "</div>\n",
              "      <button class=\"colab-df-convert\" onclick=\"convertToInteractive('df-6219a650-a7ec-4cac-9535-2865780fa8fd')\"\n",
              "              title=\"Convert this dataframe to an interactive table.\"\n",
              "              style=\"display:none;\">\n",
              "        \n",
              "  <svg xmlns=\"http://www.w3.org/2000/svg\" height=\"24px\"viewBox=\"0 0 24 24\"\n",
              "       width=\"24px\">\n",
              "    <path d=\"M0 0h24v24H0V0z\" fill=\"none\"/>\n",
              "    <path d=\"M18.56 5.44l.94 2.06.94-2.06 2.06-.94-2.06-.94-.94-2.06-.94 2.06-2.06.94zm-11 1L8.5 8.5l.94-2.06 2.06-.94-2.06-.94L8.5 2.5l-.94 2.06-2.06.94zm10 10l.94 2.06.94-2.06 2.06-.94-2.06-.94-.94-2.06-.94 2.06-2.06.94z\"/><path d=\"M17.41 7.96l-1.37-1.37c-.4-.4-.92-.59-1.43-.59-.52 0-1.04.2-1.43.59L10.3 9.45l-7.72 7.72c-.78.78-.78 2.05 0 2.83L4 21.41c.39.39.9.59 1.41.59.51 0 1.02-.2 1.41-.59l7.78-7.78 2.81-2.81c.8-.78.8-2.07 0-2.86zM5.41 20L4 18.59l7.72-7.72 1.47 1.35L5.41 20z\"/>\n",
              "  </svg>\n",
              "      </button>\n",
              "      \n",
              "  <style>\n",
              "    .colab-df-container {\n",
              "      display:flex;\n",
              "      flex-wrap:wrap;\n",
              "      gap: 12px;\n",
              "    }\n",
              "\n",
              "    .colab-df-convert {\n",
              "      background-color: #E8F0FE;\n",
              "      border: none;\n",
              "      border-radius: 50%;\n",
              "      cursor: pointer;\n",
              "      display: none;\n",
              "      fill: #1967D2;\n",
              "      height: 32px;\n",
              "      padding: 0 0 0 0;\n",
              "      width: 32px;\n",
              "    }\n",
              "\n",
              "    .colab-df-convert:hover {\n",
              "      background-color: #E2EBFA;\n",
              "      box-shadow: 0px 1px 2px rgba(60, 64, 67, 0.3), 0px 1px 3px 1px rgba(60, 64, 67, 0.15);\n",
              "      fill: #174EA6;\n",
              "    }\n",
              "\n",
              "    [theme=dark] .colab-df-convert {\n",
              "      background-color: #3B4455;\n",
              "      fill: #D2E3FC;\n",
              "    }\n",
              "\n",
              "    [theme=dark] .colab-df-convert:hover {\n",
              "      background-color: #434B5C;\n",
              "      box-shadow: 0px 1px 3px 1px rgba(0, 0, 0, 0.15);\n",
              "      filter: drop-shadow(0px 1px 2px rgba(0, 0, 0, 0.3));\n",
              "      fill: #FFFFFF;\n",
              "    }\n",
              "  </style>\n",
              "\n",
              "      <script>\n",
              "        const buttonEl =\n",
              "          document.querySelector('#df-6219a650-a7ec-4cac-9535-2865780fa8fd button.colab-df-convert');\n",
              "        buttonEl.style.display =\n",
              "          google.colab.kernel.accessAllowed ? 'block' : 'none';\n",
              "\n",
              "        async function convertToInteractive(key) {\n",
              "          const element = document.querySelector('#df-6219a650-a7ec-4cac-9535-2865780fa8fd');\n",
              "          const dataTable =\n",
              "            await google.colab.kernel.invokeFunction('convertToInteractive',\n",
              "                                                     [key], {});\n",
              "          if (!dataTable) return;\n",
              "\n",
              "          const docLinkHtml = 'Like what you see? Visit the ' +\n",
              "            '<a target=\"_blank\" href=https://colab.research.google.com/notebooks/data_table.ipynb>data table notebook</a>'\n",
              "            + ' to learn more about interactive tables.';\n",
              "          element.innerHTML = '';\n",
              "          dataTable['output_type'] = 'display_data';\n",
              "          await google.colab.output.renderOutput(dataTable, element);\n",
              "          const docLink = document.createElement('div');\n",
              "          docLink.innerHTML = docLinkHtml;\n",
              "          element.appendChild(docLink);\n",
              "        }\n",
              "      </script>\n",
              "    </div>\n",
              "  </div>\n",
              "  "
            ]
          },
          "metadata": {},
          "execution_count": 359
        }
      ],
      "source": [
        "Temp = sexo[['Sexo', 'Posto']].groupby('Sexo').sum()\n",
        "Temp"
      ]
    },
    {
      "cell_type": "code",
      "execution_count": null,
      "metadata": {
        "id": "mkbp_OgepsnA",
        "colab": {
          "base_uri": "https://localhost:8080/"
        },
        "outputId": "2d11a6ff-369a-44f9-e916-70be89be119e"
      },
      "outputs": [
        {
          "output_type": "execute_result",
          "data": {
            "text/plain": [
              "61.0"
            ]
          },
          "metadata": {},
          "execution_count": 360
        }
      ],
      "source": [
        "R_1 = Temp.loc['Homens'][0]\n",
        "R_1"
      ]
    },
    {
      "cell_type": "code",
      "execution_count": null,
      "metadata": {
        "id": "zZuZTlp0psnB",
        "colab": {
          "base_uri": "https://localhost:8080/"
        },
        "outputId": "c6965351-2e51-4af9-b4df-51e24d32ee28"
      },
      "outputs": [
        {
          "output_type": "execute_result",
          "data": {
            "text/plain": [
              "44.0"
            ]
          },
          "metadata": {},
          "execution_count": 361
        }
      ],
      "source": [
        "R_2 = Temp.loc['Mulheres'][0]\n",
        "R_2"
      ]
    },
    {
      "cell_type": "markdown",
      "metadata": {
        "id": "VheEyfc8psnC"
      },
      "source": [
        "### Obter $u$\n",
        "\n",
        "# $$u_1 = n_1 \\times n_2 + \\frac{n_1 \\times (n_1 + 1)}{2} - R_1$$\n",
        "# $$u_2 = n_1 \\times n_2 + \\frac{n_2 \\times (n_2 + 1)}{2} - R_2$$\n",
        "\n",
        "# $$u = min(u_1, u_2)$$\n"
      ]
    },
    {
      "cell_type": "code",
      "execution_count": null,
      "metadata": {
        "id": "zUr2AlPcpsnC",
        "colab": {
          "base_uri": "https://localhost:8080/"
        },
        "outputId": "9ce8aeca-dbde-4ec9-d42d-33a6abdf9689"
      },
      "outputs": [
        {
          "output_type": "execute_result",
          "data": {
            "text/plain": [
              "8.0"
            ]
          },
          "metadata": {},
          "execution_count": 362
        }
      ],
      "source": [
        "u_1 = n_1 * n_2 + ((n_1 * (n_1 + 1)) / (2)) - R_1\n",
        "u_1"
      ]
    },
    {
      "cell_type": "code",
      "execution_count": null,
      "metadata": {
        "id": "rFYBYtf9psnE",
        "colab": {
          "base_uri": "https://localhost:8080/"
        },
        "outputId": "4118e4cc-0020-4fd6-d766-333a713464a5"
      },
      "outputs": [
        {
          "output_type": "execute_result",
          "data": {
            "text/plain": [
              "40.0"
            ]
          },
          "metadata": {},
          "execution_count": 363
        }
      ],
      "source": [
        "u_2 = n_1 * n_2 + ((n_2 * (n_2 + 1)) / (2)) - R_2\n",
        "u_2"
      ]
    },
    {
      "cell_type": "code",
      "execution_count": null,
      "metadata": {
        "id": "2TodtD_jpsnF",
        "colab": {
          "base_uri": "https://localhost:8080/"
        },
        "outputId": "48f55107-eff8-4e25-fdb2-296332fe14fe"
      },
      "outputs": [
        {
          "output_type": "execute_result",
          "data": {
            "text/plain": [
              "8.0"
            ]
          },
          "metadata": {},
          "execution_count": 364
        }
      ],
      "source": [
        "u = min(u_1, u_2)\n",
        "u"
      ]
    },
    {
      "cell_type": "markdown",
      "metadata": {
        "id": "v9JqAVXTpsnH"
      },
      "source": [
        "### Obter $\\mu{(u)}$\n",
        "\n",
        "# $$\\mu{(u)} = \\frac{n_1 \\times n_2}{2}$$"
      ]
    },
    {
      "cell_type": "code",
      "execution_count": null,
      "metadata": {
        "id": "ANX33u8upsnH",
        "colab": {
          "base_uri": "https://localhost:8080/"
        },
        "outputId": "56f8491f-09f1-42e0-8f1f-8bbc0550a532"
      },
      "outputs": [
        {
          "output_type": "execute_result",
          "data": {
            "text/plain": [
              "24.0"
            ]
          },
          "metadata": {},
          "execution_count": 365
        }
      ],
      "source": [
        "mu_u = (n_1 * n_2) / 2\n",
        "mu_u"
      ]
    },
    {
      "cell_type": "markdown",
      "metadata": {
        "id": "mAEF6gUVpsnI"
      },
      "source": [
        "### Obter $\\sigma{(u)}$\n",
        "\n",
        "# $$\\sigma{(u)} = \\sqrt{\\frac{n_1 \\times n_2 \\times (n_1 + n_2 + 1)}{12}}$$"
      ]
    },
    {
      "cell_type": "code",
      "execution_count": null,
      "metadata": {
        "id": "fyoNElj2psnI",
        "colab": {
          "base_uri": "https://localhost:8080/"
        },
        "outputId": "94f34ed9-d18d-41d5-9043-6d589b07f250"
      },
      "outputs": [
        {
          "output_type": "execute_result",
          "data": {
            "text/plain": [
              "7.745966692414834"
            ]
          },
          "metadata": {},
          "execution_count": 366
        }
      ],
      "source": [
        "sigma_u = np.sqrt(n_1 * n_2 * (n_1 + n_2 + 1) / 12)\n",
        "sigma_u"
      ]
    },
    {
      "cell_type": "markdown",
      "metadata": {
        "id": "T_s3WFVtpsnI"
      },
      "source": [
        "### Obter $Z$\n",
        "\n",
        "# $$Z = \\frac{u - \\mu{(u)}}{\\sigma{(u)}}$$"
      ]
    },
    {
      "cell_type": "code",
      "execution_count": null,
      "metadata": {
        "id": "YwySSfs1psnJ",
        "colab": {
          "base_uri": "https://localhost:8080/"
        },
        "outputId": "6e21f8db-4674-4721-c3dc-ef3077df28c1"
      },
      "outputs": [
        {
          "output_type": "execute_result",
          "data": {
            "text/plain": [
              "-2.07"
            ]
          },
          "metadata": {},
          "execution_count": 367
        }
      ],
      "source": [
        "Z = (u - mu_u) / sigma_u\n",
        "Z.round(2)"
      ]
    },
    {
      "cell_type": "markdown",
      "metadata": {
        "id": "ET0XFyyTpsnJ"
      },
      "source": [
        "![Estatística-Teste](https://caelum-online-public.s3.amazonaws.com/1229-estatistica-parte3/01/img024.png)"
      ]
    },
    {
      "cell_type": "markdown",
      "metadata": {
        "id": "qSMrqg9lpsnJ"
      },
      "source": [
        "---"
      ]
    },
    {
      "cell_type": "markdown",
      "metadata": {
        "id": "04hb7sbUpsnK"
      },
      "source": [
        "### **Passo 5** - Aceitação ou rejeição da hipótese nula"
      ]
    },
    {
      "cell_type": "markdown",
      "metadata": {
        "id": "u_jtIZQYpsnK"
      },
      "source": [
        "<img src='https://caelum-online-public.s3.amazonaws.com/1229-estatistica-parte3/01/img025.png' width='80%'>"
      ]
    },
    {
      "cell_type": "markdown",
      "metadata": {
        "id": "tKXPtt7ypsnK"
      },
      "source": [
        "### <font color='red'>Critério do valor crítico</font>\n",
        "\n",
        "> ### Rejeitar $H_0$ se $Z \\leq -t_{\\alpha}$"
      ]
    },
    {
      "cell_type": "code",
      "execution_count": null,
      "metadata": {
        "id": "YUnoj7r5psnK",
        "colab": {
          "base_uri": "https://localhost:8080/"
        },
        "outputId": "8d98933f-0ee7-485f-ccf7-9427d45570a5"
      },
      "outputs": [
        {
          "output_type": "execute_result",
          "data": {
            "text/plain": [
              "True"
            ]
          },
          "metadata": {},
          "execution_count": 368
        }
      ],
      "source": [
        "Z <= t_alpha"
      ]
    },
    {
      "cell_type": "markdown",
      "metadata": {
        "id": "2vh3CcxgpsnM"
      },
      "source": [
        "### <font color='green'>Conclusão: Rejeitamos a hipótese de que não existe diferença entre os grupos, isto é, concluímos que a média das rendas dos chefes de domicílios do sexo feminino é menor que a média das rendas dos chefes de domicílios do sexo masculino. Confirmando a alegação de desigualdade de renda entre os sexos.</font>"
      ]
    },
    {
      "cell_type": "markdown",
      "metadata": {
        "id": "EJiw3TwCpsnM"
      },
      "source": [
        "### <font color='red'>Critério do valor $p$</font>\n",
        "\n",
        "> ### Rejeitar $H_0$ se o valor $p\\leq\\alpha$"
      ]
    },
    {
      "cell_type": "markdown",
      "metadata": {
        "id": "U__FbtXEpsnM"
      },
      "source": [
        "https://docs.scipy.org/doc/scipy/reference/generated/scipy.stats.mannwhitneyu.html"
      ]
    },
    {
      "cell_type": "code",
      "execution_count": null,
      "metadata": {
        "id": "b21fe4hQpsnM"
      },
      "outputs": [],
      "source": [
        "from scipy.stats import mannwhitneyu"
      ]
    },
    {
      "cell_type": "markdown",
      "source": [
        "Mulheres é o primeiro parâmetro, o segundo Homens e o já conhecido Alternative, só que neste caso o inferior é less."
      ],
      "metadata": {
        "id": "E-zyKUnhy5Ts"
      }
    },
    {
      "cell_type": "code",
      "execution_count": null,
      "metadata": {
        "id": "xBG8n1qPpsnN",
        "colab": {
          "base_uri": "https://localhost:8080/"
        },
        "outputId": "f65c0528-19c6-489e-d904-c6f25855846c"
      },
      "outputs": [
        {
          "output_type": "stream",
          "name": "stdout",
          "text": [
            "8.0\n",
            "0.022221119551528605\n"
          ]
        }
      ],
      "source": [
        "u, p_valor = mannwhitneyu(mulheres, homens, alternative='less')\n",
        "print(u)\n",
        "print(p_valor)"
      ]
    },
    {
      "cell_type": "code",
      "execution_count": null,
      "metadata": {
        "id": "DIo9w6wNpsnO",
        "colab": {
          "base_uri": "https://localhost:8080/"
        },
        "outputId": "97aee521-32b0-4544-c9a3-37794db972b8"
      },
      "outputs": [
        {
          "output_type": "execute_result",
          "data": {
            "text/plain": [
              "True"
            ]
          },
          "metadata": {},
          "execution_count": 371
        }
      ],
      "source": [
        "p_valor <= significancia"
      ]
    },
    {
      "cell_type": "markdown",
      "source": [
        "# **Exercicio: Testando Teorias**\n",
        "\n",
        "Um professor acredita que alunos que praticam exercícios físicos têm uma performance média escolar superior àquela obtida por alunos que não praticam. Para provar sua teoria, selecionou duas amostras aleatórias, uma com 9 alunos que não praticam exercícios físicos e outra com 10 alunos que cultivam o hábito de se exercitar. A tabela abaixo mostra as notas dos alunos no último ano:\n",
        "\n",
        "![image.png](data:image/png;base64,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)\n",
        "\n",
        "\n",
        "Teste a hipótese da média das notas dos alunos que praticam exercícios ser maior que a média das notas dos alunos que não praticam. Assinale a alternativa que apresenta o resultado do teste (estatística de teste u e decisão do teste). Considere um nível de significância de 10%."
      ],
      "metadata": {
        "id": "NZMfXY--xLz9"
      }
    },
    {
      "cell_type": "code",
      "source": [
        "from scipy.stats import mannwhitneyu"
      ],
      "metadata": {
        "id": "qq-dUNp37Mja"
      },
      "execution_count": null,
      "outputs": []
    },
    {
      "cell_type": "code",
      "source": [
        "sem_exercicios = pd.Series([7, 6, 7, 8, 6, 8, 8, 9, 5])\n",
        "com_exercicios = pd.Series([8, 7, 6, 6, 8, 6, 10, 6, 7, 8])"
      ],
      "metadata": {
        "id": "fLAFQWsQxW-k"
      },
      "execution_count": null,
      "outputs": []
    },
    {
      "cell_type": "markdown",
      "source": [
        "### $\\mu_S \\Rightarrow$ Média dos alunos que não praticam exercicios físicos.\n",
        "### $\\mu_C \\Rightarrow$ Média dos alunos que praticam exercicios físicos.\n",
        "\n",
        "### $\n",
        "\\begin{cases}\n",
        "H_0: \\mu_S = \\mu_C\\\\\n",
        "H_1: \\mu_S < \\mu_C\n",
        "\\end{cases}\n",
        "$"
      ],
      "metadata": {
        "id": "H6ZVGn1w5fbj"
      }
    },
    {
      "cell_type": "code",
      "source": [
        "significancia = 0.1"
      ],
      "metadata": {
        "id": "uDMK-M7Txomc"
      },
      "execution_count": null,
      "outputs": []
    },
    {
      "cell_type": "code",
      "source": [
        "u, p_valor = mannwhitneyu(com_exercicios, sem_exercicios, alternative='greater')\n",
        "print(u)\n",
        "print(p_valor)"
      ],
      "metadata": {
        "colab": {
          "base_uri": "https://localhost:8080/"
        },
        "id": "UgVyVtbuxoK0",
        "outputId": "5f18faa5-9f0e-4f18-b9dd-44868b95e944"
      },
      "execution_count": null,
      "outputs": [
        {
          "output_type": "stream",
          "name": "stdout",
          "text": [
            "44.5\n",
            "0.533740010164148\n"
          ]
        }
      ]
    },
    {
      "cell_type": "code",
      "source": [
        "p_valor <= significancia"
      ],
      "metadata": {
        "colab": {
          "base_uri": "https://localhost:8080/"
        },
        "id": "ngZPognU7Wtb",
        "outputId": "de8c89e2-fb7b-4421-90bf-e96d078cb999"
      },
      "execution_count": null,
      "outputs": [
        {
          "output_type": "execute_result",
          "data": {
            "text/plain": [
              "False"
            ]
          },
          "metadata": {},
          "execution_count": 376
        }
      ]
    },
    {
      "cell_type": "markdown",
      "source": [
        "fim"
      ],
      "metadata": {
        "id": "DRKpxFoP1C2Z"
      }
    }
  ],
  "metadata": {
    "colab": {
      "collapsed_sections": [
        "cVgsZ_E3jQKg",
        "nk65O0lepz57"
      ],
      "provenance": [],
      "toc_visible": true,
      "include_colab_link": true
    },
    "kernelspec": {
      "display_name": "Python 3",
      "language": "python",
      "name": "python3"
    },
    "language_info": {
      "codemirror_mode": {
        "name": "ipython",
        "version": 3
      },
      "file_extension": ".py",
      "mimetype": "text/x-python",
      "name": "python",
      "nbconvert_exporter": "python",
      "pygments_lexer": "ipython3",
      "version": "3.6.5"
    }
  },
  "nbformat": 4,
  "nbformat_minor": 0
}